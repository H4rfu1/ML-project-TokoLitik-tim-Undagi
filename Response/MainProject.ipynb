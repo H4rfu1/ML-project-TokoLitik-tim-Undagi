{
  "nbformat": 4,
  "nbformat_minor": 0,
  "metadata": {
    "colab": {
      "name": "MainProject.ipynb",
      "provenance": [],
      "collapsed_sections": [
        "qwStiV9pLsKN",
        "F6XGTeByj9OA",
        "RYqAyN2Qj9OG",
        "auzp_8R6j9OK",
        "hlRxVlgXj9OR",
        "FtOonbh9j9OS",
        "s0kSt7l9r9gq",
        "S2y8NYwHgaNN",
        "OVNVV-MSM69Z",
        "uJ-yFnEdE0tO",
        "K6oVlLxtE0tW"
      ]
    },
    "kernelspec": {
      "name": "python3",
      "display_name": "Python 3"
    }
  },
  "cells": [
    {
      "cell_type": "markdown",
      "metadata": {
        "id": "7PiOS4A0lIFT"
      },
      "source": [
        "Main Project building testing and evaluation"
      ]
    },
    {
      "cell_type": "markdown",
      "metadata": {
        "id": "qwStiV9pLsKN"
      },
      "source": [
        "# Import Required Library"
      ]
    },
    {
      "cell_type": "code",
      "metadata": {
        "id": "lMAb6ZOxLk5V"
      },
      "source": [
        "# Import Dependencies\n",
        "%matplotlib inline\n",
        "\n",
        "# Start Python Imports\n",
        "import math, time, random, datetime, re, string, zipfile\n",
        "\n",
        "# Data Manipulation\n",
        "import numpy as np\n",
        "import pandas as pd\n",
        "import tensorflow as tf\n",
        "\n",
        "# Visualization \n",
        "import matplotlib.pyplot as plt\n",
        "import missingno\n",
        "import seaborn as sns\n",
        "plt.style.use('seaborn-whitegrid')\n",
        "\n",
        "# Preprocessing\n",
        "import nltk\n",
        "from nltk.tokenize import sent_tokenize, word_tokenize\n",
        "from nltk.corpus import stopwords\n",
        "from sklearn.preprocessing import OneHotEncoder, LabelEncoder, label_binarize\n",
        "from sklearn.feature_extraction.text import TfidfVectorizer\n",
        "from sklearn.model_selection import train_test_split\n",
        "from sklearn.ensemble import RandomForestClassifier\n",
        "from sklearn.metrics import confusion_matrix\n",
        "from tensorflow.keras.preprocessing.text import Tokenizer\n",
        "from tensorflow.keras.preprocessing.sequence import pad_sequences\n",
        "\n",
        "\n",
        "\n",
        "# Machine learning\n",
        "from sklearn.model_selection import train_test_split\n",
        "from sklearn import model_selection, tree, preprocessing, metrics, linear_model\n",
        "from sklearn.svm import LinearSVC\n",
        "from sklearn.ensemble import GradientBoostingClassifier\n",
        "from sklearn.neighbors import KNeighborsClassifier\n",
        "from sklearn.naive_bayes import GaussianNB\n",
        "from sklearn.linear_model import LinearRegression, LogisticRegression, SGDClassifier\n",
        "from sklearn.tree import DecisionTreeClassifier\n",
        "\n",
        "# Let's be rebels and ignore warnings for now\n",
        "import warnings\n",
        "warnings.filterwarnings('ignore')"
      ],
      "execution_count": 5,
      "outputs": []
    },
    {
      "cell_type": "markdown",
      "metadata": {
        "id": "F6XGTeByj9OA"
      },
      "source": [
        "#**Check Top Machine Learning Algorithm efectiveness**"
      ]
    },
    {
      "cell_type": "markdown",
      "metadata": {
        "id": "RYqAyN2Qj9OG"
      },
      "source": [
        "## Load Dataset"
      ]
    },
    {
      "cell_type": "code",
      "metadata": {
        "colab": {
          "base_uri": "https://localhost:8080/"
        },
        "id": "x2Bysa71j9OH",
        "outputId": "94b87269-f6ae-4252-e351-23cbf8c8c866"
      },
      "source": [
        "!wget https://raw.githubusercontent.com/H4rfu1/ML-project-TokoLitik-tim-Undagi/main/Response/dataset_review_tokped_labelled.csv"
      ],
      "execution_count": null,
      "outputs": [
        {
          "output_type": "stream",
          "text": [
            "--2021-05-11 22:58:07--  https://raw.githubusercontent.com/H4rfu1/ML-project-TokoLitik-tim-Undagi/main/Response/dataset_review_tokped_labelled.csv\n",
            "Resolving raw.githubusercontent.com (raw.githubusercontent.com)... 185.199.110.133, 185.199.108.133, 185.199.111.133, ...\n",
            "Connecting to raw.githubusercontent.com (raw.githubusercontent.com)|185.199.110.133|:443... connected.\n",
            "HTTP request sent, awaiting response... 200 OK\n",
            "Length: 294589 (288K) [text/plain]\n",
            "Saving to: ‘dataset_review_tokped_labelled.csv.2’\n",
            "\n",
            "dataset_review_tokp 100%[===================>] 287.68K  --.-KB/s    in 0.04s   \n",
            "\n",
            "2021-05-11 22:58:08 (7.82 MB/s) - ‘dataset_review_tokped_labelled.csv.2’ saved [294589/294589]\n",
            "\n"
          ],
          "name": "stdout"
        }
      ]
    },
    {
      "cell_type": "code",
      "metadata": {
        "colab": {
          "base_uri": "https://localhost:8080/"
        },
        "id": "e2trliVNj9OJ",
        "outputId": "e3df329d-0752-4fc0-f879-5f6e8b82824f"
      },
      "source": [
        "#dataset from crawling process\n",
        "df = pd.read_csv('/content/dataset_review_tokped_labelled.csv')\n",
        "df"
      ],
      "execution_count": null,
      "outputs": [
        {
          "output_type": "execute_result",
          "data": {
            "text/html": [
              "<div>\n",
              "<style scoped>\n",
              "    .dataframe tbody tr th:only-of-type {\n",
              "        vertical-align: middle;\n",
              "    }\n",
              "\n",
              "    .dataframe tbody tr th {\n",
              "        vertical-align: top;\n",
              "    }\n",
              "\n",
              "    .dataframe thead th {\n",
              "        text-align: right;\n",
              "    }\n",
              "</style>\n",
              "<table border=\"1\" class=\"dataframe\">\n",
              "  <thead>\n",
              "    <tr style=\"text-align: right;\">\n",
              "      <th></th>\n",
              "      <th>Review</th>\n",
              "      <th>Rating</th>\n",
              "      <th>Sentiment</th>\n",
              "    </tr>\n",
              "  </thead>\n",
              "  <tbody>\n",
              "    <tr>\n",
              "      <th>0</th>\n",
              "      <td>enak kuacinya</td>\n",
              "      <td>5</td>\n",
              "      <td>positive</td>\n",
              "    </tr>\n",
              "    <tr>\n",
              "      <th>1</th>\n",
              "      <td>pengiriman cepat packing bagus sesuai pesanan ...</td>\n",
              "      <td>5</td>\n",
              "      <td>positive</td>\n",
              "    </tr>\n",
              "    <tr>\n",
              "      <th>2</th>\n",
              "      <td>pengemasan luar biasa baik untuk rasa menurut ...</td>\n",
              "      <td>4</td>\n",
              "      <td>negative</td>\n",
              "    </tr>\n",
              "    <tr>\n",
              "      <th>3</th>\n",
              "      <td>terimakasih min</td>\n",
              "      <td>5</td>\n",
              "      <td>neutral</td>\n",
              "    </tr>\n",
              "    <tr>\n",
              "      <th>4</th>\n",
              "      <td>udah order untuk kesekian kali jos</td>\n",
              "      <td>5</td>\n",
              "      <td>neutral</td>\n",
              "    </tr>\n",
              "    <tr>\n",
              "      <th>...</th>\n",
              "      <td>...</td>\n",
              "      <td>...</td>\n",
              "      <td>...</td>\n",
              "    </tr>\n",
              "    <tr>\n",
              "      <th>4055</th>\n",
              "      <td>seller sangat responsif rasa belum dicoba kare...</td>\n",
              "      <td>5</td>\n",
              "      <td>neutral</td>\n",
              "    </tr>\n",
              "    <tr>\n",
              "      <th>4056</th>\n",
              "      <td>imut2 banget packing aman</td>\n",
              "      <td>5</td>\n",
              "      <td>positive</td>\n",
              "    </tr>\n",
              "    <tr>\n",
              "      <th>4057</th>\n",
              "      <td>good product trusted seller</td>\n",
              "      <td>5</td>\n",
              "      <td>positive</td>\n",
              "    </tr>\n",
              "    <tr>\n",
              "      <th>4058</th>\n",
              "      <td>sudah beli yg ke 3</td>\n",
              "      <td>5</td>\n",
              "      <td>neutral</td>\n",
              "    </tr>\n",
              "    <tr>\n",
              "      <th>4059</th>\n",
              "      <td>byk campurannya</td>\n",
              "      <td>4</td>\n",
              "      <td>neutral</td>\n",
              "    </tr>\n",
              "  </tbody>\n",
              "</table>\n",
              "<p>4060 rows × 3 columns</p>\n",
              "</div>"
            ],
            "text/plain": [
              "                                                 Review  Rating Sentiment\n",
              "0                                         enak kuacinya       5  positive\n",
              "1     pengiriman cepat packing bagus sesuai pesanan ...       5  positive\n",
              "2     pengemasan luar biasa baik untuk rasa menurut ...       4  negative\n",
              "3                                       terimakasih min       5   neutral\n",
              "4                    udah order untuk kesekian kali jos       5   neutral\n",
              "...                                                 ...     ...       ...\n",
              "4055  seller sangat responsif rasa belum dicoba kare...       5   neutral\n",
              "4056                          imut2 banget packing aman       5  positive\n",
              "4057                        good product trusted seller       5  positive\n",
              "4058                                 sudah beli yg ke 3       5   neutral\n",
              "4059                                    byk campurannya       4   neutral\n",
              "\n",
              "[4060 rows x 3 columns]"
            ]
          },
          "metadata": {
            "tags": []
          },
          "execution_count": 9
        }
      ]
    },
    {
      "cell_type": "markdown",
      "metadata": {
        "id": "auzp_8R6j9OK"
      },
      "source": [
        "## Check Dataset"
      ]
    },
    {
      "cell_type": "code",
      "metadata": {
        "colab": {
          "base_uri": "https://localhost:8080/"
        },
        "id": "KgL8Z-tnj9OK",
        "outputId": "6d96ece4-6bd5-4e2a-c2c7-984beb7a9dd6"
      },
      "source": [
        "pd.value_counts(df['Sentiment']).plot.bar()"
      ],
      "execution_count": null,
      "outputs": [
        {
          "output_type": "execute_result",
          "data": {
            "text/plain": [
              "<matplotlib.axes._subplots.AxesSubplot at 0x7f5f034bb4d0>"
            ]
          },
          "metadata": {
            "tags": []
          },
          "execution_count": 10
        },
        {
          "output_type": "display_data",
          "data": {
            "image/png": "[encoded data removed]",
            "text/plain": [
              "<Figure size 432x288 with 1 Axes>"
            ]
          },
          "metadata": {
            "tags": []
          }
        }
      ]
    },
    {
      "cell_type": "code",
      "metadata": {
        "colab": {
          "base_uri": "https://localhost:8080/"
        },
        "id": "cFlOphXQj9OL",
        "outputId": "16b1991a-7c56-482d-a320-9fbc9ba98480"
      },
      "source": [
        "#to check shape of the dataset\n",
        "print(df.shape) \n",
        "\n",
        "#to look the header of dataset\n",
        "df.info()\n"
      ],
      "execution_count": null,
      "outputs": [
        {
          "output_type": "stream",
          "text": [
            "(4060, 3)\n",
            "<class 'pandas.core.frame.DataFrame'>\n",
            "RangeIndex: 4060 entries, 0 to 4059\n",
            "Data columns (total 3 columns):\n",
            " #   Column     Non-Null Count  Dtype \n",
            "---  ------     --------------  ----- \n",
            " 0   Review     4060 non-null   object\n",
            " 1   Rating     4060 non-null   int64 \n",
            " 2   Sentiment  4060 non-null   object\n",
            "dtypes: int64(1), object(2)\n",
            "memory usage: 95.3+ KB\n"
          ],
          "name": "stdout"
        }
      ]
    },
    {
      "cell_type": "markdown",
      "metadata": {
        "id": "yRukPDJ_j9OM"
      },
      "source": [
        "## Peprocess Dataset"
      ]
    },
    {
      "cell_type": "code",
      "metadata": {
        "colab": {
          "base_uri": "https://localhost:8080/"
        },
        "id": "vJDNhygtZzj-",
        "outputId": "e89ace0a-2c2b-4fc9-d86c-7cd0f9a57808"
      },
      "source": [
        "#removing stopwords\n",
        "nltk.download('stopwords')\n",
        "def stopword(sentence):\n",
        "    review = [words for words in sentence.split() if words not in set(stopwords.words('indonesian'))]\n",
        "    review = ' '.join(review)\n",
        "    return review\n",
        "\n",
        "df['Review'] = df['Review'].apply(stopword)\n",
        "df"
      ],
      "execution_count": null,
      "outputs": [
        {
          "output_type": "stream",
          "text": [
            "[nltk_data] Downloading package stopwords to /root/nltk_data...\n",
            "[nltk_data]   Package stopwords is already up-to-date!\n"
          ],
          "name": "stdout"
        },
        {
          "output_type": "execute_result",
          "data": {
            "text/html": [
              "<div>\n",
              "<style scoped>\n",
              "    .dataframe tbody tr th:only-of-type {\n",
              "        vertical-align: middle;\n",
              "    }\n",
              "\n",
              "    .dataframe tbody tr th {\n",
              "        vertical-align: top;\n",
              "    }\n",
              "\n",
              "    .dataframe thead th {\n",
              "        text-align: right;\n",
              "    }\n",
              "</style>\n",
              "<table border=\"1\" class=\"dataframe\">\n",
              "  <thead>\n",
              "    <tr style=\"text-align: right;\">\n",
              "      <th></th>\n",
              "      <th>Review</th>\n",
              "      <th>Rating</th>\n",
              "      <th>Sentiment</th>\n",
              "    </tr>\n",
              "  </thead>\n",
              "  <tbody>\n",
              "    <tr>\n",
              "      <th>0</th>\n",
              "      <td>enak kuacinya</td>\n",
              "      <td>5</td>\n",
              "      <td>positive</td>\n",
              "    </tr>\n",
              "    <tr>\n",
              "      <th>1</th>\n",
              "      <td>pengiriman cepat packing bagus sesuai pesanan ...</td>\n",
              "      <td>5</td>\n",
              "      <td>positive</td>\n",
              "    </tr>\n",
              "    <tr>\n",
              "      <th>2</th>\n",
              "      <td>pengemasan dominan original atw asli kuacinya ...</td>\n",
              "      <td>4</td>\n",
              "      <td>negative</td>\n",
              "    </tr>\n",
              "    <tr>\n",
              "      <th>3</th>\n",
              "      <td>terimakasih min</td>\n",
              "      <td>5</td>\n",
              "      <td>neutral</td>\n",
              "    </tr>\n",
              "    <tr>\n",
              "      <th>4</th>\n",
              "      <td>udah order kesekian kali jos</td>\n",
              "      <td>5</td>\n",
              "      <td>neutral</td>\n",
              "    </tr>\n",
              "    <tr>\n",
              "      <th>...</th>\n",
              "      <td>...</td>\n",
              "      <td>...</td>\n",
              "      <td>...</td>\n",
              "    </tr>\n",
              "    <tr>\n",
              "      <th>4055</th>\n",
              "      <td>seller responsif dicoba dibuka</td>\n",
              "      <td>5</td>\n",
              "      <td>neutral</td>\n",
              "    </tr>\n",
              "    <tr>\n",
              "      <th>4056</th>\n",
              "      <td>imut2 banget packing aman</td>\n",
              "      <td>5</td>\n",
              "      <td>positive</td>\n",
              "    </tr>\n",
              "    <tr>\n",
              "      <th>4057</th>\n",
              "      <td>good product trusted seller</td>\n",
              "      <td>5</td>\n",
              "      <td>positive</td>\n",
              "    </tr>\n",
              "    <tr>\n",
              "      <th>4058</th>\n",
              "      <td>beli yg 3</td>\n",
              "      <td>5</td>\n",
              "      <td>neutral</td>\n",
              "    </tr>\n",
              "    <tr>\n",
              "      <th>4059</th>\n",
              "      <td>byk campurannya</td>\n",
              "      <td>4</td>\n",
              "      <td>neutral</td>\n",
              "    </tr>\n",
              "  </tbody>\n",
              "</table>\n",
              "<p>4060 rows × 3 columns</p>\n",
              "</div>"
            ],
            "text/plain": [
              "                                                 Review  Rating Sentiment\n",
              "0                                         enak kuacinya       5  positive\n",
              "1     pengiriman cepat packing bagus sesuai pesanan ...       5  positive\n",
              "2     pengemasan dominan original atw asli kuacinya ...       4  negative\n",
              "3                                       terimakasih min       5   neutral\n",
              "4                          udah order kesekian kali jos       5   neutral\n",
              "...                                                 ...     ...       ...\n",
              "4055                     seller responsif dicoba dibuka       5   neutral\n",
              "4056                          imut2 banget packing aman       5  positive\n",
              "4057                        good product trusted seller       5  positive\n",
              "4058                                          beli yg 3       5   neutral\n",
              "4059                                    byk campurannya       4   neutral\n",
              "\n",
              "[4060 rows x 3 columns]"
            ]
          },
          "metadata": {
            "tags": []
          },
          "execution_count": 12
        }
      ]
    },
    {
      "cell_type": "code",
      "metadata": {
        "colab": {
          "base_uri": "https://localhost:8080/"
        },
        "id": "Tq0A2Tg7j9OO",
        "outputId": "6e26023b-f0ac-446a-972c-70567a6b3fc3"
      },
      "source": [
        "#remove repeated char\n",
        "# continously repeating character\n",
        "# from the word \n",
        "def conti_rep_char(str1):\n",
        "    tchr = str1.group(0)\n",
        "    if len(tchr) > 1:\n",
        "      return tchr[0:1]\n",
        "# define a function to check\n",
        "# whether unique character \n",
        "# is present or not\n",
        "def check_unique_char(rep, sent_text):\n",
        "    # regular expression for \n",
        "    # repetion of characters\n",
        "    convert = re.sub(r'(\\w)\\1+', \n",
        "                     rep,\n",
        "                     sent_text)\n",
        "      \n",
        "    # returing the converted word\n",
        "    return convert\n",
        "\n",
        "df['Review'] = df['Review'].apply(lambda x : check_unique_char(conti_rep_char, x))\n",
        "df"
      ],
      "execution_count": null,
      "outputs": [
        {
          "output_type": "execute_result",
          "data": {
            "text/html": [
              "<div>\n",
              "<style scoped>\n",
              "    .dataframe tbody tr th:only-of-type {\n",
              "        vertical-align: middle;\n",
              "    }\n",
              "\n",
              "    .dataframe tbody tr th {\n",
              "        vertical-align: top;\n",
              "    }\n",
              "\n",
              "    .dataframe thead th {\n",
              "        text-align: right;\n",
              "    }\n",
              "</style>\n",
              "<table border=\"1\" class=\"dataframe\">\n",
              "  <thead>\n",
              "    <tr style=\"text-align: right;\">\n",
              "      <th></th>\n",
              "      <th>Review</th>\n",
              "      <th>Rating</th>\n",
              "      <th>Sentiment</th>\n",
              "    </tr>\n",
              "  </thead>\n",
              "  <tbody>\n",
              "    <tr>\n",
              "      <th>0</th>\n",
              "      <td>enak kuacinya</td>\n",
              "      <td>5</td>\n",
              "      <td>positive</td>\n",
              "    </tr>\n",
              "    <tr>\n",
              "      <th>1</th>\n",
              "      <td>pengiriman cepat packing bagus sesuai pesanan ...</td>\n",
              "      <td>5</td>\n",
              "      <td>positive</td>\n",
              "    </tr>\n",
              "    <tr>\n",
              "      <th>2</th>\n",
              "      <td>pengemasan dominan original atw asli kuacinya ...</td>\n",
              "      <td>4</td>\n",
              "      <td>negative</td>\n",
              "    </tr>\n",
              "    <tr>\n",
              "      <th>3</th>\n",
              "      <td>terimakasih min</td>\n",
              "      <td>5</td>\n",
              "      <td>neutral</td>\n",
              "    </tr>\n",
              "    <tr>\n",
              "      <th>4</th>\n",
              "      <td>udah order kesekian kali jos</td>\n",
              "      <td>5</td>\n",
              "      <td>neutral</td>\n",
              "    </tr>\n",
              "    <tr>\n",
              "      <th>...</th>\n",
              "      <td>...</td>\n",
              "      <td>...</td>\n",
              "      <td>...</td>\n",
              "    </tr>\n",
              "    <tr>\n",
              "      <th>4055</th>\n",
              "      <td>seler responsif dicoba dibuka</td>\n",
              "      <td>5</td>\n",
              "      <td>neutral</td>\n",
              "    </tr>\n",
              "    <tr>\n",
              "      <th>4056</th>\n",
              "      <td>imut2 banget packing aman</td>\n",
              "      <td>5</td>\n",
              "      <td>positive</td>\n",
              "    </tr>\n",
              "    <tr>\n",
              "      <th>4057</th>\n",
              "      <td>god product trusted seler</td>\n",
              "      <td>5</td>\n",
              "      <td>positive</td>\n",
              "    </tr>\n",
              "    <tr>\n",
              "      <th>4058</th>\n",
              "      <td>beli yg 3</td>\n",
              "      <td>5</td>\n",
              "      <td>neutral</td>\n",
              "    </tr>\n",
              "    <tr>\n",
              "      <th>4059</th>\n",
              "      <td>byk campuranya</td>\n",
              "      <td>4</td>\n",
              "      <td>neutral</td>\n",
              "    </tr>\n",
              "  </tbody>\n",
              "</table>\n",
              "<p>4060 rows × 3 columns</p>\n",
              "</div>"
            ],
            "text/plain": [
              "                                                 Review  Rating Sentiment\n",
              "0                                         enak kuacinya       5  positive\n",
              "1     pengiriman cepat packing bagus sesuai pesanan ...       5  positive\n",
              "2     pengemasan dominan original atw asli kuacinya ...       4  negative\n",
              "3                                       terimakasih min       5   neutral\n",
              "4                          udah order kesekian kali jos       5   neutral\n",
              "...                                                 ...     ...       ...\n",
              "4055                      seler responsif dicoba dibuka       5   neutral\n",
              "4056                          imut2 banget packing aman       5  positive\n",
              "4057                          god product trusted seler       5  positive\n",
              "4058                                          beli yg 3       5   neutral\n",
              "4059                                     byk campuranya       4   neutral\n",
              "\n",
              "[4060 rows x 3 columns]"
            ]
          },
          "metadata": {
            "tags": []
          },
          "execution_count": 13
        }
      ]
    },
    {
      "cell_type": "code",
      "metadata": {
        "colab": {
          "base_uri": "https://localhost:8080/"
        },
        "id": "-yyEkP8kj9OM",
        "outputId": "27c62558-c857-40db-eb7c-aa23e123d435"
      },
      "source": [
        "#removing stopwords\n",
        "nltk.download('stopwords')\n",
        "def stopword(sentence):\n",
        "    review = [words for words in sentence.split() if words not in set(stopwords.words('indonesian'))]\n",
        "    review = ' '.join(review)\n",
        "    return review\n",
        "\n",
        "df['Review'] = df['Review'].apply(stopword)\n",
        "df"
      ],
      "execution_count": null,
      "outputs": [
        {
          "output_type": "stream",
          "text": [
            "[nltk_data] Downloading package stopwords to /root/nltk_data...\n",
            "[nltk_data]   Package stopwords is already up-to-date!\n"
          ],
          "name": "stdout"
        },
        {
          "output_type": "execute_result",
          "data": {
            "text/html": [
              "<div>\n",
              "<style scoped>\n",
              "    .dataframe tbody tr th:only-of-type {\n",
              "        vertical-align: middle;\n",
              "    }\n",
              "\n",
              "    .dataframe tbody tr th {\n",
              "        vertical-align: top;\n",
              "    }\n",
              "\n",
              "    .dataframe thead th {\n",
              "        text-align: right;\n",
              "    }\n",
              "</style>\n",
              "<table border=\"1\" class=\"dataframe\">\n",
              "  <thead>\n",
              "    <tr style=\"text-align: right;\">\n",
              "      <th></th>\n",
              "      <th>Review</th>\n",
              "      <th>Rating</th>\n",
              "      <th>Sentiment</th>\n",
              "    </tr>\n",
              "  </thead>\n",
              "  <tbody>\n",
              "    <tr>\n",
              "      <th>0</th>\n",
              "      <td>enak kuacinya</td>\n",
              "      <td>5</td>\n",
              "      <td>positive</td>\n",
              "    </tr>\n",
              "    <tr>\n",
              "      <th>1</th>\n",
              "      <td>pengiriman cepat packing bagus sesuai pesanan ...</td>\n",
              "      <td>5</td>\n",
              "      <td>positive</td>\n",
              "    </tr>\n",
              "    <tr>\n",
              "      <th>2</th>\n",
              "      <td>pengemasan dominan original atw asli kuacinya ...</td>\n",
              "      <td>4</td>\n",
              "      <td>negative</td>\n",
              "    </tr>\n",
              "    <tr>\n",
              "      <th>3</th>\n",
              "      <td>terimakasih min</td>\n",
              "      <td>5</td>\n",
              "      <td>neutral</td>\n",
              "    </tr>\n",
              "    <tr>\n",
              "      <th>4</th>\n",
              "      <td>udah order kesekian kali jos</td>\n",
              "      <td>5</td>\n",
              "      <td>neutral</td>\n",
              "    </tr>\n",
              "    <tr>\n",
              "      <th>...</th>\n",
              "      <td>...</td>\n",
              "      <td>...</td>\n",
              "      <td>...</td>\n",
              "    </tr>\n",
              "    <tr>\n",
              "      <th>4055</th>\n",
              "      <td>seler responsif dicoba dibuka</td>\n",
              "      <td>5</td>\n",
              "      <td>neutral</td>\n",
              "    </tr>\n",
              "    <tr>\n",
              "      <th>4056</th>\n",
              "      <td>imut2 banget packing aman</td>\n",
              "      <td>5</td>\n",
              "      <td>positive</td>\n",
              "    </tr>\n",
              "    <tr>\n",
              "      <th>4057</th>\n",
              "      <td>god product trusted seler</td>\n",
              "      <td>5</td>\n",
              "      <td>positive</td>\n",
              "    </tr>\n",
              "    <tr>\n",
              "      <th>4058</th>\n",
              "      <td>beli yg 3</td>\n",
              "      <td>5</td>\n",
              "      <td>neutral</td>\n",
              "    </tr>\n",
              "    <tr>\n",
              "      <th>4059</th>\n",
              "      <td>byk campuranya</td>\n",
              "      <td>4</td>\n",
              "      <td>neutral</td>\n",
              "    </tr>\n",
              "  </tbody>\n",
              "</table>\n",
              "<p>4060 rows × 3 columns</p>\n",
              "</div>"
            ],
            "text/plain": [
              "                                                 Review  Rating Sentiment\n",
              "0                                         enak kuacinya       5  positive\n",
              "1     pengiriman cepat packing bagus sesuai pesanan ...       5  positive\n",
              "2     pengemasan dominan original atw asli kuacinya ...       4  negative\n",
              "3                                       terimakasih min       5   neutral\n",
              "4                          udah order kesekian kali jos       5   neutral\n",
              "...                                                 ...     ...       ...\n",
              "4055                      seler responsif dicoba dibuka       5   neutral\n",
              "4056                          imut2 banget packing aman       5  positive\n",
              "4057                          god product trusted seler       5  positive\n",
              "4058                                          beli yg 3       5   neutral\n",
              "4059                                     byk campuranya       4   neutral\n",
              "\n",
              "[4060 rows x 3 columns]"
            ]
          },
          "metadata": {
            "tags": []
          },
          "execution_count": 14
        }
      ]
    },
    {
      "cell_type": "code",
      "metadata": {
        "colab": {
          "base_uri": "https://localhost:8080/"
        },
        "id": "xrb2_i2rZcGC",
        "outputId": "54a57875-f0e2-4e0f-874b-cd7d367b3616"
      },
      "source": [
        "#stemming\n",
        "from nltk import PorterStemmer \n",
        "ps = PorterStemmer() \n",
        "df['Review'] = df['Review'].apply(ps.stem)\n",
        "df"
      ],
      "execution_count": null,
      "outputs": [
        {
          "output_type": "execute_result",
          "data": {
            "text/html": [
              "<div>\n",
              "<style scoped>\n",
              "    .dataframe tbody tr th:only-of-type {\n",
              "        vertical-align: middle;\n",
              "    }\n",
              "\n",
              "    .dataframe tbody tr th {\n",
              "        vertical-align: top;\n",
              "    }\n",
              "\n",
              "    .dataframe thead th {\n",
              "        text-align: right;\n",
              "    }\n",
              "</style>\n",
              "<table border=\"1\" class=\"dataframe\">\n",
              "  <thead>\n",
              "    <tr style=\"text-align: right;\">\n",
              "      <th></th>\n",
              "      <th>Review</th>\n",
              "      <th>Rating</th>\n",
              "      <th>Sentiment</th>\n",
              "    </tr>\n",
              "  </thead>\n",
              "  <tbody>\n",
              "    <tr>\n",
              "      <th>0</th>\n",
              "      <td>enak kuacinya</td>\n",
              "      <td>5</td>\n",
              "      <td>positive</td>\n",
              "    </tr>\n",
              "    <tr>\n",
              "      <th>1</th>\n",
              "      <td>pengiriman cepat packing bagus sesuai pesanan ...</td>\n",
              "      <td>5</td>\n",
              "      <td>positive</td>\n",
              "    </tr>\n",
              "    <tr>\n",
              "      <th>2</th>\n",
              "      <td>pengemasan dominan original atw asli kuacinya ...</td>\n",
              "      <td>4</td>\n",
              "      <td>negative</td>\n",
              "    </tr>\n",
              "    <tr>\n",
              "      <th>3</th>\n",
              "      <td>terimakasih min</td>\n",
              "      <td>5</td>\n",
              "      <td>neutral</td>\n",
              "    </tr>\n",
              "    <tr>\n",
              "      <th>4</th>\n",
              "      <td>udah order kesekian kali jo</td>\n",
              "      <td>5</td>\n",
              "      <td>neutral</td>\n",
              "    </tr>\n",
              "    <tr>\n",
              "      <th>...</th>\n",
              "      <td>...</td>\n",
              "      <td>...</td>\n",
              "      <td>...</td>\n",
              "    </tr>\n",
              "    <tr>\n",
              "      <th>4055</th>\n",
              "      <td>seler responsif dicoba dibuka</td>\n",
              "      <td>5</td>\n",
              "      <td>neutral</td>\n",
              "    </tr>\n",
              "    <tr>\n",
              "      <th>4056</th>\n",
              "      <td>imut2 banget packing aman</td>\n",
              "      <td>5</td>\n",
              "      <td>positive</td>\n",
              "    </tr>\n",
              "    <tr>\n",
              "      <th>4057</th>\n",
              "      <td>god product trusted sel</td>\n",
              "      <td>5</td>\n",
              "      <td>positive</td>\n",
              "    </tr>\n",
              "    <tr>\n",
              "      <th>4058</th>\n",
              "      <td>beli yg 3</td>\n",
              "      <td>5</td>\n",
              "      <td>neutral</td>\n",
              "    </tr>\n",
              "    <tr>\n",
              "      <th>4059</th>\n",
              "      <td>byk campuranya</td>\n",
              "      <td>4</td>\n",
              "      <td>neutral</td>\n",
              "    </tr>\n",
              "  </tbody>\n",
              "</table>\n",
              "<p>4060 rows × 3 columns</p>\n",
              "</div>"
            ],
            "text/plain": [
              "                                                 Review  Rating Sentiment\n",
              "0                                         enak kuacinya       5  positive\n",
              "1     pengiriman cepat packing bagus sesuai pesanan ...       5  positive\n",
              "2     pengemasan dominan original atw asli kuacinya ...       4  negative\n",
              "3                                       terimakasih min       5   neutral\n",
              "4                           udah order kesekian kali jo       5   neutral\n",
              "...                                                 ...     ...       ...\n",
              "4055                      seler responsif dicoba dibuka       5   neutral\n",
              "4056                          imut2 banget packing aman       5  positive\n",
              "4057                            god product trusted sel       5  positive\n",
              "4058                                          beli yg 3       5   neutral\n",
              "4059                                     byk campuranya       4   neutral\n",
              "\n",
              "[4060 rows x 3 columns]"
            ]
          },
          "metadata": {
            "tags": []
          },
          "execution_count": 15
        }
      ]
    },
    {
      "cell_type": "code",
      "metadata": {
        "colab": {
          "base_uri": "https://localhost:8080/"
        },
        "id": "_zGbsuO7j9OP",
        "outputId": "5ac7358e-28fa-4a05-8404-5f363bccd1ab"
      },
      "source": [
        "print(df.shape)\n",
        "#Removes duplicates in place\n",
        "df.drop_duplicates(keep=False, inplace=True)\n",
        "print(df.shape) \n",
        "df"
      ],
      "execution_count": null,
      "outputs": [
        {
          "output_type": "stream",
          "text": [
            "(4060, 3)\n",
            "(3880, 3)\n"
          ],
          "name": "stdout"
        },
        {
          "output_type": "execute_result",
          "data": {
            "text/html": [
              "<div>\n",
              "<style scoped>\n",
              "    .dataframe tbody tr th:only-of-type {\n",
              "        vertical-align: middle;\n",
              "    }\n",
              "\n",
              "    .dataframe tbody tr th {\n",
              "        vertical-align: top;\n",
              "    }\n",
              "\n",
              "    .dataframe thead th {\n",
              "        text-align: right;\n",
              "    }\n",
              "</style>\n",
              "<table border=\"1\" class=\"dataframe\">\n",
              "  <thead>\n",
              "    <tr style=\"text-align: right;\">\n",
              "      <th></th>\n",
              "      <th>Review</th>\n",
              "      <th>Rating</th>\n",
              "      <th>Sentiment</th>\n",
              "    </tr>\n",
              "  </thead>\n",
              "  <tbody>\n",
              "    <tr>\n",
              "      <th>0</th>\n",
              "      <td>enak kuacinya</td>\n",
              "      <td>5</td>\n",
              "      <td>positive</td>\n",
              "    </tr>\n",
              "    <tr>\n",
              "      <th>1</th>\n",
              "      <td>pengiriman cepat packing bagus sesuai pesanan ...</td>\n",
              "      <td>5</td>\n",
              "      <td>positive</td>\n",
              "    </tr>\n",
              "    <tr>\n",
              "      <th>2</th>\n",
              "      <td>pengemasan dominan original atw asli kuacinya ...</td>\n",
              "      <td>4</td>\n",
              "      <td>negative</td>\n",
              "    </tr>\n",
              "    <tr>\n",
              "      <th>3</th>\n",
              "      <td>terimakasih min</td>\n",
              "      <td>5</td>\n",
              "      <td>neutral</td>\n",
              "    </tr>\n",
              "    <tr>\n",
              "      <th>4</th>\n",
              "      <td>udah order kesekian kali jo</td>\n",
              "      <td>5</td>\n",
              "      <td>neutral</td>\n",
              "    </tr>\n",
              "    <tr>\n",
              "      <th>...</th>\n",
              "      <td>...</td>\n",
              "      <td>...</td>\n",
              "      <td>...</td>\n",
              "    </tr>\n",
              "    <tr>\n",
              "      <th>4055</th>\n",
              "      <td>seler responsif dicoba dibuka</td>\n",
              "      <td>5</td>\n",
              "      <td>neutral</td>\n",
              "    </tr>\n",
              "    <tr>\n",
              "      <th>4056</th>\n",
              "      <td>imut2 banget packing aman</td>\n",
              "      <td>5</td>\n",
              "      <td>positive</td>\n",
              "    </tr>\n",
              "    <tr>\n",
              "      <th>4057</th>\n",
              "      <td>god product trusted sel</td>\n",
              "      <td>5</td>\n",
              "      <td>positive</td>\n",
              "    </tr>\n",
              "    <tr>\n",
              "      <th>4058</th>\n",
              "      <td>beli yg 3</td>\n",
              "      <td>5</td>\n",
              "      <td>neutral</td>\n",
              "    </tr>\n",
              "    <tr>\n",
              "      <th>4059</th>\n",
              "      <td>byk campuranya</td>\n",
              "      <td>4</td>\n",
              "      <td>neutral</td>\n",
              "    </tr>\n",
              "  </tbody>\n",
              "</table>\n",
              "<p>3880 rows × 3 columns</p>\n",
              "</div>"
            ],
            "text/plain": [
              "                                                 Review  Rating Sentiment\n",
              "0                                         enak kuacinya       5  positive\n",
              "1     pengiriman cepat packing bagus sesuai pesanan ...       5  positive\n",
              "2     pengemasan dominan original atw asli kuacinya ...       4  negative\n",
              "3                                       terimakasih min       5   neutral\n",
              "4                           udah order kesekian kali jo       5   neutral\n",
              "...                                                 ...     ...       ...\n",
              "4055                      seler responsif dicoba dibuka       5   neutral\n",
              "4056                          imut2 banget packing aman       5  positive\n",
              "4057                            god product trusted sel       5  positive\n",
              "4058                                          beli yg 3       5   neutral\n",
              "4059                                     byk campuranya       4   neutral\n",
              "\n",
              "[3880 rows x 3 columns]"
            ]
          },
          "metadata": {
            "tags": []
          },
          "execution_count": 16
        }
      ]
    },
    {
      "cell_type": "code",
      "metadata": {
        "colab": {
          "base_uri": "https://localhost:8080/"
        },
        "id": "Jw9Hgmg-gqwQ",
        "outputId": "5ac6445c-54e4-44a8-ee68-5cbe78112c34"
      },
      "source": [
        "df[\"Sentiment\"] = df[\"Sentiment\"].astype('category')\n",
        "df.dtypes\n",
        "df['Sentiment'] = df['Sentiment'].cat.codes.astype(float)\n",
        "print(df.dtypes)\n",
        "df"
      ],
      "execution_count": null,
      "outputs": [
        {
          "output_type": "stream",
          "text": [
            "Review        object\n",
            "Rating         int64\n",
            "Sentiment    float64\n",
            "dtype: object\n"
          ],
          "name": "stdout"
        },
        {
          "output_type": "execute_result",
          "data": {
            "text/html": [
              "<div>\n",
              "<style scoped>\n",
              "    .dataframe tbody tr th:only-of-type {\n",
              "        vertical-align: middle;\n",
              "    }\n",
              "\n",
              "    .dataframe tbody tr th {\n",
              "        vertical-align: top;\n",
              "    }\n",
              "\n",
              "    .dataframe thead th {\n",
              "        text-align: right;\n",
              "    }\n",
              "</style>\n",
              "<table border=\"1\" class=\"dataframe\">\n",
              "  <thead>\n",
              "    <tr style=\"text-align: right;\">\n",
              "      <th></th>\n",
              "      <th>Review</th>\n",
              "      <th>Rating</th>\n",
              "      <th>Sentiment</th>\n",
              "    </tr>\n",
              "  </thead>\n",
              "  <tbody>\n",
              "    <tr>\n",
              "      <th>0</th>\n",
              "      <td>enak kuacinya</td>\n",
              "      <td>5</td>\n",
              "      <td>2.0</td>\n",
              "    </tr>\n",
              "    <tr>\n",
              "      <th>1</th>\n",
              "      <td>pengiriman cepat packing bagus sesuai pesanan ...</td>\n",
              "      <td>5</td>\n",
              "      <td>2.0</td>\n",
              "    </tr>\n",
              "    <tr>\n",
              "      <th>2</th>\n",
              "      <td>pengemasan dominan original atw asli kuacinya ...</td>\n",
              "      <td>4</td>\n",
              "      <td>0.0</td>\n",
              "    </tr>\n",
              "    <tr>\n",
              "      <th>3</th>\n",
              "      <td>terimakasih min</td>\n",
              "      <td>5</td>\n",
              "      <td>1.0</td>\n",
              "    </tr>\n",
              "    <tr>\n",
              "      <th>4</th>\n",
              "      <td>udah order kesekian kali jo</td>\n",
              "      <td>5</td>\n",
              "      <td>1.0</td>\n",
              "    </tr>\n",
              "    <tr>\n",
              "      <th>...</th>\n",
              "      <td>...</td>\n",
              "      <td>...</td>\n",
              "      <td>...</td>\n",
              "    </tr>\n",
              "    <tr>\n",
              "      <th>4055</th>\n",
              "      <td>seler responsif dicoba dibuka</td>\n",
              "      <td>5</td>\n",
              "      <td>1.0</td>\n",
              "    </tr>\n",
              "    <tr>\n",
              "      <th>4056</th>\n",
              "      <td>imut2 banget packing aman</td>\n",
              "      <td>5</td>\n",
              "      <td>2.0</td>\n",
              "    </tr>\n",
              "    <tr>\n",
              "      <th>4057</th>\n",
              "      <td>god product trusted sel</td>\n",
              "      <td>5</td>\n",
              "      <td>2.0</td>\n",
              "    </tr>\n",
              "    <tr>\n",
              "      <th>4058</th>\n",
              "      <td>beli yg 3</td>\n",
              "      <td>5</td>\n",
              "      <td>1.0</td>\n",
              "    </tr>\n",
              "    <tr>\n",
              "      <th>4059</th>\n",
              "      <td>byk campuranya</td>\n",
              "      <td>4</td>\n",
              "      <td>1.0</td>\n",
              "    </tr>\n",
              "  </tbody>\n",
              "</table>\n",
              "<p>3880 rows × 3 columns</p>\n",
              "</div>"
            ],
            "text/plain": [
              "                                                 Review  Rating  Sentiment\n",
              "0                                         enak kuacinya       5        2.0\n",
              "1     pengiriman cepat packing bagus sesuai pesanan ...       5        2.0\n",
              "2     pengemasan dominan original atw asli kuacinya ...       4        0.0\n",
              "3                                       terimakasih min       5        1.0\n",
              "4                           udah order kesekian kali jo       5        1.0\n",
              "...                                                 ...     ...        ...\n",
              "4055                      seler responsif dicoba dibuka       5        1.0\n",
              "4056                          imut2 banget packing aman       5        2.0\n",
              "4057                            god product trusted sel       5        2.0\n",
              "4058                                          beli yg 3       5        1.0\n",
              "4059                                     byk campuranya       4        1.0\n",
              "\n",
              "[3880 rows x 3 columns]"
            ]
          },
          "metadata": {
            "tags": []
          },
          "execution_count": 17
        }
      ]
    },
    {
      "cell_type": "code",
      "metadata": {
        "id": "pQxnLeuTj9OQ"
      },
      "source": [
        "#tf-Idf vectorizer\n",
        "vectorizer = TfidfVectorizer() \n",
        "x = vectorizer.fit_transform(df['Review']) \n",
        "y =  df['Sentiment']"
      ],
      "execution_count": null,
      "outputs": []
    },
    {
      "cell_type": "markdown",
      "metadata": {
        "id": "hlRxVlgXj9OR"
      },
      "source": [
        "## Build Train and test sets"
      ]
    },
    {
      "cell_type": "code",
      "metadata": {
        "id": "JBIgUWX0j9OR"
      },
      "source": [
        "X_train,X_test,y_train,y_test = train_test_split(x,y,test_size=0.2)"
      ],
      "execution_count": null,
      "outputs": []
    },
    {
      "cell_type": "markdown",
      "metadata": {
        "id": "FtOonbh9j9OS"
      },
      "source": [
        "## Build Model"
      ]
    },
    {
      "cell_type": "markdown",
      "metadata": {
        "id": "s0kSt7l9r9gq"
      },
      "source": [
        "## Define a function to fit machine learning algorithms\n",
        "Since many of the algorithms we will use are from the sklearn library, they all take similar (practically the same) inputs and produce similar outputs.\n",
        "\n",
        "To prevent writing code multiple times, we will functionise fitting the model and returning the accuracy scores."
      ]
    },
    {
      "cell_type": "code",
      "metadata": {
        "id": "hp0jRLd2r9gr"
      },
      "source": [
        "# Function that runs the requested algorithm and returns the accuracy metrics\n",
        "def fit_ml_algo(algo, X_train, y_train, cv):\n",
        "    \n",
        "    # One Pass\n",
        "    model = algo.fit(X_train, y_train)\n",
        "    acc = round(model.score(X_train, y_train) * 100, 2)\n",
        "    \n",
        "    # Cross Validation \n",
        "    train_pred = model_selection.cross_val_predict(algo, \n",
        "                                                  X_train, \n",
        "                                                  y_train, \n",
        "                                                  cv=cv, \n",
        "                                                  n_jobs = -1)\n",
        "    # Cross-validation accuracy metric\n",
        "    acc_cv = round(metrics.accuracy_score(y_train, train_pred) * 100, 2)\n",
        "    \n",
        "    return train_pred, acc, acc_cv"
      ],
      "execution_count": null,
      "outputs": []
    },
    {
      "cell_type": "markdown",
      "metadata": {
        "id": "BAxJM4Fvr9gs"
      },
      "source": [
        "### Logistic Regression"
      ]
    },
    {
      "cell_type": "code",
      "metadata": {
        "id": "VF7QGdWgr9gs",
        "colab": {
          "base_uri": "https://localhost:8080/"
        },
        "outputId": "876e2ba2-7ebb-4063-cdee-f550227b981f"
      },
      "source": [
        "# Logistic Regression\n",
        "start_time = time.time()\n",
        "train_pred_log, acc_log, acc_cv_log = fit_ml_algo(LogisticRegression(), \n",
        "                                                               X_train, \n",
        "                                                               y_train, \n",
        "                                                                    10)\n",
        "log_time = (time.time() - start_time)\n",
        "print(\"Accuracy: %s\" % acc_log)\n",
        "print(\"Accuracy CV 10-Fold: %s\" % acc_cv_log)\n",
        "print(\"Running Time: %s\" % datetime.timedelta(seconds=log_time))"
      ],
      "execution_count": null,
      "outputs": [
        {
          "output_type": "stream",
          "text": [
            "Accuracy: 88.43\n",
            "Accuracy CV 10-Fold: 76.32\n",
            "Running Time: 0:00:03.724449\n"
          ],
          "name": "stdout"
        }
      ]
    },
    {
      "cell_type": "markdown",
      "metadata": {
        "id": "3tCvVSrur9gt"
      },
      "source": [
        "### K-Nearest Neighbours"
      ]
    },
    {
      "cell_type": "code",
      "metadata": {
        "id": "QClcc5Y8r9gt",
        "colab": {
          "base_uri": "https://localhost:8080/"
        },
        "outputId": "b00695e6-a1b9-4d25-aa16-4e5e2630c5dc"
      },
      "source": [
        "# k-Nearest Neighbours\n",
        "start_time = time.time()\n",
        "train_pred_knn, acc_knn, acc_cv_knn = fit_ml_algo(KNeighborsClassifier(), \n",
        "                                                  X_train, \n",
        "                                                  y_train, \n",
        "                                                  10)\n",
        "knn_time = (time.time() - start_time)\n",
        "print(\"Accuracy: %s\" % acc_knn)\n",
        "print(\"Accuracy CV 10-Fold: %s\" % acc_cv_knn)\n",
        "print(\"Running Time: %s\" % datetime.timedelta(seconds=knn_time))"
      ],
      "execution_count": null,
      "outputs": [
        {
          "output_type": "stream",
          "text": [
            "Accuracy: 35.92\n",
            "Accuracy CV 10-Fold: 29.09\n",
            "Running Time: 0:00:00.699314\n"
          ],
          "name": "stdout"
        }
      ]
    },
    {
      "cell_type": "markdown",
      "metadata": {
        "id": "4Jse7Fogr9gy"
      },
      "source": [
        "### Linear Support Vector Machines (SVC)"
      ]
    },
    {
      "cell_type": "code",
      "metadata": {
        "id": "DiUChr4Vr9gy",
        "colab": {
          "base_uri": "https://localhost:8080/"
        },
        "outputId": "d3f518f5-9cd6-4b26-d314-33503f5e2a81"
      },
      "source": [
        "# Linear SVC\n",
        "start_time = time.time()\n",
        "train_pred_svc, acc_linear_svc, acc_cv_linear_svc = fit_ml_algo(LinearSVC(),\n",
        "                                                                X_train, \n",
        "                                                                y_train, \n",
        "                                                                10)\n",
        "linear_svc_time = (time.time() - start_time)\n",
        "print(\"Accuracy: %s\" % acc_linear_svc)\n",
        "print(\"Accuracy CV 10-Fold: %s\" % acc_cv_linear_svc)\n",
        "print(\"Running Time: %s\" % datetime.timedelta(seconds=linear_svc_time))"
      ],
      "execution_count": null,
      "outputs": [
        {
          "output_type": "stream",
          "text": [
            "Accuracy: 95.68\n",
            "Accuracy CV 10-Fold: 77.13\n",
            "Running Time: 0:00:00.247490\n"
          ],
          "name": "stdout"
        }
      ]
    },
    {
      "cell_type": "markdown",
      "metadata": {
        "id": "2qfy7nvJr9gz"
      },
      "source": [
        "### Stochastic Gradient Descent"
      ]
    },
    {
      "cell_type": "code",
      "metadata": {
        "id": "7eY5X96nr9gz",
        "colab": {
          "base_uri": "https://localhost:8080/"
        },
        "outputId": "4622c204-acc8-49a9-9187-d5de75899370"
      },
      "source": [
        "# Stochastic Gradient Descent\n",
        "start_time = time.time()\n",
        "train_pred_sgd, acc_sgd, acc_cv_sgd = fit_ml_algo(SGDClassifier(), \n",
        "                                                  X_train, \n",
        "                                                  y_train,\n",
        "                                                  10)\n",
        "model = SGDClassifier().fit(X_train, y_train)\n",
        "print(model.loss_function_)\n",
        "sgd_time = (time.time() - start_time)\n",
        "print(\"Accuracy: %s\" % acc_sgd)\n",
        "print(\"Accuracy CV 10-Fold: %s\" % acc_cv_sgd)\n",
        "print(\"Running Time: %s\" % datetime.timedelta(seconds=sgd_time))"
      ],
      "execution_count": null,
      "outputs": [
        {
          "output_type": "stream",
          "text": [
            "<sklearn.linear_model._sgd_fast.Hinge object at 0x7f5f029e5050>\n",
            "Accuracy: 95.36\n",
            "Accuracy CV 10-Fold: 76.84\n",
            "Running Time: 0:00:01.419065\n"
          ],
          "name": "stdout"
        }
      ]
    },
    {
      "cell_type": "markdown",
      "metadata": {
        "id": "fDTkRfMsr9g0"
      },
      "source": [
        "### Decision Tree Classifier"
      ]
    },
    {
      "cell_type": "code",
      "metadata": {
        "id": "Eu6bsBPfr9g0",
        "colab": {
          "base_uri": "https://localhost:8080/"
        },
        "outputId": "e74d11a9-f4fb-466d-c60b-83fc6c0d6c2b"
      },
      "source": [
        "# Decision Tree Classifier\n",
        "start_time = time.time()\n",
        "train_pred_dt, acc_dt, acc_cv_dt = fit_ml_algo(DecisionTreeClassifier(), \n",
        "                                                                X_train, \n",
        "                                                                y_train,\n",
        "                                                                10)\n",
        "dt_time = (time.time() - start_time)\n",
        "print(\"Accuracy: %s\" % acc_dt)\n",
        "print(\"Accuracy CV 10-Fold: %s\" % acc_cv_dt)\n",
        "print(\"Running Time: %s\" % datetime.timedelta(seconds=dt_time))"
      ],
      "execution_count": null,
      "outputs": [
        {
          "output_type": "stream",
          "text": [
            "Accuracy: 99.77\n",
            "Accuracy CV 10-Fold: 72.62\n",
            "Running Time: 0:00:01.680519\n"
          ],
          "name": "stdout"
        }
      ]
    },
    {
      "cell_type": "markdown",
      "metadata": {
        "id": "E8Iup0zQr9g1"
      },
      "source": [
        "### Gradient Boost Trees"
      ]
    },
    {
      "cell_type": "code",
      "metadata": {
        "id": "mziyrn6br9g1",
        "colab": {
          "base_uri": "https://localhost:8080/"
        },
        "outputId": "1bb399e6-3067-499d-fada-0b356c40b557"
      },
      "source": [
        "# Gradient Boosting Trees\n",
        "start_time = time.time()\n",
        "train_pred_gbt, acc_gbt, acc_cv_gbt = fit_ml_algo(GradientBoostingClassifier(), \n",
        "                                                                       X_train, \n",
        "                                                                       y_train,\n",
        "                                                                       10)\n",
        "\n",
        "gbt_time = (time.time() - start_time)\n",
        "print(\"Accuracy: %s\" % acc_gbt)\n",
        "print(\"Accuracy CV 10-Fold: %s\" % acc_cv_gbt)\n",
        "print(\"Running Time: %s\" % datetime.timedelta(seconds=gbt_time))"
      ],
      "execution_count": null,
      "outputs": [
        {
          "output_type": "stream",
          "text": [
            "[0.         0.         0.00034773 ... 0.         0.         0.        ]\n",
            "Accuracy: 82.02\n",
            "Accuracy CV 10-Fold: 74.84\n",
            "Running Time: 0:00:56.384694\n"
          ],
          "name": "stdout"
        }
      ]
    },
    {
      "cell_type": "markdown",
      "metadata": {
        "id": "1UI7HbMMr9hC"
      },
      "source": [
        "## Model Results\n",
        "Which model had the best cross-validation accuracy?\n",
        "\n",
        "**Note:** We care most about cross-validation metrics because the metrics we get from `.fit()` can randomly score higher than usual."
      ]
    },
    {
      "cell_type": "markdown",
      "metadata": {
        "id": "oM-btn2Fr9hD"
      },
      "source": [
        "### Regular accuracy scores"
      ]
    },
    {
      "cell_type": "code",
      "metadata": {
        "id": "5NfeHF_xr9hD",
        "colab": {
          "base_uri": "https://localhost:8080/",
          "height": 252
        },
        "outputId": "8776d5d8-1c6e-4165-ca52-9f6e347752eb"
      },
      "source": [
        "models = pd.DataFrame({\n",
        "    'Model': ['KNN', 'Logistic Regression', \n",
        "              'Stochastic Gradient Decent', 'Linear SVC', \n",
        "              'Decision Tree', 'Gradient Boosting Trees'],\n",
        "    'Score': [\n",
        "        acc_knn, \n",
        "        acc_log,\n",
        "        acc_sgd, \n",
        "        acc_linear_svc, \n",
        "        acc_dt,\n",
        "        acc_gbt\n",
        "    ]})\n",
        "print(\"---Reuglar Accuracy Scores---\")\n",
        "models.sort_values(by='Score', ascending=False)"
      ],
      "execution_count": null,
      "outputs": [
        {
          "output_type": "stream",
          "text": [
            "---Reuglar Accuracy Scores---\n"
          ],
          "name": "stdout"
        },
        {
          "output_type": "execute_result",
          "data": {
            "text/html": [
              "<div>\n",
              "<style scoped>\n",
              "    .dataframe tbody tr th:only-of-type {\n",
              "        vertical-align: middle;\n",
              "    }\n",
              "\n",
              "    .dataframe tbody tr th {\n",
              "        vertical-align: top;\n",
              "    }\n",
              "\n",
              "    .dataframe thead th {\n",
              "        text-align: right;\n",
              "    }\n",
              "</style>\n",
              "<table border=\"1\" class=\"dataframe\">\n",
              "  <thead>\n",
              "    <tr style=\"text-align: right;\">\n",
              "      <th></th>\n",
              "      <th>Model</th>\n",
              "      <th>Score</th>\n",
              "    </tr>\n",
              "  </thead>\n",
              "  <tbody>\n",
              "    <tr>\n",
              "      <th>4</th>\n",
              "      <td>Decision Tree</td>\n",
              "      <td>99.77</td>\n",
              "    </tr>\n",
              "    <tr>\n",
              "      <th>3</th>\n",
              "      <td>Linear SVC</td>\n",
              "      <td>95.68</td>\n",
              "    </tr>\n",
              "    <tr>\n",
              "      <th>2</th>\n",
              "      <td>Stochastic Gradient Decent</td>\n",
              "      <td>95.36</td>\n",
              "    </tr>\n",
              "    <tr>\n",
              "      <th>1</th>\n",
              "      <td>Logistic Regression</td>\n",
              "      <td>88.43</td>\n",
              "    </tr>\n",
              "    <tr>\n",
              "      <th>5</th>\n",
              "      <td>Gradient Boosting Trees</td>\n",
              "      <td>82.09</td>\n",
              "    </tr>\n",
              "    <tr>\n",
              "      <th>0</th>\n",
              "      <td>KNN</td>\n",
              "      <td>35.92</td>\n",
              "    </tr>\n",
              "  </tbody>\n",
              "</table>\n",
              "</div>"
            ],
            "text/plain": [
              "                        Model  Score\n",
              "4               Decision Tree  99.77\n",
              "3                  Linear SVC  95.68\n",
              "2  Stochastic Gradient Decent  95.36\n",
              "1         Logistic Regression  88.43\n",
              "5     Gradient Boosting Trees  82.09\n",
              "0                         KNN  35.92"
            ]
          },
          "metadata": {
            "tags": []
          },
          "execution_count": 34
        }
      ]
    },
    {
      "cell_type": "code",
      "metadata": {
        "id": "WMxRBfgir9hE",
        "colab": {
          "base_uri": "https://localhost:8080/",
          "height": 252
        },
        "outputId": "90540af0-d51d-453f-b3f7-7384c0183634"
      },
      "source": [
        "cv_models = pd.DataFrame({\n",
        "    'Model': ['KNN', 'Logistic Regression',\n",
        "              'Stochastic Gradient Decent', 'Linear SVC', \n",
        "              'Decision Tree', 'Gradient Boosting Trees'],\n",
        "    'Score': [\n",
        "        acc_cv_knn, \n",
        "        acc_cv_log,\n",
        "        acc_cv_sgd, \n",
        "        acc_cv_linear_svc, \n",
        "        acc_cv_dt,\n",
        "        acc_cv_gbt\n",
        "    ]})\n",
        "print('---Cross-validation Accuracy Scores---')\n",
        "cv_models.sort_values(by='Score', ascending=False)"
      ],
      "execution_count": null,
      "outputs": [
        {
          "output_type": "stream",
          "text": [
            "---Cross-validation Accuracy Scores---\n"
          ],
          "name": "stdout"
        },
        {
          "output_type": "execute_result",
          "data": {
            "text/html": [
              "<div>\n",
              "<style scoped>\n",
              "    .dataframe tbody tr th:only-of-type {\n",
              "        vertical-align: middle;\n",
              "    }\n",
              "\n",
              "    .dataframe tbody tr th {\n",
              "        vertical-align: top;\n",
              "    }\n",
              "\n",
              "    .dataframe thead th {\n",
              "        text-align: right;\n",
              "    }\n",
              "</style>\n",
              "<table border=\"1\" class=\"dataframe\">\n",
              "  <thead>\n",
              "    <tr style=\"text-align: right;\">\n",
              "      <th></th>\n",
              "      <th>Model</th>\n",
              "      <th>Score</th>\n",
              "    </tr>\n",
              "  </thead>\n",
              "  <tbody>\n",
              "    <tr>\n",
              "      <th>3</th>\n",
              "      <td>Linear SVC</td>\n",
              "      <td>77.13</td>\n",
              "    </tr>\n",
              "    <tr>\n",
              "      <th>2</th>\n",
              "      <td>Stochastic Gradient Decent</td>\n",
              "      <td>76.58</td>\n",
              "    </tr>\n",
              "    <tr>\n",
              "      <th>1</th>\n",
              "      <td>Logistic Regression</td>\n",
              "      <td>76.32</td>\n",
              "    </tr>\n",
              "    <tr>\n",
              "      <th>5</th>\n",
              "      <td>Gradient Boosting Trees</td>\n",
              "      <td>74.52</td>\n",
              "    </tr>\n",
              "    <tr>\n",
              "      <th>4</th>\n",
              "      <td>Decision Tree</td>\n",
              "      <td>72.62</td>\n",
              "    </tr>\n",
              "    <tr>\n",
              "      <th>0</th>\n",
              "      <td>KNN</td>\n",
              "      <td>29.09</td>\n",
              "    </tr>\n",
              "  </tbody>\n",
              "</table>\n",
              "</div>"
            ],
            "text/plain": [
              "                        Model  Score\n",
              "3                  Linear SVC  77.13\n",
              "2  Stochastic Gradient Decent  76.58\n",
              "1         Logistic Regression  76.32\n",
              "5     Gradient Boosting Trees  74.52\n",
              "4               Decision Tree  72.62\n",
              "0                         KNN  29.09"
            ]
          },
          "metadata": {
            "tags": []
          },
          "execution_count": 35
        }
      ]
    },
    {
      "cell_type": "markdown",
      "metadata": {
        "id": "m5t8-hj-r9hF"
      },
      "source": [
        "We can see from the tables, the CatBoost model had the best results. Getting just under 82% is pretty good considering guessing would result in about 50% accuracy (0 or 1).\n",
        "\n",
        "We'll pay more attention to the cross-validation figure.\n",
        "\n",
        "Cross-validation is more robust than just the `.fit()` models as it does multiple passes over the data instead of one.\n",
        "\n",
        "Because the CatBoost model got the best results, we'll use it for the next steps.\n",
        "\n",
        "**Challenge:** How could you improve the CatBoost model?"
      ]
    },
    {
      "cell_type": "markdown",
      "metadata": {
        "id": "p8h93sCwbg12"
      },
      "source": [
        "##Evaluate"
      ]
    },
    {
      "cell_type": "code",
      "metadata": {
        "colab": {
          "base_uri": "https://localhost:8080/"
        },
        "id": "5bnMVPDdbiOg",
        "outputId": "4d1e5cd4-19e0-4bfd-b3d3-3b599ef04ded"
      },
      "source": [
        "#making predictions\n",
        "y_pred = model.predict(X_test)\n",
        "#model accuracy\n",
        "print(\"Model Accuracy : {}\".format((y_pred == y_test).mean()))\n",
        "#confusion matrix \n",
        "print(confusion_matrix(y_test,y_pred))"
      ],
      "execution_count": null,
      "outputs": [
        {
          "output_type": "stream",
          "text": [
            "Model Accuracy : 0.7989690721649485\n",
            "[[ 60   8  44]\n",
            " [  2  46  61]\n",
            " [ 13  28 514]]\n"
          ],
          "name": "stdout"
        }
      ]
    },
    {
      "cell_type": "markdown",
      "metadata": {
        "id": "S2y8NYwHgaNN"
      },
      "source": [
        "#**Building model with LSTM**"
      ]
    },
    {
      "cell_type": "markdown",
      "metadata": {
        "id": "ZFlCywWDMbz0"
      },
      "source": [
        "## Load Dataset"
      ]
    },
    {
      "cell_type": "code",
      "metadata": {
        "id": "zMi41yXRaX0f",
        "colab": {
          "base_uri": "https://localhost:8080/"
        },
        "outputId": "bf5b3ea0-863d-43a5-c359-76126da4179e"
      },
      "source": [
        "!wget https://raw.githubusercontent.com/H4rfu1/ML-project-TokoLitik-tim-Undagi/main/Response/dataset_review_tokped_labelled.csv"
      ],
      "execution_count": 6,
      "outputs": [
        {
          "output_type": "stream",
          "text": [
            "--2021-05-20 05:30:15--  https://raw.githubusercontent.com/H4rfu1/ML-project-TokoLitik-tim-Undagi/main/Response/dataset_review_tokped_labelled.csv\n",
            "Resolving raw.githubusercontent.com (raw.githubusercontent.com)... 185.199.108.133, 185.199.109.133, 185.199.110.133, ...\n",
            "Connecting to raw.githubusercontent.com (raw.githubusercontent.com)|185.199.108.133|:443... connected.\n",
            "HTTP request sent, awaiting response... 200 OK\n",
            "Length: 294589 (288K) [text/plain]\n",
            "Saving to: ‘dataset_review_tokped_labelled.csv.2’\n",
            "\n",
            "\r          dataset_r   0%[                    ]       0  --.-KB/s               \rdataset_review_tokp 100%[===================>] 287.68K  --.-KB/s    in 0.02s   \n",
            "\n",
            "2021-05-20 05:30:15 (12.4 MB/s) - ‘dataset_review_tokped_labelled.csv.2’ saved [294589/294589]\n",
            "\n"
          ],
          "name": "stdout"
        }
      ]
    },
    {
      "cell_type": "code",
      "metadata": {
        "id": "sZDh4uDCd1Cv",
        "colab": {
          "base_uri": "https://localhost:8080/",
          "height": 419
        },
        "outputId": "5a0a1226-6e8a-4893-9a11-d8441b7bcd66"
      },
      "source": [
        "#dataset from crawling process\n",
        "df = pd.read_csv('/content/dataset_review_tokped_labelled.csv')\n",
        "df"
      ],
      "execution_count": 7,
      "outputs": [
        {
          "output_type": "execute_result",
          "data": {
            "text/html": [
              "<div>\n",
              "<style scoped>\n",
              "    .dataframe tbody tr th:only-of-type {\n",
              "        vertical-align: middle;\n",
              "    }\n",
              "\n",
              "    .dataframe tbody tr th {\n",
              "        vertical-align: top;\n",
              "    }\n",
              "\n",
              "    .dataframe thead th {\n",
              "        text-align: right;\n",
              "    }\n",
              "</style>\n",
              "<table border=\"1\" class=\"dataframe\">\n",
              "  <thead>\n",
              "    <tr style=\"text-align: right;\">\n",
              "      <th></th>\n",
              "      <th>Review</th>\n",
              "      <th>Rating</th>\n",
              "      <th>Sentiment</th>\n",
              "    </tr>\n",
              "  </thead>\n",
              "  <tbody>\n",
              "    <tr>\n",
              "      <th>0</th>\n",
              "      <td>enak kuacinya</td>\n",
              "      <td>5</td>\n",
              "      <td>positive</td>\n",
              "    </tr>\n",
              "    <tr>\n",
              "      <th>1</th>\n",
              "      <td>pengiriman cepat packing bagus sesuai pesanan ...</td>\n",
              "      <td>5</td>\n",
              "      <td>positive</td>\n",
              "    </tr>\n",
              "    <tr>\n",
              "      <th>2</th>\n",
              "      <td>pengemasan luar biasa baik untuk rasa menurut ...</td>\n",
              "      <td>4</td>\n",
              "      <td>negative</td>\n",
              "    </tr>\n",
              "    <tr>\n",
              "      <th>3</th>\n",
              "      <td>terimakasih min</td>\n",
              "      <td>5</td>\n",
              "      <td>neutral</td>\n",
              "    </tr>\n",
              "    <tr>\n",
              "      <th>4</th>\n",
              "      <td>udah order untuk kesekian kali jos</td>\n",
              "      <td>5</td>\n",
              "      <td>neutral</td>\n",
              "    </tr>\n",
              "    <tr>\n",
              "      <th>...</th>\n",
              "      <td>...</td>\n",
              "      <td>...</td>\n",
              "      <td>...</td>\n",
              "    </tr>\n",
              "    <tr>\n",
              "      <th>4055</th>\n",
              "      <td>seller sangat responsif rasa belum dicoba kare...</td>\n",
              "      <td>5</td>\n",
              "      <td>neutral</td>\n",
              "    </tr>\n",
              "    <tr>\n",
              "      <th>4056</th>\n",
              "      <td>imut2 banget packing aman</td>\n",
              "      <td>5</td>\n",
              "      <td>positive</td>\n",
              "    </tr>\n",
              "    <tr>\n",
              "      <th>4057</th>\n",
              "      <td>good product trusted seller</td>\n",
              "      <td>5</td>\n",
              "      <td>positive</td>\n",
              "    </tr>\n",
              "    <tr>\n",
              "      <th>4058</th>\n",
              "      <td>sudah beli yg ke 3</td>\n",
              "      <td>5</td>\n",
              "      <td>neutral</td>\n",
              "    </tr>\n",
              "    <tr>\n",
              "      <th>4059</th>\n",
              "      <td>byk campurannya</td>\n",
              "      <td>4</td>\n",
              "      <td>neutral</td>\n",
              "    </tr>\n",
              "  </tbody>\n",
              "</table>\n",
              "<p>4060 rows × 3 columns</p>\n",
              "</div>"
            ],
            "text/plain": [
              "                                                 Review  Rating Sentiment\n",
              "0                                         enak kuacinya       5  positive\n",
              "1     pengiriman cepat packing bagus sesuai pesanan ...       5  positive\n",
              "2     pengemasan luar biasa baik untuk rasa menurut ...       4  negative\n",
              "3                                       terimakasih min       5   neutral\n",
              "4                    udah order untuk kesekian kali jos       5   neutral\n",
              "...                                                 ...     ...       ...\n",
              "4055  seller sangat responsif rasa belum dicoba kare...       5   neutral\n",
              "4056                          imut2 banget packing aman       5  positive\n",
              "4057                        good product trusted seller       5  positive\n",
              "4058                                 sudah beli yg ke 3       5   neutral\n",
              "4059                                    byk campurannya       4   neutral\n",
              "\n",
              "[4060 rows x 3 columns]"
            ]
          },
          "metadata": {
            "tags": []
          },
          "execution_count": 7
        }
      ]
    },
    {
      "cell_type": "markdown",
      "metadata": {
        "id": "IspkD17gNwyj"
      },
      "source": [
        "## Check Dataset"
      ]
    },
    {
      "cell_type": "code",
      "metadata": {
        "colab": {
          "base_uri": "https://localhost:8080/",
          "height": 307
        },
        "id": "mAg9vPtOjeZB",
        "outputId": "9db343e1-6a59-474c-8aee-4af738052c72"
      },
      "source": [
        "pd.value_counts(df['Sentiment']).plot.bar()"
      ],
      "execution_count": 8,
      "outputs": [
        {
          "output_type": "execute_result",
          "data": {
            "text/plain": [
              "<matplotlib.axes._subplots.AxesSubplot at 0x7f60470266d0>"
            ]
          },
          "metadata": {
            "tags": []
          },
          "execution_count": 8
        },
        {
          "output_type": "display_data",
          "data": {
            "image/png": "[encoded data removed]",
            "text/plain": [
              "<Figure size 432x288 with 1 Axes>"
            ]
          },
          "metadata": {
            "tags": []
          }
        }
      ]
    },
    {
      "cell_type": "code",
      "metadata": {
        "id": "kFZvR2D8Nz9T",
        "colab": {
          "base_uri": "https://localhost:8080/"
        },
        "outputId": "32e1cf56-a755-48db-f853-95a5200604a8"
      },
      "source": [
        "#to check shape of the dataset\n",
        "print(df.shape) \n",
        "\n",
        "#to look the header of dataset\n",
        "df.info()\n"
      ],
      "execution_count": 9,
      "outputs": [
        {
          "output_type": "stream",
          "text": [
            "(4060, 3)\n",
            "<class 'pandas.core.frame.DataFrame'>\n",
            "RangeIndex: 4060 entries, 0 to 4059\n",
            "Data columns (total 3 columns):\n",
            " #   Column     Non-Null Count  Dtype \n",
            "---  ------     --------------  ----- \n",
            " 0   Review     4060 non-null   object\n",
            " 1   Rating     4060 non-null   int64 \n",
            " 2   Sentiment  4060 non-null   object\n",
            "dtypes: int64(1), object(2)\n",
            "memory usage: 95.3+ KB\n"
          ],
          "name": "stdout"
        }
      ]
    },
    {
      "cell_type": "code",
      "metadata": {
        "colab": {
          "base_uri": "https://localhost:8080/"
        },
        "id": "Gp1ZnteeXi2D",
        "outputId": "02671b5c-21b1-47dc-8de0-3f2f06cbc21e"
      },
      "source": [
        "df[\"Sentiment\"] = df[\"Sentiment\"].astype('category')\n",
        "df.dtypes"
      ],
      "execution_count": 10,
      "outputs": [
        {
          "output_type": "execute_result",
          "data": {
            "text/plain": [
              "Review         object\n",
              "Rating          int64\n",
              "Sentiment    category\n",
              "dtype: object"
            ]
          },
          "metadata": {
            "tags": []
          },
          "execution_count": 10
        }
      ]
    },
    {
      "cell_type": "code",
      "metadata": {
        "id": "ynEuuk2MM3h9",
        "colab": {
          "base_uri": "https://localhost:8080/",
          "height": 419
        },
        "outputId": "b090bf77-f73c-4e3c-9a21-4c1029a03c4c"
      },
      "source": [
        "#separate column category and add value to it\n",
        "category = pd.get_dummies(df.Sentiment)\n",
        "df_new = pd.concat([df, category], axis=1)\n",
        "# df_new = df_new.drop(columns='Sentiment')\n",
        "df_new"
      ],
      "execution_count": 11,
      "outputs": [
        {
          "output_type": "execute_result",
          "data": {
            "text/html": [
              "<div>\n",
              "<style scoped>\n",
              "    .dataframe tbody tr th:only-of-type {\n",
              "        vertical-align: middle;\n",
              "    }\n",
              "\n",
              "    .dataframe tbody tr th {\n",
              "        vertical-align: top;\n",
              "    }\n",
              "\n",
              "    .dataframe thead th {\n",
              "        text-align: right;\n",
              "    }\n",
              "</style>\n",
              "<table border=\"1\" class=\"dataframe\">\n",
              "  <thead>\n",
              "    <tr style=\"text-align: right;\">\n",
              "      <th></th>\n",
              "      <th>Review</th>\n",
              "      <th>Rating</th>\n",
              "      <th>Sentiment</th>\n",
              "      <th>negative</th>\n",
              "      <th>neutral</th>\n",
              "      <th>positive</th>\n",
              "    </tr>\n",
              "  </thead>\n",
              "  <tbody>\n",
              "    <tr>\n",
              "      <th>0</th>\n",
              "      <td>enak kuacinya</td>\n",
              "      <td>5</td>\n",
              "      <td>positive</td>\n",
              "      <td>0</td>\n",
              "      <td>0</td>\n",
              "      <td>1</td>\n",
              "    </tr>\n",
              "    <tr>\n",
              "      <th>1</th>\n",
              "      <td>pengiriman cepat packing bagus sesuai pesanan ...</td>\n",
              "      <td>5</td>\n",
              "      <td>positive</td>\n",
              "      <td>0</td>\n",
              "      <td>0</td>\n",
              "      <td>1</td>\n",
              "    </tr>\n",
              "    <tr>\n",
              "      <th>2</th>\n",
              "      <td>pengemasan luar biasa baik untuk rasa menurut ...</td>\n",
              "      <td>4</td>\n",
              "      <td>negative</td>\n",
              "      <td>1</td>\n",
              "      <td>0</td>\n",
              "      <td>0</td>\n",
              "    </tr>\n",
              "    <tr>\n",
              "      <th>3</th>\n",
              "      <td>terimakasih min</td>\n",
              "      <td>5</td>\n",
              "      <td>neutral</td>\n",
              "      <td>0</td>\n",
              "      <td>1</td>\n",
              "      <td>0</td>\n",
              "    </tr>\n",
              "    <tr>\n",
              "      <th>4</th>\n",
              "      <td>udah order untuk kesekian kali jos</td>\n",
              "      <td>5</td>\n",
              "      <td>neutral</td>\n",
              "      <td>0</td>\n",
              "      <td>1</td>\n",
              "      <td>0</td>\n",
              "    </tr>\n",
              "    <tr>\n",
              "      <th>...</th>\n",
              "      <td>...</td>\n",
              "      <td>...</td>\n",
              "      <td>...</td>\n",
              "      <td>...</td>\n",
              "      <td>...</td>\n",
              "      <td>...</td>\n",
              "    </tr>\n",
              "    <tr>\n",
              "      <th>4055</th>\n",
              "      <td>seller sangat responsif rasa belum dicoba kare...</td>\n",
              "      <td>5</td>\n",
              "      <td>neutral</td>\n",
              "      <td>0</td>\n",
              "      <td>1</td>\n",
              "      <td>0</td>\n",
              "    </tr>\n",
              "    <tr>\n",
              "      <th>4056</th>\n",
              "      <td>imut2 banget packing aman</td>\n",
              "      <td>5</td>\n",
              "      <td>positive</td>\n",
              "      <td>0</td>\n",
              "      <td>0</td>\n",
              "      <td>1</td>\n",
              "    </tr>\n",
              "    <tr>\n",
              "      <th>4057</th>\n",
              "      <td>good product trusted seller</td>\n",
              "      <td>5</td>\n",
              "      <td>positive</td>\n",
              "      <td>0</td>\n",
              "      <td>0</td>\n",
              "      <td>1</td>\n",
              "    </tr>\n",
              "    <tr>\n",
              "      <th>4058</th>\n",
              "      <td>sudah beli yg ke 3</td>\n",
              "      <td>5</td>\n",
              "      <td>neutral</td>\n",
              "      <td>0</td>\n",
              "      <td>1</td>\n",
              "      <td>0</td>\n",
              "    </tr>\n",
              "    <tr>\n",
              "      <th>4059</th>\n",
              "      <td>byk campurannya</td>\n",
              "      <td>4</td>\n",
              "      <td>neutral</td>\n",
              "      <td>0</td>\n",
              "      <td>1</td>\n",
              "      <td>0</td>\n",
              "    </tr>\n",
              "  </tbody>\n",
              "</table>\n",
              "<p>4060 rows × 6 columns</p>\n",
              "</div>"
            ],
            "text/plain": [
              "                                                 Review  ...  positive\n",
              "0                                         enak kuacinya  ...         1\n",
              "1     pengiriman cepat packing bagus sesuai pesanan ...  ...         1\n",
              "2     pengemasan luar biasa baik untuk rasa menurut ...  ...         0\n",
              "3                                       terimakasih min  ...         0\n",
              "4                    udah order untuk kesekian kali jos  ...         0\n",
              "...                                                 ...  ...       ...\n",
              "4055  seller sangat responsif rasa belum dicoba kare...  ...         0\n",
              "4056                          imut2 banget packing aman  ...         1\n",
              "4057                        good product trusted seller  ...         1\n",
              "4058                                 sudah beli yg ke 3  ...         0\n",
              "4059                                    byk campurannya  ...         0\n",
              "\n",
              "[4060 rows x 6 columns]"
            ]
          },
          "metadata": {
            "tags": []
          },
          "execution_count": 11
        }
      ]
    },
    {
      "cell_type": "markdown",
      "metadata": {
        "id": "B1-y1W2nNYbN"
      },
      "source": [
        "## Peprocess Dataset"
      ]
    },
    {
      "cell_type": "code",
      "metadata": {
        "id": "yUJq7YJhNr63",
        "colab": {
          "base_uri": "https://localhost:8080/",
          "height": 419
        },
        "outputId": "992cb539-c898-44af-801b-4491e5a8e6ab"
      },
      "source": [
        "#remove repeated char\n",
        "# continously repeating character\n",
        "# from the word \n",
        "def conti_rep_char(str1):\n",
        "    tchr = str1.group(0)\n",
        "    if len(tchr) > 1:\n",
        "      return tchr[0:1]\n",
        "# define a function to check\n",
        "# whether unique character \n",
        "# is present or not\n",
        "def check_unique_char(rep, sent_text):\n",
        "    # regular expression for \n",
        "    # repetion of characters\n",
        "    convert = re.sub(r'(\\w)\\1+', \n",
        "                     rep,\n",
        "                     sent_text)\n",
        "      \n",
        "    # returing the converted word\n",
        "    return convert\n",
        "\n",
        "df_new['Review'] = df_new['Review'].apply(lambda x : check_unique_char(conti_rep_char, x))\n",
        "df_new"
      ],
      "execution_count": 12,
      "outputs": [
        {
          "output_type": "execute_result",
          "data": {
            "text/html": [
              "<div>\n",
              "<style scoped>\n",
              "    .dataframe tbody tr th:only-of-type {\n",
              "        vertical-align: middle;\n",
              "    }\n",
              "\n",
              "    .dataframe tbody tr th {\n",
              "        vertical-align: top;\n",
              "    }\n",
              "\n",
              "    .dataframe thead th {\n",
              "        text-align: right;\n",
              "    }\n",
              "</style>\n",
              "<table border=\"1\" class=\"dataframe\">\n",
              "  <thead>\n",
              "    <tr style=\"text-align: right;\">\n",
              "      <th></th>\n",
              "      <th>Review</th>\n",
              "      <th>Rating</th>\n",
              "      <th>Sentiment</th>\n",
              "      <th>negative</th>\n",
              "      <th>neutral</th>\n",
              "      <th>positive</th>\n",
              "    </tr>\n",
              "  </thead>\n",
              "  <tbody>\n",
              "    <tr>\n",
              "      <th>0</th>\n",
              "      <td>enak kuacinya</td>\n",
              "      <td>5</td>\n",
              "      <td>positive</td>\n",
              "      <td>0</td>\n",
              "      <td>0</td>\n",
              "      <td>1</td>\n",
              "    </tr>\n",
              "    <tr>\n",
              "      <th>1</th>\n",
              "      <td>pengiriman cepat packing bagus sesuai pesanan ...</td>\n",
              "      <td>5</td>\n",
              "      <td>positive</td>\n",
              "      <td>0</td>\n",
              "      <td>0</td>\n",
              "      <td>1</td>\n",
              "    </tr>\n",
              "    <tr>\n",
              "      <th>2</th>\n",
              "      <td>pengemasan luar biasa baik untuk rasa menurut ...</td>\n",
              "      <td>4</td>\n",
              "      <td>negative</td>\n",
              "      <td>1</td>\n",
              "      <td>0</td>\n",
              "      <td>0</td>\n",
              "    </tr>\n",
              "    <tr>\n",
              "      <th>3</th>\n",
              "      <td>terimakasih min</td>\n",
              "      <td>5</td>\n",
              "      <td>neutral</td>\n",
              "      <td>0</td>\n",
              "      <td>1</td>\n",
              "      <td>0</td>\n",
              "    </tr>\n",
              "    <tr>\n",
              "      <th>4</th>\n",
              "      <td>udah order untuk kesekian kali jos</td>\n",
              "      <td>5</td>\n",
              "      <td>neutral</td>\n",
              "      <td>0</td>\n",
              "      <td>1</td>\n",
              "      <td>0</td>\n",
              "    </tr>\n",
              "    <tr>\n",
              "      <th>...</th>\n",
              "      <td>...</td>\n",
              "      <td>...</td>\n",
              "      <td>...</td>\n",
              "      <td>...</td>\n",
              "      <td>...</td>\n",
              "      <td>...</td>\n",
              "    </tr>\n",
              "    <tr>\n",
              "      <th>4055</th>\n",
              "      <td>seler sangat responsif rasa belum dicoba karen...</td>\n",
              "      <td>5</td>\n",
              "      <td>neutral</td>\n",
              "      <td>0</td>\n",
              "      <td>1</td>\n",
              "      <td>0</td>\n",
              "    </tr>\n",
              "    <tr>\n",
              "      <th>4056</th>\n",
              "      <td>imut2 banget packing aman</td>\n",
              "      <td>5</td>\n",
              "      <td>positive</td>\n",
              "      <td>0</td>\n",
              "      <td>0</td>\n",
              "      <td>1</td>\n",
              "    </tr>\n",
              "    <tr>\n",
              "      <th>4057</th>\n",
              "      <td>god product trusted seler</td>\n",
              "      <td>5</td>\n",
              "      <td>positive</td>\n",
              "      <td>0</td>\n",
              "      <td>0</td>\n",
              "      <td>1</td>\n",
              "    </tr>\n",
              "    <tr>\n",
              "      <th>4058</th>\n",
              "      <td>sudah beli yg ke 3</td>\n",
              "      <td>5</td>\n",
              "      <td>neutral</td>\n",
              "      <td>0</td>\n",
              "      <td>1</td>\n",
              "      <td>0</td>\n",
              "    </tr>\n",
              "    <tr>\n",
              "      <th>4059</th>\n",
              "      <td>byk campuranya</td>\n",
              "      <td>4</td>\n",
              "      <td>neutral</td>\n",
              "      <td>0</td>\n",
              "      <td>1</td>\n",
              "      <td>0</td>\n",
              "    </tr>\n",
              "  </tbody>\n",
              "</table>\n",
              "<p>4060 rows × 6 columns</p>\n",
              "</div>"
            ],
            "text/plain": [
              "                                                 Review  ...  positive\n",
              "0                                         enak kuacinya  ...         1\n",
              "1     pengiriman cepat packing bagus sesuai pesanan ...  ...         1\n",
              "2     pengemasan luar biasa baik untuk rasa menurut ...  ...         0\n",
              "3                                       terimakasih min  ...         0\n",
              "4                    udah order untuk kesekian kali jos  ...         0\n",
              "...                                                 ...  ...       ...\n",
              "4055  seler sangat responsif rasa belum dicoba karen...  ...         0\n",
              "4056                          imut2 banget packing aman  ...         1\n",
              "4057                          god product trusted seler  ...         1\n",
              "4058                                 sudah beli yg ke 3  ...         0\n",
              "4059                                     byk campuranya  ...         0\n",
              "\n",
              "[4060 rows x 6 columns]"
            ]
          },
          "metadata": {
            "tags": []
          },
          "execution_count": 12
        }
      ]
    },
    {
      "cell_type": "code",
      "metadata": {
        "colab": {
          "base_uri": "https://localhost:8080/",
          "height": 453
        },
        "id": "sLhLtqWreh4-",
        "outputId": "f5839626-a4b3-4551-87f2-db4233ff239f"
      },
      "source": [
        "print(df_new.shape)\n",
        "#Removes duplicates in place\n",
        "df_new.drop_duplicates(keep=False, inplace=True)\n",
        "print(df_new.shape) \n",
        "df_new"
      ],
      "execution_count": 13,
      "outputs": [
        {
          "output_type": "stream",
          "text": [
            "(4060, 6)\n",
            "(3979, 6)\n"
          ],
          "name": "stdout"
        },
        {
          "output_type": "execute_result",
          "data": {
            "text/html": [
              "<div>\n",
              "<style scoped>\n",
              "    .dataframe tbody tr th:only-of-type {\n",
              "        vertical-align: middle;\n",
              "    }\n",
              "\n",
              "    .dataframe tbody tr th {\n",
              "        vertical-align: top;\n",
              "    }\n",
              "\n",
              "    .dataframe thead th {\n",
              "        text-align: right;\n",
              "    }\n",
              "</style>\n",
              "<table border=\"1\" class=\"dataframe\">\n",
              "  <thead>\n",
              "    <tr style=\"text-align: right;\">\n",
              "      <th></th>\n",
              "      <th>Review</th>\n",
              "      <th>Rating</th>\n",
              "      <th>Sentiment</th>\n",
              "      <th>negative</th>\n",
              "      <th>neutral</th>\n",
              "      <th>positive</th>\n",
              "    </tr>\n",
              "  </thead>\n",
              "  <tbody>\n",
              "    <tr>\n",
              "      <th>0</th>\n",
              "      <td>enak kuacinya</td>\n",
              "      <td>5</td>\n",
              "      <td>positive</td>\n",
              "      <td>0</td>\n",
              "      <td>0</td>\n",
              "      <td>1</td>\n",
              "    </tr>\n",
              "    <tr>\n",
              "      <th>1</th>\n",
              "      <td>pengiriman cepat packing bagus sesuai pesanan ...</td>\n",
              "      <td>5</td>\n",
              "      <td>positive</td>\n",
              "      <td>0</td>\n",
              "      <td>0</td>\n",
              "      <td>1</td>\n",
              "    </tr>\n",
              "    <tr>\n",
              "      <th>2</th>\n",
              "      <td>pengemasan luar biasa baik untuk rasa menurut ...</td>\n",
              "      <td>4</td>\n",
              "      <td>negative</td>\n",
              "      <td>1</td>\n",
              "      <td>0</td>\n",
              "      <td>0</td>\n",
              "    </tr>\n",
              "    <tr>\n",
              "      <th>3</th>\n",
              "      <td>terimakasih min</td>\n",
              "      <td>5</td>\n",
              "      <td>neutral</td>\n",
              "      <td>0</td>\n",
              "      <td>1</td>\n",
              "      <td>0</td>\n",
              "    </tr>\n",
              "    <tr>\n",
              "      <th>4</th>\n",
              "      <td>udah order untuk kesekian kali jos</td>\n",
              "      <td>5</td>\n",
              "      <td>neutral</td>\n",
              "      <td>0</td>\n",
              "      <td>1</td>\n",
              "      <td>0</td>\n",
              "    </tr>\n",
              "    <tr>\n",
              "      <th>...</th>\n",
              "      <td>...</td>\n",
              "      <td>...</td>\n",
              "      <td>...</td>\n",
              "      <td>...</td>\n",
              "      <td>...</td>\n",
              "      <td>...</td>\n",
              "    </tr>\n",
              "    <tr>\n",
              "      <th>4055</th>\n",
              "      <td>seler sangat responsif rasa belum dicoba karen...</td>\n",
              "      <td>5</td>\n",
              "      <td>neutral</td>\n",
              "      <td>0</td>\n",
              "      <td>1</td>\n",
              "      <td>0</td>\n",
              "    </tr>\n",
              "    <tr>\n",
              "      <th>4056</th>\n",
              "      <td>imut2 banget packing aman</td>\n",
              "      <td>5</td>\n",
              "      <td>positive</td>\n",
              "      <td>0</td>\n",
              "      <td>0</td>\n",
              "      <td>1</td>\n",
              "    </tr>\n",
              "    <tr>\n",
              "      <th>4057</th>\n",
              "      <td>god product trusted seler</td>\n",
              "      <td>5</td>\n",
              "      <td>positive</td>\n",
              "      <td>0</td>\n",
              "      <td>0</td>\n",
              "      <td>1</td>\n",
              "    </tr>\n",
              "    <tr>\n",
              "      <th>4058</th>\n",
              "      <td>sudah beli yg ke 3</td>\n",
              "      <td>5</td>\n",
              "      <td>neutral</td>\n",
              "      <td>0</td>\n",
              "      <td>1</td>\n",
              "      <td>0</td>\n",
              "    </tr>\n",
              "    <tr>\n",
              "      <th>4059</th>\n",
              "      <td>byk campuranya</td>\n",
              "      <td>4</td>\n",
              "      <td>neutral</td>\n",
              "      <td>0</td>\n",
              "      <td>1</td>\n",
              "      <td>0</td>\n",
              "    </tr>\n",
              "  </tbody>\n",
              "</table>\n",
              "<p>3979 rows × 6 columns</p>\n",
              "</div>"
            ],
            "text/plain": [
              "                                                 Review  ...  positive\n",
              "0                                         enak kuacinya  ...         1\n",
              "1     pengiriman cepat packing bagus sesuai pesanan ...  ...         1\n",
              "2     pengemasan luar biasa baik untuk rasa menurut ...  ...         0\n",
              "3                                       terimakasih min  ...         0\n",
              "4                    udah order untuk kesekian kali jos  ...         0\n",
              "...                                                 ...  ...       ...\n",
              "4055  seler sangat responsif rasa belum dicoba karen...  ...         0\n",
              "4056                          imut2 banget packing aman  ...         1\n",
              "4057                          god product trusted seler  ...         1\n",
              "4058                                 sudah beli yg ke 3  ...         0\n",
              "4059                                     byk campuranya  ...         0\n",
              "\n",
              "[3979 rows x 6 columns]"
            ]
          },
          "metadata": {
            "tags": []
          },
          "execution_count": 13
        }
      ]
    },
    {
      "cell_type": "code",
      "metadata": {
        "colab": {
          "base_uri": "https://localhost:8080/"
        },
        "id": "iFMtGUlKjCtB",
        "outputId": "01534160-0a6d-4340-8d3a-31e57e6c54f2"
      },
      "source": [
        "#to check shape of the dataset\n",
        "print(df_new.shape) \n",
        "\n",
        "#to look the header of dataset\n",
        "df_new.info()"
      ],
      "execution_count": 14,
      "outputs": [
        {
          "output_type": "stream",
          "text": [
            "(3979, 6)\n",
            "<class 'pandas.core.frame.DataFrame'>\n",
            "Int64Index: 3979 entries, 0 to 4059\n",
            "Data columns (total 6 columns):\n",
            " #   Column     Non-Null Count  Dtype   \n",
            "---  ------     --------------  -----   \n",
            " 0   Review     3979 non-null   object  \n",
            " 1   Rating     3979 non-null   int64   \n",
            " 2   Sentiment  3979 non-null   category\n",
            " 3   negative   3979 non-null   uint8   \n",
            " 4   neutral    3979 non-null   uint8   \n",
            " 5   positive   3979 non-null   uint8   \n",
            "dtypes: category(1), int64(1), object(1), uint8(3)\n",
            "memory usage: 108.9+ KB\n"
          ],
          "name": "stdout"
        }
      ]
    },
    {
      "cell_type": "markdown",
      "metadata": {
        "id": "2PLa9SiBSG75"
      },
      "source": [
        "## change data type"
      ]
    },
    {
      "cell_type": "code",
      "metadata": {
        "id": "kozTh-3SSJEh"
      },
      "source": [
        "#get label of dataset\n",
        "content = df_new['Review'].values\n",
        "label = df_new[['negative', 'neutral', 'positive']].values"
      ],
      "execution_count": 15,
      "outputs": []
    },
    {
      "cell_type": "markdown",
      "metadata": {
        "id": "uoSvGdHcQ8yg"
      },
      "source": [
        "## Build Train and test sets"
      ]
    },
    {
      "cell_type": "code",
      "metadata": {
        "id": "xxag8OX_RD0M"
      },
      "source": [
        "content_train, content_test, label_train, label_test = train_test_split(content, label, test_size=0.2)"
      ],
      "execution_count": 16,
      "outputs": []
    },
    {
      "cell_type": "markdown",
      "metadata": {
        "id": "hTFhPogRUAwx"
      },
      "source": [
        "## Tokenizer"
      ]
    },
    {
      "cell_type": "code",
      "metadata": {
        "id": "zP8nyXUtUErv",
        "colab": {
          "base_uri": "https://localhost:8080/"
        },
        "outputId": "ea16fb4e-abd3-40e8-cdeb-f0153c6955cf"
      },
      "source": [
        "tokenizer = Tokenizer(num_words=5000, oov_token='OOV')\n",
        "tokenizer.fit_on_texts(content_train) \n",
        "\n",
        "word2index = tokenizer.word_index\n",
        "print(len(word2index))\n",
        "\n",
        "import json\n",
        "\n",
        "with open('word2indexs.json', 'w') as fp:\n",
        "    json.dump(word2index, fp)\n",
        "\n",
        "sekuens_train = tokenizer.texts_to_sequences(content_train)\n",
        "sekuens_test = tokenizer.texts_to_sequences(content_test)\n",
        " \n",
        "padded_train = pad_sequences(sekuens_train, padding='post', maxlen=20) \n",
        "padded_test = pad_sequences(sekuens_test, padding='post', maxlen=20)\n",
        "padded_train.shape"
      ],
      "execution_count": 17,
      "outputs": [
        {
          "output_type": "stream",
          "text": [
            "4011\n"
          ],
          "name": "stdout"
        },
        {
          "output_type": "execute_result",
          "data": {
            "text/plain": [
              "(3183, 20)"
            ]
          },
          "metadata": {
            "tags": []
          },
          "execution_count": 17
        }
      ]
    },
    {
      "cell_type": "markdown",
      "metadata": {
        "id": "Nt2H0BWYUcHM"
      },
      "source": [
        "## Build Model"
      ]
    },
    {
      "cell_type": "code",
      "metadata": {
        "id": "UFqR9iEUUeml"
      },
      "source": [
        "#build model\n",
        "model = tf.keras.Sequential([\n",
        "    tf.keras.layers.Embedding(input_dim=5000, output_dim=8),\n",
        "    tf.keras.layers.LSTM(64),\n",
        "    tf.keras.layers.Dropout(0.2),\n",
        "    tf.keras.layers.Dense(128, activation='relu'),\n",
        "    tf.keras.layers.Dense(64, activation='relu'),\n",
        "    tf.keras.layers.Dense(3, activation='softmax')\n",
        "])\n",
        "model.compile(loss='categorical_crossentropy',optimizer='adam',metrics=['accuracy'])"
      ],
      "execution_count": 18,
      "outputs": []
    },
    {
      "cell_type": "markdown",
      "metadata": {
        "id": "FsWElxuRSYSX"
      },
      "source": [
        "## Callback"
      ]
    },
    {
      "cell_type": "code",
      "metadata": {
        "id": "27oUkilzSaRD"
      },
      "source": [
        "#to stop train while acuracy greather than 90%\n",
        "class myCallback(tf.keras.callbacks.Callback):\n",
        "  def on_epoch_end(self, epoch, logs={}):\n",
        "    if(logs.get('accuracy') > 0.96 and logs.get('val_accuracy') > 0.96):\n",
        "      print(\"\\nAccuracy and val accuracy has reach >90%!\")\n",
        "      self.model.stop_training = True\n",
        "callbacks = myCallback()"
      ],
      "execution_count": 19,
      "outputs": []
    },
    {
      "cell_type": "markdown",
      "metadata": {
        "id": "awgXvvnXUjyq"
      },
      "source": [
        "## Train"
      ]
    },
    {
      "cell_type": "code",
      "metadata": {
        "id": "pQaDyqjbUuT4",
        "colab": {
          "base_uri": "https://localhost:8080/"
        },
        "outputId": "90ff1634-3882-4ee8-e4b0-1e0f951c95bb"
      },
      "source": [
        "num_epochs = 16\n",
        "history = model.fit(padded_train, label_train, epochs=num_epochs, callbacks=[callbacks],\n",
        "                    validation_data=(padded_test, label_test), verbose=1)"
      ],
      "execution_count": 20,
      "outputs": [
        {
          "output_type": "stream",
          "text": [
            "Epoch 1/16\n",
            "100/100 [==============================] - 4s 18ms/step - loss: 0.8984 - accuracy: 0.6955 - val_loss: 0.7777 - val_accuracy: 0.7161\n",
            "Epoch 2/16\n",
            "100/100 [==============================] - 1s 13ms/step - loss: 0.7175 - accuracy: 0.7294 - val_loss: 0.5368 - val_accuracy: 0.7902\n",
            "Epoch 3/16\n",
            "100/100 [==============================] - 1s 14ms/step - loss: 0.4191 - accuracy: 0.8290 - val_loss: 0.5149 - val_accuracy: 0.8090\n",
            "Epoch 4/16\n",
            "100/100 [==============================] - 1s 13ms/step - loss: 0.3017 - accuracy: 0.8850 - val_loss: 0.5487 - val_accuracy: 0.7563\n",
            "Epoch 5/16\n",
            "100/100 [==============================] - 1s 13ms/step - loss: 0.2740 - accuracy: 0.9068 - val_loss: 0.6407 - val_accuracy: 0.7776\n",
            "Epoch 6/16\n",
            "100/100 [==============================] - 1s 13ms/step - loss: 0.2244 - accuracy: 0.9200 - val_loss: 0.6301 - val_accuracy: 0.7525\n",
            "Epoch 7/16\n",
            "100/100 [==============================] - 1s 13ms/step - loss: 0.2104 - accuracy: 0.9265 - val_loss: 0.6546 - val_accuracy: 0.7688\n",
            "Epoch 8/16\n",
            "100/100 [==============================] - 1s 14ms/step - loss: 0.1725 - accuracy: 0.9422 - val_loss: 0.7491 - val_accuracy: 0.7902\n",
            "Epoch 9/16\n",
            "100/100 [==============================] - 1s 13ms/step - loss: 0.1453 - accuracy: 0.9528 - val_loss: 0.8402 - val_accuracy: 0.7437\n",
            "Epoch 10/16\n",
            "100/100 [==============================] - 1s 13ms/step - loss: 0.1398 - accuracy: 0.9575 - val_loss: 0.7908 - val_accuracy: 0.7977\n",
            "Epoch 11/16\n",
            "100/100 [==============================] - 1s 12ms/step - loss: 0.1320 - accuracy: 0.9583 - val_loss: 0.7517 - val_accuracy: 0.7751\n",
            "Epoch 12/16\n",
            "100/100 [==============================] - 1s 13ms/step - loss: 0.1140 - accuracy: 0.9677 - val_loss: 0.9183 - val_accuracy: 0.7965\n",
            "Epoch 13/16\n",
            "100/100 [==============================] - 1s 13ms/step - loss: 0.0872 - accuracy: 0.9755 - val_loss: 0.9318 - val_accuracy: 0.7676\n",
            "Epoch 14/16\n",
            "100/100 [==============================] - 1s 13ms/step - loss: 0.1091 - accuracy: 0.9679 - val_loss: 0.7916 - val_accuracy: 0.7965\n",
            "Epoch 15/16\n",
            "100/100 [==============================] - 1s 13ms/step - loss: 0.0916 - accuracy: 0.9750 - val_loss: 1.0945 - val_accuracy: 0.7802\n",
            "Epoch 16/16\n",
            "100/100 [==============================] - 1s 13ms/step - loss: 0.0926 - accuracy: 0.9740 - val_loss: 0.9363 - val_accuracy: 0.7889\n"
          ],
          "name": "stdout"
        }
      ]
    },
    {
      "cell_type": "markdown",
      "metadata": {
        "id": "fmi9UVJ2dacY"
      },
      "source": [
        "##plotting"
      ]
    },
    {
      "cell_type": "code",
      "metadata": {
        "colab": {
          "base_uri": "https://localhost:8080/",
          "height": 291
        },
        "id": "Zviv5bg-iPCt",
        "outputId": "69c27646-c481-4733-dde2-b7db2e4b0e98"
      },
      "source": [
        "import keras\n",
        "from matplotlib import pyplot as plt\n",
        "plt.plot(history.history['accuracy'])\n",
        "plt.plot(history.history['val_accuracy'])\n",
        "plt.plot(history.history['loss'])\n",
        "plt.plot(history.history['val_loss'])\n",
        "plt.title('model accuracy')\n",
        "plt.ylabel('accuracy')\n",
        "plt.xlabel('epoch')\n",
        "plt.legend(['train_acc', 'val_acc', 'train_loss','val_loss'], loc='upper left')\n",
        "plt.show()"
      ],
      "execution_count": 21,
      "outputs": [
        {
          "output_type": "display_data",
          "data": {
            "image/png": "[encoded data removed]",
            "text/plain": [
              "<Figure size 432x288 with 1 Axes>"
            ]
          },
          "metadata": {
            "tags": []
          }
        }
      ]
    },
    {
      "cell_type": "markdown",
      "metadata": {
        "id": "97lsro0xLAw-"
      },
      "source": [
        "##saved model"
      ]
    },
    {
      "cell_type": "code",
      "metadata": {
        "colab": {
          "base_uri": "https://localhost:8080/"
        },
        "id": "hIr6dD5NdiSx",
        "outputId": "b5894516-0704-42d6-ef81-f071004d0c27"
      },
      "source": [
        "saving_path = (\"/content/mymodel/\") #path penyimpanan model\n",
        "tf.saved_model.save(model, saving_path)\n",
        "\n",
        "model.save('mymodel.h5')"
      ],
      "execution_count": 22,
      "outputs": [
        {
          "output_type": "stream",
          "text": [
            "WARNING:absl:Found untraced functions such as lstm_cell_layer_call_and_return_conditional_losses, lstm_cell_layer_call_fn, lstm_cell_layer_call_fn, lstm_cell_layer_call_and_return_conditional_losses, lstm_cell_layer_call_and_return_conditional_losses while saving (showing 5 of 5). These functions will not be directly callable after loading.\n",
            "WARNING:absl:Found untraced functions such as lstm_cell_layer_call_and_return_conditional_losses, lstm_cell_layer_call_fn, lstm_cell_layer_call_fn, lstm_cell_layer_call_and_return_conditional_losses, lstm_cell_layer_call_and_return_conditional_losses while saving (showing 5 of 5). These functions will not be directly callable after loading.\n"
          ],
          "name": "stderr"
        },
        {
          "output_type": "stream",
          "text": [
            "INFO:tensorflow:Assets written to: /content/mymodel/assets\n"
          ],
          "name": "stdout"
        },
        {
          "output_type": "stream",
          "text": [
            "INFO:tensorflow:Assets written to: /content/mymodel/assets\n"
          ],
          "name": "stderr"
        }
      ]
    },
    {
      "cell_type": "markdown",
      "metadata": {
        "id": "TxtTqDVTdjsJ"
      },
      "source": [
        "##testing"
      ]
    },
    {
      "cell_type": "code",
      "metadata": {
        "colab": {
          "base_uri": "https://localhost:8080/"
        },
        "id": "EW-CJxSipFwl",
        "outputId": "21c7c2e7-b857-451d-c31e-17b7713db147"
      },
      "source": [
        "from tensorflow.keras.models import Sequential, save_model, load_model\n",
        "# Load the model\n",
        "# model = load_model(saving_path, compile = True)\n",
        "# Recreate the exact same model, including its weights and the optimizer\n",
        "loaded_model = tf.keras.models.load_model('mymodel.h5')\n",
        "\n",
        "# Show the model architecture\n",
        "loaded_model.summary()"
      ],
      "execution_count": 23,
      "outputs": [
        {
          "output_type": "stream",
          "text": [
            "Model: \"sequential\"\n",
            "_________________________________________________________________\n",
            "Layer (type)                 Output Shape              Param #   \n",
            "=================================================================\n",
            "embedding (Embedding)        (None, None, 8)           40000     \n",
            "_________________________________________________________________\n",
            "lstm (LSTM)                  (None, 64)                18688     \n",
            "_________________________________________________________________\n",
            "dropout (Dropout)            (None, 64)                0         \n",
            "_________________________________________________________________\n",
            "dense (Dense)                (None, 128)               8320      \n",
            "_________________________________________________________________\n",
            "dense_1 (Dense)              (None, 64)                8256      \n",
            "_________________________________________________________________\n",
            "dense_2 (Dense)              (None, 3)                 195       \n",
            "=================================================================\n",
            "Total params: 75,459\n",
            "Trainable params: 75,459\n",
            "Non-trainable params: 0\n",
            "_________________________________________________________________\n"
          ],
          "name": "stdout"
        }
      ]
    },
    {
      "cell_type": "code",
      "metadata": {
        "colab": {
          "base_uri": "https://localhost:8080/"
        },
        "id": "qmVyCopEdmAT",
        "outputId": "3287f2a1-00fa-4902-a8e6-a614c679301d"
      },
      "source": [
        "loaded_model.evaluate(padded_test,label_test)"
      ],
      "execution_count": 24,
      "outputs": [
        {
          "output_type": "stream",
          "text": [
            "25/25 [==============================] - 1s 4ms/step - loss: 0.9363 - accuracy: 0.7889\n"
          ],
          "name": "stdout"
        },
        {
          "output_type": "execute_result",
          "data": {
            "text/plain": [
              "[0.9362616539001465, 0.7889447212219238]"
            ]
          },
          "metadata": {
            "tags": []
          },
          "execution_count": 24
        }
      ]
    },
    {
      "cell_type": "code",
      "metadata": {
        "colab": {
          "base_uri": "https://localhost:8080/"
        },
        "id": "MXnVhZbflXu-",
        "outputId": "75f2e19b-3de1-40b7-b0ec-b006a060f773"
      },
      "source": [
        "content_testing = np.array(['terimakasih', 'enak tapi gosong', 'rasanya enak dan pengiriman cepat'])\n",
        "def tokenizer(content_train, arr):\n",
        "  tokenizer = Tokenizer(num_words=5000, oov_token='OOV')\n",
        "  tokenizer.fit_on_texts(content_train) \n",
        "  sekuens_test = tokenizer.texts_to_sequences(arr)\n",
        "  padded_test = pad_sequences(sekuens_test, padding='post', maxlen=20)\n",
        "  return padded_test\n",
        "\n",
        "result = loaded_model.predict(tokenizer(content_train,content_testing))\n",
        "print(result)\n",
        "classes = np.argmax(result, axis = 1)\n",
        "print(classes)"
      ],
      "execution_count": 25,
      "outputs": [
        {
          "output_type": "stream",
          "text": [
            "[[2.0065734e-03 9.8395652e-01 1.4036959e-02]\n",
            " [9.9695182e-01 2.6651877e-03 3.8287233e-04]\n",
            " [2.0613739e-05 2.3057249e-03 9.9767369e-01]]\n",
            "[1 0 2]\n"
          ],
          "name": "stdout"
        }
      ]
    },
    {
      "cell_type": "markdown",
      "metadata": {
        "id": "IgW1XWLsddXo"
      },
      "source": [
        "##save model tfjs"
      ]
    },
    {
      "cell_type": "code",
      "metadata": {
        "colab": {
          "base_uri": "https://localhost:8080/"
        },
        "id": "BlJXhhyVKwvE",
        "outputId": "70b37fb0-641e-4545-b823-5575360b9797"
      },
      "source": [
        "!pip install tensorflowjs"
      ],
      "execution_count": 26,
      "outputs": [
        {
          "output_type": "stream",
          "text": [
            "Collecting tensorflowjs\n",
            "\u001b[?25l  Downloading https://files.pythonhosted.org/packages/28/5a/2497b3ba86f5f1c2c7539e0bc5d957146a5ed71acfb6c66f644974af4309/tensorflowjs-3.6.0-py3-none-any.whl (63kB)\n",
            "\r\u001b[K     |█████▏                          | 10kB 7.0MB/s eta 0:00:01\r\u001b[K     |██████████▎                     | 20kB 11.3MB/s eta 0:00:01\r\u001b[K     |███████████████▍                | 30kB 14.8MB/s eta 0:00:01\r\u001b[K     |████████████████████▌           | 40kB 14.1MB/s eta 0:00:01\r\u001b[K     |█████████████████████████▊      | 51kB 7.7MB/s eta 0:00:01\r\u001b[K     |██████████████████████████████▉ | 61kB 6.9MB/s eta 0:00:01\r\u001b[K     |████████████████████████████████| 71kB 4.8MB/s \n",
            "\u001b[?25hRequirement already satisfied: tensorflow<3,>=2.1.0 in /usr/local/lib/python3.7/dist-packages (from tensorflowjs) (2.4.1)\n",
            "Requirement already satisfied: six<2,>=1.12.0 in /usr/local/lib/python3.7/dist-packages (from tensorflowjs) (1.15.0)\n",
            "Collecting tensorflow-hub<0.10,>=0.7.0\n",
            "\u001b[?25l  Downloading https://files.pythonhosted.org/packages/ac/83/a7df82744a794107641dad1decaad017d82e25f0e1f761ac9204829eef96/tensorflow_hub-0.9.0-py2.py3-none-any.whl (103kB)\n",
            "\u001b[K     |████████████████████████████████| 112kB 14.0MB/s \n",
            "\u001b[?25hRequirement already satisfied: flatbuffers~=1.12.0 in /usr/local/lib/python3.7/dist-packages (from tensorflow<3,>=2.1.0->tensorflowjs) (1.12)\n",
            "Requirement already satisfied: h5py~=2.10.0 in /usr/local/lib/python3.7/dist-packages (from tensorflow<3,>=2.1.0->tensorflowjs) (2.10.0)\n",
            "Requirement already satisfied: tensorboard~=2.4 in /usr/local/lib/python3.7/dist-packages (from tensorflow<3,>=2.1.0->tensorflowjs) (2.4.1)\n",
            "Requirement already satisfied: absl-py~=0.10 in /usr/local/lib/python3.7/dist-packages (from tensorflow<3,>=2.1.0->tensorflowjs) (0.12.0)\n",
            "Requirement already satisfied: tensorflow-estimator<2.5.0,>=2.4.0 in /usr/local/lib/python3.7/dist-packages (from tensorflow<3,>=2.1.0->tensorflowjs) (2.4.0)\n",
            "Requirement already satisfied: wheel~=0.35 in /usr/local/lib/python3.7/dist-packages (from tensorflow<3,>=2.1.0->tensorflowjs) (0.36.2)\n",
            "Requirement already satisfied: grpcio~=1.32.0 in /usr/local/lib/python3.7/dist-packages (from tensorflow<3,>=2.1.0->tensorflowjs) (1.32.0)\n",
            "Requirement already satisfied: numpy~=1.19.2 in /usr/local/lib/python3.7/dist-packages (from tensorflow<3,>=2.1.0->tensorflowjs) (1.19.5)\n",
            "Requirement already satisfied: termcolor~=1.1.0 in /usr/local/lib/python3.7/dist-packages (from tensorflow<3,>=2.1.0->tensorflowjs) (1.1.0)\n",
            "Requirement already satisfied: keras-preprocessing~=1.1.2 in /usr/local/lib/python3.7/dist-packages (from tensorflow<3,>=2.1.0->tensorflowjs) (1.1.2)\n",
            "Requirement already satisfied: opt-einsum~=3.3.0 in /usr/local/lib/python3.7/dist-packages (from tensorflow<3,>=2.1.0->tensorflowjs) (3.3.0)\n",
            "Requirement already satisfied: google-pasta~=0.2 in /usr/local/lib/python3.7/dist-packages (from tensorflow<3,>=2.1.0->tensorflowjs) (0.2.0)\n",
            "Requirement already satisfied: gast==0.3.3 in /usr/local/lib/python3.7/dist-packages (from tensorflow<3,>=2.1.0->tensorflowjs) (0.3.3)\n",
            "Requirement already satisfied: protobuf>=3.9.2 in /usr/local/lib/python3.7/dist-packages (from tensorflow<3,>=2.1.0->tensorflowjs) (3.12.4)\n",
            "Requirement already satisfied: typing-extensions~=3.7.4 in /usr/local/lib/python3.7/dist-packages (from tensorflow<3,>=2.1.0->tensorflowjs) (3.7.4.3)\n",
            "Requirement already satisfied: wrapt~=1.12.1 in /usr/local/lib/python3.7/dist-packages (from tensorflow<3,>=2.1.0->tensorflowjs) (1.12.1)\n",
            "Requirement already satisfied: astunparse~=1.6.3 in /usr/local/lib/python3.7/dist-packages (from tensorflow<3,>=2.1.0->tensorflowjs) (1.6.3)\n",
            "Requirement already satisfied: setuptools>=41.0.0 in /usr/local/lib/python3.7/dist-packages (from tensorboard~=2.4->tensorflow<3,>=2.1.0->tensorflowjs) (56.1.0)\n",
            "Requirement already satisfied: werkzeug>=0.11.15 in /usr/local/lib/python3.7/dist-packages (from tensorboard~=2.4->tensorflow<3,>=2.1.0->tensorflowjs) (2.0.0)\n",
            "Requirement already satisfied: tensorboard-plugin-wit>=1.6.0 in /usr/local/lib/python3.7/dist-packages (from tensorboard~=2.4->tensorflow<3,>=2.1.0->tensorflowjs) (1.8.0)\n",
            "Requirement already satisfied: requests<3,>=2.21.0 in /usr/local/lib/python3.7/dist-packages (from tensorboard~=2.4->tensorflow<3,>=2.1.0->tensorflowjs) (2.23.0)\n",
            "Requirement already satisfied: google-auth-oauthlib<0.5,>=0.4.1 in /usr/local/lib/python3.7/dist-packages (from tensorboard~=2.4->tensorflow<3,>=2.1.0->tensorflowjs) (0.4.4)\n",
            "Requirement already satisfied: markdown>=2.6.8 in /usr/local/lib/python3.7/dist-packages (from tensorboard~=2.4->tensorflow<3,>=2.1.0->tensorflowjs) (3.3.4)\n",
            "Requirement already satisfied: google-auth<2,>=1.6.3 in /usr/local/lib/python3.7/dist-packages (from tensorboard~=2.4->tensorflow<3,>=2.1.0->tensorflowjs) (1.30.0)\n",
            "Requirement already satisfied: certifi>=2017.4.17 in /usr/local/lib/python3.7/dist-packages (from requests<3,>=2.21.0->tensorboard~=2.4->tensorflow<3,>=2.1.0->tensorflowjs) (2020.12.5)\n",
            "Requirement already satisfied: idna<3,>=2.5 in /usr/local/lib/python3.7/dist-packages (from requests<3,>=2.21.0->tensorboard~=2.4->tensorflow<3,>=2.1.0->tensorflowjs) (2.10)\n",
            "Requirement already satisfied: chardet<4,>=3.0.2 in /usr/local/lib/python3.7/dist-packages (from requests<3,>=2.21.0->tensorboard~=2.4->tensorflow<3,>=2.1.0->tensorflowjs) (3.0.4)\n",
            "Requirement already satisfied: urllib3!=1.25.0,!=1.25.1,<1.26,>=1.21.1 in /usr/local/lib/python3.7/dist-packages (from requests<3,>=2.21.0->tensorboard~=2.4->tensorflow<3,>=2.1.0->tensorflowjs) (1.24.3)\n",
            "Requirement already satisfied: requests-oauthlib>=0.7.0 in /usr/local/lib/python3.7/dist-packages (from google-auth-oauthlib<0.5,>=0.4.1->tensorboard~=2.4->tensorflow<3,>=2.1.0->tensorflowjs) (1.3.0)\n",
            "Requirement already satisfied: importlib-metadata; python_version < \"3.8\" in /usr/local/lib/python3.7/dist-packages (from markdown>=2.6.8->tensorboard~=2.4->tensorflow<3,>=2.1.0->tensorflowjs) (4.0.1)\n",
            "Requirement already satisfied: rsa<5,>=3.1.4; python_version >= \"3.6\" in /usr/local/lib/python3.7/dist-packages (from google-auth<2,>=1.6.3->tensorboard~=2.4->tensorflow<3,>=2.1.0->tensorflowjs) (4.7.2)\n",
            "Requirement already satisfied: cachetools<5.0,>=2.0.0 in /usr/local/lib/python3.7/dist-packages (from google-auth<2,>=1.6.3->tensorboard~=2.4->tensorflow<3,>=2.1.0->tensorflowjs) (4.2.2)\n",
            "Requirement already satisfied: pyasn1-modules>=0.2.1 in /usr/local/lib/python3.7/dist-packages (from google-auth<2,>=1.6.3->tensorboard~=2.4->tensorflow<3,>=2.1.0->tensorflowjs) (0.2.8)\n",
            "Requirement already satisfied: oauthlib>=3.0.0 in /usr/local/lib/python3.7/dist-packages (from requests-oauthlib>=0.7.0->google-auth-oauthlib<0.5,>=0.4.1->tensorboard~=2.4->tensorflow<3,>=2.1.0->tensorflowjs) (3.1.0)\n",
            "Requirement already satisfied: zipp>=0.5 in /usr/local/lib/python3.7/dist-packages (from importlib-metadata; python_version < \"3.8\"->markdown>=2.6.8->tensorboard~=2.4->tensorflow<3,>=2.1.0->tensorflowjs) (3.4.1)\n",
            "Requirement already satisfied: pyasn1>=0.1.3 in /usr/local/lib/python3.7/dist-packages (from rsa<5,>=3.1.4; python_version >= \"3.6\"->google-auth<2,>=1.6.3->tensorboard~=2.4->tensorflow<3,>=2.1.0->tensorflowjs) (0.4.8)\n",
            "Installing collected packages: tensorflow-hub, tensorflowjs\n",
            "  Found existing installation: tensorflow-hub 0.12.0\n",
            "    Uninstalling tensorflow-hub-0.12.0:\n",
            "      Successfully uninstalled tensorflow-hub-0.12.0\n",
            "Successfully installed tensorflow-hub-0.9.0 tensorflowjs-3.6.0\n"
          ],
          "name": "stdout"
        }
      ]
    },
    {
      "cell_type": "code",
      "metadata": {
        "colab": {
          "base_uri": "https://localhost:8080/"
        },
        "id": "Z5tgR0UsKwvF",
        "outputId": "a7de5d68-46b9-4e9b-9eb8-37b9db88832c"
      },
      "source": [
        "saved_model_path = '/content/mymodel/'\n",
        "tf.saved_model.save(model, saved_model_path)"
      ],
      "execution_count": 27,
      "outputs": [
        {
          "output_type": "stream",
          "text": [
            "WARNING:absl:Found untraced functions such as lstm_cell_layer_call_and_return_conditional_losses, lstm_cell_layer_call_fn, lstm_cell_layer_call_fn, lstm_cell_layer_call_and_return_conditional_losses, lstm_cell_layer_call_and_return_conditional_losses while saving (showing 5 of 5). These functions will not be directly callable after loading.\n",
            "WARNING:absl:Found untraced functions such as lstm_cell_layer_call_and_return_conditional_losses, lstm_cell_layer_call_fn, lstm_cell_layer_call_fn, lstm_cell_layer_call_and_return_conditional_losses, lstm_cell_layer_call_and_return_conditional_losses while saving (showing 5 of 5). These functions will not be directly callable after loading.\n"
          ],
          "name": "stderr"
        },
        {
          "output_type": "stream",
          "text": [
            "INFO:tensorflow:Assets written to: /content/mymodel/assets\n"
          ],
          "name": "stdout"
        },
        {
          "output_type": "stream",
          "text": [
            "INFO:tensorflow:Assets written to: /content/mymodel/assets\n"
          ],
          "name": "stderr"
        }
      ]
    },
    {
      "cell_type": "code",
      "metadata": {
        "colab": {
          "base_uri": "https://localhost:8080/"
        },
        "id": "ObgbMvOiKwvF",
        "outputId": "55f431cd-8630-4c27-d7af-5c8aa1d84a39"
      },
      "source": [
        "!tensorflowjs_converter \\\n",
        "  --input_format=tf_saved_model \\\n",
        "  /content/mymodel/ \\\n",
        "  /content/modeltfjs"
      ],
      "execution_count": 28,
      "outputs": [
        {
          "output_type": "stream",
          "text": [
            "2021-05-20 05:30:56.071517: I tensorflow/stream_executor/platform/default/dso_loader.cc:49] Successfully opened dynamic library libcudart.so.11.0\n",
            "2021-05-20 05:30:58.037707: I tensorflow/compiler/jit/xla_cpu_device.cc:41] Not creating XLA devices, tf_xla_enable_xla_devices not set\n",
            "2021-05-20 05:30:58.039268: I tensorflow/stream_executor/platform/default/dso_loader.cc:49] Successfully opened dynamic library libcuda.so.1\n",
            "2021-05-20 05:30:58.049315: E tensorflow/stream_executor/cuda/cuda_driver.cc:328] failed call to cuInit: CUDA_ERROR_NO_DEVICE: no CUDA-capable device is detected\n",
            "2021-05-20 05:30:58.049363: I tensorflow/stream_executor/cuda/cuda_diagnostics.cc:156] kernel driver does not appear to be running on this host (dd8ac2c9747e): /proc/driver/nvidia/version does not exist\n",
            "2021-05-20 05:30:58.049680: I tensorflow/core/platform/cpu_feature_guard.cc:142] This TensorFlow binary is optimized with oneAPI Deep Neural Network Library (oneDNN) to use the following CPU instructions in performance-critical operations:  AVX512F\n",
            "To enable them in other operations, rebuild TensorFlow with the appropriate compiler flags.\n",
            "2021-05-20 05:30:58.049839: I tensorflow/compiler/jit/xla_gpu_device.cc:99] Not creating XLA devices, tf_xla_enable_xla_devices not set\n",
            "2021-05-20 05:30:59.607842: I tensorflow/core/grappler/devices.cc:69] Number of eligible GPUs (core count >= 8, compute capability >= 0.0): 0\n",
            "2021-05-20 05:30:59.608027: I tensorflow/core/grappler/clusters/single_machine.cc:356] Starting new session\n",
            "2021-05-20 05:30:59.608309: I tensorflow/compiler/jit/xla_gpu_device.cc:99] Not creating XLA devices, tf_xla_enable_xla_devices not set\n",
            "2021-05-20 05:30:59.608564: I tensorflow/core/platform/profile_utils/cpu_utils.cc:112] CPU Frequency: 1999995000 Hz\n",
            "2021-05-20 05:30:59.616682: I tensorflow/core/grappler/optimizers/meta_optimizer.cc:928] Optimization results for grappler item: graph_to_optimize\n",
            "  function_optimizer: Graph size after: 261 nodes (248), 361 edges (348), time = 4.493ms.\n",
            "  function_optimizer: function_optimizer did nothing. time = 0.083ms.\n",
            "\n",
            "2021-05-20 05:30:59.808816: I tensorflow/core/grappler/optimizers/meta_optimizer.cc:928] Optimization results for grappler item: graph_to_optimize\n",
            "  debug_stripper: debug_stripper did nothing. time = 0.02ms.\n",
            "  model_pruner: Graph size after: 175 nodes (-43), 220 edges (-43), time = 0.953ms.\n",
            "  constant_folding: Graph size after: 166 nodes (-9), 211 edges (-9), time = 4.937ms.\n",
            "  arithmetic_optimizer: Graph size after: 166 nodes (0), 211 edges (0), time = 1.806ms.\n",
            "  dependency_optimizer: Graph size after: 150 nodes (-16), 167 edges (-44), time = 0.963ms.\n",
            "  model_pruner: Graph size after: 150 nodes (0), 167 edges (0), time = 0.408ms.\n",
            "  constant_folding: Graph size after: 150 nodes (0), 167 edges (0), time = 2.148ms.\n",
            "  arithmetic_optimizer: Graph size after: 150 nodes (0), 167 edges (0), time = 1.588ms.\n",
            "  dependency_optimizer: Graph size after: 150 nodes (0), 167 edges (0), time = 0.741ms.\n",
            "  debug_stripper: debug_stripper did nothing. time = 0.051ms.\n",
            "  model_pruner: Graph size after: 150 nodes (0), 167 edges (0), time = 0.365ms.\n",
            "  constant_folding: Graph size after: 150 nodes (0), 167 edges (0), time = 1.803ms.\n",
            "  arithmetic_optimizer: Graph size after: 150 nodes (0), 167 edges (0), time = 1.631ms.\n",
            "  dependency_optimizer: Graph size after: 150 nodes (0), 167 edges (0), time = 0.752ms.\n",
            "  model_pruner: Graph size after: 150 nodes (0), 167 edges (0), time = 0.408ms.\n",
            "  constant_folding: Graph size after: 150 nodes (0), 167 edges (0), time = 1.764ms.\n",
            "  arithmetic_optimizer: Graph size after: 150 nodes (0), 167 edges (0), time = 1.558ms.\n",
            "  dependency_optimizer: Graph size after: 150 nodes (0), 167 edges (0), time = 0.737ms.\n",
            "\n",
            "2021-05-20 05:30:59.830745: I tensorflow/core/grappler/optimizers/meta_optimizer.cc:928] Optimization results for grappler item: graph_to_optimize\n",
            "  remapper: Graph size after: 145 nodes (-5), 162 edges (-5), time = 0.477ms.\n",
            "  constant_folding: Graph size after: 145 nodes (0), 162 edges (0), time = 2.376ms.\n",
            "  arithmetic_optimizer: Graph size after: 145 nodes (0), 162 edges (0), time = 1.62ms.\n",
            "  dependency_optimizer: Graph size after: 145 nodes (0), 162 edges (0), time = 0.764ms.\n",
            "  remapper: Graph size after: 145 nodes (0), 162 edges (0), time = 0.328ms.\n",
            "  constant_folding: Graph size after: 145 nodes (0), 162 edges (0), time = 1.799ms.\n",
            "  arithmetic_optimizer: Graph size after: 145 nodes (0), 162 edges (0), time = 1.604ms.\n",
            "  dependency_optimizer: Graph size after: 145 nodes (0), 162 edges (0), time = 0.794ms.\n",
            "\n",
            "Writing weight file /content/modeltfjs/model.json...\n"
          ],
          "name": "stdout"
        }
      ]
    },
    {
      "cell_type": "code",
      "metadata": {
        "colab": {
          "base_uri": "https://localhost:8080/"
        },
        "id": "924CGumdRjw4",
        "outputId": "79dfa5d5-57c6-48ad-8229-c08515fc1cc1"
      },
      "source": [
        "!zip -r modeltfjs.zip /content/modeltfjs"
      ],
      "execution_count": 31,
      "outputs": [
        {
          "output_type": "stream",
          "text": [
            "  adding: content/modeltfjs/ (stored 0%)\n",
            "  adding: content/modeltfjs/model.json (deflated 93%)\n",
            "  adding: content/modeltfjs/group1-shard1of1.bin (deflated 7%)\n"
          ],
          "name": "stdout"
        }
      ]
    },
    {
      "cell_type": "code",
      "metadata": {
        "colab": {
          "base_uri": "https://localhost:8080/",
          "height": 17
        },
        "id": "pkRLIwIERkU2",
        "outputId": "92fa3bff-d1f6-415f-b07d-623fdb56e6a6"
      },
      "source": [
        "from google.colab import files\n",
        "files.download(\"/content/modeltfjs.zip\")"
      ],
      "execution_count": 32,
      "outputs": [
        {
          "output_type": "display_data",
          "data": {
            "application/javascript": [
              "\n",
              "    async function download(id, filename, size) {\n",
              "      if (!google.colab.kernel.accessAllowed) {\n",
              "        return;\n",
              "      }\n",
              "      const div = document.createElement('div');\n",
              "      const label = document.createElement('label');\n",
              "      label.textContent = `Downloading \"${filename}\": `;\n",
              "      div.appendChild(label);\n",
              "      const progress = document.createElement('progress');\n",
              "      progress.max = size;\n",
              "      div.appendChild(progress);\n",
              "      document.body.appendChild(div);\n",
              "\n",
              "      const buffers = [];\n",
              "      let downloaded = 0;\n",
              "\n",
              "      const channel = await google.colab.kernel.comms.open(id);\n",
              "      // Send a message to notify the kernel that we're ready.\n",
              "      channel.send({})\n",
              "\n",
              "      for await (const message of channel.messages) {\n",
              "        // Send a message to notify the kernel that we're ready.\n",
              "        channel.send({})\n",
              "        if (message.buffers) {\n",
              "          for (const buffer of message.buffers) {\n",
              "            buffers.push(buffer);\n",
              "            downloaded += buffer.byteLength;\n",
              "            progress.value = downloaded;\n",
              "          }\n",
              "        }\n",
              "      }\n",
              "      const blob = new Blob(buffers, {type: 'application/binary'});\n",
              "      const a = document.createElement('a');\n",
              "      a.href = window.URL.createObjectURL(blob);\n",
              "      a.download = filename;\n",
              "      div.appendChild(a);\n",
              "      a.click();\n",
              "      div.remove();\n",
              "    }\n",
              "  "
            ],
            "text/plain": [
              "<IPython.core.display.Javascript object>"
            ]
          },
          "metadata": {
            "tags": []
          }
        },
        {
          "output_type": "display_data",
          "data": {
            "application/javascript": [
              "download(\"download_beb9d7a0-5185-4301-aead-c39ddc757de7\", \"modeltfjs.zip\", 282963)"
            ],
            "text/plain": [
              "<IPython.core.display.Javascript object>"
            ]
          },
          "metadata": {
            "tags": []
          }
        }
      ]
    },
    {
      "cell_type": "markdown",
      "metadata": {
        "id": "OVNVV-MSM69Z"
      },
      "source": [
        "#**Building model with LSTM (2)**"
      ]
    },
    {
      "cell_type": "markdown",
      "metadata": {
        "id": "yb_OWdHZDWoN"
      },
      "source": [
        "## Load Dataset"
      ]
    },
    {
      "cell_type": "code",
      "metadata": {
        "id": "pTwy9t-hM-ua"
      },
      "source": [
        "import pandas as pd\n",
        "import tensorflow as tf\n",
        "from sklearn.model_selection import train_test_split\n",
        "from tensorflow.keras.preprocessing.text import Tokenizer\n",
        "from tensorflow.keras.preprocessing.sequence import pad_sequences"
      ],
      "execution_count": 1,
      "outputs": []
    },
    {
      "cell_type": "code",
      "metadata": {
        "colab": {
          "base_uri": "https://localhost:8080/"
        },
        "id": "UlydP0FHDWoR",
        "outputId": "7e060182-ddf8-4e99-ab70-e2eeee4377cf"
      },
      "source": [
        "!wget https://raw.githubusercontent.com/H4rfu1/ML-project-TokoLitik-tim-Undagi/main/Response/dataset_review_tokped_labelled.csv"
      ],
      "execution_count": 2,
      "outputs": [
        {
          "output_type": "stream",
          "text": [
            "--2021-05-20 04:50:42--  https://raw.githubusercontent.com/H4rfu1/ML-project-TokoLitik-tim-Undagi/main/Response/dataset_review_tokped_labelled.csv\n",
            "Resolving raw.githubusercontent.com (raw.githubusercontent.com)... 185.199.108.133, 185.199.109.133, 185.199.110.133, ...\n",
            "Connecting to raw.githubusercontent.com (raw.githubusercontent.com)|185.199.108.133|:443... connected.\n",
            "HTTP request sent, awaiting response... 200 OK\n",
            "Length: 294589 (288K) [text/plain]\n",
            "Saving to: ‘dataset_review_tokped_labelled.csv’\n",
            "\n",
            "dataset_review_tokp 100%[===================>] 287.68K  --.-KB/s    in 0.02s   \n",
            "\n",
            "2021-05-20 04:50:43 (12.6 MB/s) - ‘dataset_review_tokped_labelled.csv’ saved [294589/294589]\n",
            "\n"
          ],
          "name": "stdout"
        }
      ]
    },
    {
      "cell_type": "code",
      "metadata": {
        "colab": {
          "base_uri": "https://localhost:8080/",
          "height": 436
        },
        "id": "0reMgdpUDWoS",
        "outputId": "efc456fd-2517-416c-d4e9-41e0246ef659"
      },
      "source": [
        "#dataset from crawling process\n",
        "df = pd.read_csv('/content/dataset_review_tokped_labelled.csv')\n",
        "print(df.shape)\n",
        "df"
      ],
      "execution_count": 2,
      "outputs": [
        {
          "output_type": "stream",
          "text": [
            "(4060, 3)\n"
          ],
          "name": "stdout"
        },
        {
          "output_type": "execute_result",
          "data": {
            "text/html": [
              "<div>\n",
              "<style scoped>\n",
              "    .dataframe tbody tr th:only-of-type {\n",
              "        vertical-align: middle;\n",
              "    }\n",
              "\n",
              "    .dataframe tbody tr th {\n",
              "        vertical-align: top;\n",
              "    }\n",
              "\n",
              "    .dataframe thead th {\n",
              "        text-align: right;\n",
              "    }\n",
              "</style>\n",
              "<table border=\"1\" class=\"dataframe\">\n",
              "  <thead>\n",
              "    <tr style=\"text-align: right;\">\n",
              "      <th></th>\n",
              "      <th>Review</th>\n",
              "      <th>Rating</th>\n",
              "      <th>Sentiment</th>\n",
              "    </tr>\n",
              "  </thead>\n",
              "  <tbody>\n",
              "    <tr>\n",
              "      <th>0</th>\n",
              "      <td>enak kuacinya</td>\n",
              "      <td>5</td>\n",
              "      <td>positive</td>\n",
              "    </tr>\n",
              "    <tr>\n",
              "      <th>1</th>\n",
              "      <td>pengiriman cepat packing bagus sesuai pesanan ...</td>\n",
              "      <td>5</td>\n",
              "      <td>positive</td>\n",
              "    </tr>\n",
              "    <tr>\n",
              "      <th>2</th>\n",
              "      <td>pengemasan luar biasa baik untuk rasa menurut ...</td>\n",
              "      <td>4</td>\n",
              "      <td>negative</td>\n",
              "    </tr>\n",
              "    <tr>\n",
              "      <th>3</th>\n",
              "      <td>terimakasih min</td>\n",
              "      <td>5</td>\n",
              "      <td>neutral</td>\n",
              "    </tr>\n",
              "    <tr>\n",
              "      <th>4</th>\n",
              "      <td>udah order untuk kesekian kali jos</td>\n",
              "      <td>5</td>\n",
              "      <td>neutral</td>\n",
              "    </tr>\n",
              "    <tr>\n",
              "      <th>...</th>\n",
              "      <td>...</td>\n",
              "      <td>...</td>\n",
              "      <td>...</td>\n",
              "    </tr>\n",
              "    <tr>\n",
              "      <th>4055</th>\n",
              "      <td>seller sangat responsif rasa belum dicoba kare...</td>\n",
              "      <td>5</td>\n",
              "      <td>neutral</td>\n",
              "    </tr>\n",
              "    <tr>\n",
              "      <th>4056</th>\n",
              "      <td>imut2 banget packing aman</td>\n",
              "      <td>5</td>\n",
              "      <td>positive</td>\n",
              "    </tr>\n",
              "    <tr>\n",
              "      <th>4057</th>\n",
              "      <td>good product trusted seller</td>\n",
              "      <td>5</td>\n",
              "      <td>positive</td>\n",
              "    </tr>\n",
              "    <tr>\n",
              "      <th>4058</th>\n",
              "      <td>sudah beli yg ke 3</td>\n",
              "      <td>5</td>\n",
              "      <td>neutral</td>\n",
              "    </tr>\n",
              "    <tr>\n",
              "      <th>4059</th>\n",
              "      <td>byk campurannya</td>\n",
              "      <td>4</td>\n",
              "      <td>neutral</td>\n",
              "    </tr>\n",
              "  </tbody>\n",
              "</table>\n",
              "<p>4060 rows × 3 columns</p>\n",
              "</div>"
            ],
            "text/plain": [
              "                                                 Review  Rating Sentiment\n",
              "0                                         enak kuacinya       5  positive\n",
              "1     pengiriman cepat packing bagus sesuai pesanan ...       5  positive\n",
              "2     pengemasan luar biasa baik untuk rasa menurut ...       4  negative\n",
              "3                                       terimakasih min       5   neutral\n",
              "4                    udah order untuk kesekian kali jos       5   neutral\n",
              "...                                                 ...     ...       ...\n",
              "4055  seller sangat responsif rasa belum dicoba kare...       5   neutral\n",
              "4056                          imut2 banget packing aman       5  positive\n",
              "4057                        good product trusted seller       5  positive\n",
              "4058                                 sudah beli yg ke 3       5   neutral\n",
              "4059                                    byk campurannya       4   neutral\n",
              "\n",
              "[4060 rows x 3 columns]"
            ]
          },
          "metadata": {
            "tags": []
          },
          "execution_count": 2
        }
      ]
    },
    {
      "cell_type": "markdown",
      "metadata": {
        "id": "MTXm3ZuMD4qc"
      },
      "source": [
        "## Check Dataset"
      ]
    },
    {
      "cell_type": "code",
      "metadata": {
        "colab": {
          "base_uri": "https://localhost:8080/",
          "height": 317
        },
        "id": "CAQHBA7JD4qi",
        "outputId": "b17b7799-c12c-4480-b78e-c4087fe69bf2"
      },
      "source": [
        "pd.value_counts(df['Sentiment']).plot.bar()"
      ],
      "execution_count": 4,
      "outputs": [
        {
          "output_type": "execute_result",
          "data": {
            "text/plain": [
              "<matplotlib.axes._subplots.AxesSubplot at 0x7fe1b5c9ef50>"
            ]
          },
          "metadata": {
            "tags": []
          },
          "execution_count": 4
        },
        {
          "output_type": "display_data",
          "data": {
            "image/png": "[encoded data removed]",
            "text/plain": [
              "<Figure size 432x288 with 1 Axes>"
            ]
          },
          "metadata": {
            "tags": [],
            "needs_background": "light"
          }
        }
      ]
    },
    {
      "cell_type": "code",
      "metadata": {
        "colab": {
          "base_uri": "https://localhost:8080/"
        },
        "id": "K1_KZgI7D4qj",
        "outputId": "bfe107fd-2551-4aa8-d4bf-c5f83cd6bdb9"
      },
      "source": [
        "#to check shape of the dataset\n",
        "print(df.shape) \n",
        "\n",
        "#to look the header of dataset\n",
        "df.info()\n"
      ],
      "execution_count": 3,
      "outputs": [
        {
          "output_type": "stream",
          "text": [
            "(4060, 3)\n",
            "<class 'pandas.core.frame.DataFrame'>\n",
            "RangeIndex: 4060 entries, 0 to 4059\n",
            "Data columns (total 3 columns):\n",
            " #   Column     Non-Null Count  Dtype \n",
            "---  ------     --------------  ----- \n",
            " 0   Review     4060 non-null   object\n",
            " 1   Rating     4060 non-null   int64 \n",
            " 2   Sentiment  4060 non-null   object\n",
            "dtypes: int64(1), object(2)\n",
            "memory usage: 95.3+ KB\n"
          ],
          "name": "stdout"
        }
      ]
    },
    {
      "cell_type": "code",
      "metadata": {
        "colab": {
          "base_uri": "https://localhost:8080/",
          "height": 419
        },
        "id": "NQDA7DLsD4qk",
        "outputId": "a6d3368d-044f-490b-d5c7-f1bcb2b18a05"
      },
      "source": [
        "#separate column category and add value to it\n",
        "category = pd.get_dummies(df.Sentiment)\n",
        "df = pd.concat([df, category], axis=1)\n",
        "df = df.drop(columns='Sentiment')\n",
        "df"
      ],
      "execution_count": 4,
      "outputs": [
        {
          "output_type": "execute_result",
          "data": {
            "text/html": [
              "<div>\n",
              "<style scoped>\n",
              "    .dataframe tbody tr th:only-of-type {\n",
              "        vertical-align: middle;\n",
              "    }\n",
              "\n",
              "    .dataframe tbody tr th {\n",
              "        vertical-align: top;\n",
              "    }\n",
              "\n",
              "    .dataframe thead th {\n",
              "        text-align: right;\n",
              "    }\n",
              "</style>\n",
              "<table border=\"1\" class=\"dataframe\">\n",
              "  <thead>\n",
              "    <tr style=\"text-align: right;\">\n",
              "      <th></th>\n",
              "      <th>Review</th>\n",
              "      <th>Rating</th>\n",
              "      <th>negative</th>\n",
              "      <th>neutral</th>\n",
              "      <th>positive</th>\n",
              "    </tr>\n",
              "  </thead>\n",
              "  <tbody>\n",
              "    <tr>\n",
              "      <th>0</th>\n",
              "      <td>enak kuacinya</td>\n",
              "      <td>5</td>\n",
              "      <td>0</td>\n",
              "      <td>0</td>\n",
              "      <td>1</td>\n",
              "    </tr>\n",
              "    <tr>\n",
              "      <th>1</th>\n",
              "      <td>pengiriman cepat packing bagus sesuai pesanan ...</td>\n",
              "      <td>5</td>\n",
              "      <td>0</td>\n",
              "      <td>0</td>\n",
              "      <td>1</td>\n",
              "    </tr>\n",
              "    <tr>\n",
              "      <th>2</th>\n",
              "      <td>pengemasan luar biasa baik untuk rasa menurut ...</td>\n",
              "      <td>4</td>\n",
              "      <td>1</td>\n",
              "      <td>0</td>\n",
              "      <td>0</td>\n",
              "    </tr>\n",
              "    <tr>\n",
              "      <th>3</th>\n",
              "      <td>terimakasih min</td>\n",
              "      <td>5</td>\n",
              "      <td>0</td>\n",
              "      <td>1</td>\n",
              "      <td>0</td>\n",
              "    </tr>\n",
              "    <tr>\n",
              "      <th>4</th>\n",
              "      <td>udah order untuk kesekian kali jos</td>\n",
              "      <td>5</td>\n",
              "      <td>0</td>\n",
              "      <td>1</td>\n",
              "      <td>0</td>\n",
              "    </tr>\n",
              "    <tr>\n",
              "      <th>...</th>\n",
              "      <td>...</td>\n",
              "      <td>...</td>\n",
              "      <td>...</td>\n",
              "      <td>...</td>\n",
              "      <td>...</td>\n",
              "    </tr>\n",
              "    <tr>\n",
              "      <th>4055</th>\n",
              "      <td>seller sangat responsif rasa belum dicoba kare...</td>\n",
              "      <td>5</td>\n",
              "      <td>0</td>\n",
              "      <td>1</td>\n",
              "      <td>0</td>\n",
              "    </tr>\n",
              "    <tr>\n",
              "      <th>4056</th>\n",
              "      <td>imut2 banget packing aman</td>\n",
              "      <td>5</td>\n",
              "      <td>0</td>\n",
              "      <td>0</td>\n",
              "      <td>1</td>\n",
              "    </tr>\n",
              "    <tr>\n",
              "      <th>4057</th>\n",
              "      <td>good product trusted seller</td>\n",
              "      <td>5</td>\n",
              "      <td>0</td>\n",
              "      <td>0</td>\n",
              "      <td>1</td>\n",
              "    </tr>\n",
              "    <tr>\n",
              "      <th>4058</th>\n",
              "      <td>sudah beli yg ke 3</td>\n",
              "      <td>5</td>\n",
              "      <td>0</td>\n",
              "      <td>1</td>\n",
              "      <td>0</td>\n",
              "    </tr>\n",
              "    <tr>\n",
              "      <th>4059</th>\n",
              "      <td>byk campurannya</td>\n",
              "      <td>4</td>\n",
              "      <td>0</td>\n",
              "      <td>1</td>\n",
              "      <td>0</td>\n",
              "    </tr>\n",
              "  </tbody>\n",
              "</table>\n",
              "<p>4060 rows × 5 columns</p>\n",
              "</div>"
            ],
            "text/plain": [
              "                                                 Review  ...  positive\n",
              "0                                         enak kuacinya  ...         1\n",
              "1     pengiriman cepat packing bagus sesuai pesanan ...  ...         1\n",
              "2     pengemasan luar biasa baik untuk rasa menurut ...  ...         0\n",
              "3                                       terimakasih min  ...         0\n",
              "4                    udah order untuk kesekian kali jos  ...         0\n",
              "...                                                 ...  ...       ...\n",
              "4055  seller sangat responsif rasa belum dicoba kare...  ...         0\n",
              "4056                          imut2 banget packing aman  ...         1\n",
              "4057                        good product trusted seller  ...         1\n",
              "4058                                 sudah beli yg ke 3  ...         0\n",
              "4059                                    byk campurannya  ...         0\n",
              "\n",
              "[4060 rows x 5 columns]"
            ]
          },
          "metadata": {
            "tags": []
          },
          "execution_count": 4
        }
      ]
    },
    {
      "cell_type": "markdown",
      "metadata": {
        "id": "rDue0G_drWAl"
      },
      "source": [
        "##Text Preprocessing"
      ]
    },
    {
      "cell_type": "code",
      "metadata": {
        "id": "7T7jl8UVrXo2"
      },
      "source": [
        "# convert to lowercase\n",
        "df['Review'] = df['Review'].str.lower()"
      ],
      "execution_count": 5,
      "outputs": []
    },
    {
      "cell_type": "code",
      "metadata": {
        "colab": {
          "base_uri": "https://localhost:8080/",
          "height": 419
        },
        "id": "Xip7NqCOEU5T",
        "outputId": "cee79250-875f-49cb-9119-780f49a4ccf8"
      },
      "source": [
        "#remove repeated char\n",
        "# continously repeating character\n",
        "# from the word \n",
        "import re\n",
        "def conti_rep_char(str1):\n",
        "    tchr = str1.group(0)\n",
        "    if len(tchr) > 1:\n",
        "      return tchr[0:1]\n",
        "# define a function to check\n",
        "# whether unique character \n",
        "# is present or not\n",
        "def check_unique_char(rep, sent_text):\n",
        "    # regular expression for \n",
        "    # repetion of characters\n",
        "    convert = re.sub(r'(\\w)\\1+', \n",
        "                     rep,\n",
        "                     sent_text)\n",
        "      \n",
        "    # returing the converted word\n",
        "    return convert\n",
        "\n",
        "df['Review'] = df['Review'].apply(lambda x : check_unique_char(conti_rep_char, x))\n",
        "df"
      ],
      "execution_count": 6,
      "outputs": [
        {
          "output_type": "execute_result",
          "data": {
            "text/html": [
              "<div>\n",
              "<style scoped>\n",
              "    .dataframe tbody tr th:only-of-type {\n",
              "        vertical-align: middle;\n",
              "    }\n",
              "\n",
              "    .dataframe tbody tr th {\n",
              "        vertical-align: top;\n",
              "    }\n",
              "\n",
              "    .dataframe thead th {\n",
              "        text-align: right;\n",
              "    }\n",
              "</style>\n",
              "<table border=\"1\" class=\"dataframe\">\n",
              "  <thead>\n",
              "    <tr style=\"text-align: right;\">\n",
              "      <th></th>\n",
              "      <th>Review</th>\n",
              "      <th>Rating</th>\n",
              "      <th>negative</th>\n",
              "      <th>neutral</th>\n",
              "      <th>positive</th>\n",
              "    </tr>\n",
              "  </thead>\n",
              "  <tbody>\n",
              "    <tr>\n",
              "      <th>0</th>\n",
              "      <td>enak kuacinya</td>\n",
              "      <td>5</td>\n",
              "      <td>0</td>\n",
              "      <td>0</td>\n",
              "      <td>1</td>\n",
              "    </tr>\n",
              "    <tr>\n",
              "      <th>1</th>\n",
              "      <td>pengiriman cepat packing bagus sesuai pesanan ...</td>\n",
              "      <td>5</td>\n",
              "      <td>0</td>\n",
              "      <td>0</td>\n",
              "      <td>1</td>\n",
              "    </tr>\n",
              "    <tr>\n",
              "      <th>2</th>\n",
              "      <td>pengemasan luar biasa baik untuk rasa menurut ...</td>\n",
              "      <td>4</td>\n",
              "      <td>1</td>\n",
              "      <td>0</td>\n",
              "      <td>0</td>\n",
              "    </tr>\n",
              "    <tr>\n",
              "      <th>3</th>\n",
              "      <td>terimakasih min</td>\n",
              "      <td>5</td>\n",
              "      <td>0</td>\n",
              "      <td>1</td>\n",
              "      <td>0</td>\n",
              "    </tr>\n",
              "    <tr>\n",
              "      <th>4</th>\n",
              "      <td>udah order untuk kesekian kali jos</td>\n",
              "      <td>5</td>\n",
              "      <td>0</td>\n",
              "      <td>1</td>\n",
              "      <td>0</td>\n",
              "    </tr>\n",
              "    <tr>\n",
              "      <th>...</th>\n",
              "      <td>...</td>\n",
              "      <td>...</td>\n",
              "      <td>...</td>\n",
              "      <td>...</td>\n",
              "      <td>...</td>\n",
              "    </tr>\n",
              "    <tr>\n",
              "      <th>4055</th>\n",
              "      <td>seler sangat responsif rasa belum dicoba karen...</td>\n",
              "      <td>5</td>\n",
              "      <td>0</td>\n",
              "      <td>1</td>\n",
              "      <td>0</td>\n",
              "    </tr>\n",
              "    <tr>\n",
              "      <th>4056</th>\n",
              "      <td>imut2 banget packing aman</td>\n",
              "      <td>5</td>\n",
              "      <td>0</td>\n",
              "      <td>0</td>\n",
              "      <td>1</td>\n",
              "    </tr>\n",
              "    <tr>\n",
              "      <th>4057</th>\n",
              "      <td>god product trusted seler</td>\n",
              "      <td>5</td>\n",
              "      <td>0</td>\n",
              "      <td>0</td>\n",
              "      <td>1</td>\n",
              "    </tr>\n",
              "    <tr>\n",
              "      <th>4058</th>\n",
              "      <td>sudah beli yg ke 3</td>\n",
              "      <td>5</td>\n",
              "      <td>0</td>\n",
              "      <td>1</td>\n",
              "      <td>0</td>\n",
              "    </tr>\n",
              "    <tr>\n",
              "      <th>4059</th>\n",
              "      <td>byk campuranya</td>\n",
              "      <td>4</td>\n",
              "      <td>0</td>\n",
              "      <td>1</td>\n",
              "      <td>0</td>\n",
              "    </tr>\n",
              "  </tbody>\n",
              "</table>\n",
              "<p>4060 rows × 5 columns</p>\n",
              "</div>"
            ],
            "text/plain": [
              "                                                 Review  ...  positive\n",
              "0                                         enak kuacinya  ...         1\n",
              "1     pengiriman cepat packing bagus sesuai pesanan ...  ...         1\n",
              "2     pengemasan luar biasa baik untuk rasa menurut ...  ...         0\n",
              "3                                       terimakasih min  ...         0\n",
              "4                    udah order untuk kesekian kali jos  ...         0\n",
              "...                                                 ...  ...       ...\n",
              "4055  seler sangat responsif rasa belum dicoba karen...  ...         0\n",
              "4056                          imut2 banget packing aman  ...         1\n",
              "4057                          god product trusted seler  ...         1\n",
              "4058                                 sudah beli yg ke 3  ...         0\n",
              "4059                                     byk campuranya  ...         0\n",
              "\n",
              "[4060 rows x 5 columns]"
            ]
          },
          "metadata": {
            "tags": []
          },
          "execution_count": 6
        }
      ]
    },
    {
      "cell_type": "code",
      "metadata": {
        "colab": {
          "base_uri": "https://localhost:8080/",
          "height": 453
        },
        "id": "zYsdeb-YEf3K",
        "outputId": "4450f4f5-d39a-4324-a88f-81e66fb17307"
      },
      "source": [
        "import nltk\n",
        "nltk.download('stopwords')\n",
        "from nltk.corpus import stopwords\n",
        "\n",
        "# ----------------------- get stopword from NLTK stopword -------------------------------\n",
        "# get stopword indonesia\n",
        "list_stopwords = stopwords.words('indonesian')\n",
        "\n",
        "\n",
        "# ---------------------------- manualy add stopword  ------------------------------------\n",
        "# append additional stopword\n",
        "list_stopwords.extend([\"yg\", \"dg\", \"rt\", \"dgn\", \"ny\", \"d\", 'klo', \n",
        "                       'kalo', 'amp', 'biar', 'bikin', 'bilang', \n",
        "                       'gak', 'ga', 'krn', 'nya', 'nih', 'sih', \n",
        "                       'si', 'tau', 'tdk', 'tuh', 'utk', 'ya', \n",
        "                       'jd', 'jgn', 'sdh', 'aja', 'n', 't', \n",
        "                       'nyg', 'hehe', 'pen', 'u', 'nan', 'loh', 'rt',\n",
        "                       '&amp', 'yah'])\n",
        "\n",
        "\n",
        "#remove stopword pada list token\n",
        "# Exclude stopwords with Python's list comprehension and pandas.DataFrame.apply.\n",
        "df['Review'] = df['Review'].apply(lambda x: ' '.join([word for word in x.split() if word not in (list_stopwords)]))\n",
        "\n",
        "df"
      ],
      "execution_count": 7,
      "outputs": [
        {
          "output_type": "stream",
          "text": [
            "[nltk_data] Downloading package stopwords to /root/nltk_data...\n",
            "[nltk_data]   Package stopwords is already up-to-date!\n"
          ],
          "name": "stdout"
        },
        {
          "output_type": "execute_result",
          "data": {
            "text/html": [
              "<div>\n",
              "<style scoped>\n",
              "    .dataframe tbody tr th:only-of-type {\n",
              "        vertical-align: middle;\n",
              "    }\n",
              "\n",
              "    .dataframe tbody tr th {\n",
              "        vertical-align: top;\n",
              "    }\n",
              "\n",
              "    .dataframe thead th {\n",
              "        text-align: right;\n",
              "    }\n",
              "</style>\n",
              "<table border=\"1\" class=\"dataframe\">\n",
              "  <thead>\n",
              "    <tr style=\"text-align: right;\">\n",
              "      <th></th>\n",
              "      <th>Review</th>\n",
              "      <th>Rating</th>\n",
              "      <th>negative</th>\n",
              "      <th>neutral</th>\n",
              "      <th>positive</th>\n",
              "    </tr>\n",
              "  </thead>\n",
              "  <tbody>\n",
              "    <tr>\n",
              "      <th>0</th>\n",
              "      <td>enak kuacinya</td>\n",
              "      <td>5</td>\n",
              "      <td>0</td>\n",
              "      <td>0</td>\n",
              "      <td>1</td>\n",
              "    </tr>\n",
              "    <tr>\n",
              "      <th>1</th>\n",
              "      <td>pengiriman cepat packing bagus sesuai pesanan ...</td>\n",
              "      <td>5</td>\n",
              "      <td>0</td>\n",
              "      <td>0</td>\n",
              "      <td>1</td>\n",
              "    </tr>\n",
              "    <tr>\n",
              "      <th>2</th>\n",
              "      <td>pengemasan dominan original atw asli kuacinya ...</td>\n",
              "      <td>4</td>\n",
              "      <td>1</td>\n",
              "      <td>0</td>\n",
              "      <td>0</td>\n",
              "    </tr>\n",
              "    <tr>\n",
              "      <th>3</th>\n",
              "      <td>terimakasih min</td>\n",
              "      <td>5</td>\n",
              "      <td>0</td>\n",
              "      <td>1</td>\n",
              "      <td>0</td>\n",
              "    </tr>\n",
              "    <tr>\n",
              "      <th>4</th>\n",
              "      <td>udah order kesekian kali jos</td>\n",
              "      <td>5</td>\n",
              "      <td>0</td>\n",
              "      <td>1</td>\n",
              "      <td>0</td>\n",
              "    </tr>\n",
              "    <tr>\n",
              "      <th>...</th>\n",
              "      <td>...</td>\n",
              "      <td>...</td>\n",
              "      <td>...</td>\n",
              "      <td>...</td>\n",
              "      <td>...</td>\n",
              "    </tr>\n",
              "    <tr>\n",
              "      <th>4055</th>\n",
              "      <td>seler responsif dicoba dibuka</td>\n",
              "      <td>5</td>\n",
              "      <td>0</td>\n",
              "      <td>1</td>\n",
              "      <td>0</td>\n",
              "    </tr>\n",
              "    <tr>\n",
              "      <th>4056</th>\n",
              "      <td>imut2 banget packing aman</td>\n",
              "      <td>5</td>\n",
              "      <td>0</td>\n",
              "      <td>0</td>\n",
              "      <td>1</td>\n",
              "    </tr>\n",
              "    <tr>\n",
              "      <th>4057</th>\n",
              "      <td>god product trusted seler</td>\n",
              "      <td>5</td>\n",
              "      <td>0</td>\n",
              "      <td>0</td>\n",
              "      <td>1</td>\n",
              "    </tr>\n",
              "    <tr>\n",
              "      <th>4058</th>\n",
              "      <td>beli 3</td>\n",
              "      <td>5</td>\n",
              "      <td>0</td>\n",
              "      <td>1</td>\n",
              "      <td>0</td>\n",
              "    </tr>\n",
              "    <tr>\n",
              "      <th>4059</th>\n",
              "      <td>byk campuranya</td>\n",
              "      <td>4</td>\n",
              "      <td>0</td>\n",
              "      <td>1</td>\n",
              "      <td>0</td>\n",
              "    </tr>\n",
              "  </tbody>\n",
              "</table>\n",
              "<p>4060 rows × 5 columns</p>\n",
              "</div>"
            ],
            "text/plain": [
              "                                                 Review  ...  positive\n",
              "0                                         enak kuacinya  ...         1\n",
              "1     pengiriman cepat packing bagus sesuai pesanan ...  ...         1\n",
              "2     pengemasan dominan original atw asli kuacinya ...  ...         0\n",
              "3                                       terimakasih min  ...         0\n",
              "4                          udah order kesekian kali jos  ...         0\n",
              "...                                                 ...  ...       ...\n",
              "4055                      seler responsif dicoba dibuka  ...         0\n",
              "4056                          imut2 banget packing aman  ...         1\n",
              "4057                          god product trusted seler  ...         1\n",
              "4058                                             beli 3  ...         0\n",
              "4059                                     byk campuranya  ...         0\n",
              "\n",
              "[4060 rows x 5 columns]"
            ]
          },
          "metadata": {
            "tags": []
          },
          "execution_count": 7
        }
      ]
    },
    {
      "cell_type": "code",
      "metadata": {
        "colab": {
          "base_uri": "https://localhost:8080/",
          "height": 453
        },
        "id": "92FPGItXE56Y",
        "outputId": "fbf34f94-5b21-467c-c20b-3d5b899c4fa6"
      },
      "source": [
        "print(df.shape)\n",
        "#Removes duplicates in place\n",
        "df.drop_duplicates(keep=False, inplace=True)\n",
        "print(df.shape) \n",
        "df"
      ],
      "execution_count": 8,
      "outputs": [
        {
          "output_type": "stream",
          "text": [
            "(4060, 5)\n",
            "(3863, 5)\n"
          ],
          "name": "stdout"
        },
        {
          "output_type": "execute_result",
          "data": {
            "text/html": [
              "<div>\n",
              "<style scoped>\n",
              "    .dataframe tbody tr th:only-of-type {\n",
              "        vertical-align: middle;\n",
              "    }\n",
              "\n",
              "    .dataframe tbody tr th {\n",
              "        vertical-align: top;\n",
              "    }\n",
              "\n",
              "    .dataframe thead th {\n",
              "        text-align: right;\n",
              "    }\n",
              "</style>\n",
              "<table border=\"1\" class=\"dataframe\">\n",
              "  <thead>\n",
              "    <tr style=\"text-align: right;\">\n",
              "      <th></th>\n",
              "      <th>Review</th>\n",
              "      <th>Rating</th>\n",
              "      <th>negative</th>\n",
              "      <th>neutral</th>\n",
              "      <th>positive</th>\n",
              "    </tr>\n",
              "  </thead>\n",
              "  <tbody>\n",
              "    <tr>\n",
              "      <th>0</th>\n",
              "      <td>enak kuacinya</td>\n",
              "      <td>5</td>\n",
              "      <td>0</td>\n",
              "      <td>0</td>\n",
              "      <td>1</td>\n",
              "    </tr>\n",
              "    <tr>\n",
              "      <th>1</th>\n",
              "      <td>pengiriman cepat packing bagus sesuai pesanan ...</td>\n",
              "      <td>5</td>\n",
              "      <td>0</td>\n",
              "      <td>0</td>\n",
              "      <td>1</td>\n",
              "    </tr>\n",
              "    <tr>\n",
              "      <th>2</th>\n",
              "      <td>pengemasan dominan original atw asli kuacinya ...</td>\n",
              "      <td>4</td>\n",
              "      <td>1</td>\n",
              "      <td>0</td>\n",
              "      <td>0</td>\n",
              "    </tr>\n",
              "    <tr>\n",
              "      <th>3</th>\n",
              "      <td>terimakasih min</td>\n",
              "      <td>5</td>\n",
              "      <td>0</td>\n",
              "      <td>1</td>\n",
              "      <td>0</td>\n",
              "    </tr>\n",
              "    <tr>\n",
              "      <th>4</th>\n",
              "      <td>udah order kesekian kali jos</td>\n",
              "      <td>5</td>\n",
              "      <td>0</td>\n",
              "      <td>1</td>\n",
              "      <td>0</td>\n",
              "    </tr>\n",
              "    <tr>\n",
              "      <th>...</th>\n",
              "      <td>...</td>\n",
              "      <td>...</td>\n",
              "      <td>...</td>\n",
              "      <td>...</td>\n",
              "      <td>...</td>\n",
              "    </tr>\n",
              "    <tr>\n",
              "      <th>4055</th>\n",
              "      <td>seler responsif dicoba dibuka</td>\n",
              "      <td>5</td>\n",
              "      <td>0</td>\n",
              "      <td>1</td>\n",
              "      <td>0</td>\n",
              "    </tr>\n",
              "    <tr>\n",
              "      <th>4056</th>\n",
              "      <td>imut2 banget packing aman</td>\n",
              "      <td>5</td>\n",
              "      <td>0</td>\n",
              "      <td>0</td>\n",
              "      <td>1</td>\n",
              "    </tr>\n",
              "    <tr>\n",
              "      <th>4057</th>\n",
              "      <td>god product trusted seler</td>\n",
              "      <td>5</td>\n",
              "      <td>0</td>\n",
              "      <td>0</td>\n",
              "      <td>1</td>\n",
              "    </tr>\n",
              "    <tr>\n",
              "      <th>4058</th>\n",
              "      <td>beli 3</td>\n",
              "      <td>5</td>\n",
              "      <td>0</td>\n",
              "      <td>1</td>\n",
              "      <td>0</td>\n",
              "    </tr>\n",
              "    <tr>\n",
              "      <th>4059</th>\n",
              "      <td>byk campuranya</td>\n",
              "      <td>4</td>\n",
              "      <td>0</td>\n",
              "      <td>1</td>\n",
              "      <td>0</td>\n",
              "    </tr>\n",
              "  </tbody>\n",
              "</table>\n",
              "<p>3863 rows × 5 columns</p>\n",
              "</div>"
            ],
            "text/plain": [
              "                                                 Review  ...  positive\n",
              "0                                         enak kuacinya  ...         1\n",
              "1     pengiriman cepat packing bagus sesuai pesanan ...  ...         1\n",
              "2     pengemasan dominan original atw asli kuacinya ...  ...         0\n",
              "3                                       terimakasih min  ...         0\n",
              "4                          udah order kesekian kali jos  ...         0\n",
              "...                                                 ...  ...       ...\n",
              "4055                      seler responsif dicoba dibuka  ...         0\n",
              "4056                          imut2 banget packing aman  ...         1\n",
              "4057                          god product trusted seler  ...         1\n",
              "4058                                             beli 3  ...         0\n",
              "4059                                     byk campuranya  ...         0\n",
              "\n",
              "[3863 rows x 5 columns]"
            ]
          },
          "metadata": {
            "tags": []
          },
          "execution_count": 8
        }
      ]
    },
    {
      "cell_type": "markdown",
      "metadata": {
        "id": "r-lnuvqQrtUz"
      },
      "source": [
        "##Tokenize"
      ]
    },
    {
      "cell_type": "code",
      "metadata": {
        "id": "sMjLCJclrsYj",
        "colab": {
          "base_uri": "https://localhost:8080/"
        },
        "outputId": "c5830258-dc31-483a-ab92-e93e0cfa989f"
      },
      "source": [
        "vocab_size = 5000\n",
        "oov_tok = \"OOV\"\n",
        "\n",
        "tokenizer = Tokenizer(num_words = vocab_size, oov_token = oov_tok)\n",
        "tokenizer.fit_on_texts(df['Review'].values)\n",
        "\n",
        "word2index = tokenizer.word_index\n",
        "print(len(word2index))"
      ],
      "execution_count": 22,
      "outputs": [
        {
          "output_type": "stream",
          "text": [
            "4182\n"
          ],
          "name": "stdout"
        }
      ]
    },
    {
      "cell_type": "code",
      "metadata": {
        "id": "whWt0LYxvO-C"
      },
      "source": [
        "import json\n",
        "\n",
        "with open('word2index.json', 'w') as fp:\n",
        "    json.dump(word2index, fp)"
      ],
      "execution_count": 23,
      "outputs": []
    },
    {
      "cell_type": "code",
      "metadata": {
        "id": "_ugC89x8r4La",
        "colab": {
          "base_uri": "https://localhost:8080/"
        },
        "outputId": "fd339873-28a5-4060-82c3-9e2f567235d8"
      },
      "source": [
        "max_length =  max(len(values.split()) for i, values in enumerate(df['Review']))\n",
        "print(max_length)\n",
        "max_length = 20\n"
      ],
      "execution_count": 11,
      "outputs": [
        {
          "output_type": "stream",
          "text": [
            "77\n"
          ],
          "name": "stdout"
        }
      ]
    },
    {
      "cell_type": "code",
      "metadata": {
        "id": "pkoanBtWr-Fq",
        "colab": {
          "base_uri": "https://localhost:8080/"
        },
        "outputId": "3a797789-b9bb-408c-d4d4-aea578564c6c"
      },
      "source": [
        "trunc_type='post'\n",
        "\n",
        "all_seq = tokenizer.texts_to_sequences(df['Review'].values)\n",
        "all_padded = pad_sequences(all_seq, maxlen = max_length, padding = trunc_type)\n",
        "all_padded.shape"
      ],
      "execution_count": 12,
      "outputs": [
        {
          "output_type": "execute_result",
          "data": {
            "text/plain": [
              "(3863, 20)"
            ]
          },
          "metadata": {
            "tags": []
          },
          "execution_count": 12
        }
      ]
    },
    {
      "cell_type": "markdown",
      "metadata": {
        "id": "ssSWYl15FwoC"
      },
      "source": [
        "## Build Train and test sets"
      ]
    },
    {
      "cell_type": "code",
      "metadata": {
        "id": "XSevKaW8rE2Y",
        "colab": {
          "base_uri": "https://localhost:8080/"
        },
        "outputId": "6781ee8c-3377-4b32-d404-00e802025f83"
      },
      "source": [
        "# split train and test sets\n",
        "from sklearn.model_selection import train_test_split\n",
        "\n",
        "X = all_padded\n",
        "#y = pd.get_dummies(df['label'].values)\n",
        "y = df[['negative', 'neutral', 'positive']].values\n",
        "\n",
        "X_train, X_test, y_train, y_test = train_test_split(X, y,test_size=0.2, random_state=42)\n",
        "print(X_train.shape, y_train.shape)\n",
        "print(X_test.shape, y_test.shape)\n",
        "\n",
        "#kalimat = df['sentence'].values\n",
        "#y = df['label'].values\n",
        "\n",
        "#kalimat_latih, kalimat_test, y_latih, y_test = train_test_split(kalimat, y, \n",
        "#                                                                test_size=0.2, random_state=1000)"
      ],
      "execution_count": 13,
      "outputs": [
        {
          "output_type": "stream",
          "text": [
            "(3090, 20) (3090, 3)\n",
            "(773, 20) (773, 3)\n"
          ],
          "name": "stdout"
        }
      ]
    },
    {
      "cell_type": "markdown",
      "metadata": {
        "id": "7vOm7DeiGlPn"
      },
      "source": [
        "## Build Model"
      ]
    },
    {
      "cell_type": "code",
      "metadata": {
        "id": "CUwJnNOZNp5K",
        "colab": {
          "base_uri": "https://localhost:8080/"
        },
        "outputId": "6d8007fe-7e6d-45b8-e522-20fba96a8fed"
      },
      "source": [
        "model = tf.keras.Sequential([\n",
        "    tf.keras.layers.Embedding(input_dim= vocab_size, output_dim=8),\n",
        "    tf.keras.layers.LSTM(64),\n",
        "    tf.keras.layers.Dropout(0.2),\n",
        "    tf.keras.layers.Dense(128, activation='relu'),\n",
        "    tf.keras.layers.Dense(64, activation='relu'),\n",
        "    tf.keras.layers.Dense(3, activation='softmax')\n",
        "])\n",
        "model.compile(loss='categorical_crossentropy',optimizer='adam',metrics=['accuracy'])\n",
        "model.summary()"
      ],
      "execution_count": 14,
      "outputs": [
        {
          "output_type": "stream",
          "text": [
            "Model: \"sequential\"\n",
            "_________________________________________________________________\n",
            "Layer (type)                 Output Shape              Param #   \n",
            "=================================================================\n",
            "embedding (Embedding)        (None, None, 8)           40000     \n",
            "_________________________________________________________________\n",
            "lstm (LSTM)                  (None, 64)                18688     \n",
            "_________________________________________________________________\n",
            "dropout (Dropout)            (None, 64)                0         \n",
            "_________________________________________________________________\n",
            "dense (Dense)                (None, 128)               8320      \n",
            "_________________________________________________________________\n",
            "dense_1 (Dense)              (None, 64)                8256      \n",
            "_________________________________________________________________\n",
            "dense_2 (Dense)              (None, 3)                 195       \n",
            "=================================================================\n",
            "Total params: 75,459\n",
            "Trainable params: 75,459\n",
            "Non-trainable params: 0\n",
            "_________________________________________________________________\n"
          ],
          "name": "stdout"
        }
      ]
    },
    {
      "cell_type": "markdown",
      "metadata": {
        "id": "mE4Qw-OBGnm2"
      },
      "source": [
        "##Train"
      ]
    },
    {
      "cell_type": "code",
      "metadata": {
        "id": "bbI-o4_TNvbH",
        "colab": {
          "base_uri": "https://localhost:8080/"
        },
        "outputId": "ced556ea-8c66-4293-8e17-97a489a24259"
      },
      "source": [
        "num_epochs = 30\n",
        "history = model.fit(X_train, y_train, epochs=num_epochs, validation_data=(X_test, y_test))"
      ],
      "execution_count": 15,
      "outputs": [
        {
          "output_type": "stream",
          "text": [
            "Epoch 1/30\n",
            "97/97 [==============================] - 4s 20ms/step - loss: 0.9252 - accuracy: 0.6779 - val_loss: 0.7853 - val_accuracy: 0.7063\n",
            "Epoch 2/30\n",
            "97/97 [==============================] - 1s 12ms/step - loss: 0.6835 - accuracy: 0.7273 - val_loss: 0.6714 - val_accuracy: 0.7516\n",
            "Epoch 3/30\n",
            "97/97 [==============================] - 1s 12ms/step - loss: 0.4771 - accuracy: 0.8004 - val_loss: 0.6380 - val_accuracy: 0.7555\n",
            "Epoch 4/30\n",
            "97/97 [==============================] - 1s 12ms/step - loss: 0.3707 - accuracy: 0.8455 - val_loss: 0.7853 - val_accuracy: 0.7193\n",
            "Epoch 5/30\n",
            "97/97 [==============================] - 1s 12ms/step - loss: 0.3701 - accuracy: 0.8543 - val_loss: 0.7571 - val_accuracy: 0.7232\n",
            "Epoch 6/30\n",
            "97/97 [==============================] - 1s 13ms/step - loss: 0.2677 - accuracy: 0.9054 - val_loss: 0.8201 - val_accuracy: 0.7180\n",
            "Epoch 7/30\n",
            "97/97 [==============================] - 1s 12ms/step - loss: 0.2753 - accuracy: 0.8978 - val_loss: 0.8002 - val_accuracy: 0.7387\n",
            "Epoch 8/30\n",
            "97/97 [==============================] - 1s 12ms/step - loss: 0.2370 - accuracy: 0.9225 - val_loss: 0.8085 - val_accuracy: 0.7245\n",
            "Epoch 9/30\n",
            "97/97 [==============================] - 1s 12ms/step - loss: 0.2143 - accuracy: 0.9289 - val_loss: 0.9770 - val_accuracy: 0.7063\n",
            "Epoch 10/30\n",
            "97/97 [==============================] - 1s 12ms/step - loss: 0.1888 - accuracy: 0.9377 - val_loss: 0.9488 - val_accuracy: 0.7154\n",
            "Epoch 11/30\n",
            "97/97 [==============================] - 1s 12ms/step - loss: 0.1898 - accuracy: 0.9388 - val_loss: 1.0105 - val_accuracy: 0.6766\n",
            "Epoch 12/30\n",
            "97/97 [==============================] - 1s 13ms/step - loss: 0.1993 - accuracy: 0.9388 - val_loss: 1.0088 - val_accuracy: 0.7102\n",
            "Epoch 13/30\n",
            "97/97 [==============================] - 1s 12ms/step - loss: 0.1843 - accuracy: 0.9467 - val_loss: 1.0748 - val_accuracy: 0.7089\n",
            "Epoch 14/30\n",
            "97/97 [==============================] - 1s 12ms/step - loss: 0.1607 - accuracy: 0.9517 - val_loss: 0.9896 - val_accuracy: 0.7089\n",
            "Epoch 15/30\n",
            "97/97 [==============================] - 1s 13ms/step - loss: 0.1550 - accuracy: 0.9567 - val_loss: 1.2741 - val_accuracy: 0.7167\n",
            "Epoch 16/30\n",
            "97/97 [==============================] - 1s 13ms/step - loss: 0.1385 - accuracy: 0.9591 - val_loss: 1.0213 - val_accuracy: 0.7076\n",
            "Epoch 17/30\n",
            "97/97 [==============================] - 1s 13ms/step - loss: 0.1597 - accuracy: 0.9506 - val_loss: 1.1166 - val_accuracy: 0.7115\n",
            "Epoch 18/30\n",
            "97/97 [==============================] - 1s 12ms/step - loss: 0.1579 - accuracy: 0.9538 - val_loss: 1.1446 - val_accuracy: 0.7154\n",
            "Epoch 19/30\n",
            "97/97 [==============================] - 1s 12ms/step - loss: 0.1539 - accuracy: 0.9552 - val_loss: 1.1378 - val_accuracy: 0.7206\n",
            "Epoch 20/30\n",
            "97/97 [==============================] - 1s 12ms/step - loss: 0.1443 - accuracy: 0.9584 - val_loss: 1.0230 - val_accuracy: 0.6882\n",
            "Epoch 21/30\n",
            "97/97 [==============================] - 1s 13ms/step - loss: 0.1681 - accuracy: 0.9492 - val_loss: 1.2227 - val_accuracy: 0.7167\n",
            "Epoch 22/30\n",
            "97/97 [==============================] - 1s 13ms/step - loss: 0.1456 - accuracy: 0.9534 - val_loss: 1.1643 - val_accuracy: 0.7115\n",
            "Epoch 23/30\n",
            "97/97 [==============================] - 1s 13ms/step - loss: 0.1274 - accuracy: 0.9614 - val_loss: 1.1225 - val_accuracy: 0.7050\n",
            "Epoch 24/30\n",
            "97/97 [==============================] - 1s 13ms/step - loss: 0.1361 - accuracy: 0.9619 - val_loss: 1.1653 - val_accuracy: 0.7154\n",
            "Epoch 25/30\n",
            "97/97 [==============================] - 1s 13ms/step - loss: 0.1225 - accuracy: 0.9650 - val_loss: 1.1223 - val_accuracy: 0.6869\n",
            "Epoch 26/30\n",
            "97/97 [==============================] - 1s 13ms/step - loss: 0.1405 - accuracy: 0.9611 - val_loss: 1.1637 - val_accuracy: 0.6947\n",
            "Epoch 27/30\n",
            "97/97 [==============================] - 1s 12ms/step - loss: 0.1228 - accuracy: 0.9660 - val_loss: 1.2575 - val_accuracy: 0.6934\n",
            "Epoch 28/30\n",
            "97/97 [==============================] - 1s 14ms/step - loss: 0.1328 - accuracy: 0.9603 - val_loss: 1.1572 - val_accuracy: 0.7102\n",
            "Epoch 29/30\n",
            "97/97 [==============================] - 1s 13ms/step - loss: 0.1225 - accuracy: 0.9674 - val_loss: 1.2213 - val_accuracy: 0.7193\n",
            "Epoch 30/30\n",
            "97/97 [==============================] - 1s 13ms/step - loss: 0.1433 - accuracy: 0.9604 - val_loss: 1.3799 - val_accuracy: 0.6895\n"
          ],
          "name": "stdout"
        }
      ]
    },
    {
      "cell_type": "markdown",
      "metadata": {
        "id": "65NpSZrNGySh"
      },
      "source": [
        "##plotting"
      ]
    },
    {
      "cell_type": "code",
      "metadata": {
        "colab": {
          "base_uri": "https://localhost:8080/",
          "height": 295
        },
        "id": "4j8r6f-zGySh",
        "outputId": "c5017bf9-a4bf-4514-d532-1a63d5d5b380"
      },
      "source": [
        "import keras\n",
        "from matplotlib import pyplot as plt\n",
        "plt.plot(history.history['accuracy'])\n",
        "plt.plot(history.history['val_accuracy'])\n",
        "plt.plot(history.history['loss'])\n",
        "plt.plot(history.history['val_loss'])\n",
        "plt.title('model accuracy')\n",
        "plt.ylabel('accuracy')\n",
        "plt.xlabel('epoch')\n",
        "plt.legend(['train_acc', 'val_acc', 'train_loss','val_loss'], loc='upper left')\n",
        "plt.show()"
      ],
      "execution_count": 16,
      "outputs": [
        {
          "output_type": "display_data",
          "data": {
            "image/png": "[encoded data removed]",
            "text/plain": [
              "<Figure size 432x288 with 1 Axes>"
            ]
          },
          "metadata": {
            "tags": [],
            "needs_background": "light"
          }
        }
      ]
    },
    {
      "cell_type": "markdown",
      "metadata": {
        "id": "nIxK638nGrb2"
      },
      "source": [
        "##testing"
      ]
    },
    {
      "cell_type": "code",
      "metadata": {
        "colab": {
          "base_uri": "https://localhost:8080/"
        },
        "id": "3gagvXM4Jlry",
        "outputId": "43bc5ba3-d94a-4852-f514-c352ae7e9ded"
      },
      "source": [
        "import numpy as np\n",
        "# content_testing = np.array(['terimakasih', 'enak tapi gosong', 'rasanya enak dan pengiriman cepat'])\n",
        "def toSequence(sentence):\n",
        " pad = []\n",
        " for stc in sentence.split():\n",
        "   if stc.lower() in word2index.keys(): \n",
        "     pad.append(word2index[stc.lower()])\n",
        "   else: \n",
        "     continue\n",
        " return pad\n",
        "\n",
        "pad1 = toSequence('terimakasih')\n",
        "pad2 = toSequence('enak tapi gosong')\n",
        "pad3 = toSequence('enak')\n",
        "\n",
        "arrTest = [pad1, pad2, pad3]\n",
        "\n",
        "for pad in arrTest:\n",
        "  result = model.predict([pad])\n",
        "  # result = model.predict(tokenizer(content_train,content_testing))\n",
        "  print(result)\n",
        "  classes = np.argmax(result, axis = 1)\n",
        "  print(classes)"
      ],
      "execution_count": 24,
      "outputs": [
        {
          "output_type": "stream",
          "text": [
            "[[0.03038794 0.9151482  0.05446382]]\n",
            "[1]\n",
            "[[0.02804033 0.9202281  0.05173155]]\n",
            "[1]\n",
            "[[0.0370358  0.8867129  0.07625133]]\n",
            "[1]\n"
          ],
          "name": "stdout"
        }
      ]
    },
    {
      "cell_type": "code",
      "metadata": {
        "id": "UdJLOUkoMtF6"
      },
      "source": [
        "#def toSequence(sentence):\n",
        "#  pad = []\n",
        "#  for stc in sentence.split():\n",
        "#    if stc.lower() in word2index.keys(): \n",
        "#      pad.append(word2index[stc.lower()])\n",
        "#    else: \n",
        "#      continue\n",
        "#  return pad\n",
        "\n",
        "#pad = toSequence('affordable price and nice dessert')\n",
        "#pad = [269, 353, 0, 0, 0, 0, 0, 0, 0, 0, 0, 0, 0,0 ,0,0,0,0]\n",
        "#len(pad)\n",
        "#model.predict([pad])"
      ],
      "execution_count": null,
      "outputs": []
    },
    {
      "cell_type": "markdown",
      "metadata": {
        "id": "f-fp_i2PGt4J"
      },
      "source": [
        "##Save Model\n"
      ]
    },
    {
      "cell_type": "code",
      "metadata": {
        "id": "NsTz_o4zGnWn",
        "colab": {
          "base_uri": "https://localhost:8080/",
          "height": 1000
        },
        "outputId": "845cf853-7e60-4c51-eb40-12e964ad6761"
      },
      "source": [
        "!pip install tensorflowjs"
      ],
      "execution_count": null,
      "outputs": [
        {
          "output_type": "stream",
          "text": [
            "Collecting tensorflowjs\n",
            "\u001b[?25l  Downloading https://files.pythonhosted.org/packages/ef/4c/79739ad8652e4f0372ddfa272d4fa3bfb0497460bc319e3758e907586540/tensorflowjs-2.3.0-py3-none-any.whl (61kB)\n",
            "\u001b[K     |████████████████████████████████| 71kB 2.4MB/s \n",
            "\u001b[?25hRequirement already satisfied: h5py>=2.8.0 in /usr/local/lib/python3.6/dist-packages (from tensorflowjs) (2.10.0)\n",
            "Collecting tensorflow-cpu<3,>=2.1.0\n",
            "\u001b[?25l  Downloading https://files.pythonhosted.org/packages/cc/f6/b2996d65fb72200b1455a776d38915760b097ad1fa8c1c177a8cccbff07a/tensorflow_cpu-2.3.0-cp36-cp36m-manylinux2010_x86_64.whl (137.3MB)\n",
            "\u001b[K     |████████████████████████████████| 137.3MB 87kB/s \n",
            "\u001b[?25hCollecting PyInquirer==1.0.3\n",
            "  Downloading https://files.pythonhosted.org/packages/fb/4c/434b7c454010a284b49d6f1d446fe8dc5960415613d8c0225b9e2efb6724/PyInquirer-1.0.3.tar.gz\n",
            "Collecting tensorflow-hub==0.7.0\n",
            "\u001b[?25l  Downloading https://files.pythonhosted.org/packages/00/0e/a91780d07592b1abf9c91344ce459472cc19db3b67fdf3a61dca6ebb2f5c/tensorflow_hub-0.7.0-py2.py3-none-any.whl (89kB)\n",
            "\u001b[K     |████████████████████████████████| 92kB 10.3MB/s \n",
            "\u001b[?25hRequirement already satisfied: six>=1.12.0 in /usr/local/lib/python3.6/dist-packages (from tensorflowjs) (1.15.0)\n",
            "Requirement already satisfied: numpy<1.19.0,>=1.16.4 in /usr/local/lib/python3.6/dist-packages (from tensorflowjs) (1.18.5)\n",
            "Requirement already satisfied: termcolor>=1.1.0 in /usr/local/lib/python3.6/dist-packages (from tensorflow-cpu<3,>=2.1.0->tensorflowjs) (1.1.0)\n",
            "Requirement already satisfied: grpcio>=1.8.6 in /usr/local/lib/python3.6/dist-packages (from tensorflow-cpu<3,>=2.1.0->tensorflowjs) (1.31.0)\n",
            "Requirement already satisfied: gast==0.3.3 in /usr/local/lib/python3.6/dist-packages (from tensorflow-cpu<3,>=2.1.0->tensorflowjs) (0.3.3)\n",
            "Requirement already satisfied: protobuf>=3.9.2 in /usr/local/lib/python3.6/dist-packages (from tensorflow-cpu<3,>=2.1.0->tensorflowjs) (3.12.4)\n",
            "Requirement already satisfied: opt-einsum>=2.3.2 in /usr/local/lib/python3.6/dist-packages (from tensorflow-cpu<3,>=2.1.0->tensorflowjs) (3.3.0)\n",
            "Requirement already satisfied: tensorboard<3,>=2.3.0 in /usr/local/lib/python3.6/dist-packages (from tensorflow-cpu<3,>=2.1.0->tensorflowjs) (2.3.0)\n",
            "Requirement already satisfied: absl-py>=0.7.0 in /usr/local/lib/python3.6/dist-packages (from tensorflow-cpu<3,>=2.1.0->tensorflowjs) (0.9.0)\n",
            "Requirement already satisfied: keras-preprocessing<1.2,>=1.1.1 in /usr/local/lib/python3.6/dist-packages (from tensorflow-cpu<3,>=2.1.0->tensorflowjs) (1.1.2)\n",
            "Requirement already satisfied: tensorflow-estimator<2.4.0,>=2.3.0 in /usr/local/lib/python3.6/dist-packages (from tensorflow-cpu<3,>=2.1.0->tensorflowjs) (2.3.0)\n",
            "Requirement already satisfied: wheel>=0.26 in /usr/local/lib/python3.6/dist-packages (from tensorflow-cpu<3,>=2.1.0->tensorflowjs) (0.34.2)\n",
            "Requirement already satisfied: wrapt>=1.11.1 in /usr/local/lib/python3.6/dist-packages (from tensorflow-cpu<3,>=2.1.0->tensorflowjs) (1.12.1)\n",
            "Requirement already satisfied: scipy==1.4.1 in /usr/local/lib/python3.6/dist-packages (from tensorflow-cpu<3,>=2.1.0->tensorflowjs) (1.4.1)\n",
            "Requirement already satisfied: astunparse==1.6.3 in /usr/local/lib/python3.6/dist-packages (from tensorflow-cpu<3,>=2.1.0->tensorflowjs) (1.6.3)\n",
            "Requirement already satisfied: google-pasta>=0.1.8 in /usr/local/lib/python3.6/dist-packages (from tensorflow-cpu<3,>=2.1.0->tensorflowjs) (0.2.0)\n",
            "Collecting prompt_toolkit==1.0.14\n",
            "\u001b[?25l  Downloading https://files.pythonhosted.org/packages/ee/3d/b25d35a9f0d381dd1c02d8e04b37c353caaaff4bc32150328eeebe4931f5/prompt_toolkit-1.0.14-py3-none-any.whl (248kB)\n",
            "\u001b[K     |████████████████████████████████| 256kB 44.1MB/s \n",
            "\u001b[?25hCollecting Pygments>=2.2.0\n",
            "\u001b[?25l  Downloading https://files.pythonhosted.org/packages/2d/68/106af3ae51daf807e9cdcba6a90e518954eb8b70341cee52995540a53ead/Pygments-2.6.1-py3-none-any.whl (914kB)\n",
            "\u001b[K     |████████████████████████████████| 921kB 43.3MB/s \n",
            "\u001b[?25hRequirement already satisfied: regex>=2016.11.21 in /usr/local/lib/python3.6/dist-packages (from PyInquirer==1.0.3->tensorflowjs) (2019.12.20)\n",
            "Requirement already satisfied: setuptools in /usr/local/lib/python3.6/dist-packages (from protobuf>=3.9.2->tensorflow-cpu<3,>=2.1.0->tensorflowjs) (49.2.0)\n",
            "Requirement already satisfied: requests<3,>=2.21.0 in /usr/local/lib/python3.6/dist-packages (from tensorboard<3,>=2.3.0->tensorflow-cpu<3,>=2.1.0->tensorflowjs) (2.23.0)\n",
            "Requirement already satisfied: markdown>=2.6.8 in /usr/local/lib/python3.6/dist-packages (from tensorboard<3,>=2.3.0->tensorflow-cpu<3,>=2.1.0->tensorflowjs) (3.2.2)\n",
            "Requirement already satisfied: werkzeug>=0.11.15 in /usr/local/lib/python3.6/dist-packages (from tensorboard<3,>=2.3.0->tensorflow-cpu<3,>=2.1.0->tensorflowjs) (1.0.1)\n",
            "Requirement already satisfied: google-auth-oauthlib<0.5,>=0.4.1 in /usr/local/lib/python3.6/dist-packages (from tensorboard<3,>=2.3.0->tensorflow-cpu<3,>=2.1.0->tensorflowjs) (0.4.1)\n",
            "Requirement already satisfied: google-auth<2,>=1.6.3 in /usr/local/lib/python3.6/dist-packages (from tensorboard<3,>=2.3.0->tensorflow-cpu<3,>=2.1.0->tensorflowjs) (1.17.2)\n",
            "Requirement already satisfied: tensorboard-plugin-wit>=1.6.0 in /usr/local/lib/python3.6/dist-packages (from tensorboard<3,>=2.3.0->tensorflow-cpu<3,>=2.1.0->tensorflowjs) (1.7.0)\n",
            "Requirement already satisfied: wcwidth in /usr/local/lib/python3.6/dist-packages (from prompt_toolkit==1.0.14->PyInquirer==1.0.3->tensorflowjs) (0.2.5)\n",
            "Requirement already satisfied: certifi>=2017.4.17 in /usr/local/lib/python3.6/dist-packages (from requests<3,>=2.21.0->tensorboard<3,>=2.3.0->tensorflow-cpu<3,>=2.1.0->tensorflowjs) (2020.6.20)\n",
            "Requirement already satisfied: idna<3,>=2.5 in /usr/local/lib/python3.6/dist-packages (from requests<3,>=2.21.0->tensorboard<3,>=2.3.0->tensorflow-cpu<3,>=2.1.0->tensorflowjs) (2.10)\n",
            "Requirement already satisfied: urllib3!=1.25.0,!=1.25.1,<1.26,>=1.21.1 in /usr/local/lib/python3.6/dist-packages (from requests<3,>=2.21.0->tensorboard<3,>=2.3.0->tensorflow-cpu<3,>=2.1.0->tensorflowjs) (1.24.3)\n",
            "Requirement already satisfied: chardet<4,>=3.0.2 in /usr/local/lib/python3.6/dist-packages (from requests<3,>=2.21.0->tensorboard<3,>=2.3.0->tensorflow-cpu<3,>=2.1.0->tensorflowjs) (3.0.4)\n",
            "Requirement already satisfied: importlib-metadata; python_version < \"3.8\" in /usr/local/lib/python3.6/dist-packages (from markdown>=2.6.8->tensorboard<3,>=2.3.0->tensorflow-cpu<3,>=2.1.0->tensorflowjs) (1.7.0)\n",
            "Requirement already satisfied: requests-oauthlib>=0.7.0 in /usr/local/lib/python3.6/dist-packages (from google-auth-oauthlib<0.5,>=0.4.1->tensorboard<3,>=2.3.0->tensorflow-cpu<3,>=2.1.0->tensorflowjs) (1.3.0)\n",
            "Requirement already satisfied: rsa<5,>=3.1.4; python_version >= \"3\" in /usr/local/lib/python3.6/dist-packages (from google-auth<2,>=1.6.3->tensorboard<3,>=2.3.0->tensorflow-cpu<3,>=2.1.0->tensorflowjs) (4.6)\n",
            "Requirement already satisfied: pyasn1-modules>=0.2.1 in /usr/local/lib/python3.6/dist-packages (from google-auth<2,>=1.6.3->tensorboard<3,>=2.3.0->tensorflow-cpu<3,>=2.1.0->tensorflowjs) (0.2.8)\n",
            "Requirement already satisfied: cachetools<5.0,>=2.0.0 in /usr/local/lib/python3.6/dist-packages (from google-auth<2,>=1.6.3->tensorboard<3,>=2.3.0->tensorflow-cpu<3,>=2.1.0->tensorflowjs) (4.1.1)\n",
            "Requirement already satisfied: zipp>=0.5 in /usr/local/lib/python3.6/dist-packages (from importlib-metadata; python_version < \"3.8\"->markdown>=2.6.8->tensorboard<3,>=2.3.0->tensorflow-cpu<3,>=2.1.0->tensorflowjs) (3.1.0)\n",
            "Requirement already satisfied: oauthlib>=3.0.0 in /usr/local/lib/python3.6/dist-packages (from requests-oauthlib>=0.7.0->google-auth-oauthlib<0.5,>=0.4.1->tensorboard<3,>=2.3.0->tensorflow-cpu<3,>=2.1.0->tensorflowjs) (3.1.0)\n",
            "Requirement already satisfied: pyasn1>=0.1.3 in /usr/local/lib/python3.6/dist-packages (from rsa<5,>=3.1.4; python_version >= \"3\"->google-auth<2,>=1.6.3->tensorboard<3,>=2.3.0->tensorflow-cpu<3,>=2.1.0->tensorflowjs) (0.4.8)\n",
            "Building wheels for collected packages: PyInquirer\n",
            "  Building wheel for PyInquirer (setup.py) ... \u001b[?25l\u001b[?25hdone\n",
            "  Created wheel for PyInquirer: filename=PyInquirer-1.0.3-cp36-none-any.whl size=32851 sha256=992878b328393d3b371cd3ca989818b1888fd1fe2f0dfc50443201bb1ae10a46\n",
            "  Stored in directory: /root/.cache/pip/wheels/52/6c/b1/3e4b0e8daf42a92883c7641c0ea8ffb62e0490ebed2faa55ad\n",
            "Successfully built PyInquirer\n",
            "\u001b[31mERROR: datascience 0.10.6 has requirement folium==0.2.1, but you'll have folium 0.8.3 which is incompatible.\u001b[0m\n",
            "Installing collected packages: tensorflow-cpu, prompt-toolkit, Pygments, PyInquirer, tensorflow-hub, tensorflowjs\n",
            "  Found existing installation: prompt-toolkit 1.0.18\n",
            "    Uninstalling prompt-toolkit-1.0.18:\n",
            "      Successfully uninstalled prompt-toolkit-1.0.18\n",
            "  Found existing installation: Pygments 2.1.3\n",
            "    Uninstalling Pygments-2.1.3:\n",
            "      Successfully uninstalled Pygments-2.1.3\n",
            "  Found existing installation: tensorflow-hub 0.8.0\n",
            "    Uninstalling tensorflow-hub-0.8.0:\n",
            "      Successfully uninstalled tensorflow-hub-0.8.0\n",
            "Successfully installed PyInquirer-1.0.3 Pygments-2.6.1 prompt-toolkit-1.0.14 tensorflow-cpu-2.3.0 tensorflow-hub-0.7.0 tensorflowjs-2.3.0\n"
          ],
          "name": "stdout"
        },
        {
          "output_type": "display_data",
          "data": {
            "application/vnd.colab-display-data+json": {
              "pip_warning": {
                "packages": [
                  "prompt_toolkit",
                  "pygments",
                  "tensorflow"
                ]
              }
            }
          },
          "metadata": {
            "tags": []
          }
        }
      ]
    },
    {
      "cell_type": "code",
      "metadata": {
        "id": "Y3brVf1AGzcw",
        "colab": {
          "base_uri": "https://localhost:8080/",
          "height": 136
        },
        "outputId": "92d2886e-f40e-4278-c93c-0ef2fae23f1d"
      },
      "source": [
        "saved_model_path = '/content/mymodel/'\n",
        "tf.saved_model.save(model, saved_model_path)"
      ],
      "execution_count": null,
      "outputs": [
        {
          "output_type": "stream",
          "text": [
            "WARNING:tensorflow:From /usr/local/lib/python3.6/dist-packages/tensorflow/python/training/tracking/tracking.py:111: Model.state_updates (from tensorflow.python.keras.engine.training) is deprecated and will be removed in a future version.\n",
            "Instructions for updating:\n",
            "This property should not be used in TensorFlow 2.0, as updates are applied automatically.\n",
            "WARNING:tensorflow:From /usr/local/lib/python3.6/dist-packages/tensorflow/python/training/tracking/tracking.py:111: Layer.updates (from tensorflow.python.keras.engine.base_layer) is deprecated and will be removed in a future version.\n",
            "Instructions for updating:\n",
            "This property should not be used in TensorFlow 2.0, as updates are applied automatically.\n",
            "INFO:tensorflow:Assets written to: /content/mymodel/assets\n"
          ],
          "name": "stdout"
        }
      ]
    },
    {
      "cell_type": "code",
      "metadata": {
        "id": "g0L5e5ocG418",
        "colab": {
          "base_uri": "https://localhost:8080/",
          "height": 680
        },
        "outputId": "789bdfaf-31ac-469b-9c0d-623f9a68744d"
      },
      "source": [
        "!tensorflowjs_converter \\\n",
        "  --input_format=tf_saved_model \\\n",
        "  /content/mymodel/ \\\n",
        "  /content/modeltfjs"
      ],
      "execution_count": null,
      "outputs": [
        {
          "output_type": "stream",
          "text": [
            "2020-08-20 10:39:41.597567: I tensorflow/core/platform/cpu_feature_guard.cc:142] This TensorFlow binary is optimized with oneAPI Deep Neural Network Library (oneDNN)to use the following CPU instructions in performance-critical operations:  AVX2 FMA\n",
            "To enable them in other operations, rebuild TensorFlow with the appropriate compiler flags.\n",
            "2020-08-20 10:39:41.601795: I tensorflow/core/platform/profile_utils/cpu_utils.cc:104] CPU Frequency: 2300000000 Hz\n",
            "2020-08-20 10:39:41.602035: I tensorflow/compiler/xla/service/service.cc:168] XLA service 0x30bed80 initialized for platform Host (this does not guarantee that XLA will be used). Devices:\n",
            "2020-08-20 10:39:41.602074: I tensorflow/compiler/xla/service/service.cc:176]   StreamExecutor device (0): Host, Default Version\n",
            "2020-08-20 10:39:43.379334: I tensorflow/core/grappler/devices.cc:78] Number of eligible GPUs (core count >= 8, compute capability >= 0.0): 0 (Note: TensorFlow was not compiled with CUDA or ROCm support)\n",
            "2020-08-20 10:39:43.379467: I tensorflow/core/grappler/clusters/single_machine.cc:356] Starting new session\n",
            "2020-08-20 10:39:43.391372: I tensorflow/core/grappler/optimizers/meta_optimizer.cc:816] Optimization results for grappler item: graph_to_optimize\n",
            "2020-08-20 10:39:43.391408: I tensorflow/core/grappler/optimizers/meta_optimizer.cc:818]   function_optimizer: Graph size after: 251 nodes (240), 331 edges (320), time = 4.91ms.\n",
            "2020-08-20 10:39:43.391425: I tensorflow/core/grappler/optimizers/meta_optimizer.cc:818]   function_optimizer: function_optimizer did nothing. time = 0.06ms.\n",
            "2020-08-20 10:39:43.609375: I tensorflow/core/grappler/optimizers/meta_optimizer.cc:816] Optimization results for grappler item: graph_to_optimize\n",
            "2020-08-20 10:39:43.609423: I tensorflow/core/grappler/optimizers/meta_optimizer.cc:818]   debug_stripper: debug_stripper did nothing. time = 0.013ms.\n",
            "2020-08-20 10:39:43.609440: I tensorflow/core/grappler/optimizers/meta_optimizer.cc:818]   model_pruner: Graph size after: 147 nodes (-49), 184 edges (-49), time = 0.925ms.\n",
            "2020-08-20 10:39:43.609453: I tensorflow/core/grappler/optimizers/meta_optimizer.cc:818]   constant_folding: Graph size after: 147 nodes (0), 184 edges (0), time = 2.421ms.\n",
            "2020-08-20 10:39:43.609465: I tensorflow/core/grappler/optimizers/meta_optimizer.cc:818]   arithmetic_optimizer: Graph size after: 147 nodes (0), 184 edges (0), time = 1.808ms.\n",
            "2020-08-20 10:39:43.609483: I tensorflow/core/grappler/optimizers/meta_optimizer.cc:818]   dependency_optimizer: Graph size after: 133 nodes (-14), 161 edges (-23), time = 0.967ms.\n",
            "2020-08-20 10:39:43.609524: I tensorflow/core/grappler/optimizers/meta_optimizer.cc:818]   model_pruner: Graph size after: 133 nodes (0), 161 edges (0), time = 0.646ms.\n",
            "2020-08-20 10:39:43.609539: I tensorflow/core/grappler/optimizers/meta_optimizer.cc:818]   constant_folding: Graph size after: 133 nodes (0), 161 edges (0), time = 2.147ms.\n",
            "2020-08-20 10:39:43.609550: I tensorflow/core/grappler/optimizers/meta_optimizer.cc:818]   arithmetic_optimizer: Graph size after: 133 nodes (0), 161 edges (0), time = 1.833ms.\n",
            "2020-08-20 10:39:43.609566: I tensorflow/core/grappler/optimizers/meta_optimizer.cc:818]   dependency_optimizer: Graph size after: 133 nodes (0), 161 edges (0), time = 0.859ms.\n",
            "2020-08-20 10:39:43.609582: I tensorflow/core/grappler/optimizers/meta_optimizer.cc:818]   debug_stripper: debug_stripper did nothing. time = 0.056ms.\n",
            "2020-08-20 10:39:43.609597: I tensorflow/core/grappler/optimizers/meta_optimizer.cc:818]   model_pruner: Graph size after: 133 nodes (0), 161 edges (0), time = 0.526ms.\n",
            "2020-08-20 10:39:43.609613: I tensorflow/core/grappler/optimizers/meta_optimizer.cc:818]   constant_folding: Graph size after: 133 nodes (0), 161 edges (0), time = 1.817ms.\n",
            "2020-08-20 10:39:43.609628: I tensorflow/core/grappler/optimizers/meta_optimizer.cc:818]   arithmetic_optimizer: Graph size after: 133 nodes (0), 161 edges (0), time = 1.562ms.\n",
            "2020-08-20 10:39:43.609642: I tensorflow/core/grappler/optimizers/meta_optimizer.cc:818]   dependency_optimizer: Graph size after: 133 nodes (0), 161 edges (0), time = 0.723ms.\n",
            "2020-08-20 10:39:43.609666: I tensorflow/core/grappler/optimizers/meta_optimizer.cc:818]   model_pruner: Graph size after: 133 nodes (0), 161 edges (0), time = 0.429ms.\n",
            "2020-08-20 10:39:43.609682: I tensorflow/core/grappler/optimizers/meta_optimizer.cc:818]   constant_folding: Graph size after: 133 nodes (0), 161 edges (0), time = 1.607ms.\n",
            "2020-08-20 10:39:43.609697: I tensorflow/core/grappler/optimizers/meta_optimizer.cc:818]   arithmetic_optimizer: Graph size after: 133 nodes (0), 161 edges (0), time = 1.743ms.\n",
            "2020-08-20 10:39:43.609711: I tensorflow/core/grappler/optimizers/meta_optimizer.cc:818]   dependency_optimizer: Graph size after: 133 nodes (0), 161 edges (0), time = 0.731ms.\n",
            "2020-08-20 10:39:43.626300: I tensorflow/core/grappler/optimizers/meta_optimizer.cc:816] Optimization results for grappler item: graph_to_optimize\n",
            "2020-08-20 10:39:43.626364: I tensorflow/core/grappler/optimizers/meta_optimizer.cc:818]   remapper: Graph size after: 130 nodes (-3), 158 edges (-3), time = 0.37ms.\n",
            "2020-08-20 10:39:43.626382: I tensorflow/core/grappler/optimizers/meta_optimizer.cc:818]   constant_folding: Graph size after: 130 nodes (0), 158 edges (0), time = 2.182ms.\n",
            "2020-08-20 10:39:43.626394: I tensorflow/core/grappler/optimizers/meta_optimizer.cc:818]   arithmetic_optimizer: Graph size after: 130 nodes (0), 158 edges (0), time = 1.775ms.\n",
            "2020-08-20 10:39:43.626406: I tensorflow/core/grappler/optimizers/meta_optimizer.cc:818]   dependency_optimizer: Graph size after: 130 nodes (0), 158 edges (0), time = 0.729ms.\n",
            "2020-08-20 10:39:43.626435: I tensorflow/core/grappler/optimizers/meta_optimizer.cc:818]   remapper: Graph size after: 130 nodes (0), 158 edges (0), time = 0.339ms.\n",
            "2020-08-20 10:39:43.626489: I tensorflow/core/grappler/optimizers/meta_optimizer.cc:818]   constant_folding: Graph size after: 130 nodes (0), 158 edges (0), time = 1.625ms.\n",
            "2020-08-20 10:39:43.626505: I tensorflow/core/grappler/optimizers/meta_optimizer.cc:818]   arithmetic_optimizer: Graph size after: 130 nodes (0), 158 edges (0), time = 1.578ms.\n",
            "2020-08-20 10:39:43.626518: I tensorflow/core/grappler/optimizers/meta_optimizer.cc:818]   dependency_optimizer: Graph size after: 130 nodes (0), 158 edges (0), time = 0.864ms.\n",
            "Writing weight file /content/modeltfjs/model.json...\n"
          ],
          "name": "stdout"
        }
      ]
    },
    {
      "cell_type": "markdown",
      "metadata": {
        "id": "uJ-yFnEdE0tO"
      },
      "source": [
        "#**Building model with LSTM (3)**"
      ]
    },
    {
      "cell_type": "markdown",
      "metadata": {
        "id": "K6oVlLxtE0tW"
      },
      "source": [
        "## Load Dataset"
      ]
    },
    {
      "cell_type": "code",
      "metadata": {
        "colab": {
          "base_uri": "https://localhost:8080/"
        },
        "id": "RZ5jE3nNE0tW",
        "outputId": "3f2cadbf-afca-4c89-eb01-e0dd01a73633"
      },
      "source": [
        "!wget https://raw.githubusercontent.com/H4rfu1/ML-project-TokoLitik-tim-Undagi/main/Response/dataset_review_tokped_labelled.csv"
      ],
      "execution_count": null,
      "outputs": [
        {
          "output_type": "stream",
          "text": [
            "--2021-05-11 12:40:35--  https://raw.githubusercontent.com/H4rfu1/ML-project-TokoLitik-tim-Undagi/main/Response/dataset_review_tokped_labelled.csv\n",
            "Resolving raw.githubusercontent.com (raw.githubusercontent.com)... 185.199.108.133, 185.199.109.133, 185.199.110.133, ...\n",
            "Connecting to raw.githubusercontent.com (raw.githubusercontent.com)|185.199.108.133|:443... connected.\n",
            "HTTP request sent, awaiting response... 200 OK\n",
            "Length: 294589 (288K) [text/plain]\n",
            "Saving to: ‘dataset_review_tokped_labelled.csv’\n",
            "\n",
            "\r          dataset_r   0%[                    ]       0  --.-KB/s               \rdataset_review_tokp 100%[===================>] 287.68K  --.-KB/s    in 0.03s   \n",
            "\n",
            "2021-05-11 12:40:35 (8.68 MB/s) - ‘dataset_review_tokped_labelled.csv’ saved [294589/294589]\n",
            "\n"
          ],
          "name": "stdout"
        }
      ]
    },
    {
      "cell_type": "code",
      "metadata": {
        "colab": {
          "base_uri": "https://localhost:8080/",
          "height": 419
        },
        "id": "QbHz6P5KE0tY",
        "outputId": "460a5524-2ba2-4e58-bd80-5e1ae6d61770"
      },
      "source": [
        "#dataset from crawling process\n",
        "df = pd.read_csv('/content/dataset_review_tokped_labelled.csv')\n",
        "df"
      ],
      "execution_count": null,
      "outputs": [
        {
          "output_type": "execute_result",
          "data": {
            "text/html": [
              "<div>\n",
              "<style scoped>\n",
              "    .dataframe tbody tr th:only-of-type {\n",
              "        vertical-align: middle;\n",
              "    }\n",
              "\n",
              "    .dataframe tbody tr th {\n",
              "        vertical-align: top;\n",
              "    }\n",
              "\n",
              "    .dataframe thead th {\n",
              "        text-align: right;\n",
              "    }\n",
              "</style>\n",
              "<table border=\"1\" class=\"dataframe\">\n",
              "  <thead>\n",
              "    <tr style=\"text-align: right;\">\n",
              "      <th></th>\n",
              "      <th>Review</th>\n",
              "      <th>Rating</th>\n",
              "      <th>Sentiment</th>\n",
              "    </tr>\n",
              "  </thead>\n",
              "  <tbody>\n",
              "    <tr>\n",
              "      <th>0</th>\n",
              "      <td>enak kuacinya</td>\n",
              "      <td>5</td>\n",
              "      <td>positive</td>\n",
              "    </tr>\n",
              "    <tr>\n",
              "      <th>1</th>\n",
              "      <td>pengiriman cepat packing bagus sesuai pesanan ...</td>\n",
              "      <td>5</td>\n",
              "      <td>positive</td>\n",
              "    </tr>\n",
              "    <tr>\n",
              "      <th>2</th>\n",
              "      <td>pengemasan luar biasa baik untuk rasa menurut ...</td>\n",
              "      <td>4</td>\n",
              "      <td>negative</td>\n",
              "    </tr>\n",
              "    <tr>\n",
              "      <th>3</th>\n",
              "      <td>terimakasih min</td>\n",
              "      <td>5</td>\n",
              "      <td>neutral</td>\n",
              "    </tr>\n",
              "    <tr>\n",
              "      <th>4</th>\n",
              "      <td>udah order untuk kesekian kali jos</td>\n",
              "      <td>5</td>\n",
              "      <td>neutral</td>\n",
              "    </tr>\n",
              "    <tr>\n",
              "      <th>...</th>\n",
              "      <td>...</td>\n",
              "      <td>...</td>\n",
              "      <td>...</td>\n",
              "    </tr>\n",
              "    <tr>\n",
              "      <th>4055</th>\n",
              "      <td>seller sangat responsif rasa belum dicoba kare...</td>\n",
              "      <td>5</td>\n",
              "      <td>neutral</td>\n",
              "    </tr>\n",
              "    <tr>\n",
              "      <th>4056</th>\n",
              "      <td>imut2 banget packing aman</td>\n",
              "      <td>5</td>\n",
              "      <td>positive</td>\n",
              "    </tr>\n",
              "    <tr>\n",
              "      <th>4057</th>\n",
              "      <td>good product trusted seller</td>\n",
              "      <td>5</td>\n",
              "      <td>positive</td>\n",
              "    </tr>\n",
              "    <tr>\n",
              "      <th>4058</th>\n",
              "      <td>sudah beli yg ke 3</td>\n",
              "      <td>5</td>\n",
              "      <td>neutral</td>\n",
              "    </tr>\n",
              "    <tr>\n",
              "      <th>4059</th>\n",
              "      <td>byk campurannya</td>\n",
              "      <td>4</td>\n",
              "      <td>neutral</td>\n",
              "    </tr>\n",
              "  </tbody>\n",
              "</table>\n",
              "<p>4060 rows × 3 columns</p>\n",
              "</div>"
            ],
            "text/plain": [
              "                                                 Review  Rating Sentiment\n",
              "0                                         enak kuacinya       5  positive\n",
              "1     pengiriman cepat packing bagus sesuai pesanan ...       5  positive\n",
              "2     pengemasan luar biasa baik untuk rasa menurut ...       4  negative\n",
              "3                                       terimakasih min       5   neutral\n",
              "4                    udah order untuk kesekian kali jos       5   neutral\n",
              "...                                                 ...     ...       ...\n",
              "4055  seller sangat responsif rasa belum dicoba kare...       5   neutral\n",
              "4056                          imut2 banget packing aman       5  positive\n",
              "4057                        good product trusted seller       5  positive\n",
              "4058                                 sudah beli yg ke 3       5   neutral\n",
              "4059                                    byk campurannya       4   neutral\n",
              "\n",
              "[4060 rows x 3 columns]"
            ]
          },
          "metadata": {
            "tags": []
          },
          "execution_count": 115
        }
      ]
    },
    {
      "cell_type": "markdown",
      "metadata": {
        "id": "GMEiGV0CE0tZ"
      },
      "source": [
        "## Check Dataset"
      ]
    },
    {
      "cell_type": "code",
      "metadata": {
        "colab": {
          "base_uri": "https://localhost:8080/",
          "height": 307
        },
        "id": "vaJOa90aE0tZ",
        "outputId": "fee41f50-1041-4662-92d2-805c9216e660"
      },
      "source": [
        "pd.value_counts(df['Sentiment']).plot.bar()"
      ],
      "execution_count": null,
      "outputs": [
        {
          "output_type": "execute_result",
          "data": {
            "text/plain": [
              "<matplotlib.axes._subplots.AxesSubplot at 0x7f3b6a28a9d0>"
            ]
          },
          "metadata": {
            "tags": []
          },
          "execution_count": 116
        },
        {
          "output_type": "display_data",
          "data": {
            "image/png": "[encoded data removed]",
            "text/plain": [
              "<Figure size 432x288 with 1 Axes>"
            ]
          },
          "metadata": {
            "tags": []
          }
        }
      ]
    },
    {
      "cell_type": "code",
      "metadata": {
        "colab": {
          "base_uri": "https://localhost:8080/"
        },
        "id": "ClCc08ICE0ta",
        "outputId": "04acf70e-9fdf-469a-e14f-6b5b1c12221b"
      },
      "source": [
        "#to check shape of the dataset\n",
        "print(df.shape) \n",
        "\n",
        "#to look the header of dataset\n",
        "df.info()\n"
      ],
      "execution_count": null,
      "outputs": [
        {
          "output_type": "stream",
          "text": [
            "(4060, 3)\n",
            "<class 'pandas.core.frame.DataFrame'>\n",
            "RangeIndex: 4060 entries, 0 to 4059\n",
            "Data columns (total 3 columns):\n",
            " #   Column     Non-Null Count  Dtype \n",
            "---  ------     --------------  ----- \n",
            " 0   Review     4060 non-null   object\n",
            " 1   Rating     4060 non-null   int64 \n",
            " 2   Sentiment  4060 non-null   object\n",
            "dtypes: int64(1), object(2)\n",
            "memory usage: 95.3+ KB\n"
          ],
          "name": "stdout"
        }
      ]
    },
    {
      "cell_type": "code",
      "metadata": {
        "colab": {
          "base_uri": "https://localhost:8080/",
          "height": 419
        },
        "id": "Vy15631iE0ta",
        "outputId": "4f9573ca-6247-452e-d7f1-dd3e345be8ed"
      },
      "source": [
        "#separate column category and add value to it\n",
        "category = pd.get_dummies(df.Sentiment)\n",
        "df = pd.concat([df, category], axis=1)\n",
        "df = df.drop(columns='Sentiment')\n",
        "df"
      ],
      "execution_count": null,
      "outputs": [
        {
          "output_type": "execute_result",
          "data": {
            "text/html": [
              "<div>\n",
              "<style scoped>\n",
              "    .dataframe tbody tr th:only-of-type {\n",
              "        vertical-align: middle;\n",
              "    }\n",
              "\n",
              "    .dataframe tbody tr th {\n",
              "        vertical-align: top;\n",
              "    }\n",
              "\n",
              "    .dataframe thead th {\n",
              "        text-align: right;\n",
              "    }\n",
              "</style>\n",
              "<table border=\"1\" class=\"dataframe\">\n",
              "  <thead>\n",
              "    <tr style=\"text-align: right;\">\n",
              "      <th></th>\n",
              "      <th>Review</th>\n",
              "      <th>Rating</th>\n",
              "      <th>negative</th>\n",
              "      <th>neutral</th>\n",
              "      <th>positive</th>\n",
              "    </tr>\n",
              "  </thead>\n",
              "  <tbody>\n",
              "    <tr>\n",
              "      <th>0</th>\n",
              "      <td>enak kuacinya</td>\n",
              "      <td>5</td>\n",
              "      <td>0</td>\n",
              "      <td>0</td>\n",
              "      <td>1</td>\n",
              "    </tr>\n",
              "    <tr>\n",
              "      <th>1</th>\n",
              "      <td>pengiriman cepat packing bagus sesuai pesanan ...</td>\n",
              "      <td>5</td>\n",
              "      <td>0</td>\n",
              "      <td>0</td>\n",
              "      <td>1</td>\n",
              "    </tr>\n",
              "    <tr>\n",
              "      <th>2</th>\n",
              "      <td>pengemasan luar biasa baik untuk rasa menurut ...</td>\n",
              "      <td>4</td>\n",
              "      <td>1</td>\n",
              "      <td>0</td>\n",
              "      <td>0</td>\n",
              "    </tr>\n",
              "    <tr>\n",
              "      <th>3</th>\n",
              "      <td>terimakasih min</td>\n",
              "      <td>5</td>\n",
              "      <td>0</td>\n",
              "      <td>1</td>\n",
              "      <td>0</td>\n",
              "    </tr>\n",
              "    <tr>\n",
              "      <th>4</th>\n",
              "      <td>udah order untuk kesekian kali jos</td>\n",
              "      <td>5</td>\n",
              "      <td>0</td>\n",
              "      <td>1</td>\n",
              "      <td>0</td>\n",
              "    </tr>\n",
              "    <tr>\n",
              "      <th>...</th>\n",
              "      <td>...</td>\n",
              "      <td>...</td>\n",
              "      <td>...</td>\n",
              "      <td>...</td>\n",
              "      <td>...</td>\n",
              "    </tr>\n",
              "    <tr>\n",
              "      <th>4055</th>\n",
              "      <td>seller sangat responsif rasa belum dicoba kare...</td>\n",
              "      <td>5</td>\n",
              "      <td>0</td>\n",
              "      <td>1</td>\n",
              "      <td>0</td>\n",
              "    </tr>\n",
              "    <tr>\n",
              "      <th>4056</th>\n",
              "      <td>imut2 banget packing aman</td>\n",
              "      <td>5</td>\n",
              "      <td>0</td>\n",
              "      <td>0</td>\n",
              "      <td>1</td>\n",
              "    </tr>\n",
              "    <tr>\n",
              "      <th>4057</th>\n",
              "      <td>good product trusted seller</td>\n",
              "      <td>5</td>\n",
              "      <td>0</td>\n",
              "      <td>0</td>\n",
              "      <td>1</td>\n",
              "    </tr>\n",
              "    <tr>\n",
              "      <th>4058</th>\n",
              "      <td>sudah beli yg ke 3</td>\n",
              "      <td>5</td>\n",
              "      <td>0</td>\n",
              "      <td>1</td>\n",
              "      <td>0</td>\n",
              "    </tr>\n",
              "    <tr>\n",
              "      <th>4059</th>\n",
              "      <td>byk campurannya</td>\n",
              "      <td>4</td>\n",
              "      <td>0</td>\n",
              "      <td>1</td>\n",
              "      <td>0</td>\n",
              "    </tr>\n",
              "  </tbody>\n",
              "</table>\n",
              "<p>4060 rows × 5 columns</p>\n",
              "</div>"
            ],
            "text/plain": [
              "                                                 Review  ...  positive\n",
              "0                                         enak kuacinya  ...         1\n",
              "1     pengiriman cepat packing bagus sesuai pesanan ...  ...         1\n",
              "2     pengemasan luar biasa baik untuk rasa menurut ...  ...         0\n",
              "3                                       terimakasih min  ...         0\n",
              "4                    udah order untuk kesekian kali jos  ...         0\n",
              "...                                                 ...  ...       ...\n",
              "4055  seller sangat responsif rasa belum dicoba kare...  ...         0\n",
              "4056                          imut2 banget packing aman  ...         1\n",
              "4057                        good product trusted seller  ...         1\n",
              "4058                                 sudah beli yg ke 3  ...         0\n",
              "4059                                    byk campurannya  ...         0\n",
              "\n",
              "[4060 rows x 5 columns]"
            ]
          },
          "metadata": {
            "tags": []
          },
          "execution_count": 119
        }
      ]
    },
    {
      "cell_type": "markdown",
      "metadata": {
        "id": "YJJa6pAaE0tb"
      },
      "source": [
        "## Peprocess Dataset"
      ]
    },
    {
      "cell_type": "code",
      "metadata": {
        "colab": {
          "base_uri": "https://localhost:8080/",
          "height": 419
        },
        "id": "hjlWrcB7E0tb",
        "outputId": "77fad7c4-8399-4fa9-f88b-3f1c37cce0bd"
      },
      "source": [
        "#remove repeated char\n",
        "# continously repeating character\n",
        "# from the word \n",
        "def conti_rep_char(str1):\n",
        "    tchr = str1.group(0)\n",
        "    if len(tchr) > 1:\n",
        "      return tchr[0:1]\n",
        "# define a function to check\n",
        "# whether unique character \n",
        "# is present or not\n",
        "def check_unique_char(rep, sent_text):\n",
        "    # regular expression for \n",
        "    # repetion of characters\n",
        "    convert = re.sub(r'(\\w)\\1+', \n",
        "                     rep,\n",
        "                     sent_text)\n",
        "      \n",
        "    # returing the converted word\n",
        "    return convert\n",
        "\n",
        "df['Review'] = df['Review'].apply(lambda x : check_unique_char(conti_rep_char, x))\n",
        "df"
      ],
      "execution_count": null,
      "outputs": [
        {
          "output_type": "execute_result",
          "data": {
            "text/html": [
              "<div>\n",
              "<style scoped>\n",
              "    .dataframe tbody tr th:only-of-type {\n",
              "        vertical-align: middle;\n",
              "    }\n",
              "\n",
              "    .dataframe tbody tr th {\n",
              "        vertical-align: top;\n",
              "    }\n",
              "\n",
              "    .dataframe thead th {\n",
              "        text-align: right;\n",
              "    }\n",
              "</style>\n",
              "<table border=\"1\" class=\"dataframe\">\n",
              "  <thead>\n",
              "    <tr style=\"text-align: right;\">\n",
              "      <th></th>\n",
              "      <th>Review</th>\n",
              "      <th>Rating</th>\n",
              "      <th>negative</th>\n",
              "      <th>neutral</th>\n",
              "      <th>positive</th>\n",
              "    </tr>\n",
              "  </thead>\n",
              "  <tbody>\n",
              "    <tr>\n",
              "      <th>0</th>\n",
              "      <td>enak kuacinya</td>\n",
              "      <td>5</td>\n",
              "      <td>0</td>\n",
              "      <td>0</td>\n",
              "      <td>1</td>\n",
              "    </tr>\n",
              "    <tr>\n",
              "      <th>1</th>\n",
              "      <td>pengiriman cepat packing bagus sesuai pesanan ...</td>\n",
              "      <td>5</td>\n",
              "      <td>0</td>\n",
              "      <td>0</td>\n",
              "      <td>1</td>\n",
              "    </tr>\n",
              "    <tr>\n",
              "      <th>2</th>\n",
              "      <td>pengemasan luar biasa baik untuk rasa menurut ...</td>\n",
              "      <td>4</td>\n",
              "      <td>1</td>\n",
              "      <td>0</td>\n",
              "      <td>0</td>\n",
              "    </tr>\n",
              "    <tr>\n",
              "      <th>3</th>\n",
              "      <td>terimakasih min</td>\n",
              "      <td>5</td>\n",
              "      <td>0</td>\n",
              "      <td>1</td>\n",
              "      <td>0</td>\n",
              "    </tr>\n",
              "    <tr>\n",
              "      <th>4</th>\n",
              "      <td>udah order untuk kesekian kali jos</td>\n",
              "      <td>5</td>\n",
              "      <td>0</td>\n",
              "      <td>1</td>\n",
              "      <td>0</td>\n",
              "    </tr>\n",
              "    <tr>\n",
              "      <th>...</th>\n",
              "      <td>...</td>\n",
              "      <td>...</td>\n",
              "      <td>...</td>\n",
              "      <td>...</td>\n",
              "      <td>...</td>\n",
              "    </tr>\n",
              "    <tr>\n",
              "      <th>4055</th>\n",
              "      <td>seler sangat responsif rasa belum dicoba karen...</td>\n",
              "      <td>5</td>\n",
              "      <td>0</td>\n",
              "      <td>1</td>\n",
              "      <td>0</td>\n",
              "    </tr>\n",
              "    <tr>\n",
              "      <th>4056</th>\n",
              "      <td>imut2 banget packing aman</td>\n",
              "      <td>5</td>\n",
              "      <td>0</td>\n",
              "      <td>0</td>\n",
              "      <td>1</td>\n",
              "    </tr>\n",
              "    <tr>\n",
              "      <th>4057</th>\n",
              "      <td>god product trusted seler</td>\n",
              "      <td>5</td>\n",
              "      <td>0</td>\n",
              "      <td>0</td>\n",
              "      <td>1</td>\n",
              "    </tr>\n",
              "    <tr>\n",
              "      <th>4058</th>\n",
              "      <td>sudah beli yg ke 3</td>\n",
              "      <td>5</td>\n",
              "      <td>0</td>\n",
              "      <td>1</td>\n",
              "      <td>0</td>\n",
              "    </tr>\n",
              "    <tr>\n",
              "      <th>4059</th>\n",
              "      <td>byk campuranya</td>\n",
              "      <td>4</td>\n",
              "      <td>0</td>\n",
              "      <td>1</td>\n",
              "      <td>0</td>\n",
              "    </tr>\n",
              "  </tbody>\n",
              "</table>\n",
              "<p>4060 rows × 5 columns</p>\n",
              "</div>"
            ],
            "text/plain": [
              "                                                 Review  ...  positive\n",
              "0                                         enak kuacinya  ...         1\n",
              "1     pengiriman cepat packing bagus sesuai pesanan ...  ...         1\n",
              "2     pengemasan luar biasa baik untuk rasa menurut ...  ...         0\n",
              "3                                       terimakasih min  ...         0\n",
              "4                    udah order untuk kesekian kali jos  ...         0\n",
              "...                                                 ...  ...       ...\n",
              "4055  seler sangat responsif rasa belum dicoba karen...  ...         0\n",
              "4056                          imut2 banget packing aman  ...         1\n",
              "4057                          god product trusted seler  ...         1\n",
              "4058                                 sudah beli yg ke 3  ...         0\n",
              "4059                                     byk campuranya  ...         0\n",
              "\n",
              "[4060 rows x 5 columns]"
            ]
          },
          "metadata": {
            "tags": []
          },
          "execution_count": 120
        }
      ]
    },
    {
      "cell_type": "code",
      "metadata": {
        "colab": {
          "base_uri": "https://localhost:8080/",
          "height": 453
        },
        "id": "l5YMdKUhNvN7",
        "outputId": "e96634a3-2773-4dc1-fbba-d76f797a8013"
      },
      "source": [
        "import nltk\n",
        "nltk.download('stopwords')\n",
        "from nltk.corpus import stopwords\n",
        "\n",
        "# ----------------------- get stopword from NLTK stopword -------------------------------\n",
        "# get stopword indonesia\n",
        "list_stopwords = stopwords.words('indonesian')\n",
        "\n",
        "\n",
        "# ---------------------------- manualy add stopword  ------------------------------------\n",
        "# append additional stopword\n",
        "list_stopwords.extend([\"yg\", \"dg\", \"rt\", \"dgn\", \"ny\", \"d\", 'klo', \n",
        "                       'kalo', 'amp', 'biar', 'bikin', 'bilang', \n",
        "                       'gak', 'ga', 'krn', 'nya', 'nih', 'sih', \n",
        "                       'si', 'tau', 'tdk', 'tuh', 'utk', 'ya', \n",
        "                       'jd', 'jgn', 'sdh', 'aja', 'n', 't', \n",
        "                       'nyg', 'hehe', 'pen', 'u', 'nan', 'loh', 'rt',\n",
        "                       '&amp', 'yah'])\n",
        "\n",
        "\n",
        "#remove stopword pada list token\n",
        "# Exclude stopwords with Python's list comprehension and pandas.DataFrame.apply.\n",
        "df['Review'] = df['Review'].apply(lambda x: ' '.join([word for word in x.split() if word not in (list_stopwords)]))\n",
        "\n",
        "df"
      ],
      "execution_count": null,
      "outputs": [
        {
          "output_type": "stream",
          "text": [
            "[nltk_data] Downloading package stopwords to /root/nltk_data...\n",
            "[nltk_data]   Package stopwords is already up-to-date!\n"
          ],
          "name": "stdout"
        },
        {
          "output_type": "execute_result",
          "data": {
            "text/html": [
              "<div>\n",
              "<style scoped>\n",
              "    .dataframe tbody tr th:only-of-type {\n",
              "        vertical-align: middle;\n",
              "    }\n",
              "\n",
              "    .dataframe tbody tr th {\n",
              "        vertical-align: top;\n",
              "    }\n",
              "\n",
              "    .dataframe thead th {\n",
              "        text-align: right;\n",
              "    }\n",
              "</style>\n",
              "<table border=\"1\" class=\"dataframe\">\n",
              "  <thead>\n",
              "    <tr style=\"text-align: right;\">\n",
              "      <th></th>\n",
              "      <th>Review</th>\n",
              "      <th>Rating</th>\n",
              "      <th>negative</th>\n",
              "      <th>neutral</th>\n",
              "      <th>positive</th>\n",
              "    </tr>\n",
              "  </thead>\n",
              "  <tbody>\n",
              "    <tr>\n",
              "      <th>0</th>\n",
              "      <td>enak kuacinya</td>\n",
              "      <td>5</td>\n",
              "      <td>0</td>\n",
              "      <td>0</td>\n",
              "      <td>1</td>\n",
              "    </tr>\n",
              "    <tr>\n",
              "      <th>1</th>\n",
              "      <td>pengiriman cepat packing bagus sesuai pesanan ...</td>\n",
              "      <td>5</td>\n",
              "      <td>0</td>\n",
              "      <td>0</td>\n",
              "      <td>1</td>\n",
              "    </tr>\n",
              "    <tr>\n",
              "      <th>2</th>\n",
              "      <td>pengemasan dominan original atw asli kuacinya ...</td>\n",
              "      <td>4</td>\n",
              "      <td>1</td>\n",
              "      <td>0</td>\n",
              "      <td>0</td>\n",
              "    </tr>\n",
              "    <tr>\n",
              "      <th>3</th>\n",
              "      <td>terimakasih min</td>\n",
              "      <td>5</td>\n",
              "      <td>0</td>\n",
              "      <td>1</td>\n",
              "      <td>0</td>\n",
              "    </tr>\n",
              "    <tr>\n",
              "      <th>4</th>\n",
              "      <td>udah order kesekian kali jos</td>\n",
              "      <td>5</td>\n",
              "      <td>0</td>\n",
              "      <td>1</td>\n",
              "      <td>0</td>\n",
              "    </tr>\n",
              "    <tr>\n",
              "      <th>...</th>\n",
              "      <td>...</td>\n",
              "      <td>...</td>\n",
              "      <td>...</td>\n",
              "      <td>...</td>\n",
              "      <td>...</td>\n",
              "    </tr>\n",
              "    <tr>\n",
              "      <th>4055</th>\n",
              "      <td>seler responsif dicoba dibuka</td>\n",
              "      <td>5</td>\n",
              "      <td>0</td>\n",
              "      <td>1</td>\n",
              "      <td>0</td>\n",
              "    </tr>\n",
              "    <tr>\n",
              "      <th>4056</th>\n",
              "      <td>imut2 banget packing aman</td>\n",
              "      <td>5</td>\n",
              "      <td>0</td>\n",
              "      <td>0</td>\n",
              "      <td>1</td>\n",
              "    </tr>\n",
              "    <tr>\n",
              "      <th>4057</th>\n",
              "      <td>god product trusted seler</td>\n",
              "      <td>5</td>\n",
              "      <td>0</td>\n",
              "      <td>0</td>\n",
              "      <td>1</td>\n",
              "    </tr>\n",
              "    <tr>\n",
              "      <th>4058</th>\n",
              "      <td>beli 3</td>\n",
              "      <td>5</td>\n",
              "      <td>0</td>\n",
              "      <td>1</td>\n",
              "      <td>0</td>\n",
              "    </tr>\n",
              "    <tr>\n",
              "      <th>4059</th>\n",
              "      <td>byk campuranya</td>\n",
              "      <td>4</td>\n",
              "      <td>0</td>\n",
              "      <td>1</td>\n",
              "      <td>0</td>\n",
              "    </tr>\n",
              "  </tbody>\n",
              "</table>\n",
              "<p>4060 rows × 5 columns</p>\n",
              "</div>"
            ],
            "text/plain": [
              "                                                 Review  ...  positive\n",
              "0                                         enak kuacinya  ...         1\n",
              "1     pengiriman cepat packing bagus sesuai pesanan ...  ...         1\n",
              "2     pengemasan dominan original atw asli kuacinya ...  ...         0\n",
              "3                                       terimakasih min  ...         0\n",
              "4                          udah order kesekian kali jos  ...         0\n",
              "...                                                 ...  ...       ...\n",
              "4055                      seler responsif dicoba dibuka  ...         0\n",
              "4056                          imut2 banget packing aman  ...         1\n",
              "4057                          god product trusted seler  ...         1\n",
              "4058                                             beli 3  ...         0\n",
              "4059                                     byk campuranya  ...         0\n",
              "\n",
              "[4060 rows x 5 columns]"
            ]
          },
          "metadata": {
            "tags": []
          },
          "execution_count": 121
        }
      ]
    },
    {
      "cell_type": "code",
      "metadata": {
        "colab": {
          "base_uri": "https://localhost:8080/",
          "height": 453
        },
        "id": "LQIPnaR2E0tc",
        "outputId": "f8319e0d-ab45-4f40-8ab2-ae9b7f4c2425"
      },
      "source": [
        "print(df.shape)\n",
        "#Removes duplicates in place\n",
        "df.drop_duplicates(keep=False, inplace=True)\n",
        "print(df.shape) \n",
        "df"
      ],
      "execution_count": null,
      "outputs": [
        {
          "output_type": "stream",
          "text": [
            "(4060, 5)\n",
            "(3863, 5)\n"
          ],
          "name": "stdout"
        },
        {
          "output_type": "execute_result",
          "data": {
            "text/html": [
              "<div>\n",
              "<style scoped>\n",
              "    .dataframe tbody tr th:only-of-type {\n",
              "        vertical-align: middle;\n",
              "    }\n",
              "\n",
              "    .dataframe tbody tr th {\n",
              "        vertical-align: top;\n",
              "    }\n",
              "\n",
              "    .dataframe thead th {\n",
              "        text-align: right;\n",
              "    }\n",
              "</style>\n",
              "<table border=\"1\" class=\"dataframe\">\n",
              "  <thead>\n",
              "    <tr style=\"text-align: right;\">\n",
              "      <th></th>\n",
              "      <th>Review</th>\n",
              "      <th>Rating</th>\n",
              "      <th>negative</th>\n",
              "      <th>neutral</th>\n",
              "      <th>positive</th>\n",
              "    </tr>\n",
              "  </thead>\n",
              "  <tbody>\n",
              "    <tr>\n",
              "      <th>0</th>\n",
              "      <td>enak kuacinya</td>\n",
              "      <td>5</td>\n",
              "      <td>0</td>\n",
              "      <td>0</td>\n",
              "      <td>1</td>\n",
              "    </tr>\n",
              "    <tr>\n",
              "      <th>1</th>\n",
              "      <td>pengiriman cepat packing bagus sesuai pesanan ...</td>\n",
              "      <td>5</td>\n",
              "      <td>0</td>\n",
              "      <td>0</td>\n",
              "      <td>1</td>\n",
              "    </tr>\n",
              "    <tr>\n",
              "      <th>2</th>\n",
              "      <td>pengemasan dominan original atw asli kuacinya ...</td>\n",
              "      <td>4</td>\n",
              "      <td>1</td>\n",
              "      <td>0</td>\n",
              "      <td>0</td>\n",
              "    </tr>\n",
              "    <tr>\n",
              "      <th>3</th>\n",
              "      <td>terimakasih min</td>\n",
              "      <td>5</td>\n",
              "      <td>0</td>\n",
              "      <td>1</td>\n",
              "      <td>0</td>\n",
              "    </tr>\n",
              "    <tr>\n",
              "      <th>4</th>\n",
              "      <td>udah order kesekian kali jos</td>\n",
              "      <td>5</td>\n",
              "      <td>0</td>\n",
              "      <td>1</td>\n",
              "      <td>0</td>\n",
              "    </tr>\n",
              "    <tr>\n",
              "      <th>...</th>\n",
              "      <td>...</td>\n",
              "      <td>...</td>\n",
              "      <td>...</td>\n",
              "      <td>...</td>\n",
              "      <td>...</td>\n",
              "    </tr>\n",
              "    <tr>\n",
              "      <th>4055</th>\n",
              "      <td>seler responsif dicoba dibuka</td>\n",
              "      <td>5</td>\n",
              "      <td>0</td>\n",
              "      <td>1</td>\n",
              "      <td>0</td>\n",
              "    </tr>\n",
              "    <tr>\n",
              "      <th>4056</th>\n",
              "      <td>imut2 banget packing aman</td>\n",
              "      <td>5</td>\n",
              "      <td>0</td>\n",
              "      <td>0</td>\n",
              "      <td>1</td>\n",
              "    </tr>\n",
              "    <tr>\n",
              "      <th>4057</th>\n",
              "      <td>god product trusted seler</td>\n",
              "      <td>5</td>\n",
              "      <td>0</td>\n",
              "      <td>0</td>\n",
              "      <td>1</td>\n",
              "    </tr>\n",
              "    <tr>\n",
              "      <th>4058</th>\n",
              "      <td>beli 3</td>\n",
              "      <td>5</td>\n",
              "      <td>0</td>\n",
              "      <td>1</td>\n",
              "      <td>0</td>\n",
              "    </tr>\n",
              "    <tr>\n",
              "      <th>4059</th>\n",
              "      <td>byk campuranya</td>\n",
              "      <td>4</td>\n",
              "      <td>0</td>\n",
              "      <td>1</td>\n",
              "      <td>0</td>\n",
              "    </tr>\n",
              "  </tbody>\n",
              "</table>\n",
              "<p>3863 rows × 5 columns</p>\n",
              "</div>"
            ],
            "text/plain": [
              "                                                 Review  ...  positive\n",
              "0                                         enak kuacinya  ...         1\n",
              "1     pengiriman cepat packing bagus sesuai pesanan ...  ...         1\n",
              "2     pengemasan dominan original atw asli kuacinya ...  ...         0\n",
              "3                                       terimakasih min  ...         0\n",
              "4                          udah order kesekian kali jos  ...         0\n",
              "...                                                 ...  ...       ...\n",
              "4055                      seler responsif dicoba dibuka  ...         0\n",
              "4056                          imut2 banget packing aman  ...         1\n",
              "4057                          god product trusted seler  ...         1\n",
              "4058                                             beli 3  ...         0\n",
              "4059                                     byk campuranya  ...         0\n",
              "\n",
              "[3863 rows x 5 columns]"
            ]
          },
          "metadata": {
            "tags": []
          },
          "execution_count": 122
        }
      ]
    },
    {
      "cell_type": "code",
      "metadata": {
        "id": "doIopnTPE0tc"
      },
      "source": [
        ""
      ],
      "execution_count": null,
      "outputs": []
    },
    {
      "cell_type": "markdown",
      "metadata": {
        "id": "k2l3nOOkE0td"
      },
      "source": [
        "## change data type"
      ]
    },
    {
      "cell_type": "code",
      "metadata": {
        "id": "9IXggLaNE0td"
      },
      "source": [
        "#get label of dataset\n",
        "content = df['Review'].values\n",
        "label = df[['negative', 'neutral', 'positive']].values"
      ],
      "execution_count": null,
      "outputs": []
    },
    {
      "cell_type": "markdown",
      "metadata": {
        "id": "doL7WQUvE0td"
      },
      "source": [
        "## Build Train and test sets"
      ]
    },
    {
      "cell_type": "code",
      "metadata": {
        "id": "E9cFPLR3NBSU"
      },
      "source": [
        "vocab_size = 1000\n",
        "embedding_dim = 16\n",
        "max_length = 120\n",
        "trunc_type='post'\n",
        "padding_type='post'\n",
        "oov_tok = \"<OOV>\"\n",
        "validation_portion = .2"
      ],
      "execution_count": null,
      "outputs": []
    },
    {
      "cell_type": "code",
      "metadata": {
        "colab": {
          "base_uri": "https://localhost:8080/"
        },
        "id": "397HAcCpE0te",
        "outputId": "65d8f6e0-cfcd-4f16-a451-c52c98adb8e3"
      },
      "source": [
        "train_sentences, validation_sentences, train_labels, validation_labels = train_test_split(content, labels, test_size=validation_portion)\n",
        "print(len(train_sentences))\n",
        "print(len(train_labels))\n",
        "print(len(validation_sentences))\n",
        "print(len(validation_labels))"
      ],
      "execution_count": null,
      "outputs": [
        {
          "output_type": "stream",
          "text": [
            "3090\n",
            "3090\n",
            "773\n",
            "773\n"
          ],
          "name": "stdout"
        }
      ]
    },
    {
      "cell_type": "markdown",
      "metadata": {
        "id": "LIw4eM2VE0te"
      },
      "source": [
        "## Tokenizer"
      ]
    },
    {
      "cell_type": "code",
      "metadata": {
        "colab": {
          "base_uri": "https://localhost:8080/"
        },
        "id": "PlUu1cRZE0te",
        "outputId": "1db3fce9-ebdf-4c83-8db4-66080d15f0e1"
      },
      "source": [
        "tokenizer = Tokenizer(num_words = vocab_size, oov_token=oov_tok)\n",
        "tokenizer.fit_on_texts(train_sentences)\n",
        "word_index = tokenizer.word_index\n",
        "\n",
        "train_sequences = tokenizer.texts_to_sequences(train_sentences)\n",
        "train_padded = pad_sequences(train_sequences, padding=padding_type, maxlen=max_length)\n",
        "\n",
        "print(len(train_sequences[0]))\n",
        "print(len(train_padded[0]))\n",
        "\n",
        "print(len(train_sequences[1]))\n",
        "print(len(train_padded[1]))\n",
        "\n",
        "print(len(train_sequences[10]))\n",
        "print(len(train_padded[10]))"
      ],
      "execution_count": null,
      "outputs": [
        {
          "output_type": "stream",
          "text": [
            "5\n",
            "120\n",
            "2\n",
            "120\n",
            "7\n",
            "120\n"
          ],
          "name": "stdout"
        }
      ]
    },
    {
      "cell_type": "code",
      "metadata": {
        "colab": {
          "base_uri": "https://localhost:8080/"
        },
        "id": "Yl8XWXrYRUaW",
        "outputId": "d91419c4-9e7d-40ac-cf24-b8b18c42431d"
      },
      "source": [
        "validation_sequences = tokenizer.texts_to_sequences(validation_sentences)\n",
        "validation_padded = pad_sequences(validation_sequences, padding=padding_type, maxlen=max_length)\n",
        "\n",
        "print(len(validation_sequences))\n",
        "print(validation_padded.shape)"
      ],
      "execution_count": null,
      "outputs": [
        {
          "output_type": "stream",
          "text": [
            "773\n",
            "(773, 120)\n"
          ],
          "name": "stdout"
        }
      ]
    },
    {
      "cell_type": "code",
      "metadata": {
        "colab": {
          "base_uri": "https://localhost:8080/",
          "height": 555
        },
        "id": "EgftKERGRYy_",
        "outputId": "fd6ba166-9090-42e0-b7e0-0360ae981996"
      },
      "source": [
        "label_tokenizer = Tokenizer()\n",
        "label_tokenizer.fit_on_texts(labels)\n",
        "\n",
        "training_label_seq = np.array(label_tokenizer.texts_to_sequences(train_labels))\n",
        "validation_label_seq = np.array(label_tokenizer.texts_to_sequences(validation_labels))\n",
        "\n",
        "print(training_label_seq[0])\n",
        "print(training_label_seq[1])\n",
        "print(training_label_seq[2])\n",
        "print(training_label_seq.shape)\n",
        "\n",
        "print(validation_label_seq[0])\n",
        "print(validation_label_seq[1])\n",
        "print(validation_label_seq[2])\n",
        "print(validation_label_seq.shape)\n",
        "\n",
        "df"
      ],
      "execution_count": null,
      "outputs": [
        {
          "output_type": "stream",
          "text": [
            "[1]\n",
            "[1]\n",
            "[1]\n",
            "(3090, 1)\n",
            "[1]\n",
            "[1]\n",
            "[1]\n",
            "(773, 1)\n"
          ],
          "name": "stdout"
        },
        {
          "output_type": "execute_result",
          "data": {
            "text/html": [
              "<div>\n",
              "<style scoped>\n",
              "    .dataframe tbody tr th:only-of-type {\n",
              "        vertical-align: middle;\n",
              "    }\n",
              "\n",
              "    .dataframe tbody tr th {\n",
              "        vertical-align: top;\n",
              "    }\n",
              "\n",
              "    .dataframe thead th {\n",
              "        text-align: right;\n",
              "    }\n",
              "</style>\n",
              "<table border=\"1\" class=\"dataframe\">\n",
              "  <thead>\n",
              "    <tr style=\"text-align: right;\">\n",
              "      <th></th>\n",
              "      <th>Review</th>\n",
              "      <th>Rating</th>\n",
              "      <th>negative</th>\n",
              "      <th>neutral</th>\n",
              "      <th>positive</th>\n",
              "    </tr>\n",
              "  </thead>\n",
              "  <tbody>\n",
              "    <tr>\n",
              "      <th>0</th>\n",
              "      <td>enak kuacinya</td>\n",
              "      <td>5</td>\n",
              "      <td>0</td>\n",
              "      <td>0</td>\n",
              "      <td>1</td>\n",
              "    </tr>\n",
              "    <tr>\n",
              "      <th>1</th>\n",
              "      <td>pengiriman cepat packing bagus sesuai pesanan ...</td>\n",
              "      <td>5</td>\n",
              "      <td>0</td>\n",
              "      <td>0</td>\n",
              "      <td>1</td>\n",
              "    </tr>\n",
              "    <tr>\n",
              "      <th>2</th>\n",
              "      <td>pengemasan dominan original atw asli kuacinya ...</td>\n",
              "      <td>4</td>\n",
              "      <td>1</td>\n",
              "      <td>0</td>\n",
              "      <td>0</td>\n",
              "    </tr>\n",
              "    <tr>\n",
              "      <th>3</th>\n",
              "      <td>terimakasih min</td>\n",
              "      <td>5</td>\n",
              "      <td>0</td>\n",
              "      <td>1</td>\n",
              "      <td>0</td>\n",
              "    </tr>\n",
              "    <tr>\n",
              "      <th>4</th>\n",
              "      <td>udah order kesekian kali jos</td>\n",
              "      <td>5</td>\n",
              "      <td>0</td>\n",
              "      <td>1</td>\n",
              "      <td>0</td>\n",
              "    </tr>\n",
              "    <tr>\n",
              "      <th>...</th>\n",
              "      <td>...</td>\n",
              "      <td>...</td>\n",
              "      <td>...</td>\n",
              "      <td>...</td>\n",
              "      <td>...</td>\n",
              "    </tr>\n",
              "    <tr>\n",
              "      <th>4055</th>\n",
              "      <td>seler responsif dicoba dibuka</td>\n",
              "      <td>5</td>\n",
              "      <td>0</td>\n",
              "      <td>1</td>\n",
              "      <td>0</td>\n",
              "    </tr>\n",
              "    <tr>\n",
              "      <th>4056</th>\n",
              "      <td>imut2 banget packing aman</td>\n",
              "      <td>5</td>\n",
              "      <td>0</td>\n",
              "      <td>0</td>\n",
              "      <td>1</td>\n",
              "    </tr>\n",
              "    <tr>\n",
              "      <th>4057</th>\n",
              "      <td>god product trusted seler</td>\n",
              "      <td>5</td>\n",
              "      <td>0</td>\n",
              "      <td>0</td>\n",
              "      <td>1</td>\n",
              "    </tr>\n",
              "    <tr>\n",
              "      <th>4058</th>\n",
              "      <td>beli 3</td>\n",
              "      <td>5</td>\n",
              "      <td>0</td>\n",
              "      <td>1</td>\n",
              "      <td>0</td>\n",
              "    </tr>\n",
              "    <tr>\n",
              "      <th>4059</th>\n",
              "      <td>byk campuranya</td>\n",
              "      <td>4</td>\n",
              "      <td>0</td>\n",
              "      <td>1</td>\n",
              "      <td>0</td>\n",
              "    </tr>\n",
              "  </tbody>\n",
              "</table>\n",
              "<p>3863 rows × 5 columns</p>\n",
              "</div>"
            ],
            "text/plain": [
              "                                                 Review  ...  positive\n",
              "0                                         enak kuacinya  ...         1\n",
              "1     pengiriman cepat packing bagus sesuai pesanan ...  ...         1\n",
              "2     pengemasan dominan original atw asli kuacinya ...  ...         0\n",
              "3                                       terimakasih min  ...         0\n",
              "4                          udah order kesekian kali jos  ...         0\n",
              "...                                                 ...  ...       ...\n",
              "4055                      seler responsif dicoba dibuka  ...         0\n",
              "4056                          imut2 banget packing aman  ...         1\n",
              "4057                          god product trusted seler  ...         1\n",
              "4058                                             beli 3  ...         0\n",
              "4059                                     byk campuranya  ...         0\n",
              "\n",
              "[3863 rows x 5 columns]"
            ]
          },
          "metadata": {
            "tags": []
          },
          "execution_count": 128
        }
      ]
    },
    {
      "cell_type": "markdown",
      "metadata": {
        "id": "Nt6zk4krE0te"
      },
      "source": [
        "## Build Model"
      ]
    },
    {
      "cell_type": "code",
      "metadata": {
        "colab": {
          "base_uri": "https://localhost:8080/"
        },
        "id": "xqE4ibHCE0tf",
        "outputId": "650a6860-e2be-4b3a-aec9-887df36dd485"
      },
      "source": [
        "model = tf.keras.Sequential([\n",
        "    tf.keras.layers.Embedding(vocab_size, embedding_dim, input_length=max_length),\n",
        "    tf.keras.layers.GlobalAveragePooling1D(),\n",
        "    tf.keras.layers.Dense(24, activation='relu'),\n",
        "    tf.keras.layers.Dense(3, activation='softmax')\n",
        "])\n",
        "model.compile(loss='categorical_crossentropy',optimizer='adam',metrics=['accuracy'])\n",
        "model.summary()"
      ],
      "execution_count": null,
      "outputs": [
        {
          "output_type": "stream",
          "text": [
            "Model: \"sequential_11\"\n",
            "_________________________________________________________________\n",
            "Layer (type)                 Output Shape              Param #   \n",
            "=================================================================\n",
            "embedding_11 (Embedding)     (None, 120, 16)           16000     \n",
            "_________________________________________________________________\n",
            "global_average_pooling1d_5 ( (None, 16)                0         \n",
            "_________________________________________________________________\n",
            "dense_28 (Dense)             (None, 24)                408       \n",
            "_________________________________________________________________\n",
            "dense_29 (Dense)             (None, 3)                 75        \n",
            "=================================================================\n",
            "Total params: 16,483\n",
            "Trainable params: 16,483\n",
            "Non-trainable params: 0\n",
            "_________________________________________________________________\n"
          ],
          "name": "stdout"
        }
      ]
    },
    {
      "cell_type": "markdown",
      "metadata": {
        "id": "wg_S0j1LE0tf"
      },
      "source": [
        "## Train"
      ]
    },
    {
      "cell_type": "code",
      "metadata": {
        "colab": {
          "base_uri": "https://localhost:8080/",
          "height": 918
        },
        "id": "L47unMIlE0tg",
        "outputId": "13abf459-37b3-4d83-86fe-ef8f0888c9cf"
      },
      "source": [
        "num_epochs = 30\n",
        "history = model.fit(train_padded, training_label_seq, epochs=num_epochs, validation_data=(validation_padded, validation_label_seq), verbose=2)"
      ],
      "execution_count": null,
      "outputs": [
        {
          "output_type": "stream",
          "text": [
            "Epoch 1/30\n"
          ],
          "name": "stdout"
        },
        {
          "output_type": "error",
          "ename": "ValueError",
          "evalue": "ignored",
          "traceback": [
            "\u001b[0;31m---------------------------------------------------------------------------\u001b[0m",
            "\u001b[0;31mValueError\u001b[0m                                Traceback (most recent call last)",
            "\u001b[0;32m<ipython-input-130-1a63aa3f9d53>\u001b[0m in \u001b[0;36m<module>\u001b[0;34m()\u001b[0m\n\u001b[1;32m      1\u001b[0m \u001b[0mnum_epochs\u001b[0m \u001b[0;34m=\u001b[0m \u001b[0;36m30\u001b[0m\u001b[0;34m\u001b[0m\u001b[0;34m\u001b[0m\u001b[0m\n\u001b[0;32m----> 2\u001b[0;31m \u001b[0mhistory\u001b[0m \u001b[0;34m=\u001b[0m \u001b[0mmodel\u001b[0m\u001b[0;34m.\u001b[0m\u001b[0mfit\u001b[0m\u001b[0;34m(\u001b[0m\u001b[0mtrain_padded\u001b[0m\u001b[0;34m,\u001b[0m \u001b[0mtraining_label_seq\u001b[0m\u001b[0;34m,\u001b[0m \u001b[0mepochs\u001b[0m\u001b[0;34m=\u001b[0m\u001b[0mnum_epochs\u001b[0m\u001b[0;34m,\u001b[0m \u001b[0mvalidation_data\u001b[0m\u001b[0;34m=\u001b[0m\u001b[0;34m(\u001b[0m\u001b[0mvalidation_padded\u001b[0m\u001b[0;34m,\u001b[0m \u001b[0mvalidation_label_seq\u001b[0m\u001b[0;34m)\u001b[0m\u001b[0;34m,\u001b[0m \u001b[0mverbose\u001b[0m\u001b[0;34m=\u001b[0m\u001b[0;36m2\u001b[0m\u001b[0;34m)\u001b[0m\u001b[0;34m\u001b[0m\u001b[0;34m\u001b[0m\u001b[0m\n\u001b[0m",
            "\u001b[0;32m/usr/local/lib/python3.7/dist-packages/tensorflow/python/keras/engine/training.py\u001b[0m in \u001b[0;36mfit\u001b[0;34m(self, x, y, batch_size, epochs, verbose, callbacks, validation_split, validation_data, shuffle, class_weight, sample_weight, initial_epoch, steps_per_epoch, validation_steps, validation_batch_size, validation_freq, max_queue_size, workers, use_multiprocessing)\u001b[0m\n\u001b[1;32m   1098\u001b[0m                 _r=1):\n\u001b[1;32m   1099\u001b[0m               \u001b[0mcallbacks\u001b[0m\u001b[0;34m.\u001b[0m\u001b[0mon_train_batch_begin\u001b[0m\u001b[0;34m(\u001b[0m\u001b[0mstep\u001b[0m\u001b[0;34m)\u001b[0m\u001b[0;34m\u001b[0m\u001b[0;34m\u001b[0m\u001b[0m\n\u001b[0;32m-> 1100\u001b[0;31m               \u001b[0mtmp_logs\u001b[0m \u001b[0;34m=\u001b[0m \u001b[0mself\u001b[0m\u001b[0;34m.\u001b[0m\u001b[0mtrain_function\u001b[0m\u001b[0;34m(\u001b[0m\u001b[0miterator\u001b[0m\u001b[0;34m)\u001b[0m\u001b[0;34m\u001b[0m\u001b[0;34m\u001b[0m\u001b[0m\n\u001b[0m\u001b[1;32m   1101\u001b[0m               \u001b[0;32mif\u001b[0m \u001b[0mdata_handler\u001b[0m\u001b[0;34m.\u001b[0m\u001b[0mshould_sync\u001b[0m\u001b[0;34m:\u001b[0m\u001b[0;34m\u001b[0m\u001b[0;34m\u001b[0m\u001b[0m\n\u001b[1;32m   1102\u001b[0m                 \u001b[0mcontext\u001b[0m\u001b[0;34m.\u001b[0m\u001b[0masync_wait\u001b[0m\u001b[0;34m(\u001b[0m\u001b[0;34m)\u001b[0m\u001b[0;34m\u001b[0m\u001b[0;34m\u001b[0m\u001b[0m\n",
            "\u001b[0;32m/usr/local/lib/python3.7/dist-packages/tensorflow/python/eager/def_function.py\u001b[0m in \u001b[0;36m__call__\u001b[0;34m(self, *args, **kwds)\u001b[0m\n\u001b[1;32m    826\u001b[0m     \u001b[0mtracing_count\u001b[0m \u001b[0;34m=\u001b[0m \u001b[0mself\u001b[0m\u001b[0;34m.\u001b[0m\u001b[0mexperimental_get_tracing_count\u001b[0m\u001b[0;34m(\u001b[0m\u001b[0;34m)\u001b[0m\u001b[0;34m\u001b[0m\u001b[0;34m\u001b[0m\u001b[0m\n\u001b[1;32m    827\u001b[0m     \u001b[0;32mwith\u001b[0m \u001b[0mtrace\u001b[0m\u001b[0;34m.\u001b[0m\u001b[0mTrace\u001b[0m\u001b[0;34m(\u001b[0m\u001b[0mself\u001b[0m\u001b[0;34m.\u001b[0m\u001b[0m_name\u001b[0m\u001b[0;34m)\u001b[0m \u001b[0;32mas\u001b[0m \u001b[0mtm\u001b[0m\u001b[0;34m:\u001b[0m\u001b[0;34m\u001b[0m\u001b[0;34m\u001b[0m\u001b[0m\n\u001b[0;32m--> 828\u001b[0;31m       \u001b[0mresult\u001b[0m \u001b[0;34m=\u001b[0m \u001b[0mself\u001b[0m\u001b[0;34m.\u001b[0m\u001b[0m_call\u001b[0m\u001b[0;34m(\u001b[0m\u001b[0;34m*\u001b[0m\u001b[0margs\u001b[0m\u001b[0;34m,\u001b[0m \u001b[0;34m**\u001b[0m\u001b[0mkwds\u001b[0m\u001b[0;34m)\u001b[0m\u001b[0;34m\u001b[0m\u001b[0;34m\u001b[0m\u001b[0m\n\u001b[0m\u001b[1;32m    829\u001b[0m       \u001b[0mcompiler\u001b[0m \u001b[0;34m=\u001b[0m \u001b[0;34m\"xla\"\u001b[0m \u001b[0;32mif\u001b[0m \u001b[0mself\u001b[0m\u001b[0;34m.\u001b[0m\u001b[0m_experimental_compile\u001b[0m \u001b[0;32melse\u001b[0m \u001b[0;34m\"nonXla\"\u001b[0m\u001b[0;34m\u001b[0m\u001b[0;34m\u001b[0m\u001b[0m\n\u001b[1;32m    830\u001b[0m       \u001b[0mnew_tracing_count\u001b[0m \u001b[0;34m=\u001b[0m \u001b[0mself\u001b[0m\u001b[0;34m.\u001b[0m\u001b[0mexperimental_get_tracing_count\u001b[0m\u001b[0;34m(\u001b[0m\u001b[0;34m)\u001b[0m\u001b[0;34m\u001b[0m\u001b[0;34m\u001b[0m\u001b[0m\n",
            "\u001b[0;32m/usr/local/lib/python3.7/dist-packages/tensorflow/python/eager/def_function.py\u001b[0m in \u001b[0;36m_call\u001b[0;34m(self, *args, **kwds)\u001b[0m\n\u001b[1;32m    869\u001b[0m       \u001b[0;31m# This is the first call of __call__, so we have to initialize.\u001b[0m\u001b[0;34m\u001b[0m\u001b[0;34m\u001b[0m\u001b[0;34m\u001b[0m\u001b[0m\n\u001b[1;32m    870\u001b[0m       \u001b[0minitializers\u001b[0m \u001b[0;34m=\u001b[0m \u001b[0;34m[\u001b[0m\u001b[0;34m]\u001b[0m\u001b[0;34m\u001b[0m\u001b[0;34m\u001b[0m\u001b[0m\n\u001b[0;32m--> 871\u001b[0;31m       \u001b[0mself\u001b[0m\u001b[0;34m.\u001b[0m\u001b[0m_initialize\u001b[0m\u001b[0;34m(\u001b[0m\u001b[0margs\u001b[0m\u001b[0;34m,\u001b[0m \u001b[0mkwds\u001b[0m\u001b[0;34m,\u001b[0m \u001b[0madd_initializers_to\u001b[0m\u001b[0;34m=\u001b[0m\u001b[0minitializers\u001b[0m\u001b[0;34m)\u001b[0m\u001b[0;34m\u001b[0m\u001b[0;34m\u001b[0m\u001b[0m\n\u001b[0m\u001b[1;32m    872\u001b[0m     \u001b[0;32mfinally\u001b[0m\u001b[0;34m:\u001b[0m\u001b[0;34m\u001b[0m\u001b[0;34m\u001b[0m\u001b[0m\n\u001b[1;32m    873\u001b[0m       \u001b[0;31m# At this point we know that the initialization is complete (or less\u001b[0m\u001b[0;34m\u001b[0m\u001b[0;34m\u001b[0m\u001b[0;34m\u001b[0m\u001b[0m\n",
            "\u001b[0;32m/usr/local/lib/python3.7/dist-packages/tensorflow/python/eager/def_function.py\u001b[0m in \u001b[0;36m_initialize\u001b[0;34m(self, args, kwds, add_initializers_to)\u001b[0m\n\u001b[1;32m    724\u001b[0m     self._concrete_stateful_fn = (\n\u001b[1;32m    725\u001b[0m         self._stateful_fn._get_concrete_function_internal_garbage_collected(  # pylint: disable=protected-access\n\u001b[0;32m--> 726\u001b[0;31m             *args, **kwds))\n\u001b[0m\u001b[1;32m    727\u001b[0m \u001b[0;34m\u001b[0m\u001b[0m\n\u001b[1;32m    728\u001b[0m     \u001b[0;32mdef\u001b[0m \u001b[0minvalid_creator_scope\u001b[0m\u001b[0;34m(\u001b[0m\u001b[0;34m*\u001b[0m\u001b[0munused_args\u001b[0m\u001b[0;34m,\u001b[0m \u001b[0;34m**\u001b[0m\u001b[0munused_kwds\u001b[0m\u001b[0;34m)\u001b[0m\u001b[0;34m:\u001b[0m\u001b[0;34m\u001b[0m\u001b[0;34m\u001b[0m\u001b[0m\n",
            "\u001b[0;32m/usr/local/lib/python3.7/dist-packages/tensorflow/python/eager/function.py\u001b[0m in \u001b[0;36m_get_concrete_function_internal_garbage_collected\u001b[0;34m(self, *args, **kwargs)\u001b[0m\n\u001b[1;32m   2967\u001b[0m       \u001b[0margs\u001b[0m\u001b[0;34m,\u001b[0m \u001b[0mkwargs\u001b[0m \u001b[0;34m=\u001b[0m \u001b[0;32mNone\u001b[0m\u001b[0;34m,\u001b[0m \u001b[0;32mNone\u001b[0m\u001b[0;34m\u001b[0m\u001b[0;34m\u001b[0m\u001b[0m\n\u001b[1;32m   2968\u001b[0m     \u001b[0;32mwith\u001b[0m \u001b[0mself\u001b[0m\u001b[0;34m.\u001b[0m\u001b[0m_lock\u001b[0m\u001b[0;34m:\u001b[0m\u001b[0;34m\u001b[0m\u001b[0;34m\u001b[0m\u001b[0m\n\u001b[0;32m-> 2969\u001b[0;31m       \u001b[0mgraph_function\u001b[0m\u001b[0;34m,\u001b[0m \u001b[0m_\u001b[0m \u001b[0;34m=\u001b[0m \u001b[0mself\u001b[0m\u001b[0;34m.\u001b[0m\u001b[0m_maybe_define_function\u001b[0m\u001b[0;34m(\u001b[0m\u001b[0margs\u001b[0m\u001b[0;34m,\u001b[0m \u001b[0mkwargs\u001b[0m\u001b[0;34m)\u001b[0m\u001b[0;34m\u001b[0m\u001b[0;34m\u001b[0m\u001b[0m\n\u001b[0m\u001b[1;32m   2970\u001b[0m     \u001b[0;32mreturn\u001b[0m \u001b[0mgraph_function\u001b[0m\u001b[0;34m\u001b[0m\u001b[0;34m\u001b[0m\u001b[0m\n\u001b[1;32m   2971\u001b[0m \u001b[0;34m\u001b[0m\u001b[0m\n",
            "\u001b[0;32m/usr/local/lib/python3.7/dist-packages/tensorflow/python/eager/function.py\u001b[0m in \u001b[0;36m_maybe_define_function\u001b[0;34m(self, args, kwargs)\u001b[0m\n\u001b[1;32m   3359\u001b[0m \u001b[0;34m\u001b[0m\u001b[0m\n\u001b[1;32m   3360\u001b[0m           \u001b[0mself\u001b[0m\u001b[0;34m.\u001b[0m\u001b[0m_function_cache\u001b[0m\u001b[0;34m.\u001b[0m\u001b[0mmissed\u001b[0m\u001b[0;34m.\u001b[0m\u001b[0madd\u001b[0m\u001b[0;34m(\u001b[0m\u001b[0mcall_context_key\u001b[0m\u001b[0;34m)\u001b[0m\u001b[0;34m\u001b[0m\u001b[0;34m\u001b[0m\u001b[0m\n\u001b[0;32m-> 3361\u001b[0;31m           \u001b[0mgraph_function\u001b[0m \u001b[0;34m=\u001b[0m \u001b[0mself\u001b[0m\u001b[0;34m.\u001b[0m\u001b[0m_create_graph_function\u001b[0m\u001b[0;34m(\u001b[0m\u001b[0margs\u001b[0m\u001b[0;34m,\u001b[0m \u001b[0mkwargs\u001b[0m\u001b[0;34m)\u001b[0m\u001b[0;34m\u001b[0m\u001b[0;34m\u001b[0m\u001b[0m\n\u001b[0m\u001b[1;32m   3362\u001b[0m           \u001b[0mself\u001b[0m\u001b[0;34m.\u001b[0m\u001b[0m_function_cache\u001b[0m\u001b[0;34m.\u001b[0m\u001b[0mprimary\u001b[0m\u001b[0;34m[\u001b[0m\u001b[0mcache_key\u001b[0m\u001b[0;34m]\u001b[0m \u001b[0;34m=\u001b[0m \u001b[0mgraph_function\u001b[0m\u001b[0;34m\u001b[0m\u001b[0;34m\u001b[0m\u001b[0m\n\u001b[1;32m   3363\u001b[0m \u001b[0;34m\u001b[0m\u001b[0m\n",
            "\u001b[0;32m/usr/local/lib/python3.7/dist-packages/tensorflow/python/eager/function.py\u001b[0m in \u001b[0;36m_create_graph_function\u001b[0;34m(self, args, kwargs, override_flat_arg_shapes)\u001b[0m\n\u001b[1;32m   3204\u001b[0m             \u001b[0marg_names\u001b[0m\u001b[0;34m=\u001b[0m\u001b[0marg_names\u001b[0m\u001b[0;34m,\u001b[0m\u001b[0;34m\u001b[0m\u001b[0;34m\u001b[0m\u001b[0m\n\u001b[1;32m   3205\u001b[0m             \u001b[0moverride_flat_arg_shapes\u001b[0m\u001b[0;34m=\u001b[0m\u001b[0moverride_flat_arg_shapes\u001b[0m\u001b[0;34m,\u001b[0m\u001b[0;34m\u001b[0m\u001b[0;34m\u001b[0m\u001b[0m\n\u001b[0;32m-> 3206\u001b[0;31m             capture_by_value=self._capture_by_value),\n\u001b[0m\u001b[1;32m   3207\u001b[0m         \u001b[0mself\u001b[0m\u001b[0;34m.\u001b[0m\u001b[0m_function_attributes\u001b[0m\u001b[0;34m,\u001b[0m\u001b[0;34m\u001b[0m\u001b[0;34m\u001b[0m\u001b[0m\n\u001b[1;32m   3208\u001b[0m         \u001b[0mfunction_spec\u001b[0m\u001b[0;34m=\u001b[0m\u001b[0mself\u001b[0m\u001b[0;34m.\u001b[0m\u001b[0mfunction_spec\u001b[0m\u001b[0;34m,\u001b[0m\u001b[0;34m\u001b[0m\u001b[0;34m\u001b[0m\u001b[0m\n",
            "\u001b[0;32m/usr/local/lib/python3.7/dist-packages/tensorflow/python/framework/func_graph.py\u001b[0m in \u001b[0;36mfunc_graph_from_py_func\u001b[0;34m(name, python_func, args, kwargs, signature, func_graph, autograph, autograph_options, add_control_dependencies, arg_names, op_return_value, collections, capture_by_value, override_flat_arg_shapes)\u001b[0m\n\u001b[1;32m    988\u001b[0m         \u001b[0m_\u001b[0m\u001b[0;34m,\u001b[0m \u001b[0moriginal_func\u001b[0m \u001b[0;34m=\u001b[0m \u001b[0mtf_decorator\u001b[0m\u001b[0;34m.\u001b[0m\u001b[0munwrap\u001b[0m\u001b[0;34m(\u001b[0m\u001b[0mpython_func\u001b[0m\u001b[0;34m)\u001b[0m\u001b[0;34m\u001b[0m\u001b[0;34m\u001b[0m\u001b[0m\n\u001b[1;32m    989\u001b[0m \u001b[0;34m\u001b[0m\u001b[0m\n\u001b[0;32m--> 990\u001b[0;31m       \u001b[0mfunc_outputs\u001b[0m \u001b[0;34m=\u001b[0m \u001b[0mpython_func\u001b[0m\u001b[0;34m(\u001b[0m\u001b[0;34m*\u001b[0m\u001b[0mfunc_args\u001b[0m\u001b[0;34m,\u001b[0m \u001b[0;34m**\u001b[0m\u001b[0mfunc_kwargs\u001b[0m\u001b[0;34m)\u001b[0m\u001b[0;34m\u001b[0m\u001b[0;34m\u001b[0m\u001b[0m\n\u001b[0m\u001b[1;32m    991\u001b[0m \u001b[0;34m\u001b[0m\u001b[0m\n\u001b[1;32m    992\u001b[0m       \u001b[0;31m# invariant: `func_outputs` contains only Tensors, CompositeTensors,\u001b[0m\u001b[0;34m\u001b[0m\u001b[0;34m\u001b[0m\u001b[0;34m\u001b[0m\u001b[0m\n",
            "\u001b[0;32m/usr/local/lib/python3.7/dist-packages/tensorflow/python/eager/def_function.py\u001b[0m in \u001b[0;36mwrapped_fn\u001b[0;34m(*args, **kwds)\u001b[0m\n\u001b[1;32m    632\u001b[0m             \u001b[0mxla_context\u001b[0m\u001b[0;34m.\u001b[0m\u001b[0mExit\u001b[0m\u001b[0;34m(\u001b[0m\u001b[0;34m)\u001b[0m\u001b[0;34m\u001b[0m\u001b[0;34m\u001b[0m\u001b[0m\n\u001b[1;32m    633\u001b[0m         \u001b[0;32melse\u001b[0m\u001b[0;34m:\u001b[0m\u001b[0;34m\u001b[0m\u001b[0;34m\u001b[0m\u001b[0m\n\u001b[0;32m--> 634\u001b[0;31m           \u001b[0mout\u001b[0m \u001b[0;34m=\u001b[0m \u001b[0mweak_wrapped_fn\u001b[0m\u001b[0;34m(\u001b[0m\u001b[0;34m)\u001b[0m\u001b[0;34m.\u001b[0m\u001b[0m__wrapped__\u001b[0m\u001b[0;34m(\u001b[0m\u001b[0;34m*\u001b[0m\u001b[0margs\u001b[0m\u001b[0;34m,\u001b[0m \u001b[0;34m**\u001b[0m\u001b[0mkwds\u001b[0m\u001b[0;34m)\u001b[0m\u001b[0;34m\u001b[0m\u001b[0;34m\u001b[0m\u001b[0m\n\u001b[0m\u001b[1;32m    635\u001b[0m         \u001b[0;32mreturn\u001b[0m \u001b[0mout\u001b[0m\u001b[0;34m\u001b[0m\u001b[0;34m\u001b[0m\u001b[0m\n\u001b[1;32m    636\u001b[0m \u001b[0;34m\u001b[0m\u001b[0m\n",
            "\u001b[0;32m/usr/local/lib/python3.7/dist-packages/tensorflow/python/framework/func_graph.py\u001b[0m in \u001b[0;36mwrapper\u001b[0;34m(*args, **kwargs)\u001b[0m\n\u001b[1;32m    975\u001b[0m           \u001b[0;32mexcept\u001b[0m \u001b[0mException\u001b[0m \u001b[0;32mas\u001b[0m \u001b[0me\u001b[0m\u001b[0;34m:\u001b[0m  \u001b[0;31m# pylint:disable=broad-except\u001b[0m\u001b[0;34m\u001b[0m\u001b[0;34m\u001b[0m\u001b[0m\n\u001b[1;32m    976\u001b[0m             \u001b[0;32mif\u001b[0m \u001b[0mhasattr\u001b[0m\u001b[0;34m(\u001b[0m\u001b[0me\u001b[0m\u001b[0;34m,\u001b[0m \u001b[0;34m\"ag_error_metadata\"\u001b[0m\u001b[0;34m)\u001b[0m\u001b[0;34m:\u001b[0m\u001b[0;34m\u001b[0m\u001b[0;34m\u001b[0m\u001b[0m\n\u001b[0;32m--> 977\u001b[0;31m               \u001b[0;32mraise\u001b[0m \u001b[0me\u001b[0m\u001b[0;34m.\u001b[0m\u001b[0mag_error_metadata\u001b[0m\u001b[0;34m.\u001b[0m\u001b[0mto_exception\u001b[0m\u001b[0;34m(\u001b[0m\u001b[0me\u001b[0m\u001b[0;34m)\u001b[0m\u001b[0;34m\u001b[0m\u001b[0;34m\u001b[0m\u001b[0m\n\u001b[0m\u001b[1;32m    978\u001b[0m             \u001b[0;32melse\u001b[0m\u001b[0;34m:\u001b[0m\u001b[0;34m\u001b[0m\u001b[0;34m\u001b[0m\u001b[0m\n\u001b[1;32m    979\u001b[0m               \u001b[0;32mraise\u001b[0m\u001b[0;34m\u001b[0m\u001b[0;34m\u001b[0m\u001b[0m\n",
            "\u001b[0;31mValueError\u001b[0m: in user code:\n\n    /usr/local/lib/python3.7/dist-packages/tensorflow/python/keras/engine/training.py:805 train_function  *\n        return step_function(self, iterator)\n    /usr/local/lib/python3.7/dist-packages/tensorflow/python/keras/engine/training.py:795 step_function  **\n        outputs = model.distribute_strategy.run(run_step, args=(data,))\n    /usr/local/lib/python3.7/dist-packages/tensorflow/python/distribute/distribute_lib.py:1259 run\n        return self._extended.call_for_each_replica(fn, args=args, kwargs=kwargs)\n    /usr/local/lib/python3.7/dist-packages/tensorflow/python/distribute/distribute_lib.py:2730 call_for_each_replica\n        return self._call_for_each_replica(fn, args, kwargs)\n    /usr/local/lib/python3.7/dist-packages/tensorflow/python/distribute/distribute_lib.py:3417 _call_for_each_replica\n        return fn(*args, **kwargs)\n    /usr/local/lib/python3.7/dist-packages/tensorflow/python/keras/engine/training.py:788 run_step  **\n        outputs = model.train_step(data)\n    /usr/local/lib/python3.7/dist-packages/tensorflow/python/keras/engine/training.py:756 train_step\n        y, y_pred, sample_weight, regularization_losses=self.losses)\n    /usr/local/lib/python3.7/dist-packages/tensorflow/python/keras/engine/compile_utils.py:203 __call__\n        loss_value = loss_obj(y_t, y_p, sample_weight=sw)\n    /usr/local/lib/python3.7/dist-packages/tensorflow/python/keras/losses.py:152 __call__\n        losses = call_fn(y_true, y_pred)\n    /usr/local/lib/python3.7/dist-packages/tensorflow/python/keras/losses.py:256 call  **\n        return ag_fn(y_true, y_pred, **self._fn_kwargs)\n    /usr/local/lib/python3.7/dist-packages/tensorflow/python/util/dispatch.py:201 wrapper\n        return target(*args, **kwargs)\n    /usr/local/lib/python3.7/dist-packages/tensorflow/python/keras/losses.py:1537 categorical_crossentropy\n        return K.categorical_crossentropy(y_true, y_pred, from_logits=from_logits)\n    /usr/local/lib/python3.7/dist-packages/tensorflow/python/util/dispatch.py:201 wrapper\n        return target(*args, **kwargs)\n    /usr/local/lib/python3.7/dist-packages/tensorflow/python/keras/backend.py:4833 categorical_crossentropy\n        target.shape.assert_is_compatible_with(output.shape)\n    /usr/local/lib/python3.7/dist-packages/tensorflow/python/framework/tensor_shape.py:1134 assert_is_compatible_with\n        raise ValueError(\"Shapes %s and %s are incompatible\" % (self, other))\n\n    ValueError: Shapes (None, 1) and (None, 3) are incompatible\n"
          ]
        }
      ]
    },
    {
      "cell_type": "code",
      "metadata": {
        "colab": {
          "base_uri": "https://localhost:8080/",
          "height": 295
        },
        "id": "8JvnaSAFE0tg",
        "outputId": "10371f98-ed23-43ff-ef83-e9ee07b0ee10"
      },
      "source": [
        "import keras\n",
        "from matplotlib import pyplot as plt\n",
        "plt.plot(history.history['accuracy'])\n",
        "plt.plot(history.history['val_accuracy'])\n",
        "plt.plot(history.history['loss'])\n",
        "plt.plot(history.history['val_loss'])\n",
        "plt.title('model accuracy')\n",
        "plt.ylabel('accuracy')\n",
        "plt.xlabel('epoch')\n",
        "plt.legend(['train_acc', 'val_acc', 'train_loss','val_loss'], loc='upper left')\n",
        "plt.show()"
      ],
      "execution_count": null,
      "outputs": [
        {
          "output_type": "display_data",
          "data": {
            "image/png": "[encoded data removed]",
            "text/plain": [
              "<Figure size 432x288 with 1 Axes>"
            ]
          },
          "metadata": {
            "tags": [],
            "needs_background": "light"
          }
        }
      ]
    },
    {
      "cell_type": "code",
      "metadata": {
        "id": "UNaDDwCPE0tg"
      },
      "source": [
        ""
      ],
      "execution_count": null,
      "outputs": []
    }
  ]
}