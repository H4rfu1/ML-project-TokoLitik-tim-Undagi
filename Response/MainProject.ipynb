{
  "nbformat": 4,
  "nbformat_minor": 0,
  "metadata": {
    "colab": {
      "name": "MainProject.ipynb",
      "provenance": [],
      "collapsed_sections": [
        "qwStiV9pLsKN",
        "RYqAyN2Qj9OG",
        "auzp_8R6j9OK",
        "yRukPDJ_j9OM",
        "hlRxVlgXj9OR",
        "FtOonbh9j9OS",
        "s0kSt7l9r9gq",
        "p8h93sCwbg12",
        "S2y8NYwHgaNN",
        "ZFlCywWDMbz0"
      ],
      "toc_visible": true
    },
    "kernelspec": {
      "name": "python3",
      "display_name": "Python 3"
    }
  },
  "cells": [
    {
      "cell_type": "markdown",
      "metadata": {
        "id": "7PiOS4A0lIFT"
      },
      "source": [
        "Main Project building testing and evaluation"
      ]
    },
    {
      "cell_type": "markdown",
      "metadata": {
        "id": "qwStiV9pLsKN"
      },
      "source": [
        "# Import Required Library"
      ]
    },
    {
      "cell_type": "code",
      "metadata": {
        "id": "lMAb6ZOxLk5V",
        "colab": {
          "base_uri": "https://localhost:8080/"
        },
        "outputId": "d358b5fb-b795-488d-b9ff-08dc85a8abae"
      },
      "source": [
        "# Import Dependencies\n",
        "%matplotlib inline\n",
        "\n",
        "# Start Python Imports\n",
        "import math, time, random, datetime, re, string, zipfile\n",
        "\n",
        "# Data Manipulation\n",
        "import numpy as np\n",
        "import pandas as pd\n",
        "import tensorflow as tf\n",
        "\n",
        "# Visualization \n",
        "import matplotlib.pyplot as plt\n",
        "import missingno\n",
        "import seaborn as sns\n",
        "plt.style.use('seaborn-whitegrid')\n",
        "\n",
        "# Preprocessing\n",
        "import nltk\n",
        "from nltk.tokenize import sent_tokenize, word_tokenize\n",
        "from nltk.corpus import stopwords\n",
        "from sklearn.preprocessing import OneHotEncoder, LabelEncoder, label_binarize\n",
        "from sklearn.feature_extraction.text import TfidfVectorizer\n",
        "from sklearn.model_selection import train_test_split\n",
        "from sklearn.ensemble import RandomForestClassifier\n",
        "from sklearn.metrics import confusion_matrix\n",
        "from tensorflow.keras.preprocessing.text import Tokenizer\n",
        "from tensorflow.keras.preprocessing.sequence import pad_sequences\n",
        "\n",
        "\n",
        "# Machine learning\n",
        "!pip3 install catboost\n",
        "import catboost\n",
        "from sklearn.model_selection import train_test_split\n",
        "from sklearn import model_selection, tree, preprocessing, metrics, linear_model\n",
        "from sklearn.svm import LinearSVC\n",
        "from sklearn.ensemble import GradientBoostingClassifier\n",
        "from sklearn.neighbors import KNeighborsClassifier\n",
        "from sklearn.naive_bayes import GaussianNB\n",
        "from sklearn.linear_model import LinearRegression, LogisticRegression, SGDClassifier\n",
        "from sklearn.tree import DecisionTreeClassifier\n",
        "from catboost import CatBoostClassifier, Pool, cv\n",
        "\n",
        "# Let's be rebels and ignore warnings for now\n",
        "import warnings\n",
        "warnings.filterwarnings('ignore')"
      ],
      "execution_count": 7,
      "outputs": [
        {
          "output_type": "stream",
          "text": [
            "Requirement already satisfied: catboost in /usr/local/lib/python3.7/dist-packages (0.25.1)\n",
            "Requirement already satisfied: six in /usr/local/lib/python3.7/dist-packages (from catboost) (1.15.0)\n",
            "Requirement already satisfied: matplotlib in /usr/local/lib/python3.7/dist-packages (from catboost) (3.2.2)\n",
            "Requirement already satisfied: numpy>=1.16.0 in /usr/local/lib/python3.7/dist-packages (from catboost) (1.19.5)\n",
            "Requirement already satisfied: scipy in /usr/local/lib/python3.7/dist-packages (from catboost) (1.4.1)\n",
            "Requirement already satisfied: graphviz in /usr/local/lib/python3.7/dist-packages (from catboost) (0.10.1)\n",
            "Requirement already satisfied: plotly in /usr/local/lib/python3.7/dist-packages (from catboost) (4.4.1)\n",
            "Requirement already satisfied: pandas>=0.24.0 in /usr/local/lib/python3.7/dist-packages (from catboost) (1.1.5)\n",
            "Requirement already satisfied: pyparsing!=2.0.4,!=2.1.2,!=2.1.6,>=2.0.1 in /usr/local/lib/python3.7/dist-packages (from matplotlib->catboost) (2.4.7)\n",
            "Requirement already satisfied: kiwisolver>=1.0.1 in /usr/local/lib/python3.7/dist-packages (from matplotlib->catboost) (1.3.1)\n",
            "Requirement already satisfied: python-dateutil>=2.1 in /usr/local/lib/python3.7/dist-packages (from matplotlib->catboost) (2.8.1)\n",
            "Requirement already satisfied: cycler>=0.10 in /usr/local/lib/python3.7/dist-packages (from matplotlib->catboost) (0.10.0)\n",
            "Requirement already satisfied: retrying>=1.3.3 in /usr/local/lib/python3.7/dist-packages (from plotly->catboost) (1.3.3)\n",
            "Requirement already satisfied: pytz>=2017.2 in /usr/local/lib/python3.7/dist-packages (from pandas>=0.24.0->catboost) (2018.9)\n"
          ],
          "name": "stdout"
        }
      ]
    },
    {
      "cell_type": "markdown",
      "metadata": {
        "id": "F6XGTeByj9OA"
      },
      "source": [
        "#Check Top Machine Learning Algorithm efectiveness"
      ]
    },
    {
      "cell_type": "markdown",
      "metadata": {
        "id": "RYqAyN2Qj9OG"
      },
      "source": [
        "## Load Dataset"
      ]
    },
    {
      "cell_type": "code",
      "metadata": {
        "colab": {
          "base_uri": "https://localhost:8080/"
        },
        "id": "x2Bysa71j9OH",
        "outputId": "94b87269-f6ae-4252-e351-23cbf8c8c866"
      },
      "source": [
        "!wget https://raw.githubusercontent.com/H4rfu1/ML-project-TokoLitik-tim-Undagi/main/Response/dataset_review_tokped_labelled.csv"
      ],
      "execution_count": 8,
      "outputs": [
        {
          "output_type": "stream",
          "text": [
            "--2021-05-11 22:58:07--  https://raw.githubusercontent.com/H4rfu1/ML-project-TokoLitik-tim-Undagi/main/Response/dataset_review_tokped_labelled.csv\n",
            "Resolving raw.githubusercontent.com (raw.githubusercontent.com)... 185.199.110.133, 185.199.108.133, 185.199.111.133, ...\n",
            "Connecting to raw.githubusercontent.com (raw.githubusercontent.com)|185.199.110.133|:443... connected.\n",
            "HTTP request sent, awaiting response... 200 OK\n",
            "Length: 294589 (288K) [text/plain]\n",
            "Saving to: ‘dataset_review_tokped_labelled.csv.2’\n",
            "\n",
            "dataset_review_tokp 100%[===================>] 287.68K  --.-KB/s    in 0.04s   \n",
            "\n",
            "2021-05-11 22:58:08 (7.82 MB/s) - ‘dataset_review_tokped_labelled.csv.2’ saved [294589/294589]\n",
            "\n"
          ],
          "name": "stdout"
        }
      ]
    },
    {
      "cell_type": "code",
      "metadata": {
        "colab": {
          "base_uri": "https://localhost:8080/",
          "height": 0
        },
        "id": "e2trliVNj9OJ",
        "outputId": "e3df329d-0752-4fc0-f879-5f6e8b82824f"
      },
      "source": [
        "#dataset from crawling process\n",
        "df = pd.read_csv('/content/dataset_review_tokped_labelled.csv')\n",
        "df"
      ],
      "execution_count": 9,
      "outputs": [
        {
          "output_type": "execute_result",
          "data": {
            "text/html": [
              "<div>\n",
              "<style scoped>\n",
              "    .dataframe tbody tr th:only-of-type {\n",
              "        vertical-align: middle;\n",
              "    }\n",
              "\n",
              "    .dataframe tbody tr th {\n",
              "        vertical-align: top;\n",
              "    }\n",
              "\n",
              "    .dataframe thead th {\n",
              "        text-align: right;\n",
              "    }\n",
              "</style>\n",
              "<table border=\"1\" class=\"dataframe\">\n",
              "  <thead>\n",
              "    <tr style=\"text-align: right;\">\n",
              "      <th></th>\n",
              "      <th>Review</th>\n",
              "      <th>Rating</th>\n",
              "      <th>Sentiment</th>\n",
              "    </tr>\n",
              "  </thead>\n",
              "  <tbody>\n",
              "    <tr>\n",
              "      <th>0</th>\n",
              "      <td>enak kuacinya</td>\n",
              "      <td>5</td>\n",
              "      <td>positive</td>\n",
              "    </tr>\n",
              "    <tr>\n",
              "      <th>1</th>\n",
              "      <td>pengiriman cepat packing bagus sesuai pesanan ...</td>\n",
              "      <td>5</td>\n",
              "      <td>positive</td>\n",
              "    </tr>\n",
              "    <tr>\n",
              "      <th>2</th>\n",
              "      <td>pengemasan luar biasa baik untuk rasa menurut ...</td>\n",
              "      <td>4</td>\n",
              "      <td>negative</td>\n",
              "    </tr>\n",
              "    <tr>\n",
              "      <th>3</th>\n",
              "      <td>terimakasih min</td>\n",
              "      <td>5</td>\n",
              "      <td>neutral</td>\n",
              "    </tr>\n",
              "    <tr>\n",
              "      <th>4</th>\n",
              "      <td>udah order untuk kesekian kali jos</td>\n",
              "      <td>5</td>\n",
              "      <td>neutral</td>\n",
              "    </tr>\n",
              "    <tr>\n",
              "      <th>...</th>\n",
              "      <td>...</td>\n",
              "      <td>...</td>\n",
              "      <td>...</td>\n",
              "    </tr>\n",
              "    <tr>\n",
              "      <th>4055</th>\n",
              "      <td>seller sangat responsif rasa belum dicoba kare...</td>\n",
              "      <td>5</td>\n",
              "      <td>neutral</td>\n",
              "    </tr>\n",
              "    <tr>\n",
              "      <th>4056</th>\n",
              "      <td>imut2 banget packing aman</td>\n",
              "      <td>5</td>\n",
              "      <td>positive</td>\n",
              "    </tr>\n",
              "    <tr>\n",
              "      <th>4057</th>\n",
              "      <td>good product trusted seller</td>\n",
              "      <td>5</td>\n",
              "      <td>positive</td>\n",
              "    </tr>\n",
              "    <tr>\n",
              "      <th>4058</th>\n",
              "      <td>sudah beli yg ke 3</td>\n",
              "      <td>5</td>\n",
              "      <td>neutral</td>\n",
              "    </tr>\n",
              "    <tr>\n",
              "      <th>4059</th>\n",
              "      <td>byk campurannya</td>\n",
              "      <td>4</td>\n",
              "      <td>neutral</td>\n",
              "    </tr>\n",
              "  </tbody>\n",
              "</table>\n",
              "<p>4060 rows × 3 columns</p>\n",
              "</div>"
            ],
            "text/plain": [
              "                                                 Review  Rating Sentiment\n",
              "0                                         enak kuacinya       5  positive\n",
              "1     pengiriman cepat packing bagus sesuai pesanan ...       5  positive\n",
              "2     pengemasan luar biasa baik untuk rasa menurut ...       4  negative\n",
              "3                                       terimakasih min       5   neutral\n",
              "4                    udah order untuk kesekian kali jos       5   neutral\n",
              "...                                                 ...     ...       ...\n",
              "4055  seller sangat responsif rasa belum dicoba kare...       5   neutral\n",
              "4056                          imut2 banget packing aman       5  positive\n",
              "4057                        good product trusted seller       5  positive\n",
              "4058                                 sudah beli yg ke 3       5   neutral\n",
              "4059                                    byk campurannya       4   neutral\n",
              "\n",
              "[4060 rows x 3 columns]"
            ]
          },
          "metadata": {
            "tags": []
          },
          "execution_count": 9
        }
      ]
    },
    {
      "cell_type": "markdown",
      "metadata": {
        "id": "auzp_8R6j9OK"
      },
      "source": [
        "## Check Dataset"
      ]
    },
    {
      "cell_type": "code",
      "metadata": {
        "colab": {
          "base_uri": "https://localhost:8080/",
          "height": 0
        },
        "id": "KgL8Z-tnj9OK",
        "outputId": "6d96ece4-6bd5-4e2a-c2c7-984beb7a9dd6"
      },
      "source": [
        "pd.value_counts(df['Sentiment']).plot.bar()"
      ],
      "execution_count": 10,
      "outputs": [
        {
          "output_type": "execute_result",
          "data": {
            "text/plain": [
              "<matplotlib.axes._subplots.AxesSubplot at 0x7f5f034bb4d0>"
            ]
          },
          "metadata": {
            "tags": []
          },
          "execution_count": 10
        },
        {
          "output_type": "display_data",
          "data": {
            "image/png": "[encoded data removed]",
            "text/plain": [
              "<Figure size 432x288 with 1 Axes>"
            ]
          },
          "metadata": {
            "tags": []
          }
        }
      ]
    },
    {
      "cell_type": "code",
      "metadata": {
        "colab": {
          "base_uri": "https://localhost:8080/"
        },
        "id": "cFlOphXQj9OL",
        "outputId": "16b1991a-7c56-482d-a320-9fbc9ba98480"
      },
      "source": [
        "#to check shape of the dataset\n",
        "print(df.shape) \n",
        "\n",
        "#to look the header of dataset\n",
        "df.info()\n"
      ],
      "execution_count": 11,
      "outputs": [
        {
          "output_type": "stream",
          "text": [
            "(4060, 3)\n",
            "<class 'pandas.core.frame.DataFrame'>\n",
            "RangeIndex: 4060 entries, 0 to 4059\n",
            "Data columns (total 3 columns):\n",
            " #   Column     Non-Null Count  Dtype \n",
            "---  ------     --------------  ----- \n",
            " 0   Review     4060 non-null   object\n",
            " 1   Rating     4060 non-null   int64 \n",
            " 2   Sentiment  4060 non-null   object\n",
            "dtypes: int64(1), object(2)\n",
            "memory usage: 95.3+ KB\n"
          ],
          "name": "stdout"
        }
      ]
    },
    {
      "cell_type": "markdown",
      "metadata": {
        "id": "yRukPDJ_j9OM"
      },
      "source": [
        "## Peprocess Dataset"
      ]
    },
    {
      "cell_type": "code",
      "metadata": {
        "colab": {
          "base_uri": "https://localhost:8080/",
          "height": 0
        },
        "id": "vJDNhygtZzj-",
        "outputId": "e89ace0a-2c2b-4fc9-d86c-7cd0f9a57808"
      },
      "source": [
        "#removing stopwords\n",
        "nltk.download('stopwords')\n",
        "def stopword(sentence):\n",
        "    review = [words for words in sentence.split() if words not in set(stopwords.words('indonesian'))]\n",
        "    review = ' '.join(review)\n",
        "    return review\n",
        "\n",
        "df['Review'] = df['Review'].apply(stopword)\n",
        "df"
      ],
      "execution_count": 12,
      "outputs": [
        {
          "output_type": "stream",
          "text": [
            "[nltk_data] Downloading package stopwords to /root/nltk_data...\n",
            "[nltk_data]   Package stopwords is already up-to-date!\n"
          ],
          "name": "stdout"
        },
        {
          "output_type": "execute_result",
          "data": {
            "text/html": [
              "<div>\n",
              "<style scoped>\n",
              "    .dataframe tbody tr th:only-of-type {\n",
              "        vertical-align: middle;\n",
              "    }\n",
              "\n",
              "    .dataframe tbody tr th {\n",
              "        vertical-align: top;\n",
              "    }\n",
              "\n",
              "    .dataframe thead th {\n",
              "        text-align: right;\n",
              "    }\n",
              "</style>\n",
              "<table border=\"1\" class=\"dataframe\">\n",
              "  <thead>\n",
              "    <tr style=\"text-align: right;\">\n",
              "      <th></th>\n",
              "      <th>Review</th>\n",
              "      <th>Rating</th>\n",
              "      <th>Sentiment</th>\n",
              "    </tr>\n",
              "  </thead>\n",
              "  <tbody>\n",
              "    <tr>\n",
              "      <th>0</th>\n",
              "      <td>enak kuacinya</td>\n",
              "      <td>5</td>\n",
              "      <td>positive</td>\n",
              "    </tr>\n",
              "    <tr>\n",
              "      <th>1</th>\n",
              "      <td>pengiriman cepat packing bagus sesuai pesanan ...</td>\n",
              "      <td>5</td>\n",
              "      <td>positive</td>\n",
              "    </tr>\n",
              "    <tr>\n",
              "      <th>2</th>\n",
              "      <td>pengemasan dominan original atw asli kuacinya ...</td>\n",
              "      <td>4</td>\n",
              "      <td>negative</td>\n",
              "    </tr>\n",
              "    <tr>\n",
              "      <th>3</th>\n",
              "      <td>terimakasih min</td>\n",
              "      <td>5</td>\n",
              "      <td>neutral</td>\n",
              "    </tr>\n",
              "    <tr>\n",
              "      <th>4</th>\n",
              "      <td>udah order kesekian kali jos</td>\n",
              "      <td>5</td>\n",
              "      <td>neutral</td>\n",
              "    </tr>\n",
              "    <tr>\n",
              "      <th>...</th>\n",
              "      <td>...</td>\n",
              "      <td>...</td>\n",
              "      <td>...</td>\n",
              "    </tr>\n",
              "    <tr>\n",
              "      <th>4055</th>\n",
              "      <td>seller responsif dicoba dibuka</td>\n",
              "      <td>5</td>\n",
              "      <td>neutral</td>\n",
              "    </tr>\n",
              "    <tr>\n",
              "      <th>4056</th>\n",
              "      <td>imut2 banget packing aman</td>\n",
              "      <td>5</td>\n",
              "      <td>positive</td>\n",
              "    </tr>\n",
              "    <tr>\n",
              "      <th>4057</th>\n",
              "      <td>good product trusted seller</td>\n",
              "      <td>5</td>\n",
              "      <td>positive</td>\n",
              "    </tr>\n",
              "    <tr>\n",
              "      <th>4058</th>\n",
              "      <td>beli yg 3</td>\n",
              "      <td>5</td>\n",
              "      <td>neutral</td>\n",
              "    </tr>\n",
              "    <tr>\n",
              "      <th>4059</th>\n",
              "      <td>byk campurannya</td>\n",
              "      <td>4</td>\n",
              "      <td>neutral</td>\n",
              "    </tr>\n",
              "  </tbody>\n",
              "</table>\n",
              "<p>4060 rows × 3 columns</p>\n",
              "</div>"
            ],
            "text/plain": [
              "                                                 Review  Rating Sentiment\n",
              "0                                         enak kuacinya       5  positive\n",
              "1     pengiriman cepat packing bagus sesuai pesanan ...       5  positive\n",
              "2     pengemasan dominan original atw asli kuacinya ...       4  negative\n",
              "3                                       terimakasih min       5   neutral\n",
              "4                          udah order kesekian kali jos       5   neutral\n",
              "...                                                 ...     ...       ...\n",
              "4055                     seller responsif dicoba dibuka       5   neutral\n",
              "4056                          imut2 banget packing aman       5  positive\n",
              "4057                        good product trusted seller       5  positive\n",
              "4058                                          beli yg 3       5   neutral\n",
              "4059                                    byk campurannya       4   neutral\n",
              "\n",
              "[4060 rows x 3 columns]"
            ]
          },
          "metadata": {
            "tags": []
          },
          "execution_count": 12
        }
      ]
    },
    {
      "cell_type": "code",
      "metadata": {
        "colab": {
          "base_uri": "https://localhost:8080/",
          "height": 0
        },
        "id": "Tq0A2Tg7j9OO",
        "outputId": "6e26023b-f0ac-446a-972c-70567a6b3fc3"
      },
      "source": [
        "#remove repeated char\n",
        "# continously repeating character\n",
        "# from the word \n",
        "def conti_rep_char(str1):\n",
        "    tchr = str1.group(0)\n",
        "    if len(tchr) > 1:\n",
        "      return tchr[0:1]\n",
        "# define a function to check\n",
        "# whether unique character \n",
        "# is present or not\n",
        "def check_unique_char(rep, sent_text):\n",
        "    # regular expression for \n",
        "    # repetion of characters\n",
        "    convert = re.sub(r'(\\w)\\1+', \n",
        "                     rep,\n",
        "                     sent_text)\n",
        "      \n",
        "    # returing the converted word\n",
        "    return convert\n",
        "\n",
        "df['Review'] = df['Review'].apply(lambda x : check_unique_char(conti_rep_char, x))\n",
        "df"
      ],
      "execution_count": 13,
      "outputs": [
        {
          "output_type": "execute_result",
          "data": {
            "text/html": [
              "<div>\n",
              "<style scoped>\n",
              "    .dataframe tbody tr th:only-of-type {\n",
              "        vertical-align: middle;\n",
              "    }\n",
              "\n",
              "    .dataframe tbody tr th {\n",
              "        vertical-align: top;\n",
              "    }\n",
              "\n",
              "    .dataframe thead th {\n",
              "        text-align: right;\n",
              "    }\n",
              "</style>\n",
              "<table border=\"1\" class=\"dataframe\">\n",
              "  <thead>\n",
              "    <tr style=\"text-align: right;\">\n",
              "      <th></th>\n",
              "      <th>Review</th>\n",
              "      <th>Rating</th>\n",
              "      <th>Sentiment</th>\n",
              "    </tr>\n",
              "  </thead>\n",
              "  <tbody>\n",
              "    <tr>\n",
              "      <th>0</th>\n",
              "      <td>enak kuacinya</td>\n",
              "      <td>5</td>\n",
              "      <td>positive</td>\n",
              "    </tr>\n",
              "    <tr>\n",
              "      <th>1</th>\n",
              "      <td>pengiriman cepat packing bagus sesuai pesanan ...</td>\n",
              "      <td>5</td>\n",
              "      <td>positive</td>\n",
              "    </tr>\n",
              "    <tr>\n",
              "      <th>2</th>\n",
              "      <td>pengemasan dominan original atw asli kuacinya ...</td>\n",
              "      <td>4</td>\n",
              "      <td>negative</td>\n",
              "    </tr>\n",
              "    <tr>\n",
              "      <th>3</th>\n",
              "      <td>terimakasih min</td>\n",
              "      <td>5</td>\n",
              "      <td>neutral</td>\n",
              "    </tr>\n",
              "    <tr>\n",
              "      <th>4</th>\n",
              "      <td>udah order kesekian kali jos</td>\n",
              "      <td>5</td>\n",
              "      <td>neutral</td>\n",
              "    </tr>\n",
              "    <tr>\n",
              "      <th>...</th>\n",
              "      <td>...</td>\n",
              "      <td>...</td>\n",
              "      <td>...</td>\n",
              "    </tr>\n",
              "    <tr>\n",
              "      <th>4055</th>\n",
              "      <td>seler responsif dicoba dibuka</td>\n",
              "      <td>5</td>\n",
              "      <td>neutral</td>\n",
              "    </tr>\n",
              "    <tr>\n",
              "      <th>4056</th>\n",
              "      <td>imut2 banget packing aman</td>\n",
              "      <td>5</td>\n",
              "      <td>positive</td>\n",
              "    </tr>\n",
              "    <tr>\n",
              "      <th>4057</th>\n",
              "      <td>god product trusted seler</td>\n",
              "      <td>5</td>\n",
              "      <td>positive</td>\n",
              "    </tr>\n",
              "    <tr>\n",
              "      <th>4058</th>\n",
              "      <td>beli yg 3</td>\n",
              "      <td>5</td>\n",
              "      <td>neutral</td>\n",
              "    </tr>\n",
              "    <tr>\n",
              "      <th>4059</th>\n",
              "      <td>byk campuranya</td>\n",
              "      <td>4</td>\n",
              "      <td>neutral</td>\n",
              "    </tr>\n",
              "  </tbody>\n",
              "</table>\n",
              "<p>4060 rows × 3 columns</p>\n",
              "</div>"
            ],
            "text/plain": [
              "                                                 Review  Rating Sentiment\n",
              "0                                         enak kuacinya       5  positive\n",
              "1     pengiriman cepat packing bagus sesuai pesanan ...       5  positive\n",
              "2     pengemasan dominan original atw asli kuacinya ...       4  negative\n",
              "3                                       terimakasih min       5   neutral\n",
              "4                          udah order kesekian kali jos       5   neutral\n",
              "...                                                 ...     ...       ...\n",
              "4055                      seler responsif dicoba dibuka       5   neutral\n",
              "4056                          imut2 banget packing aman       5  positive\n",
              "4057                          god product trusted seler       5  positive\n",
              "4058                                          beli yg 3       5   neutral\n",
              "4059                                     byk campuranya       4   neutral\n",
              "\n",
              "[4060 rows x 3 columns]"
            ]
          },
          "metadata": {
            "tags": []
          },
          "execution_count": 13
        }
      ]
    },
    {
      "cell_type": "code",
      "metadata": {
        "colab": {
          "base_uri": "https://localhost:8080/",
          "height": 0
        },
        "id": "-yyEkP8kj9OM",
        "outputId": "27c62558-c857-40db-eb7c-aa23e123d435"
      },
      "source": [
        "#removing stopwords\n",
        "nltk.download('stopwords')\n",
        "def stopword(sentence):\n",
        "    review = [words for words in sentence.split() if words not in set(stopwords.words('indonesian'))]\n",
        "    review = ' '.join(review)\n",
        "    return review\n",
        "\n",
        "df['Review'] = df['Review'].apply(stopword)\n",
        "df"
      ],
      "execution_count": 14,
      "outputs": [
        {
          "output_type": "stream",
          "text": [
            "[nltk_data] Downloading package stopwords to /root/nltk_data...\n",
            "[nltk_data]   Package stopwords is already up-to-date!\n"
          ],
          "name": "stdout"
        },
        {
          "output_type": "execute_result",
          "data": {
            "text/html": [
              "<div>\n",
              "<style scoped>\n",
              "    .dataframe tbody tr th:only-of-type {\n",
              "        vertical-align: middle;\n",
              "    }\n",
              "\n",
              "    .dataframe tbody tr th {\n",
              "        vertical-align: top;\n",
              "    }\n",
              "\n",
              "    .dataframe thead th {\n",
              "        text-align: right;\n",
              "    }\n",
              "</style>\n",
              "<table border=\"1\" class=\"dataframe\">\n",
              "  <thead>\n",
              "    <tr style=\"text-align: right;\">\n",
              "      <th></th>\n",
              "      <th>Review</th>\n",
              "      <th>Rating</th>\n",
              "      <th>Sentiment</th>\n",
              "    </tr>\n",
              "  </thead>\n",
              "  <tbody>\n",
              "    <tr>\n",
              "      <th>0</th>\n",
              "      <td>enak kuacinya</td>\n",
              "      <td>5</td>\n",
              "      <td>positive</td>\n",
              "    </tr>\n",
              "    <tr>\n",
              "      <th>1</th>\n",
              "      <td>pengiriman cepat packing bagus sesuai pesanan ...</td>\n",
              "      <td>5</td>\n",
              "      <td>positive</td>\n",
              "    </tr>\n",
              "    <tr>\n",
              "      <th>2</th>\n",
              "      <td>pengemasan dominan original atw asli kuacinya ...</td>\n",
              "      <td>4</td>\n",
              "      <td>negative</td>\n",
              "    </tr>\n",
              "    <tr>\n",
              "      <th>3</th>\n",
              "      <td>terimakasih min</td>\n",
              "      <td>5</td>\n",
              "      <td>neutral</td>\n",
              "    </tr>\n",
              "    <tr>\n",
              "      <th>4</th>\n",
              "      <td>udah order kesekian kali jos</td>\n",
              "      <td>5</td>\n",
              "      <td>neutral</td>\n",
              "    </tr>\n",
              "    <tr>\n",
              "      <th>...</th>\n",
              "      <td>...</td>\n",
              "      <td>...</td>\n",
              "      <td>...</td>\n",
              "    </tr>\n",
              "    <tr>\n",
              "      <th>4055</th>\n",
              "      <td>seler responsif dicoba dibuka</td>\n",
              "      <td>5</td>\n",
              "      <td>neutral</td>\n",
              "    </tr>\n",
              "    <tr>\n",
              "      <th>4056</th>\n",
              "      <td>imut2 banget packing aman</td>\n",
              "      <td>5</td>\n",
              "      <td>positive</td>\n",
              "    </tr>\n",
              "    <tr>\n",
              "      <th>4057</th>\n",
              "      <td>god product trusted seler</td>\n",
              "      <td>5</td>\n",
              "      <td>positive</td>\n",
              "    </tr>\n",
              "    <tr>\n",
              "      <th>4058</th>\n",
              "      <td>beli yg 3</td>\n",
              "      <td>5</td>\n",
              "      <td>neutral</td>\n",
              "    </tr>\n",
              "    <tr>\n",
              "      <th>4059</th>\n",
              "      <td>byk campuranya</td>\n",
              "      <td>4</td>\n",
              "      <td>neutral</td>\n",
              "    </tr>\n",
              "  </tbody>\n",
              "</table>\n",
              "<p>4060 rows × 3 columns</p>\n",
              "</div>"
            ],
            "text/plain": [
              "                                                 Review  Rating Sentiment\n",
              "0                                         enak kuacinya       5  positive\n",
              "1     pengiriman cepat packing bagus sesuai pesanan ...       5  positive\n",
              "2     pengemasan dominan original atw asli kuacinya ...       4  negative\n",
              "3                                       terimakasih min       5   neutral\n",
              "4                          udah order kesekian kali jos       5   neutral\n",
              "...                                                 ...     ...       ...\n",
              "4055                      seler responsif dicoba dibuka       5   neutral\n",
              "4056                          imut2 banget packing aman       5  positive\n",
              "4057                          god product trusted seler       5  positive\n",
              "4058                                          beli yg 3       5   neutral\n",
              "4059                                     byk campuranya       4   neutral\n",
              "\n",
              "[4060 rows x 3 columns]"
            ]
          },
          "metadata": {
            "tags": []
          },
          "execution_count": 14
        }
      ]
    },
    {
      "cell_type": "code",
      "metadata": {
        "colab": {
          "base_uri": "https://localhost:8080/",
          "height": 0
        },
        "id": "xrb2_i2rZcGC",
        "outputId": "54a57875-f0e2-4e0f-874b-cd7d367b3616"
      },
      "source": [
        "#stemming\n",
        "from nltk import PorterStemmer \n",
        "ps = PorterStemmer() \n",
        "df['Review'] = df['Review'].apply(ps.stem)\n",
        "df"
      ],
      "execution_count": 15,
      "outputs": [
        {
          "output_type": "execute_result",
          "data": {
            "text/html": [
              "<div>\n",
              "<style scoped>\n",
              "    .dataframe tbody tr th:only-of-type {\n",
              "        vertical-align: middle;\n",
              "    }\n",
              "\n",
              "    .dataframe tbody tr th {\n",
              "        vertical-align: top;\n",
              "    }\n",
              "\n",
              "    .dataframe thead th {\n",
              "        text-align: right;\n",
              "    }\n",
              "</style>\n",
              "<table border=\"1\" class=\"dataframe\">\n",
              "  <thead>\n",
              "    <tr style=\"text-align: right;\">\n",
              "      <th></th>\n",
              "      <th>Review</th>\n",
              "      <th>Rating</th>\n",
              "      <th>Sentiment</th>\n",
              "    </tr>\n",
              "  </thead>\n",
              "  <tbody>\n",
              "    <tr>\n",
              "      <th>0</th>\n",
              "      <td>enak kuacinya</td>\n",
              "      <td>5</td>\n",
              "      <td>positive</td>\n",
              "    </tr>\n",
              "    <tr>\n",
              "      <th>1</th>\n",
              "      <td>pengiriman cepat packing bagus sesuai pesanan ...</td>\n",
              "      <td>5</td>\n",
              "      <td>positive</td>\n",
              "    </tr>\n",
              "    <tr>\n",
              "      <th>2</th>\n",
              "      <td>pengemasan dominan original atw asli kuacinya ...</td>\n",
              "      <td>4</td>\n",
              "      <td>negative</td>\n",
              "    </tr>\n",
              "    <tr>\n",
              "      <th>3</th>\n",
              "      <td>terimakasih min</td>\n",
              "      <td>5</td>\n",
              "      <td>neutral</td>\n",
              "    </tr>\n",
              "    <tr>\n",
              "      <th>4</th>\n",
              "      <td>udah order kesekian kali jo</td>\n",
              "      <td>5</td>\n",
              "      <td>neutral</td>\n",
              "    </tr>\n",
              "    <tr>\n",
              "      <th>...</th>\n",
              "      <td>...</td>\n",
              "      <td>...</td>\n",
              "      <td>...</td>\n",
              "    </tr>\n",
              "    <tr>\n",
              "      <th>4055</th>\n",
              "      <td>seler responsif dicoba dibuka</td>\n",
              "      <td>5</td>\n",
              "      <td>neutral</td>\n",
              "    </tr>\n",
              "    <tr>\n",
              "      <th>4056</th>\n",
              "      <td>imut2 banget packing aman</td>\n",
              "      <td>5</td>\n",
              "      <td>positive</td>\n",
              "    </tr>\n",
              "    <tr>\n",
              "      <th>4057</th>\n",
              "      <td>god product trusted sel</td>\n",
              "      <td>5</td>\n",
              "      <td>positive</td>\n",
              "    </tr>\n",
              "    <tr>\n",
              "      <th>4058</th>\n",
              "      <td>beli yg 3</td>\n",
              "      <td>5</td>\n",
              "      <td>neutral</td>\n",
              "    </tr>\n",
              "    <tr>\n",
              "      <th>4059</th>\n",
              "      <td>byk campuranya</td>\n",
              "      <td>4</td>\n",
              "      <td>neutral</td>\n",
              "    </tr>\n",
              "  </tbody>\n",
              "</table>\n",
              "<p>4060 rows × 3 columns</p>\n",
              "</div>"
            ],
            "text/plain": [
              "                                                 Review  Rating Sentiment\n",
              "0                                         enak kuacinya       5  positive\n",
              "1     pengiriman cepat packing bagus sesuai pesanan ...       5  positive\n",
              "2     pengemasan dominan original atw asli kuacinya ...       4  negative\n",
              "3                                       terimakasih min       5   neutral\n",
              "4                           udah order kesekian kali jo       5   neutral\n",
              "...                                                 ...     ...       ...\n",
              "4055                      seler responsif dicoba dibuka       5   neutral\n",
              "4056                          imut2 banget packing aman       5  positive\n",
              "4057                            god product trusted sel       5  positive\n",
              "4058                                          beli yg 3       5   neutral\n",
              "4059                                     byk campuranya       4   neutral\n",
              "\n",
              "[4060 rows x 3 columns]"
            ]
          },
          "metadata": {
            "tags": []
          },
          "execution_count": 15
        }
      ]
    },
    {
      "cell_type": "code",
      "metadata": {
        "colab": {
          "base_uri": "https://localhost:8080/",
          "height": 0
        },
        "id": "_zGbsuO7j9OP",
        "outputId": "5ac7358e-28fa-4a05-8404-5f363bccd1ab"
      },
      "source": [
        "print(df.shape)\n",
        "#Removes duplicates in place\n",
        "df.drop_duplicates(keep=False, inplace=True)\n",
        "print(df.shape) \n",
        "df"
      ],
      "execution_count": 16,
      "outputs": [
        {
          "output_type": "stream",
          "text": [
            "(4060, 3)\n",
            "(3880, 3)\n"
          ],
          "name": "stdout"
        },
        {
          "output_type": "execute_result",
          "data": {
            "text/html": [
              "<div>\n",
              "<style scoped>\n",
              "    .dataframe tbody tr th:only-of-type {\n",
              "        vertical-align: middle;\n",
              "    }\n",
              "\n",
              "    .dataframe tbody tr th {\n",
              "        vertical-align: top;\n",
              "    }\n",
              "\n",
              "    .dataframe thead th {\n",
              "        text-align: right;\n",
              "    }\n",
              "</style>\n",
              "<table border=\"1\" class=\"dataframe\">\n",
              "  <thead>\n",
              "    <tr style=\"text-align: right;\">\n",
              "      <th></th>\n",
              "      <th>Review</th>\n",
              "      <th>Rating</th>\n",
              "      <th>Sentiment</th>\n",
              "    </tr>\n",
              "  </thead>\n",
              "  <tbody>\n",
              "    <tr>\n",
              "      <th>0</th>\n",
              "      <td>enak kuacinya</td>\n",
              "      <td>5</td>\n",
              "      <td>positive</td>\n",
              "    </tr>\n",
              "    <tr>\n",
              "      <th>1</th>\n",
              "      <td>pengiriman cepat packing bagus sesuai pesanan ...</td>\n",
              "      <td>5</td>\n",
              "      <td>positive</td>\n",
              "    </tr>\n",
              "    <tr>\n",
              "      <th>2</th>\n",
              "      <td>pengemasan dominan original atw asli kuacinya ...</td>\n",
              "      <td>4</td>\n",
              "      <td>negative</td>\n",
              "    </tr>\n",
              "    <tr>\n",
              "      <th>3</th>\n",
              "      <td>terimakasih min</td>\n",
              "      <td>5</td>\n",
              "      <td>neutral</td>\n",
              "    </tr>\n",
              "    <tr>\n",
              "      <th>4</th>\n",
              "      <td>udah order kesekian kali jo</td>\n",
              "      <td>5</td>\n",
              "      <td>neutral</td>\n",
              "    </tr>\n",
              "    <tr>\n",
              "      <th>...</th>\n",
              "      <td>...</td>\n",
              "      <td>...</td>\n",
              "      <td>...</td>\n",
              "    </tr>\n",
              "    <tr>\n",
              "      <th>4055</th>\n",
              "      <td>seler responsif dicoba dibuka</td>\n",
              "      <td>5</td>\n",
              "      <td>neutral</td>\n",
              "    </tr>\n",
              "    <tr>\n",
              "      <th>4056</th>\n",
              "      <td>imut2 banget packing aman</td>\n",
              "      <td>5</td>\n",
              "      <td>positive</td>\n",
              "    </tr>\n",
              "    <tr>\n",
              "      <th>4057</th>\n",
              "      <td>god product trusted sel</td>\n",
              "      <td>5</td>\n",
              "      <td>positive</td>\n",
              "    </tr>\n",
              "    <tr>\n",
              "      <th>4058</th>\n",
              "      <td>beli yg 3</td>\n",
              "      <td>5</td>\n",
              "      <td>neutral</td>\n",
              "    </tr>\n",
              "    <tr>\n",
              "      <th>4059</th>\n",
              "      <td>byk campuranya</td>\n",
              "      <td>4</td>\n",
              "      <td>neutral</td>\n",
              "    </tr>\n",
              "  </tbody>\n",
              "</table>\n",
              "<p>3880 rows × 3 columns</p>\n",
              "</div>"
            ],
            "text/plain": [
              "                                                 Review  Rating Sentiment\n",
              "0                                         enak kuacinya       5  positive\n",
              "1     pengiriman cepat packing bagus sesuai pesanan ...       5  positive\n",
              "2     pengemasan dominan original atw asli kuacinya ...       4  negative\n",
              "3                                       terimakasih min       5   neutral\n",
              "4                           udah order kesekian kali jo       5   neutral\n",
              "...                                                 ...     ...       ...\n",
              "4055                      seler responsif dicoba dibuka       5   neutral\n",
              "4056                          imut2 banget packing aman       5  positive\n",
              "4057                            god product trusted sel       5  positive\n",
              "4058                                          beli yg 3       5   neutral\n",
              "4059                                     byk campuranya       4   neutral\n",
              "\n",
              "[3880 rows x 3 columns]"
            ]
          },
          "metadata": {
            "tags": []
          },
          "execution_count": 16
        }
      ]
    },
    {
      "cell_type": "code",
      "metadata": {
        "colab": {
          "base_uri": "https://localhost:8080/",
          "height": 0
        },
        "id": "Jw9Hgmg-gqwQ",
        "outputId": "5ac6445c-54e4-44a8-ee68-5cbe78112c34"
      },
      "source": [
        "df[\"Sentiment\"] = df[\"Sentiment\"].astype('category')\n",
        "df.dtypes\n",
        "df['Sentiment'] = df['Sentiment'].cat.codes.astype(float)\n",
        "print(df.dtypes)\n",
        "df"
      ],
      "execution_count": 17,
      "outputs": [
        {
          "output_type": "stream",
          "text": [
            "Review        object\n",
            "Rating         int64\n",
            "Sentiment    float64\n",
            "dtype: object\n"
          ],
          "name": "stdout"
        },
        {
          "output_type": "execute_result",
          "data": {
            "text/html": [
              "<div>\n",
              "<style scoped>\n",
              "    .dataframe tbody tr th:only-of-type {\n",
              "        vertical-align: middle;\n",
              "    }\n",
              "\n",
              "    .dataframe tbody tr th {\n",
              "        vertical-align: top;\n",
              "    }\n",
              "\n",
              "    .dataframe thead th {\n",
              "        text-align: right;\n",
              "    }\n",
              "</style>\n",
              "<table border=\"1\" class=\"dataframe\">\n",
              "  <thead>\n",
              "    <tr style=\"text-align: right;\">\n",
              "      <th></th>\n",
              "      <th>Review</th>\n",
              "      <th>Rating</th>\n",
              "      <th>Sentiment</th>\n",
              "    </tr>\n",
              "  </thead>\n",
              "  <tbody>\n",
              "    <tr>\n",
              "      <th>0</th>\n",
              "      <td>enak kuacinya</td>\n",
              "      <td>5</td>\n",
              "      <td>2.0</td>\n",
              "    </tr>\n",
              "    <tr>\n",
              "      <th>1</th>\n",
              "      <td>pengiriman cepat packing bagus sesuai pesanan ...</td>\n",
              "      <td>5</td>\n",
              "      <td>2.0</td>\n",
              "    </tr>\n",
              "    <tr>\n",
              "      <th>2</th>\n",
              "      <td>pengemasan dominan original atw asli kuacinya ...</td>\n",
              "      <td>4</td>\n",
              "      <td>0.0</td>\n",
              "    </tr>\n",
              "    <tr>\n",
              "      <th>3</th>\n",
              "      <td>terimakasih min</td>\n",
              "      <td>5</td>\n",
              "      <td>1.0</td>\n",
              "    </tr>\n",
              "    <tr>\n",
              "      <th>4</th>\n",
              "      <td>udah order kesekian kali jo</td>\n",
              "      <td>5</td>\n",
              "      <td>1.0</td>\n",
              "    </tr>\n",
              "    <tr>\n",
              "      <th>...</th>\n",
              "      <td>...</td>\n",
              "      <td>...</td>\n",
              "      <td>...</td>\n",
              "    </tr>\n",
              "    <tr>\n",
              "      <th>4055</th>\n",
              "      <td>seler responsif dicoba dibuka</td>\n",
              "      <td>5</td>\n",
              "      <td>1.0</td>\n",
              "    </tr>\n",
              "    <tr>\n",
              "      <th>4056</th>\n",
              "      <td>imut2 banget packing aman</td>\n",
              "      <td>5</td>\n",
              "      <td>2.0</td>\n",
              "    </tr>\n",
              "    <tr>\n",
              "      <th>4057</th>\n",
              "      <td>god product trusted sel</td>\n",
              "      <td>5</td>\n",
              "      <td>2.0</td>\n",
              "    </tr>\n",
              "    <tr>\n",
              "      <th>4058</th>\n",
              "      <td>beli yg 3</td>\n",
              "      <td>5</td>\n",
              "      <td>1.0</td>\n",
              "    </tr>\n",
              "    <tr>\n",
              "      <th>4059</th>\n",
              "      <td>byk campuranya</td>\n",
              "      <td>4</td>\n",
              "      <td>1.0</td>\n",
              "    </tr>\n",
              "  </tbody>\n",
              "</table>\n",
              "<p>3880 rows × 3 columns</p>\n",
              "</div>"
            ],
            "text/plain": [
              "                                                 Review  Rating  Sentiment\n",
              "0                                         enak kuacinya       5        2.0\n",
              "1     pengiriman cepat packing bagus sesuai pesanan ...       5        2.0\n",
              "2     pengemasan dominan original atw asli kuacinya ...       4        0.0\n",
              "3                                       terimakasih min       5        1.0\n",
              "4                           udah order kesekian kali jo       5        1.0\n",
              "...                                                 ...     ...        ...\n",
              "4055                      seler responsif dicoba dibuka       5        1.0\n",
              "4056                          imut2 banget packing aman       5        2.0\n",
              "4057                            god product trusted sel       5        2.0\n",
              "4058                                          beli yg 3       5        1.0\n",
              "4059                                     byk campuranya       4        1.0\n",
              "\n",
              "[3880 rows x 3 columns]"
            ]
          },
          "metadata": {
            "tags": []
          },
          "execution_count": 17
        }
      ]
    },
    {
      "cell_type": "code",
      "metadata": {
        "id": "pQxnLeuTj9OQ"
      },
      "source": [
        "#tf-Idf vectorizer\n",
        "vectorizer = TfidfVectorizer() \n",
        "x = vectorizer.fit_transform(df['Review']) \n",
        "y =  df['Sentiment']"
      ],
      "execution_count": 18,
      "outputs": []
    },
    {
      "cell_type": "markdown",
      "metadata": {
        "id": "hlRxVlgXj9OR"
      },
      "source": [
        "## Build Train and test sets"
      ]
    },
    {
      "cell_type": "code",
      "metadata": {
        "id": "JBIgUWX0j9OR"
      },
      "source": [
        "X_train,X_test,y_train,y_test = train_test_split(x,y,test_size=0.2)"
      ],
      "execution_count": 19,
      "outputs": []
    },
    {
      "cell_type": "markdown",
      "metadata": {
        "id": "FtOonbh9j9OS"
      },
      "source": [
        "# Build Model"
      ]
    },
    {
      "cell_type": "markdown",
      "metadata": {
        "id": "s0kSt7l9r9gq"
      },
      "source": [
        "## Define a function to fit machine learning algorithms\n",
        "Since many of the algorithms we will use are from the sklearn library, they all take similar (practically the same) inputs and produce similar outputs.\n",
        "\n",
        "To prevent writing code multiple times, we will functionise fitting the model and returning the accuracy scores."
      ]
    },
    {
      "cell_type": "code",
      "metadata": {
        "id": "hp0jRLd2r9gr"
      },
      "source": [
        "# Function that runs the requested algorithm and returns the accuracy metrics\n",
        "def fit_ml_algo(algo, X_train, y_train, cv):\n",
        "    \n",
        "    # One Pass\n",
        "    model = algo.fit(X_train, y_train)\n",
        "    acc = round(model.score(X_train, y_train) * 100, 2)\n",
        "    \n",
        "    # Cross Validation \n",
        "    train_pred = model_selection.cross_val_predict(algo, \n",
        "                                                  X_train, \n",
        "                                                  y_train, \n",
        "                                                  cv=cv, \n",
        "                                                  n_jobs = -1)\n",
        "    # Cross-validation accuracy metric\n",
        "    acc_cv = round(metrics.accuracy_score(y_train, train_pred) * 100, 2)\n",
        "    \n",
        "    return train_pred, acc, acc_cv"
      ],
      "execution_count": 20,
      "outputs": []
    },
    {
      "cell_type": "markdown",
      "metadata": {
        "id": "BAxJM4Fvr9gs"
      },
      "source": [
        "### Logistic Regression"
      ]
    },
    {
      "cell_type": "code",
      "metadata": {
        "id": "VF7QGdWgr9gs",
        "colab": {
          "base_uri": "https://localhost:8080/"
        },
        "outputId": "876e2ba2-7ebb-4063-cdee-f550227b981f"
      },
      "source": [
        "# Logistic Regression\n",
        "start_time = time.time()\n",
        "train_pred_log, acc_log, acc_cv_log = fit_ml_algo(LogisticRegression(), \n",
        "                                                               X_train, \n",
        "                                                               y_train, \n",
        "                                                                    10)\n",
        "log_time = (time.time() - start_time)\n",
        "print(\"Accuracy: %s\" % acc_log)\n",
        "print(\"Accuracy CV 10-Fold: %s\" % acc_cv_log)\n",
        "print(\"Running Time: %s\" % datetime.timedelta(seconds=log_time))"
      ],
      "execution_count": 21,
      "outputs": [
        {
          "output_type": "stream",
          "text": [
            "Accuracy: 88.43\n",
            "Accuracy CV 10-Fold: 76.32\n",
            "Running Time: 0:00:03.724449\n"
          ],
          "name": "stdout"
        }
      ]
    },
    {
      "cell_type": "markdown",
      "metadata": {
        "id": "3tCvVSrur9gt"
      },
      "source": [
        "### K-Nearest Neighbours"
      ]
    },
    {
      "cell_type": "code",
      "metadata": {
        "id": "QClcc5Y8r9gt",
        "colab": {
          "base_uri": "https://localhost:8080/"
        },
        "outputId": "b00695e6-a1b9-4d25-aa16-4e5e2630c5dc"
      },
      "source": [
        "# k-Nearest Neighbours\n",
        "start_time = time.time()\n",
        "train_pred_knn, acc_knn, acc_cv_knn = fit_ml_algo(KNeighborsClassifier(), \n",
        "                                                  X_train, \n",
        "                                                  y_train, \n",
        "                                                  10)\n",
        "knn_time = (time.time() - start_time)\n",
        "print(\"Accuracy: %s\" % acc_knn)\n",
        "print(\"Accuracy CV 10-Fold: %s\" % acc_cv_knn)\n",
        "print(\"Running Time: %s\" % datetime.timedelta(seconds=knn_time))"
      ],
      "execution_count": 22,
      "outputs": [
        {
          "output_type": "stream",
          "text": [
            "Accuracy: 35.92\n",
            "Accuracy CV 10-Fold: 29.09\n",
            "Running Time: 0:00:00.699314\n"
          ],
          "name": "stdout"
        }
      ]
    },
    {
      "cell_type": "markdown",
      "metadata": {
        "id": "4Jse7Fogr9gy"
      },
      "source": [
        "### Linear Support Vector Machines (SVC)"
      ]
    },
    {
      "cell_type": "code",
      "metadata": {
        "id": "DiUChr4Vr9gy",
        "colab": {
          "base_uri": "https://localhost:8080/"
        },
        "outputId": "d3f518f5-9cd6-4b26-d314-33503f5e2a81"
      },
      "source": [
        "# Linear SVC\n",
        "start_time = time.time()\n",
        "train_pred_svc, acc_linear_svc, acc_cv_linear_svc = fit_ml_algo(LinearSVC(),\n",
        "                                                                X_train, \n",
        "                                                                y_train, \n",
        "                                                                10)\n",
        "linear_svc_time = (time.time() - start_time)\n",
        "print(\"Accuracy: %s\" % acc_linear_svc)\n",
        "print(\"Accuracy CV 10-Fold: %s\" % acc_cv_linear_svc)\n",
        "print(\"Running Time: %s\" % datetime.timedelta(seconds=linear_svc_time))"
      ],
      "execution_count": 23,
      "outputs": [
        {
          "output_type": "stream",
          "text": [
            "Accuracy: 95.68\n",
            "Accuracy CV 10-Fold: 77.13\n",
            "Running Time: 0:00:00.247490\n"
          ],
          "name": "stdout"
        }
      ]
    },
    {
      "cell_type": "markdown",
      "metadata": {
        "id": "2qfy7nvJr9gz"
      },
      "source": [
        "### Stochastic Gradient Descent"
      ]
    },
    {
      "cell_type": "code",
      "metadata": {
        "id": "7eY5X96nr9gz",
        "colab": {
          "base_uri": "https://localhost:8080/"
        },
        "outputId": "4622c204-acc8-49a9-9187-d5de75899370"
      },
      "source": [
        "# Stochastic Gradient Descent\n",
        "start_time = time.time()\n",
        "train_pred_sgd, acc_sgd, acc_cv_sgd = fit_ml_algo(SGDClassifier(), \n",
        "                                                  X_train, \n",
        "                                                  y_train,\n",
        "                                                  10)\n",
        "model = SGDClassifier().fit(X_train, y_train)\n",
        "print(model.loss_function_)\n",
        "sgd_time = (time.time() - start_time)\n",
        "print(\"Accuracy: %s\" % acc_sgd)\n",
        "print(\"Accuracy CV 10-Fold: %s\" % acc_cv_sgd)\n",
        "print(\"Running Time: %s\" % datetime.timedelta(seconds=sgd_time))"
      ],
      "execution_count": 53,
      "outputs": [
        {
          "output_type": "stream",
          "text": [
            "<sklearn.linear_model._sgd_fast.Hinge object at 0x7f5f029e5050>\n",
            "Accuracy: 95.36\n",
            "Accuracy CV 10-Fold: 76.84\n",
            "Running Time: 0:00:01.419065\n"
          ],
          "name": "stdout"
        }
      ]
    },
    {
      "cell_type": "markdown",
      "metadata": {
        "id": "fDTkRfMsr9g0"
      },
      "source": [
        "### Decision Tree Classifier"
      ]
    },
    {
      "cell_type": "code",
      "metadata": {
        "id": "Eu6bsBPfr9g0",
        "colab": {
          "base_uri": "https://localhost:8080/"
        },
        "outputId": "e74d11a9-f4fb-466d-c60b-83fc6c0d6c2b"
      },
      "source": [
        "# Decision Tree Classifier\n",
        "start_time = time.time()\n",
        "train_pred_dt, acc_dt, acc_cv_dt = fit_ml_algo(DecisionTreeClassifier(), \n",
        "                                                                X_train, \n",
        "                                                                y_train,\n",
        "                                                                10)\n",
        "dt_time = (time.time() - start_time)\n",
        "print(\"Accuracy: %s\" % acc_dt)\n",
        "print(\"Accuracy CV 10-Fold: %s\" % acc_cv_dt)\n",
        "print(\"Running Time: %s\" % datetime.timedelta(seconds=dt_time))"
      ],
      "execution_count": 25,
      "outputs": [
        {
          "output_type": "stream",
          "text": [
            "Accuracy: 99.77\n",
            "Accuracy CV 10-Fold: 72.62\n",
            "Running Time: 0:00:01.680519\n"
          ],
          "name": "stdout"
        }
      ]
    },
    {
      "cell_type": "markdown",
      "metadata": {
        "id": "E8Iup0zQr9g1"
      },
      "source": [
        "### Gradient Boost Trees"
      ]
    },
    {
      "cell_type": "code",
      "metadata": {
        "id": "mziyrn6br9g1",
        "colab": {
          "base_uri": "https://localhost:8080/"
        },
        "outputId": "1bb399e6-3067-499d-fada-0b356c40b557"
      },
      "source": [
        "# Gradient Boosting Trees\n",
        "start_time = time.time()\n",
        "train_pred_gbt, acc_gbt, acc_cv_gbt = fit_ml_algo(GradientBoostingClassifier(), \n",
        "                                                                       X_train, \n",
        "                                                                       y_train,\n",
        "                                                                       10)\n",
        "\n",
        "gbt_time = (time.time() - start_time)\n",
        "print(\"Accuracy: %s\" % acc_gbt)\n",
        "print(\"Accuracy CV 10-Fold: %s\" % acc_cv_gbt)\n",
        "print(\"Running Time: %s\" % datetime.timedelta(seconds=gbt_time))"
      ],
      "execution_count": 48,
      "outputs": [
        {
          "output_type": "stream",
          "text": [
            "[0.         0.         0.00034773 ... 0.         0.         0.        ]\n",
            "Accuracy: 82.02\n",
            "Accuracy CV 10-Fold: 74.84\n",
            "Running Time: 0:00:56.384694\n"
          ],
          "name": "stdout"
        }
      ]
    },
    {
      "cell_type": "markdown",
      "metadata": {
        "id": "1UI7HbMMr9hC"
      },
      "source": [
        "## Model Results\n",
        "Which model had the best cross-validation accuracy?\n",
        "\n",
        "**Note:** We care most about cross-validation metrics because the metrics we get from `.fit()` can randomly score higher than usual."
      ]
    },
    {
      "cell_type": "markdown",
      "metadata": {
        "id": "oM-btn2Fr9hD"
      },
      "source": [
        "### Regular accuracy scores"
      ]
    },
    {
      "cell_type": "code",
      "metadata": {
        "id": "5NfeHF_xr9hD",
        "colab": {
          "base_uri": "https://localhost:8080/",
          "height": 252
        },
        "outputId": "8776d5d8-1c6e-4165-ca52-9f6e347752eb"
      },
      "source": [
        "models = pd.DataFrame({\n",
        "    'Model': ['KNN', 'Logistic Regression', \n",
        "              'Stochastic Gradient Decent', 'Linear SVC', \n",
        "              'Decision Tree', 'Gradient Boosting Trees'],\n",
        "    'Score': [\n",
        "        acc_knn, \n",
        "        acc_log,\n",
        "        acc_sgd, \n",
        "        acc_linear_svc, \n",
        "        acc_dt,\n",
        "        acc_gbt\n",
        "    ]})\n",
        "print(\"---Reuglar Accuracy Scores---\")\n",
        "models.sort_values(by='Score', ascending=False)"
      ],
      "execution_count": 34,
      "outputs": [
        {
          "output_type": "stream",
          "text": [
            "---Reuglar Accuracy Scores---\n"
          ],
          "name": "stdout"
        },
        {
          "output_type": "execute_result",
          "data": {
            "text/html": [
              "<div>\n",
              "<style scoped>\n",
              "    .dataframe tbody tr th:only-of-type {\n",
              "        vertical-align: middle;\n",
              "    }\n",
              "\n",
              "    .dataframe tbody tr th {\n",
              "        vertical-align: top;\n",
              "    }\n",
              "\n",
              "    .dataframe thead th {\n",
              "        text-align: right;\n",
              "    }\n",
              "</style>\n",
              "<table border=\"1\" class=\"dataframe\">\n",
              "  <thead>\n",
              "    <tr style=\"text-align: right;\">\n",
              "      <th></th>\n",
              "      <th>Model</th>\n",
              "      <th>Score</th>\n",
              "    </tr>\n",
              "  </thead>\n",
              "  <tbody>\n",
              "    <tr>\n",
              "      <th>4</th>\n",
              "      <td>Decision Tree</td>\n",
              "      <td>99.77</td>\n",
              "    </tr>\n",
              "    <tr>\n",
              "      <th>3</th>\n",
              "      <td>Linear SVC</td>\n",
              "      <td>95.68</td>\n",
              "    </tr>\n",
              "    <tr>\n",
              "      <th>2</th>\n",
              "      <td>Stochastic Gradient Decent</td>\n",
              "      <td>95.36</td>\n",
              "    </tr>\n",
              "    <tr>\n",
              "      <th>1</th>\n",
              "      <td>Logistic Regression</td>\n",
              "      <td>88.43</td>\n",
              "    </tr>\n",
              "    <tr>\n",
              "      <th>5</th>\n",
              "      <td>Gradient Boosting Trees</td>\n",
              "      <td>82.09</td>\n",
              "    </tr>\n",
              "    <tr>\n",
              "      <th>0</th>\n",
              "      <td>KNN</td>\n",
              "      <td>35.92</td>\n",
              "    </tr>\n",
              "  </tbody>\n",
              "</table>\n",
              "</div>"
            ],
            "text/plain": [
              "                        Model  Score\n",
              "4               Decision Tree  99.77\n",
              "3                  Linear SVC  95.68\n",
              "2  Stochastic Gradient Decent  95.36\n",
              "1         Logistic Regression  88.43\n",
              "5     Gradient Boosting Trees  82.09\n",
              "0                         KNN  35.92"
            ]
          },
          "metadata": {
            "tags": []
          },
          "execution_count": 34
        }
      ]
    },
    {
      "cell_type": "code",
      "metadata": {
        "id": "WMxRBfgir9hE",
        "colab": {
          "base_uri": "https://localhost:8080/",
          "height": 252
        },
        "outputId": "90540af0-d51d-453f-b3f7-7384c0183634"
      },
      "source": [
        "cv_models = pd.DataFrame({\n",
        "    'Model': ['KNN', 'Logistic Regression',\n",
        "              'Stochastic Gradient Decent', 'Linear SVC', \n",
        "              'Decision Tree', 'Gradient Boosting Trees'],\n",
        "    'Score': [\n",
        "        acc_cv_knn, \n",
        "        acc_cv_log,\n",
        "        acc_cv_sgd, \n",
        "        acc_cv_linear_svc, \n",
        "        acc_cv_dt,\n",
        "        acc_cv_gbt\n",
        "    ]})\n",
        "print('---Cross-validation Accuracy Scores---')\n",
        "cv_models.sort_values(by='Score', ascending=False)"
      ],
      "execution_count": 35,
      "outputs": [
        {
          "output_type": "stream",
          "text": [
            "---Cross-validation Accuracy Scores---\n"
          ],
          "name": "stdout"
        },
        {
          "output_type": "execute_result",
          "data": {
            "text/html": [
              "<div>\n",
              "<style scoped>\n",
              "    .dataframe tbody tr th:only-of-type {\n",
              "        vertical-align: middle;\n",
              "    }\n",
              "\n",
              "    .dataframe tbody tr th {\n",
              "        vertical-align: top;\n",
              "    }\n",
              "\n",
              "    .dataframe thead th {\n",
              "        text-align: right;\n",
              "    }\n",
              "</style>\n",
              "<table border=\"1\" class=\"dataframe\">\n",
              "  <thead>\n",
              "    <tr style=\"text-align: right;\">\n",
              "      <th></th>\n",
              "      <th>Model</th>\n",
              "      <th>Score</th>\n",
              "    </tr>\n",
              "  </thead>\n",
              "  <tbody>\n",
              "    <tr>\n",
              "      <th>3</th>\n",
              "      <td>Linear SVC</td>\n",
              "      <td>77.13</td>\n",
              "    </tr>\n",
              "    <tr>\n",
              "      <th>2</th>\n",
              "      <td>Stochastic Gradient Decent</td>\n",
              "      <td>76.58</td>\n",
              "    </tr>\n",
              "    <tr>\n",
              "      <th>1</th>\n",
              "      <td>Logistic Regression</td>\n",
              "      <td>76.32</td>\n",
              "    </tr>\n",
              "    <tr>\n",
              "      <th>5</th>\n",
              "      <td>Gradient Boosting Trees</td>\n",
              "      <td>74.52</td>\n",
              "    </tr>\n",
              "    <tr>\n",
              "      <th>4</th>\n",
              "      <td>Decision Tree</td>\n",
              "      <td>72.62</td>\n",
              "    </tr>\n",
              "    <tr>\n",
              "      <th>0</th>\n",
              "      <td>KNN</td>\n",
              "      <td>29.09</td>\n",
              "    </tr>\n",
              "  </tbody>\n",
              "</table>\n",
              "</div>"
            ],
            "text/plain": [
              "                        Model  Score\n",
              "3                  Linear SVC  77.13\n",
              "2  Stochastic Gradient Decent  76.58\n",
              "1         Logistic Regression  76.32\n",
              "5     Gradient Boosting Trees  74.52\n",
              "4               Decision Tree  72.62\n",
              "0                         KNN  29.09"
            ]
          },
          "metadata": {
            "tags": []
          },
          "execution_count": 35
        }
      ]
    },
    {
      "cell_type": "markdown",
      "metadata": {
        "id": "m5t8-hj-r9hF"
      },
      "source": [
        "We can see from the tables, the CatBoost model had the best results. Getting just under 82% is pretty good considering guessing would result in about 50% accuracy (0 or 1).\n",
        "\n",
        "We'll pay more attention to the cross-validation figure.\n",
        "\n",
        "Cross-validation is more robust than just the `.fit()` models as it does multiple passes over the data instead of one.\n",
        "\n",
        "Because the CatBoost model got the best results, we'll use it for the next steps.\n",
        "\n",
        "**Challenge:** How could you improve the CatBoost model?"
      ]
    },
    {
      "cell_type": "markdown",
      "metadata": {
        "id": "p8h93sCwbg12"
      },
      "source": [
        "##Evaluate"
      ]
    },
    {
      "cell_type": "code",
      "metadata": {
        "colab": {
          "base_uri": "https://localhost:8080/"
        },
        "id": "5bnMVPDdbiOg",
        "outputId": "4d1e5cd4-19e0-4bfd-b3d3-3b599ef04ded"
      },
      "source": [
        "#making predictions\n",
        "y_pred = model.predict(X_test)\n",
        "#model accuracy\n",
        "print(\"Model Accuracy : {}\".format((y_pred == y_test).mean()))\n",
        "#confusion matrix \n",
        "print(confusion_matrix(y_test,y_pred))"
      ],
      "execution_count": 57,
      "outputs": [
        {
          "output_type": "stream",
          "text": [
            "Model Accuracy : 0.7989690721649485\n",
            "[[ 60   8  44]\n",
            " [  2  46  61]\n",
            " [ 13  28 514]]\n"
          ],
          "name": "stdout"
        }
      ]
    },
    {
      "cell_type": "markdown",
      "metadata": {
        "id": "S2y8NYwHgaNN"
      },
      "source": [
        "#Building model with LSTM"
      ]
    },
    {
      "cell_type": "markdown",
      "metadata": {
        "id": "ZFlCywWDMbz0"
      },
      "source": [
        "## Load Dataset"
      ]
    },
    {
      "cell_type": "code",
      "metadata": {
        "id": "zMi41yXRaX0f",
        "colab": {
          "base_uri": "https://localhost:8080/"
        },
        "outputId": "3f2cadbf-afca-4c89-eb01-e0dd01a73633"
      },
      "source": [
        "!wget https://raw.githubusercontent.com/H4rfu1/ML-project-TokoLitik-tim-Undagi/main/Response/dataset_review_tokped_labelled.csv"
      ],
      "execution_count": null,
      "outputs": [
        {
          "output_type": "stream",
          "text": [
            "--2021-05-11 12:40:35--  https://raw.githubusercontent.com/H4rfu1/ML-project-TokoLitik-tim-Undagi/main/Response/dataset_review_tokped_labelled.csv\n",
            "Resolving raw.githubusercontent.com (raw.githubusercontent.com)... 185.199.108.133, 185.199.109.133, 185.199.110.133, ...\n",
            "Connecting to raw.githubusercontent.com (raw.githubusercontent.com)|185.199.108.133|:443... connected.\n",
            "HTTP request sent, awaiting response... 200 OK\n",
            "Length: 294589 (288K) [text/plain]\n",
            "Saving to: ‘dataset_review_tokped_labelled.csv’\n",
            "\n",
            "\r          dataset_r   0%[                    ]       0  --.-KB/s               \rdataset_review_tokp 100%[===================>] 287.68K  --.-KB/s    in 0.03s   \n",
            "\n",
            "2021-05-11 12:40:35 (8.68 MB/s) - ‘dataset_review_tokped_labelled.csv’ saved [294589/294589]\n",
            "\n"
          ],
          "name": "stdout"
        }
      ]
    },
    {
      "cell_type": "code",
      "metadata": {
        "id": "sZDh4uDCd1Cv",
        "colab": {
          "base_uri": "https://localhost:8080/",
          "height": 419
        },
        "outputId": "14bd9843-090d-4bf9-b8e6-88a039e8a6ee"
      },
      "source": [
        "#dataset from crawling process\n",
        "df = pd.read_csv('/content/dataset_review_tokped_labelled.csv')\n",
        "df"
      ],
      "execution_count": null,
      "outputs": [
        {
          "output_type": "execute_result",
          "data": {
            "text/html": [
              "<div>\n",
              "<style scoped>\n",
              "    .dataframe tbody tr th:only-of-type {\n",
              "        vertical-align: middle;\n",
              "    }\n",
              "\n",
              "    .dataframe tbody tr th {\n",
              "        vertical-align: top;\n",
              "    }\n",
              "\n",
              "    .dataframe thead th {\n",
              "        text-align: right;\n",
              "    }\n",
              "</style>\n",
              "<table border=\"1\" class=\"dataframe\">\n",
              "  <thead>\n",
              "    <tr style=\"text-align: right;\">\n",
              "      <th></th>\n",
              "      <th>Review</th>\n",
              "      <th>Rating</th>\n",
              "      <th>Sentiment</th>\n",
              "    </tr>\n",
              "  </thead>\n",
              "  <tbody>\n",
              "    <tr>\n",
              "      <th>0</th>\n",
              "      <td>enak kuacinya</td>\n",
              "      <td>5</td>\n",
              "      <td>positive</td>\n",
              "    </tr>\n",
              "    <tr>\n",
              "      <th>1</th>\n",
              "      <td>pengiriman cepat packing bagus sesuai pesanan ...</td>\n",
              "      <td>5</td>\n",
              "      <td>positive</td>\n",
              "    </tr>\n",
              "    <tr>\n",
              "      <th>2</th>\n",
              "      <td>pengemasan luar biasa baik untuk rasa menurut ...</td>\n",
              "      <td>4</td>\n",
              "      <td>negative</td>\n",
              "    </tr>\n",
              "    <tr>\n",
              "      <th>3</th>\n",
              "      <td>terimakasih min</td>\n",
              "      <td>5</td>\n",
              "      <td>neutral</td>\n",
              "    </tr>\n",
              "    <tr>\n",
              "      <th>4</th>\n",
              "      <td>udah order untuk kesekian kali jos</td>\n",
              "      <td>5</td>\n",
              "      <td>neutral</td>\n",
              "    </tr>\n",
              "    <tr>\n",
              "      <th>...</th>\n",
              "      <td>...</td>\n",
              "      <td>...</td>\n",
              "      <td>...</td>\n",
              "    </tr>\n",
              "    <tr>\n",
              "      <th>4055</th>\n",
              "      <td>seller sangat responsif rasa belum dicoba kare...</td>\n",
              "      <td>5</td>\n",
              "      <td>neutral</td>\n",
              "    </tr>\n",
              "    <tr>\n",
              "      <th>4056</th>\n",
              "      <td>imut2 banget packing aman</td>\n",
              "      <td>5</td>\n",
              "      <td>positive</td>\n",
              "    </tr>\n",
              "    <tr>\n",
              "      <th>4057</th>\n",
              "      <td>good product trusted seller</td>\n",
              "      <td>5</td>\n",
              "      <td>positive</td>\n",
              "    </tr>\n",
              "    <tr>\n",
              "      <th>4058</th>\n",
              "      <td>sudah beli yg ke 3</td>\n",
              "      <td>5</td>\n",
              "      <td>neutral</td>\n",
              "    </tr>\n",
              "    <tr>\n",
              "      <th>4059</th>\n",
              "      <td>byk campurannya</td>\n",
              "      <td>4</td>\n",
              "      <td>neutral</td>\n",
              "    </tr>\n",
              "  </tbody>\n",
              "</table>\n",
              "<p>4060 rows × 3 columns</p>\n",
              "</div>"
            ],
            "text/plain": [
              "                                                 Review  Rating Sentiment\n",
              "0                                         enak kuacinya       5  positive\n",
              "1     pengiriman cepat packing bagus sesuai pesanan ...       5  positive\n",
              "2     pengemasan luar biasa baik untuk rasa menurut ...       4  negative\n",
              "3                                       terimakasih min       5   neutral\n",
              "4                    udah order untuk kesekian kali jos       5   neutral\n",
              "...                                                 ...     ...       ...\n",
              "4055  seller sangat responsif rasa belum dicoba kare...       5   neutral\n",
              "4056                          imut2 banget packing aman       5  positive\n",
              "4057                        good product trusted seller       5  positive\n",
              "4058                                 sudah beli yg ke 3       5   neutral\n",
              "4059                                    byk campurannya       4   neutral\n",
              "\n",
              "[4060 rows x 3 columns]"
            ]
          },
          "metadata": {
            "tags": []
          },
          "execution_count": 3
        }
      ]
    },
    {
      "cell_type": "markdown",
      "metadata": {
        "id": "IspkD17gNwyj"
      },
      "source": [
        "## Check Dataset"
      ]
    },
    {
      "cell_type": "code",
      "metadata": {
        "colab": {
          "base_uri": "https://localhost:8080/",
          "height": 317
        },
        "id": "mAg9vPtOjeZB",
        "outputId": "e882f7a2-2f70-4f1d-e8d8-09b385cef84f"
      },
      "source": [
        "pd.value_counts(df['Sentiment']).plot.bar()"
      ],
      "execution_count": null,
      "outputs": [
        {
          "output_type": "execute_result",
          "data": {
            "text/plain": [
              "<matplotlib.axes._subplots.AxesSubplot at 0x7fdf73a24290>"
            ]
          },
          "metadata": {
            "tags": []
          },
          "execution_count": 38
        },
        {
          "output_type": "display_data",
          "data": {
            "image/png": "[encoded data removed]",
            "text/plain": [
              "<Figure size 432x288 with 1 Axes>"
            ]
          },
          "metadata": {
            "tags": [],
            "needs_background": "light"
          }
        }
      ]
    },
    {
      "cell_type": "code",
      "metadata": {
        "id": "kFZvR2D8Nz9T",
        "colab": {
          "base_uri": "https://localhost:8080/"
        },
        "outputId": "fef27450-e6bf-4139-b05b-fd41e4e71ea6"
      },
      "source": [
        "#to check shape of the dataset\n",
        "print(df.shape) \n",
        "\n",
        "#to look the header of dataset\n",
        "df.info()\n"
      ],
      "execution_count": null,
      "outputs": [
        {
          "output_type": "stream",
          "text": [
            "(4060, 3)\n",
            "<class 'pandas.core.frame.DataFrame'>\n",
            "RangeIndex: 4060 entries, 0 to 4059\n",
            "Data columns (total 3 columns):\n",
            " #   Column     Non-Null Count  Dtype \n",
            "---  ------     --------------  ----- \n",
            " 0   Review     4060 non-null   object\n",
            " 1   Rating     4060 non-null   int64 \n",
            " 2   Sentiment  4060 non-null   object\n",
            "dtypes: int64(1), object(2)\n",
            "memory usage: 95.3+ KB\n"
          ],
          "name": "stdout"
        }
      ]
    },
    {
      "cell_type": "code",
      "metadata": {
        "id": "ynEuuk2MM3h9",
        "colab": {
          "base_uri": "https://localhost:8080/",
          "height": 419
        },
        "outputId": "dca90bcf-66a5-4596-cb62-c19c3d6414d5"
      },
      "source": [
        "#separate column category and add value to it\n",
        "category = pd.get_dummies(df.Sentiment)\n",
        "df_new = pd.concat([df, category], axis=1)\n",
        "df_new = df_new.drop(columns='Sentiment')\n",
        "df_new"
      ],
      "execution_count": null,
      "outputs": [
        {
          "output_type": "execute_result",
          "data": {
            "text/html": [
              "<div>\n",
              "<style scoped>\n",
              "    .dataframe tbody tr th:only-of-type {\n",
              "        vertical-align: middle;\n",
              "    }\n",
              "\n",
              "    .dataframe tbody tr th {\n",
              "        vertical-align: top;\n",
              "    }\n",
              "\n",
              "    .dataframe thead th {\n",
              "        text-align: right;\n",
              "    }\n",
              "</style>\n",
              "<table border=\"1\" class=\"dataframe\">\n",
              "  <thead>\n",
              "    <tr style=\"text-align: right;\">\n",
              "      <th></th>\n",
              "      <th>Review</th>\n",
              "      <th>Rating</th>\n",
              "      <th>negative</th>\n",
              "      <th>neutral</th>\n",
              "      <th>positive</th>\n",
              "    </tr>\n",
              "  </thead>\n",
              "  <tbody>\n",
              "    <tr>\n",
              "      <th>0</th>\n",
              "      <td>enak kuacinya</td>\n",
              "      <td>5</td>\n",
              "      <td>0</td>\n",
              "      <td>0</td>\n",
              "      <td>1</td>\n",
              "    </tr>\n",
              "    <tr>\n",
              "      <th>1</th>\n",
              "      <td>pengiriman cepat packing bagus sesuai pesanan ...</td>\n",
              "      <td>5</td>\n",
              "      <td>0</td>\n",
              "      <td>0</td>\n",
              "      <td>1</td>\n",
              "    </tr>\n",
              "    <tr>\n",
              "      <th>2</th>\n",
              "      <td>pengemasan luar biasa baik untuk rasa menurut ...</td>\n",
              "      <td>4</td>\n",
              "      <td>1</td>\n",
              "      <td>0</td>\n",
              "      <td>0</td>\n",
              "    </tr>\n",
              "    <tr>\n",
              "      <th>3</th>\n",
              "      <td>terimakasih min</td>\n",
              "      <td>5</td>\n",
              "      <td>0</td>\n",
              "      <td>1</td>\n",
              "      <td>0</td>\n",
              "    </tr>\n",
              "    <tr>\n",
              "      <th>4</th>\n",
              "      <td>udah order untuk kesekian kali jos</td>\n",
              "      <td>5</td>\n",
              "      <td>0</td>\n",
              "      <td>1</td>\n",
              "      <td>0</td>\n",
              "    </tr>\n",
              "    <tr>\n",
              "      <th>...</th>\n",
              "      <td>...</td>\n",
              "      <td>...</td>\n",
              "      <td>...</td>\n",
              "      <td>...</td>\n",
              "      <td>...</td>\n",
              "    </tr>\n",
              "    <tr>\n",
              "      <th>4055</th>\n",
              "      <td>seller sangat responsif rasa belum dicoba kare...</td>\n",
              "      <td>5</td>\n",
              "      <td>0</td>\n",
              "      <td>1</td>\n",
              "      <td>0</td>\n",
              "    </tr>\n",
              "    <tr>\n",
              "      <th>4056</th>\n",
              "      <td>imut2 banget packing aman</td>\n",
              "      <td>5</td>\n",
              "      <td>0</td>\n",
              "      <td>0</td>\n",
              "      <td>1</td>\n",
              "    </tr>\n",
              "    <tr>\n",
              "      <th>4057</th>\n",
              "      <td>good product trusted seller</td>\n",
              "      <td>5</td>\n",
              "      <td>0</td>\n",
              "      <td>0</td>\n",
              "      <td>1</td>\n",
              "    </tr>\n",
              "    <tr>\n",
              "      <th>4058</th>\n",
              "      <td>sudah beli yg ke 3</td>\n",
              "      <td>5</td>\n",
              "      <td>0</td>\n",
              "      <td>1</td>\n",
              "      <td>0</td>\n",
              "    </tr>\n",
              "    <tr>\n",
              "      <th>4059</th>\n",
              "      <td>byk campurannya</td>\n",
              "      <td>4</td>\n",
              "      <td>0</td>\n",
              "      <td>1</td>\n",
              "      <td>0</td>\n",
              "    </tr>\n",
              "  </tbody>\n",
              "</table>\n",
              "<p>4060 rows × 5 columns</p>\n",
              "</div>"
            ],
            "text/plain": [
              "                                                 Review  ...  positive\n",
              "0                                         enak kuacinya  ...         1\n",
              "1     pengiriman cepat packing bagus sesuai pesanan ...  ...         1\n",
              "2     pengemasan luar biasa baik untuk rasa menurut ...  ...         0\n",
              "3                                       terimakasih min  ...         0\n",
              "4                    udah order untuk kesekian kali jos  ...         0\n",
              "...                                                 ...  ...       ...\n",
              "4055  seller sangat responsif rasa belum dicoba kare...  ...         0\n",
              "4056                          imut2 banget packing aman  ...         1\n",
              "4057                        good product trusted seller  ...         1\n",
              "4058                                 sudah beli yg ke 3  ...         0\n",
              "4059                                    byk campurannya  ...         0\n",
              "\n",
              "[4060 rows x 5 columns]"
            ]
          },
          "metadata": {
            "tags": []
          },
          "execution_count": 7
        }
      ]
    },
    {
      "cell_type": "markdown",
      "metadata": {
        "id": "B1-y1W2nNYbN"
      },
      "source": [
        "## Peprocess Dataset"
      ]
    },
    {
      "cell_type": "code",
      "metadata": {
        "id": "yUJq7YJhNr63",
        "colab": {
          "base_uri": "https://localhost:8080/",
          "height": 419
        },
        "outputId": "6a0613e0-20bd-4302-f139-d4fd996bedd9"
      },
      "source": [
        "#remove repeated char\n",
        "# continously repeating character\n",
        "# from the word \n",
        "def conti_rep_char(str1):\n",
        "    tchr = str1.group(0)\n",
        "    if len(tchr) > 1:\n",
        "      return tchr[0:1]\n",
        "# define a function to check\n",
        "# whether unique character \n",
        "# is present or not\n",
        "def check_unique_char(rep, sent_text):\n",
        "    # regular expression for \n",
        "    # repetion of characters\n",
        "    convert = re.sub(r'(\\w)\\1+', \n",
        "                     rep,\n",
        "                     sent_text)\n",
        "      \n",
        "    # returing the converted word\n",
        "    return convert\n",
        "\n",
        "df_new['Review'] = df_new['Review'].apply(lambda x : check_unique_char(conti_rep_char, x))\n",
        "df_new"
      ],
      "execution_count": null,
      "outputs": [
        {
          "output_type": "execute_result",
          "data": {
            "text/html": [
              "<div>\n",
              "<style scoped>\n",
              "    .dataframe tbody tr th:only-of-type {\n",
              "        vertical-align: middle;\n",
              "    }\n",
              "\n",
              "    .dataframe tbody tr th {\n",
              "        vertical-align: top;\n",
              "    }\n",
              "\n",
              "    .dataframe thead th {\n",
              "        text-align: right;\n",
              "    }\n",
              "</style>\n",
              "<table border=\"1\" class=\"dataframe\">\n",
              "  <thead>\n",
              "    <tr style=\"text-align: right;\">\n",
              "      <th></th>\n",
              "      <th>Review</th>\n",
              "      <th>Rating</th>\n",
              "      <th>negative</th>\n",
              "      <th>neutral</th>\n",
              "      <th>positive</th>\n",
              "    </tr>\n",
              "  </thead>\n",
              "  <tbody>\n",
              "    <tr>\n",
              "      <th>0</th>\n",
              "      <td>enak kuacinya</td>\n",
              "      <td>5</td>\n",
              "      <td>0</td>\n",
              "      <td>0</td>\n",
              "      <td>1</td>\n",
              "    </tr>\n",
              "    <tr>\n",
              "      <th>1</th>\n",
              "      <td>pengiriman cepat packing bagus sesuai pesanan ...</td>\n",
              "      <td>5</td>\n",
              "      <td>0</td>\n",
              "      <td>0</td>\n",
              "      <td>1</td>\n",
              "    </tr>\n",
              "    <tr>\n",
              "      <th>2</th>\n",
              "      <td>pengemasan luar biasa baik untuk rasa menurut ...</td>\n",
              "      <td>4</td>\n",
              "      <td>1</td>\n",
              "      <td>0</td>\n",
              "      <td>0</td>\n",
              "    </tr>\n",
              "    <tr>\n",
              "      <th>3</th>\n",
              "      <td>terimakasih min</td>\n",
              "      <td>5</td>\n",
              "      <td>0</td>\n",
              "      <td>1</td>\n",
              "      <td>0</td>\n",
              "    </tr>\n",
              "    <tr>\n",
              "      <th>4</th>\n",
              "      <td>udah order untuk kesekian kali jos</td>\n",
              "      <td>5</td>\n",
              "      <td>0</td>\n",
              "      <td>1</td>\n",
              "      <td>0</td>\n",
              "    </tr>\n",
              "    <tr>\n",
              "      <th>...</th>\n",
              "      <td>...</td>\n",
              "      <td>...</td>\n",
              "      <td>...</td>\n",
              "      <td>...</td>\n",
              "      <td>...</td>\n",
              "    </tr>\n",
              "    <tr>\n",
              "      <th>4055</th>\n",
              "      <td>seler sangat responsif rasa belum dicoba karen...</td>\n",
              "      <td>5</td>\n",
              "      <td>0</td>\n",
              "      <td>1</td>\n",
              "      <td>0</td>\n",
              "    </tr>\n",
              "    <tr>\n",
              "      <th>4056</th>\n",
              "      <td>imut2 banget packing aman</td>\n",
              "      <td>5</td>\n",
              "      <td>0</td>\n",
              "      <td>0</td>\n",
              "      <td>1</td>\n",
              "    </tr>\n",
              "    <tr>\n",
              "      <th>4057</th>\n",
              "      <td>god product trusted seler</td>\n",
              "      <td>5</td>\n",
              "      <td>0</td>\n",
              "      <td>0</td>\n",
              "      <td>1</td>\n",
              "    </tr>\n",
              "    <tr>\n",
              "      <th>4058</th>\n",
              "      <td>sudah beli yg ke 3</td>\n",
              "      <td>5</td>\n",
              "      <td>0</td>\n",
              "      <td>1</td>\n",
              "      <td>0</td>\n",
              "    </tr>\n",
              "    <tr>\n",
              "      <th>4059</th>\n",
              "      <td>byk campuranya</td>\n",
              "      <td>4</td>\n",
              "      <td>0</td>\n",
              "      <td>1</td>\n",
              "      <td>0</td>\n",
              "    </tr>\n",
              "  </tbody>\n",
              "</table>\n",
              "<p>4060 rows × 5 columns</p>\n",
              "</div>"
            ],
            "text/plain": [
              "                                                 Review  ...  positive\n",
              "0                                         enak kuacinya  ...         1\n",
              "1     pengiriman cepat packing bagus sesuai pesanan ...  ...         1\n",
              "2     pengemasan luar biasa baik untuk rasa menurut ...  ...         0\n",
              "3                                       terimakasih min  ...         0\n",
              "4                    udah order untuk kesekian kali jos  ...         0\n",
              "...                                                 ...  ...       ...\n",
              "4055  seler sangat responsif rasa belum dicoba karen...  ...         0\n",
              "4056                          imut2 banget packing aman  ...         1\n",
              "4057                          god product trusted seler  ...         1\n",
              "4058                                 sudah beli yg ke 3  ...         0\n",
              "4059                                     byk campuranya  ...         0\n",
              "\n",
              "[4060 rows x 5 columns]"
            ]
          },
          "metadata": {
            "tags": []
          },
          "execution_count": 11
        }
      ]
    },
    {
      "cell_type": "code",
      "metadata": {
        "colab": {
          "base_uri": "https://localhost:8080/",
          "height": 453
        },
        "id": "sLhLtqWreh4-",
        "outputId": "a0e1c28a-c761-43fe-ce7a-9a86103fd4e9"
      },
      "source": [
        "print(df_new.shape)\n",
        "#Removes duplicates in place\n",
        "df_new.drop_duplicates(keep=False, inplace=True)\n",
        "print(df_new.shape) \n",
        "df_new"
      ],
      "execution_count": null,
      "outputs": [
        {
          "output_type": "stream",
          "text": [
            "(4060, 5)\n",
            "(3979, 5)\n"
          ],
          "name": "stdout"
        },
        {
          "output_type": "execute_result",
          "data": {
            "text/html": [
              "<div>\n",
              "<style scoped>\n",
              "    .dataframe tbody tr th:only-of-type {\n",
              "        vertical-align: middle;\n",
              "    }\n",
              "\n",
              "    .dataframe tbody tr th {\n",
              "        vertical-align: top;\n",
              "    }\n",
              "\n",
              "    .dataframe thead th {\n",
              "        text-align: right;\n",
              "    }\n",
              "</style>\n",
              "<table border=\"1\" class=\"dataframe\">\n",
              "  <thead>\n",
              "    <tr style=\"text-align: right;\">\n",
              "      <th></th>\n",
              "      <th>Review</th>\n",
              "      <th>Rating</th>\n",
              "      <th>negative</th>\n",
              "      <th>neutral</th>\n",
              "      <th>positive</th>\n",
              "    </tr>\n",
              "  </thead>\n",
              "  <tbody>\n",
              "    <tr>\n",
              "      <th>0</th>\n",
              "      <td>enak kuacinya</td>\n",
              "      <td>5</td>\n",
              "      <td>0</td>\n",
              "      <td>0</td>\n",
              "      <td>1</td>\n",
              "    </tr>\n",
              "    <tr>\n",
              "      <th>1</th>\n",
              "      <td>pengiriman cepat packing bagus sesuai pesanan ...</td>\n",
              "      <td>5</td>\n",
              "      <td>0</td>\n",
              "      <td>0</td>\n",
              "      <td>1</td>\n",
              "    </tr>\n",
              "    <tr>\n",
              "      <th>2</th>\n",
              "      <td>pengemasan luar biasa baik untuk rasa menurut ...</td>\n",
              "      <td>4</td>\n",
              "      <td>1</td>\n",
              "      <td>0</td>\n",
              "      <td>0</td>\n",
              "    </tr>\n",
              "    <tr>\n",
              "      <th>3</th>\n",
              "      <td>terimakasih min</td>\n",
              "      <td>5</td>\n",
              "      <td>0</td>\n",
              "      <td>1</td>\n",
              "      <td>0</td>\n",
              "    </tr>\n",
              "    <tr>\n",
              "      <th>4</th>\n",
              "      <td>udah order untuk kesekian kali jos</td>\n",
              "      <td>5</td>\n",
              "      <td>0</td>\n",
              "      <td>1</td>\n",
              "      <td>0</td>\n",
              "    </tr>\n",
              "    <tr>\n",
              "      <th>...</th>\n",
              "      <td>...</td>\n",
              "      <td>...</td>\n",
              "      <td>...</td>\n",
              "      <td>...</td>\n",
              "      <td>...</td>\n",
              "    </tr>\n",
              "    <tr>\n",
              "      <th>4055</th>\n",
              "      <td>seler sangat responsif rasa belum dicoba karen...</td>\n",
              "      <td>5</td>\n",
              "      <td>0</td>\n",
              "      <td>1</td>\n",
              "      <td>0</td>\n",
              "    </tr>\n",
              "    <tr>\n",
              "      <th>4056</th>\n",
              "      <td>imut2 banget packing aman</td>\n",
              "      <td>5</td>\n",
              "      <td>0</td>\n",
              "      <td>0</td>\n",
              "      <td>1</td>\n",
              "    </tr>\n",
              "    <tr>\n",
              "      <th>4057</th>\n",
              "      <td>god product trusted seler</td>\n",
              "      <td>5</td>\n",
              "      <td>0</td>\n",
              "      <td>0</td>\n",
              "      <td>1</td>\n",
              "    </tr>\n",
              "    <tr>\n",
              "      <th>4058</th>\n",
              "      <td>sudah beli yg ke 3</td>\n",
              "      <td>5</td>\n",
              "      <td>0</td>\n",
              "      <td>1</td>\n",
              "      <td>0</td>\n",
              "    </tr>\n",
              "    <tr>\n",
              "      <th>4059</th>\n",
              "      <td>byk campuranya</td>\n",
              "      <td>4</td>\n",
              "      <td>0</td>\n",
              "      <td>1</td>\n",
              "      <td>0</td>\n",
              "    </tr>\n",
              "  </tbody>\n",
              "</table>\n",
              "<p>3979 rows × 5 columns</p>\n",
              "</div>"
            ],
            "text/plain": [
              "                                                 Review  ...  positive\n",
              "0                                         enak kuacinya  ...         1\n",
              "1     pengiriman cepat packing bagus sesuai pesanan ...  ...         1\n",
              "2     pengemasan luar biasa baik untuk rasa menurut ...  ...         0\n",
              "3                                       terimakasih min  ...         0\n",
              "4                    udah order untuk kesekian kali jos  ...         0\n",
              "...                                                 ...  ...       ...\n",
              "4055  seler sangat responsif rasa belum dicoba karen...  ...         0\n",
              "4056                          imut2 banget packing aman  ...         1\n",
              "4057                          god product trusted seler  ...         1\n",
              "4058                                 sudah beli yg ke 3  ...         0\n",
              "4059                                     byk campuranya  ...         0\n",
              "\n",
              "[3979 rows x 5 columns]"
            ]
          },
          "metadata": {
            "tags": []
          },
          "execution_count": 12
        }
      ]
    },
    {
      "cell_type": "code",
      "metadata": {
        "id": "81wNSJl8jVAP"
      },
      "source": [
        ""
      ],
      "execution_count": null,
      "outputs": []
    },
    {
      "cell_type": "markdown",
      "metadata": {
        "id": "2PLa9SiBSG75"
      },
      "source": [
        "## change data type"
      ]
    },
    {
      "cell_type": "code",
      "metadata": {
        "id": "kozTh-3SSJEh"
      },
      "source": [
        "#get label of dataset\n",
        "content = df_new['Review'].values\n",
        "label = df_new[['negative', 'neutral', 'positive']].values"
      ],
      "execution_count": null,
      "outputs": []
    },
    {
      "cell_type": "markdown",
      "metadata": {
        "id": "uoSvGdHcQ8yg"
      },
      "source": [
        "## Build Train and test sets"
      ]
    },
    {
      "cell_type": "code",
      "metadata": {
        "id": "xxag8OX_RD0M"
      },
      "source": [
        "content_train, content_test, label_train, label_test = train_test_split(content, label, test_size=0.2)"
      ],
      "execution_count": null,
      "outputs": []
    },
    {
      "cell_type": "markdown",
      "metadata": {
        "id": "hTFhPogRUAwx"
      },
      "source": [
        "## Tokenizer"
      ]
    },
    {
      "cell_type": "code",
      "metadata": {
        "id": "zP8nyXUtUErv"
      },
      "source": [
        "tokenizer = Tokenizer(num_words=5000, oov_token='OOV')\n",
        "tokenizer.fit_on_texts(content_train) \n",
        " \n",
        "sekuens_train = tokenizer.texts_to_sequences(content_train)\n",
        "sekuens_test = tokenizer.texts_to_sequences(content_test)\n",
        " \n",
        "padded_train = pad_sequences(sekuens_train, padding='post', maxlen=20) \n",
        "padded_test = pad_sequences(sekuens_test, padding='post', maxlen=20)"
      ],
      "execution_count": null,
      "outputs": []
    },
    {
      "cell_type": "markdown",
      "metadata": {
        "id": "Nt2H0BWYUcHM"
      },
      "source": [
        "## Build Model"
      ]
    },
    {
      "cell_type": "code",
      "metadata": {
        "id": "UFqR9iEUUeml"
      },
      "source": [
        "#build model\n",
        "model = tf.keras.Sequential([\n",
        "    tf.keras.layers.Embedding(input_dim=5000, output_dim=8),\n",
        "    tf.keras.layers.LSTM(64),\n",
        "    tf.keras.layers.Dropout(0.2),\n",
        "    tf.keras.layers.Dense(128, activation='relu'),\n",
        "    tf.keras.layers.Dense(64, activation='relu'),\n",
        "    tf.keras.layers.Dense(3, activation='softmax')\n",
        "])\n",
        "model.compile(loss='categorical_crossentropy',optimizer='adam',metrics=['accuracy'])"
      ],
      "execution_count": null,
      "outputs": []
    },
    {
      "cell_type": "markdown",
      "metadata": {
        "id": "FsWElxuRSYSX"
      },
      "source": [
        "## Callback"
      ]
    },
    {
      "cell_type": "code",
      "metadata": {
        "id": "27oUkilzSaRD"
      },
      "source": [
        "#to stop train while acuracy greather than 90%\n",
        "class myCallback(tf.keras.callbacks.Callback):\n",
        "  def on_epoch_end(self, epoch, logs={}):\n",
        "    if(logs.get('accuracy') > 0.9 and logs.get('val_accuracy') > 0.9):\n",
        "      print(\"\\nAccuracy and val accuracy has reach >90%!\")\n",
        "      self.model.stop_training = True\n",
        "callbacks = myCallback()"
      ],
      "execution_count": null,
      "outputs": []
    },
    {
      "cell_type": "markdown",
      "metadata": {
        "id": "awgXvvnXUjyq"
      },
      "source": [
        "## Train"
      ]
    },
    {
      "cell_type": "code",
      "metadata": {
        "id": "pQaDyqjbUuT4",
        "colab": {
          "base_uri": "https://localhost:8080/"
        },
        "outputId": "b8ae4ccf-fd8f-4139-ad90-ab05434b5126"
      },
      "source": [
        "num_epochs = 50\n",
        "history = model.fit(padded_train, label_train, epochs=num_epochs, callbacks=[callbacks],\n",
        "                    validation_data=(padded_test, label_test), verbose=1)"
      ],
      "execution_count": null,
      "outputs": [
        {
          "output_type": "stream",
          "text": [
            "Epoch 1/50\n",
            "100/100 [==============================] - 4s 19ms/step - loss: 0.9159 - accuracy: 0.6745 - val_loss: 0.6924 - val_accuracy: 0.7148\n",
            "Epoch 2/50\n",
            "100/100 [==============================] - 1s 14ms/step - loss: 0.5621 - accuracy: 0.7611 - val_loss: 0.5492 - val_accuracy: 0.7814\n",
            "Epoch 3/50\n",
            "100/100 [==============================] - 1s 14ms/step - loss: 0.3950 - accuracy: 0.8255 - val_loss: 0.5558 - val_accuracy: 0.7940\n",
            "Epoch 4/50\n",
            "100/100 [==============================] - 1s 14ms/step - loss: 0.3029 - accuracy: 0.8925 - val_loss: 0.5995 - val_accuracy: 0.7802\n",
            "Epoch 5/50\n",
            "100/100 [==============================] - 1s 14ms/step - loss: 0.2443 - accuracy: 0.9122 - val_loss: 0.7708 - val_accuracy: 0.7412\n",
            "Epoch 6/50\n",
            "100/100 [==============================] - 1s 14ms/step - loss: 0.2340 - accuracy: 0.9104 - val_loss: 0.6816 - val_accuracy: 0.7575\n",
            "Epoch 7/50\n",
            "100/100 [==============================] - 1s 13ms/step - loss: 0.1881 - accuracy: 0.9375 - val_loss: 0.7866 - val_accuracy: 0.7437\n",
            "Epoch 8/50\n",
            "100/100 [==============================] - 1s 14ms/step - loss: 0.1720 - accuracy: 0.9480 - val_loss: 0.7780 - val_accuracy: 0.7651\n",
            "Epoch 9/50\n",
            "100/100 [==============================] - 1s 14ms/step - loss: 0.1562 - accuracy: 0.9468 - val_loss: 0.7814 - val_accuracy: 0.7714\n",
            "Epoch 10/50\n",
            "100/100 [==============================] - 1s 14ms/step - loss: 0.1562 - accuracy: 0.9485 - val_loss: 0.8121 - val_accuracy: 0.7437\n",
            "Epoch 11/50\n",
            "100/100 [==============================] - 1s 14ms/step - loss: 0.1372 - accuracy: 0.9604 - val_loss: 0.8296 - val_accuracy: 0.7374\n",
            "Epoch 12/50\n",
            "100/100 [==============================] - 1s 14ms/step - loss: 0.1515 - accuracy: 0.9499 - val_loss: 0.8093 - val_accuracy: 0.7550\n",
            "Epoch 13/50\n",
            "100/100 [==============================] - 1s 14ms/step - loss: 0.1223 - accuracy: 0.9633 - val_loss: 0.8727 - val_accuracy: 0.7688\n",
            "Epoch 14/50\n",
            "100/100 [==============================] - 1s 13ms/step - loss: 0.1137 - accuracy: 0.9640 - val_loss: 0.9810 - val_accuracy: 0.7751\n",
            "Epoch 15/50\n",
            "100/100 [==============================] - 1s 14ms/step - loss: 0.1293 - accuracy: 0.9574 - val_loss: 0.8996 - val_accuracy: 0.7575\n",
            "Epoch 16/50\n",
            "100/100 [==============================] - 1s 14ms/step - loss: 0.1152 - accuracy: 0.9643 - val_loss: 0.8560 - val_accuracy: 0.7714\n",
            "Epoch 17/50\n",
            "100/100 [==============================] - 1s 13ms/step - loss: 0.1096 - accuracy: 0.9697 - val_loss: 0.9557 - val_accuracy: 0.7663\n",
            "Epoch 18/50\n",
            "100/100 [==============================] - 1s 14ms/step - loss: 0.0870 - accuracy: 0.9752 - val_loss: 1.0721 - val_accuracy: 0.7525\n",
            "Epoch 19/50\n",
            "100/100 [==============================] - 1s 14ms/step - loss: 0.0858 - accuracy: 0.9769 - val_loss: 1.0062 - val_accuracy: 0.7613\n",
            "Epoch 20/50\n",
            "100/100 [==============================] - 1s 13ms/step - loss: 0.0886 - accuracy: 0.9708 - val_loss: 1.0705 - val_accuracy: 0.7613\n",
            "Epoch 21/50\n",
            "100/100 [==============================] - 1s 13ms/step - loss: 0.0863 - accuracy: 0.9717 - val_loss: 1.0199 - val_accuracy: 0.7626\n",
            "Epoch 22/50\n",
            "100/100 [==============================] - 1s 13ms/step - loss: 0.0880 - accuracy: 0.9724 - val_loss: 1.1358 - val_accuracy: 0.7626\n",
            "Epoch 23/50\n",
            "100/100 [==============================] - 1s 13ms/step - loss: 0.0694 - accuracy: 0.9770 - val_loss: 1.0922 - val_accuracy: 0.7613\n",
            "Epoch 24/50\n",
            "100/100 [==============================] - 1s 13ms/step - loss: 0.0831 - accuracy: 0.9742 - val_loss: 1.2875 - val_accuracy: 0.7588\n",
            "Epoch 25/50\n",
            "100/100 [==============================] - 1s 14ms/step - loss: 0.0780 - accuracy: 0.9755 - val_loss: 1.1436 - val_accuracy: 0.7613\n",
            "Epoch 26/50\n",
            "100/100 [==============================] - 1s 14ms/step - loss: 0.0798 - accuracy: 0.9746 - val_loss: 1.1033 - val_accuracy: 0.7588\n",
            "Epoch 27/50\n",
            "100/100 [==============================] - 1s 14ms/step - loss: 0.0782 - accuracy: 0.9758 - val_loss: 1.1798 - val_accuracy: 0.7613\n",
            "Epoch 28/50\n",
            "100/100 [==============================] - 1s 13ms/step - loss: 0.0916 - accuracy: 0.9676 - val_loss: 1.0426 - val_accuracy: 0.7626\n",
            "Epoch 29/50\n",
            "100/100 [==============================] - 1s 13ms/step - loss: 0.0925 - accuracy: 0.9702 - val_loss: 1.1194 - val_accuracy: 0.7663\n",
            "Epoch 30/50\n",
            "100/100 [==============================] - 1s 14ms/step - loss: 0.0787 - accuracy: 0.9779 - val_loss: 1.1222 - val_accuracy: 0.7651\n",
            "Epoch 31/50\n",
            "100/100 [==============================] - 1s 15ms/step - loss: 0.0768 - accuracy: 0.9727 - val_loss: 1.0759 - val_accuracy: 0.7638\n",
            "Epoch 32/50\n",
            "100/100 [==============================] - 1s 14ms/step - loss: 0.0789 - accuracy: 0.9779 - val_loss: 1.3003 - val_accuracy: 0.7563\n",
            "Epoch 33/50\n",
            "100/100 [==============================] - 1s 14ms/step - loss: 0.0766 - accuracy: 0.9776 - val_loss: 1.2035 - val_accuracy: 0.7638\n",
            "Epoch 34/50\n",
            "100/100 [==============================] - 2s 15ms/step - loss: 0.0853 - accuracy: 0.9707 - val_loss: 1.3273 - val_accuracy: 0.7399\n",
            "Epoch 35/50\n",
            "100/100 [==============================] - 1s 15ms/step - loss: 0.0922 - accuracy: 0.9719 - val_loss: 1.4360 - val_accuracy: 0.7651\n",
            "Epoch 36/50\n",
            "100/100 [==============================] - 1s 14ms/step - loss: 0.0842 - accuracy: 0.9769 - val_loss: 1.2919 - val_accuracy: 0.7663\n",
            "Epoch 37/50\n",
            "100/100 [==============================] - 1s 14ms/step - loss: 0.0676 - accuracy: 0.9790 - val_loss: 1.3859 - val_accuracy: 0.7676\n",
            "Epoch 38/50\n",
            "100/100 [==============================] - 1s 15ms/step - loss: 0.0588 - accuracy: 0.9823 - val_loss: 1.3561 - val_accuracy: 0.7688\n",
            "Epoch 39/50\n",
            "100/100 [==============================] - 1s 14ms/step - loss: 0.0564 - accuracy: 0.9879 - val_loss: 1.3329 - val_accuracy: 0.7651\n",
            "Epoch 40/50\n",
            "100/100 [==============================] - 1s 14ms/step - loss: 0.0510 - accuracy: 0.9818 - val_loss: 1.3941 - val_accuracy: 0.7601\n",
            "Epoch 41/50\n",
            "100/100 [==============================] - 1s 15ms/step - loss: 0.0667 - accuracy: 0.9782 - val_loss: 1.2758 - val_accuracy: 0.7676\n",
            "Epoch 42/50\n",
            "100/100 [==============================] - 1s 15ms/step - loss: 0.0626 - accuracy: 0.9792 - val_loss: 1.5456 - val_accuracy: 0.7651\n",
            "Epoch 43/50\n",
            "100/100 [==============================] - 1s 14ms/step - loss: 0.0473 - accuracy: 0.9862 - val_loss: 1.4551 - val_accuracy: 0.7651\n",
            "Epoch 44/50\n",
            "100/100 [==============================] - 1s 14ms/step - loss: 0.0693 - accuracy: 0.9750 - val_loss: 1.4892 - val_accuracy: 0.7651\n",
            "Epoch 45/50\n",
            "100/100 [==============================] - 1s 14ms/step - loss: 0.0532 - accuracy: 0.9849 - val_loss: 1.4901 - val_accuracy: 0.7550\n",
            "Epoch 46/50\n",
            "100/100 [==============================] - 2s 15ms/step - loss: 0.0627 - accuracy: 0.9807 - val_loss: 1.6361 - val_accuracy: 0.7626\n",
            "Epoch 47/50\n",
            "100/100 [==============================] - 1s 15ms/step - loss: 0.0612 - accuracy: 0.9799 - val_loss: 1.4905 - val_accuracy: 0.7575\n",
            "Epoch 48/50\n",
            "100/100 [==============================] - 2s 16ms/step - loss: 0.0470 - accuracy: 0.9856 - val_loss: 1.3728 - val_accuracy: 0.7613\n",
            "Epoch 49/50\n",
            "100/100 [==============================] - 1s 15ms/step - loss: 0.0552 - accuracy: 0.9825 - val_loss: 1.5237 - val_accuracy: 0.7362\n",
            "Epoch 50/50\n",
            "100/100 [==============================] - 1s 14ms/step - loss: 0.0634 - accuracy: 0.9784 - val_loss: 1.3220 - val_accuracy: 0.7563\n"
          ],
          "name": "stdout"
        }
      ]
    },
    {
      "cell_type": "code",
      "metadata": {
        "colab": {
          "base_uri": "https://localhost:8080/",
          "height": 295
        },
        "id": "Zviv5bg-iPCt",
        "outputId": "10371f98-ed23-43ff-ef83-e9ee07b0ee10"
      },
      "source": [
        "import keras\n",
        "from matplotlib import pyplot as plt\n",
        "plt.plot(history.history['accuracy'])\n",
        "plt.plot(history.history['val_accuracy'])\n",
        "plt.plot(history.history['loss'])\n",
        "plt.plot(history.history['val_loss'])\n",
        "plt.title('model accuracy')\n",
        "plt.ylabel('accuracy')\n",
        "plt.xlabel('epoch')\n",
        "plt.legend(['train_acc', 'val_acc', 'train_loss','val_loss'], loc='upper left')\n",
        "plt.show()"
      ],
      "execution_count": null,
      "outputs": [
        {
          "output_type": "display_data",
          "data": {
            "image/png": "[encoded data removed]",
            "text/plain": [
              "<Figure size 432x288 with 1 Axes>"
            ]
          },
          "metadata": {
            "tags": [],
            "needs_background": "light"
          }
        }
      ]
    },
    {
      "cell_type": "code",
      "metadata": {
        "id": "t5_29JD_r2b_"
      },
      "source": [
        ""
      ],
      "execution_count": null,
      "outputs": []
    }
  ]
}