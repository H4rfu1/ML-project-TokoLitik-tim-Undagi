{
  "nbformat": 4,
  "nbformat_minor": 0,
  "metadata": {
    "colab": {
      "name": "DatasetPreparationAndLabelling.ipynb",
      "provenance": [],
      "collapsed_sections": [
        "qwStiV9pLsKN",
        "NBrwTpsBDiJc",
        "ZFlCywWDMbz0",
        "JnsIV8fJO5YY",
        "oF4UxCfDDkXm",
        "IelZ8SbrOdUm"
      ],
      "toc_visible": true
    },
    "kernelspec": {
      "name": "python3",
      "display_name": "Python 3"
    },
    "language_info": {
      "name": "python"
    }
  },
  "cells": [
    {
      "cell_type": "markdown",
      "metadata": {
        "id": "d7mkikPVC7jl"
      },
      "source": [
        "Dataset Preparation:\n",
        "- remove missing values\n",
        "- cleaning data (emoji, new line, not string character, etc)\n",
        "- Remove duplicate data\n",
        "\n",
        "Data Labelling:\n",
        "- Manually labeling classes of each row between neutral, positive and negativ review"
      ]
    },
    {
      "cell_type": "markdown",
      "metadata": {
        "id": "qwStiV9pLsKN"
      },
      "source": [
        "# Import Required Library"
      ]
    },
    {
      "cell_type": "code",
      "metadata": {
        "id": "lMAb6ZOxLk5V"
      },
      "source": [
        "import pandas as pd\n",
        "import tensorflow as tf\n",
        "import re\n",
        "import time"
      ],
      "execution_count": 8,
      "outputs": []
    },
    {
      "cell_type": "markdown",
      "metadata": {
        "id": "NBrwTpsBDiJc"
      },
      "source": [
        "#dataset Preparation"
      ]
    },
    {
      "cell_type": "markdown",
      "metadata": {
        "id": "ZFlCywWDMbz0"
      },
      "source": [
        "## Load Dataset"
      ]
    },
    {
      "cell_type": "code",
      "metadata": {
        "id": "zMi41yXRaX0f",
        "colab": {
          "base_uri": "https://localhost:8080/"
        },
        "outputId": "74a82af2-1948-4515-d276-534b5a07b3e9"
      },
      "source": [
        "#Data from crawl in github repo\n",
        "!wget https://raw.githubusercontent.com/H4rfu1/ML-project-TokoLitik-tim-Undagi/main/Response/dataset_review_tokped.csv"
      ],
      "execution_count": null,
      "outputs": [
        {
          "output_type": "stream",
          "text": [
            "--2021-05-10 07:35:51--  https://raw.githubusercontent.com/H4rfu1/ML-project-TokoLitik-tim-Undagi/main/Response/dataset_review_tokped.csv\n",
            "Resolving raw.githubusercontent.com (raw.githubusercontent.com)... 185.199.108.133, 185.199.109.133, 185.199.110.133, ...\n",
            "Connecting to raw.githubusercontent.com (raw.githubusercontent.com)|185.199.108.133|:443... connected.\n",
            "HTTP request sent, awaiting response... 200 OK\n",
            "Length: 346752 (339K) [text/plain]\n",
            "Saving to: ‘dataset_review_tokped.csv’\n",
            "\n",
            "dataset_review_tokp 100%[===================>] 338.62K  --.-KB/s    in 0.04s   \n",
            "\n",
            "2021-05-10 07:35:51 (9.10 MB/s) - ‘dataset_review_tokped.csv’ saved [346752/346752]\n",
            "\n"
          ],
          "name": "stdout"
        }
      ]
    },
    {
      "cell_type": "code",
      "metadata": {
        "id": "sZDh4uDCd1Cv",
        "colab": {
          "base_uri": "https://localhost:8080/",
          "height": 419
        },
        "outputId": "afca86f9-c5a2-4e3e-9266-8e7ce58f304b"
      },
      "source": [
        "#dataset from crawling process\n",
        "df = pd.read_csv('/content/dataset_review_tokped.csv', index_col=[0])\n",
        "df"
      ],
      "execution_count": null,
      "outputs": [
        {
          "output_type": "execute_result",
          "data": {
            "text/html": [
              "<div>\n",
              "<style scoped>\n",
              "    .dataframe tbody tr th:only-of-type {\n",
              "        vertical-align: middle;\n",
              "    }\n",
              "\n",
              "    .dataframe tbody tr th {\n",
              "        vertical-align: top;\n",
              "    }\n",
              "\n",
              "    .dataframe thead th {\n",
              "        text-align: right;\n",
              "    }\n",
              "</style>\n",
              "<table border=\"1\" class=\"dataframe\">\n",
              "  <thead>\n",
              "    <tr style=\"text-align: right;\">\n",
              "      <th></th>\n",
              "      <th>Review</th>\n",
              "      <th>Rating</th>\n",
              "    </tr>\n",
              "  </thead>\n",
              "  <tbody>\n",
              "    <tr>\n",
              "      <th>0</th>\n",
              "      <td>maaantap</td>\n",
              "      <td>5</td>\n",
              "    </tr>\n",
              "    <tr>\n",
              "      <th>1</th>\n",
              "      <td>Enak &amp; segar</td>\n",
              "      <td>5</td>\n",
              "    </tr>\n",
              "    <tr>\n",
              "      <th>2</th>\n",
              "      <td>maknyus</td>\n",
              "      <td>5</td>\n",
              "    </tr>\n",
              "    <tr>\n",
              "      <th>3</th>\n",
              "      <td>Dari berat 500 gram yg remuk 59 gram.\\nEntah d...</td>\n",
              "      <td>4</td>\n",
              "    </tr>\n",
              "    <tr>\n",
              "      <th>4</th>\n",
              "      <td>enak banget, fresh dan renyah!</td>\n",
              "      <td>5</td>\n",
              "    </tr>\n",
              "    <tr>\n",
              "      <th>...</th>\n",
              "      <td>...</td>\n",
              "      <td>...</td>\n",
              "    </tr>\n",
              "    <tr>\n",
              "      <th>5423</th>\n",
              "      <td>good product, trusted seller 👍👍</td>\n",
              "      <td>5</td>\n",
              "    </tr>\n",
              "    <tr>\n",
              "      <th>5424</th>\n",
              "      <td>sudah beli yg ke 3 ..</td>\n",
              "      <td>5</td>\n",
              "    </tr>\n",
              "    <tr>\n",
              "      <th>5425</th>\n",
              "      <td>byk campurannya</td>\n",
              "      <td>4</td>\n",
              "    </tr>\n",
              "    <tr>\n",
              "      <th>5426</th>\n",
              "      <td>good</td>\n",
              "      <td>5</td>\n",
              "    </tr>\n",
              "    <tr>\n",
              "      <th>5427</th>\n",
              "      <td>good</td>\n",
              "      <td>4</td>\n",
              "    </tr>\n",
              "  </tbody>\n",
              "</table>\n",
              "<p>5428 rows × 2 columns</p>\n",
              "</div>"
            ],
            "text/plain": [
              "                                                 Review  Rating\n",
              "0                                              maaantap       5\n",
              "1                                          Enak & segar       5\n",
              "2                                               maknyus       5\n",
              "3     Dari berat 500 gram yg remuk 59 gram.\\nEntah d...       4\n",
              "4                        enak banget, fresh dan renyah!       5\n",
              "...                                                 ...     ...\n",
              "5423                    good product, trusted seller 👍👍       5\n",
              "5424                              sudah beli yg ke 3 ..       5\n",
              "5425                                    byk campurannya       4\n",
              "5426                                               good       5\n",
              "5427                                               good       4\n",
              "\n",
              "[5428 rows x 2 columns]"
            ]
          },
          "metadata": {
            "tags": []
          },
          "execution_count": 84
        }
      ]
    },
    {
      "cell_type": "markdown",
      "metadata": {
        "id": "91fHaqZnOzVa"
      },
      "source": [
        "##Cleaning Process"
      ]
    },
    {
      "cell_type": "code",
      "metadata": {
        "colab": {
          "base_uri": "https://localhost:8080/",
          "height": 419
        },
        "id": "dEzt1zrTDnFs",
        "outputId": "eef389b0-0e93-43bd-c100-bfce3972ef3c"
      },
      "source": [
        "#remove messy enter charracter\n",
        "df.replace(to_replace=[r\"\\\\t|\\\\n|\\\\r\", \"\\t|\\n|\\r\"], value=[\" \",\" \"], regex=True, inplace=True)\n",
        "df"
      ],
      "execution_count": null,
      "outputs": [
        {
          "output_type": "execute_result",
          "data": {
            "text/html": [
              "<div>\n",
              "<style scoped>\n",
              "    .dataframe tbody tr th:only-of-type {\n",
              "        vertical-align: middle;\n",
              "    }\n",
              "\n",
              "    .dataframe tbody tr th {\n",
              "        vertical-align: top;\n",
              "    }\n",
              "\n",
              "    .dataframe thead th {\n",
              "        text-align: right;\n",
              "    }\n",
              "</style>\n",
              "<table border=\"1\" class=\"dataframe\">\n",
              "  <thead>\n",
              "    <tr style=\"text-align: right;\">\n",
              "      <th></th>\n",
              "      <th>Review</th>\n",
              "      <th>Rating</th>\n",
              "    </tr>\n",
              "  </thead>\n",
              "  <tbody>\n",
              "    <tr>\n",
              "      <th>0</th>\n",
              "      <td>maaantap</td>\n",
              "      <td>5</td>\n",
              "    </tr>\n",
              "    <tr>\n",
              "      <th>1</th>\n",
              "      <td>Enak &amp; segar</td>\n",
              "      <td>5</td>\n",
              "    </tr>\n",
              "    <tr>\n",
              "      <th>2</th>\n",
              "      <td>maknyus</td>\n",
              "      <td>5</td>\n",
              "    </tr>\n",
              "    <tr>\n",
              "      <th>3</th>\n",
              "      <td>Dari berat 500 gram yg remuk 59 gram. Entah da...</td>\n",
              "      <td>4</td>\n",
              "    </tr>\n",
              "    <tr>\n",
              "      <th>4</th>\n",
              "      <td>enak banget, fresh dan renyah!</td>\n",
              "      <td>5</td>\n",
              "    </tr>\n",
              "    <tr>\n",
              "      <th>...</th>\n",
              "      <td>...</td>\n",
              "      <td>...</td>\n",
              "    </tr>\n",
              "    <tr>\n",
              "      <th>5423</th>\n",
              "      <td>good product, trusted seller 👍👍</td>\n",
              "      <td>5</td>\n",
              "    </tr>\n",
              "    <tr>\n",
              "      <th>5424</th>\n",
              "      <td>sudah beli yg ke 3 ..</td>\n",
              "      <td>5</td>\n",
              "    </tr>\n",
              "    <tr>\n",
              "      <th>5425</th>\n",
              "      <td>byk campurannya</td>\n",
              "      <td>4</td>\n",
              "    </tr>\n",
              "    <tr>\n",
              "      <th>5426</th>\n",
              "      <td>good</td>\n",
              "      <td>5</td>\n",
              "    </tr>\n",
              "    <tr>\n",
              "      <th>5427</th>\n",
              "      <td>good</td>\n",
              "      <td>4</td>\n",
              "    </tr>\n",
              "  </tbody>\n",
              "</table>\n",
              "<p>5428 rows × 2 columns</p>\n",
              "</div>"
            ],
            "text/plain": [
              "                                                 Review  Rating\n",
              "0                                              maaantap       5\n",
              "1                                          Enak & segar       5\n",
              "2                                               maknyus       5\n",
              "3     Dari berat 500 gram yg remuk 59 gram. Entah da...       4\n",
              "4                        enak banget, fresh dan renyah!       5\n",
              "...                                                 ...     ...\n",
              "5423                    good product, trusted seller 👍👍       5\n",
              "5424                              sudah beli yg ke 3 ..       5\n",
              "5425                                    byk campurannya       4\n",
              "5426                                               good       5\n",
              "5427                                               good       4\n",
              "\n",
              "[5428 rows x 2 columns]"
            ]
          },
          "metadata": {
            "tags": []
          },
          "execution_count": 85
        }
      ]
    },
    {
      "cell_type": "code",
      "metadata": {
        "colab": {
          "base_uri": "https://localhost:8080/",
          "height": 419
        },
        "id": "xqIGBu73HOXP",
        "outputId": "04d09ea6-1815-4ad6-c960-c55a32ba5a9b"
      },
      "source": [
        "#remove emoji\n",
        "df['Review'] = df['Review'].str.replace('[^\\w\\s#@/:%.,_-]', '', flags=re.UNICODE)\n",
        "# df = df.astype(str).apply(lambda x: x.str.encode('ascii', 'ignore').str.decode('ascii'))\n",
        "df"
      ],
      "execution_count": null,
      "outputs": [
        {
          "output_type": "execute_result",
          "data": {
            "text/html": [
              "<div>\n",
              "<style scoped>\n",
              "    .dataframe tbody tr th:only-of-type {\n",
              "        vertical-align: middle;\n",
              "    }\n",
              "\n",
              "    .dataframe tbody tr th {\n",
              "        vertical-align: top;\n",
              "    }\n",
              "\n",
              "    .dataframe thead th {\n",
              "        text-align: right;\n",
              "    }\n",
              "</style>\n",
              "<table border=\"1\" class=\"dataframe\">\n",
              "  <thead>\n",
              "    <tr style=\"text-align: right;\">\n",
              "      <th></th>\n",
              "      <th>Review</th>\n",
              "      <th>Rating</th>\n",
              "    </tr>\n",
              "  </thead>\n",
              "  <tbody>\n",
              "    <tr>\n",
              "      <th>0</th>\n",
              "      <td>maaantap</td>\n",
              "      <td>5</td>\n",
              "    </tr>\n",
              "    <tr>\n",
              "      <th>1</th>\n",
              "      <td>Enak  segar</td>\n",
              "      <td>5</td>\n",
              "    </tr>\n",
              "    <tr>\n",
              "      <th>2</th>\n",
              "      <td>maknyus</td>\n",
              "      <td>5</td>\n",
              "    </tr>\n",
              "    <tr>\n",
              "      <th>3</th>\n",
              "      <td>Dari berat 500 gram yg remuk 59 gram. Entah da...</td>\n",
              "      <td>4</td>\n",
              "    </tr>\n",
              "    <tr>\n",
              "      <th>4</th>\n",
              "      <td>enak banget, fresh dan renyah</td>\n",
              "      <td>5</td>\n",
              "    </tr>\n",
              "    <tr>\n",
              "      <th>...</th>\n",
              "      <td>...</td>\n",
              "      <td>...</td>\n",
              "    </tr>\n",
              "    <tr>\n",
              "      <th>5423</th>\n",
              "      <td>good product, trusted seller</td>\n",
              "      <td>5</td>\n",
              "    </tr>\n",
              "    <tr>\n",
              "      <th>5424</th>\n",
              "      <td>sudah beli yg ke 3 ..</td>\n",
              "      <td>5</td>\n",
              "    </tr>\n",
              "    <tr>\n",
              "      <th>5425</th>\n",
              "      <td>byk campurannya</td>\n",
              "      <td>4</td>\n",
              "    </tr>\n",
              "    <tr>\n",
              "      <th>5426</th>\n",
              "      <td>good</td>\n",
              "      <td>5</td>\n",
              "    </tr>\n",
              "    <tr>\n",
              "      <th>5427</th>\n",
              "      <td>good</td>\n",
              "      <td>4</td>\n",
              "    </tr>\n",
              "  </tbody>\n",
              "</table>\n",
              "<p>5428 rows × 2 columns</p>\n",
              "</div>"
            ],
            "text/plain": [
              "                                                 Review  Rating\n",
              "0                                              maaantap       5\n",
              "1                                           Enak  segar       5\n",
              "2                                               maknyus       5\n",
              "3     Dari berat 500 gram yg remuk 59 gram. Entah da...       4\n",
              "4                         enak banget, fresh dan renyah       5\n",
              "...                                                 ...     ...\n",
              "5423                      good product, trusted seller        5\n",
              "5424                              sudah beli yg ke 3 ..       5\n",
              "5425                                    byk campurannya       4\n",
              "5426                                               good       5\n",
              "5427                                               good       4\n",
              "\n",
              "[5428 rows x 2 columns]"
            ]
          },
          "metadata": {
            "tags": []
          },
          "execution_count": 86
        }
      ]
    },
    {
      "cell_type": "code",
      "metadata": {
        "colab": {
          "base_uri": "https://localhost:8080/",
          "height": 419
        },
        "id": "RxgHlxKKIGHk",
        "outputId": "edf8efdb-4aea-4803-b117-cf894a1d5a60"
      },
      "source": [
        "#conver data to lowercase\n",
        "df['Review'] = df['Review'].str.lower()\n",
        "df"
      ],
      "execution_count": null,
      "outputs": [
        {
          "output_type": "execute_result",
          "data": {
            "text/html": [
              "<div>\n",
              "<style scoped>\n",
              "    .dataframe tbody tr th:only-of-type {\n",
              "        vertical-align: middle;\n",
              "    }\n",
              "\n",
              "    .dataframe tbody tr th {\n",
              "        vertical-align: top;\n",
              "    }\n",
              "\n",
              "    .dataframe thead th {\n",
              "        text-align: right;\n",
              "    }\n",
              "</style>\n",
              "<table border=\"1\" class=\"dataframe\">\n",
              "  <thead>\n",
              "    <tr style=\"text-align: right;\">\n",
              "      <th></th>\n",
              "      <th>Review</th>\n",
              "      <th>Rating</th>\n",
              "    </tr>\n",
              "  </thead>\n",
              "  <tbody>\n",
              "    <tr>\n",
              "      <th>0</th>\n",
              "      <td>maaantap</td>\n",
              "      <td>5</td>\n",
              "    </tr>\n",
              "    <tr>\n",
              "      <th>1</th>\n",
              "      <td>enak  segar</td>\n",
              "      <td>5</td>\n",
              "    </tr>\n",
              "    <tr>\n",
              "      <th>2</th>\n",
              "      <td>maknyus</td>\n",
              "      <td>5</td>\n",
              "    </tr>\n",
              "    <tr>\n",
              "      <th>3</th>\n",
              "      <td>dari berat 500 gram yg remuk 59 gram. entah da...</td>\n",
              "      <td>4</td>\n",
              "    </tr>\n",
              "    <tr>\n",
              "      <th>4</th>\n",
              "      <td>enak banget, fresh dan renyah</td>\n",
              "      <td>5</td>\n",
              "    </tr>\n",
              "    <tr>\n",
              "      <th>...</th>\n",
              "      <td>...</td>\n",
              "      <td>...</td>\n",
              "    </tr>\n",
              "    <tr>\n",
              "      <th>5423</th>\n",
              "      <td>good product, trusted seller</td>\n",
              "      <td>5</td>\n",
              "    </tr>\n",
              "    <tr>\n",
              "      <th>5424</th>\n",
              "      <td>sudah beli yg ke 3 ..</td>\n",
              "      <td>5</td>\n",
              "    </tr>\n",
              "    <tr>\n",
              "      <th>5425</th>\n",
              "      <td>byk campurannya</td>\n",
              "      <td>4</td>\n",
              "    </tr>\n",
              "    <tr>\n",
              "      <th>5426</th>\n",
              "      <td>good</td>\n",
              "      <td>5</td>\n",
              "    </tr>\n",
              "    <tr>\n",
              "      <th>5427</th>\n",
              "      <td>good</td>\n",
              "      <td>4</td>\n",
              "    </tr>\n",
              "  </tbody>\n",
              "</table>\n",
              "<p>5428 rows × 2 columns</p>\n",
              "</div>"
            ],
            "text/plain": [
              "                                                 Review  Rating\n",
              "0                                              maaantap       5\n",
              "1                                           enak  segar       5\n",
              "2                                               maknyus       5\n",
              "3     dari berat 500 gram yg remuk 59 gram. entah da...       4\n",
              "4                         enak banget, fresh dan renyah       5\n",
              "...                                                 ...     ...\n",
              "5423                      good product, trusted seller        5\n",
              "5424                              sudah beli yg ke 3 ..       5\n",
              "5425                                    byk campurannya       4\n",
              "5426                                               good       5\n",
              "5427                                               good       4\n",
              "\n",
              "[5428 rows x 2 columns]"
            ]
          },
          "metadata": {
            "tags": []
          },
          "execution_count": 87
        }
      ]
    },
    {
      "cell_type": "code",
      "metadata": {
        "colab": {
          "base_uri": "https://localhost:8080/",
          "height": 419
        },
        "id": "sZlmrAcGKvem",
        "outputId": "80c4db75-5c27-45fc-96c0-8caa90cdaa61"
      },
      "source": [
        "df[\"Review\"] = df['Review'].str.replace('[^\\w\\s]',' ')\n",
        "df"
      ],
      "execution_count": null,
      "outputs": [
        {
          "output_type": "execute_result",
          "data": {
            "text/html": [
              "<div>\n",
              "<style scoped>\n",
              "    .dataframe tbody tr th:only-of-type {\n",
              "        vertical-align: middle;\n",
              "    }\n",
              "\n",
              "    .dataframe tbody tr th {\n",
              "        vertical-align: top;\n",
              "    }\n",
              "\n",
              "    .dataframe thead th {\n",
              "        text-align: right;\n",
              "    }\n",
              "</style>\n",
              "<table border=\"1\" class=\"dataframe\">\n",
              "  <thead>\n",
              "    <tr style=\"text-align: right;\">\n",
              "      <th></th>\n",
              "      <th>Review</th>\n",
              "      <th>Rating</th>\n",
              "    </tr>\n",
              "  </thead>\n",
              "  <tbody>\n",
              "    <tr>\n",
              "      <th>0</th>\n",
              "      <td>maaantap</td>\n",
              "      <td>5</td>\n",
              "    </tr>\n",
              "    <tr>\n",
              "      <th>1</th>\n",
              "      <td>enak  segar</td>\n",
              "      <td>5</td>\n",
              "    </tr>\n",
              "    <tr>\n",
              "      <th>2</th>\n",
              "      <td>maknyus</td>\n",
              "      <td>5</td>\n",
              "    </tr>\n",
              "    <tr>\n",
              "      <th>3</th>\n",
              "      <td>dari berat 500 gram yg remuk 59 gram  entah da...</td>\n",
              "      <td>4</td>\n",
              "    </tr>\n",
              "    <tr>\n",
              "      <th>4</th>\n",
              "      <td>enak banget  fresh dan renyah</td>\n",
              "      <td>5</td>\n",
              "    </tr>\n",
              "    <tr>\n",
              "      <th>...</th>\n",
              "      <td>...</td>\n",
              "      <td>...</td>\n",
              "    </tr>\n",
              "    <tr>\n",
              "      <th>5423</th>\n",
              "      <td>good product  trusted seller</td>\n",
              "      <td>5</td>\n",
              "    </tr>\n",
              "    <tr>\n",
              "      <th>5424</th>\n",
              "      <td>sudah beli yg ke 3</td>\n",
              "      <td>5</td>\n",
              "    </tr>\n",
              "    <tr>\n",
              "      <th>5425</th>\n",
              "      <td>byk campurannya</td>\n",
              "      <td>4</td>\n",
              "    </tr>\n",
              "    <tr>\n",
              "      <th>5426</th>\n",
              "      <td>good</td>\n",
              "      <td>5</td>\n",
              "    </tr>\n",
              "    <tr>\n",
              "      <th>5427</th>\n",
              "      <td>good</td>\n",
              "      <td>4</td>\n",
              "    </tr>\n",
              "  </tbody>\n",
              "</table>\n",
              "<p>5428 rows × 2 columns</p>\n",
              "</div>"
            ],
            "text/plain": [
              "                                                 Review  Rating\n",
              "0                                              maaantap       5\n",
              "1                                           enak  segar       5\n",
              "2                                               maknyus       5\n",
              "3     dari berat 500 gram yg remuk 59 gram  entah da...       4\n",
              "4                         enak banget  fresh dan renyah       5\n",
              "...                                                 ...     ...\n",
              "5423                      good product  trusted seller        5\n",
              "5424                              sudah beli yg ke 3          5\n",
              "5425                                    byk campurannya       4\n",
              "5426                                               good       5\n",
              "5427                                               good       4\n",
              "\n",
              "[5428 rows x 2 columns]"
            ]
          },
          "metadata": {
            "tags": []
          },
          "execution_count": 88
        }
      ]
    },
    {
      "cell_type": "code",
      "metadata": {
        "colab": {
          "base_uri": "https://localhost:8080/",
          "height": 419
        },
        "id": "Mi8U1jGeIdUY",
        "outputId": "6dec8315-ca15-489a-a939-e8bb5d12dbeb"
      },
      "source": [
        "# multiple space\n",
        "df['Review'] = df['Review'].str.replace(' {2,}', ' ', regex=True)\n",
        "df['Review'] = df['Review'].str.strip()\n",
        "df"
      ],
      "execution_count": null,
      "outputs": [
        {
          "output_type": "execute_result",
          "data": {
            "text/html": [
              "<div>\n",
              "<style scoped>\n",
              "    .dataframe tbody tr th:only-of-type {\n",
              "        vertical-align: middle;\n",
              "    }\n",
              "\n",
              "    .dataframe tbody tr th {\n",
              "        vertical-align: top;\n",
              "    }\n",
              "\n",
              "    .dataframe thead th {\n",
              "        text-align: right;\n",
              "    }\n",
              "</style>\n",
              "<table border=\"1\" class=\"dataframe\">\n",
              "  <thead>\n",
              "    <tr style=\"text-align: right;\">\n",
              "      <th></th>\n",
              "      <th>Review</th>\n",
              "      <th>Rating</th>\n",
              "    </tr>\n",
              "  </thead>\n",
              "  <tbody>\n",
              "    <tr>\n",
              "      <th>0</th>\n",
              "      <td>maaantap</td>\n",
              "      <td>5</td>\n",
              "    </tr>\n",
              "    <tr>\n",
              "      <th>1</th>\n",
              "      <td>enak segar</td>\n",
              "      <td>5</td>\n",
              "    </tr>\n",
              "    <tr>\n",
              "      <th>2</th>\n",
              "      <td>maknyus</td>\n",
              "      <td>5</td>\n",
              "    </tr>\n",
              "    <tr>\n",
              "      <th>3</th>\n",
              "      <td>dari berat 500 gram yg remuk 59 gram entah dar...</td>\n",
              "      <td>4</td>\n",
              "    </tr>\n",
              "    <tr>\n",
              "      <th>4</th>\n",
              "      <td>enak banget fresh dan renyah</td>\n",
              "      <td>5</td>\n",
              "    </tr>\n",
              "    <tr>\n",
              "      <th>...</th>\n",
              "      <td>...</td>\n",
              "      <td>...</td>\n",
              "    </tr>\n",
              "    <tr>\n",
              "      <th>5423</th>\n",
              "      <td>good product trusted seller</td>\n",
              "      <td>5</td>\n",
              "    </tr>\n",
              "    <tr>\n",
              "      <th>5424</th>\n",
              "      <td>sudah beli yg ke 3</td>\n",
              "      <td>5</td>\n",
              "    </tr>\n",
              "    <tr>\n",
              "      <th>5425</th>\n",
              "      <td>byk campurannya</td>\n",
              "      <td>4</td>\n",
              "    </tr>\n",
              "    <tr>\n",
              "      <th>5426</th>\n",
              "      <td>good</td>\n",
              "      <td>5</td>\n",
              "    </tr>\n",
              "    <tr>\n",
              "      <th>5427</th>\n",
              "      <td>good</td>\n",
              "      <td>4</td>\n",
              "    </tr>\n",
              "  </tbody>\n",
              "</table>\n",
              "<p>5428 rows × 2 columns</p>\n",
              "</div>"
            ],
            "text/plain": [
              "                                                 Review  Rating\n",
              "0                                              maaantap       5\n",
              "1                                            enak segar       5\n",
              "2                                               maknyus       5\n",
              "3     dari berat 500 gram yg remuk 59 gram entah dar...       4\n",
              "4                          enak banget fresh dan renyah       5\n",
              "...                                                 ...     ...\n",
              "5423                        good product trusted seller       5\n",
              "5424                                 sudah beli yg ke 3       5\n",
              "5425                                    byk campurannya       4\n",
              "5426                                               good       5\n",
              "5427                                               good       4\n",
              "\n",
              "[5428 rows x 2 columns]"
            ]
          },
          "metadata": {
            "tags": []
          },
          "execution_count": 89
        }
      ]
    },
    {
      "cell_type": "code",
      "metadata": {
        "colab": {
          "base_uri": "https://localhost:8080/",
          "height": 521
        },
        "id": "1LXz_bBHIo6r",
        "outputId": "54c79a70-34e1-4909-c96f-bacc2f290da9"
      },
      "source": [
        "#Drop Empty Rows\n",
        "print(df.isnull().sum())\n",
        "df.dropna(inplace = True)\n",
        "print(df.isnull().sum())\n",
        "df['Review'].astype(bool)\n",
        "df = df[df['Review'].astype(bool)]\n",
        "df"
      ],
      "execution_count": null,
      "outputs": [
        {
          "output_type": "stream",
          "text": [
            "Review    305\n",
            "Rating      0\n",
            "dtype: int64\n",
            "Review    0\n",
            "Rating    0\n",
            "dtype: int64\n"
          ],
          "name": "stdout"
        },
        {
          "output_type": "execute_result",
          "data": {
            "text/html": [
              "<div>\n",
              "<style scoped>\n",
              "    .dataframe tbody tr th:only-of-type {\n",
              "        vertical-align: middle;\n",
              "    }\n",
              "\n",
              "    .dataframe tbody tr th {\n",
              "        vertical-align: top;\n",
              "    }\n",
              "\n",
              "    .dataframe thead th {\n",
              "        text-align: right;\n",
              "    }\n",
              "</style>\n",
              "<table border=\"1\" class=\"dataframe\">\n",
              "  <thead>\n",
              "    <tr style=\"text-align: right;\">\n",
              "      <th></th>\n",
              "      <th>Review</th>\n",
              "      <th>Rating</th>\n",
              "    </tr>\n",
              "  </thead>\n",
              "  <tbody>\n",
              "    <tr>\n",
              "      <th>0</th>\n",
              "      <td>maaantap</td>\n",
              "      <td>5</td>\n",
              "    </tr>\n",
              "    <tr>\n",
              "      <th>1</th>\n",
              "      <td>enak segar</td>\n",
              "      <td>5</td>\n",
              "    </tr>\n",
              "    <tr>\n",
              "      <th>2</th>\n",
              "      <td>maknyus</td>\n",
              "      <td>5</td>\n",
              "    </tr>\n",
              "    <tr>\n",
              "      <th>3</th>\n",
              "      <td>dari berat 500 gram yg remuk 59 gram entah dar...</td>\n",
              "      <td>4</td>\n",
              "    </tr>\n",
              "    <tr>\n",
              "      <th>4</th>\n",
              "      <td>enak banget fresh dan renyah</td>\n",
              "      <td>5</td>\n",
              "    </tr>\n",
              "    <tr>\n",
              "      <th>...</th>\n",
              "      <td>...</td>\n",
              "      <td>...</td>\n",
              "    </tr>\n",
              "    <tr>\n",
              "      <th>5423</th>\n",
              "      <td>good product trusted seller</td>\n",
              "      <td>5</td>\n",
              "    </tr>\n",
              "    <tr>\n",
              "      <th>5424</th>\n",
              "      <td>sudah beli yg ke 3</td>\n",
              "      <td>5</td>\n",
              "    </tr>\n",
              "    <tr>\n",
              "      <th>5425</th>\n",
              "      <td>byk campurannya</td>\n",
              "      <td>4</td>\n",
              "    </tr>\n",
              "    <tr>\n",
              "      <th>5426</th>\n",
              "      <td>good</td>\n",
              "      <td>5</td>\n",
              "    </tr>\n",
              "    <tr>\n",
              "      <th>5427</th>\n",
              "      <td>good</td>\n",
              "      <td>4</td>\n",
              "    </tr>\n",
              "  </tbody>\n",
              "</table>\n",
              "<p>5028 rows × 2 columns</p>\n",
              "</div>"
            ],
            "text/plain": [
              "                                                 Review  Rating\n",
              "0                                              maaantap       5\n",
              "1                                            enak segar       5\n",
              "2                                               maknyus       5\n",
              "3     dari berat 500 gram yg remuk 59 gram entah dar...       4\n",
              "4                          enak banget fresh dan renyah       5\n",
              "...                                                 ...     ...\n",
              "5423                        good product trusted seller       5\n",
              "5424                                 sudah beli yg ke 3       5\n",
              "5425                                    byk campurannya       4\n",
              "5426                                               good       5\n",
              "5427                                               good       4\n",
              "\n",
              "[5028 rows x 2 columns]"
            ]
          },
          "metadata": {
            "tags": []
          },
          "execution_count": 90
        }
      ]
    },
    {
      "cell_type": "code",
      "metadata": {
        "colab": {
          "base_uri": "https://localhost:8080/",
          "height": 524
        },
        "id": "GRF-_Z9xJBFK",
        "outputId": "cddb1dd0-5a2a-4999-e225-10a5b125ce9f"
      },
      "source": [
        "#Removes duplicates in place\n",
        "df.drop_duplicates(keep=False, inplace=True)\n",
        "df"
      ],
      "execution_count": null,
      "outputs": [
        {
          "output_type": "stream",
          "text": [
            "/usr/local/lib/python3.7/dist-packages/ipykernel_launcher.py:2: SettingWithCopyWarning: \n",
            "A value is trying to be set on a copy of a slice from a DataFrame\n",
            "\n",
            "See the caveats in the documentation: https://pandas.pydata.org/pandas-docs/stable/user_guide/indexing.html#returning-a-view-versus-a-copy\n",
            "  \n"
          ],
          "name": "stderr"
        },
        {
          "output_type": "execute_result",
          "data": {
            "text/html": [
              "<div>\n",
              "<style scoped>\n",
              "    .dataframe tbody tr th:only-of-type {\n",
              "        vertical-align: middle;\n",
              "    }\n",
              "\n",
              "    .dataframe tbody tr th {\n",
              "        vertical-align: top;\n",
              "    }\n",
              "\n",
              "    .dataframe thead th {\n",
              "        text-align: right;\n",
              "    }\n",
              "</style>\n",
              "<table border=\"1\" class=\"dataframe\">\n",
              "  <thead>\n",
              "    <tr style=\"text-align: right;\">\n",
              "      <th></th>\n",
              "      <th>Review</th>\n",
              "      <th>Rating</th>\n",
              "    </tr>\n",
              "  </thead>\n",
              "  <tbody>\n",
              "    <tr>\n",
              "      <th>10</th>\n",
              "      <td>enak kuacinya</td>\n",
              "      <td>5</td>\n",
              "    </tr>\n",
              "    <tr>\n",
              "      <th>12</th>\n",
              "      <td>pengiriman cepat packing bagus sesuai pesanan ...</td>\n",
              "      <td>5</td>\n",
              "    </tr>\n",
              "    <tr>\n",
              "      <th>13</th>\n",
              "      <td>pengemasan luar biasa baik untuk rasa menurut ...</td>\n",
              "      <td>4</td>\n",
              "    </tr>\n",
              "    <tr>\n",
              "      <th>15</th>\n",
              "      <td>terimakasih min</td>\n",
              "      <td>5</td>\n",
              "    </tr>\n",
              "    <tr>\n",
              "      <th>16</th>\n",
              "      <td>udah order untuk kesekian kali jos</td>\n",
              "      <td>5</td>\n",
              "    </tr>\n",
              "    <tr>\n",
              "      <th>...</th>\n",
              "      <td>...</td>\n",
              "      <td>...</td>\n",
              "    </tr>\n",
              "    <tr>\n",
              "      <th>5421</th>\n",
              "      <td>seller sangat responsif rasa belum dicoba kare...</td>\n",
              "      <td>5</td>\n",
              "    </tr>\n",
              "    <tr>\n",
              "      <th>5422</th>\n",
              "      <td>imut2 banget packing aman</td>\n",
              "      <td>5</td>\n",
              "    </tr>\n",
              "    <tr>\n",
              "      <th>5423</th>\n",
              "      <td>good product trusted seller</td>\n",
              "      <td>5</td>\n",
              "    </tr>\n",
              "    <tr>\n",
              "      <th>5424</th>\n",
              "      <td>sudah beli yg ke 3</td>\n",
              "      <td>5</td>\n",
              "    </tr>\n",
              "    <tr>\n",
              "      <th>5425</th>\n",
              "      <td>byk campurannya</td>\n",
              "      <td>4</td>\n",
              "    </tr>\n",
              "  </tbody>\n",
              "</table>\n",
              "<p>4060 rows × 2 columns</p>\n",
              "</div>"
            ],
            "text/plain": [
              "                                                 Review  Rating\n",
              "10                                        enak kuacinya       5\n",
              "12    pengiriman cepat packing bagus sesuai pesanan ...       5\n",
              "13    pengemasan luar biasa baik untuk rasa menurut ...       4\n",
              "15                                      terimakasih min       5\n",
              "16                   udah order untuk kesekian kali jos       5\n",
              "...                                                 ...     ...\n",
              "5421  seller sangat responsif rasa belum dicoba kare...       5\n",
              "5422                          imut2 banget packing aman       5\n",
              "5423                        good product trusted seller       5\n",
              "5424                                 sudah beli yg ke 3       5\n",
              "5425                                    byk campurannya       4\n",
              "\n",
              "[4060 rows x 2 columns]"
            ]
          },
          "metadata": {
            "tags": []
          },
          "execution_count": 91
        }
      ]
    },
    {
      "cell_type": "markdown",
      "metadata": {
        "id": "JnsIV8fJO5YY"
      },
      "source": [
        "##Export to csv"
      ]
    },
    {
      "cell_type": "code",
      "metadata": {
        "colab": {
          "base_uri": "https://localhost:8080/",
          "height": 419
        },
        "id": "CjS9RuNSH5bw",
        "outputId": "8a125129-73d3-4c27-d10e-89a000536c87"
      },
      "source": [
        "# saving the dataset\n",
        "df.to_csv('dataset_review_tokped_cleaned.csv', index=False)\n",
        "df"
      ],
      "execution_count": null,
      "outputs": [
        {
          "output_type": "execute_result",
          "data": {
            "text/html": [
              "<div>\n",
              "<style scoped>\n",
              "    .dataframe tbody tr th:only-of-type {\n",
              "        vertical-align: middle;\n",
              "    }\n",
              "\n",
              "    .dataframe tbody tr th {\n",
              "        vertical-align: top;\n",
              "    }\n",
              "\n",
              "    .dataframe thead th {\n",
              "        text-align: right;\n",
              "    }\n",
              "</style>\n",
              "<table border=\"1\" class=\"dataframe\">\n",
              "  <thead>\n",
              "    <tr style=\"text-align: right;\">\n",
              "      <th></th>\n",
              "      <th>Review</th>\n",
              "      <th>Rating</th>\n",
              "    </tr>\n",
              "  </thead>\n",
              "  <tbody>\n",
              "    <tr>\n",
              "      <th>10</th>\n",
              "      <td>enak kuacinya</td>\n",
              "      <td>5</td>\n",
              "    </tr>\n",
              "    <tr>\n",
              "      <th>12</th>\n",
              "      <td>pengiriman cepat packing bagus sesuai pesanan ...</td>\n",
              "      <td>5</td>\n",
              "    </tr>\n",
              "    <tr>\n",
              "      <th>13</th>\n",
              "      <td>pengemasan luar biasa baik untuk rasa menurut ...</td>\n",
              "      <td>4</td>\n",
              "    </tr>\n",
              "    <tr>\n",
              "      <th>15</th>\n",
              "      <td>terimakasih min</td>\n",
              "      <td>5</td>\n",
              "    </tr>\n",
              "    <tr>\n",
              "      <th>16</th>\n",
              "      <td>udah order untuk kesekian kali jos</td>\n",
              "      <td>5</td>\n",
              "    </tr>\n",
              "    <tr>\n",
              "      <th>...</th>\n",
              "      <td>...</td>\n",
              "      <td>...</td>\n",
              "    </tr>\n",
              "    <tr>\n",
              "      <th>5421</th>\n",
              "      <td>seller sangat responsif rasa belum dicoba kare...</td>\n",
              "      <td>5</td>\n",
              "    </tr>\n",
              "    <tr>\n",
              "      <th>5422</th>\n",
              "      <td>imut2 banget packing aman</td>\n",
              "      <td>5</td>\n",
              "    </tr>\n",
              "    <tr>\n",
              "      <th>5423</th>\n",
              "      <td>good product trusted seller</td>\n",
              "      <td>5</td>\n",
              "    </tr>\n",
              "    <tr>\n",
              "      <th>5424</th>\n",
              "      <td>sudah beli yg ke 3</td>\n",
              "      <td>5</td>\n",
              "    </tr>\n",
              "    <tr>\n",
              "      <th>5425</th>\n",
              "      <td>byk campurannya</td>\n",
              "      <td>4</td>\n",
              "    </tr>\n",
              "  </tbody>\n",
              "</table>\n",
              "<p>4060 rows × 2 columns</p>\n",
              "</div>"
            ],
            "text/plain": [
              "                                                 Review  Rating\n",
              "10                                        enak kuacinya       5\n",
              "12    pengiriman cepat packing bagus sesuai pesanan ...       5\n",
              "13    pengemasan luar biasa baik untuk rasa menurut ...       4\n",
              "15                                      terimakasih min       5\n",
              "16                   udah order untuk kesekian kali jos       5\n",
              "...                                                 ...     ...\n",
              "5421  seller sangat responsif rasa belum dicoba kare...       5\n",
              "5422                          imut2 banget packing aman       5\n",
              "5423                        good product trusted seller       5\n",
              "5424                                 sudah beli yg ke 3       5\n",
              "5425                                    byk campurannya       4\n",
              "\n",
              "[4060 rows x 2 columns]"
            ]
          },
          "metadata": {
            "tags": []
          },
          "execution_count": 92
        }
      ]
    },
    {
      "cell_type": "markdown",
      "metadata": {
        "id": "oF4UxCfDDkXm"
      },
      "source": [
        "#dataset Labelling"
      ]
    },
    {
      "cell_type": "markdown",
      "metadata": {
        "id": "IelZ8SbrOdUm"
      },
      "source": [
        "## Load Dataset"
      ]
    },
    {
      "cell_type": "code",
      "metadata": {
        "colab": {
          "base_uri": "https://localhost:8080/"
        },
        "id": "cqnKZKBgOdU4",
        "outputId": "a97f5baa-cb2c-4060-8224-375a213eba08"
      },
      "source": [
        "#Data from cleaned dataset\n",
        "!wget https://raw.githubusercontent.com/H4rfu1/ML-project-TokoLitik-tim-Undagi/main/Response/dataset_review_tokped_cleaned.csv"
      ],
      "execution_count": 2,
      "outputs": [
        {
          "output_type": "stream",
          "text": [
            "--2021-05-11 02:07:25--  https://raw.githubusercontent.com/H4rfu1/ML-project-TokoLitik-tim-Undagi/main/Response/dataset_review_tokped_cleaned.csv\n",
            "Resolving raw.githubusercontent.com (raw.githubusercontent.com)... 185.199.108.133, 185.199.109.133, 185.199.110.133, ...\n",
            "Connecting to raw.githubusercontent.com (raw.githubusercontent.com)|185.199.108.133|:443... connected.\n",
            "HTTP request sent, awaiting response... 200 OK\n",
            "Length: 258624 (253K) [text/plain]\n",
            "Saving to: ‘dataset_review_tokped_cleaned.csv’\n",
            "\n",
            "dataset_review_tokp 100%[===================>] 252.56K  --.-KB/s    in 0.006s  \n",
            "\n",
            "2021-05-11 02:07:25 (44.6 MB/s) - ‘dataset_review_tokped_cleaned.csv’ saved [258624/258624]\n",
            "\n"
          ],
          "name": "stdout"
        }
      ]
    },
    {
      "cell_type": "code",
      "metadata": {
        "colab": {
          "base_uri": "https://localhost:8080/",
          "height": 419
        },
        "id": "UqZBEeMLOdU8",
        "outputId": "a14bbc71-70d0-40f6-9b7b-2d1e51c3addb"
      },
      "source": [
        "#dataset from crawling process\n",
        "df = pd.read_csv('dataset_review_tokped_cleaned.csv')\n",
        "df"
      ],
      "execution_count": 3,
      "outputs": [
        {
          "output_type": "execute_result",
          "data": {
            "text/html": [
              "<div>\n",
              "<style scoped>\n",
              "    .dataframe tbody tr th:only-of-type {\n",
              "        vertical-align: middle;\n",
              "    }\n",
              "\n",
              "    .dataframe tbody tr th {\n",
              "        vertical-align: top;\n",
              "    }\n",
              "\n",
              "    .dataframe thead th {\n",
              "        text-align: right;\n",
              "    }\n",
              "</style>\n",
              "<table border=\"1\" class=\"dataframe\">\n",
              "  <thead>\n",
              "    <tr style=\"text-align: right;\">\n",
              "      <th></th>\n",
              "      <th>Review</th>\n",
              "      <th>Rating</th>\n",
              "    </tr>\n",
              "  </thead>\n",
              "  <tbody>\n",
              "    <tr>\n",
              "      <th>0</th>\n",
              "      <td>enak kuacinya</td>\n",
              "      <td>5</td>\n",
              "    </tr>\n",
              "    <tr>\n",
              "      <th>1</th>\n",
              "      <td>pengiriman cepat packing bagus sesuai pesanan ...</td>\n",
              "      <td>5</td>\n",
              "    </tr>\n",
              "    <tr>\n",
              "      <th>2</th>\n",
              "      <td>pengemasan luar biasa baik untuk rasa menurut ...</td>\n",
              "      <td>4</td>\n",
              "    </tr>\n",
              "    <tr>\n",
              "      <th>3</th>\n",
              "      <td>terimakasih min</td>\n",
              "      <td>5</td>\n",
              "    </tr>\n",
              "    <tr>\n",
              "      <th>4</th>\n",
              "      <td>udah order untuk kesekian kali jos</td>\n",
              "      <td>5</td>\n",
              "    </tr>\n",
              "    <tr>\n",
              "      <th>...</th>\n",
              "      <td>...</td>\n",
              "      <td>...</td>\n",
              "    </tr>\n",
              "    <tr>\n",
              "      <th>4055</th>\n",
              "      <td>seller sangat responsif rasa belum dicoba kare...</td>\n",
              "      <td>5</td>\n",
              "    </tr>\n",
              "    <tr>\n",
              "      <th>4056</th>\n",
              "      <td>imut2 banget packing aman</td>\n",
              "      <td>5</td>\n",
              "    </tr>\n",
              "    <tr>\n",
              "      <th>4057</th>\n",
              "      <td>good product trusted seller</td>\n",
              "      <td>5</td>\n",
              "    </tr>\n",
              "    <tr>\n",
              "      <th>4058</th>\n",
              "      <td>sudah beli yg ke 3</td>\n",
              "      <td>5</td>\n",
              "    </tr>\n",
              "    <tr>\n",
              "      <th>4059</th>\n",
              "      <td>byk campurannya</td>\n",
              "      <td>4</td>\n",
              "    </tr>\n",
              "  </tbody>\n",
              "</table>\n",
              "<p>4060 rows × 2 columns</p>\n",
              "</div>"
            ],
            "text/plain": [
              "                                                 Review  Rating\n",
              "0                                         enak kuacinya       5\n",
              "1     pengiriman cepat packing bagus sesuai pesanan ...       5\n",
              "2     pengemasan luar biasa baik untuk rasa menurut ...       4\n",
              "3                                       terimakasih min       5\n",
              "4                    udah order untuk kesekian kali jos       5\n",
              "...                                                 ...     ...\n",
              "4055  seller sangat responsif rasa belum dicoba kare...       5\n",
              "4056                          imut2 banget packing aman       5\n",
              "4057                        good product trusted seller       5\n",
              "4058                                 sudah beli yg ke 3       5\n",
              "4059                                    byk campurannya       4\n",
              "\n",
              "[4060 rows x 2 columns]"
            ]
          },
          "metadata": {
            "tags": []
          },
          "execution_count": 3
        }
      ]
    },
    {
      "cell_type": "markdown",
      "metadata": {
        "id": "LHB8gIkxPCz8"
      },
      "source": [
        "##Labelling Process"
      ]
    },
    {
      "cell_type": "code",
      "metadata": {
        "colab": {
          "base_uri": "https://localhost:8080/",
          "height": 419
        },
        "id": "YfHicaadMmzb",
        "outputId": "edaed4b6-81a6-4f36-c0f1-f968fba82746"
      },
      "source": [
        "#add new label class 'Sentiment' with default value neutral\n",
        "df['Sentiment'] = 'neutral'\n",
        "df"
      ],
      "execution_count": 4,
      "outputs": [
        {
          "output_type": "execute_result",
          "data": {
            "text/html": [
              "<div>\n",
              "<style scoped>\n",
              "    .dataframe tbody tr th:only-of-type {\n",
              "        vertical-align: middle;\n",
              "    }\n",
              "\n",
              "    .dataframe tbody tr th {\n",
              "        vertical-align: top;\n",
              "    }\n",
              "\n",
              "    .dataframe thead th {\n",
              "        text-align: right;\n",
              "    }\n",
              "</style>\n",
              "<table border=\"1\" class=\"dataframe\">\n",
              "  <thead>\n",
              "    <tr style=\"text-align: right;\">\n",
              "      <th></th>\n",
              "      <th>Review</th>\n",
              "      <th>Rating</th>\n",
              "      <th>Sentiment</th>\n",
              "    </tr>\n",
              "  </thead>\n",
              "  <tbody>\n",
              "    <tr>\n",
              "      <th>0</th>\n",
              "      <td>enak kuacinya</td>\n",
              "      <td>5</td>\n",
              "      <td>neutral</td>\n",
              "    </tr>\n",
              "    <tr>\n",
              "      <th>1</th>\n",
              "      <td>pengiriman cepat packing bagus sesuai pesanan ...</td>\n",
              "      <td>5</td>\n",
              "      <td>neutral</td>\n",
              "    </tr>\n",
              "    <tr>\n",
              "      <th>2</th>\n",
              "      <td>pengemasan luar biasa baik untuk rasa menurut ...</td>\n",
              "      <td>4</td>\n",
              "      <td>neutral</td>\n",
              "    </tr>\n",
              "    <tr>\n",
              "      <th>3</th>\n",
              "      <td>terimakasih min</td>\n",
              "      <td>5</td>\n",
              "      <td>neutral</td>\n",
              "    </tr>\n",
              "    <tr>\n",
              "      <th>4</th>\n",
              "      <td>udah order untuk kesekian kali jos</td>\n",
              "      <td>5</td>\n",
              "      <td>neutral</td>\n",
              "    </tr>\n",
              "    <tr>\n",
              "      <th>...</th>\n",
              "      <td>...</td>\n",
              "      <td>...</td>\n",
              "      <td>...</td>\n",
              "    </tr>\n",
              "    <tr>\n",
              "      <th>4055</th>\n",
              "      <td>seller sangat responsif rasa belum dicoba kare...</td>\n",
              "      <td>5</td>\n",
              "      <td>neutral</td>\n",
              "    </tr>\n",
              "    <tr>\n",
              "      <th>4056</th>\n",
              "      <td>imut2 banget packing aman</td>\n",
              "      <td>5</td>\n",
              "      <td>neutral</td>\n",
              "    </tr>\n",
              "    <tr>\n",
              "      <th>4057</th>\n",
              "      <td>good product trusted seller</td>\n",
              "      <td>5</td>\n",
              "      <td>neutral</td>\n",
              "    </tr>\n",
              "    <tr>\n",
              "      <th>4058</th>\n",
              "      <td>sudah beli yg ke 3</td>\n",
              "      <td>5</td>\n",
              "      <td>neutral</td>\n",
              "    </tr>\n",
              "    <tr>\n",
              "      <th>4059</th>\n",
              "      <td>byk campurannya</td>\n",
              "      <td>4</td>\n",
              "      <td>neutral</td>\n",
              "    </tr>\n",
              "  </tbody>\n",
              "</table>\n",
              "<p>4060 rows × 3 columns</p>\n",
              "</div>"
            ],
            "text/plain": [
              "                                                 Review  Rating Sentiment\n",
              "0                                         enak kuacinya       5   neutral\n",
              "1     pengiriman cepat packing bagus sesuai pesanan ...       5   neutral\n",
              "2     pengemasan luar biasa baik untuk rasa menurut ...       4   neutral\n",
              "3                                       terimakasih min       5   neutral\n",
              "4                    udah order untuk kesekian kali jos       5   neutral\n",
              "...                                                 ...     ...       ...\n",
              "4055  seller sangat responsif rasa belum dicoba kare...       5   neutral\n",
              "4056                          imut2 banget packing aman       5   neutral\n",
              "4057                        good product trusted seller       5   neutral\n",
              "4058                                 sudah beli yg ke 3       5   neutral\n",
              "4059                                    byk campurannya       4   neutral\n",
              "\n",
              "[4060 rows x 3 columns]"
            ]
          },
          "metadata": {
            "tags": []
          },
          "execution_count": 4
        }
      ]
    },
    {
      "cell_type": "code",
      "metadata": {
        "colab": {
          "base_uri": "https://localhost:8080/"
        },
        "id": "cvoKNxWHQ0kn",
        "outputId": "57daa570-efcc-4464-c6f2-c6b7617014dc"
      },
      "source": [
        "'''\n",
        "  labeling process, 1 => while sentiment negative, 2 => while sentiment positive\n",
        "  negative : while the review state negative of product / negative service / need of improvement\n",
        "  p\n",
        "  \n",
        "  ositif  : while the re state positive feedback about product / goog service\n",
        "  neutral  : while the review out of topic about product and service, for example -> word of gratitude [thanks, etc]\n",
        "  \n",
        "'''\n",
        "#initial progress\n",
        "count = len(df[['Review']])\n",
        "\n",
        "#timer start2\n",
        "start_time = time.perf_counter()\n",
        "for i, review in df[['Review']][4059:].iterrows():\n",
        "\n",
        "  print('Review {} = {} '.format(i, review['Review']))\n",
        "  sentiment = input('Sentiment : ')\n",
        "  if(sentiment == '1'):\n",
        "    df.loc[i,'Sentiment'] = 'negative'\n",
        "  elif(sentiment == '2'):\n",
        "    df.loc[i,'Sentiment'] = 'positive'\n",
        "  else:\n",
        "    df.loc[i,'Sentiment'] = 'neutral'\n",
        "\n",
        "  \n",
        "  #persen proses crawling\n",
        "  (minutes, seconds) = divmod(int(time.perf_counter() - start_time), 60)\n",
        "  print('--- | Progress {0:.2f}% | elapse time: {1} minutes {2} seconds | ---'.format((i+1)/count*100, minutes, seconds))\n",
        "  print()\n",
        "\n"
      ],
      "execution_count": 58,
      "outputs": [
        {
          "output_type": "stream",
          "text": [
            "Review 4059 = byk campurannya \n",
            "Sentiment : \n",
            "--- | Progress 100.00% | elapse time: 0 minutes 1 seconds | ---\n",
            "\n"
          ],
          "name": "stdout"
        }
      ]
    },
    {
      "cell_type": "code",
      "metadata": {
        "colab": {
          "base_uri": "https://localhost:8080/",
          "height": 419
        },
        "id": "xVulcvOtUcPA",
        "outputId": "612a68c7-b8f1-42a2-ada7-d306021633d7"
      },
      "source": [
        "df"
      ],
      "execution_count": 59,
      "outputs": [
        {
          "output_type": "execute_result",
          "data": {
            "text/html": [
              "<div>\n",
              "<style scoped>\n",
              "    .dataframe tbody tr th:only-of-type {\n",
              "        vertical-align: middle;\n",
              "    }\n",
              "\n",
              "    .dataframe tbody tr th {\n",
              "        vertical-align: top;\n",
              "    }\n",
              "\n",
              "    .dataframe thead th {\n",
              "        text-align: right;\n",
              "    }\n",
              "</style>\n",
              "<table border=\"1\" class=\"dataframe\">\n",
              "  <thead>\n",
              "    <tr style=\"text-align: right;\">\n",
              "      <th></th>\n",
              "      <th>Review</th>\n",
              "      <th>Rating</th>\n",
              "      <th>Sentiment</th>\n",
              "    </tr>\n",
              "  </thead>\n",
              "  <tbody>\n",
              "    <tr>\n",
              "      <th>0</th>\n",
              "      <td>enak kuacinya</td>\n",
              "      <td>5</td>\n",
              "      <td>positive</td>\n",
              "    </tr>\n",
              "    <tr>\n",
              "      <th>1</th>\n",
              "      <td>pengiriman cepat packing bagus sesuai pesanan ...</td>\n",
              "      <td>5</td>\n",
              "      <td>positive</td>\n",
              "    </tr>\n",
              "    <tr>\n",
              "      <th>2</th>\n",
              "      <td>pengemasan luar biasa baik untuk rasa menurut ...</td>\n",
              "      <td>4</td>\n",
              "      <td>negative</td>\n",
              "    </tr>\n",
              "    <tr>\n",
              "      <th>3</th>\n",
              "      <td>terimakasih min</td>\n",
              "      <td>5</td>\n",
              "      <td>neutral</td>\n",
              "    </tr>\n",
              "    <tr>\n",
              "      <th>4</th>\n",
              "      <td>udah order untuk kesekian kali jos</td>\n",
              "      <td>5</td>\n",
              "      <td>neutral</td>\n",
              "    </tr>\n",
              "    <tr>\n",
              "      <th>...</th>\n",
              "      <td>...</td>\n",
              "      <td>...</td>\n",
              "      <td>...</td>\n",
              "    </tr>\n",
              "    <tr>\n",
              "      <th>4055</th>\n",
              "      <td>seller sangat responsif rasa belum dicoba kare...</td>\n",
              "      <td>5</td>\n",
              "      <td>neutral</td>\n",
              "    </tr>\n",
              "    <tr>\n",
              "      <th>4056</th>\n",
              "      <td>imut2 banget packing aman</td>\n",
              "      <td>5</td>\n",
              "      <td>positive</td>\n",
              "    </tr>\n",
              "    <tr>\n",
              "      <th>4057</th>\n",
              "      <td>good product trusted seller</td>\n",
              "      <td>5</td>\n",
              "      <td>positive</td>\n",
              "    </tr>\n",
              "    <tr>\n",
              "      <th>4058</th>\n",
              "      <td>sudah beli yg ke 3</td>\n",
              "      <td>5</td>\n",
              "      <td>neutral</td>\n",
              "    </tr>\n",
              "    <tr>\n",
              "      <th>4059</th>\n",
              "      <td>byk campurannya</td>\n",
              "      <td>4</td>\n",
              "      <td>neutral</td>\n",
              "    </tr>\n",
              "  </tbody>\n",
              "</table>\n",
              "<p>4060 rows × 3 columns</p>\n",
              "</div>"
            ],
            "text/plain": [
              "                                                 Review  Rating Sentiment\n",
              "0                                         enak kuacinya       5  positive\n",
              "1     pengiriman cepat packing bagus sesuai pesanan ...       5  positive\n",
              "2     pengemasan luar biasa baik untuk rasa menurut ...       4  negative\n",
              "3                                       terimakasih min       5   neutral\n",
              "4                    udah order untuk kesekian kali jos       5   neutral\n",
              "...                                                 ...     ...       ...\n",
              "4055  seller sangat responsif rasa belum dicoba kare...       5   neutral\n",
              "4056                          imut2 banget packing aman       5  positive\n",
              "4057                        good product trusted seller       5  positive\n",
              "4058                                 sudah beli yg ke 3       5   neutral\n",
              "4059                                    byk campurannya       4   neutral\n",
              "\n",
              "[4060 rows x 3 columns]"
            ]
          },
          "metadata": {
            "tags": []
          },
          "execution_count": 59
        }
      ]
    },
    {
      "cell_type": "code",
      "metadata": {
        "id": "9JTBo96wQvco",
        "colab": {
          "base_uri": "https://localhost:8080/"
        },
        "outputId": "6831a7a8-f56c-4276-e418-946cf2b6e1df"
      },
      "source": [
        "0.453*len(df[['Review']])"
      ],
      "execution_count": 27,
      "outputs": [
        {
          "output_type": "execute_result",
          "data": {
            "text/plain": [
              "1839.18"
            ]
          },
          "metadata": {
            "tags": []
          },
          "execution_count": 27
        }
      ]
    },
    {
      "cell_type": "markdown",
      "metadata": {
        "id": "smMchtxzL4rx"
      },
      "source": [
        "##Export to csv"
      ]
    },
    {
      "cell_type": "code",
      "metadata": {
        "colab": {
          "base_uri": "https://localhost:8080/",
          "height": 419
        },
        "id": "-cTqKLaLL4r2",
        "outputId": "d2bfd748-a88f-4e48-a4ea-1059e5617714"
      },
      "source": [
        "# saving the dataset\n",
        "df.to_csv('dataset_review_tokped_labelled.csv', index=False)\n",
        "df"
      ],
      "execution_count": 60,
      "outputs": [
        {
          "output_type": "execute_result",
          "data": {
            "text/html": [
              "<div>\n",
              "<style scoped>\n",
              "    .dataframe tbody tr th:only-of-type {\n",
              "        vertical-align: middle;\n",
              "    }\n",
              "\n",
              "    .dataframe tbody tr th {\n",
              "        vertical-align: top;\n",
              "    }\n",
              "\n",
              "    .dataframe thead th {\n",
              "        text-align: right;\n",
              "    }\n",
              "</style>\n",
              "<table border=\"1\" class=\"dataframe\">\n",
              "  <thead>\n",
              "    <tr style=\"text-align: right;\">\n",
              "      <th></th>\n",
              "      <th>Review</th>\n",
              "      <th>Rating</th>\n",
              "      <th>Sentiment</th>\n",
              "    </tr>\n",
              "  </thead>\n",
              "  <tbody>\n",
              "    <tr>\n",
              "      <th>0</th>\n",
              "      <td>enak kuacinya</td>\n",
              "      <td>5</td>\n",
              "      <td>positive</td>\n",
              "    </tr>\n",
              "    <tr>\n",
              "      <th>1</th>\n",
              "      <td>pengiriman cepat packing bagus sesuai pesanan ...</td>\n",
              "      <td>5</td>\n",
              "      <td>positive</td>\n",
              "    </tr>\n",
              "    <tr>\n",
              "      <th>2</th>\n",
              "      <td>pengemasan luar biasa baik untuk rasa menurut ...</td>\n",
              "      <td>4</td>\n",
              "      <td>negative</td>\n",
              "    </tr>\n",
              "    <tr>\n",
              "      <th>3</th>\n",
              "      <td>terimakasih min</td>\n",
              "      <td>5</td>\n",
              "      <td>neutral</td>\n",
              "    </tr>\n",
              "    <tr>\n",
              "      <th>4</th>\n",
              "      <td>udah order untuk kesekian kali jos</td>\n",
              "      <td>5</td>\n",
              "      <td>neutral</td>\n",
              "    </tr>\n",
              "    <tr>\n",
              "      <th>...</th>\n",
              "      <td>...</td>\n",
              "      <td>...</td>\n",
              "      <td>...</td>\n",
              "    </tr>\n",
              "    <tr>\n",
              "      <th>4055</th>\n",
              "      <td>seller sangat responsif rasa belum dicoba kare...</td>\n",
              "      <td>5</td>\n",
              "      <td>neutral</td>\n",
              "    </tr>\n",
              "    <tr>\n",
              "      <th>4056</th>\n",
              "      <td>imut2 banget packing aman</td>\n",
              "      <td>5</td>\n",
              "      <td>positive</td>\n",
              "    </tr>\n",
              "    <tr>\n",
              "      <th>4057</th>\n",
              "      <td>good product trusted seller</td>\n",
              "      <td>5</td>\n",
              "      <td>positive</td>\n",
              "    </tr>\n",
              "    <tr>\n",
              "      <th>4058</th>\n",
              "      <td>sudah beli yg ke 3</td>\n",
              "      <td>5</td>\n",
              "      <td>neutral</td>\n",
              "    </tr>\n",
              "    <tr>\n",
              "      <th>4059</th>\n",
              "      <td>byk campurannya</td>\n",
              "      <td>4</td>\n",
              "      <td>neutral</td>\n",
              "    </tr>\n",
              "  </tbody>\n",
              "</table>\n",
              "<p>4060 rows × 3 columns</p>\n",
              "</div>"
            ],
            "text/plain": [
              "                                                 Review  Rating Sentiment\n",
              "0                                         enak kuacinya       5  positive\n",
              "1     pengiriman cepat packing bagus sesuai pesanan ...       5  positive\n",
              "2     pengemasan luar biasa baik untuk rasa menurut ...       4  negative\n",
              "3                                       terimakasih min       5   neutral\n",
              "4                    udah order untuk kesekian kali jos       5   neutral\n",
              "...                                                 ...     ...       ...\n",
              "4055  seller sangat responsif rasa belum dicoba kare...       5   neutral\n",
              "4056                          imut2 banget packing aman       5  positive\n",
              "4057                        good product trusted seller       5  positive\n",
              "4058                                 sudah beli yg ke 3       5   neutral\n",
              "4059                                    byk campurannya       4   neutral\n",
              "\n",
              "[4060 rows x 3 columns]"
            ]
          },
          "metadata": {
            "tags": []
          },
          "execution_count": 60
        }
      ]
    }
  ]
}