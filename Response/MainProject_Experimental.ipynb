{
  "nbformat": 4,
  "nbformat_minor": 0,
  "metadata": {
    "colab": {
      "name": "MainProject Experimental.ipynb",
      "provenance": [],
      "collapsed_sections": [
        "qwStiV9pLsKN",
        "auzp_8R6j9OK",
        "hlRxVlgXj9OR",
        "FtOonbh9j9OS",
        "s0kSt7l9r9gq",
        "MTXm3ZuMD4qc"
      ],
      "toc_visible": true
    },
    "kernelspec": {
      "name": "python3",
      "display_name": "Python 3"
    }
  },
  "cells": [
    {
      "cell_type": "markdown",
      "metadata": {
        "id": "7PiOS4A0lIFT"
      },
      "source": [
        "Main Project building testing and evaluation"
      ]
    },
    {
      "cell_type": "markdown",
      "metadata": {
        "id": "qwStiV9pLsKN"
      },
      "source": [
        "# Import Required Library"
      ]
    },
    {
      "cell_type": "code",
      "metadata": {
        "id": "lMAb6ZOxLk5V"
      },
      "source": [
        "# Import Dependencies\n",
        "%matplotlib inline\n",
        "\n",
        "# Start Python Imports\n",
        "import math, time, random, datetime, re, string, zipfile\n",
        "\n",
        "# Data Manipulation\n",
        "import numpy as np\n",
        "import pandas as pd\n",
        "import tensorflow as tf\n",
        "\n",
        "# Visualization \n",
        "import matplotlib.pyplot as plt\n",
        "import missingno\n",
        "import seaborn as sns\n",
        "plt.style.use('seaborn-whitegrid')\n",
        "\n",
        "# Preprocessing\n",
        "import nltk\n",
        "from nltk.tokenize import sent_tokenize, word_tokenize\n",
        "from nltk.corpus import stopwords\n",
        "from sklearn.preprocessing import OneHotEncoder, LabelEncoder, label_binarize\n",
        "from sklearn.feature_extraction.text import TfidfVectorizer\n",
        "from sklearn.model_selection import train_test_split\n",
        "from sklearn.ensemble import RandomForestClassifier\n",
        "from sklearn.metrics import confusion_matrix\n",
        "from tensorflow.keras.preprocessing.text import Tokenizer\n",
        "from tensorflow.keras.preprocessing.sequence import pad_sequences\n",
        "\n",
        "\n",
        "\n",
        "# Machine learning\n",
        "from sklearn.model_selection import train_test_split\n",
        "from sklearn import model_selection, tree, preprocessing, metrics, linear_model\n",
        "from sklearn.svm import LinearSVC\n",
        "from sklearn.ensemble import GradientBoostingClassifier\n",
        "from sklearn.neighbors import KNeighborsClassifier\n",
        "from sklearn.naive_bayes import GaussianNB\n",
        "from sklearn.linear_model import LinearRegression, LogisticRegression, SGDClassifier\n",
        "from sklearn.tree import DecisionTreeClassifier\n",
        "\n",
        "# Let's be rebels and ignore warnings for now\n",
        "import warnings\n",
        "warnings.filterwarnings('ignore')"
      ],
      "execution_count": 72,
      "outputs": []
    },
    {
      "cell_type": "markdown",
      "metadata": {
        "id": "F6XGTeByj9OA"
      },
      "source": [
        "#**Check Top Machine Learning Algorithm efectiveness**"
      ]
    },
    {
      "cell_type": "markdown",
      "metadata": {
        "id": "RYqAyN2Qj9OG"
      },
      "source": [
        "## Load Dataset"
      ]
    },
    {
      "cell_type": "code",
      "metadata": {
        "colab": {
          "base_uri": "https://localhost:8080/"
        },
        "id": "x2Bysa71j9OH",
        "outputId": "94b87269-f6ae-4252-e351-23cbf8c8c866"
      },
      "source": [
        "!wget https://raw.githubusercontent.com/H4rfu1/ML-project-TokoLitik-tim-Undagi/main/Response/dataset/dataset_review_tokped_labelled.csv"
      ],
      "execution_count": null,
      "outputs": [
        {
          "output_type": "stream",
          "text": [
            "--2021-05-11 22:58:07--  https://raw.githubusercontent.com/H4rfu1/ML-project-TokoLitik-tim-Undagi/main/Response/dataset_review_tokped_labelled.csv\n",
            "Resolving raw.githubusercontent.com (raw.githubusercontent.com)... 185.199.110.133, 185.199.108.133, 185.199.111.133, ...\n",
            "Connecting to raw.githubusercontent.com (raw.githubusercontent.com)|185.199.110.133|:443... connected.\n",
            "HTTP request sent, awaiting response... 200 OK\n",
            "Length: 294589 (288K) [text/plain]\n",
            "Saving to: ‘dataset_review_tokped_labelled.csv.2’\n",
            "\n",
            "dataset_review_tokp 100%[===================>] 287.68K  --.-KB/s    in 0.04s   \n",
            "\n",
            "2021-05-11 22:58:08 (7.82 MB/s) - ‘dataset_review_tokped_labelled.csv.2’ saved [294589/294589]\n",
            "\n"
          ],
          "name": "stdout"
        }
      ]
    },
    {
      "cell_type": "code",
      "metadata": {
        "colab": {
          "base_uri": "https://localhost:8080/"
        },
        "id": "e2trliVNj9OJ",
        "outputId": "e3df329d-0752-4fc0-f879-5f6e8b82824f"
      },
      "source": [
        "#dataset from crawling process\n",
        "df = pd.read_csv('/content/dataset_review_tokped_labelled.csv')\n",
        "df"
      ],
      "execution_count": null,
      "outputs": [
        {
          "output_type": "execute_result",
          "data": {
            "text/html": [
              "<div>\n",
              "<style scoped>\n",
              "    .dataframe tbody tr th:only-of-type {\n",
              "        vertical-align: middle;\n",
              "    }\n",
              "\n",
              "    .dataframe tbody tr th {\n",
              "        vertical-align: top;\n",
              "    }\n",
              "\n",
              "    .dataframe thead th {\n",
              "        text-align: right;\n",
              "    }\n",
              "</style>\n",
              "<table border=\"1\" class=\"dataframe\">\n",
              "  <thead>\n",
              "    <tr style=\"text-align: right;\">\n",
              "      <th></th>\n",
              "      <th>Review</th>\n",
              "      <th>Rating</th>\n",
              "      <th>Sentiment</th>\n",
              "    </tr>\n",
              "  </thead>\n",
              "  <tbody>\n",
              "    <tr>\n",
              "      <th>0</th>\n",
              "      <td>enak kuacinya</td>\n",
              "      <td>5</td>\n",
              "      <td>positive</td>\n",
              "    </tr>\n",
              "    <tr>\n",
              "      <th>1</th>\n",
              "      <td>pengiriman cepat packing bagus sesuai pesanan ...</td>\n",
              "      <td>5</td>\n",
              "      <td>positive</td>\n",
              "    </tr>\n",
              "    <tr>\n",
              "      <th>2</th>\n",
              "      <td>pengemasan luar biasa baik untuk rasa menurut ...</td>\n",
              "      <td>4</td>\n",
              "      <td>negative</td>\n",
              "    </tr>\n",
              "    <tr>\n",
              "      <th>3</th>\n",
              "      <td>terimakasih min</td>\n",
              "      <td>5</td>\n",
              "      <td>neutral</td>\n",
              "    </tr>\n",
              "    <tr>\n",
              "      <th>4</th>\n",
              "      <td>udah order untuk kesekian kali jos</td>\n",
              "      <td>5</td>\n",
              "      <td>neutral</td>\n",
              "    </tr>\n",
              "    <tr>\n",
              "      <th>...</th>\n",
              "      <td>...</td>\n",
              "      <td>...</td>\n",
              "      <td>...</td>\n",
              "    </tr>\n",
              "    <tr>\n",
              "      <th>4055</th>\n",
              "      <td>seller sangat responsif rasa belum dicoba kare...</td>\n",
              "      <td>5</td>\n",
              "      <td>neutral</td>\n",
              "    </tr>\n",
              "    <tr>\n",
              "      <th>4056</th>\n",
              "      <td>imut2 banget packing aman</td>\n",
              "      <td>5</td>\n",
              "      <td>positive</td>\n",
              "    </tr>\n",
              "    <tr>\n",
              "      <th>4057</th>\n",
              "      <td>good product trusted seller</td>\n",
              "      <td>5</td>\n",
              "      <td>positive</td>\n",
              "    </tr>\n",
              "    <tr>\n",
              "      <th>4058</th>\n",
              "      <td>sudah beli yg ke 3</td>\n",
              "      <td>5</td>\n",
              "      <td>neutral</td>\n",
              "    </tr>\n",
              "    <tr>\n",
              "      <th>4059</th>\n",
              "      <td>byk campurannya</td>\n",
              "      <td>4</td>\n",
              "      <td>neutral</td>\n",
              "    </tr>\n",
              "  </tbody>\n",
              "</table>\n",
              "<p>4060 rows × 3 columns</p>\n",
              "</div>"
            ],
            "text/plain": [
              "                                                 Review  Rating Sentiment\n",
              "0                                         enak kuacinya       5  positive\n",
              "1     pengiriman cepat packing bagus sesuai pesanan ...       5  positive\n",
              "2     pengemasan luar biasa baik untuk rasa menurut ...       4  negative\n",
              "3                                       terimakasih min       5   neutral\n",
              "4                    udah order untuk kesekian kali jos       5   neutral\n",
              "...                                                 ...     ...       ...\n",
              "4055  seller sangat responsif rasa belum dicoba kare...       5   neutral\n",
              "4056                          imut2 banget packing aman       5  positive\n",
              "4057                        good product trusted seller       5  positive\n",
              "4058                                 sudah beli yg ke 3       5   neutral\n",
              "4059                                    byk campurannya       4   neutral\n",
              "\n",
              "[4060 rows x 3 columns]"
            ]
          },
          "metadata": {
            "tags": []
          },
          "execution_count": 9
        }
      ]
    },
    {
      "cell_type": "markdown",
      "metadata": {
        "id": "auzp_8R6j9OK"
      },
      "source": [
        "## Check Dataset"
      ]
    },
    {
      "cell_type": "code",
      "metadata": {
        "colab": {
          "base_uri": "https://localhost:8080/"
        },
        "id": "KgL8Z-tnj9OK",
        "outputId": "6d96ece4-6bd5-4e2a-c2c7-984beb7a9dd6"
      },
      "source": [
        "pd.value_counts(df['Sentiment']).plot.bar()"
      ],
      "execution_count": null,
      "outputs": [
        {
          "output_type": "execute_result",
          "data": {
            "text/plain": [
              "<matplotlib.axes._subplots.AxesSubplot at 0x7f5f034bb4d0>"
            ]
          },
          "metadata": {
            "tags": []
          },
          "execution_count": 10
        },
        {
          "output_type": "display_data",
          "data": {
            "image/png": "[encoded data removed]",
            "text/plain": [
              "<Figure size 432x288 with 1 Axes>"
            ]
          },
          "metadata": {
            "tags": []
          }
        }
      ]
    },
    {
      "cell_type": "code",
      "metadata": {
        "colab": {
          "base_uri": "https://localhost:8080/"
        },
        "id": "cFlOphXQj9OL",
        "outputId": "16b1991a-7c56-482d-a320-9fbc9ba98480"
      },
      "source": [
        "#to check shape of the dataset\n",
        "print(df.shape) \n",
        "\n",
        "#to look the header of dataset\n",
        "df.info()\n"
      ],
      "execution_count": null,
      "outputs": [
        {
          "output_type": "stream",
          "text": [
            "(4060, 3)\n",
            "<class 'pandas.core.frame.DataFrame'>\n",
            "RangeIndex: 4060 entries, 0 to 4059\n",
            "Data columns (total 3 columns):\n",
            " #   Column     Non-Null Count  Dtype \n",
            "---  ------     --------------  ----- \n",
            " 0   Review     4060 non-null   object\n",
            " 1   Rating     4060 non-null   int64 \n",
            " 2   Sentiment  4060 non-null   object\n",
            "dtypes: int64(1), object(2)\n",
            "memory usage: 95.3+ KB\n"
          ],
          "name": "stdout"
        }
      ]
    },
    {
      "cell_type": "markdown",
      "metadata": {
        "id": "yRukPDJ_j9OM"
      },
      "source": [
        "## Peprocess Dataset"
      ]
    },
    {
      "cell_type": "code",
      "metadata": {
        "colab": {
          "base_uri": "https://localhost:8080/"
        },
        "id": "vJDNhygtZzj-",
        "outputId": "e89ace0a-2c2b-4fc9-d86c-7cd0f9a57808"
      },
      "source": [
        "#removing stopwords\n",
        "nltk.download('stopwords')\n",
        "def stopword(sentence):\n",
        "    review = [words for words in sentence.split() if words not in set(stopwords.words('indonesian'))]\n",
        "    review = ' '.join(review)\n",
        "    return review\n",
        "\n",
        "df['Review'] = df['Review'].apply(stopword)\n",
        "df"
      ],
      "execution_count": null,
      "outputs": [
        {
          "output_type": "stream",
          "text": [
            "[nltk_data] Downloading package stopwords to /root/nltk_data...\n",
            "[nltk_data]   Package stopwords is already up-to-date!\n"
          ],
          "name": "stdout"
        },
        {
          "output_type": "execute_result",
          "data": {
            "text/html": [
              "<div>\n",
              "<style scoped>\n",
              "    .dataframe tbody tr th:only-of-type {\n",
              "        vertical-align: middle;\n",
              "    }\n",
              "\n",
              "    .dataframe tbody tr th {\n",
              "        vertical-align: top;\n",
              "    }\n",
              "\n",
              "    .dataframe thead th {\n",
              "        text-align: right;\n",
              "    }\n",
              "</style>\n",
              "<table border=\"1\" class=\"dataframe\">\n",
              "  <thead>\n",
              "    <tr style=\"text-align: right;\">\n",
              "      <th></th>\n",
              "      <th>Review</th>\n",
              "      <th>Rating</th>\n",
              "      <th>Sentiment</th>\n",
              "    </tr>\n",
              "  </thead>\n",
              "  <tbody>\n",
              "    <tr>\n",
              "      <th>0</th>\n",
              "      <td>enak kuacinya</td>\n",
              "      <td>5</td>\n",
              "      <td>positive</td>\n",
              "    </tr>\n",
              "    <tr>\n",
              "      <th>1</th>\n",
              "      <td>pengiriman cepat packing bagus sesuai pesanan ...</td>\n",
              "      <td>5</td>\n",
              "      <td>positive</td>\n",
              "    </tr>\n",
              "    <tr>\n",
              "      <th>2</th>\n",
              "      <td>pengemasan dominan original atw asli kuacinya ...</td>\n",
              "      <td>4</td>\n",
              "      <td>negative</td>\n",
              "    </tr>\n",
              "    <tr>\n",
              "      <th>3</th>\n",
              "      <td>terimakasih min</td>\n",
              "      <td>5</td>\n",
              "      <td>neutral</td>\n",
              "    </tr>\n",
              "    <tr>\n",
              "      <th>4</th>\n",
              "      <td>udah order kesekian kali jos</td>\n",
              "      <td>5</td>\n",
              "      <td>neutral</td>\n",
              "    </tr>\n",
              "    <tr>\n",
              "      <th>...</th>\n",
              "      <td>...</td>\n",
              "      <td>...</td>\n",
              "      <td>...</td>\n",
              "    </tr>\n",
              "    <tr>\n",
              "      <th>4055</th>\n",
              "      <td>seller responsif dicoba dibuka</td>\n",
              "      <td>5</td>\n",
              "      <td>neutral</td>\n",
              "    </tr>\n",
              "    <tr>\n",
              "      <th>4056</th>\n",
              "      <td>imut2 banget packing aman</td>\n",
              "      <td>5</td>\n",
              "      <td>positive</td>\n",
              "    </tr>\n",
              "    <tr>\n",
              "      <th>4057</th>\n",
              "      <td>good product trusted seller</td>\n",
              "      <td>5</td>\n",
              "      <td>positive</td>\n",
              "    </tr>\n",
              "    <tr>\n",
              "      <th>4058</th>\n",
              "      <td>beli yg 3</td>\n",
              "      <td>5</td>\n",
              "      <td>neutral</td>\n",
              "    </tr>\n",
              "    <tr>\n",
              "      <th>4059</th>\n",
              "      <td>byk campurannya</td>\n",
              "      <td>4</td>\n",
              "      <td>neutral</td>\n",
              "    </tr>\n",
              "  </tbody>\n",
              "</table>\n",
              "<p>4060 rows × 3 columns</p>\n",
              "</div>"
            ],
            "text/plain": [
              "                                                 Review  Rating Sentiment\n",
              "0                                         enak kuacinya       5  positive\n",
              "1     pengiriman cepat packing bagus sesuai pesanan ...       5  positive\n",
              "2     pengemasan dominan original atw asli kuacinya ...       4  negative\n",
              "3                                       terimakasih min       5   neutral\n",
              "4                          udah order kesekian kali jos       5   neutral\n",
              "...                                                 ...     ...       ...\n",
              "4055                     seller responsif dicoba dibuka       5   neutral\n",
              "4056                          imut2 banget packing aman       5  positive\n",
              "4057                        good product trusted seller       5  positive\n",
              "4058                                          beli yg 3       5   neutral\n",
              "4059                                    byk campurannya       4   neutral\n",
              "\n",
              "[4060 rows x 3 columns]"
            ]
          },
          "metadata": {
            "tags": []
          },
          "execution_count": 12
        }
      ]
    },
    {
      "cell_type": "code",
      "metadata": {
        "colab": {
          "base_uri": "https://localhost:8080/"
        },
        "id": "Tq0A2Tg7j9OO",
        "outputId": "6e26023b-f0ac-446a-972c-70567a6b3fc3"
      },
      "source": [
        "#remove repeated char\n",
        "# continously repeating character\n",
        "# from the word \n",
        "def conti_rep_char(str1):\n",
        "    tchr = str1.group(0)\n",
        "    if len(tchr) > 1:\n",
        "      return tchr[0:1]\n",
        "# define a function to check\n",
        "# whether unique character \n",
        "# is present or not\n",
        "def check_unique_char(rep, sent_text):\n",
        "    # regular expression for \n",
        "    # repetion of characters\n",
        "    convert = re.sub(r'(\\w)\\1+', \n",
        "                     rep,\n",
        "                     sent_text)\n",
        "      \n",
        "    # returing the converted word\n",
        "    return convert\n",
        "\n",
        "df['Review'] = df['Review'].apply(lambda x : check_unique_char(conti_rep_char, x))\n",
        "df"
      ],
      "execution_count": null,
      "outputs": [
        {
          "output_type": "execute_result",
          "data": {
            "text/html": [
              "<div>\n",
              "<style scoped>\n",
              "    .dataframe tbody tr th:only-of-type {\n",
              "        vertical-align: middle;\n",
              "    }\n",
              "\n",
              "    .dataframe tbody tr th {\n",
              "        vertical-align: top;\n",
              "    }\n",
              "\n",
              "    .dataframe thead th {\n",
              "        text-align: right;\n",
              "    }\n",
              "</style>\n",
              "<table border=\"1\" class=\"dataframe\">\n",
              "  <thead>\n",
              "    <tr style=\"text-align: right;\">\n",
              "      <th></th>\n",
              "      <th>Review</th>\n",
              "      <th>Rating</th>\n",
              "      <th>Sentiment</th>\n",
              "    </tr>\n",
              "  </thead>\n",
              "  <tbody>\n",
              "    <tr>\n",
              "      <th>0</th>\n",
              "      <td>enak kuacinya</td>\n",
              "      <td>5</td>\n",
              "      <td>positive</td>\n",
              "    </tr>\n",
              "    <tr>\n",
              "      <th>1</th>\n",
              "      <td>pengiriman cepat packing bagus sesuai pesanan ...</td>\n",
              "      <td>5</td>\n",
              "      <td>positive</td>\n",
              "    </tr>\n",
              "    <tr>\n",
              "      <th>2</th>\n",
              "      <td>pengemasan dominan original atw asli kuacinya ...</td>\n",
              "      <td>4</td>\n",
              "      <td>negative</td>\n",
              "    </tr>\n",
              "    <tr>\n",
              "      <th>3</th>\n",
              "      <td>terimakasih min</td>\n",
              "      <td>5</td>\n",
              "      <td>neutral</td>\n",
              "    </tr>\n",
              "    <tr>\n",
              "      <th>4</th>\n",
              "      <td>udah order kesekian kali jos</td>\n",
              "      <td>5</td>\n",
              "      <td>neutral</td>\n",
              "    </tr>\n",
              "    <tr>\n",
              "      <th>...</th>\n",
              "      <td>...</td>\n",
              "      <td>...</td>\n",
              "      <td>...</td>\n",
              "    </tr>\n",
              "    <tr>\n",
              "      <th>4055</th>\n",
              "      <td>seler responsif dicoba dibuka</td>\n",
              "      <td>5</td>\n",
              "      <td>neutral</td>\n",
              "    </tr>\n",
              "    <tr>\n",
              "      <th>4056</th>\n",
              "      <td>imut2 banget packing aman</td>\n",
              "      <td>5</td>\n",
              "      <td>positive</td>\n",
              "    </tr>\n",
              "    <tr>\n",
              "      <th>4057</th>\n",
              "      <td>god product trusted seler</td>\n",
              "      <td>5</td>\n",
              "      <td>positive</td>\n",
              "    </tr>\n",
              "    <tr>\n",
              "      <th>4058</th>\n",
              "      <td>beli yg 3</td>\n",
              "      <td>5</td>\n",
              "      <td>neutral</td>\n",
              "    </tr>\n",
              "    <tr>\n",
              "      <th>4059</th>\n",
              "      <td>byk campuranya</td>\n",
              "      <td>4</td>\n",
              "      <td>neutral</td>\n",
              "    </tr>\n",
              "  </tbody>\n",
              "</table>\n",
              "<p>4060 rows × 3 columns</p>\n",
              "</div>"
            ],
            "text/plain": [
              "                                                 Review  Rating Sentiment\n",
              "0                                         enak kuacinya       5  positive\n",
              "1     pengiriman cepat packing bagus sesuai pesanan ...       5  positive\n",
              "2     pengemasan dominan original atw asli kuacinya ...       4  negative\n",
              "3                                       terimakasih min       5   neutral\n",
              "4                          udah order kesekian kali jos       5   neutral\n",
              "...                                                 ...     ...       ...\n",
              "4055                      seler responsif dicoba dibuka       5   neutral\n",
              "4056                          imut2 banget packing aman       5  positive\n",
              "4057                          god product trusted seler       5  positive\n",
              "4058                                          beli yg 3       5   neutral\n",
              "4059                                     byk campuranya       4   neutral\n",
              "\n",
              "[4060 rows x 3 columns]"
            ]
          },
          "metadata": {
            "tags": []
          },
          "execution_count": 13
        }
      ]
    },
    {
      "cell_type": "code",
      "metadata": {
        "colab": {
          "base_uri": "https://localhost:8080/"
        },
        "id": "-yyEkP8kj9OM",
        "outputId": "27c62558-c857-40db-eb7c-aa23e123d435"
      },
      "source": [
        "#removing stopwords\n",
        "nltk.download('stopwords')\n",
        "def stopword(sentence):\n",
        "    review = [words for words in sentence.split() if words not in set(stopwords.words('indonesian'))]\n",
        "    review = ' '.join(review)\n",
        "    return review\n",
        "\n",
        "df['Review'] = df['Review'].apply(stopword)\n",
        "df"
      ],
      "execution_count": null,
      "outputs": [
        {
          "output_type": "stream",
          "text": [
            "[nltk_data] Downloading package stopwords to /root/nltk_data...\n",
            "[nltk_data]   Package stopwords is already up-to-date!\n"
          ],
          "name": "stdout"
        },
        {
          "output_type": "execute_result",
          "data": {
            "text/html": [
              "<div>\n",
              "<style scoped>\n",
              "    .dataframe tbody tr th:only-of-type {\n",
              "        vertical-align: middle;\n",
              "    }\n",
              "\n",
              "    .dataframe tbody tr th {\n",
              "        vertical-align: top;\n",
              "    }\n",
              "\n",
              "    .dataframe thead th {\n",
              "        text-align: right;\n",
              "    }\n",
              "</style>\n",
              "<table border=\"1\" class=\"dataframe\">\n",
              "  <thead>\n",
              "    <tr style=\"text-align: right;\">\n",
              "      <th></th>\n",
              "      <th>Review</th>\n",
              "      <th>Rating</th>\n",
              "      <th>Sentiment</th>\n",
              "    </tr>\n",
              "  </thead>\n",
              "  <tbody>\n",
              "    <tr>\n",
              "      <th>0</th>\n",
              "      <td>enak kuacinya</td>\n",
              "      <td>5</td>\n",
              "      <td>positive</td>\n",
              "    </tr>\n",
              "    <tr>\n",
              "      <th>1</th>\n",
              "      <td>pengiriman cepat packing bagus sesuai pesanan ...</td>\n",
              "      <td>5</td>\n",
              "      <td>positive</td>\n",
              "    </tr>\n",
              "    <tr>\n",
              "      <th>2</th>\n",
              "      <td>pengemasan dominan original atw asli kuacinya ...</td>\n",
              "      <td>4</td>\n",
              "      <td>negative</td>\n",
              "    </tr>\n",
              "    <tr>\n",
              "      <th>3</th>\n",
              "      <td>terimakasih min</td>\n",
              "      <td>5</td>\n",
              "      <td>neutral</td>\n",
              "    </tr>\n",
              "    <tr>\n",
              "      <th>4</th>\n",
              "      <td>udah order kesekian kali jos</td>\n",
              "      <td>5</td>\n",
              "      <td>neutral</td>\n",
              "    </tr>\n",
              "    <tr>\n",
              "      <th>...</th>\n",
              "      <td>...</td>\n",
              "      <td>...</td>\n",
              "      <td>...</td>\n",
              "    </tr>\n",
              "    <tr>\n",
              "      <th>4055</th>\n",
              "      <td>seler responsif dicoba dibuka</td>\n",
              "      <td>5</td>\n",
              "      <td>neutral</td>\n",
              "    </tr>\n",
              "    <tr>\n",
              "      <th>4056</th>\n",
              "      <td>imut2 banget packing aman</td>\n",
              "      <td>5</td>\n",
              "      <td>positive</td>\n",
              "    </tr>\n",
              "    <tr>\n",
              "      <th>4057</th>\n",
              "      <td>god product trusted seler</td>\n",
              "      <td>5</td>\n",
              "      <td>positive</td>\n",
              "    </tr>\n",
              "    <tr>\n",
              "      <th>4058</th>\n",
              "      <td>beli yg 3</td>\n",
              "      <td>5</td>\n",
              "      <td>neutral</td>\n",
              "    </tr>\n",
              "    <tr>\n",
              "      <th>4059</th>\n",
              "      <td>byk campuranya</td>\n",
              "      <td>4</td>\n",
              "      <td>neutral</td>\n",
              "    </tr>\n",
              "  </tbody>\n",
              "</table>\n",
              "<p>4060 rows × 3 columns</p>\n",
              "</div>"
            ],
            "text/plain": [
              "                                                 Review  Rating Sentiment\n",
              "0                                         enak kuacinya       5  positive\n",
              "1     pengiriman cepat packing bagus sesuai pesanan ...       5  positive\n",
              "2     pengemasan dominan original atw asli kuacinya ...       4  negative\n",
              "3                                       terimakasih min       5   neutral\n",
              "4                          udah order kesekian kali jos       5   neutral\n",
              "...                                                 ...     ...       ...\n",
              "4055                      seler responsif dicoba dibuka       5   neutral\n",
              "4056                          imut2 banget packing aman       5  positive\n",
              "4057                          god product trusted seler       5  positive\n",
              "4058                                          beli yg 3       5   neutral\n",
              "4059                                     byk campuranya       4   neutral\n",
              "\n",
              "[4060 rows x 3 columns]"
            ]
          },
          "metadata": {
            "tags": []
          },
          "execution_count": 14
        }
      ]
    },
    {
      "cell_type": "code",
      "metadata": {
        "colab": {
          "base_uri": "https://localhost:8080/"
        },
        "id": "xrb2_i2rZcGC",
        "outputId": "54a57875-f0e2-4e0f-874b-cd7d367b3616"
      },
      "source": [
        "#stemming\n",
        "from nltk import PorterStemmer \n",
        "ps = PorterStemmer() \n",
        "df['Review'] = df['Review'].apply(ps.stem)\n",
        "df"
      ],
      "execution_count": null,
      "outputs": [
        {
          "output_type": "execute_result",
          "data": {
            "text/html": [
              "<div>\n",
              "<style scoped>\n",
              "    .dataframe tbody tr th:only-of-type {\n",
              "        vertical-align: middle;\n",
              "    }\n",
              "\n",
              "    .dataframe tbody tr th {\n",
              "        vertical-align: top;\n",
              "    }\n",
              "\n",
              "    .dataframe thead th {\n",
              "        text-align: right;\n",
              "    }\n",
              "</style>\n",
              "<table border=\"1\" class=\"dataframe\">\n",
              "  <thead>\n",
              "    <tr style=\"text-align: right;\">\n",
              "      <th></th>\n",
              "      <th>Review</th>\n",
              "      <th>Rating</th>\n",
              "      <th>Sentiment</th>\n",
              "    </tr>\n",
              "  </thead>\n",
              "  <tbody>\n",
              "    <tr>\n",
              "      <th>0</th>\n",
              "      <td>enak kuacinya</td>\n",
              "      <td>5</td>\n",
              "      <td>positive</td>\n",
              "    </tr>\n",
              "    <tr>\n",
              "      <th>1</th>\n",
              "      <td>pengiriman cepat packing bagus sesuai pesanan ...</td>\n",
              "      <td>5</td>\n",
              "      <td>positive</td>\n",
              "    </tr>\n",
              "    <tr>\n",
              "      <th>2</th>\n",
              "      <td>pengemasan dominan original atw asli kuacinya ...</td>\n",
              "      <td>4</td>\n",
              "      <td>negative</td>\n",
              "    </tr>\n",
              "    <tr>\n",
              "      <th>3</th>\n",
              "      <td>terimakasih min</td>\n",
              "      <td>5</td>\n",
              "      <td>neutral</td>\n",
              "    </tr>\n",
              "    <tr>\n",
              "      <th>4</th>\n",
              "      <td>udah order kesekian kali jo</td>\n",
              "      <td>5</td>\n",
              "      <td>neutral</td>\n",
              "    </tr>\n",
              "    <tr>\n",
              "      <th>...</th>\n",
              "      <td>...</td>\n",
              "      <td>...</td>\n",
              "      <td>...</td>\n",
              "    </tr>\n",
              "    <tr>\n",
              "      <th>4055</th>\n",
              "      <td>seler responsif dicoba dibuka</td>\n",
              "      <td>5</td>\n",
              "      <td>neutral</td>\n",
              "    </tr>\n",
              "    <tr>\n",
              "      <th>4056</th>\n",
              "      <td>imut2 banget packing aman</td>\n",
              "      <td>5</td>\n",
              "      <td>positive</td>\n",
              "    </tr>\n",
              "    <tr>\n",
              "      <th>4057</th>\n",
              "      <td>god product trusted sel</td>\n",
              "      <td>5</td>\n",
              "      <td>positive</td>\n",
              "    </tr>\n",
              "    <tr>\n",
              "      <th>4058</th>\n",
              "      <td>beli yg 3</td>\n",
              "      <td>5</td>\n",
              "      <td>neutral</td>\n",
              "    </tr>\n",
              "    <tr>\n",
              "      <th>4059</th>\n",
              "      <td>byk campuranya</td>\n",
              "      <td>4</td>\n",
              "      <td>neutral</td>\n",
              "    </tr>\n",
              "  </tbody>\n",
              "</table>\n",
              "<p>4060 rows × 3 columns</p>\n",
              "</div>"
            ],
            "text/plain": [
              "                                                 Review  Rating Sentiment\n",
              "0                                         enak kuacinya       5  positive\n",
              "1     pengiriman cepat packing bagus sesuai pesanan ...       5  positive\n",
              "2     pengemasan dominan original atw asli kuacinya ...       4  negative\n",
              "3                                       terimakasih min       5   neutral\n",
              "4                           udah order kesekian kali jo       5   neutral\n",
              "...                                                 ...     ...       ...\n",
              "4055                      seler responsif dicoba dibuka       5   neutral\n",
              "4056                          imut2 banget packing aman       5  positive\n",
              "4057                            god product trusted sel       5  positive\n",
              "4058                                          beli yg 3       5   neutral\n",
              "4059                                     byk campuranya       4   neutral\n",
              "\n",
              "[4060 rows x 3 columns]"
            ]
          },
          "metadata": {
            "tags": []
          },
          "execution_count": 15
        }
      ]
    },
    {
      "cell_type": "code",
      "metadata": {
        "colab": {
          "base_uri": "https://localhost:8080/"
        },
        "id": "_zGbsuO7j9OP",
        "outputId": "5ac7358e-28fa-4a05-8404-5f363bccd1ab"
      },
      "source": [
        "print(df.shape)\n",
        "#Removes duplicates in place\n",
        "df.drop_duplicates(keep=False, inplace=True)\n",
        "print(df.shape) \n",
        "df"
      ],
      "execution_count": null,
      "outputs": [
        {
          "output_type": "stream",
          "text": [
            "(4060, 3)\n",
            "(3880, 3)\n"
          ],
          "name": "stdout"
        },
        {
          "output_type": "execute_result",
          "data": {
            "text/html": [
              "<div>\n",
              "<style scoped>\n",
              "    .dataframe tbody tr th:only-of-type {\n",
              "        vertical-align: middle;\n",
              "    }\n",
              "\n",
              "    .dataframe tbody tr th {\n",
              "        vertical-align: top;\n",
              "    }\n",
              "\n",
              "    .dataframe thead th {\n",
              "        text-align: right;\n",
              "    }\n",
              "</style>\n",
              "<table border=\"1\" class=\"dataframe\">\n",
              "  <thead>\n",
              "    <tr style=\"text-align: right;\">\n",
              "      <th></th>\n",
              "      <th>Review</th>\n",
              "      <th>Rating</th>\n",
              "      <th>Sentiment</th>\n",
              "    </tr>\n",
              "  </thead>\n",
              "  <tbody>\n",
              "    <tr>\n",
              "      <th>0</th>\n",
              "      <td>enak kuacinya</td>\n",
              "      <td>5</td>\n",
              "      <td>positive</td>\n",
              "    </tr>\n",
              "    <tr>\n",
              "      <th>1</th>\n",
              "      <td>pengiriman cepat packing bagus sesuai pesanan ...</td>\n",
              "      <td>5</td>\n",
              "      <td>positive</td>\n",
              "    </tr>\n",
              "    <tr>\n",
              "      <th>2</th>\n",
              "      <td>pengemasan dominan original atw asli kuacinya ...</td>\n",
              "      <td>4</td>\n",
              "      <td>negative</td>\n",
              "    </tr>\n",
              "    <tr>\n",
              "      <th>3</th>\n",
              "      <td>terimakasih min</td>\n",
              "      <td>5</td>\n",
              "      <td>neutral</td>\n",
              "    </tr>\n",
              "    <tr>\n",
              "      <th>4</th>\n",
              "      <td>udah order kesekian kali jo</td>\n",
              "      <td>5</td>\n",
              "      <td>neutral</td>\n",
              "    </tr>\n",
              "    <tr>\n",
              "      <th>...</th>\n",
              "      <td>...</td>\n",
              "      <td>...</td>\n",
              "      <td>...</td>\n",
              "    </tr>\n",
              "    <tr>\n",
              "      <th>4055</th>\n",
              "      <td>seler responsif dicoba dibuka</td>\n",
              "      <td>5</td>\n",
              "      <td>neutral</td>\n",
              "    </tr>\n",
              "    <tr>\n",
              "      <th>4056</th>\n",
              "      <td>imut2 banget packing aman</td>\n",
              "      <td>5</td>\n",
              "      <td>positive</td>\n",
              "    </tr>\n",
              "    <tr>\n",
              "      <th>4057</th>\n",
              "      <td>god product trusted sel</td>\n",
              "      <td>5</td>\n",
              "      <td>positive</td>\n",
              "    </tr>\n",
              "    <tr>\n",
              "      <th>4058</th>\n",
              "      <td>beli yg 3</td>\n",
              "      <td>5</td>\n",
              "      <td>neutral</td>\n",
              "    </tr>\n",
              "    <tr>\n",
              "      <th>4059</th>\n",
              "      <td>byk campuranya</td>\n",
              "      <td>4</td>\n",
              "      <td>neutral</td>\n",
              "    </tr>\n",
              "  </tbody>\n",
              "</table>\n",
              "<p>3880 rows × 3 columns</p>\n",
              "</div>"
            ],
            "text/plain": [
              "                                                 Review  Rating Sentiment\n",
              "0                                         enak kuacinya       5  positive\n",
              "1     pengiriman cepat packing bagus sesuai pesanan ...       5  positive\n",
              "2     pengemasan dominan original atw asli kuacinya ...       4  negative\n",
              "3                                       terimakasih min       5   neutral\n",
              "4                           udah order kesekian kali jo       5   neutral\n",
              "...                                                 ...     ...       ...\n",
              "4055                      seler responsif dicoba dibuka       5   neutral\n",
              "4056                          imut2 banget packing aman       5  positive\n",
              "4057                            god product trusted sel       5  positive\n",
              "4058                                          beli yg 3       5   neutral\n",
              "4059                                     byk campuranya       4   neutral\n",
              "\n",
              "[3880 rows x 3 columns]"
            ]
          },
          "metadata": {
            "tags": []
          },
          "execution_count": 16
        }
      ]
    },
    {
      "cell_type": "code",
      "metadata": {
        "colab": {
          "base_uri": "https://localhost:8080/"
        },
        "id": "Jw9Hgmg-gqwQ",
        "outputId": "5ac6445c-54e4-44a8-ee68-5cbe78112c34"
      },
      "source": [
        "df[\"Sentiment\"] = df[\"Sentiment\"].astype('category')\n",
        "df.dtypes\n",
        "df['Sentiment'] = df['Sentiment'].cat.codes.astype(float)\n",
        "print(df.dtypes)\n",
        "df"
      ],
      "execution_count": null,
      "outputs": [
        {
          "output_type": "stream",
          "text": [
            "Review        object\n",
            "Rating         int64\n",
            "Sentiment    float64\n",
            "dtype: object\n"
          ],
          "name": "stdout"
        },
        {
          "output_type": "execute_result",
          "data": {
            "text/html": [
              "<div>\n",
              "<style scoped>\n",
              "    .dataframe tbody tr th:only-of-type {\n",
              "        vertical-align: middle;\n",
              "    }\n",
              "\n",
              "    .dataframe tbody tr th {\n",
              "        vertical-align: top;\n",
              "    }\n",
              "\n",
              "    .dataframe thead th {\n",
              "        text-align: right;\n",
              "    }\n",
              "</style>\n",
              "<table border=\"1\" class=\"dataframe\">\n",
              "  <thead>\n",
              "    <tr style=\"text-align: right;\">\n",
              "      <th></th>\n",
              "      <th>Review</th>\n",
              "      <th>Rating</th>\n",
              "      <th>Sentiment</th>\n",
              "    </tr>\n",
              "  </thead>\n",
              "  <tbody>\n",
              "    <tr>\n",
              "      <th>0</th>\n",
              "      <td>enak kuacinya</td>\n",
              "      <td>5</td>\n",
              "      <td>2.0</td>\n",
              "    </tr>\n",
              "    <tr>\n",
              "      <th>1</th>\n",
              "      <td>pengiriman cepat packing bagus sesuai pesanan ...</td>\n",
              "      <td>5</td>\n",
              "      <td>2.0</td>\n",
              "    </tr>\n",
              "    <tr>\n",
              "      <th>2</th>\n",
              "      <td>pengemasan dominan original atw asli kuacinya ...</td>\n",
              "      <td>4</td>\n",
              "      <td>0.0</td>\n",
              "    </tr>\n",
              "    <tr>\n",
              "      <th>3</th>\n",
              "      <td>terimakasih min</td>\n",
              "      <td>5</td>\n",
              "      <td>1.0</td>\n",
              "    </tr>\n",
              "    <tr>\n",
              "      <th>4</th>\n",
              "      <td>udah order kesekian kali jo</td>\n",
              "      <td>5</td>\n",
              "      <td>1.0</td>\n",
              "    </tr>\n",
              "    <tr>\n",
              "      <th>...</th>\n",
              "      <td>...</td>\n",
              "      <td>...</td>\n",
              "      <td>...</td>\n",
              "    </tr>\n",
              "    <tr>\n",
              "      <th>4055</th>\n",
              "      <td>seler responsif dicoba dibuka</td>\n",
              "      <td>5</td>\n",
              "      <td>1.0</td>\n",
              "    </tr>\n",
              "    <tr>\n",
              "      <th>4056</th>\n",
              "      <td>imut2 banget packing aman</td>\n",
              "      <td>5</td>\n",
              "      <td>2.0</td>\n",
              "    </tr>\n",
              "    <tr>\n",
              "      <th>4057</th>\n",
              "      <td>god product trusted sel</td>\n",
              "      <td>5</td>\n",
              "      <td>2.0</td>\n",
              "    </tr>\n",
              "    <tr>\n",
              "      <th>4058</th>\n",
              "      <td>beli yg 3</td>\n",
              "      <td>5</td>\n",
              "      <td>1.0</td>\n",
              "    </tr>\n",
              "    <tr>\n",
              "      <th>4059</th>\n",
              "      <td>byk campuranya</td>\n",
              "      <td>4</td>\n",
              "      <td>1.0</td>\n",
              "    </tr>\n",
              "  </tbody>\n",
              "</table>\n",
              "<p>3880 rows × 3 columns</p>\n",
              "</div>"
            ],
            "text/plain": [
              "                                                 Review  Rating  Sentiment\n",
              "0                                         enak kuacinya       5        2.0\n",
              "1     pengiriman cepat packing bagus sesuai pesanan ...       5        2.0\n",
              "2     pengemasan dominan original atw asli kuacinya ...       4        0.0\n",
              "3                                       terimakasih min       5        1.0\n",
              "4                           udah order kesekian kali jo       5        1.0\n",
              "...                                                 ...     ...        ...\n",
              "4055                      seler responsif dicoba dibuka       5        1.0\n",
              "4056                          imut2 banget packing aman       5        2.0\n",
              "4057                            god product trusted sel       5        2.0\n",
              "4058                                          beli yg 3       5        1.0\n",
              "4059                                     byk campuranya       4        1.0\n",
              "\n",
              "[3880 rows x 3 columns]"
            ]
          },
          "metadata": {
            "tags": []
          },
          "execution_count": 17
        }
      ]
    },
    {
      "cell_type": "code",
      "metadata": {
        "id": "pQxnLeuTj9OQ"
      },
      "source": [
        "#tf-Idf vectorizer\n",
        "vectorizer = TfidfVectorizer() \n",
        "x = vectorizer.fit_transform(df['Review']) \n",
        "y =  df['Sentiment']"
      ],
      "execution_count": null,
      "outputs": []
    },
    {
      "cell_type": "markdown",
      "metadata": {
        "id": "hlRxVlgXj9OR"
      },
      "source": [
        "## Build Train and test sets"
      ]
    },
    {
      "cell_type": "code",
      "metadata": {
        "id": "JBIgUWX0j9OR"
      },
      "source": [
        "X_train,X_test,y_train,y_test = train_test_split(x,y,test_size=0.2)"
      ],
      "execution_count": null,
      "outputs": []
    },
    {
      "cell_type": "markdown",
      "metadata": {
        "id": "FtOonbh9j9OS"
      },
      "source": [
        "## Build Model"
      ]
    },
    {
      "cell_type": "markdown",
      "metadata": {
        "id": "s0kSt7l9r9gq"
      },
      "source": [
        "## Define a function to fit machine learning algorithms\n",
        "Since many of the algorithms we will use are from the sklearn library, they all take similar (practically the same) inputs and produce similar outputs.\n",
        "\n",
        "To prevent writing code multiple times, we will functionise fitting the model and returning the accuracy scores."
      ]
    },
    {
      "cell_type": "code",
      "metadata": {
        "id": "hp0jRLd2r9gr"
      },
      "source": [
        "# Function that runs the requested algorithm and returns the accuracy metrics\n",
        "def fit_ml_algo(algo, X_train, y_train, cv):\n",
        "    \n",
        "    # One Pass\n",
        "    model = algo.fit(X_train, y_train)\n",
        "    acc = round(model.score(X_train, y_train) * 100, 2)\n",
        "    \n",
        "    # Cross Validation \n",
        "    train_pred = model_selection.cross_val_predict(algo, \n",
        "                                                  X_train, \n",
        "                                                  y_train, \n",
        "                                                  cv=cv, \n",
        "                                                  n_jobs = -1)\n",
        "    # Cross-validation accuracy metric\n",
        "    acc_cv = round(metrics.accuracy_score(y_train, train_pred) * 100, 2)\n",
        "    \n",
        "    return train_pred, acc, acc_cv"
      ],
      "execution_count": null,
      "outputs": []
    },
    {
      "cell_type": "markdown",
      "metadata": {
        "id": "BAxJM4Fvr9gs"
      },
      "source": [
        "### Logistic Regression"
      ]
    },
    {
      "cell_type": "code",
      "metadata": {
        "id": "VF7QGdWgr9gs",
        "colab": {
          "base_uri": "https://localhost:8080/"
        },
        "outputId": "876e2ba2-7ebb-4063-cdee-f550227b981f"
      },
      "source": [
        "# Logistic Regression\n",
        "start_time = time.time()\n",
        "train_pred_log, acc_log, acc_cv_log = fit_ml_algo(LogisticRegression(), \n",
        "                                                               X_train, \n",
        "                                                               y_train, \n",
        "                                                                    10)\n",
        "log_time = (time.time() - start_time)\n",
        "print(\"Accuracy: %s\" % acc_log)\n",
        "print(\"Accuracy CV 10-Fold: %s\" % acc_cv_log)\n",
        "print(\"Running Time: %s\" % datetime.timedelta(seconds=log_time))"
      ],
      "execution_count": null,
      "outputs": [
        {
          "output_type": "stream",
          "text": [
            "Accuracy: 88.43\n",
            "Accuracy CV 10-Fold: 76.32\n",
            "Running Time: 0:00:03.724449\n"
          ],
          "name": "stdout"
        }
      ]
    },
    {
      "cell_type": "markdown",
      "metadata": {
        "id": "3tCvVSrur9gt"
      },
      "source": [
        "### K-Nearest Neighbours"
      ]
    },
    {
      "cell_type": "code",
      "metadata": {
        "id": "QClcc5Y8r9gt",
        "colab": {
          "base_uri": "https://localhost:8080/"
        },
        "outputId": "b00695e6-a1b9-4d25-aa16-4e5e2630c5dc"
      },
      "source": [
        "# k-Nearest Neighbours\n",
        "start_time = time.time()\n",
        "train_pred_knn, acc_knn, acc_cv_knn = fit_ml_algo(KNeighborsClassifier(), \n",
        "                                                  X_train, \n",
        "                                                  y_train, \n",
        "                                                  10)\n",
        "knn_time = (time.time() - start_time)\n",
        "print(\"Accuracy: %s\" % acc_knn)\n",
        "print(\"Accuracy CV 10-Fold: %s\" % acc_cv_knn)\n",
        "print(\"Running Time: %s\" % datetime.timedelta(seconds=knn_time))"
      ],
      "execution_count": null,
      "outputs": [
        {
          "output_type": "stream",
          "text": [
            "Accuracy: 35.92\n",
            "Accuracy CV 10-Fold: 29.09\n",
            "Running Time: 0:00:00.699314\n"
          ],
          "name": "stdout"
        }
      ]
    },
    {
      "cell_type": "markdown",
      "metadata": {
        "id": "4Jse7Fogr9gy"
      },
      "source": [
        "### Linear Support Vector Machines (SVC)"
      ]
    },
    {
      "cell_type": "code",
      "metadata": {
        "id": "DiUChr4Vr9gy",
        "colab": {
          "base_uri": "https://localhost:8080/"
        },
        "outputId": "d3f518f5-9cd6-4b26-d314-33503f5e2a81"
      },
      "source": [
        "# Linear SVC\n",
        "start_time = time.time()\n",
        "train_pred_svc, acc_linear_svc, acc_cv_linear_svc = fit_ml_algo(LinearSVC(),\n",
        "                                                                X_train, \n",
        "                                                                y_train, \n",
        "                                                                10)\n",
        "linear_svc_time = (time.time() - start_time)\n",
        "print(\"Accuracy: %s\" % acc_linear_svc)\n",
        "print(\"Accuracy CV 10-Fold: %s\" % acc_cv_linear_svc)\n",
        "print(\"Running Time: %s\" % datetime.timedelta(seconds=linear_svc_time))"
      ],
      "execution_count": null,
      "outputs": [
        {
          "output_type": "stream",
          "text": [
            "Accuracy: 95.68\n",
            "Accuracy CV 10-Fold: 77.13\n",
            "Running Time: 0:00:00.247490\n"
          ],
          "name": "stdout"
        }
      ]
    },
    {
      "cell_type": "markdown",
      "metadata": {
        "id": "2qfy7nvJr9gz"
      },
      "source": [
        "### Stochastic Gradient Descent"
      ]
    },
    {
      "cell_type": "code",
      "metadata": {
        "id": "7eY5X96nr9gz",
        "colab": {
          "base_uri": "https://localhost:8080/"
        },
        "outputId": "4622c204-acc8-49a9-9187-d5de75899370"
      },
      "source": [
        "# Stochastic Gradient Descent\n",
        "start_time = time.time()\n",
        "train_pred_sgd, acc_sgd, acc_cv_sgd = fit_ml_algo(SGDClassifier(), \n",
        "                                                  X_train, \n",
        "                                                  y_train,\n",
        "                                                  10)\n",
        "model = SGDClassifier().fit(X_train, y_train)\n",
        "print(model.loss_function_)\n",
        "sgd_time = (time.time() - start_time)\n",
        "print(\"Accuracy: %s\" % acc_sgd)\n",
        "print(\"Accuracy CV 10-Fold: %s\" % acc_cv_sgd)\n",
        "print(\"Running Time: %s\" % datetime.timedelta(seconds=sgd_time))"
      ],
      "execution_count": null,
      "outputs": [
        {
          "output_type": "stream",
          "text": [
            "<sklearn.linear_model._sgd_fast.Hinge object at 0x7f5f029e5050>\n",
            "Accuracy: 95.36\n",
            "Accuracy CV 10-Fold: 76.84\n",
            "Running Time: 0:00:01.419065\n"
          ],
          "name": "stdout"
        }
      ]
    },
    {
      "cell_type": "markdown",
      "metadata": {
        "id": "fDTkRfMsr9g0"
      },
      "source": [
        "### Decision Tree Classifier"
      ]
    },
    {
      "cell_type": "code",
      "metadata": {
        "id": "Eu6bsBPfr9g0",
        "colab": {
          "base_uri": "https://localhost:8080/"
        },
        "outputId": "e74d11a9-f4fb-466d-c60b-83fc6c0d6c2b"
      },
      "source": [
        "# Decision Tree Classifier\n",
        "start_time = time.time()\n",
        "train_pred_dt, acc_dt, acc_cv_dt = fit_ml_algo(DecisionTreeClassifier(), \n",
        "                                                                X_train, \n",
        "                                                                y_train,\n",
        "                                                                10)\n",
        "dt_time = (time.time() - start_time)\n",
        "print(\"Accuracy: %s\" % acc_dt)\n",
        "print(\"Accuracy CV 10-Fold: %s\" % acc_cv_dt)\n",
        "print(\"Running Time: %s\" % datetime.timedelta(seconds=dt_time))"
      ],
      "execution_count": null,
      "outputs": [
        {
          "output_type": "stream",
          "text": [
            "Accuracy: 99.77\n",
            "Accuracy CV 10-Fold: 72.62\n",
            "Running Time: 0:00:01.680519\n"
          ],
          "name": "stdout"
        }
      ]
    },
    {
      "cell_type": "markdown",
      "metadata": {
        "id": "E8Iup0zQr9g1"
      },
      "source": [
        "### Gradient Boost Trees"
      ]
    },
    {
      "cell_type": "code",
      "metadata": {
        "id": "mziyrn6br9g1",
        "colab": {
          "base_uri": "https://localhost:8080/"
        },
        "outputId": "1bb399e6-3067-499d-fada-0b356c40b557"
      },
      "source": [
        "# Gradient Boosting Trees\n",
        "start_time = time.time()\n",
        "train_pred_gbt, acc_gbt, acc_cv_gbt = fit_ml_algo(GradientBoostingClassifier(), \n",
        "                                                                       X_train, \n",
        "                                                                       y_train,\n",
        "                                                                       10)\n",
        "\n",
        "gbt_time = (time.time() - start_time)\n",
        "print(\"Accuracy: %s\" % acc_gbt)\n",
        "print(\"Accuracy CV 10-Fold: %s\" % acc_cv_gbt)\n",
        "print(\"Running Time: %s\" % datetime.timedelta(seconds=gbt_time))"
      ],
      "execution_count": null,
      "outputs": [
        {
          "output_type": "stream",
          "text": [
            "[0.         0.         0.00034773 ... 0.         0.         0.        ]\n",
            "Accuracy: 82.02\n",
            "Accuracy CV 10-Fold: 74.84\n",
            "Running Time: 0:00:56.384694\n"
          ],
          "name": "stdout"
        }
      ]
    },
    {
      "cell_type": "markdown",
      "metadata": {
        "id": "1UI7HbMMr9hC"
      },
      "source": [
        "## Model Results\n",
        "Which model had the best cross-validation accuracy?\n",
        "\n",
        "**Note:** We care most about cross-validation metrics because the metrics we get from `.fit()` can randomly score higher than usual."
      ]
    },
    {
      "cell_type": "markdown",
      "metadata": {
        "id": "oM-btn2Fr9hD"
      },
      "source": [
        "### Regular accuracy scores"
      ]
    },
    {
      "cell_type": "code",
      "metadata": {
        "id": "5NfeHF_xr9hD",
        "colab": {
          "base_uri": "https://localhost:8080/",
          "height": 252
        },
        "outputId": "8776d5d8-1c6e-4165-ca52-9f6e347752eb"
      },
      "source": [
        "models = pd.DataFrame({\n",
        "    'Model': ['KNN', 'Logistic Regression', \n",
        "              'Stochastic Gradient Decent', 'Linear SVC', \n",
        "              'Decision Tree', 'Gradient Boosting Trees'],\n",
        "    'Score': [\n",
        "        acc_knn, \n",
        "        acc_log,\n",
        "        acc_sgd, \n",
        "        acc_linear_svc, \n",
        "        acc_dt,\n",
        "        acc_gbt\n",
        "    ]})\n",
        "print(\"---Reuglar Accuracy Scores---\")\n",
        "models.sort_values(by='Score', ascending=False)"
      ],
      "execution_count": null,
      "outputs": [
        {
          "output_type": "stream",
          "text": [
            "---Reuglar Accuracy Scores---\n"
          ],
          "name": "stdout"
        },
        {
          "output_type": "execute_result",
          "data": {
            "text/html": [
              "<div>\n",
              "<style scoped>\n",
              "    .dataframe tbody tr th:only-of-type {\n",
              "        vertical-align: middle;\n",
              "    }\n",
              "\n",
              "    .dataframe tbody tr th {\n",
              "        vertical-align: top;\n",
              "    }\n",
              "\n",
              "    .dataframe thead th {\n",
              "        text-align: right;\n",
              "    }\n",
              "</style>\n",
              "<table border=\"1\" class=\"dataframe\">\n",
              "  <thead>\n",
              "    <tr style=\"text-align: right;\">\n",
              "      <th></th>\n",
              "      <th>Model</th>\n",
              "      <th>Score</th>\n",
              "    </tr>\n",
              "  </thead>\n",
              "  <tbody>\n",
              "    <tr>\n",
              "      <th>4</th>\n",
              "      <td>Decision Tree</td>\n",
              "      <td>99.77</td>\n",
              "    </tr>\n",
              "    <tr>\n",
              "      <th>3</th>\n",
              "      <td>Linear SVC</td>\n",
              "      <td>95.68</td>\n",
              "    </tr>\n",
              "    <tr>\n",
              "      <th>2</th>\n",
              "      <td>Stochastic Gradient Decent</td>\n",
              "      <td>95.36</td>\n",
              "    </tr>\n",
              "    <tr>\n",
              "      <th>1</th>\n",
              "      <td>Logistic Regression</td>\n",
              "      <td>88.43</td>\n",
              "    </tr>\n",
              "    <tr>\n",
              "      <th>5</th>\n",
              "      <td>Gradient Boosting Trees</td>\n",
              "      <td>82.09</td>\n",
              "    </tr>\n",
              "    <tr>\n",
              "      <th>0</th>\n",
              "      <td>KNN</td>\n",
              "      <td>35.92</td>\n",
              "    </tr>\n",
              "  </tbody>\n",
              "</table>\n",
              "</div>"
            ],
            "text/plain": [
              "                        Model  Score\n",
              "4               Decision Tree  99.77\n",
              "3                  Linear SVC  95.68\n",
              "2  Stochastic Gradient Decent  95.36\n",
              "1         Logistic Regression  88.43\n",
              "5     Gradient Boosting Trees  82.09\n",
              "0                         KNN  35.92"
            ]
          },
          "metadata": {
            "tags": []
          },
          "execution_count": 34
        }
      ]
    },
    {
      "cell_type": "code",
      "metadata": {
        "id": "WMxRBfgir9hE",
        "colab": {
          "base_uri": "https://localhost:8080/",
          "height": 252
        },
        "outputId": "90540af0-d51d-453f-b3f7-7384c0183634"
      },
      "source": [
        "cv_models = pd.DataFrame({\n",
        "    'Model': ['KNN', 'Logistic Regression',\n",
        "              'Stochastic Gradient Decent', 'Linear SVC', \n",
        "              'Decision Tree', 'Gradient Boosting Trees'],\n",
        "    'Score': [\n",
        "        acc_cv_knn, \n",
        "        acc_cv_log,\n",
        "        acc_cv_sgd, \n",
        "        acc_cv_linear_svc, \n",
        "        acc_cv_dt,\n",
        "        acc_cv_gbt\n",
        "    ]})\n",
        "print('---Cross-validation Accuracy Scores---')\n",
        "cv_models.sort_values(by='Score', ascending=False)"
      ],
      "execution_count": null,
      "outputs": [
        {
          "output_type": "stream",
          "text": [
            "---Cross-validation Accuracy Scores---\n"
          ],
          "name": "stdout"
        },
        {
          "output_type": "execute_result",
          "data": {
            "text/html": [
              "<div>\n",
              "<style scoped>\n",
              "    .dataframe tbody tr th:only-of-type {\n",
              "        vertical-align: middle;\n",
              "    }\n",
              "\n",
              "    .dataframe tbody tr th {\n",
              "        vertical-align: top;\n",
              "    }\n",
              "\n",
              "    .dataframe thead th {\n",
              "        text-align: right;\n",
              "    }\n",
              "</style>\n",
              "<table border=\"1\" class=\"dataframe\">\n",
              "  <thead>\n",
              "    <tr style=\"text-align: right;\">\n",
              "      <th></th>\n",
              "      <th>Model</th>\n",
              "      <th>Score</th>\n",
              "    </tr>\n",
              "  </thead>\n",
              "  <tbody>\n",
              "    <tr>\n",
              "      <th>3</th>\n",
              "      <td>Linear SVC</td>\n",
              "      <td>77.13</td>\n",
              "    </tr>\n",
              "    <tr>\n",
              "      <th>2</th>\n",
              "      <td>Stochastic Gradient Decent</td>\n",
              "      <td>76.58</td>\n",
              "    </tr>\n",
              "    <tr>\n",
              "      <th>1</th>\n",
              "      <td>Logistic Regression</td>\n",
              "      <td>76.32</td>\n",
              "    </tr>\n",
              "    <tr>\n",
              "      <th>5</th>\n",
              "      <td>Gradient Boosting Trees</td>\n",
              "      <td>74.52</td>\n",
              "    </tr>\n",
              "    <tr>\n",
              "      <th>4</th>\n",
              "      <td>Decision Tree</td>\n",
              "      <td>72.62</td>\n",
              "    </tr>\n",
              "    <tr>\n",
              "      <th>0</th>\n",
              "      <td>KNN</td>\n",
              "      <td>29.09</td>\n",
              "    </tr>\n",
              "  </tbody>\n",
              "</table>\n",
              "</div>"
            ],
            "text/plain": [
              "                        Model  Score\n",
              "3                  Linear SVC  77.13\n",
              "2  Stochastic Gradient Decent  76.58\n",
              "1         Logistic Regression  76.32\n",
              "5     Gradient Boosting Trees  74.52\n",
              "4               Decision Tree  72.62\n",
              "0                         KNN  29.09"
            ]
          },
          "metadata": {
            "tags": []
          },
          "execution_count": 35
        }
      ]
    },
    {
      "cell_type": "markdown",
      "metadata": {
        "id": "m5t8-hj-r9hF"
      },
      "source": [
        "We can see from the tables, the CatBoost model had the best results. Getting just under 82% is pretty good considering guessing would result in about 50% accuracy (0 or 1).\n",
        "\n",
        "We'll pay more attention to the cross-validation figure.\n",
        "\n",
        "Cross-validation is more robust than just the `.fit()` models as it does multiple passes over the data instead of one.\n",
        "\n",
        "Because the CatBoost model got the best results, we'll use it for the next steps.\n",
        "\n",
        "**Challenge:** How could you improve the CatBoost model?"
      ]
    },
    {
      "cell_type": "markdown",
      "metadata": {
        "id": "p8h93sCwbg12"
      },
      "source": [
        "##Evaluate"
      ]
    },
    {
      "cell_type": "code",
      "metadata": {
        "colab": {
          "base_uri": "https://localhost:8080/"
        },
        "id": "5bnMVPDdbiOg",
        "outputId": "4d1e5cd4-19e0-4bfd-b3d3-3b599ef04ded"
      },
      "source": [
        "#making predictions\n",
        "y_pred = model.predict(X_test)\n",
        "#model accuracy\n",
        "print(\"Model Accuracy : {}\".format((y_pred == y_test).mean()))\n",
        "#confusion matrix \n",
        "print(confusion_matrix(y_test,y_pred))"
      ],
      "execution_count": null,
      "outputs": [
        {
          "output_type": "stream",
          "text": [
            "Model Accuracy : 0.7989690721649485\n",
            "[[ 60   8  44]\n",
            " [  2  46  61]\n",
            " [ 13  28 514]]\n"
          ],
          "name": "stdout"
        }
      ]
    },
    {
      "cell_type": "markdown",
      "metadata": {
        "id": "S2y8NYwHgaNN"
      },
      "source": [
        "#**Building model with LSTM**"
      ]
    },
    {
      "cell_type": "markdown",
      "metadata": {
        "id": "ZFlCywWDMbz0"
      },
      "source": [
        "## Load Dataset"
      ]
    },
    {
      "cell_type": "code",
      "metadata": {
        "id": "zMi41yXRaX0f",
        "colab": {
          "base_uri": "https://localhost:8080/"
        },
        "outputId": "daec5bc9-0828-46c2-c388-b64b870434cf"
      },
      "source": [
        "!wget https://raw.githubusercontent.com/H4rfu1/ML-project-TokoLitik-tim-Undagi/main/Response/dataset/dataset_review_tokped_labelled.csv"
      ],
      "execution_count": null,
      "outputs": [
        {
          "output_type": "stream",
          "text": [
            "--2021-05-20 08:11:13--  https://raw.githubusercontent.com/H4rfu1/ML-project-TokoLitik-tim-Undagi/main/Response/dataset_review_tokped_labelled.csv\n",
            "Resolving raw.githubusercontent.com (raw.githubusercontent.com)... 185.199.108.133, 185.199.109.133, 185.199.110.133, ...\n",
            "Connecting to raw.githubusercontent.com (raw.githubusercontent.com)|185.199.108.133|:443... connected.\n",
            "HTTP request sent, awaiting response... 200 OK\n",
            "Length: 294589 (288K) [text/plain]\n",
            "Saving to: ‘dataset_review_tokped_labelled.csv’\n",
            "\n",
            "\r          dataset_r   0%[                    ]       0  --.-KB/s               \rdataset_review_tokp 100%[===================>] 287.68K  --.-KB/s    in 0.03s   \n",
            "\n",
            "2021-05-20 08:11:14 (8.59 MB/s) - ‘dataset_review_tokped_labelled.csv’ saved [294589/294589]\n",
            "\n"
          ],
          "name": "stdout"
        }
      ]
    },
    {
      "cell_type": "code",
      "metadata": {
        "id": "sZDh4uDCd1Cv",
        "colab": {
          "base_uri": "https://localhost:8080/",
          "height": 419
        },
        "outputId": "27a0e43d-fba1-4b2f-9e23-cca58045c0e6"
      },
      "source": [
        "#dataset from crawling process\n",
        "df = pd.read_csv('/content/dataset_review_tokped_labelled.csv')\n",
        "df"
      ],
      "execution_count": null,
      "outputs": [
        {
          "output_type": "execute_result",
          "data": {
            "text/html": [
              "<div>\n",
              "<style scoped>\n",
              "    .dataframe tbody tr th:only-of-type {\n",
              "        vertical-align: middle;\n",
              "    }\n",
              "\n",
              "    .dataframe tbody tr th {\n",
              "        vertical-align: top;\n",
              "    }\n",
              "\n",
              "    .dataframe thead th {\n",
              "        text-align: right;\n",
              "    }\n",
              "</style>\n",
              "<table border=\"1\" class=\"dataframe\">\n",
              "  <thead>\n",
              "    <tr style=\"text-align: right;\">\n",
              "      <th></th>\n",
              "      <th>Review</th>\n",
              "      <th>Rating</th>\n",
              "      <th>Sentiment</th>\n",
              "    </tr>\n",
              "  </thead>\n",
              "  <tbody>\n",
              "    <tr>\n",
              "      <th>0</th>\n",
              "      <td>enak kuacinya</td>\n",
              "      <td>5</td>\n",
              "      <td>positive</td>\n",
              "    </tr>\n",
              "    <tr>\n",
              "      <th>1</th>\n",
              "      <td>pengiriman cepat packing bagus sesuai pesanan ...</td>\n",
              "      <td>5</td>\n",
              "      <td>positive</td>\n",
              "    </tr>\n",
              "    <tr>\n",
              "      <th>2</th>\n",
              "      <td>pengemasan luar biasa baik untuk rasa menurut ...</td>\n",
              "      <td>4</td>\n",
              "      <td>negative</td>\n",
              "    </tr>\n",
              "    <tr>\n",
              "      <th>3</th>\n",
              "      <td>terimakasih min</td>\n",
              "      <td>5</td>\n",
              "      <td>neutral</td>\n",
              "    </tr>\n",
              "    <tr>\n",
              "      <th>4</th>\n",
              "      <td>udah order untuk kesekian kali jos</td>\n",
              "      <td>5</td>\n",
              "      <td>neutral</td>\n",
              "    </tr>\n",
              "    <tr>\n",
              "      <th>...</th>\n",
              "      <td>...</td>\n",
              "      <td>...</td>\n",
              "      <td>...</td>\n",
              "    </tr>\n",
              "    <tr>\n",
              "      <th>4055</th>\n",
              "      <td>seller sangat responsif rasa belum dicoba kare...</td>\n",
              "      <td>5</td>\n",
              "      <td>neutral</td>\n",
              "    </tr>\n",
              "    <tr>\n",
              "      <th>4056</th>\n",
              "      <td>imut2 banget packing aman</td>\n",
              "      <td>5</td>\n",
              "      <td>positive</td>\n",
              "    </tr>\n",
              "    <tr>\n",
              "      <th>4057</th>\n",
              "      <td>good product trusted seller</td>\n",
              "      <td>5</td>\n",
              "      <td>positive</td>\n",
              "    </tr>\n",
              "    <tr>\n",
              "      <th>4058</th>\n",
              "      <td>sudah beli yg ke 3</td>\n",
              "      <td>5</td>\n",
              "      <td>neutral</td>\n",
              "    </tr>\n",
              "    <tr>\n",
              "      <th>4059</th>\n",
              "      <td>byk campurannya</td>\n",
              "      <td>4</td>\n",
              "      <td>neutral</td>\n",
              "    </tr>\n",
              "  </tbody>\n",
              "</table>\n",
              "<p>4060 rows × 3 columns</p>\n",
              "</div>"
            ],
            "text/plain": [
              "                                                 Review  Rating Sentiment\n",
              "0                                         enak kuacinya       5  positive\n",
              "1     pengiriman cepat packing bagus sesuai pesanan ...       5  positive\n",
              "2     pengemasan luar biasa baik untuk rasa menurut ...       4  negative\n",
              "3                                       terimakasih min       5   neutral\n",
              "4                    udah order untuk kesekian kali jos       5   neutral\n",
              "...                                                 ...     ...       ...\n",
              "4055  seller sangat responsif rasa belum dicoba kare...       5   neutral\n",
              "4056                          imut2 banget packing aman       5  positive\n",
              "4057                        good product trusted seller       5  positive\n",
              "4058                                 sudah beli yg ke 3       5   neutral\n",
              "4059                                    byk campurannya       4   neutral\n",
              "\n",
              "[4060 rows x 3 columns]"
            ]
          },
          "metadata": {
            "tags": []
          },
          "execution_count": 3
        }
      ]
    },
    {
      "cell_type": "markdown",
      "metadata": {
        "id": "IspkD17gNwyj"
      },
      "source": [
        "## Check Dataset"
      ]
    },
    {
      "cell_type": "code",
      "metadata": {
        "colab": {
          "base_uri": "https://localhost:8080/",
          "height": 307
        },
        "id": "mAg9vPtOjeZB",
        "outputId": "f681d288-016f-4c59-9076-e1e3db32c72e"
      },
      "source": [
        "pd.value_counts(df['Sentiment']).plot.bar()"
      ],
      "execution_count": null,
      "outputs": [
        {
          "output_type": "execute_result",
          "data": {
            "text/plain": [
              "<matplotlib.axes._subplots.AxesSubplot at 0x7fd8caea46d0>"
            ]
          },
          "metadata": {
            "tags": []
          },
          "execution_count": 4
        },
        {
          "output_type": "display_data",
          "data": {
            "image/png": "[encoded data removed]",
            "text/plain": [
              "<Figure size 432x288 with 1 Axes>"
            ]
          },
          "metadata": {
            "tags": [],
            "needs_background": "light"
          }
        }
      ]
    },
    {
      "cell_type": "code",
      "metadata": {
        "id": "kFZvR2D8Nz9T",
        "colab": {
          "base_uri": "https://localhost:8080/"
        },
        "outputId": "4090180b-3cee-42d5-8868-a6bf8d11b30a"
      },
      "source": [
        "#to check shape of the dataset\n",
        "print(df.shape) \n",
        "\n",
        "#to look the header of dataset\n",
        "df.info()\n"
      ],
      "execution_count": null,
      "outputs": [
        {
          "output_type": "stream",
          "text": [
            "(4060, 3)\n",
            "<class 'pandas.core.frame.DataFrame'>\n",
            "RangeIndex: 4060 entries, 0 to 4059\n",
            "Data columns (total 3 columns):\n",
            " #   Column     Non-Null Count  Dtype \n",
            "---  ------     --------------  ----- \n",
            " 0   Review     4060 non-null   object\n",
            " 1   Rating     4060 non-null   int64 \n",
            " 2   Sentiment  4060 non-null   object\n",
            "dtypes: int64(1), object(2)\n",
            "memory usage: 95.3+ KB\n"
          ],
          "name": "stdout"
        }
      ]
    },
    {
      "cell_type": "code",
      "metadata": {
        "colab": {
          "base_uri": "https://localhost:8080/"
        },
        "id": "Gp1ZnteeXi2D",
        "outputId": "446851e0-01c2-49b8-f0ad-c2457cdc21a8"
      },
      "source": [
        "df[\"Sentiment\"] = df[\"Sentiment\"].astype('category')\n",
        "df.dtypes"
      ],
      "execution_count": null,
      "outputs": [
        {
          "output_type": "execute_result",
          "data": {
            "text/plain": [
              "Review         object\n",
              "Rating          int64\n",
              "Sentiment    category\n",
              "dtype: object"
            ]
          },
          "metadata": {
            "tags": []
          },
          "execution_count": 6
        }
      ]
    },
    {
      "cell_type": "code",
      "metadata": {
        "id": "ynEuuk2MM3h9",
        "colab": {
          "base_uri": "https://localhost:8080/",
          "height": 419
        },
        "outputId": "5ff94f9d-2690-4c58-bda9-19f8dc427a78"
      },
      "source": [
        "#separate column category and add value to it\n",
        "category = pd.get_dummies(df.Sentiment)\n",
        "df_new = pd.concat([df, category], axis=1)\n",
        "# df_new = df_new.drop(columns='Sentiment')\n",
        "df_new"
      ],
      "execution_count": null,
      "outputs": [
        {
          "output_type": "execute_result",
          "data": {
            "text/html": [
              "<div>\n",
              "<style scoped>\n",
              "    .dataframe tbody tr th:only-of-type {\n",
              "        vertical-align: middle;\n",
              "    }\n",
              "\n",
              "    .dataframe tbody tr th {\n",
              "        vertical-align: top;\n",
              "    }\n",
              "\n",
              "    .dataframe thead th {\n",
              "        text-align: right;\n",
              "    }\n",
              "</style>\n",
              "<table border=\"1\" class=\"dataframe\">\n",
              "  <thead>\n",
              "    <tr style=\"text-align: right;\">\n",
              "      <th></th>\n",
              "      <th>Review</th>\n",
              "      <th>Rating</th>\n",
              "      <th>Sentiment</th>\n",
              "      <th>negative</th>\n",
              "      <th>neutral</th>\n",
              "      <th>positive</th>\n",
              "    </tr>\n",
              "  </thead>\n",
              "  <tbody>\n",
              "    <tr>\n",
              "      <th>0</th>\n",
              "      <td>enak kuacinya</td>\n",
              "      <td>5</td>\n",
              "      <td>positive</td>\n",
              "      <td>0</td>\n",
              "      <td>0</td>\n",
              "      <td>1</td>\n",
              "    </tr>\n",
              "    <tr>\n",
              "      <th>1</th>\n",
              "      <td>pengiriman cepat packing bagus sesuai pesanan ...</td>\n",
              "      <td>5</td>\n",
              "      <td>positive</td>\n",
              "      <td>0</td>\n",
              "      <td>0</td>\n",
              "      <td>1</td>\n",
              "    </tr>\n",
              "    <tr>\n",
              "      <th>2</th>\n",
              "      <td>pengemasan luar biasa baik untuk rasa menurut ...</td>\n",
              "      <td>4</td>\n",
              "      <td>negative</td>\n",
              "      <td>1</td>\n",
              "      <td>0</td>\n",
              "      <td>0</td>\n",
              "    </tr>\n",
              "    <tr>\n",
              "      <th>3</th>\n",
              "      <td>terimakasih min</td>\n",
              "      <td>5</td>\n",
              "      <td>neutral</td>\n",
              "      <td>0</td>\n",
              "      <td>1</td>\n",
              "      <td>0</td>\n",
              "    </tr>\n",
              "    <tr>\n",
              "      <th>4</th>\n",
              "      <td>udah order untuk kesekian kali jos</td>\n",
              "      <td>5</td>\n",
              "      <td>neutral</td>\n",
              "      <td>0</td>\n",
              "      <td>1</td>\n",
              "      <td>0</td>\n",
              "    </tr>\n",
              "    <tr>\n",
              "      <th>...</th>\n",
              "      <td>...</td>\n",
              "      <td>...</td>\n",
              "      <td>...</td>\n",
              "      <td>...</td>\n",
              "      <td>...</td>\n",
              "      <td>...</td>\n",
              "    </tr>\n",
              "    <tr>\n",
              "      <th>4055</th>\n",
              "      <td>seller sangat responsif rasa belum dicoba kare...</td>\n",
              "      <td>5</td>\n",
              "      <td>neutral</td>\n",
              "      <td>0</td>\n",
              "      <td>1</td>\n",
              "      <td>0</td>\n",
              "    </tr>\n",
              "    <tr>\n",
              "      <th>4056</th>\n",
              "      <td>imut2 banget packing aman</td>\n",
              "      <td>5</td>\n",
              "      <td>positive</td>\n",
              "      <td>0</td>\n",
              "      <td>0</td>\n",
              "      <td>1</td>\n",
              "    </tr>\n",
              "    <tr>\n",
              "      <th>4057</th>\n",
              "      <td>good product trusted seller</td>\n",
              "      <td>5</td>\n",
              "      <td>positive</td>\n",
              "      <td>0</td>\n",
              "      <td>0</td>\n",
              "      <td>1</td>\n",
              "    </tr>\n",
              "    <tr>\n",
              "      <th>4058</th>\n",
              "      <td>sudah beli yg ke 3</td>\n",
              "      <td>5</td>\n",
              "      <td>neutral</td>\n",
              "      <td>0</td>\n",
              "      <td>1</td>\n",
              "      <td>0</td>\n",
              "    </tr>\n",
              "    <tr>\n",
              "      <th>4059</th>\n",
              "      <td>byk campurannya</td>\n",
              "      <td>4</td>\n",
              "      <td>neutral</td>\n",
              "      <td>0</td>\n",
              "      <td>1</td>\n",
              "      <td>0</td>\n",
              "    </tr>\n",
              "  </tbody>\n",
              "</table>\n",
              "<p>4060 rows × 6 columns</p>\n",
              "</div>"
            ],
            "text/plain": [
              "                                                 Review  ...  positive\n",
              "0                                         enak kuacinya  ...         1\n",
              "1     pengiriman cepat packing bagus sesuai pesanan ...  ...         1\n",
              "2     pengemasan luar biasa baik untuk rasa menurut ...  ...         0\n",
              "3                                       terimakasih min  ...         0\n",
              "4                    udah order untuk kesekian kali jos  ...         0\n",
              "...                                                 ...  ...       ...\n",
              "4055  seller sangat responsif rasa belum dicoba kare...  ...         0\n",
              "4056                          imut2 banget packing aman  ...         1\n",
              "4057                        good product trusted seller  ...         1\n",
              "4058                                 sudah beli yg ke 3  ...         0\n",
              "4059                                    byk campurannya  ...         0\n",
              "\n",
              "[4060 rows x 6 columns]"
            ]
          },
          "metadata": {
            "tags": []
          },
          "execution_count": 7
        }
      ]
    },
    {
      "cell_type": "markdown",
      "metadata": {
        "id": "B1-y1W2nNYbN"
      },
      "source": [
        "## Peprocess Dataset"
      ]
    },
    {
      "cell_type": "code",
      "metadata": {
        "id": "yUJq7YJhNr63",
        "colab": {
          "base_uri": "https://localhost:8080/",
          "height": 419
        },
        "outputId": "6afb975e-e8e6-4f46-e1b0-83c0a077e3de"
      },
      "source": [
        "#remove repeated char\n",
        "# continously repeating character\n",
        "# from the word \n",
        "def conti_rep_char(str1):\n",
        "    tchr = str1.group(0)\n",
        "    if len(tchr) > 1:\n",
        "      return tchr[0:1]\n",
        "# define a function to check\n",
        "# whether unique character \n",
        "# is present or not\n",
        "def check_unique_char(rep, sent_text):\n",
        "    # regular expression for \n",
        "    # repetion of characters\n",
        "    convert = re.sub(r'(\\w)\\1+', \n",
        "                     rep,\n",
        "                     sent_text)\n",
        "      \n",
        "    # returing the converted word\n",
        "    return convert\n",
        "\n",
        "df_new['Review'] = df_new['Review'].apply(lambda x : check_unique_char(conti_rep_char, x))\n",
        "df_new"
      ],
      "execution_count": null,
      "outputs": [
        {
          "output_type": "execute_result",
          "data": {
            "text/html": [
              "<div>\n",
              "<style scoped>\n",
              "    .dataframe tbody tr th:only-of-type {\n",
              "        vertical-align: middle;\n",
              "    }\n",
              "\n",
              "    .dataframe tbody tr th {\n",
              "        vertical-align: top;\n",
              "    }\n",
              "\n",
              "    .dataframe thead th {\n",
              "        text-align: right;\n",
              "    }\n",
              "</style>\n",
              "<table border=\"1\" class=\"dataframe\">\n",
              "  <thead>\n",
              "    <tr style=\"text-align: right;\">\n",
              "      <th></th>\n",
              "      <th>Review</th>\n",
              "      <th>Rating</th>\n",
              "      <th>Sentiment</th>\n",
              "      <th>negative</th>\n",
              "      <th>neutral</th>\n",
              "      <th>positive</th>\n",
              "    </tr>\n",
              "  </thead>\n",
              "  <tbody>\n",
              "    <tr>\n",
              "      <th>0</th>\n",
              "      <td>enak kuacinya</td>\n",
              "      <td>5</td>\n",
              "      <td>positive</td>\n",
              "      <td>0</td>\n",
              "      <td>0</td>\n",
              "      <td>1</td>\n",
              "    </tr>\n",
              "    <tr>\n",
              "      <th>1</th>\n",
              "      <td>pengiriman cepat packing bagus sesuai pesanan ...</td>\n",
              "      <td>5</td>\n",
              "      <td>positive</td>\n",
              "      <td>0</td>\n",
              "      <td>0</td>\n",
              "      <td>1</td>\n",
              "    </tr>\n",
              "    <tr>\n",
              "      <th>2</th>\n",
              "      <td>pengemasan luar biasa baik untuk rasa menurut ...</td>\n",
              "      <td>4</td>\n",
              "      <td>negative</td>\n",
              "      <td>1</td>\n",
              "      <td>0</td>\n",
              "      <td>0</td>\n",
              "    </tr>\n",
              "    <tr>\n",
              "      <th>3</th>\n",
              "      <td>terimakasih min</td>\n",
              "      <td>5</td>\n",
              "      <td>neutral</td>\n",
              "      <td>0</td>\n",
              "      <td>1</td>\n",
              "      <td>0</td>\n",
              "    </tr>\n",
              "    <tr>\n",
              "      <th>4</th>\n",
              "      <td>udah order untuk kesekian kali jos</td>\n",
              "      <td>5</td>\n",
              "      <td>neutral</td>\n",
              "      <td>0</td>\n",
              "      <td>1</td>\n",
              "      <td>0</td>\n",
              "    </tr>\n",
              "    <tr>\n",
              "      <th>...</th>\n",
              "      <td>...</td>\n",
              "      <td>...</td>\n",
              "      <td>...</td>\n",
              "      <td>...</td>\n",
              "      <td>...</td>\n",
              "      <td>...</td>\n",
              "    </tr>\n",
              "    <tr>\n",
              "      <th>4055</th>\n",
              "      <td>seler sangat responsif rasa belum dicoba karen...</td>\n",
              "      <td>5</td>\n",
              "      <td>neutral</td>\n",
              "      <td>0</td>\n",
              "      <td>1</td>\n",
              "      <td>0</td>\n",
              "    </tr>\n",
              "    <tr>\n",
              "      <th>4056</th>\n",
              "      <td>imut2 banget packing aman</td>\n",
              "      <td>5</td>\n",
              "      <td>positive</td>\n",
              "      <td>0</td>\n",
              "      <td>0</td>\n",
              "      <td>1</td>\n",
              "    </tr>\n",
              "    <tr>\n",
              "      <th>4057</th>\n",
              "      <td>god product trusted seler</td>\n",
              "      <td>5</td>\n",
              "      <td>positive</td>\n",
              "      <td>0</td>\n",
              "      <td>0</td>\n",
              "      <td>1</td>\n",
              "    </tr>\n",
              "    <tr>\n",
              "      <th>4058</th>\n",
              "      <td>sudah beli yg ke 3</td>\n",
              "      <td>5</td>\n",
              "      <td>neutral</td>\n",
              "      <td>0</td>\n",
              "      <td>1</td>\n",
              "      <td>0</td>\n",
              "    </tr>\n",
              "    <tr>\n",
              "      <th>4059</th>\n",
              "      <td>byk campuranya</td>\n",
              "      <td>4</td>\n",
              "      <td>neutral</td>\n",
              "      <td>0</td>\n",
              "      <td>1</td>\n",
              "      <td>0</td>\n",
              "    </tr>\n",
              "  </tbody>\n",
              "</table>\n",
              "<p>4060 rows × 6 columns</p>\n",
              "</div>"
            ],
            "text/plain": [
              "                                                 Review  ...  positive\n",
              "0                                         enak kuacinya  ...         1\n",
              "1     pengiriman cepat packing bagus sesuai pesanan ...  ...         1\n",
              "2     pengemasan luar biasa baik untuk rasa menurut ...  ...         0\n",
              "3                                       terimakasih min  ...         0\n",
              "4                    udah order untuk kesekian kali jos  ...         0\n",
              "...                                                 ...  ...       ...\n",
              "4055  seler sangat responsif rasa belum dicoba karen...  ...         0\n",
              "4056                          imut2 banget packing aman  ...         1\n",
              "4057                          god product trusted seler  ...         1\n",
              "4058                                 sudah beli yg ke 3  ...         0\n",
              "4059                                     byk campuranya  ...         0\n",
              "\n",
              "[4060 rows x 6 columns]"
            ]
          },
          "metadata": {
            "tags": []
          },
          "execution_count": 8
        }
      ]
    },
    {
      "cell_type": "code",
      "metadata": {
        "colab": {
          "base_uri": "https://localhost:8080/",
          "height": 453
        },
        "id": "sLhLtqWreh4-",
        "outputId": "ab1a32c0-c9fd-4a51-ebd8-910e1cad8cd2"
      },
      "source": [
        "print(df_new.shape)\n",
        "#Removes duplicates in place\n",
        "df_new.drop_duplicates(keep=False, inplace=True)\n",
        "print(df_new.shape) \n",
        "df_new"
      ],
      "execution_count": null,
      "outputs": [
        {
          "output_type": "stream",
          "text": [
            "(4060, 6)\n",
            "(3979, 6)\n"
          ],
          "name": "stdout"
        },
        {
          "output_type": "execute_result",
          "data": {
            "text/html": [
              "<div>\n",
              "<style scoped>\n",
              "    .dataframe tbody tr th:only-of-type {\n",
              "        vertical-align: middle;\n",
              "    }\n",
              "\n",
              "    .dataframe tbody tr th {\n",
              "        vertical-align: top;\n",
              "    }\n",
              "\n",
              "    .dataframe thead th {\n",
              "        text-align: right;\n",
              "    }\n",
              "</style>\n",
              "<table border=\"1\" class=\"dataframe\">\n",
              "  <thead>\n",
              "    <tr style=\"text-align: right;\">\n",
              "      <th></th>\n",
              "      <th>Review</th>\n",
              "      <th>Rating</th>\n",
              "      <th>Sentiment</th>\n",
              "      <th>negative</th>\n",
              "      <th>neutral</th>\n",
              "      <th>positive</th>\n",
              "    </tr>\n",
              "  </thead>\n",
              "  <tbody>\n",
              "    <tr>\n",
              "      <th>0</th>\n",
              "      <td>enak kuacinya</td>\n",
              "      <td>5</td>\n",
              "      <td>positive</td>\n",
              "      <td>0</td>\n",
              "      <td>0</td>\n",
              "      <td>1</td>\n",
              "    </tr>\n",
              "    <tr>\n",
              "      <th>1</th>\n",
              "      <td>pengiriman cepat packing bagus sesuai pesanan ...</td>\n",
              "      <td>5</td>\n",
              "      <td>positive</td>\n",
              "      <td>0</td>\n",
              "      <td>0</td>\n",
              "      <td>1</td>\n",
              "    </tr>\n",
              "    <tr>\n",
              "      <th>2</th>\n",
              "      <td>pengemasan luar biasa baik untuk rasa menurut ...</td>\n",
              "      <td>4</td>\n",
              "      <td>negative</td>\n",
              "      <td>1</td>\n",
              "      <td>0</td>\n",
              "      <td>0</td>\n",
              "    </tr>\n",
              "    <tr>\n",
              "      <th>3</th>\n",
              "      <td>terimakasih min</td>\n",
              "      <td>5</td>\n",
              "      <td>neutral</td>\n",
              "      <td>0</td>\n",
              "      <td>1</td>\n",
              "      <td>0</td>\n",
              "    </tr>\n",
              "    <tr>\n",
              "      <th>4</th>\n",
              "      <td>udah order untuk kesekian kali jos</td>\n",
              "      <td>5</td>\n",
              "      <td>neutral</td>\n",
              "      <td>0</td>\n",
              "      <td>1</td>\n",
              "      <td>0</td>\n",
              "    </tr>\n",
              "    <tr>\n",
              "      <th>...</th>\n",
              "      <td>...</td>\n",
              "      <td>...</td>\n",
              "      <td>...</td>\n",
              "      <td>...</td>\n",
              "      <td>...</td>\n",
              "      <td>...</td>\n",
              "    </tr>\n",
              "    <tr>\n",
              "      <th>4055</th>\n",
              "      <td>seler sangat responsif rasa belum dicoba karen...</td>\n",
              "      <td>5</td>\n",
              "      <td>neutral</td>\n",
              "      <td>0</td>\n",
              "      <td>1</td>\n",
              "      <td>0</td>\n",
              "    </tr>\n",
              "    <tr>\n",
              "      <th>4056</th>\n",
              "      <td>imut2 banget packing aman</td>\n",
              "      <td>5</td>\n",
              "      <td>positive</td>\n",
              "      <td>0</td>\n",
              "      <td>0</td>\n",
              "      <td>1</td>\n",
              "    </tr>\n",
              "    <tr>\n",
              "      <th>4057</th>\n",
              "      <td>god product trusted seler</td>\n",
              "      <td>5</td>\n",
              "      <td>positive</td>\n",
              "      <td>0</td>\n",
              "      <td>0</td>\n",
              "      <td>1</td>\n",
              "    </tr>\n",
              "    <tr>\n",
              "      <th>4058</th>\n",
              "      <td>sudah beli yg ke 3</td>\n",
              "      <td>5</td>\n",
              "      <td>neutral</td>\n",
              "      <td>0</td>\n",
              "      <td>1</td>\n",
              "      <td>0</td>\n",
              "    </tr>\n",
              "    <tr>\n",
              "      <th>4059</th>\n",
              "      <td>byk campuranya</td>\n",
              "      <td>4</td>\n",
              "      <td>neutral</td>\n",
              "      <td>0</td>\n",
              "      <td>1</td>\n",
              "      <td>0</td>\n",
              "    </tr>\n",
              "  </tbody>\n",
              "</table>\n",
              "<p>3979 rows × 6 columns</p>\n",
              "</div>"
            ],
            "text/plain": [
              "                                                 Review  ...  positive\n",
              "0                                         enak kuacinya  ...         1\n",
              "1     pengiriman cepat packing bagus sesuai pesanan ...  ...         1\n",
              "2     pengemasan luar biasa baik untuk rasa menurut ...  ...         0\n",
              "3                                       terimakasih min  ...         0\n",
              "4                    udah order untuk kesekian kali jos  ...         0\n",
              "...                                                 ...  ...       ...\n",
              "4055  seler sangat responsif rasa belum dicoba karen...  ...         0\n",
              "4056                          imut2 banget packing aman  ...         1\n",
              "4057                          god product trusted seler  ...         1\n",
              "4058                                 sudah beli yg ke 3  ...         0\n",
              "4059                                     byk campuranya  ...         0\n",
              "\n",
              "[3979 rows x 6 columns]"
            ]
          },
          "metadata": {
            "tags": []
          },
          "execution_count": 9
        }
      ]
    },
    {
      "cell_type": "code",
      "metadata": {
        "colab": {
          "base_uri": "https://localhost:8080/"
        },
        "id": "iFMtGUlKjCtB",
        "outputId": "c5ac02c5-179f-45a0-aeb9-3af7b2364d71"
      },
      "source": [
        "#to check shape of the dataset\n",
        "print(df_new.shape) \n",
        "\n",
        "#to look the header of dataset\n",
        "df_new.info()"
      ],
      "execution_count": null,
      "outputs": [
        {
          "output_type": "stream",
          "text": [
            "(3979, 6)\n",
            "<class 'pandas.core.frame.DataFrame'>\n",
            "Int64Index: 3979 entries, 0 to 4059\n",
            "Data columns (total 6 columns):\n",
            " #   Column     Non-Null Count  Dtype   \n",
            "---  ------     --------------  -----   \n",
            " 0   Review     3979 non-null   object  \n",
            " 1   Rating     3979 non-null   int64   \n",
            " 2   Sentiment  3979 non-null   category\n",
            " 3   negative   3979 non-null   uint8   \n",
            " 4   neutral    3979 non-null   uint8   \n",
            " 5   positive   3979 non-null   uint8   \n",
            "dtypes: category(1), int64(1), object(1), uint8(3)\n",
            "memory usage: 108.9+ KB\n"
          ],
          "name": "stdout"
        }
      ]
    },
    {
      "cell_type": "markdown",
      "metadata": {
        "id": "2PLa9SiBSG75"
      },
      "source": [
        "## change data type"
      ]
    },
    {
      "cell_type": "code",
      "metadata": {
        "id": "kozTh-3SSJEh"
      },
      "source": [
        "#get label of dataset\n",
        "content = df_new['Review'].values\n",
        "label = df_new[['negative', 'neutral', 'positive']].values"
      ],
      "execution_count": null,
      "outputs": []
    },
    {
      "cell_type": "markdown",
      "metadata": {
        "id": "uoSvGdHcQ8yg"
      },
      "source": [
        "## Build Train and test sets"
      ]
    },
    {
      "cell_type": "code",
      "metadata": {
        "id": "xxag8OX_RD0M"
      },
      "source": [
        "content_train, content_test, label_train, label_test = train_test_split(content, label, test_size=0.2)"
      ],
      "execution_count": null,
      "outputs": []
    },
    {
      "cell_type": "markdown",
      "metadata": {
        "id": "hTFhPogRUAwx"
      },
      "source": [
        "## Tokenizer"
      ]
    },
    {
      "cell_type": "code",
      "metadata": {
        "id": "zP8nyXUtUErv",
        "colab": {
          "base_uri": "https://localhost:8080/"
        },
        "outputId": "f5a2f688-df0f-48a9-d3ab-f0f30aacd62a"
      },
      "source": [
        "tokenizer = Tokenizer(num_words=5000, oov_token='OOV')\n",
        "tokenizer.fit_on_texts(content_train) \n",
        "\n",
        "word2index = tokenizer.word_index\n",
        "print(len(word2index))\n",
        "\n",
        "import json\n",
        "\n",
        "with open('word2indexs.json', 'w') as fp:\n",
        "    json.dump(word2index, fp)\n",
        "\n",
        "sekuens_train = tokenizer.texts_to_sequences(content_train)\n",
        "sekuens_test = tokenizer.texts_to_sequences(content_test)\n",
        " \n",
        "padded_train = pad_sequences(sekuens_train, padding='post', maxlen=20) \n",
        "padded_test = pad_sequences(sekuens_test, padding='post', maxlen=20)\n",
        "padded_train.shape"
      ],
      "execution_count": null,
      "outputs": [
        {
          "output_type": "stream",
          "text": [
            "4029\n"
          ],
          "name": "stdout"
        },
        {
          "output_type": "execute_result",
          "data": {
            "text/plain": [
              "(3183, 20)"
            ]
          },
          "metadata": {
            "tags": []
          },
          "execution_count": 13
        }
      ]
    },
    {
      "cell_type": "markdown",
      "metadata": {
        "id": "Nt2H0BWYUcHM"
      },
      "source": [
        "## Build Model"
      ]
    },
    {
      "cell_type": "code",
      "metadata": {
        "id": "UFqR9iEUUeml"
      },
      "source": [
        "#build model\n",
        "model = tf.keras.Sequential([\n",
        "    tf.keras.layers.Embedding(input_dim=5000, output_dim=8),\n",
        "    tf.keras.layers.LSTM(64),\n",
        "    tf.keras.layers.Dropout(0.2),\n",
        "    tf.keras.layers.Dense(128, activation='relu'),\n",
        "    tf.keras.layers.Dense(64, activation='relu'),\n",
        "    tf.keras.layers.Dense(3, activation='softmax')\n",
        "])\n",
        "model.compile(loss='categorical_crossentropy',optimizer='adam',metrics=['accuracy'])"
      ],
      "execution_count": null,
      "outputs": []
    },
    {
      "cell_type": "markdown",
      "metadata": {
        "id": "FsWElxuRSYSX"
      },
      "source": [
        "## Callback"
      ]
    },
    {
      "cell_type": "code",
      "metadata": {
        "id": "27oUkilzSaRD"
      },
      "source": [
        "#to stop train while acuracy greather than 90%\n",
        "class myCallback(tf.keras.callbacks.Callback):\n",
        "  def on_epoch_end(self, epoch, logs={}):\n",
        "    if(logs.get('accuracy') > 0.96 and logs.get('val_accuracy') > 0.96):\n",
        "      print(\"\\nAccuracy and val accuracy has reach >90%!\")\n",
        "      self.model.stop_training = True\n",
        "callbacks = myCallback()"
      ],
      "execution_count": null,
      "outputs": []
    },
    {
      "cell_type": "markdown",
      "metadata": {
        "id": "awgXvvnXUjyq"
      },
      "source": [
        "## Train"
      ]
    },
    {
      "cell_type": "code",
      "metadata": {
        "id": "pQaDyqjbUuT4",
        "colab": {
          "base_uri": "https://localhost:8080/"
        },
        "outputId": "9771c475-9293-4bf2-ee65-63fc97b9ef62"
      },
      "source": [
        "num_epochs = 16\n",
        "history = model.fit(padded_train, label_train, epochs=num_epochs, callbacks=[callbacks],\n",
        "                    validation_data=(padded_test, label_test), verbose=1)"
      ],
      "execution_count": null,
      "outputs": [
        {
          "output_type": "stream",
          "text": [
            "Epoch 1/16\n",
            "100/100 [==============================] - 5s 23ms/step - loss: 0.8954 - accuracy: 0.7074 - val_loss: 0.7264 - val_accuracy: 0.6972\n",
            "Epoch 2/16\n",
            "100/100 [==============================] - 1s 14ms/step - loss: 0.5677 - accuracy: 0.7641 - val_loss: 0.5353 - val_accuracy: 0.7651\n",
            "Epoch 3/16\n",
            "100/100 [==============================] - 1s 14ms/step - loss: 0.4170 - accuracy: 0.8233 - val_loss: 0.5782 - val_accuracy: 0.7701\n",
            "Epoch 4/16\n",
            "100/100 [==============================] - 1s 15ms/step - loss: 0.3228 - accuracy: 0.8730 - val_loss: 0.5820 - val_accuracy: 0.7864\n",
            "Epoch 5/16\n",
            "100/100 [==============================] - 1s 15ms/step - loss: 0.2322 - accuracy: 0.9207 - val_loss: 0.8776 - val_accuracy: 0.7487\n",
            "Epoch 6/16\n",
            "100/100 [==============================] - 1s 15ms/step - loss: 0.2202 - accuracy: 0.9349 - val_loss: 0.6888 - val_accuracy: 0.7688\n",
            "Epoch 7/16\n",
            "100/100 [==============================] - 1s 14ms/step - loss: 0.1695 - accuracy: 0.9453 - val_loss: 0.7571 - val_accuracy: 0.7714\n",
            "Epoch 8/16\n",
            "100/100 [==============================] - 1s 14ms/step - loss: 0.1591 - accuracy: 0.9449 - val_loss: 0.8051 - val_accuracy: 0.7726\n",
            "Epoch 9/16\n",
            "100/100 [==============================] - 1s 14ms/step - loss: 0.1249 - accuracy: 0.9614 - val_loss: 0.7784 - val_accuracy: 0.7487\n",
            "Epoch 10/16\n",
            "100/100 [==============================] - 1s 14ms/step - loss: 0.1382 - accuracy: 0.9536 - val_loss: 0.8635 - val_accuracy: 0.7663\n",
            "Epoch 11/16\n",
            "100/100 [==============================] - 1s 14ms/step - loss: 0.1357 - accuracy: 0.9549 - val_loss: 0.8447 - val_accuracy: 0.7651\n",
            "Epoch 12/16\n",
            "100/100 [==============================] - 1s 14ms/step - loss: 0.1300 - accuracy: 0.9590 - val_loss: 0.9500 - val_accuracy: 0.7588\n",
            "Epoch 13/16\n",
            "100/100 [==============================] - 1s 14ms/step - loss: 0.1005 - accuracy: 0.9708 - val_loss: 0.9409 - val_accuracy: 0.7525\n",
            "Epoch 14/16\n",
            "100/100 [==============================] - 1s 15ms/step - loss: 0.1324 - accuracy: 0.9566 - val_loss: 0.8851 - val_accuracy: 0.7462\n",
            "Epoch 15/16\n",
            "100/100 [==============================] - 1s 14ms/step - loss: 0.1247 - accuracy: 0.9585 - val_loss: 0.8907 - val_accuracy: 0.7500\n",
            "Epoch 16/16\n",
            "100/100 [==============================] - 1s 14ms/step - loss: 0.1175 - accuracy: 0.9674 - val_loss: 0.9467 - val_accuracy: 0.7412\n"
          ],
          "name": "stdout"
        }
      ]
    },
    {
      "cell_type": "markdown",
      "metadata": {
        "id": "fmi9UVJ2dacY"
      },
      "source": [
        "##plotting"
      ]
    },
    {
      "cell_type": "code",
      "metadata": {
        "colab": {
          "base_uri": "https://localhost:8080/",
          "height": 291
        },
        "id": "Zviv5bg-iPCt",
        "outputId": "1e463c7d-b93b-4357-cad8-e4f4703aea46"
      },
      "source": [
        "import keras\n",
        "from matplotlib import pyplot as plt\n",
        "plt.plot(history.history['accuracy'])\n",
        "plt.plot(history.history['val_accuracy'])\n",
        "plt.plot(history.history['loss'])\n",
        "plt.plot(history.history['val_loss'])\n",
        "plt.title('model accuracy')\n",
        "plt.ylabel('accuracy')\n",
        "plt.xlabel('epoch')\n",
        "plt.legend(['train_acc', 'val_acc', 'train_loss','val_loss'], loc='upper left')\n",
        "plt.show()"
      ],
      "execution_count": null,
      "outputs": [
        {
          "output_type": "display_data",
          "data": {
            "image/png": "[encoded data removed]",
            "text/plain": [
              "<Figure size 432x288 with 1 Axes>"
            ]
          },
          "metadata": {
            "tags": [],
            "needs_background": "light"
          }
        }
      ]
    },
    {
      "cell_type": "markdown",
      "metadata": {
        "id": "97lsro0xLAw-"
      },
      "source": [
        "##saved model"
      ]
    },
    {
      "cell_type": "code",
      "metadata": {
        "colab": {
          "base_uri": "https://localhost:8080/"
        },
        "id": "hIr6dD5NdiSx",
        "outputId": "26c3c17c-7fbd-474c-e69d-e99d6c6f76c2"
      },
      "source": [
        "saving_path = (\"/content/mymodel/\") #path penyimpanan model\n",
        "tf.saved_model.save(model, saving_path)\n",
        "\n",
        "model.save('mymodel.h5')"
      ],
      "execution_count": null,
      "outputs": [
        {
          "output_type": "stream",
          "text": [
            "WARNING:absl:Found untraced functions such as lstm_cell_layer_call_and_return_conditional_losses, lstm_cell_layer_call_fn, lstm_cell_layer_call_fn, lstm_cell_layer_call_and_return_conditional_losses, lstm_cell_layer_call_and_return_conditional_losses while saving (showing 5 of 5). These functions will not be directly callable after loading.\n",
            "WARNING:absl:Found untraced functions such as lstm_cell_layer_call_and_return_conditional_losses, lstm_cell_layer_call_fn, lstm_cell_layer_call_fn, lstm_cell_layer_call_and_return_conditional_losses, lstm_cell_layer_call_and_return_conditional_losses while saving (showing 5 of 5). These functions will not be directly callable after loading.\n"
          ],
          "name": "stderr"
        },
        {
          "output_type": "stream",
          "text": [
            "INFO:tensorflow:Assets written to: /content/mymodel/assets\n"
          ],
          "name": "stdout"
        },
        {
          "output_type": "stream",
          "text": [
            "INFO:tensorflow:Assets written to: /content/mymodel/assets\n"
          ],
          "name": "stderr"
        }
      ]
    },
    {
      "cell_type": "markdown",
      "metadata": {
        "id": "TxtTqDVTdjsJ"
      },
      "source": [
        "##testing"
      ]
    },
    {
      "cell_type": "code",
      "metadata": {
        "colab": {
          "base_uri": "https://localhost:8080/"
        },
        "id": "EW-CJxSipFwl",
        "outputId": "ed02b7ef-d09d-40a2-c12f-c4d61ddd0a5d"
      },
      "source": [
        "from tensorflow.keras.models import Sequential, save_model, load_model\n",
        "# Load the model\n",
        "# model = load_model(saving_path, compile = True)\n",
        "# Recreate the exact same model, including its weights and the optimizer\n",
        "loaded_model = tf.keras.models.load_model('mymodel.h5')\n",
        "\n",
        "# Show the model architecture\n",
        "loaded_model.summary()"
      ],
      "execution_count": null,
      "outputs": [
        {
          "output_type": "stream",
          "text": [
            "Model: \"sequential\"\n",
            "_________________________________________________________________\n",
            "Layer (type)                 Output Shape              Param #   \n",
            "=================================================================\n",
            "embedding (Embedding)        (None, None, 8)           40000     \n",
            "_________________________________________________________________\n",
            "lstm (LSTM)                  (None, 64)                18688     \n",
            "_________________________________________________________________\n",
            "dropout (Dropout)            (None, 64)                0         \n",
            "_________________________________________________________________\n",
            "dense (Dense)                (None, 128)               8320      \n",
            "_________________________________________________________________\n",
            "dense_1 (Dense)              (None, 64)                8256      \n",
            "_________________________________________________________________\n",
            "dense_2 (Dense)              (None, 3)                 195       \n",
            "=================================================================\n",
            "Total params: 75,459\n",
            "Trainable params: 75,459\n",
            "Non-trainable params: 0\n",
            "_________________________________________________________________\n"
          ],
          "name": "stdout"
        }
      ]
    },
    {
      "cell_type": "code",
      "metadata": {
        "colab": {
          "base_uri": "https://localhost:8080/"
        },
        "id": "qmVyCopEdmAT",
        "outputId": "b681cac9-5a86-4fd7-8066-4352f760d5ba"
      },
      "source": [
        "loaded_model.evaluate(padded_test,label_test)"
      ],
      "execution_count": null,
      "outputs": [
        {
          "output_type": "stream",
          "text": [
            "25/25 [==============================] - 1s 4ms/step - loss: 0.9467 - accuracy: 0.7412\n"
          ],
          "name": "stdout"
        },
        {
          "output_type": "execute_result",
          "data": {
            "text/plain": [
              "[0.9466949105262756, 0.7412060499191284]"
            ]
          },
          "metadata": {
            "tags": []
          },
          "execution_count": 20
        }
      ]
    },
    {
      "cell_type": "code",
      "metadata": {
        "colab": {
          "base_uri": "https://localhost:8080/"
        },
        "id": "MXnVhZbflXu-",
        "outputId": "0c6349eb-92b1-4ea6-ef44-92c500fbef0c"
      },
      "source": [
        "content_testing = np.array(['terimakasih', 'enak tapi gosong', 'rasanya enak dan pengiriman cepat'])\n",
        "def tokenizer(content_train, arr):\n",
        "  tokenizer = Tokenizer(num_words=5000, oov_token='OOV')\n",
        "  tokenizer.fit_on_texts(content_train) \n",
        "  sekuens_test = tokenizer.texts_to_sequences(arr)\n",
        "  padded_test = pad_sequences(sekuens_test, padding='post', maxlen=20)\n",
        "  print(padded_test[1])\n",
        "  return padded_test\n",
        "\n",
        "result = loaded_model.predict(tokenizer(content_train,content_testing))\n",
        "print(result)\n",
        "classes = np.argmax(result, axis = 1)\n",
        "print(classes)"
      ],
      "execution_count": null,
      "outputs": [
        {
          "output_type": "stream",
          "text": [
            "[  3  49 908   0   0   0   0   0   0   0   0   0   0   0   0   0   0   0\n",
            "   0   0]\n",
            "[[5.3592292e-03 9.7100180e-01 2.3638919e-02]\n",
            " [9.3377727e-01 5.6861848e-02 9.3607940e-03]\n",
            " [6.1886356e-05 3.4628273e-03 9.9647528e-01]]\n",
            "[1 0 2]\n"
          ],
          "name": "stdout"
        }
      ]
    },
    {
      "cell_type": "code",
      "metadata": {
        "colab": {
          "base_uri": "https://localhost:8080/"
        },
        "id": "hJ6-_nLySv7c",
        "outputId": "094e72d7-a057-448f-9aeb-0bd078a894ca"
      },
      "source": [
        "def toSequence(sentence):\n",
        "  pad = []\n",
        "  for stc in sentence.split():\n",
        "    if stc.lower() in word2index.keys(): \n",
        "      pad.append(word2index[stc.lower()])\n",
        "    else: \n",
        "      continue\n",
        "  pad.extend([0]*(20-len(pad)))\n",
        "  return pad\n",
        "\n",
        "pad1 = toSequence('terimakasih')\n",
        "pad2 = toSequence('enak tapi gosong')\n",
        "pad3 = toSequence('rasanya enak dan pengiriman cepat')\n",
        "\n",
        "arrTest = [pad1, pad2, pad3]\n",
        "print(arrTest)\n",
        "\n",
        "for pad in arrTest:\n",
        "  result = loaded_model.predict([pad])\n",
        "  # result = model.predict(tokenizer(content_train,content_testing))\n",
        "  print(result)\n",
        "  classes = np.argmax(result, axis = 1)\n",
        "  print(classes)\n",
        "loaded_model.predict([[72, 0, 0, 0, 0, 0, 0, 0, 0, 0, 0, 0, 0, 0, 0, 0, 0, 0, 0, 0]])"
      ],
      "execution_count": null,
      "outputs": [
        {
          "output_type": "stream",
          "text": [
            "[[65, 0, 0, 0, 0, 0, 0, 0, 0, 0, 0, 0, 0, 0, 0, 0, 0, 0, 0, 0], [3, 49, 908, 0, 0, 0, 0, 0, 0, 0, 0, 0, 0, 0, 0, 0, 0, 0, 0, 0], [26, 3, 2, 5, 4, 0, 0, 0, 0, 0, 0, 0, 0, 0, 0, 0, 0, 0, 0, 0]]\n",
            "[[0.00535923 0.9710018  0.02363893]]\n",
            "[1]\n",
            "[[0.9337773  0.05686186 0.00936079]]\n",
            "[0]\n",
            "[[6.1886414e-05 3.4628306e-03 9.9647528e-01]]\n",
            "[2]\n"
          ],
          "name": "stdout"
        },
        {
          "output_type": "execute_result",
          "data": {
            "text/plain": [
              "array([[0.01006513, 0.23263374, 0.75730115]], dtype=float32)"
            ]
          },
          "metadata": {
            "tags": []
          },
          "execution_count": 22
        }
      ]
    },
    {
      "cell_type": "markdown",
      "metadata": {
        "id": "IgW1XWLsddXo"
      },
      "source": [
        "##save model tfjs"
      ]
    },
    {
      "cell_type": "code",
      "metadata": {
        "colab": {
          "base_uri": "https://localhost:8080/"
        },
        "id": "BlJXhhyVKwvE",
        "outputId": "10feaffb-e913-488a-db2a-880429b20c32"
      },
      "source": [
        "!pip install tensorflowjs"
      ],
      "execution_count": null,
      "outputs": [
        {
          "output_type": "stream",
          "text": [
            "Collecting tensorflowjs\n",
            "\u001b[?25l  Downloading https://files.pythonhosted.org/packages/28/5a/2497b3ba86f5f1c2c7539e0bc5d957146a5ed71acfb6c66f644974af4309/tensorflowjs-3.6.0-py3-none-any.whl (63kB)\n",
            "\r\u001b[K     |█████▏                          | 10kB 11.0MB/s eta 0:00:01\r\u001b[K     |██████████▎                     | 20kB 14.0MB/s eta 0:00:01\r\u001b[K     |███████████████▍                | 30kB 16.6MB/s eta 0:00:01\r\u001b[K     |████████████████████▌           | 40kB 10.9MB/s eta 0:00:01\r\u001b[K     |█████████████████████████▊      | 51kB 5.1MB/s eta 0:00:01\r\u001b[K     |██████████████████████████████▉ | 61kB 5.4MB/s eta 0:00:01\r\u001b[K     |████████████████████████████████| 71kB 3.4MB/s \n",
            "\u001b[?25hRequirement already satisfied: tensorflow<3,>=2.1.0 in /usr/local/lib/python3.7/dist-packages (from tensorflowjs) (2.4.1)\n",
            "Requirement already satisfied: six<2,>=1.12.0 in /usr/local/lib/python3.7/dist-packages (from tensorflowjs) (1.15.0)\n",
            "Collecting tensorflow-hub<0.10,>=0.7.0\n",
            "\u001b[?25l  Downloading https://files.pythonhosted.org/packages/ac/83/a7df82744a794107641dad1decaad017d82e25f0e1f761ac9204829eef96/tensorflow_hub-0.9.0-py2.py3-none-any.whl (103kB)\n",
            "\u001b[K     |████████████████████████████████| 112kB 9.7MB/s \n",
            "\u001b[?25hRequirement already satisfied: gast==0.3.3 in /usr/local/lib/python3.7/dist-packages (from tensorflow<3,>=2.1.0->tensorflowjs) (0.3.3)\n",
            "Requirement already satisfied: wheel~=0.35 in /usr/local/lib/python3.7/dist-packages (from tensorflow<3,>=2.1.0->tensorflowjs) (0.36.2)\n",
            "Requirement already satisfied: tensorflow-estimator<2.5.0,>=2.4.0 in /usr/local/lib/python3.7/dist-packages (from tensorflow<3,>=2.1.0->tensorflowjs) (2.4.0)\n",
            "Requirement already satisfied: termcolor~=1.1.0 in /usr/local/lib/python3.7/dist-packages (from tensorflow<3,>=2.1.0->tensorflowjs) (1.1.0)\n",
            "Requirement already satisfied: tensorboard~=2.4 in /usr/local/lib/python3.7/dist-packages (from tensorflow<3,>=2.1.0->tensorflowjs) (2.4.1)\n",
            "Requirement already satisfied: typing-extensions~=3.7.4 in /usr/local/lib/python3.7/dist-packages (from tensorflow<3,>=2.1.0->tensorflowjs) (3.7.4.3)\n",
            "Requirement already satisfied: numpy~=1.19.2 in /usr/local/lib/python3.7/dist-packages (from tensorflow<3,>=2.1.0->tensorflowjs) (1.19.5)\n",
            "Requirement already satisfied: wrapt~=1.12.1 in /usr/local/lib/python3.7/dist-packages (from tensorflow<3,>=2.1.0->tensorflowjs) (1.12.1)\n",
            "Requirement already satisfied: absl-py~=0.10 in /usr/local/lib/python3.7/dist-packages (from tensorflow<3,>=2.1.0->tensorflowjs) (0.12.0)\n",
            "Requirement already satisfied: google-pasta~=0.2 in /usr/local/lib/python3.7/dist-packages (from tensorflow<3,>=2.1.0->tensorflowjs) (0.2.0)\n",
            "Requirement already satisfied: opt-einsum~=3.3.0 in /usr/local/lib/python3.7/dist-packages (from tensorflow<3,>=2.1.0->tensorflowjs) (3.3.0)\n",
            "Requirement already satisfied: protobuf>=3.9.2 in /usr/local/lib/python3.7/dist-packages (from tensorflow<3,>=2.1.0->tensorflowjs) (3.12.4)\n",
            "Requirement already satisfied: flatbuffers~=1.12.0 in /usr/local/lib/python3.7/dist-packages (from tensorflow<3,>=2.1.0->tensorflowjs) (1.12)\n",
            "Requirement already satisfied: astunparse~=1.6.3 in /usr/local/lib/python3.7/dist-packages (from tensorflow<3,>=2.1.0->tensorflowjs) (1.6.3)\n",
            "Requirement already satisfied: keras-preprocessing~=1.1.2 in /usr/local/lib/python3.7/dist-packages (from tensorflow<3,>=2.1.0->tensorflowjs) (1.1.2)\n",
            "Requirement already satisfied: grpcio~=1.32.0 in /usr/local/lib/python3.7/dist-packages (from tensorflow<3,>=2.1.0->tensorflowjs) (1.32.0)\n",
            "Requirement already satisfied: h5py~=2.10.0 in /usr/local/lib/python3.7/dist-packages (from tensorflow<3,>=2.1.0->tensorflowjs) (2.10.0)\n",
            "Requirement already satisfied: tensorboard-plugin-wit>=1.6.0 in /usr/local/lib/python3.7/dist-packages (from tensorboard~=2.4->tensorflow<3,>=2.1.0->tensorflowjs) (1.8.0)\n",
            "Requirement already satisfied: werkzeug>=0.11.15 in /usr/local/lib/python3.7/dist-packages (from tensorboard~=2.4->tensorflow<3,>=2.1.0->tensorflowjs) (2.0.0)\n",
            "Requirement already satisfied: setuptools>=41.0.0 in /usr/local/lib/python3.7/dist-packages (from tensorboard~=2.4->tensorflow<3,>=2.1.0->tensorflowjs) (56.1.0)\n",
            "Requirement already satisfied: requests<3,>=2.21.0 in /usr/local/lib/python3.7/dist-packages (from tensorboard~=2.4->tensorflow<3,>=2.1.0->tensorflowjs) (2.23.0)\n",
            "Requirement already satisfied: google-auth<2,>=1.6.3 in /usr/local/lib/python3.7/dist-packages (from tensorboard~=2.4->tensorflow<3,>=2.1.0->tensorflowjs) (1.30.0)\n",
            "Requirement already satisfied: markdown>=2.6.8 in /usr/local/lib/python3.7/dist-packages (from tensorboard~=2.4->tensorflow<3,>=2.1.0->tensorflowjs) (3.3.4)\n",
            "Requirement already satisfied: google-auth-oauthlib<0.5,>=0.4.1 in /usr/local/lib/python3.7/dist-packages (from tensorboard~=2.4->tensorflow<3,>=2.1.0->tensorflowjs) (0.4.4)\n",
            "Requirement already satisfied: chardet<4,>=3.0.2 in /usr/local/lib/python3.7/dist-packages (from requests<3,>=2.21.0->tensorboard~=2.4->tensorflow<3,>=2.1.0->tensorflowjs) (3.0.4)\n",
            "Requirement already satisfied: urllib3!=1.25.0,!=1.25.1,<1.26,>=1.21.1 in /usr/local/lib/python3.7/dist-packages (from requests<3,>=2.21.0->tensorboard~=2.4->tensorflow<3,>=2.1.0->tensorflowjs) (1.24.3)\n",
            "Requirement already satisfied: idna<3,>=2.5 in /usr/local/lib/python3.7/dist-packages (from requests<3,>=2.21.0->tensorboard~=2.4->tensorflow<3,>=2.1.0->tensorflowjs) (2.10)\n",
            "Requirement already satisfied: certifi>=2017.4.17 in /usr/local/lib/python3.7/dist-packages (from requests<3,>=2.21.0->tensorboard~=2.4->tensorflow<3,>=2.1.0->tensorflowjs) (2020.12.5)\n",
            "Requirement already satisfied: cachetools<5.0,>=2.0.0 in /usr/local/lib/python3.7/dist-packages (from google-auth<2,>=1.6.3->tensorboard~=2.4->tensorflow<3,>=2.1.0->tensorflowjs) (4.2.2)\n",
            "Requirement already satisfied: rsa<5,>=3.1.4; python_version >= \"3.6\" in /usr/local/lib/python3.7/dist-packages (from google-auth<2,>=1.6.3->tensorboard~=2.4->tensorflow<3,>=2.1.0->tensorflowjs) (4.7.2)\n",
            "Requirement already satisfied: pyasn1-modules>=0.2.1 in /usr/local/lib/python3.7/dist-packages (from google-auth<2,>=1.6.3->tensorboard~=2.4->tensorflow<3,>=2.1.0->tensorflowjs) (0.2.8)\n",
            "Requirement already satisfied: importlib-metadata; python_version < \"3.8\" in /usr/local/lib/python3.7/dist-packages (from markdown>=2.6.8->tensorboard~=2.4->tensorflow<3,>=2.1.0->tensorflowjs) (4.0.1)\n",
            "Requirement already satisfied: requests-oauthlib>=0.7.0 in /usr/local/lib/python3.7/dist-packages (from google-auth-oauthlib<0.5,>=0.4.1->tensorboard~=2.4->tensorflow<3,>=2.1.0->tensorflowjs) (1.3.0)\n",
            "Requirement already satisfied: pyasn1>=0.1.3 in /usr/local/lib/python3.7/dist-packages (from rsa<5,>=3.1.4; python_version >= \"3.6\"->google-auth<2,>=1.6.3->tensorboard~=2.4->tensorflow<3,>=2.1.0->tensorflowjs) (0.4.8)\n",
            "Requirement already satisfied: zipp>=0.5 in /usr/local/lib/python3.7/dist-packages (from importlib-metadata; python_version < \"3.8\"->markdown>=2.6.8->tensorboard~=2.4->tensorflow<3,>=2.1.0->tensorflowjs) (3.4.1)\n",
            "Requirement already satisfied: oauthlib>=3.0.0 in /usr/local/lib/python3.7/dist-packages (from requests-oauthlib>=0.7.0->google-auth-oauthlib<0.5,>=0.4.1->tensorboard~=2.4->tensorflow<3,>=2.1.0->tensorflowjs) (3.1.0)\n",
            "Installing collected packages: tensorflow-hub, tensorflowjs\n",
            "  Found existing installation: tensorflow-hub 0.12.0\n",
            "    Uninstalling tensorflow-hub-0.12.0:\n",
            "      Successfully uninstalled tensorflow-hub-0.12.0\n",
            "Successfully installed tensorflow-hub-0.9.0 tensorflowjs-3.6.0\n"
          ],
          "name": "stdout"
        }
      ]
    },
    {
      "cell_type": "code",
      "metadata": {
        "colab": {
          "base_uri": "https://localhost:8080/"
        },
        "id": "Z5tgR0UsKwvF",
        "outputId": "9aa0d0f9-ebaa-4a84-e987-3ca08c6b1291"
      },
      "source": [
        "saved_model_path = '/content/mymodel/'\n",
        "tf.saved_model.save(model, saved_model_path)"
      ],
      "execution_count": null,
      "outputs": [
        {
          "output_type": "stream",
          "text": [
            "WARNING:absl:Found untraced functions such as lstm_cell_layer_call_and_return_conditional_losses, lstm_cell_layer_call_fn, lstm_cell_layer_call_fn, lstm_cell_layer_call_and_return_conditional_losses, lstm_cell_layer_call_and_return_conditional_losses while saving (showing 5 of 5). These functions will not be directly callable after loading.\n",
            "WARNING:absl:Found untraced functions such as lstm_cell_layer_call_and_return_conditional_losses, lstm_cell_layer_call_fn, lstm_cell_layer_call_fn, lstm_cell_layer_call_and_return_conditional_losses, lstm_cell_layer_call_and_return_conditional_losses while saving (showing 5 of 5). These functions will not be directly callable after loading.\n"
          ],
          "name": "stderr"
        },
        {
          "output_type": "stream",
          "text": [
            "INFO:tensorflow:Assets written to: /content/mymodel/assets\n"
          ],
          "name": "stdout"
        },
        {
          "output_type": "stream",
          "text": [
            "INFO:tensorflow:Assets written to: /content/mymodel/assets\n"
          ],
          "name": "stderr"
        }
      ]
    },
    {
      "cell_type": "code",
      "metadata": {
        "colab": {
          "base_uri": "https://localhost:8080/"
        },
        "id": "ObgbMvOiKwvF",
        "outputId": "f699e7a5-643f-404e-a558-f01fdabb4f6e"
      },
      "source": [
        "!tensorflowjs_converter \\\n",
        "  --input_format=keras_saved_model \\\n",
        "  /content/mymodel/ \\\n",
        "  /content/modeltfjs"
      ],
      "execution_count": null,
      "outputs": [
        {
          "output_type": "stream",
          "text": [
            "2021-05-20 08:12:00.249874: I tensorflow/stream_executor/platform/default/dso_loader.cc:49] Successfully opened dynamic library libcudart.so.11.0\n",
            "2021-05-20 08:12:02.367501: I tensorflow/compiler/jit/xla_cpu_device.cc:41] Not creating XLA devices, tf_xla_enable_xla_devices not set\n",
            "2021-05-20 08:12:02.368559: I tensorflow/stream_executor/platform/default/dso_loader.cc:49] Successfully opened dynamic library libcuda.so.1\n",
            "2021-05-20 08:12:02.380845: E tensorflow/stream_executor/cuda/cuda_driver.cc:328] failed call to cuInit: CUDA_ERROR_NO_DEVICE: no CUDA-capable device is detected\n",
            "2021-05-20 08:12:02.380900: I tensorflow/stream_executor/cuda/cuda_diagnostics.cc:156] kernel driver does not appear to be running on this host (69b9d84bbde6): /proc/driver/nvidia/version does not exist\n",
            "2021-05-20 08:12:02.381423: I tensorflow/compiler/jit/xla_gpu_device.cc:99] Not creating XLA devices, tf_xla_enable_xla_devices not set\n",
            "2021-05-20 08:12:02.476085: I tensorflow/compiler/jit/xla_gpu_device.cc:99] Not creating XLA devices, tf_xla_enable_xla_devices not set\n",
            "2021-05-20 08:12:04.785660: I tensorflow/compiler/mlir/mlir_graph_optimization_pass.cc:196] None of the MLIR optimization passes are enabled (registered 0 passes)\n",
            "2021-05-20 08:12:04.821074: I tensorflow/core/platform/profile_utils/cpu_utils.cc:112] CPU Frequency: 2299995000 Hz\n"
          ],
          "name": "stdout"
        }
      ]
    },
    {
      "cell_type": "code",
      "metadata": {
        "colab": {
          "base_uri": "https://localhost:8080/",
          "height": 68
        },
        "id": "924CGumdRjw4",
        "outputId": "b2695f43-4e71-44e4-87b7-6b222f57acc0"
      },
      "source": [
        "!zip -r modeltfjs.zip /content/modeltfjs\n",
        "from google.colab import files\n",
        "files.download(\"/content/modeltfjs.zip\")"
      ],
      "execution_count": null,
      "outputs": [
        {
          "output_type": "stream",
          "text": [
            "  adding: content/modeltfjs/ (stored 0%)\n",
            "  adding: content/modeltfjs/model.json (deflated 76%)\n",
            "  adding: content/modeltfjs/group1-shard1of1.bin (deflated 7%)\n"
          ],
          "name": "stdout"
        },
        {
          "output_type": "display_data",
          "data": {
            "application/javascript": [
              "\n",
              "    async function download(id, filename, size) {\n",
              "      if (!google.colab.kernel.accessAllowed) {\n",
              "        return;\n",
              "      }\n",
              "      const div = document.createElement('div');\n",
              "      const label = document.createElement('label');\n",
              "      label.textContent = `Downloading \"${filename}\": `;\n",
              "      div.appendChild(label);\n",
              "      const progress = document.createElement('progress');\n",
              "      progress.max = size;\n",
              "      div.appendChild(progress);\n",
              "      document.body.appendChild(div);\n",
              "\n",
              "      const buffers = [];\n",
              "      let downloaded = 0;\n",
              "\n",
              "      const channel = await google.colab.kernel.comms.open(id);\n",
              "      // Send a message to notify the kernel that we're ready.\n",
              "      channel.send({})\n",
              "\n",
              "      for await (const message of channel.messages) {\n",
              "        // Send a message to notify the kernel that we're ready.\n",
              "        channel.send({})\n",
              "        if (message.buffers) {\n",
              "          for (const buffer of message.buffers) {\n",
              "            buffers.push(buffer);\n",
              "            downloaded += buffer.byteLength;\n",
              "            progress.value = downloaded;\n",
              "          }\n",
              "        }\n",
              "      }\n",
              "      const blob = new Blob(buffers, {type: 'application/binary'});\n",
              "      const a = document.createElement('a');\n",
              "      a.href = window.URL.createObjectURL(blob);\n",
              "      a.download = filename;\n",
              "      div.appendChild(a);\n",
              "      a.click();\n",
              "      div.remove();\n",
              "    }\n",
              "  "
            ],
            "text/plain": [
              "<IPython.core.display.Javascript object>"
            ]
          },
          "metadata": {
            "tags": []
          }
        },
        {
          "output_type": "display_data",
          "data": {
            "application/javascript": [
              "download(\"download_ca3d0e04-0011-4b63-bbe0-acedd8eefd96\", \"modeltfjs.zip\", 280955)"
            ],
            "text/plain": [
              "<IPython.core.display.Javascript object>"
            ]
          },
          "metadata": {
            "tags": []
          }
        }
      ]
    },
    {
      "cell_type": "markdown",
      "metadata": {
        "id": "OVNVV-MSM69Z"
      },
      "source": [
        "#**Building model with LSTM (2)**"
      ]
    },
    {
      "cell_type": "markdown",
      "metadata": {
        "id": "yb_OWdHZDWoN"
      },
      "source": [
        "## Load Dataset"
      ]
    },
    {
      "cell_type": "code",
      "metadata": {
        "id": "pTwy9t-hM-ua"
      },
      "source": [
        "import pandas as pd\n",
        "import tensorflow as tf\n",
        "from sklearn.model_selection import train_test_split\n",
        "from tensorflow.keras.preprocessing.text import Tokenizer\n",
        "from tensorflow.keras.preprocessing.sequence import pad_sequences"
      ],
      "execution_count": null,
      "outputs": []
    },
    {
      "cell_type": "code",
      "metadata": {
        "colab": {
          "base_uri": "https://localhost:8080/"
        },
        "id": "UlydP0FHDWoR",
        "outputId": "c010efbc-9386-4de8-a005-171c34065101"
      },
      "source": [
        "!wget https://raw.githubusercontent.com/H4rfu1/ML-project-TokoLitik-tim-Undagi/main/Response/dataset/dataset_review_tokped_labelled.csv"
      ],
      "execution_count": null,
      "outputs": [
        {
          "output_type": "stream",
          "text": [
            "--2021-05-20 07:22:47--  https://raw.githubusercontent.com/H4rfu1/ML-project-TokoLitik-tim-Undagi/main/Response/dataset_review_tokped_labelled.csv\n",
            "Resolving raw.githubusercontent.com (raw.githubusercontent.com)... 185.199.111.133, 185.199.109.133, 185.199.108.133, ...\n",
            "Connecting to raw.githubusercontent.com (raw.githubusercontent.com)|185.199.111.133|:443... connected.\n",
            "HTTP request sent, awaiting response... 200 OK\n",
            "Length: 294589 (288K) [text/plain]\n",
            "Saving to: ‘dataset_review_tokped_labelled.csv’\n",
            "\n",
            "\r          dataset_r   0%[                    ]       0  --.-KB/s               \rdataset_review_tokp 100%[===================>] 287.68K  --.-KB/s    in 0.004s  \n",
            "\n",
            "2021-05-20 07:22:47 (63.7 MB/s) - ‘dataset_review_tokped_labelled.csv’ saved [294589/294589]\n",
            "\n"
          ],
          "name": "stdout"
        }
      ]
    },
    {
      "cell_type": "code",
      "metadata": {
        "colab": {
          "base_uri": "https://localhost:8080/",
          "height": 436
        },
        "id": "0reMgdpUDWoS",
        "outputId": "fd8a6004-6593-4f5c-f9b9-635039896ad3"
      },
      "source": [
        "#dataset from crawling process\n",
        "df = pd.read_csv('/content/dataset_review_tokped_labelled.csv')\n",
        "print(df.shape)\n",
        "df"
      ],
      "execution_count": null,
      "outputs": [
        {
          "output_type": "stream",
          "text": [
            "(4060, 3)\n"
          ],
          "name": "stdout"
        },
        {
          "output_type": "execute_result",
          "data": {
            "text/html": [
              "<div>\n",
              "<style scoped>\n",
              "    .dataframe tbody tr th:only-of-type {\n",
              "        vertical-align: middle;\n",
              "    }\n",
              "\n",
              "    .dataframe tbody tr th {\n",
              "        vertical-align: top;\n",
              "    }\n",
              "\n",
              "    .dataframe thead th {\n",
              "        text-align: right;\n",
              "    }\n",
              "</style>\n",
              "<table border=\"1\" class=\"dataframe\">\n",
              "  <thead>\n",
              "    <tr style=\"text-align: right;\">\n",
              "      <th></th>\n",
              "      <th>Review</th>\n",
              "      <th>Rating</th>\n",
              "      <th>Sentiment</th>\n",
              "    </tr>\n",
              "  </thead>\n",
              "  <tbody>\n",
              "    <tr>\n",
              "      <th>0</th>\n",
              "      <td>enak kuacinya</td>\n",
              "      <td>5</td>\n",
              "      <td>positive</td>\n",
              "    </tr>\n",
              "    <tr>\n",
              "      <th>1</th>\n",
              "      <td>pengiriman cepat packing bagus sesuai pesanan ...</td>\n",
              "      <td>5</td>\n",
              "      <td>positive</td>\n",
              "    </tr>\n",
              "    <tr>\n",
              "      <th>2</th>\n",
              "      <td>pengemasan luar biasa baik untuk rasa menurut ...</td>\n",
              "      <td>4</td>\n",
              "      <td>negative</td>\n",
              "    </tr>\n",
              "    <tr>\n",
              "      <th>3</th>\n",
              "      <td>terimakasih min</td>\n",
              "      <td>5</td>\n",
              "      <td>neutral</td>\n",
              "    </tr>\n",
              "    <tr>\n",
              "      <th>4</th>\n",
              "      <td>udah order untuk kesekian kali jos</td>\n",
              "      <td>5</td>\n",
              "      <td>neutral</td>\n",
              "    </tr>\n",
              "    <tr>\n",
              "      <th>...</th>\n",
              "      <td>...</td>\n",
              "      <td>...</td>\n",
              "      <td>...</td>\n",
              "    </tr>\n",
              "    <tr>\n",
              "      <th>4055</th>\n",
              "      <td>seller sangat responsif rasa belum dicoba kare...</td>\n",
              "      <td>5</td>\n",
              "      <td>neutral</td>\n",
              "    </tr>\n",
              "    <tr>\n",
              "      <th>4056</th>\n",
              "      <td>imut2 banget packing aman</td>\n",
              "      <td>5</td>\n",
              "      <td>positive</td>\n",
              "    </tr>\n",
              "    <tr>\n",
              "      <th>4057</th>\n",
              "      <td>good product trusted seller</td>\n",
              "      <td>5</td>\n",
              "      <td>positive</td>\n",
              "    </tr>\n",
              "    <tr>\n",
              "      <th>4058</th>\n",
              "      <td>sudah beli yg ke 3</td>\n",
              "      <td>5</td>\n",
              "      <td>neutral</td>\n",
              "    </tr>\n",
              "    <tr>\n",
              "      <th>4059</th>\n",
              "      <td>byk campurannya</td>\n",
              "      <td>4</td>\n",
              "      <td>neutral</td>\n",
              "    </tr>\n",
              "  </tbody>\n",
              "</table>\n",
              "<p>4060 rows × 3 columns</p>\n",
              "</div>"
            ],
            "text/plain": [
              "                                                 Review  Rating Sentiment\n",
              "0                                         enak kuacinya       5  positive\n",
              "1     pengiriman cepat packing bagus sesuai pesanan ...       5  positive\n",
              "2     pengemasan luar biasa baik untuk rasa menurut ...       4  negative\n",
              "3                                       terimakasih min       5   neutral\n",
              "4                    udah order untuk kesekian kali jos       5   neutral\n",
              "...                                                 ...     ...       ...\n",
              "4055  seller sangat responsif rasa belum dicoba kare...       5   neutral\n",
              "4056                          imut2 banget packing aman       5  positive\n",
              "4057                        good product trusted seller       5  positive\n",
              "4058                                 sudah beli yg ke 3       5   neutral\n",
              "4059                                    byk campurannya       4   neutral\n",
              "\n",
              "[4060 rows x 3 columns]"
            ]
          },
          "metadata": {
            "tags": []
          },
          "execution_count": 4
        }
      ]
    },
    {
      "cell_type": "markdown",
      "metadata": {
        "id": "MTXm3ZuMD4qc"
      },
      "source": [
        "## Check Dataset"
      ]
    },
    {
      "cell_type": "code",
      "metadata": {
        "colab": {
          "base_uri": "https://localhost:8080/",
          "height": 307
        },
        "id": "CAQHBA7JD4qi",
        "outputId": "97e9d479-34b8-47cf-f714-7b3aa23498db"
      },
      "source": [
        "pd.value_counts(df['Sentiment']).plot.bar()"
      ],
      "execution_count": null,
      "outputs": [
        {
          "output_type": "execute_result",
          "data": {
            "text/plain": [
              "<matplotlib.axes._subplots.AxesSubplot at 0x7f77c0aaaf50>"
            ]
          },
          "metadata": {
            "tags": []
          },
          "execution_count": 5
        },
        {
          "output_type": "display_data",
          "data": {
            "image/png": "[encoded data removed]",
            "text/plain": [
              "<Figure size 432x288 with 1 Axes>"
            ]
          },
          "metadata": {
            "tags": [],
            "needs_background": "light"
          }
        }
      ]
    },
    {
      "cell_type": "code",
      "metadata": {
        "colab": {
          "base_uri": "https://localhost:8080/"
        },
        "id": "K1_KZgI7D4qj",
        "outputId": "cc32952c-56a6-4056-c4c5-2a678c9454fa"
      },
      "source": [
        "#to check shape of the dataset\n",
        "print(df.shape) \n",
        "\n",
        "#to look the header of dataset\n",
        "df.info()\n"
      ],
      "execution_count": null,
      "outputs": [
        {
          "output_type": "stream",
          "text": [
            "(4060, 3)\n",
            "<class 'pandas.core.frame.DataFrame'>\n",
            "RangeIndex: 4060 entries, 0 to 4059\n",
            "Data columns (total 3 columns):\n",
            " #   Column     Non-Null Count  Dtype \n",
            "---  ------     --------------  ----- \n",
            " 0   Review     4060 non-null   object\n",
            " 1   Rating     4060 non-null   int64 \n",
            " 2   Sentiment  4060 non-null   object\n",
            "dtypes: int64(1), object(2)\n",
            "memory usage: 95.3+ KB\n"
          ],
          "name": "stdout"
        }
      ]
    },
    {
      "cell_type": "code",
      "metadata": {
        "colab": {
          "base_uri": "https://localhost:8080/",
          "height": 419
        },
        "id": "NQDA7DLsD4qk",
        "outputId": "45507fbc-b39a-4657-f769-95728b4a20ad"
      },
      "source": [
        "#separate column category and add value to it\n",
        "category = pd.get_dummies(df.Sentiment)\n",
        "df = pd.concat([df, category], axis=1)\n",
        "df = df.drop(columns='Sentiment')\n",
        "df"
      ],
      "execution_count": null,
      "outputs": [
        {
          "output_type": "execute_result",
          "data": {
            "text/html": [
              "<div>\n",
              "<style scoped>\n",
              "    .dataframe tbody tr th:only-of-type {\n",
              "        vertical-align: middle;\n",
              "    }\n",
              "\n",
              "    .dataframe tbody tr th {\n",
              "        vertical-align: top;\n",
              "    }\n",
              "\n",
              "    .dataframe thead th {\n",
              "        text-align: right;\n",
              "    }\n",
              "</style>\n",
              "<table border=\"1\" class=\"dataframe\">\n",
              "  <thead>\n",
              "    <tr style=\"text-align: right;\">\n",
              "      <th></th>\n",
              "      <th>Review</th>\n",
              "      <th>Rating</th>\n",
              "      <th>negative</th>\n",
              "      <th>neutral</th>\n",
              "      <th>positive</th>\n",
              "    </tr>\n",
              "  </thead>\n",
              "  <tbody>\n",
              "    <tr>\n",
              "      <th>0</th>\n",
              "      <td>enak kuacinya</td>\n",
              "      <td>5</td>\n",
              "      <td>0</td>\n",
              "      <td>0</td>\n",
              "      <td>1</td>\n",
              "    </tr>\n",
              "    <tr>\n",
              "      <th>1</th>\n",
              "      <td>pengiriman cepat packing bagus sesuai pesanan ...</td>\n",
              "      <td>5</td>\n",
              "      <td>0</td>\n",
              "      <td>0</td>\n",
              "      <td>1</td>\n",
              "    </tr>\n",
              "    <tr>\n",
              "      <th>2</th>\n",
              "      <td>pengemasan luar biasa baik untuk rasa menurut ...</td>\n",
              "      <td>4</td>\n",
              "      <td>1</td>\n",
              "      <td>0</td>\n",
              "      <td>0</td>\n",
              "    </tr>\n",
              "    <tr>\n",
              "      <th>3</th>\n",
              "      <td>terimakasih min</td>\n",
              "      <td>5</td>\n",
              "      <td>0</td>\n",
              "      <td>1</td>\n",
              "      <td>0</td>\n",
              "    </tr>\n",
              "    <tr>\n",
              "      <th>4</th>\n",
              "      <td>udah order untuk kesekian kali jos</td>\n",
              "      <td>5</td>\n",
              "      <td>0</td>\n",
              "      <td>1</td>\n",
              "      <td>0</td>\n",
              "    </tr>\n",
              "    <tr>\n",
              "      <th>...</th>\n",
              "      <td>...</td>\n",
              "      <td>...</td>\n",
              "      <td>...</td>\n",
              "      <td>...</td>\n",
              "      <td>...</td>\n",
              "    </tr>\n",
              "    <tr>\n",
              "      <th>4055</th>\n",
              "      <td>seller sangat responsif rasa belum dicoba kare...</td>\n",
              "      <td>5</td>\n",
              "      <td>0</td>\n",
              "      <td>1</td>\n",
              "      <td>0</td>\n",
              "    </tr>\n",
              "    <tr>\n",
              "      <th>4056</th>\n",
              "      <td>imut2 banget packing aman</td>\n",
              "      <td>5</td>\n",
              "      <td>0</td>\n",
              "      <td>0</td>\n",
              "      <td>1</td>\n",
              "    </tr>\n",
              "    <tr>\n",
              "      <th>4057</th>\n",
              "      <td>good product trusted seller</td>\n",
              "      <td>5</td>\n",
              "      <td>0</td>\n",
              "      <td>0</td>\n",
              "      <td>1</td>\n",
              "    </tr>\n",
              "    <tr>\n",
              "      <th>4058</th>\n",
              "      <td>sudah beli yg ke 3</td>\n",
              "      <td>5</td>\n",
              "      <td>0</td>\n",
              "      <td>1</td>\n",
              "      <td>0</td>\n",
              "    </tr>\n",
              "    <tr>\n",
              "      <th>4059</th>\n",
              "      <td>byk campurannya</td>\n",
              "      <td>4</td>\n",
              "      <td>0</td>\n",
              "      <td>1</td>\n",
              "      <td>0</td>\n",
              "    </tr>\n",
              "  </tbody>\n",
              "</table>\n",
              "<p>4060 rows × 5 columns</p>\n",
              "</div>"
            ],
            "text/plain": [
              "                                                 Review  ...  positive\n",
              "0                                         enak kuacinya  ...         1\n",
              "1     pengiriman cepat packing bagus sesuai pesanan ...  ...         1\n",
              "2     pengemasan luar biasa baik untuk rasa menurut ...  ...         0\n",
              "3                                       terimakasih min  ...         0\n",
              "4                    udah order untuk kesekian kali jos  ...         0\n",
              "...                                                 ...  ...       ...\n",
              "4055  seller sangat responsif rasa belum dicoba kare...  ...         0\n",
              "4056                          imut2 banget packing aman  ...         1\n",
              "4057                        good product trusted seller  ...         1\n",
              "4058                                 sudah beli yg ke 3  ...         0\n",
              "4059                                    byk campurannya  ...         0\n",
              "\n",
              "[4060 rows x 5 columns]"
            ]
          },
          "metadata": {
            "tags": []
          },
          "execution_count": 7
        }
      ]
    },
    {
      "cell_type": "markdown",
      "metadata": {
        "id": "rDue0G_drWAl"
      },
      "source": [
        "##Text Preprocessing"
      ]
    },
    {
      "cell_type": "code",
      "metadata": {
        "id": "7T7jl8UVrXo2"
      },
      "source": [
        "# convert to lowercase\n",
        "df['Review'] = df['Review'].str.lower()"
      ],
      "execution_count": null,
      "outputs": []
    },
    {
      "cell_type": "code",
      "metadata": {
        "colab": {
          "base_uri": "https://localhost:8080/",
          "height": 419
        },
        "id": "Xip7NqCOEU5T",
        "outputId": "fb1f66c3-d72b-42c4-9f42-e27e7b6266a8"
      },
      "source": [
        "#remove repeated char\n",
        "# continously repeating character\n",
        "# from the word \n",
        "import re\n",
        "def conti_rep_char(str1):\n",
        "    tchr = str1.group(0)\n",
        "    if len(tchr) > 1:\n",
        "      return tchr[0:1]\n",
        "# define a function to check\n",
        "# whether unique character \n",
        "# is present or not\n",
        "def check_unique_char(rep, sent_text):\n",
        "    # regular expression for \n",
        "    # repetion of characters\n",
        "    convert = re.sub(r'(\\w)\\1+', \n",
        "                     rep,\n",
        "                     sent_text)\n",
        "      \n",
        "    # returing the converted word\n",
        "    return convert\n",
        "\n",
        "df['Review'] = df['Review'].apply(lambda x : check_unique_char(conti_rep_char, x))\n",
        "df"
      ],
      "execution_count": null,
      "outputs": [
        {
          "output_type": "execute_result",
          "data": {
            "text/html": [
              "<div>\n",
              "<style scoped>\n",
              "    .dataframe tbody tr th:only-of-type {\n",
              "        vertical-align: middle;\n",
              "    }\n",
              "\n",
              "    .dataframe tbody tr th {\n",
              "        vertical-align: top;\n",
              "    }\n",
              "\n",
              "    .dataframe thead th {\n",
              "        text-align: right;\n",
              "    }\n",
              "</style>\n",
              "<table border=\"1\" class=\"dataframe\">\n",
              "  <thead>\n",
              "    <tr style=\"text-align: right;\">\n",
              "      <th></th>\n",
              "      <th>Review</th>\n",
              "      <th>Rating</th>\n",
              "      <th>negative</th>\n",
              "      <th>neutral</th>\n",
              "      <th>positive</th>\n",
              "    </tr>\n",
              "  </thead>\n",
              "  <tbody>\n",
              "    <tr>\n",
              "      <th>0</th>\n",
              "      <td>enak kuacinya</td>\n",
              "      <td>5</td>\n",
              "      <td>0</td>\n",
              "      <td>0</td>\n",
              "      <td>1</td>\n",
              "    </tr>\n",
              "    <tr>\n",
              "      <th>1</th>\n",
              "      <td>pengiriman cepat packing bagus sesuai pesanan ...</td>\n",
              "      <td>5</td>\n",
              "      <td>0</td>\n",
              "      <td>0</td>\n",
              "      <td>1</td>\n",
              "    </tr>\n",
              "    <tr>\n",
              "      <th>2</th>\n",
              "      <td>pengemasan luar biasa baik untuk rasa menurut ...</td>\n",
              "      <td>4</td>\n",
              "      <td>1</td>\n",
              "      <td>0</td>\n",
              "      <td>0</td>\n",
              "    </tr>\n",
              "    <tr>\n",
              "      <th>3</th>\n",
              "      <td>terimakasih min</td>\n",
              "      <td>5</td>\n",
              "      <td>0</td>\n",
              "      <td>1</td>\n",
              "      <td>0</td>\n",
              "    </tr>\n",
              "    <tr>\n",
              "      <th>4</th>\n",
              "      <td>udah order untuk kesekian kali jos</td>\n",
              "      <td>5</td>\n",
              "      <td>0</td>\n",
              "      <td>1</td>\n",
              "      <td>0</td>\n",
              "    </tr>\n",
              "    <tr>\n",
              "      <th>...</th>\n",
              "      <td>...</td>\n",
              "      <td>...</td>\n",
              "      <td>...</td>\n",
              "      <td>...</td>\n",
              "      <td>...</td>\n",
              "    </tr>\n",
              "    <tr>\n",
              "      <th>4055</th>\n",
              "      <td>seler sangat responsif rasa belum dicoba karen...</td>\n",
              "      <td>5</td>\n",
              "      <td>0</td>\n",
              "      <td>1</td>\n",
              "      <td>0</td>\n",
              "    </tr>\n",
              "    <tr>\n",
              "      <th>4056</th>\n",
              "      <td>imut2 banget packing aman</td>\n",
              "      <td>5</td>\n",
              "      <td>0</td>\n",
              "      <td>0</td>\n",
              "      <td>1</td>\n",
              "    </tr>\n",
              "    <tr>\n",
              "      <th>4057</th>\n",
              "      <td>god product trusted seler</td>\n",
              "      <td>5</td>\n",
              "      <td>0</td>\n",
              "      <td>0</td>\n",
              "      <td>1</td>\n",
              "    </tr>\n",
              "    <tr>\n",
              "      <th>4058</th>\n",
              "      <td>sudah beli yg ke 3</td>\n",
              "      <td>5</td>\n",
              "      <td>0</td>\n",
              "      <td>1</td>\n",
              "      <td>0</td>\n",
              "    </tr>\n",
              "    <tr>\n",
              "      <th>4059</th>\n",
              "      <td>byk campuranya</td>\n",
              "      <td>4</td>\n",
              "      <td>0</td>\n",
              "      <td>1</td>\n",
              "      <td>0</td>\n",
              "    </tr>\n",
              "  </tbody>\n",
              "</table>\n",
              "<p>4060 rows × 5 columns</p>\n",
              "</div>"
            ],
            "text/plain": [
              "                                                 Review  ...  positive\n",
              "0                                         enak kuacinya  ...         1\n",
              "1     pengiriman cepat packing bagus sesuai pesanan ...  ...         1\n",
              "2     pengemasan luar biasa baik untuk rasa menurut ...  ...         0\n",
              "3                                       terimakasih min  ...         0\n",
              "4                    udah order untuk kesekian kali jos  ...         0\n",
              "...                                                 ...  ...       ...\n",
              "4055  seler sangat responsif rasa belum dicoba karen...  ...         0\n",
              "4056                          imut2 banget packing aman  ...         1\n",
              "4057                          god product trusted seler  ...         1\n",
              "4058                                 sudah beli yg ke 3  ...         0\n",
              "4059                                     byk campuranya  ...         0\n",
              "\n",
              "[4060 rows x 5 columns]"
            ]
          },
          "metadata": {
            "tags": []
          },
          "execution_count": 9
        }
      ]
    },
    {
      "cell_type": "code",
      "metadata": {
        "colab": {
          "base_uri": "https://localhost:8080/",
          "height": 453
        },
        "id": "zYsdeb-YEf3K",
        "outputId": "51be7216-5f03-49cf-a87d-1ac7da210eb9"
      },
      "source": [
        "import nltk\n",
        "nltk.download('stopwords')\n",
        "from nltk.corpus import stopwords\n",
        "\n",
        "# ----------------------- get stopword from NLTK stopword -------------------------------\n",
        "# get stopword indonesia\n",
        "list_stopwords = stopwords.words('indonesian')\n",
        "\n",
        "\n",
        "# ---------------------------- manualy add stopword  ------------------------------------\n",
        "# append additional stopword\n",
        "list_stopwords.extend([\"yg\", \"dg\", \"rt\", \"dgn\", \"ny\", \"d\", 'klo', \n",
        "                       'kalo', 'amp', 'biar', 'bikin', 'bilang', \n",
        "                       'gak', 'ga', 'krn', 'nya', 'nih', 'sih', \n",
        "                       'si', 'tau', 'tdk', 'tuh', 'utk', 'ya', \n",
        "                       'jd', 'jgn', 'sdh', 'aja', 'n', 't', \n",
        "                       'nyg', 'hehe', 'pen', 'u', 'nan', 'loh', 'rt',\n",
        "                       '&amp', 'yah'])\n",
        "\n",
        "\n",
        "#remove stopword pada list token\n",
        "# Exclude stopwords with Python's list comprehension and pandas.DataFrame.apply.\n",
        "df['Review'] = df['Review'].apply(lambda x: ' '.join([word for word in x.split() if word not in (list_stopwords)]))\n",
        "\n",
        "df"
      ],
      "execution_count": null,
      "outputs": [
        {
          "output_type": "stream",
          "text": [
            "[nltk_data] Downloading package stopwords to /root/nltk_data...\n",
            "[nltk_data]   Unzipping corpora/stopwords.zip.\n"
          ],
          "name": "stdout"
        },
        {
          "output_type": "execute_result",
          "data": {
            "text/html": [
              "<div>\n",
              "<style scoped>\n",
              "    .dataframe tbody tr th:only-of-type {\n",
              "        vertical-align: middle;\n",
              "    }\n",
              "\n",
              "    .dataframe tbody tr th {\n",
              "        vertical-align: top;\n",
              "    }\n",
              "\n",
              "    .dataframe thead th {\n",
              "        text-align: right;\n",
              "    }\n",
              "</style>\n",
              "<table border=\"1\" class=\"dataframe\">\n",
              "  <thead>\n",
              "    <tr style=\"text-align: right;\">\n",
              "      <th></th>\n",
              "      <th>Review</th>\n",
              "      <th>Rating</th>\n",
              "      <th>negative</th>\n",
              "      <th>neutral</th>\n",
              "      <th>positive</th>\n",
              "    </tr>\n",
              "  </thead>\n",
              "  <tbody>\n",
              "    <tr>\n",
              "      <th>0</th>\n",
              "      <td>enak kuacinya</td>\n",
              "      <td>5</td>\n",
              "      <td>0</td>\n",
              "      <td>0</td>\n",
              "      <td>1</td>\n",
              "    </tr>\n",
              "    <tr>\n",
              "      <th>1</th>\n",
              "      <td>pengiriman cepat packing bagus sesuai pesanan ...</td>\n",
              "      <td>5</td>\n",
              "      <td>0</td>\n",
              "      <td>0</td>\n",
              "      <td>1</td>\n",
              "    </tr>\n",
              "    <tr>\n",
              "      <th>2</th>\n",
              "      <td>pengemasan dominan original atw asli kuacinya ...</td>\n",
              "      <td>4</td>\n",
              "      <td>1</td>\n",
              "      <td>0</td>\n",
              "      <td>0</td>\n",
              "    </tr>\n",
              "    <tr>\n",
              "      <th>3</th>\n",
              "      <td>terimakasih min</td>\n",
              "      <td>5</td>\n",
              "      <td>0</td>\n",
              "      <td>1</td>\n",
              "      <td>0</td>\n",
              "    </tr>\n",
              "    <tr>\n",
              "      <th>4</th>\n",
              "      <td>udah order kesekian kali jos</td>\n",
              "      <td>5</td>\n",
              "      <td>0</td>\n",
              "      <td>1</td>\n",
              "      <td>0</td>\n",
              "    </tr>\n",
              "    <tr>\n",
              "      <th>...</th>\n",
              "      <td>...</td>\n",
              "      <td>...</td>\n",
              "      <td>...</td>\n",
              "      <td>...</td>\n",
              "      <td>...</td>\n",
              "    </tr>\n",
              "    <tr>\n",
              "      <th>4055</th>\n",
              "      <td>seler responsif dicoba dibuka</td>\n",
              "      <td>5</td>\n",
              "      <td>0</td>\n",
              "      <td>1</td>\n",
              "      <td>0</td>\n",
              "    </tr>\n",
              "    <tr>\n",
              "      <th>4056</th>\n",
              "      <td>imut2 banget packing aman</td>\n",
              "      <td>5</td>\n",
              "      <td>0</td>\n",
              "      <td>0</td>\n",
              "      <td>1</td>\n",
              "    </tr>\n",
              "    <tr>\n",
              "      <th>4057</th>\n",
              "      <td>god product trusted seler</td>\n",
              "      <td>5</td>\n",
              "      <td>0</td>\n",
              "      <td>0</td>\n",
              "      <td>1</td>\n",
              "    </tr>\n",
              "    <tr>\n",
              "      <th>4058</th>\n",
              "      <td>beli 3</td>\n",
              "      <td>5</td>\n",
              "      <td>0</td>\n",
              "      <td>1</td>\n",
              "      <td>0</td>\n",
              "    </tr>\n",
              "    <tr>\n",
              "      <th>4059</th>\n",
              "      <td>byk campuranya</td>\n",
              "      <td>4</td>\n",
              "      <td>0</td>\n",
              "      <td>1</td>\n",
              "      <td>0</td>\n",
              "    </tr>\n",
              "  </tbody>\n",
              "</table>\n",
              "<p>4060 rows × 5 columns</p>\n",
              "</div>"
            ],
            "text/plain": [
              "                                                 Review  ...  positive\n",
              "0                                         enak kuacinya  ...         1\n",
              "1     pengiriman cepat packing bagus sesuai pesanan ...  ...         1\n",
              "2     pengemasan dominan original atw asli kuacinya ...  ...         0\n",
              "3                                       terimakasih min  ...         0\n",
              "4                          udah order kesekian kali jos  ...         0\n",
              "...                                                 ...  ...       ...\n",
              "4055                      seler responsif dicoba dibuka  ...         0\n",
              "4056                          imut2 banget packing aman  ...         1\n",
              "4057                          god product trusted seler  ...         1\n",
              "4058                                             beli 3  ...         0\n",
              "4059                                     byk campuranya  ...         0\n",
              "\n",
              "[4060 rows x 5 columns]"
            ]
          },
          "metadata": {
            "tags": []
          },
          "execution_count": 10
        }
      ]
    },
    {
      "cell_type": "code",
      "metadata": {
        "colab": {
          "base_uri": "https://localhost:8080/",
          "height": 453
        },
        "id": "92FPGItXE56Y",
        "outputId": "0446bda0-39b0-4b20-89ba-d9bcee00e8c7"
      },
      "source": [
        "print(df.shape)\n",
        "#Removes duplicates in place\n",
        "df.drop_duplicates(keep=False, inplace=True)\n",
        "print(df.shape) \n",
        "df"
      ],
      "execution_count": null,
      "outputs": [
        {
          "output_type": "stream",
          "text": [
            "(4060, 5)\n",
            "(3863, 5)\n"
          ],
          "name": "stdout"
        },
        {
          "output_type": "execute_result",
          "data": {
            "text/html": [
              "<div>\n",
              "<style scoped>\n",
              "    .dataframe tbody tr th:only-of-type {\n",
              "        vertical-align: middle;\n",
              "    }\n",
              "\n",
              "    .dataframe tbody tr th {\n",
              "        vertical-align: top;\n",
              "    }\n",
              "\n",
              "    .dataframe thead th {\n",
              "        text-align: right;\n",
              "    }\n",
              "</style>\n",
              "<table border=\"1\" class=\"dataframe\">\n",
              "  <thead>\n",
              "    <tr style=\"text-align: right;\">\n",
              "      <th></th>\n",
              "      <th>Review</th>\n",
              "      <th>Rating</th>\n",
              "      <th>negative</th>\n",
              "      <th>neutral</th>\n",
              "      <th>positive</th>\n",
              "    </tr>\n",
              "  </thead>\n",
              "  <tbody>\n",
              "    <tr>\n",
              "      <th>0</th>\n",
              "      <td>enak kuacinya</td>\n",
              "      <td>5</td>\n",
              "      <td>0</td>\n",
              "      <td>0</td>\n",
              "      <td>1</td>\n",
              "    </tr>\n",
              "    <tr>\n",
              "      <th>1</th>\n",
              "      <td>pengiriman cepat packing bagus sesuai pesanan ...</td>\n",
              "      <td>5</td>\n",
              "      <td>0</td>\n",
              "      <td>0</td>\n",
              "      <td>1</td>\n",
              "    </tr>\n",
              "    <tr>\n",
              "      <th>2</th>\n",
              "      <td>pengemasan dominan original atw asli kuacinya ...</td>\n",
              "      <td>4</td>\n",
              "      <td>1</td>\n",
              "      <td>0</td>\n",
              "      <td>0</td>\n",
              "    </tr>\n",
              "    <tr>\n",
              "      <th>3</th>\n",
              "      <td>terimakasih min</td>\n",
              "      <td>5</td>\n",
              "      <td>0</td>\n",
              "      <td>1</td>\n",
              "      <td>0</td>\n",
              "    </tr>\n",
              "    <tr>\n",
              "      <th>4</th>\n",
              "      <td>udah order kesekian kali jos</td>\n",
              "      <td>5</td>\n",
              "      <td>0</td>\n",
              "      <td>1</td>\n",
              "      <td>0</td>\n",
              "    </tr>\n",
              "    <tr>\n",
              "      <th>...</th>\n",
              "      <td>...</td>\n",
              "      <td>...</td>\n",
              "      <td>...</td>\n",
              "      <td>...</td>\n",
              "      <td>...</td>\n",
              "    </tr>\n",
              "    <tr>\n",
              "      <th>4055</th>\n",
              "      <td>seler responsif dicoba dibuka</td>\n",
              "      <td>5</td>\n",
              "      <td>0</td>\n",
              "      <td>1</td>\n",
              "      <td>0</td>\n",
              "    </tr>\n",
              "    <tr>\n",
              "      <th>4056</th>\n",
              "      <td>imut2 banget packing aman</td>\n",
              "      <td>5</td>\n",
              "      <td>0</td>\n",
              "      <td>0</td>\n",
              "      <td>1</td>\n",
              "    </tr>\n",
              "    <tr>\n",
              "      <th>4057</th>\n",
              "      <td>god product trusted seler</td>\n",
              "      <td>5</td>\n",
              "      <td>0</td>\n",
              "      <td>0</td>\n",
              "      <td>1</td>\n",
              "    </tr>\n",
              "    <tr>\n",
              "      <th>4058</th>\n",
              "      <td>beli 3</td>\n",
              "      <td>5</td>\n",
              "      <td>0</td>\n",
              "      <td>1</td>\n",
              "      <td>0</td>\n",
              "    </tr>\n",
              "    <tr>\n",
              "      <th>4059</th>\n",
              "      <td>byk campuranya</td>\n",
              "      <td>4</td>\n",
              "      <td>0</td>\n",
              "      <td>1</td>\n",
              "      <td>0</td>\n",
              "    </tr>\n",
              "  </tbody>\n",
              "</table>\n",
              "<p>3863 rows × 5 columns</p>\n",
              "</div>"
            ],
            "text/plain": [
              "                                                 Review  ...  positive\n",
              "0                                         enak kuacinya  ...         1\n",
              "1     pengiriman cepat packing bagus sesuai pesanan ...  ...         1\n",
              "2     pengemasan dominan original atw asli kuacinya ...  ...         0\n",
              "3                                       terimakasih min  ...         0\n",
              "4                          udah order kesekian kali jos  ...         0\n",
              "...                                                 ...  ...       ...\n",
              "4055                      seler responsif dicoba dibuka  ...         0\n",
              "4056                          imut2 banget packing aman  ...         1\n",
              "4057                          god product trusted seler  ...         1\n",
              "4058                                             beli 3  ...         0\n",
              "4059                                     byk campuranya  ...         0\n",
              "\n",
              "[3863 rows x 5 columns]"
            ]
          },
          "metadata": {
            "tags": []
          },
          "execution_count": 11
        }
      ]
    },
    {
      "cell_type": "markdown",
      "metadata": {
        "id": "r-lnuvqQrtUz"
      },
      "source": [
        "##Tokenize"
      ]
    },
    {
      "cell_type": "code",
      "metadata": {
        "id": "sMjLCJclrsYj",
        "colab": {
          "base_uri": "https://localhost:8080/"
        },
        "outputId": "9576667f-6c7f-4ce8-bc02-45290c4ee2c6"
      },
      "source": [
        "vocab_size = 5000\n",
        "oov_tok = \"OOV\"\n",
        "\n",
        "tokenizer = Tokenizer(num_words = vocab_size, oov_token = oov_tok)\n",
        "tokenizer.fit_on_texts(df['Review'].values)\n",
        "\n",
        "word2index = tokenizer.word_index\n",
        "print(len(word2index))"
      ],
      "execution_count": null,
      "outputs": [
        {
          "output_type": "stream",
          "text": [
            "4182\n"
          ],
          "name": "stdout"
        }
      ]
    },
    {
      "cell_type": "code",
      "metadata": {
        "id": "whWt0LYxvO-C"
      },
      "source": [
        "import json\n",
        "\n",
        "with open('word2index.json', 'w') as fp:\n",
        "    json.dump(word2index, fp)"
      ],
      "execution_count": null,
      "outputs": []
    },
    {
      "cell_type": "code",
      "metadata": {
        "id": "_ugC89x8r4La",
        "colab": {
          "base_uri": "https://localhost:8080/"
        },
        "outputId": "92422a0c-39fc-4f0b-bf40-8fe4ecd92923"
      },
      "source": [
        "max_length =  max(len(values.split()) for i, values in enumerate(df['Review']))\n",
        "print(max_length)\n",
        "max_length = 20\n"
      ],
      "execution_count": null,
      "outputs": [
        {
          "output_type": "stream",
          "text": [
            "77\n"
          ],
          "name": "stdout"
        }
      ]
    },
    {
      "cell_type": "code",
      "metadata": {
        "id": "pkoanBtWr-Fq",
        "colab": {
          "base_uri": "https://localhost:8080/"
        },
        "outputId": "ee0b4509-0869-40e9-d959-6576cad44aa1"
      },
      "source": [
        "trunc_type='post'\n",
        "\n",
        "all_seq = tokenizer.texts_to_sequences(df['Review'].values)\n",
        "all_padded = pad_sequences(all_seq, maxlen = max_length, padding = trunc_type)\n",
        "all_padded.shape"
      ],
      "execution_count": null,
      "outputs": [
        {
          "output_type": "execute_result",
          "data": {
            "text/plain": [
              "(3863, 20)"
            ]
          },
          "metadata": {
            "tags": []
          },
          "execution_count": 15
        }
      ]
    },
    {
      "cell_type": "markdown",
      "metadata": {
        "id": "ssSWYl15FwoC"
      },
      "source": [
        "## Build Train and test sets"
      ]
    },
    {
      "cell_type": "code",
      "metadata": {
        "id": "XSevKaW8rE2Y",
        "colab": {
          "base_uri": "https://localhost:8080/"
        },
        "outputId": "0997752b-1af6-41fb-f3b2-e3856c482542"
      },
      "source": [
        "# split train and test sets\n",
        "from sklearn.model_selection import train_test_split\n",
        "\n",
        "X = all_padded\n",
        "#y = pd.get_dummies(df['label'].values)\n",
        "y = df[['negative', 'neutral', 'positive']].values\n",
        "\n",
        "X_train, X_test, y_train, y_test = train_test_split(X, y,test_size=0.2, random_state=42)\n",
        "print(X_train.shape, y_train.shape)\n",
        "print(X_test.shape, y_test.shape)\n",
        "\n",
        "#kalimat = df['sentence'].values\n",
        "#y = df['label'].values\n",
        "\n",
        "#kalimat_latih, kalimat_test, y_latih, y_test = train_test_split(kalimat, y, \n",
        "#                                                                test_size=0.2, random_state=1000)"
      ],
      "execution_count": null,
      "outputs": [
        {
          "output_type": "stream",
          "text": [
            "(3090, 20) (3090, 3)\n",
            "(773, 20) (773, 3)\n"
          ],
          "name": "stdout"
        }
      ]
    },
    {
      "cell_type": "markdown",
      "metadata": {
        "id": "7vOm7DeiGlPn"
      },
      "source": [
        "## Build Model"
      ]
    },
    {
      "cell_type": "code",
      "metadata": {
        "id": "CUwJnNOZNp5K",
        "colab": {
          "base_uri": "https://localhost:8080/"
        },
        "outputId": "135e6e93-56c8-4b4d-c667-b60af273afe1"
      },
      "source": [
        "model = tf.keras.Sequential([\n",
        "    tf.keras.layers.Embedding(input_dim= vocab_size, output_dim=8),\n",
        "    tf.keras.layers.LSTM(64),\n",
        "    tf.keras.layers.Dense(32, activation='relu'),\n",
        "    tf.keras.layers.Dense(3, activation='softmax')\n",
        "])\n",
        "model.compile(loss='categorical_crossentropy',optimizer='adam',metrics=['accuracy'])\n",
        "model.summary()"
      ],
      "execution_count": null,
      "outputs": [
        {
          "output_type": "stream",
          "text": [
            "Model: \"sequential\"\n",
            "_________________________________________________________________\n",
            "Layer (type)                 Output Shape              Param #   \n",
            "=================================================================\n",
            "embedding (Embedding)        (None, None, 8)           40000     \n",
            "_________________________________________________________________\n",
            "lstm (LSTM)                  (None, 64)                18688     \n",
            "_________________________________________________________________\n",
            "dense (Dense)                (None, 32)                2080      \n",
            "_________________________________________________________________\n",
            "dense_1 (Dense)              (None, 3)                 99        \n",
            "=================================================================\n",
            "Total params: 60,867\n",
            "Trainable params: 60,867\n",
            "Non-trainable params: 0\n",
            "_________________________________________________________________\n"
          ],
          "name": "stdout"
        }
      ]
    },
    {
      "cell_type": "markdown",
      "metadata": {
        "id": "mE4Qw-OBGnm2"
      },
      "source": [
        "##Train"
      ]
    },
    {
      "cell_type": "code",
      "metadata": {
        "id": "bbI-o4_TNvbH",
        "colab": {
          "base_uri": "https://localhost:8080/"
        },
        "outputId": "819b8f55-0d4f-41f7-8133-083b9204be33"
      },
      "source": [
        "num_epochs = 16\n",
        "history = model.fit(X_train, y_train, epochs=num_epochs, validation_data=(X_test, y_test))"
      ],
      "execution_count": null,
      "outputs": [
        {
          "output_type": "stream",
          "text": [
            "Epoch 1/30\n",
            "97/97 [==============================] - 4s 21ms/step - loss: 0.9041 - accuracy: 0.7132 - val_loss: 0.7771 - val_accuracy: 0.7063\n",
            "Epoch 2/30\n",
            "97/97 [==============================] - 1s 13ms/step - loss: 0.6598 - accuracy: 0.7372 - val_loss: 0.6377 - val_accuracy: 0.7400\n",
            "Epoch 3/30\n",
            "97/97 [==============================] - 1s 13ms/step - loss: 0.4617 - accuracy: 0.8020 - val_loss: 0.6757 - val_accuracy: 0.7063\n",
            "Epoch 4/30\n",
            "97/97 [==============================] - 1s 13ms/step - loss: 0.4055 - accuracy: 0.8328 - val_loss: 0.6717 - val_accuracy: 0.7413\n",
            "Epoch 5/30\n",
            "97/97 [==============================] - 1s 12ms/step - loss: 0.3380 - accuracy: 0.8635 - val_loss: 0.7593 - val_accuracy: 0.7322\n",
            "Epoch 6/30\n",
            "97/97 [==============================] - 1s 13ms/step - loss: 0.2871 - accuracy: 0.8887 - val_loss: 0.7943 - val_accuracy: 0.7154\n",
            "Epoch 7/30\n",
            "97/97 [==============================] - 1s 12ms/step - loss: 0.2300 - accuracy: 0.9222 - val_loss: 0.9485 - val_accuracy: 0.7283\n",
            "Epoch 8/30\n",
            "97/97 [==============================] - 1s 12ms/step - loss: 0.2141 - accuracy: 0.9313 - val_loss: 0.9158 - val_accuracy: 0.7076\n",
            "Epoch 9/30\n",
            "97/97 [==============================] - 1s 12ms/step - loss: 0.2170 - accuracy: 0.9266 - val_loss: 0.9578 - val_accuracy: 0.7193\n",
            "Epoch 10/30\n",
            "97/97 [==============================] - 1s 12ms/step - loss: 0.2038 - accuracy: 0.9320 - val_loss: 0.9322 - val_accuracy: 0.7232\n",
            "Epoch 11/30\n",
            "97/97 [==============================] - 1s 12ms/step - loss: 0.1818 - accuracy: 0.9402 - val_loss: 1.0315 - val_accuracy: 0.7206\n",
            "Epoch 12/30\n",
            "97/97 [==============================] - 1s 12ms/step - loss: 0.1766 - accuracy: 0.9419 - val_loss: 0.9906 - val_accuracy: 0.7167\n",
            "Epoch 13/30\n",
            "97/97 [==============================] - 1s 12ms/step - loss: 0.1595 - accuracy: 0.9529 - val_loss: 1.0476 - val_accuracy: 0.6934\n",
            "Epoch 14/30\n",
            "97/97 [==============================] - 1s 12ms/step - loss: 0.1527 - accuracy: 0.9565 - val_loss: 1.0519 - val_accuracy: 0.7232\n",
            "Epoch 15/30\n",
            "97/97 [==============================] - 1s 12ms/step - loss: 0.1273 - accuracy: 0.9666 - val_loss: 0.9578 - val_accuracy: 0.7219\n",
            "Epoch 16/30\n",
            "97/97 [==============================] - 1s 12ms/step - loss: 0.1425 - accuracy: 0.9530 - val_loss: 1.0005 - val_accuracy: 0.7245\n",
            "Epoch 17/30\n",
            "97/97 [==============================] - 1s 12ms/step - loss: 0.1063 - accuracy: 0.9680 - val_loss: 1.1017 - val_accuracy: 0.7167\n",
            "Epoch 18/30\n",
            "97/97 [==============================] - 1s 12ms/step - loss: 0.1198 - accuracy: 0.9641 - val_loss: 1.0213 - val_accuracy: 0.7128\n",
            "Epoch 19/30\n",
            "97/97 [==============================] - 1s 12ms/step - loss: 0.1241 - accuracy: 0.9636 - val_loss: 1.1463 - val_accuracy: 0.7154\n",
            "Epoch 20/30\n",
            "97/97 [==============================] - 1s 12ms/step - loss: 0.1009 - accuracy: 0.9688 - val_loss: 1.3129 - val_accuracy: 0.7167\n",
            "Epoch 21/30\n",
            "97/97 [==============================] - 1s 13ms/step - loss: 0.1193 - accuracy: 0.9677 - val_loss: 1.1981 - val_accuracy: 0.7154\n",
            "Epoch 22/30\n",
            "97/97 [==============================] - 1s 13ms/step - loss: 0.0994 - accuracy: 0.9683 - val_loss: 1.0982 - val_accuracy: 0.7257\n",
            "Epoch 23/30\n",
            "97/97 [==============================] - 1s 13ms/step - loss: 0.0870 - accuracy: 0.9736 - val_loss: 1.1456 - val_accuracy: 0.7309\n",
            "Epoch 24/30\n",
            "97/97 [==============================] - 1s 12ms/step - loss: 0.0829 - accuracy: 0.9681 - val_loss: 1.1928 - val_accuracy: 0.7361\n",
            "Epoch 25/30\n",
            "97/97 [==============================] - 1s 13ms/step - loss: 0.0900 - accuracy: 0.9685 - val_loss: 1.0481 - val_accuracy: 0.7270\n",
            "Epoch 26/30\n",
            "97/97 [==============================] - 1s 12ms/step - loss: 0.1084 - accuracy: 0.9631 - val_loss: 1.2440 - val_accuracy: 0.6960\n",
            "Epoch 27/30\n",
            "97/97 [==============================] - 1s 12ms/step - loss: 0.0948 - accuracy: 0.9706 - val_loss: 1.2700 - val_accuracy: 0.6986\n",
            "Epoch 28/30\n",
            "97/97 [==============================] - 1s 12ms/step - loss: 0.0850 - accuracy: 0.9676 - val_loss: 1.2718 - val_accuracy: 0.7063\n",
            "Epoch 29/30\n",
            "97/97 [==============================] - 1s 12ms/step - loss: 0.0876 - accuracy: 0.9688 - val_loss: 1.3241 - val_accuracy: 0.7257\n",
            "Epoch 30/30\n",
            "97/97 [==============================] - 1s 12ms/step - loss: 0.0917 - accuracy: 0.9687 - val_loss: 1.2427 - val_accuracy: 0.7296\n"
          ],
          "name": "stdout"
        }
      ]
    },
    {
      "cell_type": "markdown",
      "metadata": {
        "id": "65NpSZrNGySh"
      },
      "source": [
        "##plotting"
      ]
    },
    {
      "cell_type": "code",
      "metadata": {
        "colab": {
          "base_uri": "https://localhost:8080/",
          "height": 291
        },
        "id": "4j8r6f-zGySh",
        "outputId": "3366f938-7d4a-430a-eb47-84fc9c4e96eb"
      },
      "source": [
        "import keras\n",
        "from matplotlib import pyplot as plt\n",
        "plt.plot(history.history['accuracy'])\n",
        "plt.plot(history.history['val_accuracy'])\n",
        "plt.plot(history.history['loss'])\n",
        "plt.plot(history.history['val_loss'])\n",
        "plt.title('model accuracy')\n",
        "plt.ylabel('accuracy')\n",
        "plt.xlabel('epoch')\n",
        "plt.legend(['train_acc', 'val_acc', 'train_loss','val_loss'], loc='upper left')\n",
        "plt.show()"
      ],
      "execution_count": null,
      "outputs": [
        {
          "output_type": "display_data",
          "data": {
            "image/png": "[encoded data removed]",
            "text/plain": [
              "<Figure size 432x288 with 1 Axes>"
            ]
          },
          "metadata": {
            "tags": [],
            "needs_background": "light"
          }
        }
      ]
    },
    {
      "cell_type": "markdown",
      "metadata": {
        "id": "nIxK638nGrb2"
      },
      "source": [
        "##testing"
      ]
    },
    {
      "cell_type": "code",
      "metadata": {
        "colab": {
          "base_uri": "https://localhost:8080/"
        },
        "id": "3gagvXM4Jlry",
        "outputId": "1d876fe2-1d3c-425d-a26f-9ae02f36a39e"
      },
      "source": [
        "import numpy as np\n",
        "# content_testing = np.array(['terimakasih', 'enak tapi gosong', 'rasanya enak dan pengiriman cepat'])\n",
        "def toSequence(sentence):\n",
        "  pad = []\n",
        "  for stc in sentence.split():\n",
        "    if stc.lower() in word2index.keys(): \n",
        "      pad.append(word2index[stc.lower()])\n",
        "    else: \n",
        "      continue\n",
        "  pad.extend([0]*(20-len(pad)))\n",
        "  return pad\n",
        "\n",
        "pad1 = toSequence('terimakasih')\n",
        "pad2 = toSequence('enak tapi gosong')\n",
        "pad3 = toSequence('rasanya enak dan pengiriman cepat')\n",
        "\n",
        "arrTest = [pad1, pad2, pad3]\n",
        "print(arrTest)\n",
        "\n",
        "for pad in arrTest:\n",
        "  result = model.predict([pad])\n",
        "  # result = model.predict(tokenizer(content_train,content_testing))\n",
        "  print(result)\n",
        "  classes = np.argmax(result, axis = 1)\n",
        "  print(classes)\n",
        "model.predict([[65, 0, 0, 0, 0, 0, 0, 0, 0, 0, 0, 0, 0, 0, 0, 0, 0, 0, 0, 0]])"
      ],
      "execution_count": null,
      "outputs": [
        {
          "output_type": "stream",
          "text": [
            "[[65, 0, 0, 0, 0, 0, 0, 0, 0, 0, 0, 0, 0, 0, 0, 0, 0, 0, 0, 0], [3, 49, 908, 0, 0, 0, 0, 0, 0, 0, 0, 0, 0, 0, 0, 0, 0, 0, 0, 0], [26, 3, 2, 5, 4, 0, 0, 0, 0, 0, 0, 0, 0, 0, 0, 0, 0, 0, 0, 0]]\n",
            "[[0.00535923 0.9710018  0.02363893]]\n",
            "[1]\n",
            "[[0.9337773  0.05686186 0.00936079]]\n",
            "[0]\n",
            "[[6.1886414e-05 3.4628306e-03 9.9647528e-01]]\n",
            "[2]\n"
          ],
          "name": "stdout"
        },
        {
          "output_type": "execute_result",
          "data": {
            "text/plain": [
              "array([[0.00535923, 0.9710018 , 0.02363893]], dtype=float32)"
            ]
          },
          "metadata": {
            "tags": []
          },
          "execution_count": 31
        }
      ]
    },
    {
      "cell_type": "code",
      "metadata": {
        "id": "UdJLOUkoMtF6"
      },
      "source": [
        "#def toSequence(sentence):\n",
        "#  pad = []\n",
        "#  for stc in sentence.split():\n",
        "#    if stc.lower() in word2index.keys(): \n",
        "#      pad.append(word2index[stc.lower()])\n",
        "#    else: \n",
        "#      continue\n",
        "#  return pad\n",
        "\n",
        "#pad = toSequence('affordable price and nice dessert')\n",
        "#pad = [269, 353, 0, 0, 0, 0, 0, 0, 0, 0, 0, 0, 0,0 ,0,0,0,0]\n",
        "#len(pad)\n",
        "#model.predict([pad])"
      ],
      "execution_count": null,
      "outputs": []
    },
    {
      "cell_type": "markdown",
      "metadata": {
        "id": "f-fp_i2PGt4J"
      },
      "source": [
        "##Save Model\n"
      ]
    },
    {
      "cell_type": "code",
      "metadata": {
        "id": "NsTz_o4zGnWn",
        "colab": {
          "base_uri": "https://localhost:8080/"
        },
        "outputId": "0a2790e4-a33f-4d85-a507-c33995754591"
      },
      "source": [
        "!pip install tensorflowjs"
      ],
      "execution_count": null,
      "outputs": [
        {
          "output_type": "stream",
          "text": [
            "Collecting tensorflowjs\n",
            "\u001b[?25l  Downloading https://files.pythonhosted.org/packages/28/5a/2497b3ba86f5f1c2c7539e0bc5d957146a5ed71acfb6c66f644974af4309/tensorflowjs-3.6.0-py3-none-any.whl (63kB)\n",
            "\r\u001b[K     |█████▏                          | 10kB 13.3MB/s eta 0:00:01\r\u001b[K     |██████████▎                     | 20kB 18.7MB/s eta 0:00:01\r\u001b[K     |███████████████▍                | 30kB 23.2MB/s eta 0:00:01\r\u001b[K     |████████████████████▌           | 40kB 26.5MB/s eta 0:00:01\r\u001b[K     |█████████████████████████▊      | 51kB 28.8MB/s eta 0:00:01\r\u001b[K     |██████████████████████████████▉ | 61kB 31.0MB/s eta 0:00:01\r\u001b[K     |████████████████████████████████| 71kB 8.5MB/s \n",
            "\u001b[?25hRequirement already satisfied: six<2,>=1.12.0 in /usr/local/lib/python3.7/dist-packages (from tensorflowjs) (1.15.0)\n",
            "Requirement already satisfied: tensorflow<3,>=2.1.0 in /usr/local/lib/python3.7/dist-packages (from tensorflowjs) (2.4.1)\n",
            "Collecting tensorflow-hub<0.10,>=0.7.0\n",
            "\u001b[?25l  Downloading https://files.pythonhosted.org/packages/ac/83/a7df82744a794107641dad1decaad017d82e25f0e1f761ac9204829eef96/tensorflow_hub-0.9.0-py2.py3-none-any.whl (103kB)\n",
            "\r\u001b[K     |███▏                            | 10kB 16.0MB/s eta 0:00:01\r\u001b[K     |██████▍                         | 20kB 23.3MB/s eta 0:00:01\r\u001b[K     |█████████▌                      | 30kB 28.3MB/s eta 0:00:01\r\u001b[K     |████████████▊                   | 40kB 31.6MB/s eta 0:00:01\r\u001b[K     |███████████████▉                | 51kB 33.2MB/s eta 0:00:01\r\u001b[K     |███████████████████             | 61kB 35.0MB/s eta 0:00:01\r\u001b[K     |██████████████████████▏         | 71kB 36.0MB/s eta 0:00:01\r\u001b[K     |█████████████████████████▍      | 81kB 35.5MB/s eta 0:00:01\r\u001b[K     |████████████████████████████▋   | 92kB 36.2MB/s eta 0:00:01\r\u001b[K     |███████████████████████████████▊| 102kB 37.3MB/s eta 0:00:01\r\u001b[K     |████████████████████████████████| 112kB 37.3MB/s \n",
            "\u001b[?25hRequirement already satisfied: wrapt~=1.12.1 in /usr/local/lib/python3.7/dist-packages (from tensorflow<3,>=2.1.0->tensorflowjs) (1.12.1)\n",
            "Requirement already satisfied: protobuf>=3.9.2 in /usr/local/lib/python3.7/dist-packages (from tensorflow<3,>=2.1.0->tensorflowjs) (3.12.4)\n",
            "Requirement already satisfied: opt-einsum~=3.3.0 in /usr/local/lib/python3.7/dist-packages (from tensorflow<3,>=2.1.0->tensorflowjs) (3.3.0)\n",
            "Requirement already satisfied: termcolor~=1.1.0 in /usr/local/lib/python3.7/dist-packages (from tensorflow<3,>=2.1.0->tensorflowjs) (1.1.0)\n",
            "Requirement already satisfied: gast==0.3.3 in /usr/local/lib/python3.7/dist-packages (from tensorflow<3,>=2.1.0->tensorflowjs) (0.3.3)\n",
            "Requirement already satisfied: numpy~=1.19.2 in /usr/local/lib/python3.7/dist-packages (from tensorflow<3,>=2.1.0->tensorflowjs) (1.19.5)\n",
            "Requirement already satisfied: absl-py~=0.10 in /usr/local/lib/python3.7/dist-packages (from tensorflow<3,>=2.1.0->tensorflowjs) (0.12.0)\n",
            "Requirement already satisfied: tensorboard~=2.4 in /usr/local/lib/python3.7/dist-packages (from tensorflow<3,>=2.1.0->tensorflowjs) (2.4.1)\n",
            "Requirement already satisfied: keras-preprocessing~=1.1.2 in /usr/local/lib/python3.7/dist-packages (from tensorflow<3,>=2.1.0->tensorflowjs) (1.1.2)\n",
            "Requirement already satisfied: google-pasta~=0.2 in /usr/local/lib/python3.7/dist-packages (from tensorflow<3,>=2.1.0->tensorflowjs) (0.2.0)\n",
            "Requirement already satisfied: wheel~=0.35 in /usr/local/lib/python3.7/dist-packages (from tensorflow<3,>=2.1.0->tensorflowjs) (0.36.2)\n",
            "Requirement already satisfied: astunparse~=1.6.3 in /usr/local/lib/python3.7/dist-packages (from tensorflow<3,>=2.1.0->tensorflowjs) (1.6.3)\n",
            "Requirement already satisfied: flatbuffers~=1.12.0 in /usr/local/lib/python3.7/dist-packages (from tensorflow<3,>=2.1.0->tensorflowjs) (1.12)\n",
            "Requirement already satisfied: tensorflow-estimator<2.5.0,>=2.4.0 in /usr/local/lib/python3.7/dist-packages (from tensorflow<3,>=2.1.0->tensorflowjs) (2.4.0)\n",
            "Requirement already satisfied: typing-extensions~=3.7.4 in /usr/local/lib/python3.7/dist-packages (from tensorflow<3,>=2.1.0->tensorflowjs) (3.7.4.3)\n",
            "Requirement already satisfied: grpcio~=1.32.0 in /usr/local/lib/python3.7/dist-packages (from tensorflow<3,>=2.1.0->tensorflowjs) (1.32.0)\n",
            "Requirement already satisfied: h5py~=2.10.0 in /usr/local/lib/python3.7/dist-packages (from tensorflow<3,>=2.1.0->tensorflowjs) (2.10.0)\n",
            "Requirement already satisfied: setuptools in /usr/local/lib/python3.7/dist-packages (from protobuf>=3.9.2->tensorflow<3,>=2.1.0->tensorflowjs) (56.1.0)\n",
            "Requirement already satisfied: werkzeug>=0.11.15 in /usr/local/lib/python3.7/dist-packages (from tensorboard~=2.4->tensorflow<3,>=2.1.0->tensorflowjs) (2.0.0)\n",
            "Requirement already satisfied: google-auth-oauthlib<0.5,>=0.4.1 in /usr/local/lib/python3.7/dist-packages (from tensorboard~=2.4->tensorflow<3,>=2.1.0->tensorflowjs) (0.4.4)\n",
            "Requirement already satisfied: requests<3,>=2.21.0 in /usr/local/lib/python3.7/dist-packages (from tensorboard~=2.4->tensorflow<3,>=2.1.0->tensorflowjs) (2.23.0)\n",
            "Requirement already satisfied: markdown>=2.6.8 in /usr/local/lib/python3.7/dist-packages (from tensorboard~=2.4->tensorflow<3,>=2.1.0->tensorflowjs) (3.3.4)\n",
            "Requirement already satisfied: tensorboard-plugin-wit>=1.6.0 in /usr/local/lib/python3.7/dist-packages (from tensorboard~=2.4->tensorflow<3,>=2.1.0->tensorflowjs) (1.8.0)\n",
            "Requirement already satisfied: google-auth<2,>=1.6.3 in /usr/local/lib/python3.7/dist-packages (from tensorboard~=2.4->tensorflow<3,>=2.1.0->tensorflowjs) (1.30.0)\n",
            "Requirement already satisfied: requests-oauthlib>=0.7.0 in /usr/local/lib/python3.7/dist-packages (from google-auth-oauthlib<0.5,>=0.4.1->tensorboard~=2.4->tensorflow<3,>=2.1.0->tensorflowjs) (1.3.0)\n",
            "Requirement already satisfied: certifi>=2017.4.17 in /usr/local/lib/python3.7/dist-packages (from requests<3,>=2.21.0->tensorboard~=2.4->tensorflow<3,>=2.1.0->tensorflowjs) (2020.12.5)\n",
            "Requirement already satisfied: idna<3,>=2.5 in /usr/local/lib/python3.7/dist-packages (from requests<3,>=2.21.0->tensorboard~=2.4->tensorflow<3,>=2.1.0->tensorflowjs) (2.10)\n",
            "Requirement already satisfied: urllib3!=1.25.0,!=1.25.1,<1.26,>=1.21.1 in /usr/local/lib/python3.7/dist-packages (from requests<3,>=2.21.0->tensorboard~=2.4->tensorflow<3,>=2.1.0->tensorflowjs) (1.24.3)\n",
            "Requirement already satisfied: chardet<4,>=3.0.2 in /usr/local/lib/python3.7/dist-packages (from requests<3,>=2.21.0->tensorboard~=2.4->tensorflow<3,>=2.1.0->tensorflowjs) (3.0.4)\n",
            "Requirement already satisfied: importlib-metadata; python_version < \"3.8\" in /usr/local/lib/python3.7/dist-packages (from markdown>=2.6.8->tensorboard~=2.4->tensorflow<3,>=2.1.0->tensorflowjs) (4.0.1)\n",
            "Requirement already satisfied: cachetools<5.0,>=2.0.0 in /usr/local/lib/python3.7/dist-packages (from google-auth<2,>=1.6.3->tensorboard~=2.4->tensorflow<3,>=2.1.0->tensorflowjs) (4.2.2)\n",
            "Requirement already satisfied: pyasn1-modules>=0.2.1 in /usr/local/lib/python3.7/dist-packages (from google-auth<2,>=1.6.3->tensorboard~=2.4->tensorflow<3,>=2.1.0->tensorflowjs) (0.2.8)\n",
            "Requirement already satisfied: rsa<5,>=3.1.4; python_version >= \"3.6\" in /usr/local/lib/python3.7/dist-packages (from google-auth<2,>=1.6.3->tensorboard~=2.4->tensorflow<3,>=2.1.0->tensorflowjs) (4.7.2)\n",
            "Requirement already satisfied: oauthlib>=3.0.0 in /usr/local/lib/python3.7/dist-packages (from requests-oauthlib>=0.7.0->google-auth-oauthlib<0.5,>=0.4.1->tensorboard~=2.4->tensorflow<3,>=2.1.0->tensorflowjs) (3.1.0)\n",
            "Requirement already satisfied: zipp>=0.5 in /usr/local/lib/python3.7/dist-packages (from importlib-metadata; python_version < \"3.8\"->markdown>=2.6.8->tensorboard~=2.4->tensorflow<3,>=2.1.0->tensorflowjs) (3.4.1)\n",
            "Requirement already satisfied: pyasn1<0.5.0,>=0.4.6 in /usr/local/lib/python3.7/dist-packages (from pyasn1-modules>=0.2.1->google-auth<2,>=1.6.3->tensorboard~=2.4->tensorflow<3,>=2.1.0->tensorflowjs) (0.4.8)\n",
            "Installing collected packages: tensorflow-hub, tensorflowjs\n",
            "  Found existing installation: tensorflow-hub 0.12.0\n",
            "    Uninstalling tensorflow-hub-0.12.0:\n",
            "      Successfully uninstalled tensorflow-hub-0.12.0\n",
            "Successfully installed tensorflow-hub-0.9.0 tensorflowjs-3.6.0\n"
          ],
          "name": "stdout"
        }
      ]
    },
    {
      "cell_type": "code",
      "metadata": {
        "id": "Y3brVf1AGzcw",
        "colab": {
          "base_uri": "https://localhost:8080/"
        },
        "outputId": "90e0fda1-8521-42c2-ace2-41832d6244b9"
      },
      "source": [
        "saved_model_path = '/content/mymodel/'\n",
        "tf.saved_model.save(model, saved_model_path)"
      ],
      "execution_count": null,
      "outputs": [
        {
          "output_type": "stream",
          "text": [
            "WARNING:absl:Found untraced functions such as lstm_cell_layer_call_and_return_conditional_losses, lstm_cell_layer_call_fn, lstm_cell_layer_call_fn, lstm_cell_layer_call_and_return_conditional_losses, lstm_cell_layer_call_and_return_conditional_losses while saving (showing 5 of 5). These functions will not be directly callable after loading.\n",
            "WARNING:absl:Found untraced functions such as lstm_cell_layer_call_and_return_conditional_losses, lstm_cell_layer_call_fn, lstm_cell_layer_call_fn, lstm_cell_layer_call_and_return_conditional_losses, lstm_cell_layer_call_and_return_conditional_losses while saving (showing 5 of 5). These functions will not be directly callable after loading.\n"
          ],
          "name": "stderr"
        },
        {
          "output_type": "stream",
          "text": [
            "INFO:tensorflow:Assets written to: /content/mymodel/assets\n"
          ],
          "name": "stdout"
        },
        {
          "output_type": "stream",
          "text": [
            "INFO:tensorflow:Assets written to: /content/mymodel/assets\n"
          ],
          "name": "stderr"
        }
      ]
    },
    {
      "cell_type": "code",
      "metadata": {
        "id": "g0L5e5ocG418",
        "colab": {
          "base_uri": "https://localhost:8080/"
        },
        "outputId": "7c89b674-2efe-4880-863c-d3dd01a3e8b5"
      },
      "source": [
        "!tensorflowjs_converter \\\n",
        "  --input_format=keras_saved_model \\\n",
        "  /content/mymodel/ \\\n",
        "  /content/modeltfjs"
      ],
      "execution_count": null,
      "outputs": [
        {
          "output_type": "stream",
          "text": [
            "2021-05-20 08:09:48.836069: I tensorflow/stream_executor/platform/default/dso_loader.cc:49] Successfully opened dynamic library libcudart.so.11.0\n",
            "2021-05-20 08:09:50.706797: I tensorflow/compiler/jit/xla_cpu_device.cc:41] Not creating XLA devices, tf_xla_enable_xla_devices not set\n",
            "2021-05-20 08:09:50.708062: I tensorflow/stream_executor/platform/default/dso_loader.cc:49] Successfully opened dynamic library libcuda.so.1\n",
            "2021-05-20 08:09:50.718048: E tensorflow/stream_executor/cuda/cuda_driver.cc:328] failed call to cuInit: CUDA_ERROR_NO_DEVICE: no CUDA-capable device is detected\n",
            "2021-05-20 08:09:50.718103: I tensorflow/stream_executor/cuda/cuda_diagnostics.cc:156] kernel driver does not appear to be running on this host (8ff2f801ff8a): /proc/driver/nvidia/version does not exist\n",
            "2021-05-20 08:09:50.718667: I tensorflow/compiler/jit/xla_gpu_device.cc:99] Not creating XLA devices, tf_xla_enable_xla_devices not set\n",
            "2021-05-20 08:09:50.806686: I tensorflow/compiler/jit/xla_gpu_device.cc:99] Not creating XLA devices, tf_xla_enable_xla_devices not set\n",
            "2021-05-20 08:09:52.969367: I tensorflow/compiler/mlir/mlir_graph_optimization_pass.cc:196] None of the MLIR optimization passes are enabled (registered 0 passes)\n",
            "2021-05-20 08:09:53.000495: I tensorflow/core/platform/profile_utils/cpu_utils.cc:112] CPU Frequency: 2200145000 Hz\n"
          ],
          "name": "stdout"
        }
      ]
    },
    {
      "cell_type": "code",
      "metadata": {
        "colab": {
          "base_uri": "https://localhost:8080/",
          "height": 68
        },
        "id": "Tde3Z3HHpt28",
        "outputId": "2ed022dd-e6d8-4830-c48e-c104679f8d7e"
      },
      "source": [
        "!zip -r modeltfjs.zip /content/modeltfjs\n",
        "from google.colab import files\n",
        "files.download(\"/content/modeltfjs.zip\")"
      ],
      "execution_count": null,
      "outputs": [
        {
          "output_type": "stream",
          "text": [
            "updating: content/modeltfjs/ (stored 0%)\n",
            "updating: content/modeltfjs/model.json (deflated 93%)\n",
            "updating: content/modeltfjs/group1-shard1of1.bin (deflated 7%)\n"
          ],
          "name": "stdout"
        },
        {
          "output_type": "display_data",
          "data": {
            "application/javascript": [
              "\n",
              "    async function download(id, filename, size) {\n",
              "      if (!google.colab.kernel.accessAllowed) {\n",
              "        return;\n",
              "      }\n",
              "      const div = document.createElement('div');\n",
              "      const label = document.createElement('label');\n",
              "      label.textContent = `Downloading \"${filename}\": `;\n",
              "      div.appendChild(label);\n",
              "      const progress = document.createElement('progress');\n",
              "      progress.max = size;\n",
              "      div.appendChild(progress);\n",
              "      document.body.appendChild(div);\n",
              "\n",
              "      const buffers = [];\n",
              "      let downloaded = 0;\n",
              "\n",
              "      const channel = await google.colab.kernel.comms.open(id);\n",
              "      // Send a message to notify the kernel that we're ready.\n",
              "      channel.send({})\n",
              "\n",
              "      for await (const message of channel.messages) {\n",
              "        // Send a message to notify the kernel that we're ready.\n",
              "        channel.send({})\n",
              "        if (message.buffers) {\n",
              "          for (const buffer of message.buffers) {\n",
              "            buffers.push(buffer);\n",
              "            downloaded += buffer.byteLength;\n",
              "            progress.value = downloaded;\n",
              "          }\n",
              "        }\n",
              "      }\n",
              "      const blob = new Blob(buffers, {type: 'application/binary'});\n",
              "      const a = document.createElement('a');\n",
              "      a.href = window.URL.createObjectURL(blob);\n",
              "      a.download = filename;\n",
              "      div.appendChild(a);\n",
              "      a.click();\n",
              "      div.remove();\n",
              "    }\n",
              "  "
            ],
            "text/plain": [
              "<IPython.core.display.Javascript object>"
            ]
          },
          "metadata": {
            "tags": []
          }
        },
        {
          "output_type": "display_data",
          "data": {
            "application/javascript": [
              "download(\"download_acf29f49-e4b9-4445-845f-e22baa0c1a8c\", \"modeltfjs.zip\", 229203)"
            ],
            "text/plain": [
              "<IPython.core.display.Javascript object>"
            ]
          },
          "metadata": {
            "tags": []
          }
        }
      ]
    },
    {
      "cell_type": "markdown",
      "metadata": {
        "id": "tXoOB9dJ1_J9"
      },
      "source": [
        "#**Building model with LSTM (3)**"
      ]
    },
    {
      "cell_type": "markdown",
      "metadata": {
        "id": "exb8CMae1_KE"
      },
      "source": [
        "## Load Dataset"
      ]
    },
    {
      "cell_type": "code",
      "metadata": {
        "colab": {
          "base_uri": "https://localhost:8080/"
        },
        "id": "CcTknFDe1_KF",
        "outputId": "9c7ecc33-f8f3-4a50-f4b3-4f890da33ed4"
      },
      "source": [
        "!wget https://raw.githubusercontent.com/H4rfu1/ML-project-TokoLitik-tim-Undagi/main/Response/dataset/dataset_review_tokped_labelled.csv"
      ],
      "execution_count": 5,
      "outputs": [
        {
          "output_type": "stream",
          "text": [
            "--2021-05-31 05:17:03--  https://raw.githubusercontent.com/H4rfu1/ML-project-TokoLitik-tim-Undagi/main/Response/dataset/dataset_review_tokped_labelled.csv\n",
            "Resolving raw.githubusercontent.com (raw.githubusercontent.com)... 185.199.108.133, 185.199.109.133, 185.199.110.133, ...\n",
            "Connecting to raw.githubusercontent.com (raw.githubusercontent.com)|185.199.108.133|:443... connected.\n",
            "HTTP request sent, awaiting response... 200 OK\n",
            "Length: 294589 (288K) [text/plain]\n",
            "Saving to: ‘dataset_review_tokped_labelled.csv’\n",
            "\n",
            "dataset_review_tokp 100%[===================>] 287.68K  --.-KB/s    in 0.03s   \n",
            "\n",
            "2021-05-31 05:17:03 (8.71 MB/s) - ‘dataset_review_tokped_labelled.csv’ saved [294589/294589]\n",
            "\n"
          ],
          "name": "stdout"
        }
      ]
    },
    {
      "cell_type": "code",
      "metadata": {
        "colab": {
          "base_uri": "https://localhost:8080/"
        },
        "id": "8vvzQTDoAugU",
        "outputId": "6cf4bfb2-b0d5-434c-b046-e3f983175cc7"
      },
      "source": [
        "!wget https://raw.githubusercontent.com/H4rfu1/ML-project-TokoLitik-tim-Undagi/main/Response/missleading_words_bahasa.json"
      ],
      "execution_count": 24,
      "outputs": [
        {
          "output_type": "stream",
          "text": [
            "--2021-05-31 06:02:01--  https://raw.githubusercontent.com/H4rfu1/ML-project-TokoLitik-tim-Undagi/main/Response/missleading_words_bahasa.json\n",
            "Resolving raw.githubusercontent.com (raw.githubusercontent.com)... 185.199.108.133, 185.199.109.133, 185.199.110.133, ...\n",
            "Connecting to raw.githubusercontent.com (raw.githubusercontent.com)|185.199.108.133|:443... connected.\n",
            "HTTP request sent, awaiting response... 200 OK\n",
            "Length: 22504 (22K) [text/plain]\n",
            "Saving to: ‘missleading_words_bahasa.json’\n",
            "\n",
            "\r          missleadi   0%[                    ]       0  --.-KB/s               \rmissleading_words_b 100%[===================>]  21.98K  --.-KB/s    in 0.002s  \n",
            "\n",
            "2021-05-31 06:02:01 (13.7 MB/s) - ‘missleading_words_bahasa.json’ saved [22504/22504]\n",
            "\n"
          ],
          "name": "stdout"
        }
      ]
    },
    {
      "cell_type": "code",
      "metadata": {
        "colab": {
          "base_uri": "https://localhost:8080/"
        },
        "id": "z0LHJFgIBWWq",
        "outputId": "a407e208-095f-4c5b-a8c7-9e23799a59e9"
      },
      "source": [
        "#change to data dictioranary\n",
        "import json\n",
        "f = open('missleading_words_bahasa.json',)\n",
        "words_bahasa = json.load(f)\n",
        "f.close()\n",
        "\n",
        "print(len(words_bahasa))"
      ],
      "execution_count": 29,
      "outputs": [
        {
          "output_type": "stream",
          "text": [
            "1164\n"
          ],
          "name": "stdout"
        }
      ]
    },
    {
      "cell_type": "code",
      "metadata": {
        "colab": {
          "base_uri": "https://localhost:8080/"
        },
        "id": "DDV0T134CCGV",
        "outputId": "1692702d-dd9a-465c-837f-83f7a623ce7e"
      },
      "source": [
        "#remove empty value dict\n",
        "words_bahasa = {k: v for k, v in words_bahasa.items() if v is not ''}\n",
        "len(words_bahasa)"
      ],
      "execution_count": 32,
      "outputs": [
        {
          "output_type": "execute_result",
          "data": {
            "text/plain": [
              "1018"
            ]
          },
          "metadata": {
            "tags": []
          },
          "execution_count": 32
        }
      ]
    },
    {
      "cell_type": "code",
      "metadata": {
        "colab": {
          "base_uri": "https://localhost:8080/",
          "height": 406
        },
        "id": "lTe0BeKy1_KH",
        "outputId": "2d69fc16-3d8f-47e1-874e-6db388d7ba96"
      },
      "source": [
        "#dataset from crawling process\n",
        "df = pd.read_csv('/content/dataset_review_tokped_labelled.csv')\n",
        "df"
      ],
      "execution_count": 73,
      "outputs": [
        {
          "output_type": "execute_result",
          "data": {
            "text/html": [
              "<div>\n",
              "<style scoped>\n",
              "    .dataframe tbody tr th:only-of-type {\n",
              "        vertical-align: middle;\n",
              "    }\n",
              "\n",
              "    .dataframe tbody tr th {\n",
              "        vertical-align: top;\n",
              "    }\n",
              "\n",
              "    .dataframe thead th {\n",
              "        text-align: right;\n",
              "    }\n",
              "</style>\n",
              "<table border=\"1\" class=\"dataframe\">\n",
              "  <thead>\n",
              "    <tr style=\"text-align: right;\">\n",
              "      <th></th>\n",
              "      <th>Review</th>\n",
              "      <th>Rating</th>\n",
              "      <th>Sentiment</th>\n",
              "    </tr>\n",
              "  </thead>\n",
              "  <tbody>\n",
              "    <tr>\n",
              "      <th>0</th>\n",
              "      <td>enak kuacinya</td>\n",
              "      <td>5</td>\n",
              "      <td>positive</td>\n",
              "    </tr>\n",
              "    <tr>\n",
              "      <th>1</th>\n",
              "      <td>pengiriman cepat packing bagus sesuai pesanan ...</td>\n",
              "      <td>5</td>\n",
              "      <td>positive</td>\n",
              "    </tr>\n",
              "    <tr>\n",
              "      <th>2</th>\n",
              "      <td>pengemasan luar biasa baik untuk rasa menurut ...</td>\n",
              "      <td>4</td>\n",
              "      <td>negative</td>\n",
              "    </tr>\n",
              "    <tr>\n",
              "      <th>3</th>\n",
              "      <td>terimakasih min</td>\n",
              "      <td>5</td>\n",
              "      <td>neutral</td>\n",
              "    </tr>\n",
              "    <tr>\n",
              "      <th>4</th>\n",
              "      <td>udah order untuk kesekian kali jos</td>\n",
              "      <td>5</td>\n",
              "      <td>neutral</td>\n",
              "    </tr>\n",
              "    <tr>\n",
              "      <th>...</th>\n",
              "      <td>...</td>\n",
              "      <td>...</td>\n",
              "      <td>...</td>\n",
              "    </tr>\n",
              "    <tr>\n",
              "      <th>4055</th>\n",
              "      <td>seller sangat responsif rasa belum dicoba kare...</td>\n",
              "      <td>5</td>\n",
              "      <td>neutral</td>\n",
              "    </tr>\n",
              "    <tr>\n",
              "      <th>4056</th>\n",
              "      <td>imut2 banget packing aman</td>\n",
              "      <td>5</td>\n",
              "      <td>positive</td>\n",
              "    </tr>\n",
              "    <tr>\n",
              "      <th>4057</th>\n",
              "      <td>good product trusted seller</td>\n",
              "      <td>5</td>\n",
              "      <td>positive</td>\n",
              "    </tr>\n",
              "    <tr>\n",
              "      <th>4058</th>\n",
              "      <td>sudah beli yg ke 3</td>\n",
              "      <td>5</td>\n",
              "      <td>neutral</td>\n",
              "    </tr>\n",
              "    <tr>\n",
              "      <th>4059</th>\n",
              "      <td>byk campurannya</td>\n",
              "      <td>4</td>\n",
              "      <td>neutral</td>\n",
              "    </tr>\n",
              "  </tbody>\n",
              "</table>\n",
              "<p>4060 rows × 3 columns</p>\n",
              "</div>"
            ],
            "text/plain": [
              "                                                 Review  Rating Sentiment\n",
              "0                                         enak kuacinya       5  positive\n",
              "1     pengiriman cepat packing bagus sesuai pesanan ...       5  positive\n",
              "2     pengemasan luar biasa baik untuk rasa menurut ...       4  negative\n",
              "3                                       terimakasih min       5   neutral\n",
              "4                    udah order untuk kesekian kali jos       5   neutral\n",
              "...                                                 ...     ...       ...\n",
              "4055  seller sangat responsif rasa belum dicoba kare...       5   neutral\n",
              "4056                          imut2 banget packing aman       5  positive\n",
              "4057                        good product trusted seller       5  positive\n",
              "4058                                 sudah beli yg ke 3       5   neutral\n",
              "4059                                    byk campurannya       4   neutral\n",
              "\n",
              "[4060 rows x 3 columns]"
            ]
          },
          "metadata": {
            "tags": []
          },
          "execution_count": 73
        }
      ]
    },
    {
      "cell_type": "markdown",
      "metadata": {
        "id": "ol_hdf-G1_KI"
      },
      "source": [
        "## Check Dataset"
      ]
    },
    {
      "cell_type": "code",
      "metadata": {
        "colab": {
          "base_uri": "https://localhost:8080/"
        },
        "id": "PnX33fHI1_KJ",
        "outputId": "058f2315-31b8-4121-f872-474ea0c6e468"
      },
      "source": [
        "pd.value_counts(df['Sentiment'])"
      ],
      "execution_count": 74,
      "outputs": [
        {
          "output_type": "execute_result",
          "data": {
            "text/plain": [
              "positive    2903\n",
              "neutral      585\n",
              "negative     572\n",
              "Name: Sentiment, dtype: int64"
            ]
          },
          "metadata": {
            "tags": []
          },
          "execution_count": 74
        }
      ]
    },
    {
      "cell_type": "code",
      "metadata": {
        "colab": {
          "base_uri": "https://localhost:8080/",
          "height": 307
        },
        "id": "ndDjQEAQDzwy",
        "outputId": "6b2ae389-c6df-4e97-8fa5-3591492e09cd"
      },
      "source": [
        "pd.value_counts(df['Sentiment']).plot.bar()"
      ],
      "execution_count": 75,
      "outputs": [
        {
          "output_type": "execute_result",
          "data": {
            "text/plain": [
              "<matplotlib.axes._subplots.AxesSubplot at 0x7fe84f8e9e50>"
            ]
          },
          "metadata": {
            "tags": []
          },
          "execution_count": 75
        },
        {
          "output_type": "display_data",
          "data": {
            "image/png": "[encoded data removed]",
            "text/plain": [
              "<Figure size 432x288 with 1 Axes>"
            ]
          },
          "metadata": {
            "tags": []
          }
        }
      ]
    },
    {
      "cell_type": "code",
      "metadata": {
        "colab": {
          "base_uri": "https://localhost:8080/"
        },
        "id": "eZ1xotRE1_KJ",
        "outputId": "6dd8b954-4260-4c0a-d7f6-dd4b88d5f3b0"
      },
      "source": [
        "#to check shape of the dataset\n",
        "print(df.shape) \n",
        "\n",
        "#to look the header of dataset\n",
        "df.info()\n"
      ],
      "execution_count": 76,
      "outputs": [
        {
          "output_type": "stream",
          "text": [
            "(4060, 3)\n",
            "<class 'pandas.core.frame.DataFrame'>\n",
            "RangeIndex: 4060 entries, 0 to 4059\n",
            "Data columns (total 3 columns):\n",
            " #   Column     Non-Null Count  Dtype \n",
            "---  ------     --------------  ----- \n",
            " 0   Review     4060 non-null   object\n",
            " 1   Rating     4060 non-null   int64 \n",
            " 2   Sentiment  4060 non-null   object\n",
            "dtypes: int64(1), object(2)\n",
            "memory usage: 95.3+ KB\n"
          ],
          "name": "stdout"
        }
      ]
    },
    {
      "cell_type": "code",
      "metadata": {
        "colab": {
          "base_uri": "https://localhost:8080/"
        },
        "id": "QjeoklpP1_KK",
        "outputId": "0ed8a59c-422d-4371-abed-f0c04be0da0a"
      },
      "source": [
        "df[\"Sentiment\"] = df[\"Sentiment\"].astype('category')\n",
        "df.dtypes"
      ],
      "execution_count": 77,
      "outputs": [
        {
          "output_type": "execute_result",
          "data": {
            "text/plain": [
              "Review         object\n",
              "Rating          int64\n",
              "Sentiment    category\n",
              "dtype: object"
            ]
          },
          "metadata": {
            "tags": []
          },
          "execution_count": 77
        }
      ]
    },
    {
      "cell_type": "code",
      "metadata": {
        "colab": {
          "base_uri": "https://localhost:8080/",
          "height": 406
        },
        "id": "zEFPdrfc1_KK",
        "outputId": "e2e57eeb-a2b3-4c7d-d80f-b95e9754428d"
      },
      "source": [
        "#separate column category and add value to it\n",
        "category = pd.get_dummies(df.Sentiment)\n",
        "df_new = pd.concat([df, category], axis=1)\n",
        "# df_new = df_new.drop(columns='Sentiment')\n",
        "df_new"
      ],
      "execution_count": 78,
      "outputs": [
        {
          "output_type": "execute_result",
          "data": {
            "text/html": [
              "<div>\n",
              "<style scoped>\n",
              "    .dataframe tbody tr th:only-of-type {\n",
              "        vertical-align: middle;\n",
              "    }\n",
              "\n",
              "    .dataframe tbody tr th {\n",
              "        vertical-align: top;\n",
              "    }\n",
              "\n",
              "    .dataframe thead th {\n",
              "        text-align: right;\n",
              "    }\n",
              "</style>\n",
              "<table border=\"1\" class=\"dataframe\">\n",
              "  <thead>\n",
              "    <tr style=\"text-align: right;\">\n",
              "      <th></th>\n",
              "      <th>Review</th>\n",
              "      <th>Rating</th>\n",
              "      <th>Sentiment</th>\n",
              "      <th>negative</th>\n",
              "      <th>neutral</th>\n",
              "      <th>positive</th>\n",
              "    </tr>\n",
              "  </thead>\n",
              "  <tbody>\n",
              "    <tr>\n",
              "      <th>0</th>\n",
              "      <td>enak kuacinya</td>\n",
              "      <td>5</td>\n",
              "      <td>positive</td>\n",
              "      <td>0</td>\n",
              "      <td>0</td>\n",
              "      <td>1</td>\n",
              "    </tr>\n",
              "    <tr>\n",
              "      <th>1</th>\n",
              "      <td>pengiriman cepat packing bagus sesuai pesanan ...</td>\n",
              "      <td>5</td>\n",
              "      <td>positive</td>\n",
              "      <td>0</td>\n",
              "      <td>0</td>\n",
              "      <td>1</td>\n",
              "    </tr>\n",
              "    <tr>\n",
              "      <th>2</th>\n",
              "      <td>pengemasan luar biasa baik untuk rasa menurut ...</td>\n",
              "      <td>4</td>\n",
              "      <td>negative</td>\n",
              "      <td>1</td>\n",
              "      <td>0</td>\n",
              "      <td>0</td>\n",
              "    </tr>\n",
              "    <tr>\n",
              "      <th>3</th>\n",
              "      <td>terimakasih min</td>\n",
              "      <td>5</td>\n",
              "      <td>neutral</td>\n",
              "      <td>0</td>\n",
              "      <td>1</td>\n",
              "      <td>0</td>\n",
              "    </tr>\n",
              "    <tr>\n",
              "      <th>4</th>\n",
              "      <td>udah order untuk kesekian kali jos</td>\n",
              "      <td>5</td>\n",
              "      <td>neutral</td>\n",
              "      <td>0</td>\n",
              "      <td>1</td>\n",
              "      <td>0</td>\n",
              "    </tr>\n",
              "    <tr>\n",
              "      <th>...</th>\n",
              "      <td>...</td>\n",
              "      <td>...</td>\n",
              "      <td>...</td>\n",
              "      <td>...</td>\n",
              "      <td>...</td>\n",
              "      <td>...</td>\n",
              "    </tr>\n",
              "    <tr>\n",
              "      <th>4055</th>\n",
              "      <td>seller sangat responsif rasa belum dicoba kare...</td>\n",
              "      <td>5</td>\n",
              "      <td>neutral</td>\n",
              "      <td>0</td>\n",
              "      <td>1</td>\n",
              "      <td>0</td>\n",
              "    </tr>\n",
              "    <tr>\n",
              "      <th>4056</th>\n",
              "      <td>imut2 banget packing aman</td>\n",
              "      <td>5</td>\n",
              "      <td>positive</td>\n",
              "      <td>0</td>\n",
              "      <td>0</td>\n",
              "      <td>1</td>\n",
              "    </tr>\n",
              "    <tr>\n",
              "      <th>4057</th>\n",
              "      <td>good product trusted seller</td>\n",
              "      <td>5</td>\n",
              "      <td>positive</td>\n",
              "      <td>0</td>\n",
              "      <td>0</td>\n",
              "      <td>1</td>\n",
              "    </tr>\n",
              "    <tr>\n",
              "      <th>4058</th>\n",
              "      <td>sudah beli yg ke 3</td>\n",
              "      <td>5</td>\n",
              "      <td>neutral</td>\n",
              "      <td>0</td>\n",
              "      <td>1</td>\n",
              "      <td>0</td>\n",
              "    </tr>\n",
              "    <tr>\n",
              "      <th>4059</th>\n",
              "      <td>byk campurannya</td>\n",
              "      <td>4</td>\n",
              "      <td>neutral</td>\n",
              "      <td>0</td>\n",
              "      <td>1</td>\n",
              "      <td>0</td>\n",
              "    </tr>\n",
              "  </tbody>\n",
              "</table>\n",
              "<p>4060 rows × 6 columns</p>\n",
              "</div>"
            ],
            "text/plain": [
              "                                                 Review  ...  positive\n",
              "0                                         enak kuacinya  ...         1\n",
              "1     pengiriman cepat packing bagus sesuai pesanan ...  ...         1\n",
              "2     pengemasan luar biasa baik untuk rasa menurut ...  ...         0\n",
              "3                                       terimakasih min  ...         0\n",
              "4                    udah order untuk kesekian kali jos  ...         0\n",
              "...                                                 ...  ...       ...\n",
              "4055  seller sangat responsif rasa belum dicoba kare...  ...         0\n",
              "4056                          imut2 banget packing aman  ...         1\n",
              "4057                        good product trusted seller  ...         1\n",
              "4058                                 sudah beli yg ke 3  ...         0\n",
              "4059                                    byk campurannya  ...         0\n",
              "\n",
              "[4060 rows x 6 columns]"
            ]
          },
          "metadata": {
            "tags": []
          },
          "execution_count": 78
        }
      ]
    },
    {
      "cell_type": "markdown",
      "metadata": {
        "id": "4zCC_x0t1_KL"
      },
      "source": [
        "## Peprocess Dataset"
      ]
    },
    {
      "cell_type": "code",
      "metadata": {
        "colab": {
          "base_uri": "https://localhost:8080/",
          "height": 406
        },
        "id": "rJS8WctDDn9l",
        "outputId": "4d6f3a45-670f-4733-efe6-5cd80afaab26"
      },
      "source": [
        "#balanced data\n",
        "neutral = df_new[df_new[\"Sentiment\"] == \"neutral\"]\n",
        "negative = df_new[df_new[\"Sentiment\"] == \"negative\"]\n",
        "positive = df_new[df_new[\"Sentiment\"] == \"positive\"].sample(n=len(minority))\n",
        "df_new = pd.concat([neutral, negative, positive], axis=0)\n",
        "df_new\n",
        "# minority = data[data[\"Sentiment\"] == \"minority\"].sample(n=len(majority), replace=True)"
      ],
      "execution_count": 79,
      "outputs": [
        {
          "output_type": "execute_result",
          "data": {
            "text/html": [
              "<div>\n",
              "<style scoped>\n",
              "    .dataframe tbody tr th:only-of-type {\n",
              "        vertical-align: middle;\n",
              "    }\n",
              "\n",
              "    .dataframe tbody tr th {\n",
              "        vertical-align: top;\n",
              "    }\n",
              "\n",
              "    .dataframe thead th {\n",
              "        text-align: right;\n",
              "    }\n",
              "</style>\n",
              "<table border=\"1\" class=\"dataframe\">\n",
              "  <thead>\n",
              "    <tr style=\"text-align: right;\">\n",
              "      <th></th>\n",
              "      <th>Review</th>\n",
              "      <th>Rating</th>\n",
              "      <th>Sentiment</th>\n",
              "      <th>negative</th>\n",
              "      <th>neutral</th>\n",
              "      <th>positive</th>\n",
              "    </tr>\n",
              "  </thead>\n",
              "  <tbody>\n",
              "    <tr>\n",
              "      <th>3</th>\n",
              "      <td>terimakasih min</td>\n",
              "      <td>5</td>\n",
              "      <td>neutral</td>\n",
              "      <td>0</td>\n",
              "      <td>1</td>\n",
              "      <td>0</td>\n",
              "    </tr>\n",
              "    <tr>\n",
              "      <th>4</th>\n",
              "      <td>udah order untuk kesekian kali jos</td>\n",
              "      <td>5</td>\n",
              "      <td>neutral</td>\n",
              "      <td>0</td>\n",
              "      <td>1</td>\n",
              "      <td>0</td>\n",
              "    </tr>\n",
              "    <tr>\n",
              "      <th>10</th>\n",
              "      <td>rekomended</td>\n",
              "      <td>5</td>\n",
              "      <td>neutral</td>\n",
              "      <td>0</td>\n",
              "      <td>1</td>\n",
              "      <td>0</td>\n",
              "    </tr>\n",
              "    <tr>\n",
              "      <th>14</th>\n",
              "      <td>excellent</td>\n",
              "      <td>5</td>\n",
              "      <td>neutral</td>\n",
              "      <td>0</td>\n",
              "      <td>1</td>\n",
              "      <td>0</td>\n",
              "    </tr>\n",
              "    <tr>\n",
              "      <th>25</th>\n",
              "      <td>terima kasih barangnya sudah sampai</td>\n",
              "      <td>3</td>\n",
              "      <td>neutral</td>\n",
              "      <td>0</td>\n",
              "      <td>1</td>\n",
              "      <td>0</td>\n",
              "    </tr>\n",
              "    <tr>\n",
              "      <th>...</th>\n",
              "      <td>...</td>\n",
              "      <td>...</td>\n",
              "      <td>...</td>\n",
              "      <td>...</td>\n",
              "      <td>...</td>\n",
              "      <td>...</td>\n",
              "    </tr>\n",
              "    <tr>\n",
              "      <th>391</th>\n",
              "      <td>pengirimanny cepet bgt thanks seller untuk ras...</td>\n",
              "      <td>5</td>\n",
              "      <td>positive</td>\n",
              "      <td>0</td>\n",
              "      <td>0</td>\n",
              "      <td>1</td>\n",
              "    </tr>\n",
              "    <tr>\n",
              "      <th>1260</th>\n",
              "      <td>paket datang sesuai pesanan bintang yang bicara</td>\n",
              "      <td>5</td>\n",
              "      <td>positive</td>\n",
              "      <td>0</td>\n",
              "      <td>0</td>\n",
              "      <td>1</td>\n",
              "    </tr>\n",
              "    <tr>\n",
              "      <th>361</th>\n",
              "      <td>enak banget nasi kuningnya dan lauk2nya lalapa...</td>\n",
              "      <td>5</td>\n",
              "      <td>positive</td>\n",
              "      <td>0</td>\n",
              "      <td>0</td>\n",
              "      <td>1</td>\n",
              "    </tr>\n",
              "    <tr>\n",
              "      <th>3681</th>\n",
              "      <td>enak bangeett</td>\n",
              "      <td>5</td>\n",
              "      <td>positive</td>\n",
              "      <td>0</td>\n",
              "      <td>0</td>\n",
              "      <td>1</td>\n",
              "    </tr>\n",
              "    <tr>\n",
              "      <th>1512</th>\n",
              "      <td>good response dan penjual sgt baik</td>\n",
              "      <td>5</td>\n",
              "      <td>positive</td>\n",
              "      <td>0</td>\n",
              "      <td>0</td>\n",
              "      <td>1</td>\n",
              "    </tr>\n",
              "  </tbody>\n",
              "</table>\n",
              "<p>1742 rows × 6 columns</p>\n",
              "</div>"
            ],
            "text/plain": [
              "                                                 Review  ...  positive\n",
              "3                                       terimakasih min  ...         0\n",
              "4                    udah order untuk kesekian kali jos  ...         0\n",
              "10                                           rekomended  ...         0\n",
              "14                                            excellent  ...         0\n",
              "25                  terima kasih barangnya sudah sampai  ...         0\n",
              "...                                                 ...  ...       ...\n",
              "391   pengirimanny cepet bgt thanks seller untuk ras...  ...         1\n",
              "1260    paket datang sesuai pesanan bintang yang bicara  ...         1\n",
              "361   enak banget nasi kuningnya dan lauk2nya lalapa...  ...         1\n",
              "3681                                      enak bangeett  ...         1\n",
              "1512                 good response dan penjual sgt baik  ...         1\n",
              "\n",
              "[1742 rows x 6 columns]"
            ]
          },
          "metadata": {
            "tags": []
          },
          "execution_count": 79
        }
      ]
    },
    {
      "cell_type": "code",
      "metadata": {
        "colab": {
          "base_uri": "https://localhost:8080/",
          "height": 307
        },
        "id": "p12oJ-9cHhK7",
        "outputId": "6b0a9aeb-b028-4627-dd72-d0f603ac4855"
      },
      "source": [
        "pd.value_counts(df_new['Sentiment']).plot.bar()\n",
        "print(df_new.shape)"
      ],
      "execution_count": 82,
      "outputs": [
        {
          "output_type": "stream",
          "text": [
            "(1742, 6)\n"
          ],
          "name": "stdout"
        },
        {
          "output_type": "display_data",
          "data": {
            "image/png": "[encoded data removed]",
            "text/plain": [
              "<Figure size 432x288 with 1 Axes>"
            ]
          },
          "metadata": {
            "tags": []
          }
        }
      ]
    },
    {
      "cell_type": "code",
      "metadata": {
        "colab": {
          "base_uri": "https://localhost:8080/",
          "height": 406
        },
        "id": "X6hi2nJC1_KM",
        "outputId": "9a74b299-6ee2-4e41-aa30-6911e818bfcc"
      },
      "source": [
        "#remove repeated char\n",
        "# continously repeating character\n",
        "# from the word \n",
        "def conti_rep_char(str1):\n",
        "    tchr = str1.group(0)\n",
        "    if len(tchr) > 1:\n",
        "      return tchr[0:1]\n",
        "# define a function to check\n",
        "# whether unique character \n",
        "# is present or not\n",
        "def check_unique_char(rep, sent_text):\n",
        "    # regular expression for \n",
        "    # repetion of characters\n",
        "    convert = re.sub(r'(\\w)\\1+', \n",
        "                     rep,\n",
        "                     sent_text)\n",
        "      \n",
        "    # returing the converted word\n",
        "    return convert\n",
        "\n",
        "df_new['Review'] = df_new['Review'].apply(lambda x : check_unique_char(conti_rep_char, x))\n",
        "df_new"
      ],
      "execution_count": 83,
      "outputs": [
        {
          "output_type": "execute_result",
          "data": {
            "text/html": [
              "<div>\n",
              "<style scoped>\n",
              "    .dataframe tbody tr th:only-of-type {\n",
              "        vertical-align: middle;\n",
              "    }\n",
              "\n",
              "    .dataframe tbody tr th {\n",
              "        vertical-align: top;\n",
              "    }\n",
              "\n",
              "    .dataframe thead th {\n",
              "        text-align: right;\n",
              "    }\n",
              "</style>\n",
              "<table border=\"1\" class=\"dataframe\">\n",
              "  <thead>\n",
              "    <tr style=\"text-align: right;\">\n",
              "      <th></th>\n",
              "      <th>Review</th>\n",
              "      <th>Rating</th>\n",
              "      <th>Sentiment</th>\n",
              "      <th>negative</th>\n",
              "      <th>neutral</th>\n",
              "      <th>positive</th>\n",
              "    </tr>\n",
              "  </thead>\n",
              "  <tbody>\n",
              "    <tr>\n",
              "      <th>3</th>\n",
              "      <td>terimakasih min</td>\n",
              "      <td>5</td>\n",
              "      <td>neutral</td>\n",
              "      <td>0</td>\n",
              "      <td>1</td>\n",
              "      <td>0</td>\n",
              "    </tr>\n",
              "    <tr>\n",
              "      <th>4</th>\n",
              "      <td>udah order untuk kesekian kali jos</td>\n",
              "      <td>5</td>\n",
              "      <td>neutral</td>\n",
              "      <td>0</td>\n",
              "      <td>1</td>\n",
              "      <td>0</td>\n",
              "    </tr>\n",
              "    <tr>\n",
              "      <th>10</th>\n",
              "      <td>rekomended</td>\n",
              "      <td>5</td>\n",
              "      <td>neutral</td>\n",
              "      <td>0</td>\n",
              "      <td>1</td>\n",
              "      <td>0</td>\n",
              "    </tr>\n",
              "    <tr>\n",
              "      <th>14</th>\n",
              "      <td>excelent</td>\n",
              "      <td>5</td>\n",
              "      <td>neutral</td>\n",
              "      <td>0</td>\n",
              "      <td>1</td>\n",
              "      <td>0</td>\n",
              "    </tr>\n",
              "    <tr>\n",
              "      <th>25</th>\n",
              "      <td>terima kasih barangnya sudah sampai</td>\n",
              "      <td>3</td>\n",
              "      <td>neutral</td>\n",
              "      <td>0</td>\n",
              "      <td>1</td>\n",
              "      <td>0</td>\n",
              "    </tr>\n",
              "    <tr>\n",
              "      <th>...</th>\n",
              "      <td>...</td>\n",
              "      <td>...</td>\n",
              "      <td>...</td>\n",
              "      <td>...</td>\n",
              "      <td>...</td>\n",
              "      <td>...</td>\n",
              "    </tr>\n",
              "    <tr>\n",
              "      <th>391</th>\n",
              "      <td>pengirimany cepet bgt thanks seler untuk rasan...</td>\n",
              "      <td>5</td>\n",
              "      <td>positive</td>\n",
              "      <td>0</td>\n",
              "      <td>0</td>\n",
              "      <td>1</td>\n",
              "    </tr>\n",
              "    <tr>\n",
              "      <th>1260</th>\n",
              "      <td>paket datang sesuai pesanan bintang yang bicara</td>\n",
              "      <td>5</td>\n",
              "      <td>positive</td>\n",
              "      <td>0</td>\n",
              "      <td>0</td>\n",
              "      <td>1</td>\n",
              "    </tr>\n",
              "    <tr>\n",
              "      <th>361</th>\n",
              "      <td>enak banget nasi kuningnya dan lauk2nya lalapa...</td>\n",
              "      <td>5</td>\n",
              "      <td>positive</td>\n",
              "      <td>0</td>\n",
              "      <td>0</td>\n",
              "      <td>1</td>\n",
              "    </tr>\n",
              "    <tr>\n",
              "      <th>3681</th>\n",
              "      <td>enak banget</td>\n",
              "      <td>5</td>\n",
              "      <td>positive</td>\n",
              "      <td>0</td>\n",
              "      <td>0</td>\n",
              "      <td>1</td>\n",
              "    </tr>\n",
              "    <tr>\n",
              "      <th>1512</th>\n",
              "      <td>god response dan penjual sgt baik</td>\n",
              "      <td>5</td>\n",
              "      <td>positive</td>\n",
              "      <td>0</td>\n",
              "      <td>0</td>\n",
              "      <td>1</td>\n",
              "    </tr>\n",
              "  </tbody>\n",
              "</table>\n",
              "<p>1742 rows × 6 columns</p>\n",
              "</div>"
            ],
            "text/plain": [
              "                                                 Review  ...  positive\n",
              "3                                       terimakasih min  ...         0\n",
              "4                    udah order untuk kesekian kali jos  ...         0\n",
              "10                                           rekomended  ...         0\n",
              "14                                             excelent  ...         0\n",
              "25                  terima kasih barangnya sudah sampai  ...         0\n",
              "...                                                 ...  ...       ...\n",
              "391   pengirimany cepet bgt thanks seler untuk rasan...  ...         1\n",
              "1260    paket datang sesuai pesanan bintang yang bicara  ...         1\n",
              "361   enak banget nasi kuningnya dan lauk2nya lalapa...  ...         1\n",
              "3681                                        enak banget  ...         1\n",
              "1512                  god response dan penjual sgt baik  ...         1\n",
              "\n",
              "[1742 rows x 6 columns]"
            ]
          },
          "metadata": {
            "tags": []
          },
          "execution_count": 83
        }
      ]
    },
    {
      "cell_type": "code",
      "metadata": {
        "colab": {
          "base_uri": "https://localhost:8080/",
          "height": 442
        },
        "id": "RiV53ppn1_KM",
        "outputId": "d30d02ff-ee25-42f6-c9a8-1b8ffeb516da"
      },
      "source": [
        "print(df_new.shape)\n",
        "#remove punctuations, emoji, number, Single character removal, multiple space, and enter\n",
        "df_new['Review'] = df_new['Review'].str.replace(r\"[^a-zA-Z]\", \" \").str.replace(r\"\\s+[a-zA-Z]\\s+\", \" \").str.strip().replace('\\s+', ' ', regex=True)\n",
        "\n",
        "#Removes duplicates in place\n",
        "df_new.drop_duplicates(keep=False, inplace=True)\n",
        "print(df_new.shape) \n",
        "df_new"
      ],
      "execution_count": 84,
      "outputs": [
        {
          "output_type": "stream",
          "text": [
            "(1742, 6)\n",
            "(1713, 6)\n"
          ],
          "name": "stdout"
        },
        {
          "output_type": "execute_result",
          "data": {
            "text/html": [
              "<div>\n",
              "<style scoped>\n",
              "    .dataframe tbody tr th:only-of-type {\n",
              "        vertical-align: middle;\n",
              "    }\n",
              "\n",
              "    .dataframe tbody tr th {\n",
              "        vertical-align: top;\n",
              "    }\n",
              "\n",
              "    .dataframe thead th {\n",
              "        text-align: right;\n",
              "    }\n",
              "</style>\n",
              "<table border=\"1\" class=\"dataframe\">\n",
              "  <thead>\n",
              "    <tr style=\"text-align: right;\">\n",
              "      <th></th>\n",
              "      <th>Review</th>\n",
              "      <th>Rating</th>\n",
              "      <th>Sentiment</th>\n",
              "      <th>negative</th>\n",
              "      <th>neutral</th>\n",
              "      <th>positive</th>\n",
              "    </tr>\n",
              "  </thead>\n",
              "  <tbody>\n",
              "    <tr>\n",
              "      <th>3</th>\n",
              "      <td>terimakasih min</td>\n",
              "      <td>5</td>\n",
              "      <td>neutral</td>\n",
              "      <td>0</td>\n",
              "      <td>1</td>\n",
              "      <td>0</td>\n",
              "    </tr>\n",
              "    <tr>\n",
              "      <th>4</th>\n",
              "      <td>udah order untuk kesekian kali jos</td>\n",
              "      <td>5</td>\n",
              "      <td>neutral</td>\n",
              "      <td>0</td>\n",
              "      <td>1</td>\n",
              "      <td>0</td>\n",
              "    </tr>\n",
              "    <tr>\n",
              "      <th>10</th>\n",
              "      <td>rekomended</td>\n",
              "      <td>5</td>\n",
              "      <td>neutral</td>\n",
              "      <td>0</td>\n",
              "      <td>1</td>\n",
              "      <td>0</td>\n",
              "    </tr>\n",
              "    <tr>\n",
              "      <th>14</th>\n",
              "      <td>excelent</td>\n",
              "      <td>5</td>\n",
              "      <td>neutral</td>\n",
              "      <td>0</td>\n",
              "      <td>1</td>\n",
              "      <td>0</td>\n",
              "    </tr>\n",
              "    <tr>\n",
              "      <th>25</th>\n",
              "      <td>terima kasih barangnya sudah sampai</td>\n",
              "      <td>3</td>\n",
              "      <td>neutral</td>\n",
              "      <td>0</td>\n",
              "      <td>1</td>\n",
              "      <td>0</td>\n",
              "    </tr>\n",
              "    <tr>\n",
              "      <th>...</th>\n",
              "      <td>...</td>\n",
              "      <td>...</td>\n",
              "      <td>...</td>\n",
              "      <td>...</td>\n",
              "      <td>...</td>\n",
              "      <td>...</td>\n",
              "    </tr>\n",
              "    <tr>\n",
              "      <th>391</th>\n",
              "      <td>pengirimany cepet bgt thanks seler untuk rasan...</td>\n",
              "      <td>5</td>\n",
              "      <td>positive</td>\n",
              "      <td>0</td>\n",
              "      <td>0</td>\n",
              "      <td>1</td>\n",
              "    </tr>\n",
              "    <tr>\n",
              "      <th>1260</th>\n",
              "      <td>paket datang sesuai pesanan bintang yang bicara</td>\n",
              "      <td>5</td>\n",
              "      <td>positive</td>\n",
              "      <td>0</td>\n",
              "      <td>0</td>\n",
              "      <td>1</td>\n",
              "    </tr>\n",
              "    <tr>\n",
              "      <th>361</th>\n",
              "      <td>enak banget nasi kuningnya dan lauk nya lalapa...</td>\n",
              "      <td>5</td>\n",
              "      <td>positive</td>\n",
              "      <td>0</td>\n",
              "      <td>0</td>\n",
              "      <td>1</td>\n",
              "    </tr>\n",
              "    <tr>\n",
              "      <th>3681</th>\n",
              "      <td>enak banget</td>\n",
              "      <td>5</td>\n",
              "      <td>positive</td>\n",
              "      <td>0</td>\n",
              "      <td>0</td>\n",
              "      <td>1</td>\n",
              "    </tr>\n",
              "    <tr>\n",
              "      <th>1512</th>\n",
              "      <td>god response dan penjual sgt baik</td>\n",
              "      <td>5</td>\n",
              "      <td>positive</td>\n",
              "      <td>0</td>\n",
              "      <td>0</td>\n",
              "      <td>1</td>\n",
              "    </tr>\n",
              "  </tbody>\n",
              "</table>\n",
              "<p>1713 rows × 6 columns</p>\n",
              "</div>"
            ],
            "text/plain": [
              "                                                 Review  ...  positive\n",
              "3                                       terimakasih min  ...         0\n",
              "4                    udah order untuk kesekian kali jos  ...         0\n",
              "10                                           rekomended  ...         0\n",
              "14                                             excelent  ...         0\n",
              "25                  terima kasih barangnya sudah sampai  ...         0\n",
              "...                                                 ...  ...       ...\n",
              "391   pengirimany cepet bgt thanks seler untuk rasan...  ...         1\n",
              "1260    paket datang sesuai pesanan bintang yang bicara  ...         1\n",
              "361   enak banget nasi kuningnya dan lauk nya lalapa...  ...         1\n",
              "3681                                        enak banget  ...         1\n",
              "1512                  god response dan penjual sgt baik  ...         1\n",
              "\n",
              "[1713 rows x 6 columns]"
            ]
          },
          "metadata": {
            "tags": []
          },
          "execution_count": 84
        }
      ]
    },
    {
      "cell_type": "code",
      "metadata": {
        "colab": {
          "base_uri": "https://localhost:8080/",
          "height": 406
        },
        "id": "GzD18P7FBjG0",
        "outputId": "00536179-3e46-4122-a5a1-6630ce1e4502"
      },
      "source": [
        "#change misleading word\n",
        "words_bahasa = {r'(\\b){}(\\b)'.format(k):r'\\1{}\\2'.format(v) for k,v in words_bahasa.items()}\n",
        "df_new['Review'] = df_new['Review'].replace(words_bahasa, regex=True)\n",
        "df_new"
      ],
      "execution_count": 85,
      "outputs": [
        {
          "output_type": "execute_result",
          "data": {
            "text/html": [
              "<div>\n",
              "<style scoped>\n",
              "    .dataframe tbody tr th:only-of-type {\n",
              "        vertical-align: middle;\n",
              "    }\n",
              "\n",
              "    .dataframe tbody tr th {\n",
              "        vertical-align: top;\n",
              "    }\n",
              "\n",
              "    .dataframe thead th {\n",
              "        text-align: right;\n",
              "    }\n",
              "</style>\n",
              "<table border=\"1\" class=\"dataframe\">\n",
              "  <thead>\n",
              "    <tr style=\"text-align: right;\">\n",
              "      <th></th>\n",
              "      <th>Review</th>\n",
              "      <th>Rating</th>\n",
              "      <th>Sentiment</th>\n",
              "      <th>negative</th>\n",
              "      <th>neutral</th>\n",
              "      <th>positive</th>\n",
              "    </tr>\n",
              "  </thead>\n",
              "  <tbody>\n",
              "    <tr>\n",
              "      <th>3</th>\n",
              "      <td>terima kasih minimal</td>\n",
              "      <td>5</td>\n",
              "      <td>neutral</td>\n",
              "      <td>0</td>\n",
              "      <td>1</td>\n",
              "      <td>0</td>\n",
              "    </tr>\n",
              "    <tr>\n",
              "      <th>4</th>\n",
              "      <td>sudah beli untuk kesekian kali mantap</td>\n",
              "      <td>5</td>\n",
              "      <td>neutral</td>\n",
              "      <td>0</td>\n",
              "      <td>1</td>\n",
              "      <td>0</td>\n",
              "    </tr>\n",
              "    <tr>\n",
              "      <th>10</th>\n",
              "      <td>rekomendasi</td>\n",
              "      <td>5</td>\n",
              "      <td>neutral</td>\n",
              "      <td>0</td>\n",
              "      <td>1</td>\n",
              "      <td>0</td>\n",
              "    </tr>\n",
              "    <tr>\n",
              "      <th>14</th>\n",
              "      <td>sempurna</td>\n",
              "      <td>5</td>\n",
              "      <td>neutral</td>\n",
              "      <td>0</td>\n",
              "      <td>1</td>\n",
              "      <td>0</td>\n",
              "    </tr>\n",
              "    <tr>\n",
              "      <th>25</th>\n",
              "      <td>terima kasih barang sudah sampai</td>\n",
              "      <td>3</td>\n",
              "      <td>neutral</td>\n",
              "      <td>0</td>\n",
              "      <td>1</td>\n",
              "      <td>0</td>\n",
              "    </tr>\n",
              "    <tr>\n",
              "      <th>...</th>\n",
              "      <td>...</td>\n",
              "      <td>...</td>\n",
              "      <td>...</td>\n",
              "      <td>...</td>\n",
              "      <td>...</td>\n",
              "      <td>...</td>\n",
              "    </tr>\n",
              "    <tr>\n",
              "      <th>391</th>\n",
              "      <td>pengirimannya cepat banget terima kasih penjua...</td>\n",
              "      <td>5</td>\n",
              "      <td>positive</td>\n",
              "      <td>0</td>\n",
              "      <td>0</td>\n",
              "      <td>1</td>\n",
              "    </tr>\n",
              "    <tr>\n",
              "      <th>1260</th>\n",
              "      <td>paket datang sesuai pesanan bintang yang bicara</td>\n",
              "      <td>5</td>\n",
              "      <td>positive</td>\n",
              "      <td>0</td>\n",
              "      <td>0</td>\n",
              "      <td>1</td>\n",
              "    </tr>\n",
              "    <tr>\n",
              "      <th>361</th>\n",
              "      <td>enak banget nasi kuningnya dan lauk nya lalapa...</td>\n",
              "      <td>5</td>\n",
              "      <td>positive</td>\n",
              "      <td>0</td>\n",
              "      <td>0</td>\n",
              "      <td>1</td>\n",
              "    </tr>\n",
              "    <tr>\n",
              "      <th>3681</th>\n",
              "      <td>enak banget</td>\n",
              "      <td>5</td>\n",
              "      <td>positive</td>\n",
              "      <td>0</td>\n",
              "      <td>0</td>\n",
              "      <td>1</td>\n",
              "    </tr>\n",
              "    <tr>\n",
              "      <th>1512</th>\n",
              "      <td>baik respons dan penjual sangat baik</td>\n",
              "      <td>5</td>\n",
              "      <td>positive</td>\n",
              "      <td>0</td>\n",
              "      <td>0</td>\n",
              "      <td>1</td>\n",
              "    </tr>\n",
              "  </tbody>\n",
              "</table>\n",
              "<p>1713 rows × 6 columns</p>\n",
              "</div>"
            ],
            "text/plain": [
              "                                                 Review  ...  positive\n",
              "3                                  terima kasih minimal  ...         0\n",
              "4                 sudah beli untuk kesekian kali mantap  ...         0\n",
              "10                                          rekomendasi  ...         0\n",
              "14                                             sempurna  ...         0\n",
              "25                     terima kasih barang sudah sampai  ...         0\n",
              "...                                                 ...  ...       ...\n",
              "391   pengirimannya cepat banget terima kasih penjua...  ...         1\n",
              "1260    paket datang sesuai pesanan bintang yang bicara  ...         1\n",
              "361   enak banget nasi kuningnya dan lauk nya lalapa...  ...         1\n",
              "3681                                        enak banget  ...         1\n",
              "1512               baik respons dan penjual sangat baik  ...         1\n",
              "\n",
              "[1713 rows x 6 columns]"
            ]
          },
          "metadata": {
            "tags": []
          },
          "execution_count": 85
        }
      ]
    },
    {
      "cell_type": "code",
      "metadata": {
        "colab": {
          "base_uri": "https://localhost:8080/"
        },
        "id": "EG_FV13d1_KN",
        "outputId": "e58070e0-9729-4e6e-ef4d-055db427ca4e"
      },
      "source": [
        "#to check shape of the dataset\n",
        "print(df_new.shape) \n",
        "\n",
        "#to look the header of dataset\n",
        "df_new.info()"
      ],
      "execution_count": 86,
      "outputs": [
        {
          "output_type": "stream",
          "text": [
            "(1713, 6)\n",
            "<class 'pandas.core.frame.DataFrame'>\n",
            "Int64Index: 1713 entries, 3 to 1512\n",
            "Data columns (total 6 columns):\n",
            " #   Column     Non-Null Count  Dtype   \n",
            "---  ------     --------------  -----   \n",
            " 0   Review     1713 non-null   object  \n",
            " 1   Rating     1713 non-null   int64   \n",
            " 2   Sentiment  1713 non-null   category\n",
            " 3   negative   1713 non-null   uint8   \n",
            " 4   neutral    1713 non-null   uint8   \n",
            " 5   positive   1713 non-null   uint8   \n",
            "dtypes: category(1), int64(1), object(1), uint8(3)\n",
            "memory usage: 46.9+ KB\n"
          ],
          "name": "stdout"
        }
      ]
    },
    {
      "cell_type": "markdown",
      "metadata": {
        "id": "NtblS_SA1_KN"
      },
      "source": [
        "## change data type"
      ]
    },
    {
      "cell_type": "code",
      "metadata": {
        "id": "CrWU1TwO1_KO"
      },
      "source": [
        "#get label of dataset\n",
        "content = df_new['Review'].values\n",
        "label = df_new[['negative', 'neutral', 'positive']].values"
      ],
      "execution_count": 88,
      "outputs": []
    },
    {
      "cell_type": "markdown",
      "metadata": {
        "id": "CBUMiAFY1_KO"
      },
      "source": [
        "## Build Train and test sets"
      ]
    },
    {
      "cell_type": "code",
      "metadata": {
        "id": "5UHFhR-d1_KO"
      },
      "source": [
        "content_train, content_test, label_train, label_test = train_test_split(content, label, test_size=0.2, random_state=42)"
      ],
      "execution_count": 90,
      "outputs": []
    },
    {
      "cell_type": "markdown",
      "metadata": {
        "id": "w6QZjTw81_KP"
      },
      "source": [
        "## Tokenizer"
      ]
    },
    {
      "cell_type": "code",
      "metadata": {
        "colab": {
          "base_uri": "https://localhost:8080/"
        },
        "id": "s3_v7yR91_KP",
        "outputId": "7cc99490-96fb-40d1-e825-cba7f87efbb9"
      },
      "source": [
        "tokenizer = Tokenizer(num_words=5000, oov_token='OOV')\n",
        "tokenizer.fit_on_texts(content_train) \n",
        "\n",
        "word2index = tokenizer.word_index\n",
        "print(len(word2index))\n",
        "\n",
        "import json\n",
        "\n",
        "with open('word2index.json', 'w') as fp:\n",
        "    json.dump(word2index, fp)\n",
        "\n",
        "sekuens_train = tokenizer.texts_to_sequences(content_train)\n",
        "sekuens_test = tokenizer.texts_to_sequences(content_test)\n",
        " \n",
        "padded_train = pad_sequences(sekuens_train, padding='post', maxlen=20) \n",
        "padded_test = pad_sequences(sekuens_test, padding='post', maxlen=20)\n",
        "padded_train.shape"
      ],
      "execution_count": 91,
      "outputs": [
        {
          "output_type": "stream",
          "text": [
            "2089\n"
          ],
          "name": "stdout"
        },
        {
          "output_type": "execute_result",
          "data": {
            "text/plain": [
              "(1370, 20)"
            ]
          },
          "metadata": {
            "tags": []
          },
          "execution_count": 91
        }
      ]
    },
    {
      "cell_type": "markdown",
      "metadata": {
        "id": "qqXRxtA_1_KP"
      },
      "source": [
        "## Build Model"
      ]
    },
    {
      "cell_type": "code",
      "metadata": {
        "colab": {
          "base_uri": "https://localhost:8080/"
        },
        "id": "4-9fkotv1_KQ",
        "outputId": "b0cdbf4e-f52f-472e-c2f9-34981e75cf38"
      },
      "source": [
        "#build model\n",
        "embed_dim = 128\n",
        "lstm_out = 196\n",
        "model = tf.keras.Sequential([\n",
        "    tf.keras.layers.Embedding(input_dim=5000, output_dim=8, input_length = padded_train.shape[1]),\n",
        "    tf.keras.layers.SpatialDropout1D(0.4),\n",
        "    tf.keras.layers.LSTM(128, dropout=0.2, recurrent_dropout=0.2),\n",
        "    tf.keras.layers.Dense(3, activation='softmax')\n",
        "])\n",
        "model.summary()\n",
        "model.compile(loss='categorical_crossentropy',optimizer='adam',metrics=['accuracy'])"
      ],
      "execution_count": 94,
      "outputs": [
        {
          "output_type": "stream",
          "text": [
            "Model: \"sequential_1\"\n",
            "_________________________________________________________________\n",
            "Layer (type)                 Output Shape              Param #   \n",
            "=================================================================\n",
            "embedding_1 (Embedding)      (None, 20, 8)             40000     \n",
            "_________________________________________________________________\n",
            "spatial_dropout1d_1 (Spatial (None, 20, 8)             0         \n",
            "_________________________________________________________________\n",
            "lstm_1 (LSTM)                (None, 128)               70144     \n",
            "_________________________________________________________________\n",
            "dense_1 (Dense)              (None, 3)                 387       \n",
            "=================================================================\n",
            "Total params: 110,531\n",
            "Trainable params: 110,531\n",
            "Non-trainable params: 0\n",
            "_________________________________________________________________\n"
          ],
          "name": "stdout"
        }
      ]
    },
    {
      "cell_type": "markdown",
      "metadata": {
        "id": "984rMfgn1_KQ"
      },
      "source": [
        "## Callback"
      ]
    },
    {
      "cell_type": "code",
      "metadata": {
        "id": "vjWjPUWT1_KQ"
      },
      "source": [
        "#to stop train while acuracy greather than 90%\n",
        "class myCallback(tf.keras.callbacks.Callback):\n",
        "  def on_epoch_end(self, epoch, logs={}):\n",
        "    if(logs.get('accuracy') > 0.96 and logs.get('val_accuracy') > 0.96):\n",
        "      print(\"\\nAccuracy and val accuracy has reach >96%!\")\n",
        "      self.model.stop_training = True\n",
        "callbacks = myCallback()"
      ],
      "execution_count": 95,
      "outputs": []
    },
    {
      "cell_type": "markdown",
      "metadata": {
        "id": "K3NU3ZYm1_KQ"
      },
      "source": [
        "## Train"
      ]
    },
    {
      "cell_type": "code",
      "metadata": {
        "colab": {
          "base_uri": "https://localhost:8080/"
        },
        "id": "SU-c49aI1_KR",
        "outputId": "ca2e4387-0fcb-41cf-e046-263a7d54e654"
      },
      "source": [
        "num_epochs = 32\n",
        "history = model.fit(padded_train, label_train, epochs=num_epochs, callbacks=[callbacks],\n",
        "                    validation_data=(padded_test, label_test), verbose=1)"
      ],
      "execution_count": 98,
      "outputs": [
        {
          "output_type": "stream",
          "text": [
            "Epoch 1/32\n",
            "43/43 [==============================] - 2s 48ms/step - loss: 0.3311 - accuracy: 0.8708 - val_loss: 0.7709 - val_accuracy: 0.7347\n",
            "Epoch 2/32\n",
            "43/43 [==============================] - 2s 47ms/step - loss: 0.3422 - accuracy: 0.8657 - val_loss: 0.7022 - val_accuracy: 0.7464\n",
            "Epoch 3/32\n",
            "43/43 [==============================] - 2s 47ms/step - loss: 0.3265 - accuracy: 0.8664 - val_loss: 0.6936 - val_accuracy: 0.7493\n",
            "Epoch 4/32\n",
            "43/43 [==============================] - 2s 46ms/step - loss: 0.3070 - accuracy: 0.8759 - val_loss: 0.8265 - val_accuracy: 0.7172\n",
            "Epoch 5/32\n",
            "43/43 [==============================] - 2s 46ms/step - loss: 0.2950 - accuracy: 0.8876 - val_loss: 0.8360 - val_accuracy: 0.7318\n",
            "Epoch 6/32\n",
            "43/43 [==============================] - 2s 47ms/step - loss: 0.3021 - accuracy: 0.8861 - val_loss: 0.7464 - val_accuracy: 0.7464\n",
            "Epoch 7/32\n",
            "43/43 [==============================] - 2s 47ms/step - loss: 0.2877 - accuracy: 0.8869 - val_loss: 0.7633 - val_accuracy: 0.7405\n",
            "Epoch 8/32\n",
            "43/43 [==============================] - 2s 47ms/step - loss: 0.2559 - accuracy: 0.9015 - val_loss: 0.6956 - val_accuracy: 0.7580\n",
            "Epoch 9/32\n",
            "43/43 [==============================] - 2s 47ms/step - loss: 0.2653 - accuracy: 0.8854 - val_loss: 0.7432 - val_accuracy: 0.7580\n",
            "Epoch 10/32\n",
            "43/43 [==============================] - 2s 46ms/step - loss: 0.2589 - accuracy: 0.9029 - val_loss: 0.7648 - val_accuracy: 0.7522\n",
            "Epoch 11/32\n",
            "43/43 [==============================] - 2s 47ms/step - loss: 0.2711 - accuracy: 0.8964 - val_loss: 0.7241 - val_accuracy: 0.7551\n",
            "Epoch 12/32\n",
            "43/43 [==============================] - 2s 46ms/step - loss: 0.2487 - accuracy: 0.9109 - val_loss: 0.8788 - val_accuracy: 0.7638\n",
            "Epoch 13/32\n",
            "43/43 [==============================] - 2s 48ms/step - loss: 0.2318 - accuracy: 0.9139 - val_loss: 0.8222 - val_accuracy: 0.7347\n",
            "Epoch 14/32\n",
            "43/43 [==============================] - 2s 47ms/step - loss: 0.2276 - accuracy: 0.9109 - val_loss: 0.7979 - val_accuracy: 0.7493\n",
            "Epoch 15/32\n",
            "43/43 [==============================] - 2s 48ms/step - loss: 0.2316 - accuracy: 0.9124 - val_loss: 0.7958 - val_accuracy: 0.7347\n",
            "Epoch 16/32\n",
            "43/43 [==============================] - 2s 47ms/step - loss: 0.2230 - accuracy: 0.9168 - val_loss: 0.8086 - val_accuracy: 0.7580\n",
            "Epoch 17/32\n",
            "43/43 [==============================] - 2s 47ms/step - loss: 0.2379 - accuracy: 0.9175 - val_loss: 0.7711 - val_accuracy: 0.7551\n",
            "Epoch 18/32\n",
            "43/43 [==============================] - 2s 48ms/step - loss: 0.2286 - accuracy: 0.9044 - val_loss: 0.8032 - val_accuracy: 0.7609\n",
            "Epoch 19/32\n",
            "43/43 [==============================] - 2s 47ms/step - loss: 0.2054 - accuracy: 0.9270 - val_loss: 0.7954 - val_accuracy: 0.7580\n",
            "Epoch 20/32\n",
            "43/43 [==============================] - 2s 47ms/step - loss: 0.2139 - accuracy: 0.9212 - val_loss: 0.7905 - val_accuracy: 0.7755\n",
            "Epoch 21/32\n",
            "43/43 [==============================] - 2s 47ms/step - loss: 0.2162 - accuracy: 0.9139 - val_loss: 0.7510 - val_accuracy: 0.7784\n",
            "Epoch 22/32\n",
            "43/43 [==============================] - 2s 47ms/step - loss: 0.2025 - accuracy: 0.9248 - val_loss: 0.7761 - val_accuracy: 0.7668\n",
            "Epoch 23/32\n",
            "43/43 [==============================] - 2s 48ms/step - loss: 0.2044 - accuracy: 0.9234 - val_loss: 0.7476 - val_accuracy: 0.7726\n",
            "Epoch 24/32\n",
            "43/43 [==============================] - 2s 47ms/step - loss: 0.1917 - accuracy: 0.9270 - val_loss: 0.8250 - val_accuracy: 0.7493\n",
            "Epoch 25/32\n",
            "43/43 [==============================] - 2s 48ms/step - loss: 0.2021 - accuracy: 0.9255 - val_loss: 0.6771 - val_accuracy: 0.7522\n",
            "Epoch 26/32\n",
            "43/43 [==============================] - 2s 47ms/step - loss: 0.1945 - accuracy: 0.9270 - val_loss: 0.9202 - val_accuracy: 0.7522\n",
            "Epoch 27/32\n",
            "43/43 [==============================] - 2s 46ms/step - loss: 0.2040 - accuracy: 0.9255 - val_loss: 0.8056 - val_accuracy: 0.7638\n",
            "Epoch 28/32\n",
            "43/43 [==============================] - 2s 47ms/step - loss: 0.1872 - accuracy: 0.9292 - val_loss: 0.8262 - val_accuracy: 0.7551\n",
            "Epoch 29/32\n",
            "43/43 [==============================] - 2s 48ms/step - loss: 0.1866 - accuracy: 0.9350 - val_loss: 0.8402 - val_accuracy: 0.7493\n",
            "Epoch 30/32\n",
            "43/43 [==============================] - 2s 48ms/step - loss: 0.1973 - accuracy: 0.9299 - val_loss: 0.7925 - val_accuracy: 0.7493\n",
            "Epoch 31/32\n",
            "43/43 [==============================] - 2s 47ms/step - loss: 0.1850 - accuracy: 0.9372 - val_loss: 0.8395 - val_accuracy: 0.7609\n",
            "Epoch 32/32\n",
            "43/43 [==============================] - 2s 46ms/step - loss: 0.1780 - accuracy: 0.9307 - val_loss: 0.8423 - val_accuracy: 0.7493\n"
          ],
          "name": "stdout"
        }
      ]
    },
    {
      "cell_type": "markdown",
      "metadata": {
        "id": "mRE8S4lP1_KR"
      },
      "source": [
        "##plotting"
      ]
    },
    {
      "cell_type": "code",
      "metadata": {
        "colab": {
          "base_uri": "https://localhost:8080/",
          "height": 291
        },
        "id": "xCAQhLkA1_KR",
        "outputId": "44214e33-e1ea-4a55-8d08-225d399f2018"
      },
      "source": [
        "import keras\n",
        "from matplotlib import pyplot as plt\n",
        "plt.plot(history.history['accuracy'])\n",
        "plt.plot(history.history['val_accuracy'])\n",
        "plt.plot(history.history['loss'])\n",
        "plt.plot(history.history['val_loss'])\n",
        "plt.title('model accuracy')\n",
        "plt.ylabel('accuracy')\n",
        "plt.xlabel('epoch')\n",
        "plt.legend(['train_acc', 'val_acc', 'train_loss','val_loss'], loc='upper left')\n",
        "plt.show()"
      ],
      "execution_count": 99,
      "outputs": [
        {
          "output_type": "display_data",
          "data": {
            "image/png": "[encoded data removed]",
            "text/plain": [
              "<Figure size 432x288 with 1 Axes>"
            ]
          },
          "metadata": {
            "tags": []
          }
        }
      ]
    },
    {
      "cell_type": "markdown",
      "metadata": {
        "id": "j07YRHrQ1_KS"
      },
      "source": [
        "##saved model"
      ]
    },
    {
      "cell_type": "code",
      "metadata": {
        "colab": {
          "base_uri": "https://localhost:8080/"
        },
        "id": "JY7bkBNZ1_KS",
        "outputId": "bb607b2b-13c6-498d-9bf9-8b1d27a49e2a"
      },
      "source": [
        "saving_path = (\"/content/mymodel/\") #path penyimpanan model\n",
        "tf.saved_model.save(model, saving_path)\n",
        "\n",
        "model.save('mymodel.h5')"
      ],
      "execution_count": 100,
      "outputs": [
        {
          "output_type": "stream",
          "text": [
            "WARNING:tensorflow:FOR KERAS USERS: The object that you are saving contains one or more Keras models or layers. If you are loading the SavedModel with `tf.keras.models.load_model`, continue reading (otherwise, you may ignore the following instructions). Please change your code to save with `tf.keras.models.save_model` or `model.save`, and confirm that the file \"keras.metadata\" exists in the export directory. In the future, Keras will only load the SavedModels that have this file. In other words, `tf.saved_model.save` will no longer write SavedModels that can be recovered as Keras models (this will apply in TF 2.5).\n",
            "\n",
            "FOR DEVS: If you are overwriting _tracking_metadata in your class, this property has been used to save metadata in the SavedModel. The metadta field will be deprecated soon, so please move the metadata to a different file.\n",
            "INFO:tensorflow:Assets written to: /content/mymodel/assets\n"
          ],
          "name": "stdout"
        }
      ]
    },
    {
      "cell_type": "markdown",
      "metadata": {
        "id": "NdUangJ21_KS"
      },
      "source": [
        "##testing"
      ]
    },
    {
      "cell_type": "code",
      "metadata": {
        "colab": {
          "base_uri": "https://localhost:8080/"
        },
        "id": "Zv0Pj2ys1_KS",
        "outputId": "1721a4c5-d041-4470-85f8-cbdcb7b69447"
      },
      "source": [
        "from tensorflow.keras.models import Sequential, save_model, load_model\n",
        "# Load the model\n",
        "# model = load_model(saving_path, compile = True)\n",
        "# Recreate the exact same model, including its weights and the optimizer\n",
        "loaded_model = tf.keras.models.load_model('mymodel.h5')\n",
        "\n",
        "# Show the model architecture\n",
        "loaded_model.summary()"
      ],
      "execution_count": 101,
      "outputs": [
        {
          "output_type": "stream",
          "text": [
            "Model: \"sequential_1\"\n",
            "_________________________________________________________________\n",
            "Layer (type)                 Output Shape              Param #   \n",
            "=================================================================\n",
            "embedding_1 (Embedding)      (None, 20, 8)             40000     \n",
            "_________________________________________________________________\n",
            "spatial_dropout1d_1 (Spatial (None, 20, 8)             0         \n",
            "_________________________________________________________________\n",
            "lstm_1 (LSTM)                (None, 128)               70144     \n",
            "_________________________________________________________________\n",
            "dense_1 (Dense)              (None, 3)                 387       \n",
            "=================================================================\n",
            "Total params: 110,531\n",
            "Trainable params: 110,531\n",
            "Non-trainable params: 0\n",
            "_________________________________________________________________\n"
          ],
          "name": "stdout"
        }
      ]
    },
    {
      "cell_type": "code",
      "metadata": {
        "colab": {
          "base_uri": "https://localhost:8080/"
        },
        "id": "FK7KUvRd1_KT",
        "outputId": "a83ef4b5-fb7c-4dd7-f028-04b923fc605d"
      },
      "source": [
        "loaded_model.evaluate(padded_test,label_test)"
      ],
      "execution_count": 102,
      "outputs": [
        {
          "output_type": "stream",
          "text": [
            "11/11 [==============================] - 0s 7ms/step - loss: 0.8423 - accuracy: 0.7493\n"
          ],
          "name": "stdout"
        },
        {
          "output_type": "execute_result",
          "data": {
            "text/plain": [
              "[0.8422555327415466, 0.7492711544036865]"
            ]
          },
          "metadata": {
            "tags": []
          },
          "execution_count": 102
        }
      ]
    },
    {
      "cell_type": "code",
      "metadata": {
        "colab": {
          "base_uri": "https://localhost:8080/"
        },
        "id": "ffgPzfKS1_KT",
        "outputId": "92912020-e8d8-465c-cd06-77727a071ce7"
      },
      "source": [
        "content_testing = np.array(['terima kasih', 'enak tapi gosong', 'rasanya enak dan pengiriman cepat'])\n",
        "def tokenizer(content_train, arr):\n",
        "  tokenizer = Tokenizer(num_words=5000, oov_token='OOV')\n",
        "  tokenizer.fit_on_texts(content_train) \n",
        "  sekuens_test = tokenizer.texts_to_sequences(arr)\n",
        "  padded_test = pad_sequences(sekuens_test, padding='post', maxlen=20)\n",
        "  print(padded_test[1])\n",
        "  return padded_test\n",
        "\n",
        "result = loaded_model.predict(tokenizer(content_train,content_testing))\n",
        "print(result)\n",
        "classes = np.argmax(result, axis = 1)\n",
        "print(classes)"
      ],
      "execution_count": 104,
      "outputs": [
        {
          "output_type": "stream",
          "text": [
            "[  8  14 356   0   0   0   0   0   0   0   0   0   0   0   0   0   0   0\n",
            "   0   0]\n",
            "[[2.0434464e-04 9.7162300e-01 2.8172703e-02]\n",
            " [9.9623579e-01 8.6872221e-04 2.8955501e-03]\n",
            " [1.3900107e-03 3.0227208e-03 9.9558723e-01]]\n",
            "[1 0 2]\n"
          ],
          "name": "stdout"
        }
      ]
    },
    {
      "cell_type": "code",
      "metadata": {
        "colab": {
          "base_uri": "https://localhost:8080/"
        },
        "id": "HuNnSIVc1_KT",
        "outputId": "ee2dddf0-5a95-48f8-d0a5-4f0e06c3f1de"
      },
      "source": [
        "def toSequence(sentence):\n",
        "  pad = []\n",
        "  for stc in sentence.split():\n",
        "    if stc.lower() in word2index.keys(): \n",
        "      pad.append(word2index[stc.lower()])\n",
        "    else: \n",
        "      continue\n",
        "  pad.extend([0]*(20-len(pad)))\n",
        "  return pad\n",
        "\n",
        "pad1 = toSequence('terimakasih')\n",
        "pad2 = toSequence('enak tapi gosong')\n",
        "pad3 = toSequence('rasanya enak dan pengiriman cepat')\n",
        "\n",
        "arrTest = [pad1, pad2, pad3]\n",
        "print(arrTest)\n",
        "\n",
        "for pad in arrTest:\n",
        "  result = loaded_model.predict([pad])\n",
        "  # result = model.predict(tokenizer(content_train,content_testing))\n",
        "  print(result)\n",
        "  classes = np.argmax(result, axis = 1)\n",
        "  print(classes)\n",
        "loaded_model.predict([[72, 0, 0, 0, 0, 0, 0, 0, 0, 0, 0, 0, 0, 0, 0, 0, 0, 0, 0, 0]])"
      ],
      "execution_count": 105,
      "outputs": [
        {
          "output_type": "stream",
          "text": [
            "[[0, 0, 0, 0, 0, 0, 0, 0, 0, 0, 0, 0, 0, 0, 0, 0, 0, 0, 0, 0], [8, 14, 356, 0, 0, 0, 0, 0, 0, 0, 0, 0, 0, 0, 0, 0, 0, 0, 0, 0], [40, 8, 7, 12, 6, 0, 0, 0, 0, 0, 0, 0, 0, 0, 0, 0, 0, 0, 0, 0]]\n",
            "[[0.00101385 0.9743722  0.02461396]]\n",
            "[1]\n",
            "[[9.9623579e-01 8.6872221e-04 2.8955513e-03]]\n",
            "[0]\n",
            "[[0.00139001 0.00302272 0.9955872 ]]\n",
            "[2]\n"
          ],
          "name": "stdout"
        },
        {
          "output_type": "execute_result",
          "data": {
            "text/plain": [
              "array([[3.1487795e-04, 8.9155459e-01, 1.0813044e-01]], dtype=float32)"
            ]
          },
          "metadata": {
            "tags": []
          },
          "execution_count": 105
        }
      ]
    },
    {
      "cell_type": "markdown",
      "metadata": {
        "id": "BFNjkCM-1_KU"
      },
      "source": [
        "##save model tfjs"
      ]
    },
    {
      "cell_type": "code",
      "metadata": {
        "colab": {
          "base_uri": "https://localhost:8080/"
        },
        "id": "Pstl6L781_KU",
        "outputId": "21a0799d-d971-49a8-faaf-37dd4375ed67"
      },
      "source": [
        "!pip install tensorflowjs"
      ],
      "execution_count": 106,
      "outputs": [
        {
          "output_type": "stream",
          "text": [
            "Collecting tensorflowjs\n",
            "\u001b[?25l  Downloading https://files.pythonhosted.org/packages/28/5a/2497b3ba86f5f1c2c7539e0bc5d957146a5ed71acfb6c66f644974af4309/tensorflowjs-3.6.0-py3-none-any.whl (63kB)\n",
            "\r\u001b[K     |█████▏                          | 10kB 16.8MB/s eta 0:00:01\r\u001b[K     |██████████▎                     | 20kB 21.3MB/s eta 0:00:01\r\u001b[K     |███████████████▍                | 30kB 10.4MB/s eta 0:00:01\r\u001b[K     |████████████████████▌           | 40kB 8.2MB/s eta 0:00:01\r\u001b[K     |█████████████████████████▊      | 51kB 5.2MB/s eta 0:00:01\r\u001b[K     |██████████████████████████████▉ | 61kB 5.4MB/s eta 0:00:01\r\u001b[K     |████████████████████████████████| 71kB 3.8MB/s \n",
            "\u001b[?25hRequirement already satisfied: tensorflow<3,>=2.1.0 in /usr/local/lib/python3.7/dist-packages (from tensorflowjs) (2.5.0)\n",
            "Collecting tensorflow-hub<0.10,>=0.7.0\n",
            "\u001b[?25l  Downloading https://files.pythonhosted.org/packages/ac/83/a7df82744a794107641dad1decaad017d82e25f0e1f761ac9204829eef96/tensorflow_hub-0.9.0-py2.py3-none-any.whl (103kB)\n",
            "\u001b[K     |████████████████████████████████| 112kB 7.4MB/s \n",
            "\u001b[?25hRequirement already satisfied: six<2,>=1.12.0 in /usr/local/lib/python3.7/dist-packages (from tensorflowjs) (1.15.0)\n",
            "Requirement already satisfied: tensorflow-estimator<2.6.0,>=2.5.0rc0 in /usr/local/lib/python3.7/dist-packages (from tensorflow<3,>=2.1.0->tensorflowjs) (2.5.0)\n",
            "Requirement already satisfied: gast==0.4.0 in /usr/local/lib/python3.7/dist-packages (from tensorflow<3,>=2.1.0->tensorflowjs) (0.4.0)\n",
            "Requirement already satisfied: numpy~=1.19.2 in /usr/local/lib/python3.7/dist-packages (from tensorflow<3,>=2.1.0->tensorflowjs) (1.19.5)\n",
            "Requirement already satisfied: h5py~=3.1.0 in /usr/local/lib/python3.7/dist-packages (from tensorflow<3,>=2.1.0->tensorflowjs) (3.1.0)\n",
            "Requirement already satisfied: tensorboard~=2.5 in /usr/local/lib/python3.7/dist-packages (from tensorflow<3,>=2.1.0->tensorflowjs) (2.5.0)\n",
            "Requirement already satisfied: flatbuffers~=1.12.0 in /usr/local/lib/python3.7/dist-packages (from tensorflow<3,>=2.1.0->tensorflowjs) (1.12)\n",
            "Requirement already satisfied: wheel~=0.35 in /usr/local/lib/python3.7/dist-packages (from tensorflow<3,>=2.1.0->tensorflowjs) (0.36.2)\n",
            "Requirement already satisfied: keras-nightly~=2.5.0.dev in /usr/local/lib/python3.7/dist-packages (from tensorflow<3,>=2.1.0->tensorflowjs) (2.5.0.dev2021032900)\n",
            "Requirement already satisfied: termcolor~=1.1.0 in /usr/local/lib/python3.7/dist-packages (from tensorflow<3,>=2.1.0->tensorflowjs) (1.1.0)\n",
            "Requirement already satisfied: absl-py~=0.10 in /usr/local/lib/python3.7/dist-packages (from tensorflow<3,>=2.1.0->tensorflowjs) (0.12.0)\n",
            "Requirement already satisfied: opt-einsum~=3.3.0 in /usr/local/lib/python3.7/dist-packages (from tensorflow<3,>=2.1.0->tensorflowjs) (3.3.0)\n",
            "Requirement already satisfied: grpcio~=1.34.0 in /usr/local/lib/python3.7/dist-packages (from tensorflow<3,>=2.1.0->tensorflowjs) (1.34.1)\n",
            "Requirement already satisfied: protobuf>=3.9.2 in /usr/local/lib/python3.7/dist-packages (from tensorflow<3,>=2.1.0->tensorflowjs) (3.12.4)\n",
            "Requirement already satisfied: google-pasta~=0.2 in /usr/local/lib/python3.7/dist-packages (from tensorflow<3,>=2.1.0->tensorflowjs) (0.2.0)\n",
            "Requirement already satisfied: typing-extensions~=3.7.4 in /usr/local/lib/python3.7/dist-packages (from tensorflow<3,>=2.1.0->tensorflowjs) (3.7.4.3)\n",
            "Requirement already satisfied: keras-preprocessing~=1.1.2 in /usr/local/lib/python3.7/dist-packages (from tensorflow<3,>=2.1.0->tensorflowjs) (1.1.2)\n",
            "Requirement already satisfied: astunparse~=1.6.3 in /usr/local/lib/python3.7/dist-packages (from tensorflow<3,>=2.1.0->tensorflowjs) (1.6.3)\n",
            "Requirement already satisfied: wrapt~=1.12.1 in /usr/local/lib/python3.7/dist-packages (from tensorflow<3,>=2.1.0->tensorflowjs) (1.12.1)\n",
            "Requirement already satisfied: cached-property; python_version < \"3.8\" in /usr/local/lib/python3.7/dist-packages (from h5py~=3.1.0->tensorflow<3,>=2.1.0->tensorflowjs) (1.5.2)\n",
            "Requirement already satisfied: setuptools>=41.0.0 in /usr/local/lib/python3.7/dist-packages (from tensorboard~=2.5->tensorflow<3,>=2.1.0->tensorflowjs) (56.1.0)\n",
            "Requirement already satisfied: requests<3,>=2.21.0 in /usr/local/lib/python3.7/dist-packages (from tensorboard~=2.5->tensorflow<3,>=2.1.0->tensorflowjs) (2.23.0)\n",
            "Requirement already satisfied: google-auth-oauthlib<0.5,>=0.4.1 in /usr/local/lib/python3.7/dist-packages (from tensorboard~=2.5->tensorflow<3,>=2.1.0->tensorflowjs) (0.4.4)\n",
            "Requirement already satisfied: tensorboard-plugin-wit>=1.6.0 in /usr/local/lib/python3.7/dist-packages (from tensorboard~=2.5->tensorflow<3,>=2.1.0->tensorflowjs) (1.8.0)\n",
            "Requirement already satisfied: markdown>=2.6.8 in /usr/local/lib/python3.7/dist-packages (from tensorboard~=2.5->tensorflow<3,>=2.1.0->tensorflowjs) (3.3.4)\n",
            "Requirement already satisfied: google-auth<2,>=1.6.3 in /usr/local/lib/python3.7/dist-packages (from tensorboard~=2.5->tensorflow<3,>=2.1.0->tensorflowjs) (1.30.0)\n",
            "Requirement already satisfied: tensorboard-data-server<0.7.0,>=0.6.0 in /usr/local/lib/python3.7/dist-packages (from tensorboard~=2.5->tensorflow<3,>=2.1.0->tensorflowjs) (0.6.1)\n",
            "Requirement already satisfied: werkzeug>=0.11.15 in /usr/local/lib/python3.7/dist-packages (from tensorboard~=2.5->tensorflow<3,>=2.1.0->tensorflowjs) (1.0.1)\n",
            "Requirement already satisfied: chardet<4,>=3.0.2 in /usr/local/lib/python3.7/dist-packages (from requests<3,>=2.21.0->tensorboard~=2.5->tensorflow<3,>=2.1.0->tensorflowjs) (3.0.4)\n",
            "Requirement already satisfied: idna<3,>=2.5 in /usr/local/lib/python3.7/dist-packages (from requests<3,>=2.21.0->tensorboard~=2.5->tensorflow<3,>=2.1.0->tensorflowjs) (2.10)\n",
            "Requirement already satisfied: urllib3!=1.25.0,!=1.25.1,<1.26,>=1.21.1 in /usr/local/lib/python3.7/dist-packages (from requests<3,>=2.21.0->tensorboard~=2.5->tensorflow<3,>=2.1.0->tensorflowjs) (1.24.3)\n",
            "Requirement already satisfied: certifi>=2017.4.17 in /usr/local/lib/python3.7/dist-packages (from requests<3,>=2.21.0->tensorboard~=2.5->tensorflow<3,>=2.1.0->tensorflowjs) (2020.12.5)\n",
            "Requirement already satisfied: requests-oauthlib>=0.7.0 in /usr/local/lib/python3.7/dist-packages (from google-auth-oauthlib<0.5,>=0.4.1->tensorboard~=2.5->tensorflow<3,>=2.1.0->tensorflowjs) (1.3.0)\n",
            "Requirement already satisfied: importlib-metadata; python_version < \"3.8\" in /usr/local/lib/python3.7/dist-packages (from markdown>=2.6.8->tensorboard~=2.5->tensorflow<3,>=2.1.0->tensorflowjs) (4.0.1)\n",
            "Requirement already satisfied: pyasn1-modules>=0.2.1 in /usr/local/lib/python3.7/dist-packages (from google-auth<2,>=1.6.3->tensorboard~=2.5->tensorflow<3,>=2.1.0->tensorflowjs) (0.2.8)\n",
            "Requirement already satisfied: cachetools<5.0,>=2.0.0 in /usr/local/lib/python3.7/dist-packages (from google-auth<2,>=1.6.3->tensorboard~=2.5->tensorflow<3,>=2.1.0->tensorflowjs) (4.2.2)\n",
            "Requirement already satisfied: rsa<5,>=3.1.4; python_version >= \"3.6\" in /usr/local/lib/python3.7/dist-packages (from google-auth<2,>=1.6.3->tensorboard~=2.5->tensorflow<3,>=2.1.0->tensorflowjs) (4.7.2)\n",
            "Requirement already satisfied: oauthlib>=3.0.0 in /usr/local/lib/python3.7/dist-packages (from requests-oauthlib>=0.7.0->google-auth-oauthlib<0.5,>=0.4.1->tensorboard~=2.5->tensorflow<3,>=2.1.0->tensorflowjs) (3.1.0)\n",
            "Requirement already satisfied: zipp>=0.5 in /usr/local/lib/python3.7/dist-packages (from importlib-metadata; python_version < \"3.8\"->markdown>=2.6.8->tensorboard~=2.5->tensorflow<3,>=2.1.0->tensorflowjs) (3.4.1)\n",
            "Requirement already satisfied: pyasn1<0.5.0,>=0.4.6 in /usr/local/lib/python3.7/dist-packages (from pyasn1-modules>=0.2.1->google-auth<2,>=1.6.3->tensorboard~=2.5->tensorflow<3,>=2.1.0->tensorflowjs) (0.4.8)\n",
            "Installing collected packages: tensorflow-hub, tensorflowjs\n",
            "  Found existing installation: tensorflow-hub 0.12.0\n",
            "    Uninstalling tensorflow-hub-0.12.0:\n",
            "      Successfully uninstalled tensorflow-hub-0.12.0\n",
            "Successfully installed tensorflow-hub-0.9.0 tensorflowjs-3.6.0\n"
          ],
          "name": "stdout"
        }
      ]
    },
    {
      "cell_type": "code",
      "metadata": {
        "colab": {
          "base_uri": "https://localhost:8080/"
        },
        "id": "y-Y0WKBt1_KU",
        "outputId": "c0e1dc93-4372-4c66-c1a4-624d7d1e1dd1"
      },
      "source": [
        "saved_model_path = '/content/mymodel/'\n",
        "tf.saved_model.save(model, saved_model_path)"
      ],
      "execution_count": 107,
      "outputs": [
        {
          "output_type": "stream",
          "text": [
            "WARNING:tensorflow:FOR KERAS USERS: The object that you are saving contains one or more Keras models or layers. If you are loading the SavedModel with `tf.keras.models.load_model`, continue reading (otherwise, you may ignore the following instructions). Please change your code to save with `tf.keras.models.save_model` or `model.save`, and confirm that the file \"keras.metadata\" exists in the export directory. In the future, Keras will only load the SavedModels that have this file. In other words, `tf.saved_model.save` will no longer write SavedModels that can be recovered as Keras models (this will apply in TF 2.5).\n",
            "\n",
            "FOR DEVS: If you are overwriting _tracking_metadata in your class, this property has been used to save metadata in the SavedModel. The metadta field will be deprecated soon, so please move the metadata to a different file.\n",
            "INFO:tensorflow:Assets written to: /content/mymodel/assets\n"
          ],
          "name": "stdout"
        }
      ]
    },
    {
      "cell_type": "code",
      "metadata": {
        "colab": {
          "base_uri": "https://localhost:8080/"
        },
        "id": "gQpB4l5B1_KU",
        "outputId": "30aef6c2-d292-4682-dce6-e37e4d344cd3"
      },
      "source": [
        "!tensorflowjs_converter \\\n",
        "  --input_format=keras_saved_model \\\n",
        "  /content/mymodel/ \\\n",
        "  /content/modeltfjs"
      ],
      "execution_count": 108,
      "outputs": [
        {
          "output_type": "stream",
          "text": [
            "2021-05-31 06:49:31.969212: I tensorflow/stream_executor/platform/default/dso_loader.cc:53] Successfully opened dynamic library libcudart.so.11.0\n",
            "2021-05-31 06:49:33.765369: I tensorflow/stream_executor/platform/default/dso_loader.cc:53] Successfully opened dynamic library libcuda.so.1\n",
            "2021-05-31 06:49:33.776187: E tensorflow/stream_executor/cuda/cuda_driver.cc:328] failed call to cuInit: CUDA_ERROR_NO_DEVICE: no CUDA-capable device is detected\n",
            "2021-05-31 06:49:33.776238: I tensorflow/stream_executor/cuda/cuda_diagnostics.cc:156] kernel driver does not appear to be running on this host (7d05f4af0ff6): /proc/driver/nvidia/version does not exist\n",
            "WARNING:tensorflow:SavedModel saved prior to TF 2.5 detected when loading Keras model. Please ensure that you are saving the model with model.save() or tf.keras.models.save_model(), *NOT* tf.saved_model.save(). To confirm, there should be a file named \"keras_metadata.pb\" in the SavedModel directory.\n",
            "2021-05-31 06:49:36.124697: I tensorflow/core/platform/profile_utils/cpu_utils.cc:114] CPU Frequency: 2299995000 Hz\n"
          ],
          "name": "stdout"
        }
      ]
    },
    {
      "cell_type": "code",
      "metadata": {
        "colab": {
          "base_uri": "https://localhost:8080/",
          "height": 70
        },
        "id": "py4CGKpU1_KV",
        "outputId": "871c2c4d-69d4-4f12-ee26-c8e5fdd323cc"
      },
      "source": [
        "!zip -r modeltfjs.zip /content/modeltfjs\n",
        "from google.colab import files\n",
        "files.download(\"/content/modeltfjs.zip\")"
      ],
      "execution_count": 109,
      "outputs": [
        {
          "output_type": "stream",
          "text": [
            "  adding: content/modeltfjs/ (stored 0%)\n",
            "  adding: content/modeltfjs/group1-shard1of1.bin (deflated 8%)\n",
            "  adding: content/modeltfjs/model.json (deflated 70%)\n"
          ],
          "name": "stdout"
        },
        {
          "output_type": "display_data",
          "data": {
            "application/javascript": [
              "\n",
              "    async function download(id, filename, size) {\n",
              "      if (!google.colab.kernel.accessAllowed) {\n",
              "        return;\n",
              "      }\n",
              "      const div = document.createElement('div');\n",
              "      const label = document.createElement('label');\n",
              "      label.textContent = `Downloading \"${filename}\": `;\n",
              "      div.appendChild(label);\n",
              "      const progress = document.createElement('progress');\n",
              "      progress.max = size;\n",
              "      div.appendChild(progress);\n",
              "      document.body.appendChild(div);\n",
              "\n",
              "      const buffers = [];\n",
              "      let downloaded = 0;\n",
              "\n",
              "      const channel = await google.colab.kernel.comms.open(id);\n",
              "      // Send a message to notify the kernel that we're ready.\n",
              "      channel.send({})\n",
              "\n",
              "      for await (const message of channel.messages) {\n",
              "        // Send a message to notify the kernel that we're ready.\n",
              "        channel.send({})\n",
              "        if (message.buffers) {\n",
              "          for (const buffer of message.buffers) {\n",
              "            buffers.push(buffer);\n",
              "            downloaded += buffer.byteLength;\n",
              "            progress.value = downloaded;\n",
              "          }\n",
              "        }\n",
              "      }\n",
              "      const blob = new Blob(buffers, {type: 'application/binary'});\n",
              "      const a = document.createElement('a');\n",
              "      a.href = window.URL.createObjectURL(blob);\n",
              "      a.download = filename;\n",
              "      div.appendChild(a);\n",
              "      a.click();\n",
              "      div.remove();\n",
              "    }\n",
              "  "
            ],
            "text/plain": [
              "<IPython.core.display.Javascript object>"
            ]
          },
          "metadata": {
            "tags": []
          }
        },
        {
          "output_type": "display_data",
          "data": {
            "application/javascript": [
              "download(\"download_4249dd76-d6fc-40cd-a93d-133e6f492d66\", \"modeltfjs.zip\", 410483)"
            ],
            "text/plain": [
              "<IPython.core.display.Javascript object>"
            ]
          },
          "metadata": {
            "tags": []
          }
        }
      ]
    }
  ]
}