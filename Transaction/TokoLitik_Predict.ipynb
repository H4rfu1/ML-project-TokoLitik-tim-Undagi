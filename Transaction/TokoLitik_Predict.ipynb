{
  "nbformat": 4,
  "nbformat_minor": 0,
  "metadata": {
    "colab": {
      "name": "TokoLitik_Predict.ipynb",
      "provenance": [],
      "collapsed_sections": []
    },
    "kernelspec": {
      "name": "python3",
      "display_name": "Python 3"
    },
    "language_info": {
      "name": "python"
    }
  },
  "cells": [
    {
      "cell_type": "markdown",
      "metadata": {
        "id": "Ky6BMs-pO_SZ"
      },
      "source": [
        "**STEP 1: Import Packages**\n",
        "\n",
        "Here, we are importing all required packages for program"
      ]
    },
    {
      "cell_type": "code",
      "metadata": {
        "id": "idNpRhdMZNpR"
      },
      "source": [
        "import io\n",
        "from google.colab import files\n",
        "\n",
        "import pandas as pd\n",
        "import numpy as np\n",
        "import tensorflow as tf\n",
        "import matplotlib.pyplot as plt"
      ],
      "execution_count": 1,
      "outputs": []
    },
    {
      "cell_type": "markdown",
      "metadata": {
        "id": "vo17I8OCPJcq"
      },
      "source": [
        "**STEP 2: Input Dataset and Data Selection**\n",
        "\n",
        "Here, we are importing our data from csv file, and also select the features to be used"
      ]
    },
    {
      "cell_type": "code",
      "metadata": {
        "id": "IX5w51yYZohy"
      },
      "source": [
        "file = files.upload()"
      ],
      "execution_count": null,
      "outputs": []
    },
    {
      "cell_type": "code",
      "metadata": {
        "colab": {
          "base_uri": "https://localhost:8080/"
        },
        "id": "2apJgzwYZvUV",
        "outputId": "2aa7cd20-fb2b-4372-b591-6d8d62e4abb9"
      },
      "source": [
        "df = pd.read_csv(\"/content/sales_train.csv\")\n",
        "print(\"Total rows: \", df.shape[0])"
      ],
      "execution_count": 2,
      "outputs": [
        {
          "output_type": "stream",
          "text": [
            "Total rows:  2935849\n"
          ],
          "name": "stdout"
        }
      ]
    },
    {
      "cell_type": "code",
      "metadata": {
        "id": "W_StimqFgp-7"
      },
      "source": [
        "# change date field into datetime format\n",
        "df[\"date\"] = pd.to_datetime(df[\"date\"])"
      ],
      "execution_count": 3,
      "outputs": []
    },
    {
      "cell_type": "code",
      "metadata": {
        "colab": {
          "base_uri": "https://localhost:8080/",
          "height": 195
        },
        "id": "-n206CM4rgyu",
        "outputId": "6492d39b-ba54-4bf3-e28c-4d915c32e542"
      },
      "source": [
        "df.head()"
      ],
      "execution_count": 4,
      "outputs": [
        {
          "output_type": "execute_result",
          "data": {
            "text/html": [
              "<div>\n",
              "<style scoped>\n",
              "    .dataframe tbody tr th:only-of-type {\n",
              "        vertical-align: middle;\n",
              "    }\n",
              "\n",
              "    .dataframe tbody tr th {\n",
              "        vertical-align: top;\n",
              "    }\n",
              "\n",
              "    .dataframe thead th {\n",
              "        text-align: right;\n",
              "    }\n",
              "</style>\n",
              "<table border=\"1\" class=\"dataframe\">\n",
              "  <thead>\n",
              "    <tr style=\"text-align: right;\">\n",
              "      <th></th>\n",
              "      <th>date</th>\n",
              "      <th>date_block_num</th>\n",
              "      <th>shop_id</th>\n",
              "      <th>item_id</th>\n",
              "      <th>item_price</th>\n",
              "      <th>item_cnt_day</th>\n",
              "    </tr>\n",
              "  </thead>\n",
              "  <tbody>\n",
              "    <tr>\n",
              "      <th>0</th>\n",
              "      <td>2013-02-01</td>\n",
              "      <td>0</td>\n",
              "      <td>59</td>\n",
              "      <td>22154</td>\n",
              "      <td>999.00</td>\n",
              "      <td>1.0</td>\n",
              "    </tr>\n",
              "    <tr>\n",
              "      <th>1</th>\n",
              "      <td>2013-03-01</td>\n",
              "      <td>0</td>\n",
              "      <td>25</td>\n",
              "      <td>2552</td>\n",
              "      <td>899.00</td>\n",
              "      <td>1.0</td>\n",
              "    </tr>\n",
              "    <tr>\n",
              "      <th>2</th>\n",
              "      <td>2013-05-01</td>\n",
              "      <td>0</td>\n",
              "      <td>25</td>\n",
              "      <td>2552</td>\n",
              "      <td>899.00</td>\n",
              "      <td>-1.0</td>\n",
              "    </tr>\n",
              "    <tr>\n",
              "      <th>3</th>\n",
              "      <td>2013-06-01</td>\n",
              "      <td>0</td>\n",
              "      <td>25</td>\n",
              "      <td>2554</td>\n",
              "      <td>1709.05</td>\n",
              "      <td>1.0</td>\n",
              "    </tr>\n",
              "    <tr>\n",
              "      <th>4</th>\n",
              "      <td>2013-01-15</td>\n",
              "      <td>0</td>\n",
              "      <td>25</td>\n",
              "      <td>2555</td>\n",
              "      <td>1099.00</td>\n",
              "      <td>1.0</td>\n",
              "    </tr>\n",
              "  </tbody>\n",
              "</table>\n",
              "</div>"
            ],
            "text/plain": [
              "        date  date_block_num  shop_id  item_id  item_price  item_cnt_day\n",
              "0 2013-02-01               0       59    22154      999.00           1.0\n",
              "1 2013-03-01               0       25     2552      899.00           1.0\n",
              "2 2013-05-01               0       25     2552      899.00          -1.0\n",
              "3 2013-06-01               0       25     2554     1709.05           1.0\n",
              "4 2013-01-15               0       25     2555     1099.00           1.0"
            ]
          },
          "metadata": {
            "tags": []
          },
          "execution_count": 4
        }
      ]
    },
    {
      "cell_type": "code",
      "metadata": {
        "colab": {
          "base_uri": "https://localhost:8080/",
          "height": 195
        },
        "id": "hg3aBfBDq0an",
        "outputId": "2866ee54-1007-4c5e-9386-c8bfcf51a2f1"
      },
      "source": [
        "df.tail()"
      ],
      "execution_count": 5,
      "outputs": [
        {
          "output_type": "execute_result",
          "data": {
            "text/html": [
              "<div>\n",
              "<style scoped>\n",
              "    .dataframe tbody tr th:only-of-type {\n",
              "        vertical-align: middle;\n",
              "    }\n",
              "\n",
              "    .dataframe tbody tr th {\n",
              "        vertical-align: top;\n",
              "    }\n",
              "\n",
              "    .dataframe thead th {\n",
              "        text-align: right;\n",
              "    }\n",
              "</style>\n",
              "<table border=\"1\" class=\"dataframe\">\n",
              "  <thead>\n",
              "    <tr style=\"text-align: right;\">\n",
              "      <th></th>\n",
              "      <th>date</th>\n",
              "      <th>date_block_num</th>\n",
              "      <th>shop_id</th>\n",
              "      <th>item_id</th>\n",
              "      <th>item_price</th>\n",
              "      <th>item_cnt_day</th>\n",
              "    </tr>\n",
              "  </thead>\n",
              "  <tbody>\n",
              "    <tr>\n",
              "      <th>2935844</th>\n",
              "      <td>2015-10-10</td>\n",
              "      <td>33</td>\n",
              "      <td>25</td>\n",
              "      <td>7409</td>\n",
              "      <td>299.0</td>\n",
              "      <td>1.0</td>\n",
              "    </tr>\n",
              "    <tr>\n",
              "      <th>2935845</th>\n",
              "      <td>2015-09-10</td>\n",
              "      <td>33</td>\n",
              "      <td>25</td>\n",
              "      <td>7460</td>\n",
              "      <td>299.0</td>\n",
              "      <td>1.0</td>\n",
              "    </tr>\n",
              "    <tr>\n",
              "      <th>2935846</th>\n",
              "      <td>2015-10-14</td>\n",
              "      <td>33</td>\n",
              "      <td>25</td>\n",
              "      <td>7459</td>\n",
              "      <td>349.0</td>\n",
              "      <td>1.0</td>\n",
              "    </tr>\n",
              "    <tr>\n",
              "      <th>2935847</th>\n",
              "      <td>2015-10-22</td>\n",
              "      <td>33</td>\n",
              "      <td>25</td>\n",
              "      <td>7440</td>\n",
              "      <td>299.0</td>\n",
              "      <td>1.0</td>\n",
              "    </tr>\n",
              "    <tr>\n",
              "      <th>2935848</th>\n",
              "      <td>2015-03-10</td>\n",
              "      <td>33</td>\n",
              "      <td>25</td>\n",
              "      <td>7460</td>\n",
              "      <td>299.0</td>\n",
              "      <td>1.0</td>\n",
              "    </tr>\n",
              "  </tbody>\n",
              "</table>\n",
              "</div>"
            ],
            "text/plain": [
              "              date  date_block_num  shop_id  item_id  item_price  item_cnt_day\n",
              "2935844 2015-10-10              33       25     7409       299.0           1.0\n",
              "2935845 2015-09-10              33       25     7460       299.0           1.0\n",
              "2935846 2015-10-14              33       25     7459       349.0           1.0\n",
              "2935847 2015-10-22              33       25     7440       299.0           1.0\n",
              "2935848 2015-03-10              33       25     7460       299.0           1.0"
            ]
          },
          "metadata": {
            "tags": []
          },
          "execution_count": 5
        }
      ]
    },
    {
      "cell_type": "code",
      "metadata": {
        "id": "wz43AAbKrEdA",
        "colab": {
          "base_uri": "https://localhost:8080/"
        },
        "outputId": "c6800592-9dc5-4200-a62d-219e8145ee42"
      },
      "source": [
        "# example how to find the most frequent values in df\n",
        "print(df[\"item_id\"].mode())"
      ],
      "execution_count": 6,
      "outputs": [
        {
          "output_type": "stream",
          "text": [
            "0    20949\n",
            "dtype: int64\n"
          ],
          "name": "stdout"
        }
      ]
    },
    {
      "cell_type": "code",
      "metadata": {
        "id": "FkrYLouNkWud",
        "colab": {
          "base_uri": "https://localhost:8080/"
        },
        "outputId": "a77204cf-9e7f-4ec2-f1a6-d6a08f4309a9"
      },
      "source": [
        "# Here, user will choose which shop and product they want to analyze. Here's an example for shop_id 22 and item_id 20949\n",
        "df_product = df[(df.shop_id == 22) & (df.item_id == 20949)]\n",
        "print(\"Total rows: \", df_product.shape[0])"
      ],
      "execution_count": 7,
      "outputs": [
        {
          "output_type": "stream",
          "text": [
            "Total rows:  848\n"
          ],
          "name": "stdout"
        }
      ]
    },
    {
      "cell_type": "code",
      "metadata": {
        "colab": {
          "base_uri": "https://localhost:8080/",
          "height": 212
        },
        "id": "sFwd1HqloGj9",
        "outputId": "468af740-f865-430a-d20a-a5d1cd702e21"
      },
      "source": [
        "# represent every data in date field as the first date of each month for plotting the monthly sales\n",
        "df_monthly = df_product[[\"date\", \"shop_id\", \"item_id\", \"item_cnt_day\"]].copy()\n",
        "df_monthly[\"date\"] = df_monthly[\"date\"].dt.year.astype(\"str\") + '-' + df[\"date\"].dt.month.astype(\"str\") + '-01'\n",
        "df_monthly['date'] = pd.to_datetime(df_monthly['date'])\n",
        "print(\"Total rows: \", df_monthly.shape[0])\n",
        "df_monthly.head()"
      ],
      "execution_count": 8,
      "outputs": [
        {
          "output_type": "stream",
          "text": [
            "Total rows:  848\n"
          ],
          "name": "stdout"
        },
        {
          "output_type": "execute_result",
          "data": {
            "text/html": [
              "<div>\n",
              "<style scoped>\n",
              "    .dataframe tbody tr th:only-of-type {\n",
              "        vertical-align: middle;\n",
              "    }\n",
              "\n",
              "    .dataframe tbody tr th {\n",
              "        vertical-align: top;\n",
              "    }\n",
              "\n",
              "    .dataframe thead th {\n",
              "        text-align: right;\n",
              "    }\n",
              "</style>\n",
              "<table border=\"1\" class=\"dataframe\">\n",
              "  <thead>\n",
              "    <tr style=\"text-align: right;\">\n",
              "      <th></th>\n",
              "      <th>date</th>\n",
              "      <th>shop_id</th>\n",
              "      <th>item_id</th>\n",
              "      <th>item_cnt_day</th>\n",
              "    </tr>\n",
              "  </thead>\n",
              "  <tbody>\n",
              "    <tr>\n",
              "      <th>352379</th>\n",
              "      <td>2013-04-01</td>\n",
              "      <td>22</td>\n",
              "      <td>20949</td>\n",
              "      <td>12.0</td>\n",
              "    </tr>\n",
              "    <tr>\n",
              "      <th>352399</th>\n",
              "      <td>2013-04-01</td>\n",
              "      <td>22</td>\n",
              "      <td>20949</td>\n",
              "      <td>13.0</td>\n",
              "    </tr>\n",
              "    <tr>\n",
              "      <th>352400</th>\n",
              "      <td>2013-04-01</td>\n",
              "      <td>22</td>\n",
              "      <td>20949</td>\n",
              "      <td>4.0</td>\n",
              "    </tr>\n",
              "    <tr>\n",
              "      <th>352401</th>\n",
              "      <td>2013-04-01</td>\n",
              "      <td>22</td>\n",
              "      <td>20949</td>\n",
              "      <td>4.0</td>\n",
              "    </tr>\n",
              "    <tr>\n",
              "      <th>352455</th>\n",
              "      <td>2013-04-01</td>\n",
              "      <td>22</td>\n",
              "      <td>20949</td>\n",
              "      <td>2.0</td>\n",
              "    </tr>\n",
              "  </tbody>\n",
              "</table>\n",
              "</div>"
            ],
            "text/plain": [
              "             date  shop_id  item_id  item_cnt_day\n",
              "352379 2013-04-01       22    20949          12.0\n",
              "352399 2013-04-01       22    20949          13.0\n",
              "352400 2013-04-01       22    20949           4.0\n",
              "352401 2013-04-01       22    20949           4.0\n",
              "352455 2013-04-01       22    20949           2.0"
            ]
          },
          "metadata": {
            "tags": []
          },
          "execution_count": 8
        }
      ]
    },
    {
      "cell_type": "code",
      "metadata": {
        "colab": {
          "base_uri": "https://localhost:8080/"
        },
        "id": "49Zdq5sgocjV",
        "outputId": "a7afb0e4-1a6f-4be5-d95a-d6030ee80f87"
      },
      "source": [
        "# groupby date and sum the sales item\n",
        "df_monthly_sum = df_monthly.copy()\n",
        "df_monthly_sum = df_monthly_sum.groupby('date').item_cnt_day.sum().reset_index()\n",
        "df_monthly_sum.rename(columns={'item_cnt_day':'item_sales'}, inplace=True)\n",
        "print(\"Total rows: \", df_monthly_sum.shape[0])\n",
        "\n",
        "# print all rows in dataframe\n",
        "pd.set_option(\"display.max_rows\", None, \"display.max_columns\", None)\n",
        "print(df_monthly_sum)"
      ],
      "execution_count": 9,
      "outputs": [
        {
          "output_type": "stream",
          "text": [
            "Total rows:  36\n",
            "         date  item_sales\n",
            "0  2013-01-01        45.0\n",
            "1  2013-02-01        54.0\n",
            "2  2013-03-01        76.0\n",
            "3  2013-04-01       124.0\n",
            "4  2013-05-01       207.0\n",
            "5  2013-06-01       190.0\n",
            "6  2013-07-01       156.0\n",
            "7  2013-08-01       193.0\n",
            "8  2013-09-01       191.0\n",
            "9  2013-10-01       171.0\n",
            "10 2013-11-01       189.0\n",
            "11 2013-12-01       221.0\n",
            "12 2014-01-01       170.0\n",
            "13 2014-02-01       167.0\n",
            "14 2014-03-01       192.0\n",
            "15 2014-04-01       162.0\n",
            "16 2014-05-01       128.0\n",
            "17 2014-06-01       132.0\n",
            "18 2014-07-01       121.0\n",
            "19 2014-08-01        90.0\n",
            "20 2014-09-01       127.0\n",
            "21 2014-10-01       122.0\n",
            "22 2014-11-01       123.0\n",
            "23 2014-12-01       182.0\n",
            "24 2015-01-01        82.0\n",
            "25 2015-02-01        93.0\n",
            "26 2015-03-01       111.0\n",
            "27 2015-04-01        76.0\n",
            "28 2015-05-01        86.0\n",
            "29 2015-06-01        86.0\n",
            "30 2015-07-01        72.0\n",
            "31 2015-08-01        74.0\n",
            "32 2015-09-01        62.0\n",
            "33 2015-10-01        55.0\n",
            "34 2015-11-01        29.0\n",
            "35 2015-12-01        23.0\n"
          ],
          "name": "stdout"
        }
      ]
    },
    {
      "cell_type": "code",
      "metadata": {
        "id": "tLb6TqUUqTqw",
        "colab": {
          "base_uri": "https://localhost:8080/",
          "height": 374
        },
        "outputId": "624279b7-cd0c-4b8a-83c2-e9774042c139"
      },
      "source": [
        "plt.rc(\"font\", size=12)\n",
        "fig, ax = plt.subplots(figsize=(20,5))\n",
        "\n",
        "# specify how our line should look like\n",
        "ax.plot(df_monthly_sum['date'], df_monthly_sum['item_sales'], label=\"sales\")\n",
        "\n",
        "# same as above\n",
        "ax.set_xlabel(\"date\")\n",
        "ax.set_ylabel(\"sales\")\n",
        "ax.set_title(\"Monthly Sales of Shop ID 22 and Item ID 20949\")\n",
        "ax.grid(True)\n",
        "ax.legend(loc=\"upper left\")"
      ],
      "execution_count": 10,
      "outputs": [
        {
          "output_type": "execute_result",
          "data": {
            "text/plain": [
              "<matplotlib.legend.Legend at 0x7fd19856e690>"
            ]
          },
          "metadata": {
            "tags": []
          },
          "execution_count": 10
        },
        {
          "output_type": "display_data",
          "data": {
            "image/png": "[encoded data removed]",
            "text/plain": [
              "<Figure size 1440x360 with 1 Axes>"
            ]
          },
          "metadata": {
            "tags": [],
            "needs_background": "light"
          }
        }
      ]
    },
    {
      "cell_type": "markdown",
      "metadata": {
        "id": "ybvbM9UJg6sx"
      },
      "source": [
        "**STEP 3: Data Transformation**\n",
        "\n",
        "As we can see, the data in the previous graph is not stationary yet and has a decreasing trend in the last few months. Here, we are using difference method to make the data stationary\n",
        "\n",
        "Ps. Difference between stationary and not-stationary dataset\n",
        "\n",
        "\n",
        "![Non-stationary-and-stationary-time-series-As-CDR-activities-of-users-are-aggregated-on.png](data:image/png;base64,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)"
      ]
    },
    {
      "cell_type": "code",
      "metadata": {
        "id": "uHzq9SISBlcr"
      },
      "source": [
        "# create a new dataframe to model the difference\n",
        "df_diff = df_monthly_sum.copy()\n",
        "\n",
        "# implement the difference technique\n",
        "df_diff[\"prev_sales\"] = df_diff['item_sales'].shift(1)\n",
        "\n",
        "# drop the null values and calculate the difference \n",
        "df_diff = df_diff.dropna()\n",
        "df_diff['diff'] = (df_diff['item_sales'] - df_diff['prev_sales'])"
      ],
      "execution_count": 11,
      "outputs": []
    },
    {
      "cell_type": "code",
      "metadata": {
        "id": "oR3YDcjOMtOu",
        "colab": {
          "base_uri": "https://localhost:8080/",
          "height": 1000
        },
        "outputId": "5c6a091f-c7bb-4ada-ec8e-893b9e42299c"
      },
      "source": [
        "df_diff.head(100)"
      ],
      "execution_count": 12,
      "outputs": [
        {
          "output_type": "execute_result",
          "data": {
            "text/html": [
              "<div>\n",
              "<style scoped>\n",
              "    .dataframe tbody tr th:only-of-type {\n",
              "        vertical-align: middle;\n",
              "    }\n",
              "\n",
              "    .dataframe tbody tr th {\n",
              "        vertical-align: top;\n",
              "    }\n",
              "\n",
              "    .dataframe thead th {\n",
              "        text-align: right;\n",
              "    }\n",
              "</style>\n",
              "<table border=\"1\" class=\"dataframe\">\n",
              "  <thead>\n",
              "    <tr style=\"text-align: right;\">\n",
              "      <th></th>\n",
              "      <th>date</th>\n",
              "      <th>item_sales</th>\n",
              "      <th>prev_sales</th>\n",
              "      <th>diff</th>\n",
              "    </tr>\n",
              "  </thead>\n",
              "  <tbody>\n",
              "    <tr>\n",
              "      <th>1</th>\n",
              "      <td>2013-02-01</td>\n",
              "      <td>54.0</td>\n",
              "      <td>45.0</td>\n",
              "      <td>9.0</td>\n",
              "    </tr>\n",
              "    <tr>\n",
              "      <th>2</th>\n",
              "      <td>2013-03-01</td>\n",
              "      <td>76.0</td>\n",
              "      <td>54.0</td>\n",
              "      <td>22.0</td>\n",
              "    </tr>\n",
              "    <tr>\n",
              "      <th>3</th>\n",
              "      <td>2013-04-01</td>\n",
              "      <td>124.0</td>\n",
              "      <td>76.0</td>\n",
              "      <td>48.0</td>\n",
              "    </tr>\n",
              "    <tr>\n",
              "      <th>4</th>\n",
              "      <td>2013-05-01</td>\n",
              "      <td>207.0</td>\n",
              "      <td>124.0</td>\n",
              "      <td>83.0</td>\n",
              "    </tr>\n",
              "    <tr>\n",
              "      <th>5</th>\n",
              "      <td>2013-06-01</td>\n",
              "      <td>190.0</td>\n",
              "      <td>207.0</td>\n",
              "      <td>-17.0</td>\n",
              "    </tr>\n",
              "    <tr>\n",
              "      <th>6</th>\n",
              "      <td>2013-07-01</td>\n",
              "      <td>156.0</td>\n",
              "      <td>190.0</td>\n",
              "      <td>-34.0</td>\n",
              "    </tr>\n",
              "    <tr>\n",
              "      <th>7</th>\n",
              "      <td>2013-08-01</td>\n",
              "      <td>193.0</td>\n",
              "      <td>156.0</td>\n",
              "      <td>37.0</td>\n",
              "    </tr>\n",
              "    <tr>\n",
              "      <th>8</th>\n",
              "      <td>2013-09-01</td>\n",
              "      <td>191.0</td>\n",
              "      <td>193.0</td>\n",
              "      <td>-2.0</td>\n",
              "    </tr>\n",
              "    <tr>\n",
              "      <th>9</th>\n",
              "      <td>2013-10-01</td>\n",
              "      <td>171.0</td>\n",
              "      <td>191.0</td>\n",
              "      <td>-20.0</td>\n",
              "    </tr>\n",
              "    <tr>\n",
              "      <th>10</th>\n",
              "      <td>2013-11-01</td>\n",
              "      <td>189.0</td>\n",
              "      <td>171.0</td>\n",
              "      <td>18.0</td>\n",
              "    </tr>\n",
              "    <tr>\n",
              "      <th>11</th>\n",
              "      <td>2013-12-01</td>\n",
              "      <td>221.0</td>\n",
              "      <td>189.0</td>\n",
              "      <td>32.0</td>\n",
              "    </tr>\n",
              "    <tr>\n",
              "      <th>12</th>\n",
              "      <td>2014-01-01</td>\n",
              "      <td>170.0</td>\n",
              "      <td>221.0</td>\n",
              "      <td>-51.0</td>\n",
              "    </tr>\n",
              "    <tr>\n",
              "      <th>13</th>\n",
              "      <td>2014-02-01</td>\n",
              "      <td>167.0</td>\n",
              "      <td>170.0</td>\n",
              "      <td>-3.0</td>\n",
              "    </tr>\n",
              "    <tr>\n",
              "      <th>14</th>\n",
              "      <td>2014-03-01</td>\n",
              "      <td>192.0</td>\n",
              "      <td>167.0</td>\n",
              "      <td>25.0</td>\n",
              "    </tr>\n",
              "    <tr>\n",
              "      <th>15</th>\n",
              "      <td>2014-04-01</td>\n",
              "      <td>162.0</td>\n",
              "      <td>192.0</td>\n",
              "      <td>-30.0</td>\n",
              "    </tr>\n",
              "    <tr>\n",
              "      <th>16</th>\n",
              "      <td>2014-05-01</td>\n",
              "      <td>128.0</td>\n",
              "      <td>162.0</td>\n",
              "      <td>-34.0</td>\n",
              "    </tr>\n",
              "    <tr>\n",
              "      <th>17</th>\n",
              "      <td>2014-06-01</td>\n",
              "      <td>132.0</td>\n",
              "      <td>128.0</td>\n",
              "      <td>4.0</td>\n",
              "    </tr>\n",
              "    <tr>\n",
              "      <th>18</th>\n",
              "      <td>2014-07-01</td>\n",
              "      <td>121.0</td>\n",
              "      <td>132.0</td>\n",
              "      <td>-11.0</td>\n",
              "    </tr>\n",
              "    <tr>\n",
              "      <th>19</th>\n",
              "      <td>2014-08-01</td>\n",
              "      <td>90.0</td>\n",
              "      <td>121.0</td>\n",
              "      <td>-31.0</td>\n",
              "    </tr>\n",
              "    <tr>\n",
              "      <th>20</th>\n",
              "      <td>2014-09-01</td>\n",
              "      <td>127.0</td>\n",
              "      <td>90.0</td>\n",
              "      <td>37.0</td>\n",
              "    </tr>\n",
              "    <tr>\n",
              "      <th>21</th>\n",
              "      <td>2014-10-01</td>\n",
              "      <td>122.0</td>\n",
              "      <td>127.0</td>\n",
              "      <td>-5.0</td>\n",
              "    </tr>\n",
              "    <tr>\n",
              "      <th>22</th>\n",
              "      <td>2014-11-01</td>\n",
              "      <td>123.0</td>\n",
              "      <td>122.0</td>\n",
              "      <td>1.0</td>\n",
              "    </tr>\n",
              "    <tr>\n",
              "      <th>23</th>\n",
              "      <td>2014-12-01</td>\n",
              "      <td>182.0</td>\n",
              "      <td>123.0</td>\n",
              "      <td>59.0</td>\n",
              "    </tr>\n",
              "    <tr>\n",
              "      <th>24</th>\n",
              "      <td>2015-01-01</td>\n",
              "      <td>82.0</td>\n",
              "      <td>182.0</td>\n",
              "      <td>-100.0</td>\n",
              "    </tr>\n",
              "    <tr>\n",
              "      <th>25</th>\n",
              "      <td>2015-02-01</td>\n",
              "      <td>93.0</td>\n",
              "      <td>82.0</td>\n",
              "      <td>11.0</td>\n",
              "    </tr>\n",
              "    <tr>\n",
              "      <th>26</th>\n",
              "      <td>2015-03-01</td>\n",
              "      <td>111.0</td>\n",
              "      <td>93.0</td>\n",
              "      <td>18.0</td>\n",
              "    </tr>\n",
              "    <tr>\n",
              "      <th>27</th>\n",
              "      <td>2015-04-01</td>\n",
              "      <td>76.0</td>\n",
              "      <td>111.0</td>\n",
              "      <td>-35.0</td>\n",
              "    </tr>\n",
              "    <tr>\n",
              "      <th>28</th>\n",
              "      <td>2015-05-01</td>\n",
              "      <td>86.0</td>\n",
              "      <td>76.0</td>\n",
              "      <td>10.0</td>\n",
              "    </tr>\n",
              "    <tr>\n",
              "      <th>29</th>\n",
              "      <td>2015-06-01</td>\n",
              "      <td>86.0</td>\n",
              "      <td>86.0</td>\n",
              "      <td>0.0</td>\n",
              "    </tr>\n",
              "    <tr>\n",
              "      <th>30</th>\n",
              "      <td>2015-07-01</td>\n",
              "      <td>72.0</td>\n",
              "      <td>86.0</td>\n",
              "      <td>-14.0</td>\n",
              "    </tr>\n",
              "    <tr>\n",
              "      <th>31</th>\n",
              "      <td>2015-08-01</td>\n",
              "      <td>74.0</td>\n",
              "      <td>72.0</td>\n",
              "      <td>2.0</td>\n",
              "    </tr>\n",
              "    <tr>\n",
              "      <th>32</th>\n",
              "      <td>2015-09-01</td>\n",
              "      <td>62.0</td>\n",
              "      <td>74.0</td>\n",
              "      <td>-12.0</td>\n",
              "    </tr>\n",
              "    <tr>\n",
              "      <th>33</th>\n",
              "      <td>2015-10-01</td>\n",
              "      <td>55.0</td>\n",
              "      <td>62.0</td>\n",
              "      <td>-7.0</td>\n",
              "    </tr>\n",
              "    <tr>\n",
              "      <th>34</th>\n",
              "      <td>2015-11-01</td>\n",
              "      <td>29.0</td>\n",
              "      <td>55.0</td>\n",
              "      <td>-26.0</td>\n",
              "    </tr>\n",
              "    <tr>\n",
              "      <th>35</th>\n",
              "      <td>2015-12-01</td>\n",
              "      <td>23.0</td>\n",
              "      <td>29.0</td>\n",
              "      <td>-6.0</td>\n",
              "    </tr>\n",
              "  </tbody>\n",
              "</table>\n",
              "</div>"
            ],
            "text/plain": [
              "         date  item_sales  prev_sales   diff\n",
              "1  2013-02-01        54.0        45.0    9.0\n",
              "2  2013-03-01        76.0        54.0   22.0\n",
              "3  2013-04-01       124.0        76.0   48.0\n",
              "4  2013-05-01       207.0       124.0   83.0\n",
              "5  2013-06-01       190.0       207.0  -17.0\n",
              "6  2013-07-01       156.0       190.0  -34.0\n",
              "7  2013-08-01       193.0       156.0   37.0\n",
              "8  2013-09-01       191.0       193.0   -2.0\n",
              "9  2013-10-01       171.0       191.0  -20.0\n",
              "10 2013-11-01       189.0       171.0   18.0\n",
              "11 2013-12-01       221.0       189.0   32.0\n",
              "12 2014-01-01       170.0       221.0  -51.0\n",
              "13 2014-02-01       167.0       170.0   -3.0\n",
              "14 2014-03-01       192.0       167.0   25.0\n",
              "15 2014-04-01       162.0       192.0  -30.0\n",
              "16 2014-05-01       128.0       162.0  -34.0\n",
              "17 2014-06-01       132.0       128.0    4.0\n",
              "18 2014-07-01       121.0       132.0  -11.0\n",
              "19 2014-08-01        90.0       121.0  -31.0\n",
              "20 2014-09-01       127.0        90.0   37.0\n",
              "21 2014-10-01       122.0       127.0   -5.0\n",
              "22 2014-11-01       123.0       122.0    1.0\n",
              "23 2014-12-01       182.0       123.0   59.0\n",
              "24 2015-01-01        82.0       182.0 -100.0\n",
              "25 2015-02-01        93.0        82.0   11.0\n",
              "26 2015-03-01       111.0        93.0   18.0\n",
              "27 2015-04-01        76.0       111.0  -35.0\n",
              "28 2015-05-01        86.0        76.0   10.0\n",
              "29 2015-06-01        86.0        86.0    0.0\n",
              "30 2015-07-01        72.0        86.0  -14.0\n",
              "31 2015-08-01        74.0        72.0    2.0\n",
              "32 2015-09-01        62.0        74.0  -12.0\n",
              "33 2015-10-01        55.0        62.0   -7.0\n",
              "34 2015-11-01        29.0        55.0  -26.0\n",
              "35 2015-12-01        23.0        29.0   -6.0"
            ]
          },
          "metadata": {
            "tags": []
          },
          "execution_count": 12
        }
      ]
    },
    {
      "cell_type": "markdown",
      "metadata": {
        "id": "5_C17PNL0OD4"
      },
      "source": [
        "Let’s plot it and check if it is stationary now:"
      ]
    },
    {
      "cell_type": "code",
      "metadata": {
        "id": "Q0pYiW7kM1fE",
        "colab": {
          "base_uri": "https://localhost:8080/",
          "height": 374
        },
        "outputId": "d7a02fe5-47a4-460e-a588-81942ad73bd4"
      },
      "source": [
        "plt.rc(\"font\", size=12)\n",
        "fig, ax = plt.subplots(figsize=(10,5))\n",
        "\n",
        "# specify how our line should look like\n",
        "ax.plot(df_diff['date'], df_diff['diff'], label=\"diff\")\n",
        "\n",
        "# same as above\n",
        "ax.set_xlabel(\"date\")\n",
        "ax.set_ylabel(\"diff\")\n",
        "ax.set_title(\"Monthly Sales Diff\")\n",
        "ax.grid(True)\n",
        "ax.legend(loc=\"upper left\")\n",
        "\n"
      ],
      "execution_count": 13,
      "outputs": [
        {
          "output_type": "execute_result",
          "data": {
            "text/plain": [
              "<matplotlib.legend.Legend at 0x7fd198018810>"
            ]
          },
          "metadata": {
            "tags": []
          },
          "execution_count": 13
        },
        {
          "output_type": "display_data",
          "data": {
            "image/png": "[encoded data removed]",
            "text/plain": [
              "<Figure size 720x360 with 1 Axes>"
            ]
          },
          "metadata": {
            "tags": [],
            "needs_background": "light"
          }
        }
      ]
    },
    {
      "cell_type": "markdown",
      "metadata": {
        "id": "jowgPsr40tIY"
      },
      "source": [
        "As we can see, the graph looks stationary after differentiating. Next we need to use our previous monthly sales data to predict the next ones. I'll use 4 look-back period for this sample"
      ]
    },
    {
      "cell_type": "code",
      "metadata": {
        "id": "n7VP8sb23ANM"
      },
      "source": [
        "#create dataframe for transformation from time series to supervised\n",
        "\n",
        "df_supervised = df_diff.drop(['prev_sales'],axis=1)\n",
        "\n",
        "#adding lags\n",
        "for i in range(1,2):\n",
        "    field_name = 'lag_' + str(i)\n",
        "    df_supervised[field_name] = df_supervised['diff'].shift(i)\n",
        "\n",
        "#drop null values\n",
        "df_supervised = df_supervised.dropna().reset_index(drop=True)"
      ],
      "execution_count": 19,
      "outputs": []
    },
    {
      "cell_type": "code",
      "metadata": {
        "id": "rsKlqF6L4Gc2",
        "colab": {
          "base_uri": "https://localhost:8080/",
          "height": 1000
        },
        "outputId": "ab4f01ce-9d54-4db4-c072-320b8d6d5a3f"
      },
      "source": [
        "df_supervised.head(36)"
      ],
      "execution_count": 20,
      "outputs": [
        {
          "output_type": "execute_result",
          "data": {
            "text/html": [
              "<div>\n",
              "<style scoped>\n",
              "    .dataframe tbody tr th:only-of-type {\n",
              "        vertical-align: middle;\n",
              "    }\n",
              "\n",
              "    .dataframe tbody tr th {\n",
              "        vertical-align: top;\n",
              "    }\n",
              "\n",
              "    .dataframe thead th {\n",
              "        text-align: right;\n",
              "    }\n",
              "</style>\n",
              "<table border=\"1\" class=\"dataframe\">\n",
              "  <thead>\n",
              "    <tr style=\"text-align: right;\">\n",
              "      <th></th>\n",
              "      <th>date</th>\n",
              "      <th>item_sales</th>\n",
              "      <th>diff</th>\n",
              "      <th>lag_1</th>\n",
              "    </tr>\n",
              "  </thead>\n",
              "  <tbody>\n",
              "    <tr>\n",
              "      <th>0</th>\n",
              "      <td>2013-03-01</td>\n",
              "      <td>76.0</td>\n",
              "      <td>22.0</td>\n",
              "      <td>9.0</td>\n",
              "    </tr>\n",
              "    <tr>\n",
              "      <th>1</th>\n",
              "      <td>2013-04-01</td>\n",
              "      <td>124.0</td>\n",
              "      <td>48.0</td>\n",
              "      <td>22.0</td>\n",
              "    </tr>\n",
              "    <tr>\n",
              "      <th>2</th>\n",
              "      <td>2013-05-01</td>\n",
              "      <td>207.0</td>\n",
              "      <td>83.0</td>\n",
              "      <td>48.0</td>\n",
              "    </tr>\n",
              "    <tr>\n",
              "      <th>3</th>\n",
              "      <td>2013-06-01</td>\n",
              "      <td>190.0</td>\n",
              "      <td>-17.0</td>\n",
              "      <td>83.0</td>\n",
              "    </tr>\n",
              "    <tr>\n",
              "      <th>4</th>\n",
              "      <td>2013-07-01</td>\n",
              "      <td>156.0</td>\n",
              "      <td>-34.0</td>\n",
              "      <td>-17.0</td>\n",
              "    </tr>\n",
              "    <tr>\n",
              "      <th>5</th>\n",
              "      <td>2013-08-01</td>\n",
              "      <td>193.0</td>\n",
              "      <td>37.0</td>\n",
              "      <td>-34.0</td>\n",
              "    </tr>\n",
              "    <tr>\n",
              "      <th>6</th>\n",
              "      <td>2013-09-01</td>\n",
              "      <td>191.0</td>\n",
              "      <td>-2.0</td>\n",
              "      <td>37.0</td>\n",
              "    </tr>\n",
              "    <tr>\n",
              "      <th>7</th>\n",
              "      <td>2013-10-01</td>\n",
              "      <td>171.0</td>\n",
              "      <td>-20.0</td>\n",
              "      <td>-2.0</td>\n",
              "    </tr>\n",
              "    <tr>\n",
              "      <th>8</th>\n",
              "      <td>2013-11-01</td>\n",
              "      <td>189.0</td>\n",
              "      <td>18.0</td>\n",
              "      <td>-20.0</td>\n",
              "    </tr>\n",
              "    <tr>\n",
              "      <th>9</th>\n",
              "      <td>2013-12-01</td>\n",
              "      <td>221.0</td>\n",
              "      <td>32.0</td>\n",
              "      <td>18.0</td>\n",
              "    </tr>\n",
              "    <tr>\n",
              "      <th>10</th>\n",
              "      <td>2014-01-01</td>\n",
              "      <td>170.0</td>\n",
              "      <td>-51.0</td>\n",
              "      <td>32.0</td>\n",
              "    </tr>\n",
              "    <tr>\n",
              "      <th>11</th>\n",
              "      <td>2014-02-01</td>\n",
              "      <td>167.0</td>\n",
              "      <td>-3.0</td>\n",
              "      <td>-51.0</td>\n",
              "    </tr>\n",
              "    <tr>\n",
              "      <th>12</th>\n",
              "      <td>2014-03-01</td>\n",
              "      <td>192.0</td>\n",
              "      <td>25.0</td>\n",
              "      <td>-3.0</td>\n",
              "    </tr>\n",
              "    <tr>\n",
              "      <th>13</th>\n",
              "      <td>2014-04-01</td>\n",
              "      <td>162.0</td>\n",
              "      <td>-30.0</td>\n",
              "      <td>25.0</td>\n",
              "    </tr>\n",
              "    <tr>\n",
              "      <th>14</th>\n",
              "      <td>2014-05-01</td>\n",
              "      <td>128.0</td>\n",
              "      <td>-34.0</td>\n",
              "      <td>-30.0</td>\n",
              "    </tr>\n",
              "    <tr>\n",
              "      <th>15</th>\n",
              "      <td>2014-06-01</td>\n",
              "      <td>132.0</td>\n",
              "      <td>4.0</td>\n",
              "      <td>-34.0</td>\n",
              "    </tr>\n",
              "    <tr>\n",
              "      <th>16</th>\n",
              "      <td>2014-07-01</td>\n",
              "      <td>121.0</td>\n",
              "      <td>-11.0</td>\n",
              "      <td>4.0</td>\n",
              "    </tr>\n",
              "    <tr>\n",
              "      <th>17</th>\n",
              "      <td>2014-08-01</td>\n",
              "      <td>90.0</td>\n",
              "      <td>-31.0</td>\n",
              "      <td>-11.0</td>\n",
              "    </tr>\n",
              "    <tr>\n",
              "      <th>18</th>\n",
              "      <td>2014-09-01</td>\n",
              "      <td>127.0</td>\n",
              "      <td>37.0</td>\n",
              "      <td>-31.0</td>\n",
              "    </tr>\n",
              "    <tr>\n",
              "      <th>19</th>\n",
              "      <td>2014-10-01</td>\n",
              "      <td>122.0</td>\n",
              "      <td>-5.0</td>\n",
              "      <td>37.0</td>\n",
              "    </tr>\n",
              "    <tr>\n",
              "      <th>20</th>\n",
              "      <td>2014-11-01</td>\n",
              "      <td>123.0</td>\n",
              "      <td>1.0</td>\n",
              "      <td>-5.0</td>\n",
              "    </tr>\n",
              "    <tr>\n",
              "      <th>21</th>\n",
              "      <td>2014-12-01</td>\n",
              "      <td>182.0</td>\n",
              "      <td>59.0</td>\n",
              "      <td>1.0</td>\n",
              "    </tr>\n",
              "    <tr>\n",
              "      <th>22</th>\n",
              "      <td>2015-01-01</td>\n",
              "      <td>82.0</td>\n",
              "      <td>-100.0</td>\n",
              "      <td>59.0</td>\n",
              "    </tr>\n",
              "    <tr>\n",
              "      <th>23</th>\n",
              "      <td>2015-02-01</td>\n",
              "      <td>93.0</td>\n",
              "      <td>11.0</td>\n",
              "      <td>-100.0</td>\n",
              "    </tr>\n",
              "    <tr>\n",
              "      <th>24</th>\n",
              "      <td>2015-03-01</td>\n",
              "      <td>111.0</td>\n",
              "      <td>18.0</td>\n",
              "      <td>11.0</td>\n",
              "    </tr>\n",
              "    <tr>\n",
              "      <th>25</th>\n",
              "      <td>2015-04-01</td>\n",
              "      <td>76.0</td>\n",
              "      <td>-35.0</td>\n",
              "      <td>18.0</td>\n",
              "    </tr>\n",
              "    <tr>\n",
              "      <th>26</th>\n",
              "      <td>2015-05-01</td>\n",
              "      <td>86.0</td>\n",
              "      <td>10.0</td>\n",
              "      <td>-35.0</td>\n",
              "    </tr>\n",
              "    <tr>\n",
              "      <th>27</th>\n",
              "      <td>2015-06-01</td>\n",
              "      <td>86.0</td>\n",
              "      <td>0.0</td>\n",
              "      <td>10.0</td>\n",
              "    </tr>\n",
              "    <tr>\n",
              "      <th>28</th>\n",
              "      <td>2015-07-01</td>\n",
              "      <td>72.0</td>\n",
              "      <td>-14.0</td>\n",
              "      <td>0.0</td>\n",
              "    </tr>\n",
              "    <tr>\n",
              "      <th>29</th>\n",
              "      <td>2015-08-01</td>\n",
              "      <td>74.0</td>\n",
              "      <td>2.0</td>\n",
              "      <td>-14.0</td>\n",
              "    </tr>\n",
              "    <tr>\n",
              "      <th>30</th>\n",
              "      <td>2015-09-01</td>\n",
              "      <td>62.0</td>\n",
              "      <td>-12.0</td>\n",
              "      <td>2.0</td>\n",
              "    </tr>\n",
              "    <tr>\n",
              "      <th>31</th>\n",
              "      <td>2015-10-01</td>\n",
              "      <td>55.0</td>\n",
              "      <td>-7.0</td>\n",
              "      <td>-12.0</td>\n",
              "    </tr>\n",
              "    <tr>\n",
              "      <th>32</th>\n",
              "      <td>2015-11-01</td>\n",
              "      <td>29.0</td>\n",
              "      <td>-26.0</td>\n",
              "      <td>-7.0</td>\n",
              "    </tr>\n",
              "    <tr>\n",
              "      <th>33</th>\n",
              "      <td>2015-12-01</td>\n",
              "      <td>23.0</td>\n",
              "      <td>-6.0</td>\n",
              "      <td>-26.0</td>\n",
              "    </tr>\n",
              "  </tbody>\n",
              "</table>\n",
              "</div>"
            ],
            "text/plain": [
              "         date  item_sales   diff  lag_1\n",
              "0  2013-03-01        76.0   22.0    9.0\n",
              "1  2013-04-01       124.0   48.0   22.0\n",
              "2  2013-05-01       207.0   83.0   48.0\n",
              "3  2013-06-01       190.0  -17.0   83.0\n",
              "4  2013-07-01       156.0  -34.0  -17.0\n",
              "5  2013-08-01       193.0   37.0  -34.0\n",
              "6  2013-09-01       191.0   -2.0   37.0\n",
              "7  2013-10-01       171.0  -20.0   -2.0\n",
              "8  2013-11-01       189.0   18.0  -20.0\n",
              "9  2013-12-01       221.0   32.0   18.0\n",
              "10 2014-01-01       170.0  -51.0   32.0\n",
              "11 2014-02-01       167.0   -3.0  -51.0\n",
              "12 2014-03-01       192.0   25.0   -3.0\n",
              "13 2014-04-01       162.0  -30.0   25.0\n",
              "14 2014-05-01       128.0  -34.0  -30.0\n",
              "15 2014-06-01       132.0    4.0  -34.0\n",
              "16 2014-07-01       121.0  -11.0    4.0\n",
              "17 2014-08-01        90.0  -31.0  -11.0\n",
              "18 2014-09-01       127.0   37.0  -31.0\n",
              "19 2014-10-01       122.0   -5.0   37.0\n",
              "20 2014-11-01       123.0    1.0   -5.0\n",
              "21 2014-12-01       182.0   59.0    1.0\n",
              "22 2015-01-01        82.0 -100.0   59.0\n",
              "23 2015-02-01        93.0   11.0 -100.0\n",
              "24 2015-03-01       111.0   18.0   11.0\n",
              "25 2015-04-01        76.0  -35.0   18.0\n",
              "26 2015-05-01        86.0   10.0  -35.0\n",
              "27 2015-06-01        86.0    0.0   10.0\n",
              "28 2015-07-01        72.0  -14.0    0.0\n",
              "29 2015-08-01        74.0    2.0  -14.0\n",
              "30 2015-09-01        62.0  -12.0    2.0\n",
              "31 2015-10-01        55.0   -7.0  -12.0\n",
              "32 2015-11-01        29.0  -26.0   -7.0\n",
              "33 2015-12-01        23.0   -6.0  -26.0"
            ]
          },
          "metadata": {
            "tags": []
          },
          "execution_count": 20
        }
      ]
    },
    {
      "cell_type": "markdown",
      "metadata": {
        "id": "UTp7S4A96ASB"
      },
      "source": [
        "We should make sure that our flags is good as features. To do this, we will use Adjusted R-squared"
      ]
    },
    {
      "cell_type": "code",
      "metadata": {
        "id": "Hd7fyDsy4H5Y",
        "colab": {
          "base_uri": "https://localhost:8080/"
        },
        "outputId": "dd166b5d-0249-4064-f6b3-b47a2fed4b09"
      },
      "source": [
        "# Import statsmodels.formula.api\n",
        "import statsmodels.formula.api as smf\n",
        "\n",
        "# Define the regression formula\n",
        "model = smf.ols(formula='diff ~ lag_1', data=df_supervised)\n",
        "\n",
        "# Fit the regression\n",
        "model_fit = model.fit()\n",
        "\n",
        "# Extract the adjusted r-squared\n",
        "regression_adj_rsq = model_fit.rsquared_adj\n",
        "print(regression_adj_rsq)"
      ],
      "execution_count": 21,
      "outputs": [
        {
          "output_type": "stream",
          "text": [
            "-0.0016957235226708889\n"
          ],
          "name": "stdout"
        }
      ]
    },
    {
      "cell_type": "code",
      "metadata": {
        "id": "48rtzbAq7IWM"
      },
      "source": [
        " #import MinMaxScaler and create a new dataframe for LSTM model\n",
        "from sklearn.preprocessing import MinMaxScaler\n",
        "\n",
        "df_model = df_supervised.drop(['item_sales','date'],axis=1)"
      ],
      "execution_count": 22,
      "outputs": []
    },
    {
      "cell_type": "code",
      "metadata": {
        "id": "DtjIL99Ulq9t",
        "colab": {
          "base_uri": "https://localhost:8080/",
          "height": 1000
        },
        "outputId": "fce3d754-b879-4057-ce4f-4ea39de37a9a"
      },
      "source": [
        "df_model.head(37)"
      ],
      "execution_count": 23,
      "outputs": [
        {
          "output_type": "execute_result",
          "data": {
            "text/html": [
              "<div>\n",
              "<style scoped>\n",
              "    .dataframe tbody tr th:only-of-type {\n",
              "        vertical-align: middle;\n",
              "    }\n",
              "\n",
              "    .dataframe tbody tr th {\n",
              "        vertical-align: top;\n",
              "    }\n",
              "\n",
              "    .dataframe thead th {\n",
              "        text-align: right;\n",
              "    }\n",
              "</style>\n",
              "<table border=\"1\" class=\"dataframe\">\n",
              "  <thead>\n",
              "    <tr style=\"text-align: right;\">\n",
              "      <th></th>\n",
              "      <th>diff</th>\n",
              "      <th>lag_1</th>\n",
              "    </tr>\n",
              "  </thead>\n",
              "  <tbody>\n",
              "    <tr>\n",
              "      <th>0</th>\n",
              "      <td>22.0</td>\n",
              "      <td>9.0</td>\n",
              "    </tr>\n",
              "    <tr>\n",
              "      <th>1</th>\n",
              "      <td>48.0</td>\n",
              "      <td>22.0</td>\n",
              "    </tr>\n",
              "    <tr>\n",
              "      <th>2</th>\n",
              "      <td>83.0</td>\n",
              "      <td>48.0</td>\n",
              "    </tr>\n",
              "    <tr>\n",
              "      <th>3</th>\n",
              "      <td>-17.0</td>\n",
              "      <td>83.0</td>\n",
              "    </tr>\n",
              "    <tr>\n",
              "      <th>4</th>\n",
              "      <td>-34.0</td>\n",
              "      <td>-17.0</td>\n",
              "    </tr>\n",
              "    <tr>\n",
              "      <th>5</th>\n",
              "      <td>37.0</td>\n",
              "      <td>-34.0</td>\n",
              "    </tr>\n",
              "    <tr>\n",
              "      <th>6</th>\n",
              "      <td>-2.0</td>\n",
              "      <td>37.0</td>\n",
              "    </tr>\n",
              "    <tr>\n",
              "      <th>7</th>\n",
              "      <td>-20.0</td>\n",
              "      <td>-2.0</td>\n",
              "    </tr>\n",
              "    <tr>\n",
              "      <th>8</th>\n",
              "      <td>18.0</td>\n",
              "      <td>-20.0</td>\n",
              "    </tr>\n",
              "    <tr>\n",
              "      <th>9</th>\n",
              "      <td>32.0</td>\n",
              "      <td>18.0</td>\n",
              "    </tr>\n",
              "    <tr>\n",
              "      <th>10</th>\n",
              "      <td>-51.0</td>\n",
              "      <td>32.0</td>\n",
              "    </tr>\n",
              "    <tr>\n",
              "      <th>11</th>\n",
              "      <td>-3.0</td>\n",
              "      <td>-51.0</td>\n",
              "    </tr>\n",
              "    <tr>\n",
              "      <th>12</th>\n",
              "      <td>25.0</td>\n",
              "      <td>-3.0</td>\n",
              "    </tr>\n",
              "    <tr>\n",
              "      <th>13</th>\n",
              "      <td>-30.0</td>\n",
              "      <td>25.0</td>\n",
              "    </tr>\n",
              "    <tr>\n",
              "      <th>14</th>\n",
              "      <td>-34.0</td>\n",
              "      <td>-30.0</td>\n",
              "    </tr>\n",
              "    <tr>\n",
              "      <th>15</th>\n",
              "      <td>4.0</td>\n",
              "      <td>-34.0</td>\n",
              "    </tr>\n",
              "    <tr>\n",
              "      <th>16</th>\n",
              "      <td>-11.0</td>\n",
              "      <td>4.0</td>\n",
              "    </tr>\n",
              "    <tr>\n",
              "      <th>17</th>\n",
              "      <td>-31.0</td>\n",
              "      <td>-11.0</td>\n",
              "    </tr>\n",
              "    <tr>\n",
              "      <th>18</th>\n",
              "      <td>37.0</td>\n",
              "      <td>-31.0</td>\n",
              "    </tr>\n",
              "    <tr>\n",
              "      <th>19</th>\n",
              "      <td>-5.0</td>\n",
              "      <td>37.0</td>\n",
              "    </tr>\n",
              "    <tr>\n",
              "      <th>20</th>\n",
              "      <td>1.0</td>\n",
              "      <td>-5.0</td>\n",
              "    </tr>\n",
              "    <tr>\n",
              "      <th>21</th>\n",
              "      <td>59.0</td>\n",
              "      <td>1.0</td>\n",
              "    </tr>\n",
              "    <tr>\n",
              "      <th>22</th>\n",
              "      <td>-100.0</td>\n",
              "      <td>59.0</td>\n",
              "    </tr>\n",
              "    <tr>\n",
              "      <th>23</th>\n",
              "      <td>11.0</td>\n",
              "      <td>-100.0</td>\n",
              "    </tr>\n",
              "    <tr>\n",
              "      <th>24</th>\n",
              "      <td>18.0</td>\n",
              "      <td>11.0</td>\n",
              "    </tr>\n",
              "    <tr>\n",
              "      <th>25</th>\n",
              "      <td>-35.0</td>\n",
              "      <td>18.0</td>\n",
              "    </tr>\n",
              "    <tr>\n",
              "      <th>26</th>\n",
              "      <td>10.0</td>\n",
              "      <td>-35.0</td>\n",
              "    </tr>\n",
              "    <tr>\n",
              "      <th>27</th>\n",
              "      <td>0.0</td>\n",
              "      <td>10.0</td>\n",
              "    </tr>\n",
              "    <tr>\n",
              "      <th>28</th>\n",
              "      <td>-14.0</td>\n",
              "      <td>0.0</td>\n",
              "    </tr>\n",
              "    <tr>\n",
              "      <th>29</th>\n",
              "      <td>2.0</td>\n",
              "      <td>-14.0</td>\n",
              "    </tr>\n",
              "    <tr>\n",
              "      <th>30</th>\n",
              "      <td>-12.0</td>\n",
              "      <td>2.0</td>\n",
              "    </tr>\n",
              "    <tr>\n",
              "      <th>31</th>\n",
              "      <td>-7.0</td>\n",
              "      <td>-12.0</td>\n",
              "    </tr>\n",
              "    <tr>\n",
              "      <th>32</th>\n",
              "      <td>-26.0</td>\n",
              "      <td>-7.0</td>\n",
              "    </tr>\n",
              "    <tr>\n",
              "      <th>33</th>\n",
              "      <td>-6.0</td>\n",
              "      <td>-26.0</td>\n",
              "    </tr>\n",
              "  </tbody>\n",
              "</table>\n",
              "</div>"
            ],
            "text/plain": [
              "     diff  lag_1\n",
              "0    22.0    9.0\n",
              "1    48.0   22.0\n",
              "2    83.0   48.0\n",
              "3   -17.0   83.0\n",
              "4   -34.0  -17.0\n",
              "5    37.0  -34.0\n",
              "6    -2.0   37.0\n",
              "7   -20.0   -2.0\n",
              "8    18.0  -20.0\n",
              "9    32.0   18.0\n",
              "10  -51.0   32.0\n",
              "11   -3.0  -51.0\n",
              "12   25.0   -3.0\n",
              "13  -30.0   25.0\n",
              "14  -34.0  -30.0\n",
              "15    4.0  -34.0\n",
              "16  -11.0    4.0\n",
              "17  -31.0  -11.0\n",
              "18   37.0  -31.0\n",
              "19   -5.0   37.0\n",
              "20    1.0   -5.0\n",
              "21   59.0    1.0\n",
              "22 -100.0   59.0\n",
              "23   11.0 -100.0\n",
              "24   18.0   11.0\n",
              "25  -35.0   18.0\n",
              "26   10.0  -35.0\n",
              "27    0.0   10.0\n",
              "28  -14.0    0.0\n",
              "29    2.0  -14.0\n",
              "30  -12.0    2.0\n",
              "31   -7.0  -12.0\n",
              "32  -26.0   -7.0\n",
              "33   -6.0  -26.0"
            ]
          },
          "metadata": {
            "tags": []
          },
          "execution_count": 23
        }
      ]
    },
    {
      "cell_type": "code",
      "metadata": {
        "id": "Ha8A77XMCRY7"
      },
      "source": [
        "#split train and test set\n",
        "train_set, test_set = df_model[0:-6].values, df_model[-6:].values"
      ],
      "execution_count": 24,
      "outputs": []
    },
    {
      "cell_type": "code",
      "metadata": {
        "colab": {
          "base_uri": "https://localhost:8080/"
        },
        "id": "H5iSAw4AzVKR",
        "outputId": "dd89469e-2ab0-4a52-93c1-51fdc6ecb8ae"
      },
      "source": [
        "print(train_set)"
      ],
      "execution_count": 25,
      "outputs": [
        {
          "output_type": "stream",
          "text": [
            "[[  22.    9.]\n",
            " [  48.   22.]\n",
            " [  83.   48.]\n",
            " [ -17.   83.]\n",
            " [ -34.  -17.]\n",
            " [  37.  -34.]\n",
            " [  -2.   37.]\n",
            " [ -20.   -2.]\n",
            " [  18.  -20.]\n",
            " [  32.   18.]\n",
            " [ -51.   32.]\n",
            " [  -3.  -51.]\n",
            " [  25.   -3.]\n",
            " [ -30.   25.]\n",
            " [ -34.  -30.]\n",
            " [   4.  -34.]\n",
            " [ -11.    4.]\n",
            " [ -31.  -11.]\n",
            " [  37.  -31.]\n",
            " [  -5.   37.]\n",
            " [   1.   -5.]\n",
            " [  59.    1.]\n",
            " [-100.   59.]\n",
            " [  11. -100.]\n",
            " [  18.   11.]\n",
            " [ -35.   18.]\n",
            " [  10.  -35.]\n",
            " [   0.   10.]]\n"
          ],
          "name": "stdout"
        }
      ]
    },
    {
      "cell_type": "code",
      "metadata": {
        "id": "EiBeca7tlJcC",
        "colab": {
          "base_uri": "https://localhost:8080/"
        },
        "outputId": "69a0b6de-0771-43a6-b2d1-9e4aef941d17"
      },
      "source": [
        "print(test_set)"
      ],
      "execution_count": 26,
      "outputs": [
        {
          "output_type": "stream",
          "text": [
            "[[-14.   0.]\n",
            " [  2. -14.]\n",
            " [-12.   2.]\n",
            " [ -7. -12.]\n",
            " [-26.  -7.]\n",
            " [ -6. -26.]]\n"
          ],
          "name": "stdout"
        }
      ]
    },
    {
      "cell_type": "code",
      "metadata": {
        "id": "rXWnc6R8lkMr",
        "colab": {
          "base_uri": "https://localhost:8080/"
        },
        "outputId": "256e8641-2267-48df-fd6e-05507605b639"
      },
      "source": [
        "# apply MinMax Scaler\n",
        "scaler = MinMaxScaler(feature_range=(-1, 1))\n",
        "scaler = scaler.fit(train_set)\n",
        "\n",
        "train_set.shape"
      ],
      "execution_count": 27,
      "outputs": [
        {
          "output_type": "execute_result",
          "data": {
            "text/plain": [
              "(28, 2)"
            ]
          },
          "metadata": {
            "tags": []
          },
          "execution_count": 27
        }
      ]
    },
    {
      "cell_type": "code",
      "metadata": {
        "id": "bSJpK8aelwyx",
        "colab": {
          "base_uri": "https://localhost:8080/"
        },
        "outputId": "c2c19260-a1d5-40d2-d877-cd7393a67132"
      },
      "source": [
        "# transform train_set\n",
        "train_set_scaled = scaler.transform(train_set)\n",
        "print(train_set_scaled)"
      ],
      "execution_count": 28,
      "outputs": [
        {
          "output_type": "stream",
          "text": [
            "[[ 0.33333333  0.19125683]\n",
            " [ 0.61748634  0.33333333]\n",
            " [ 1.          0.61748634]\n",
            " [-0.09289617  1.        ]\n",
            " [-0.27868852 -0.09289617]\n",
            " [ 0.49726776 -0.27868852]\n",
            " [ 0.07103825  0.49726776]\n",
            " [-0.12568306  0.07103825]\n",
            " [ 0.28961749 -0.12568306]\n",
            " [ 0.44262295  0.28961749]\n",
            " [-0.46448087  0.44262295]\n",
            " [ 0.06010929 -0.46448087]\n",
            " [ 0.36612022  0.06010929]\n",
            " [-0.23497268  0.36612022]\n",
            " [-0.27868852 -0.23497268]\n",
            " [ 0.13661202 -0.27868852]\n",
            " [-0.0273224   0.13661202]\n",
            " [-0.24590164 -0.0273224 ]\n",
            " [ 0.49726776 -0.24590164]\n",
            " [ 0.03825137  0.49726776]\n",
            " [ 0.10382514  0.03825137]\n",
            " [ 0.73770492  0.10382514]\n",
            " [-1.          0.73770492]\n",
            " [ 0.21311475 -1.        ]\n",
            " [ 0.28961749  0.21311475]\n",
            " [-0.28961749  0.28961749]\n",
            " [ 0.20218579 -0.28961749]\n",
            " [ 0.09289617  0.20218579]]\n"
          ],
          "name": "stdout"
        }
      ]
    },
    {
      "cell_type": "code",
      "metadata": {
        "colab": {
          "base_uri": "https://localhost:8080/"
        },
        "id": "woDt346QGnM2",
        "outputId": "3dec8d26-884e-436d-fa26-3e407704b954"
      },
      "source": [
        "# transform test set\n",
        "test_set_scaled = scaler.transform(test_set)\n",
        "print(test_set_scaled)"
      ],
      "execution_count": 29,
      "outputs": [
        {
          "output_type": "stream",
          "text": [
            "[[-0.06010929  0.09289617]\n",
            " [ 0.1147541  -0.06010929]\n",
            " [-0.03825137  0.1147541 ]\n",
            " [ 0.01639344 -0.03825137]\n",
            " [-0.19125683  0.01639344]\n",
            " [ 0.0273224  -0.19125683]]\n"
          ],
          "name": "stdout"
        }
      ]
    },
    {
      "cell_type": "markdown",
      "metadata": {
        "id": "8qGVLH5Clyc6"
      },
      "source": [
        "**LSTM MODEL**"
      ]
    },
    {
      "cell_type": "code",
      "metadata": {
        "id": "6zlsrXCll0di",
        "colab": {
          "base_uri": "https://localhost:8080/"
        },
        "outputId": "c83566d2-604a-40d0-8474-e9dd13e95599"
      },
      "source": [
        "x_train, y_train = train_set_scaled[:, 1:], train_set_scaled[:, 0:1]\n",
        "x_train = x_train.reshape(x_train.shape[0], 1, x_train.shape[1])\n",
        "\n",
        "x_test, y_test = test_set_scaled[:, 1:], test_set_scaled[:, 0:1]\n",
        "x_test = x_test.reshape(x_test.shape[0], 1, x_test.shape[1])\n",
        "\n",
        "print(x_train.shape)\n",
        "print(x_train)"
      ],
      "execution_count": 30,
      "outputs": [
        {
          "output_type": "stream",
          "text": [
            "(28, 1, 1)\n",
            "[[[ 0.19125683]]\n",
            "\n",
            " [[ 0.33333333]]\n",
            "\n",
            " [[ 0.61748634]]\n",
            "\n",
            " [[ 1.        ]]\n",
            "\n",
            " [[-0.09289617]]\n",
            "\n",
            " [[-0.27868852]]\n",
            "\n",
            " [[ 0.49726776]]\n",
            "\n",
            " [[ 0.07103825]]\n",
            "\n",
            " [[-0.12568306]]\n",
            "\n",
            " [[ 0.28961749]]\n",
            "\n",
            " [[ 0.44262295]]\n",
            "\n",
            " [[-0.46448087]]\n",
            "\n",
            " [[ 0.06010929]]\n",
            "\n",
            " [[ 0.36612022]]\n",
            "\n",
            " [[-0.23497268]]\n",
            "\n",
            " [[-0.27868852]]\n",
            "\n",
            " [[ 0.13661202]]\n",
            "\n",
            " [[-0.0273224 ]]\n",
            "\n",
            " [[-0.24590164]]\n",
            "\n",
            " [[ 0.49726776]]\n",
            "\n",
            " [[ 0.03825137]]\n",
            "\n",
            " [[ 0.10382514]]\n",
            "\n",
            " [[ 0.73770492]]\n",
            "\n",
            " [[-1.        ]]\n",
            "\n",
            " [[ 0.21311475]]\n",
            "\n",
            " [[ 0.28961749]]\n",
            "\n",
            " [[-0.28961749]]\n",
            "\n",
            " [[ 0.20218579]]]\n"
          ],
          "name": "stdout"
        }
      ]
    },
    {
      "cell_type": "code",
      "metadata": {
        "colab": {
          "base_uri": "https://localhost:8080/"
        },
        "id": "Zk1FgA0UQcWr",
        "outputId": "35418d1c-473b-415b-d47e-bbaf5e0dc21b"
      },
      "source": [
        "x_train.shape"
      ],
      "execution_count": 31,
      "outputs": [
        {
          "output_type": "execute_result",
          "data": {
            "text/plain": [
              "(28, 1, 1)"
            ]
          },
          "metadata": {
            "tags": []
          },
          "execution_count": 31
        }
      ]
    },
    {
      "cell_type": "code",
      "metadata": {
        "id": "XxOb-EMLl02G",
        "colab": {
          "base_uri": "https://localhost:8080/"
        },
        "outputId": "2032f7cc-7881-40a3-e569-a1795657a8a6"
      },
      "source": [
        "import tensorflow as tf\n",
        "\n",
        "model = tf.keras.models.Sequential([\n",
        "            tf.keras.layers.LSTM(128, activation=\"relu\", return_sequences=True, batch_input_shape=(1, x_train.shape[1], x_train.shape[2])),\n",
        "            tf.keras.layers.LSTM(64, activation=\"relu\"),\n",
        "            tf.keras.layers.Dense(1)\n",
        "        ])\n",
        "\n",
        "model.compile(loss=\"mean_squared_error\", optimizer=\"adam\")\n",
        "model.fit(x_train, y_train, epochs=100, batch_size=1, verbose=1)"
      ],
      "execution_count": 32,
      "outputs": [
        {
          "output_type": "stream",
          "text": [
            "Epoch 1/100\n",
            "28/28 [==============================] - 2s 3ms/step - loss: 0.2706\n",
            "Epoch 2/100\n",
            "28/28 [==============================] - 0s 2ms/step - loss: 0.1230\n",
            "Epoch 3/100\n",
            "28/28 [==============================] - 0s 3ms/step - loss: 0.1588\n",
            "Epoch 4/100\n",
            "28/28 [==============================] - 0s 2ms/step - loss: 0.1691\n",
            "Epoch 5/100\n",
            "28/28 [==============================] - 0s 3ms/step - loss: 0.1179\n",
            "Epoch 6/100\n",
            "28/28 [==============================] - 0s 2ms/step - loss: 0.1569\n",
            "Epoch 7/100\n",
            "28/28 [==============================] - 0s 3ms/step - loss: 0.1513\n",
            "Epoch 8/100\n",
            "28/28 [==============================] - 0s 3ms/step - loss: 0.1232\n",
            "Epoch 9/100\n",
            "28/28 [==============================] - 0s 3ms/step - loss: 0.1369\n",
            "Epoch 10/100\n",
            "28/28 [==============================] - 0s 3ms/step - loss: 0.2050\n",
            "Epoch 11/100\n",
            "28/28 [==============================] - 0s 2ms/step - loss: 0.1668\n",
            "Epoch 12/100\n",
            "28/28 [==============================] - 0s 2ms/step - loss: 0.1407\n",
            "Epoch 13/100\n",
            "28/28 [==============================] - 0s 2ms/step - loss: 0.1422\n",
            "Epoch 14/100\n",
            "28/28 [==============================] - 0s 2ms/step - loss: 0.2149\n",
            "Epoch 15/100\n",
            "28/28 [==============================] - 0s 3ms/step - loss: 0.1863\n",
            "Epoch 16/100\n",
            "28/28 [==============================] - 0s 3ms/step - loss: 0.1630\n",
            "Epoch 17/100\n",
            "28/28 [==============================] - 0s 3ms/step - loss: 0.1369\n",
            "Epoch 18/100\n",
            "28/28 [==============================] - 0s 3ms/step - loss: 0.2091\n",
            "Epoch 19/100\n",
            "28/28 [==============================] - 0s 3ms/step - loss: 0.0857\n",
            "Epoch 20/100\n",
            "28/28 [==============================] - 0s 3ms/step - loss: 0.2652\n",
            "Epoch 21/100\n",
            "28/28 [==============================] - 0s 2ms/step - loss: 0.2057\n",
            "Epoch 22/100\n",
            "28/28 [==============================] - 0s 2ms/step - loss: 0.1257\n",
            "Epoch 23/100\n",
            "28/28 [==============================] - 0s 3ms/step - loss: 0.1331\n",
            "Epoch 24/100\n",
            "28/28 [==============================] - 0s 3ms/step - loss: 0.1922\n",
            "Epoch 25/100\n",
            "28/28 [==============================] - 0s 3ms/step - loss: 0.2631\n",
            "Epoch 26/100\n",
            "28/28 [==============================] - 0s 3ms/step - loss: 0.1368\n",
            "Epoch 27/100\n",
            "28/28 [==============================] - 0s 3ms/step - loss: 0.1871\n",
            "Epoch 28/100\n",
            "28/28 [==============================] - 0s 2ms/step - loss: 0.1108\n",
            "Epoch 29/100\n",
            "28/28 [==============================] - 0s 2ms/step - loss: 0.1163\n",
            "Epoch 30/100\n",
            "28/28 [==============================] - 0s 3ms/step - loss: 0.1342\n",
            "Epoch 31/100\n",
            "28/28 [==============================] - 0s 2ms/step - loss: 0.2070\n",
            "Epoch 32/100\n",
            "28/28 [==============================] - 0s 3ms/step - loss: 0.2287\n",
            "Epoch 33/100\n",
            "28/28 [==============================] - 0s 3ms/step - loss: 0.0818\n",
            "Epoch 34/100\n",
            "28/28 [==============================] - 0s 3ms/step - loss: 0.1179\n",
            "Epoch 35/100\n",
            "28/28 [==============================] - 0s 2ms/step - loss: 0.1267\n",
            "Epoch 36/100\n",
            "28/28 [==============================] - 0s 3ms/step - loss: 0.1185\n",
            "Epoch 37/100\n",
            "28/28 [==============================] - 0s 3ms/step - loss: 0.1471\n",
            "Epoch 38/100\n",
            "28/28 [==============================] - 0s 3ms/step - loss: 0.1613\n",
            "Epoch 39/100\n",
            "28/28 [==============================] - 0s 3ms/step - loss: 0.0922\n",
            "Epoch 40/100\n",
            "28/28 [==============================] - 0s 2ms/step - loss: 0.1644\n",
            "Epoch 41/100\n",
            "28/28 [==============================] - 0s 2ms/step - loss: 0.1658\n",
            "Epoch 42/100\n",
            "28/28 [==============================] - 0s 2ms/step - loss: 0.1580\n",
            "Epoch 43/100\n",
            "28/28 [==============================] - 0s 2ms/step - loss: 0.1121\n",
            "Epoch 44/100\n",
            "28/28 [==============================] - 0s 2ms/step - loss: 0.1039\n",
            "Epoch 45/100\n",
            "28/28 [==============================] - 0s 2ms/step - loss: 0.1501\n",
            "Epoch 46/100\n",
            "28/28 [==============================] - 0s 2ms/step - loss: 0.1136\n",
            "Epoch 47/100\n",
            "28/28 [==============================] - 0s 3ms/step - loss: 0.2340\n",
            "Epoch 48/100\n",
            "28/28 [==============================] - 0s 3ms/step - loss: 0.1399\n",
            "Epoch 49/100\n",
            "28/28 [==============================] - 0s 3ms/step - loss: 0.1064\n",
            "Epoch 50/100\n",
            "28/28 [==============================] - 0s 2ms/step - loss: 0.1369\n",
            "Epoch 51/100\n",
            "28/28 [==============================] - 0s 2ms/step - loss: 0.1640\n",
            "Epoch 52/100\n",
            "28/28 [==============================] - 0s 3ms/step - loss: 0.1489\n",
            "Epoch 53/100\n",
            "28/28 [==============================] - 0s 2ms/step - loss: 0.1558\n",
            "Epoch 54/100\n",
            "28/28 [==============================] - 0s 2ms/step - loss: 0.2278\n",
            "Epoch 55/100\n",
            "28/28 [==============================] - 0s 3ms/step - loss: 0.1946\n",
            "Epoch 56/100\n",
            "28/28 [==============================] - 0s 3ms/step - loss: 0.1831\n",
            "Epoch 57/100\n",
            "28/28 [==============================] - 0s 2ms/step - loss: 0.1694\n",
            "Epoch 58/100\n",
            "28/28 [==============================] - 0s 3ms/step - loss: 0.1391\n",
            "Epoch 59/100\n",
            "28/28 [==============================] - 0s 2ms/step - loss: 0.1217\n",
            "Epoch 60/100\n",
            "28/28 [==============================] - 0s 3ms/step - loss: 0.1421\n",
            "Epoch 61/100\n",
            "28/28 [==============================] - 0s 2ms/step - loss: 0.1069\n",
            "Epoch 62/100\n",
            "28/28 [==============================] - 0s 3ms/step - loss: 0.2566\n",
            "Epoch 63/100\n",
            "28/28 [==============================] - 0s 2ms/step - loss: 0.1771\n",
            "Epoch 64/100\n",
            "28/28 [==============================] - 0s 2ms/step - loss: 0.1111\n",
            "Epoch 65/100\n",
            "28/28 [==============================] - 0s 2ms/step - loss: 0.0937\n",
            "Epoch 66/100\n",
            "28/28 [==============================] - 0s 3ms/step - loss: 0.1297\n",
            "Epoch 67/100\n",
            "28/28 [==============================] - 0s 3ms/step - loss: 0.1364\n",
            "Epoch 68/100\n",
            "28/28 [==============================] - 0s 2ms/step - loss: 0.2203\n",
            "Epoch 69/100\n",
            "28/28 [==============================] - 0s 3ms/step - loss: 0.1579\n",
            "Epoch 70/100\n",
            "28/28 [==============================] - 0s 3ms/step - loss: 0.1281\n",
            "Epoch 71/100\n",
            "28/28 [==============================] - 0s 3ms/step - loss: 0.1447\n",
            "Epoch 72/100\n",
            "28/28 [==============================] - 0s 3ms/step - loss: 0.1554\n",
            "Epoch 73/100\n",
            "28/28 [==============================] - 0s 3ms/step - loss: 0.1242\n",
            "Epoch 74/100\n",
            "28/28 [==============================] - 0s 3ms/step - loss: 0.2351\n",
            "Epoch 75/100\n",
            "28/28 [==============================] - 0s 3ms/step - loss: 0.1061\n",
            "Epoch 76/100\n",
            "28/28 [==============================] - 0s 3ms/step - loss: 0.1431\n",
            "Epoch 77/100\n",
            "28/28 [==============================] - 0s 2ms/step - loss: 0.1560\n",
            "Epoch 78/100\n",
            "28/28 [==============================] - 0s 2ms/step - loss: 0.1545\n",
            "Epoch 79/100\n",
            "28/28 [==============================] - 0s 3ms/step - loss: 0.0977\n",
            "Epoch 80/100\n",
            "28/28 [==============================] - 0s 3ms/step - loss: 0.1479\n",
            "Epoch 81/100\n",
            "28/28 [==============================] - 0s 3ms/step - loss: 0.1488\n",
            "Epoch 82/100\n",
            "28/28 [==============================] - 0s 2ms/step - loss: 0.0900\n",
            "Epoch 83/100\n",
            "28/28 [==============================] - 0s 3ms/step - loss: 0.1430\n",
            "Epoch 84/100\n",
            "28/28 [==============================] - 0s 3ms/step - loss: 0.1603\n",
            "Epoch 85/100\n",
            "28/28 [==============================] - 0s 3ms/step - loss: 0.1037\n",
            "Epoch 86/100\n",
            "28/28 [==============================] - 0s 3ms/step - loss: 0.0885\n",
            "Epoch 87/100\n",
            "28/28 [==============================] - 0s 3ms/step - loss: 0.1151\n",
            "Epoch 88/100\n",
            "28/28 [==============================] - 0s 3ms/step - loss: 0.0812\n",
            "Epoch 89/100\n",
            "28/28 [==============================] - 0s 2ms/step - loss: 0.1352\n",
            "Epoch 90/100\n",
            "28/28 [==============================] - 0s 3ms/step - loss: 0.1196\n",
            "Epoch 91/100\n",
            "28/28 [==============================] - 0s 3ms/step - loss: 0.2380\n",
            "Epoch 92/100\n",
            "28/28 [==============================] - 0s 3ms/step - loss: 0.1224\n",
            "Epoch 93/100\n",
            "28/28 [==============================] - 0s 3ms/step - loss: 0.1084\n",
            "Epoch 94/100\n",
            "28/28 [==============================] - 0s 3ms/step - loss: 0.1276\n",
            "Epoch 95/100\n",
            "28/28 [==============================] - 0s 3ms/step - loss: 0.2118\n",
            "Epoch 96/100\n",
            "28/28 [==============================] - 0s 2ms/step - loss: 0.1009\n",
            "Epoch 97/100\n",
            "28/28 [==============================] - 0s 3ms/step - loss: 0.1276\n",
            "Epoch 98/100\n",
            "28/28 [==============================] - 0s 2ms/step - loss: 0.1677\n",
            "Epoch 99/100\n",
            "28/28 [==============================] - 0s 3ms/step - loss: 0.1429\n",
            "Epoch 100/100\n",
            "28/28 [==============================] - 0s 3ms/step - loss: 0.1322\n"
          ],
          "name": "stdout"
        },
        {
          "output_type": "execute_result",
          "data": {
            "text/plain": [
              "<tensorflow.python.keras.callbacks.History at 0x7fd18d1d27d0>"
            ]
          },
          "metadata": {
            "tags": []
          },
          "execution_count": 32
        }
      ]
    },
    {
      "cell_type": "code",
      "metadata": {
        "id": "6BVW8jGhl4xV"
      },
      "source": [
        "y_pred = model.predict(x_test, batch_size=1)\n",
        "\n",
        "# for multistep prediction, you need to replace x_test values with the predictions coming from t-1"
      ],
      "execution_count": 33,
      "outputs": []
    },
    {
      "cell_type": "code",
      "metadata": {
        "id": "HZAxyI0KouSV",
        "colab": {
          "base_uri": "https://localhost:8080/"
        },
        "outputId": "71814239-2732-4909-8664-ffcdd2ee821b"
      },
      "source": [
        "y_pred"
      ],
      "execution_count": 34,
      "outputs": [
        {
          "output_type": "execute_result",
          "data": {
            "text/plain": [
              "array([[0.14648211],\n",
              "       [0.15251505],\n",
              "       [0.1456319 ],\n",
              "       [0.15147583],\n",
              "       [0.14938127],\n",
              "       [0.16103204]], dtype=float32)"
            ]
          },
          "metadata": {
            "tags": []
          },
          "execution_count": 34
        }
      ]
    },
    {
      "cell_type": "code",
      "metadata": {
        "id": "pbHCfEqmowtS",
        "colab": {
          "base_uri": "https://localhost:8080/"
        },
        "outputId": "73886ecf-2aef-47d1-f9f0-6a4d03d644bd"
      },
      "source": [
        "y_test"
      ],
      "execution_count": 35,
      "outputs": [
        {
          "output_type": "execute_result",
          "data": {
            "text/plain": [
              "array([[-0.06010929],\n",
              "       [ 0.1147541 ],\n",
              "       [-0.03825137],\n",
              "       [ 0.01639344],\n",
              "       [-0.19125683],\n",
              "       [ 0.0273224 ]])"
            ]
          },
          "metadata": {
            "tags": []
          },
          "execution_count": 35
        }
      ]
    },
    {
      "cell_type": "code",
      "metadata": {
        "id": "KA4F9w2hox22",
        "colab": {
          "base_uri": "https://localhost:8080/"
        },
        "outputId": "27c795d7-e727-4a8d-9528-7b84c26cccc7"
      },
      "source": [
        "#reshape y_pred\n",
        "y_pred = y_pred.reshape(y_pred.shape[0], 1, y_pred.shape[1])\n",
        "\n",
        "#rebuild test set for inverse transform\n",
        "pred_test_set = []\n",
        "\n",
        "for index in range(0,len(y_pred)):\n",
        "    print(np.concatenate([y_pred[index],x_test[index]],axis=1))\n",
        "    pred_test_set.append(np.concatenate([y_pred[index],x_test[index]],axis=1))\n",
        "\n",
        "#reshape pred_test_set\n",
        "pred_test_set = np.array(pred_test_set)\n",
        "pred_test_set = pred_test_set.reshape(pred_test_set.shape[0], pred_test_set.shape[2])\n",
        "\n",
        "#inverse transform\n",
        "pred_test_set_inverted = scaler.inverse_transform(pred_test_set)"
      ],
      "execution_count": 36,
      "outputs": [
        {
          "output_type": "stream",
          "text": [
            "[[0.14648211 0.09289617]]\n",
            "[[ 0.15251505 -0.06010929]]\n",
            "[[0.14563189 0.1147541 ]]\n",
            "[[ 0.15147583 -0.03825137]]\n",
            "[[0.14938127 0.01639344]]\n",
            "[[ 0.16103204 -0.19125683]]\n"
          ],
          "name": "stdout"
        }
      ]
    },
    {
      "cell_type": "code",
      "metadata": {
        "id": "_MI3_p_Bo2CX"
      },
      "source": [
        "#create dataframe that shows the predicted sales\n",
        "result_list = []\n",
        "sales_dates = list(df_monthly_sum[-7:].date)\n",
        "act_sales = list(df_monthly_sum[-7:].item_sales)\n",
        "for index in range(0,len(pred_test_set_inverted)):\n",
        "    result_dict = {}\n",
        "    result_dict['pred_value'] = int(pred_test_set_inverted[index][0] + act_sales[index])\n",
        "    result_dict['date'] = sales_dates[index+1]\n",
        "    result_list.append(result_dict)\n",
        "df_result = pd.DataFrame(result_list)\n",
        "#for multistep prediction, replace act_sales with the predicted sales"
      ],
      "execution_count": 37,
      "outputs": []
    },
    {
      "cell_type": "code",
      "metadata": {
        "id": "n5VvAy8Fo4Cm",
        "colab": {
          "base_uri": "https://localhost:8080/",
          "height": 225
        },
        "outputId": "882fb4eb-604a-41b9-d828-43ae00e34702"
      },
      "source": [
        "df_result.head(6)"
      ],
      "execution_count": 38,
      "outputs": [
        {
          "output_type": "execute_result",
          "data": {
            "text/html": [
              "<div>\n",
              "<style scoped>\n",
              "    .dataframe tbody tr th:only-of-type {\n",
              "        vertical-align: middle;\n",
              "    }\n",
              "\n",
              "    .dataframe tbody tr th {\n",
              "        vertical-align: top;\n",
              "    }\n",
              "\n",
              "    .dataframe thead th {\n",
              "        text-align: right;\n",
              "    }\n",
              "</style>\n",
              "<table border=\"1\" class=\"dataframe\">\n",
              "  <thead>\n",
              "    <tr style=\"text-align: right;\">\n",
              "      <th></th>\n",
              "      <th>pred_value</th>\n",
              "      <th>date</th>\n",
              "    </tr>\n",
              "  </thead>\n",
              "  <tbody>\n",
              "    <tr>\n",
              "      <th>0</th>\n",
              "      <td>90</td>\n",
              "      <td>2015-07-01</td>\n",
              "    </tr>\n",
              "    <tr>\n",
              "      <th>1</th>\n",
              "      <td>77</td>\n",
              "      <td>2015-08-01</td>\n",
              "    </tr>\n",
              "    <tr>\n",
              "      <th>2</th>\n",
              "      <td>78</td>\n",
              "      <td>2015-09-01</td>\n",
              "    </tr>\n",
              "    <tr>\n",
              "      <th>3</th>\n",
              "      <td>67</td>\n",
              "      <td>2015-10-01</td>\n",
              "    </tr>\n",
              "    <tr>\n",
              "      <th>4</th>\n",
              "      <td>60</td>\n",
              "      <td>2015-11-01</td>\n",
              "    </tr>\n",
              "    <tr>\n",
              "      <th>5</th>\n",
              "      <td>35</td>\n",
              "      <td>2015-12-01</td>\n",
              "    </tr>\n",
              "  </tbody>\n",
              "</table>\n",
              "</div>"
            ],
            "text/plain": [
              "   pred_value       date\n",
              "0          90 2015-07-01\n",
              "1          77 2015-08-01\n",
              "2          78 2015-09-01\n",
              "3          67 2015-10-01\n",
              "4          60 2015-11-01\n",
              "5          35 2015-12-01"
            ]
          },
          "metadata": {
            "tags": []
          },
          "execution_count": 38
        }
      ]
    },
    {
      "cell_type": "code",
      "metadata": {
        "colab": {
          "base_uri": "https://localhost:8080/",
          "height": 225
        },
        "id": "1q6D3a4JNcXh",
        "outputId": "14ae1cc0-681d-4e5b-f902-5948e2a773a4"
      },
      "source": [
        "df_diff.tail(6)"
      ],
      "execution_count": 39,
      "outputs": [
        {
          "output_type": "execute_result",
          "data": {
            "text/html": [
              "<div>\n",
              "<style scoped>\n",
              "    .dataframe tbody tr th:only-of-type {\n",
              "        vertical-align: middle;\n",
              "    }\n",
              "\n",
              "    .dataframe tbody tr th {\n",
              "        vertical-align: top;\n",
              "    }\n",
              "\n",
              "    .dataframe thead th {\n",
              "        text-align: right;\n",
              "    }\n",
              "</style>\n",
              "<table border=\"1\" class=\"dataframe\">\n",
              "  <thead>\n",
              "    <tr style=\"text-align: right;\">\n",
              "      <th></th>\n",
              "      <th>date</th>\n",
              "      <th>item_sales</th>\n",
              "      <th>prev_sales</th>\n",
              "      <th>diff</th>\n",
              "    </tr>\n",
              "  </thead>\n",
              "  <tbody>\n",
              "    <tr>\n",
              "      <th>30</th>\n",
              "      <td>2015-07-01</td>\n",
              "      <td>72.0</td>\n",
              "      <td>86.0</td>\n",
              "      <td>-14.0</td>\n",
              "    </tr>\n",
              "    <tr>\n",
              "      <th>31</th>\n",
              "      <td>2015-08-01</td>\n",
              "      <td>74.0</td>\n",
              "      <td>72.0</td>\n",
              "      <td>2.0</td>\n",
              "    </tr>\n",
              "    <tr>\n",
              "      <th>32</th>\n",
              "      <td>2015-09-01</td>\n",
              "      <td>62.0</td>\n",
              "      <td>74.0</td>\n",
              "      <td>-12.0</td>\n",
              "    </tr>\n",
              "    <tr>\n",
              "      <th>33</th>\n",
              "      <td>2015-10-01</td>\n",
              "      <td>55.0</td>\n",
              "      <td>62.0</td>\n",
              "      <td>-7.0</td>\n",
              "    </tr>\n",
              "    <tr>\n",
              "      <th>34</th>\n",
              "      <td>2015-11-01</td>\n",
              "      <td>29.0</td>\n",
              "      <td>55.0</td>\n",
              "      <td>-26.0</td>\n",
              "    </tr>\n",
              "    <tr>\n",
              "      <th>35</th>\n",
              "      <td>2015-12-01</td>\n",
              "      <td>23.0</td>\n",
              "      <td>29.0</td>\n",
              "      <td>-6.0</td>\n",
              "    </tr>\n",
              "  </tbody>\n",
              "</table>\n",
              "</div>"
            ],
            "text/plain": [
              "         date  item_sales  prev_sales  diff\n",
              "30 2015-07-01        72.0        86.0 -14.0\n",
              "31 2015-08-01        74.0        72.0   2.0\n",
              "32 2015-09-01        62.0        74.0 -12.0\n",
              "33 2015-10-01        55.0        62.0  -7.0\n",
              "34 2015-11-01        29.0        55.0 -26.0\n",
              "35 2015-12-01        23.0        29.0  -6.0"
            ]
          },
          "metadata": {
            "tags": []
          },
          "execution_count": 39
        }
      ]
    },
    {
      "cell_type": "code",
      "metadata": {
        "id": "k9uNp1AepI2M",
        "colab": {
          "base_uri": "https://localhost:8080/",
          "height": 374
        },
        "outputId": "4a4f6cb3-a77f-432a-eb1e-9c6411b4e47d"
      },
      "source": [
        "df_sales_pred = pd.merge(df_monthly_sum, df_result, on=\"date\", how=\"left\")\n",
        "\n",
        "plt.rc(\"font\", size=12)\n",
        "fig, ax = plt.subplots(figsize=(10,5))\n",
        "\n",
        "# specify how our line should look like\n",
        "ax.plot(df_sales_pred['date'], df_sales_pred['item_sales'], label=\"actual\")\n",
        "ax.plot(df_sales_pred['date'], df_sales_pred['pred_value'], label=\"predicted\")\n",
        "\n",
        "# same as above\n",
        "ax.set_xlabel(\"date\")\n",
        "ax.set_ylabel(\"sales\")\n",
        "ax.set_title(\"Sales Prediction\")\n",
        "ax.grid(True)\n",
        "ax.legend(loc=\"upper left\")\n",
        "\n"
      ],
      "execution_count": 41,
      "outputs": [
        {
          "output_type": "execute_result",
          "data": {
            "text/plain": [
              "<matplotlib.legend.Legend at 0x7fd18d228d50>"
            ]
          },
          "metadata": {
            "tags": []
          },
          "execution_count": 41
        },
        {
          "output_type": "display_data",
          "data": {
            "image/png": "[encoded data removed]",
            "text/plain": [
              "<Figure size 720x360 with 1 Axes>"
            ]
          },
          "metadata": {
            "tags": [],
            "needs_background": "light"
          }
        }
      ]
    },
    {
      "cell_type": "code",
      "metadata": {
        "id": "ybFbEjBZtT3_"
      },
      "source": [
        ""
      ],
      "execution_count": 40,
      "outputs": []
    }
  ]
}