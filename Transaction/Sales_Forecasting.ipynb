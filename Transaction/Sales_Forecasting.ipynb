{
 "cells": [
  {
   "cell_type": "markdown",
   "metadata": {},
   "source": [
    "### 1. Import Required Packages"
   ]
  },
  {
   "cell_type": "code",
   "execution_count": 1,
   "metadata": {},
   "outputs": [
    {
     "name": "stderr",
     "output_type": "stream",
     "text": [
      "C:\\Users\\ASUS\\Anaconda3\\lib\\site-packages\\tensorflow\\python\\framework\\dtypes.py:523: FutureWarning: Passing (type, 1) or '1type' as a synonym of type is deprecated; in a future version of numpy, it will be understood as (type, (1,)) / '(1,)type'.\n",
      "  _np_qint8 = np.dtype([(\"qint8\", np.int8, 1)])\n",
      "C:\\Users\\ASUS\\Anaconda3\\lib\\site-packages\\tensorflow\\python\\framework\\dtypes.py:524: FutureWarning: Passing (type, 1) or '1type' as a synonym of type is deprecated; in a future version of numpy, it will be understood as (type, (1,)) / '(1,)type'.\n",
      "  _np_quint8 = np.dtype([(\"quint8\", np.uint8, 1)])\n",
      "C:\\Users\\ASUS\\Anaconda3\\lib\\site-packages\\tensorflow\\python\\framework\\dtypes.py:525: FutureWarning: Passing (type, 1) or '1type' as a synonym of type is deprecated; in a future version of numpy, it will be understood as (type, (1,)) / '(1,)type'.\n",
      "  _np_qint16 = np.dtype([(\"qint16\", np.int16, 1)])\n",
      "C:\\Users\\ASUS\\Anaconda3\\lib\\site-packages\\tensorflow\\python\\framework\\dtypes.py:526: FutureWarning: Passing (type, 1) or '1type' as a synonym of type is deprecated; in a future version of numpy, it will be understood as (type, (1,)) / '(1,)type'.\n",
      "  _np_quint16 = np.dtype([(\"quint16\", np.uint16, 1)])\n",
      "C:\\Users\\ASUS\\Anaconda3\\lib\\site-packages\\tensorflow\\python\\framework\\dtypes.py:527: FutureWarning: Passing (type, 1) or '1type' as a synonym of type is deprecated; in a future version of numpy, it will be understood as (type, (1,)) / '(1,)type'.\n",
      "  _np_qint32 = np.dtype([(\"qint32\", np.int32, 1)])\n",
      "C:\\Users\\ASUS\\Anaconda3\\lib\\site-packages\\tensorflow\\python\\framework\\dtypes.py:532: FutureWarning: Passing (type, 1) or '1type' as a synonym of type is deprecated; in a future version of numpy, it will be understood as (type, (1,)) / '(1,)type'.\n",
      "  np_resource = np.dtype([(\"resource\", np.ubyte, 1)])\n",
      "C:\\Users\\ASUS\\Anaconda3\\lib\\site-packages\\tensorboard\\compat\\tensorflow_stub\\dtypes.py:541: FutureWarning: Passing (type, 1) or '1type' as a synonym of type is deprecated; in a future version of numpy, it will be understood as (type, (1,)) / '(1,)type'.\n",
      "  _np_qint8 = np.dtype([(\"qint8\", np.int8, 1)])\n",
      "C:\\Users\\ASUS\\Anaconda3\\lib\\site-packages\\tensorboard\\compat\\tensorflow_stub\\dtypes.py:542: FutureWarning: Passing (type, 1) or '1type' as a synonym of type is deprecated; in a future version of numpy, it will be understood as (type, (1,)) / '(1,)type'.\n",
      "  _np_quint8 = np.dtype([(\"quint8\", np.uint8, 1)])\n",
      "C:\\Users\\ASUS\\Anaconda3\\lib\\site-packages\\tensorboard\\compat\\tensorflow_stub\\dtypes.py:543: FutureWarning: Passing (type, 1) or '1type' as a synonym of type is deprecated; in a future version of numpy, it will be understood as (type, (1,)) / '(1,)type'.\n",
      "  _np_qint16 = np.dtype([(\"qint16\", np.int16, 1)])\n",
      "C:\\Users\\ASUS\\Anaconda3\\lib\\site-packages\\tensorboard\\compat\\tensorflow_stub\\dtypes.py:544: FutureWarning: Passing (type, 1) or '1type' as a synonym of type is deprecated; in a future version of numpy, it will be understood as (type, (1,)) / '(1,)type'.\n",
      "  _np_quint16 = np.dtype([(\"quint16\", np.uint16, 1)])\n",
      "C:\\Users\\ASUS\\Anaconda3\\lib\\site-packages\\tensorboard\\compat\\tensorflow_stub\\dtypes.py:545: FutureWarning: Passing (type, 1) or '1type' as a synonym of type is deprecated; in a future version of numpy, it will be understood as (type, (1,)) / '(1,)type'.\n",
      "  _np_qint32 = np.dtype([(\"qint32\", np.int32, 1)])\n",
      "C:\\Users\\ASUS\\Anaconda3\\lib\\site-packages\\tensorboard\\compat\\tensorflow_stub\\dtypes.py:550: FutureWarning: Passing (type, 1) or '1type' as a synonym of type is deprecated; in a future version of numpy, it will be understood as (type, (1,)) / '(1,)type'.\n",
      "  np_resource = np.dtype([(\"resource\", np.ubyte, 1)])\n"
     ]
    }
   ],
   "source": [
    "import math\n",
    "import json\n",
    "import pandas as pd\n",
    "import numpy as np\n",
    "import tensorflow as tf\n",
    "import matplotlib.pyplot as plt"
   ]
  },
  {
   "cell_type": "markdown",
   "metadata": {},
   "source": [
    "### 2. Read dataset from exported json file"
   ]
  },
  {
   "cell_type": "code",
   "execution_count": 2,
   "metadata": {},
   "outputs": [
    {
     "name": "stdout",
     "output_type": "stream",
     "text": [
      "(6568, 2)\n"
     ]
    },
    {
     "data": {
      "text/html": [
       "<div>\n",
       "<style scoped>\n",
       "    .dataframe tbody tr th:only-of-type {\n",
       "        vertical-align: middle;\n",
       "    }\n",
       "\n",
       "    .dataframe tbody tr th {\n",
       "        vertical-align: top;\n",
       "    }\n",
       "\n",
       "    .dataframe thead th {\n",
       "        text-align: right;\n",
       "    }\n",
       "</style>\n",
       "<table border=\"1\" class=\"dataframe\">\n",
       "  <thead>\n",
       "    <tr style=\"text-align: right;\">\n",
       "      <th></th>\n",
       "      <th>daily_sales</th>\n",
       "      <th>date</th>\n",
       "    </tr>\n",
       "  </thead>\n",
       "  <tbody>\n",
       "    <tr>\n",
       "      <th>0</th>\n",
       "      <td>125</td>\n",
       "      <td>2015-01-12</td>\n",
       "    </tr>\n",
       "    <tr>\n",
       "      <th>1</th>\n",
       "      <td>70</td>\n",
       "      <td>2015-02-12</td>\n",
       "    </tr>\n",
       "    <tr>\n",
       "      <th>2</th>\n",
       "      <td>41</td>\n",
       "      <td>2015-03-12</td>\n",
       "    </tr>\n",
       "    <tr>\n",
       "      <th>3</th>\n",
       "      <td>62</td>\n",
       "      <td>2015-04-12</td>\n",
       "    </tr>\n",
       "    <tr>\n",
       "      <th>4</th>\n",
       "      <td>50</td>\n",
       "      <td>2015-05-12</td>\n",
       "    </tr>\n",
       "  </tbody>\n",
       "</table>\n",
       "</div>"
      ],
      "text/plain": [
       "   daily_sales        date\n",
       "0          125  2015-01-12\n",
       "1           70  2015-02-12\n",
       "2           41  2015-03-12\n",
       "3           62  2015-04-12\n",
       "4           50  2015-05-12"
      ]
     },
     "execution_count": 2,
     "metadata": {},
     "output_type": "execute_result"
    }
   ],
   "source": [
    "df = pd.read_json('C:/Users/ASUS/BANGKIT/TokoLitik/data.json')\n",
    "df[\"date\"] = df[\"date\"].dt.date\n",
    "print(df.shape)\n",
    "df.head()"
   ]
  },
  {
   "cell_type": "markdown",
   "metadata": {},
   "source": [
    "### 3. Data Preprocessing\n",
    "\n",
    "#### - PREPARE DATA"
   ]
  },
  {
   "cell_type": "code",
   "execution_count": 3,
   "metadata": {},
   "outputs": [],
   "source": [
    "productFile = open(\"C:/Users/ASUS/BANGKIT/TokoLitik/product.json\")\n",
    "product = json.load(productFile)\n",
    "\n",
    "transactionFile = open(\"C:/Users/ASUS/BANGKIT/TokoLitik/transaction.json\")\n",
    "transaction = json.load(transactionFile)"
   ]
  },
  {
   "cell_type": "code",
   "execution_count": 4,
   "metadata": {},
   "outputs": [],
   "source": [
    "#change date field into datetime format\n",
    "\n",
    "df[\"date\"] = pd.to_datetime(df[\"date\"])"
   ]
  },
  {
   "cell_type": "code",
   "execution_count": 5,
   "metadata": {},
   "outputs": [
    {
     "name": "stdout",
     "output_type": "stream",
     "text": [
      "Total rows:  6568\n"
     ]
    },
    {
     "data": {
      "text/html": [
       "<div>\n",
       "<style scoped>\n",
       "    .dataframe tbody tr th:only-of-type {\n",
       "        vertical-align: middle;\n",
       "    }\n",
       "\n",
       "    .dataframe tbody tr th {\n",
       "        vertical-align: top;\n",
       "    }\n",
       "\n",
       "    .dataframe thead th {\n",
       "        text-align: right;\n",
       "    }\n",
       "</style>\n",
       "<table border=\"1\" class=\"dataframe\">\n",
       "  <thead>\n",
       "    <tr style=\"text-align: right;\">\n",
       "      <th></th>\n",
       "      <th>daily_sales</th>\n",
       "      <th>date</th>\n",
       "    </tr>\n",
       "  </thead>\n",
       "  <tbody>\n",
       "    <tr>\n",
       "      <th>0</th>\n",
       "      <td>125</td>\n",
       "      <td>2015-01-01</td>\n",
       "    </tr>\n",
       "    <tr>\n",
       "      <th>1</th>\n",
       "      <td>70</td>\n",
       "      <td>2015-02-01</td>\n",
       "    </tr>\n",
       "    <tr>\n",
       "      <th>2</th>\n",
       "      <td>41</td>\n",
       "      <td>2015-03-01</td>\n",
       "    </tr>\n",
       "    <tr>\n",
       "      <th>3</th>\n",
       "      <td>62</td>\n",
       "      <td>2015-04-01</td>\n",
       "    </tr>\n",
       "    <tr>\n",
       "      <th>4</th>\n",
       "      <td>50</td>\n",
       "      <td>2015-05-01</td>\n",
       "    </tr>\n",
       "  </tbody>\n",
       "</table>\n",
       "</div>"
      ],
      "text/plain": [
       "   daily_sales       date\n",
       "0          125 2015-01-01\n",
       "1           70 2015-02-01\n",
       "2           41 2015-03-01\n",
       "3           62 2015-04-01\n",
       "4           50 2015-05-01"
      ]
     },
     "execution_count": 5,
     "metadata": {},
     "output_type": "execute_result"
    }
   ],
   "source": [
    "# change every data in date field as the first date of each month for plotting the monthly sales\n",
    "df_temp = df.copy()\n",
    "df_temp[\"date\"] = df_temp[\"date\"].dt.year.astype(\"str\") + '-' + df[\"date\"].dt.month.astype(\"str\") + '-01'\n",
    "df_temp['date'] = pd.to_datetime(df_temp['date'])\n",
    "print(\"Total rows: \", df_temp.shape[0])\n",
    "df_temp.head()"
   ]
  },
  {
   "cell_type": "markdown",
   "metadata": {},
   "source": [
    "#### - Change Daily Sales Data into Monthly Sales"
   ]
  },
  {
   "cell_type": "code",
   "execution_count": 6,
   "metadata": {},
   "outputs": [
    {
     "name": "stdout",
     "output_type": "stream",
     "text": [
      "Total rows:  72\n",
      "         date  monthly_sales\n",
      "0  2015-01-01           8371\n",
      "1  2015-02-01           7642\n",
      "2  2015-03-01           8224\n",
      "3  2015-04-01           8247\n",
      "4  2015-05-01           8466\n",
      "5  2015-06-01           7477\n",
      "6  2015-07-01           6524\n",
      "7  2015-08-01           5153\n",
      "8  2015-09-01           4186\n",
      "9  2015-10-01           2699\n",
      "10 2015-11-01           2248\n",
      "11 2015-12-01           1139\n",
      "12 2016-01-01           9292\n",
      "13 2016-02-01           9619\n",
      "14 2016-03-01           8683\n",
      "15 2016-04-01           9268\n",
      "16 2016-05-01           9013\n",
      "17 2016-06-01           8859\n",
      "18 2016-07-01           8184\n",
      "19 2016-08-01           7434\n",
      "20 2016-09-01           6427\n",
      "21 2016-10-01           4971\n",
      "22 2016-11-01           2953\n",
      "23 2016-12-01           1145\n",
      "24 2017-01-01           9521\n",
      "25 2017-02-01           9782\n",
      "26 2017-03-01          10069\n",
      "27 2017-04-01          10372\n",
      "28 2017-05-01           9297\n",
      "29 2017-06-01           9555\n",
      "30 2017-07-01           7393\n",
      "31 2017-08-01           6531\n",
      "32 2017-09-01           5009\n",
      "33 2017-10-01           3448\n",
      "34 2017-11-01           1704\n",
      "35 2017-12-01            953\n",
      "36 2018-01-01           9973\n",
      "37 2018-02-01           9102\n",
      "38 2018-03-01           9111\n",
      "39 2018-04-01           9196\n",
      "40 2018-05-01           9308\n",
      "41 2018-06-01           7853\n",
      "42 2018-07-01           7292\n",
      "43 2018-08-01           6301\n",
      "44 2018-09-01           5017\n",
      "45 2018-10-01           3538\n",
      "46 2018-11-01           2399\n",
      "47 2018-12-01           1189\n",
      "48 2019-01-01          12189\n",
      "49 2019-02-01          12566\n",
      "50 2019-03-01          11583\n",
      "51 2019-04-01          12029\n",
      "52 2019-05-01          12008\n",
      "53 2019-06-01          10502\n",
      "54 2019-07-01           9277\n",
      "55 2019-08-01           8533\n",
      "56 2019-09-01           6544\n",
      "57 2019-10-01           4837\n",
      "58 2019-11-01           3466\n",
      "59 2019-12-01           1968\n",
      "60 2020-01-01           8543\n",
      "61 2020-02-01           8156\n",
      "62 2020-03-01           7999\n",
      "63 2020-04-01           7650\n",
      "64 2020-05-01           8236\n",
      "65 2020-06-01           7714\n",
      "66 2020-07-01           5819\n",
      "67 2020-08-01           5556\n",
      "68 2020-09-01           4315\n",
      "69 2020-10-01           3227\n",
      "70 2020-11-01           2132\n",
      "71 2020-12-01            884\n"
     ]
    }
   ],
   "source": [
    "# groupby date and sum the sales item\n",
    "df_monthly = df_temp.copy()\n",
    "df_monthly = df_monthly.groupby('date').daily_sales.sum().reset_index()\n",
    "df_monthly.rename(columns={'daily_sales':'monthly_sales'}, inplace=True)\n",
    "print(\"Total rows: \", df_monthly.shape[0])\n",
    "\n",
    "# print all rows in dataframe\n",
    "pd.set_option(\"display.max_rows\", None, \"display.max_columns\", None)\n",
    "print(df_monthly)"
   ]
  },
  {
   "cell_type": "markdown",
   "metadata": {},
   "source": [
    "#### - Plot Monthly Sales Data"
   ]
  },
  {
   "cell_type": "code",
   "execution_count": 7,
   "metadata": {},
   "outputs": [
    {
     "data": {
      "text/plain": [
       "<matplotlib.legend.Legend at 0x1f407e09b38>"
      ]
     },
     "execution_count": 7,
     "metadata": {},
     "output_type": "execute_result"
    },
    {
     "data": {
      "image/png": "[encoded data removed]",
      "text/plain": [
       "<Figure size 1440x360 with 1 Axes>"
      ]
     },
     "metadata": {
      "needs_background": "light"
     },
     "output_type": "display_data"
    }
   ],
   "source": [
    "plt.rc(\"font\", size=12)\n",
    "fig, ax = plt.subplots(figsize=(20,5))\n",
    "\n",
    "# specify how our line should look like\n",
    "ax.plot(df_monthly['date'], df_monthly['monthly_sales'], label=\"monthly_sales\")\n",
    "\n",
    "# same as above\n",
    "ax.set_xlabel(\"date\")\n",
    "ax.set_ylabel(\"monthly_sales\")\n",
    "ax.set_title(\"Monthly Sales of {}\".format(product[\"productName\"]))\n",
    "ax.grid(True)\n",
    "ax.legend(loc=\"upper left\")"
   ]
  },
  {
   "cell_type": "markdown",
   "metadata": {},
   "source": [
    "#### - Data Transformation\n",
    "\n",
    "As we can see, the data in the previous graph is not stationary yet and has a decreasing trend in the last few months. Here, we are using difference method to make the data stationary\n",
    "\n",
    "##### Ide dasar dari stasioneritas adalah hukum probabilitas mengharuskan proses tidak berubah sepanjang waktu, dengan kata lain proses dalam keadaan setimbang secara statistik (Cryer, 1986). Sekumpulan data dinyatakan stasioner jika nilai rata-rata dan varian dari data time series tersebut tidak mengalami perubahan secara sistematik sepanjang waktu, atau sebagian ahli menyatakan rata-rata dan variannya konstan (nachrowi dan haridus usman, 2006)."
   ]
  },
  {
   "cell_type": "code",
   "execution_count": 8,
   "metadata": {},
   "outputs": [],
   "source": [
    "# create a new dataframe to model the difference\n",
    "df_diff = df_monthly.copy()\n",
    "\n",
    "# implement the difference technique\n",
    "df_diff[\"prev_month_sales\"] = df_diff['monthly_sales'].shift(1)\n",
    "\n",
    "# drop the null values and calculate the difference \n",
    "df_diff = df_diff.dropna()\n",
    "df_diff['diff'] = (df_diff['monthly_sales'] - df_diff['prev_month_sales'])"
   ]
  },
  {
   "cell_type": "code",
   "execution_count": 9,
   "metadata": {},
   "outputs": [
    {
     "name": "stdout",
     "output_type": "stream",
     "text": [
      "(71, 4)\n"
     ]
    },
    {
     "data": {
      "text/html": [
       "<div>\n",
       "<style scoped>\n",
       "    .dataframe tbody tr th:only-of-type {\n",
       "        vertical-align: middle;\n",
       "    }\n",
       "\n",
       "    .dataframe tbody tr th {\n",
       "        vertical-align: top;\n",
       "    }\n",
       "\n",
       "    .dataframe thead th {\n",
       "        text-align: right;\n",
       "    }\n",
       "</style>\n",
       "<table border=\"1\" class=\"dataframe\">\n",
       "  <thead>\n",
       "    <tr style=\"text-align: right;\">\n",
       "      <th></th>\n",
       "      <th>date</th>\n",
       "      <th>monthly_sales</th>\n",
       "      <th>prev_month_sales</th>\n",
       "      <th>diff</th>\n",
       "    </tr>\n",
       "  </thead>\n",
       "  <tbody>\n",
       "    <tr>\n",
       "      <th>1</th>\n",
       "      <td>2015-02-01</td>\n",
       "      <td>7642</td>\n",
       "      <td>8371.0</td>\n",
       "      <td>-729.0</td>\n",
       "    </tr>\n",
       "    <tr>\n",
       "      <th>2</th>\n",
       "      <td>2015-03-01</td>\n",
       "      <td>8224</td>\n",
       "      <td>7642.0</td>\n",
       "      <td>582.0</td>\n",
       "    </tr>\n",
       "    <tr>\n",
       "      <th>3</th>\n",
       "      <td>2015-04-01</td>\n",
       "      <td>8247</td>\n",
       "      <td>8224.0</td>\n",
       "      <td>23.0</td>\n",
       "    </tr>\n",
       "    <tr>\n",
       "      <th>4</th>\n",
       "      <td>2015-05-01</td>\n",
       "      <td>8466</td>\n",
       "      <td>8247.0</td>\n",
       "      <td>219.0</td>\n",
       "    </tr>\n",
       "    <tr>\n",
       "      <th>5</th>\n",
       "      <td>2015-06-01</td>\n",
       "      <td>7477</td>\n",
       "      <td>8466.0</td>\n",
       "      <td>-989.0</td>\n",
       "    </tr>\n",
       "  </tbody>\n",
       "</table>\n",
       "</div>"
      ],
      "text/plain": [
       "        date  monthly_sales  prev_month_sales   diff\n",
       "1 2015-02-01           7642            8371.0 -729.0\n",
       "2 2015-03-01           8224            7642.0  582.0\n",
       "3 2015-04-01           8247            8224.0   23.0\n",
       "4 2015-05-01           8466            8247.0  219.0\n",
       "5 2015-06-01           7477            8466.0 -989.0"
      ]
     },
     "execution_count": 9,
     "metadata": {},
     "output_type": "execute_result"
    }
   ],
   "source": [
    "print(df_diff.shape)\n",
    "df_diff.head()"
   ]
  },
  {
   "cell_type": "markdown",
   "metadata": {},
   "source": [
    "#### - Plot Stationary Data"
   ]
  },
  {
   "cell_type": "code",
   "execution_count": 10,
   "metadata": {},
   "outputs": [
    {
     "data": {
      "text/plain": [
       "<matplotlib.legend.Legend at 0x1f407ee7668>"
      ]
     },
     "execution_count": 10,
     "metadata": {},
     "output_type": "execute_result"
    },
    {
     "data": {
      "image/png": "[encoded data removed]",
      "text/plain": [
       "<Figure size 720x360 with 1 Axes>"
      ]
     },
     "metadata": {
      "needs_background": "light"
     },
     "output_type": "display_data"
    }
   ],
   "source": [
    "plt.rc(\"font\", size=12)\n",
    "fig, ax = plt.subplots(figsize=(10,5))\n",
    "\n",
    "# specify how our line should look like\n",
    "ax.plot(df_diff['date'], df_diff['diff'], label=\"diff\")\n",
    "\n",
    "# same as above\n",
    "ax.set_xlabel(\"date\")\n",
    "ax.set_ylabel(\"diff\")\n",
    "ax.set_title(\"Monthly Sales Diff\")\n",
    "ax.grid(True)\n",
    "ax.legend(loc=\"upper left\")\n"
   ]
  },
  {
   "cell_type": "markdown",
   "metadata": {},
   "source": [
    "As we can see, the graph looks stationary after differentiating. Next we need to use our previous monthly sales data to predict the next ones. I'll use 12 look-back period for this sample"
   ]
  },
  {
   "cell_type": "code",
   "execution_count": 259,
   "metadata": {},
   "outputs": [
    {
     "name": "stdout",
     "output_type": "stream",
     "text": [
      "(59, 15)\n"
     ]
    },
    {
     "data": {
      "text/html": [
       "<div>\n",
       "<style scoped>\n",
       "    .dataframe tbody tr th:only-of-type {\n",
       "        vertical-align: middle;\n",
       "    }\n",
       "\n",
       "    .dataframe tbody tr th {\n",
       "        vertical-align: top;\n",
       "    }\n",
       "\n",
       "    .dataframe thead th {\n",
       "        text-align: right;\n",
       "    }\n",
       "</style>\n",
       "<table border=\"1\" class=\"dataframe\">\n",
       "  <thead>\n",
       "    <tr style=\"text-align: right;\">\n",
       "      <th></th>\n",
       "      <th>date</th>\n",
       "      <th>monthly_sales</th>\n",
       "      <th>diff</th>\n",
       "      <th>lag_1</th>\n",
       "      <th>lag_2</th>\n",
       "      <th>lag_3</th>\n",
       "      <th>lag_4</th>\n",
       "      <th>lag_5</th>\n",
       "      <th>lag_6</th>\n",
       "      <th>lag_7</th>\n",
       "      <th>lag_8</th>\n",
       "      <th>lag_9</th>\n",
       "      <th>lag_10</th>\n",
       "      <th>lag_11</th>\n",
       "      <th>lag_12</th>\n",
       "    </tr>\n",
       "  </thead>\n",
       "  <tbody>\n",
       "    <tr>\n",
       "      <th>0</th>\n",
       "      <td>2016-02-01</td>\n",
       "      <td>9619</td>\n",
       "      <td>327.0</td>\n",
       "      <td>8153.0</td>\n",
       "      <td>-1109.0</td>\n",
       "      <td>-451.0</td>\n",
       "      <td>-1487.0</td>\n",
       "      <td>-967.0</td>\n",
       "      <td>-1371.0</td>\n",
       "      <td>-953.0</td>\n",
       "      <td>-989.0</td>\n",
       "      <td>219.0</td>\n",
       "      <td>23.0</td>\n",
       "      <td>582.0</td>\n",
       "      <td>-729.0</td>\n",
       "    </tr>\n",
       "    <tr>\n",
       "      <th>1</th>\n",
       "      <td>2016-03-01</td>\n",
       "      <td>8683</td>\n",
       "      <td>-936.0</td>\n",
       "      <td>327.0</td>\n",
       "      <td>8153.0</td>\n",
       "      <td>-1109.0</td>\n",
       "      <td>-451.0</td>\n",
       "      <td>-1487.0</td>\n",
       "      <td>-967.0</td>\n",
       "      <td>-1371.0</td>\n",
       "      <td>-953.0</td>\n",
       "      <td>-989.0</td>\n",
       "      <td>219.0</td>\n",
       "      <td>23.0</td>\n",
       "      <td>582.0</td>\n",
       "    </tr>\n",
       "    <tr>\n",
       "      <th>2</th>\n",
       "      <td>2016-04-01</td>\n",
       "      <td>9268</td>\n",
       "      <td>585.0</td>\n",
       "      <td>-936.0</td>\n",
       "      <td>327.0</td>\n",
       "      <td>8153.0</td>\n",
       "      <td>-1109.0</td>\n",
       "      <td>-451.0</td>\n",
       "      <td>-1487.0</td>\n",
       "      <td>-967.0</td>\n",
       "      <td>-1371.0</td>\n",
       "      <td>-953.0</td>\n",
       "      <td>-989.0</td>\n",
       "      <td>219.0</td>\n",
       "      <td>23.0</td>\n",
       "    </tr>\n",
       "    <tr>\n",
       "      <th>3</th>\n",
       "      <td>2016-05-01</td>\n",
       "      <td>9013</td>\n",
       "      <td>-255.0</td>\n",
       "      <td>585.0</td>\n",
       "      <td>-936.0</td>\n",
       "      <td>327.0</td>\n",
       "      <td>8153.0</td>\n",
       "      <td>-1109.0</td>\n",
       "      <td>-451.0</td>\n",
       "      <td>-1487.0</td>\n",
       "      <td>-967.0</td>\n",
       "      <td>-1371.0</td>\n",
       "      <td>-953.0</td>\n",
       "      <td>-989.0</td>\n",
       "      <td>219.0</td>\n",
       "    </tr>\n",
       "    <tr>\n",
       "      <th>4</th>\n",
       "      <td>2016-06-01</td>\n",
       "      <td>8859</td>\n",
       "      <td>-154.0</td>\n",
       "      <td>-255.0</td>\n",
       "      <td>585.0</td>\n",
       "      <td>-936.0</td>\n",
       "      <td>327.0</td>\n",
       "      <td>8153.0</td>\n",
       "      <td>-1109.0</td>\n",
       "      <td>-451.0</td>\n",
       "      <td>-1487.0</td>\n",
       "      <td>-967.0</td>\n",
       "      <td>-1371.0</td>\n",
       "      <td>-953.0</td>\n",
       "      <td>-989.0</td>\n",
       "    </tr>\n",
       "  </tbody>\n",
       "</table>\n",
       "</div>"
      ],
      "text/plain": [
       "        date  monthly_sales   diff   lag_1   lag_2   lag_3   lag_4   lag_5  \\\n",
       "0 2016-02-01           9619  327.0  8153.0 -1109.0  -451.0 -1487.0  -967.0   \n",
       "1 2016-03-01           8683 -936.0   327.0  8153.0 -1109.0  -451.0 -1487.0   \n",
       "2 2016-04-01           9268  585.0  -936.0   327.0  8153.0 -1109.0  -451.0   \n",
       "3 2016-05-01           9013 -255.0   585.0  -936.0   327.0  8153.0 -1109.0   \n",
       "4 2016-06-01           8859 -154.0  -255.0   585.0  -936.0   327.0  8153.0   \n",
       "\n",
       "    lag_6   lag_7   lag_8   lag_9  lag_10  lag_11  lag_12  \n",
       "0 -1371.0  -953.0  -989.0   219.0    23.0   582.0  -729.0  \n",
       "1  -967.0 -1371.0  -953.0  -989.0   219.0    23.0   582.0  \n",
       "2 -1487.0  -967.0 -1371.0  -953.0  -989.0   219.0    23.0  \n",
       "3  -451.0 -1487.0  -967.0 -1371.0  -953.0  -989.0   219.0  \n",
       "4 -1109.0  -451.0 -1487.0  -967.0 -1371.0  -953.0  -989.0  "
      ]
     },
     "execution_count": 259,
     "metadata": {},
     "output_type": "execute_result"
    }
   ],
   "source": [
    "#create dataframe for transformation from time series to supervised\n",
    "df_supervised = df_diff.drop(['prev_month_sales'],axis=1)\n",
    "\n",
    "#adding lags\n",
    "for i in range(1,13):\n",
    "    field_name = 'lag_' + str(i)\n",
    "    df_supervised[field_name] = df_supervised['diff'].shift(i)\n",
    "\n",
    "#drop null values\n",
    "df_supervised = df_supervised.dropna().reset_index(drop=True)\n",
    "print(df_supervised.shape)\n",
    "df_supervised.head()"
   ]
  },
  {
   "cell_type": "code",
   "execution_count": 260,
   "metadata": {},
   "outputs": [
    {
     "name": "stdout",
     "output_type": "stream",
     "text": [
      "0.8416076504625544\n"
     ]
    }
   ],
   "source": [
    "# Import statsmodels.formula.api\n",
    "import statsmodels.formula.api as smf\n",
    "\n",
    "# Define the regression formula\n",
    "model = smf.ols(formula='diff ~ lag_1 + lag_2 + lag_3 + lag_4 + lag_5 + lag_6 + lag_7 + lag_8 + lag_9 + lag_10 + lag_11 + lag_12', data=df_supervised)\n",
    "\n",
    "# Fit the regression\n",
    "model_fit = model.fit()\n",
    "\n",
    "# Extract the adjusted r-squared\n",
    "regression_adj_rsq = model_fit.rsquared_adj\n",
    "print(regression_adj_rsq)"
   ]
  },
  {
   "cell_type": "code",
   "execution_count": 261,
   "metadata": {},
   "outputs": [
    {
     "name": "stdout",
     "output_type": "stream",
     "text": [
      "total rows:  59\n"
     ]
    },
    {
     "data": {
      "text/html": [
       "<div>\n",
       "<style scoped>\n",
       "    .dataframe tbody tr th:only-of-type {\n",
       "        vertical-align: middle;\n",
       "    }\n",
       "\n",
       "    .dataframe tbody tr th {\n",
       "        vertical-align: top;\n",
       "    }\n",
       "\n",
       "    .dataframe thead th {\n",
       "        text-align: right;\n",
       "    }\n",
       "</style>\n",
       "<table border=\"1\" class=\"dataframe\">\n",
       "  <thead>\n",
       "    <tr style=\"text-align: right;\">\n",
       "      <th></th>\n",
       "      <th>diff</th>\n",
       "      <th>lag_1</th>\n",
       "      <th>lag_2</th>\n",
       "      <th>lag_3</th>\n",
       "      <th>lag_4</th>\n",
       "      <th>lag_5</th>\n",
       "      <th>lag_6</th>\n",
       "      <th>lag_7</th>\n",
       "      <th>lag_8</th>\n",
       "      <th>lag_9</th>\n",
       "      <th>lag_10</th>\n",
       "      <th>lag_11</th>\n",
       "      <th>lag_12</th>\n",
       "    </tr>\n",
       "  </thead>\n",
       "  <tbody>\n",
       "    <tr>\n",
       "      <th>0</th>\n",
       "      <td>327.0</td>\n",
       "      <td>8153.0</td>\n",
       "      <td>-1109.0</td>\n",
       "      <td>-451.0</td>\n",
       "      <td>-1487.0</td>\n",
       "      <td>-967.0</td>\n",
       "      <td>-1371.0</td>\n",
       "      <td>-953.0</td>\n",
       "      <td>-989.0</td>\n",
       "      <td>219.0</td>\n",
       "      <td>23.0</td>\n",
       "      <td>582.0</td>\n",
       "      <td>-729.0</td>\n",
       "    </tr>\n",
       "    <tr>\n",
       "      <th>1</th>\n",
       "      <td>-936.0</td>\n",
       "      <td>327.0</td>\n",
       "      <td>8153.0</td>\n",
       "      <td>-1109.0</td>\n",
       "      <td>-451.0</td>\n",
       "      <td>-1487.0</td>\n",
       "      <td>-967.0</td>\n",
       "      <td>-1371.0</td>\n",
       "      <td>-953.0</td>\n",
       "      <td>-989.0</td>\n",
       "      <td>219.0</td>\n",
       "      <td>23.0</td>\n",
       "      <td>582.0</td>\n",
       "    </tr>\n",
       "    <tr>\n",
       "      <th>2</th>\n",
       "      <td>585.0</td>\n",
       "      <td>-936.0</td>\n",
       "      <td>327.0</td>\n",
       "      <td>8153.0</td>\n",
       "      <td>-1109.0</td>\n",
       "      <td>-451.0</td>\n",
       "      <td>-1487.0</td>\n",
       "      <td>-967.0</td>\n",
       "      <td>-1371.0</td>\n",
       "      <td>-953.0</td>\n",
       "      <td>-989.0</td>\n",
       "      <td>219.0</td>\n",
       "      <td>23.0</td>\n",
       "    </tr>\n",
       "    <tr>\n",
       "      <th>3</th>\n",
       "      <td>-255.0</td>\n",
       "      <td>585.0</td>\n",
       "      <td>-936.0</td>\n",
       "      <td>327.0</td>\n",
       "      <td>8153.0</td>\n",
       "      <td>-1109.0</td>\n",
       "      <td>-451.0</td>\n",
       "      <td>-1487.0</td>\n",
       "      <td>-967.0</td>\n",
       "      <td>-1371.0</td>\n",
       "      <td>-953.0</td>\n",
       "      <td>-989.0</td>\n",
       "      <td>219.0</td>\n",
       "    </tr>\n",
       "    <tr>\n",
       "      <th>4</th>\n",
       "      <td>-154.0</td>\n",
       "      <td>-255.0</td>\n",
       "      <td>585.0</td>\n",
       "      <td>-936.0</td>\n",
       "      <td>327.0</td>\n",
       "      <td>8153.0</td>\n",
       "      <td>-1109.0</td>\n",
       "      <td>-451.0</td>\n",
       "      <td>-1487.0</td>\n",
       "      <td>-967.0</td>\n",
       "      <td>-1371.0</td>\n",
       "      <td>-953.0</td>\n",
       "      <td>-989.0</td>\n",
       "    </tr>\n",
       "  </tbody>\n",
       "</table>\n",
       "</div>"
      ],
      "text/plain": [
       "    diff   lag_1   lag_2   lag_3   lag_4   lag_5   lag_6   lag_7   lag_8  \\\n",
       "0  327.0  8153.0 -1109.0  -451.0 -1487.0  -967.0 -1371.0  -953.0  -989.0   \n",
       "1 -936.0   327.0  8153.0 -1109.0  -451.0 -1487.0  -967.0 -1371.0  -953.0   \n",
       "2  585.0  -936.0   327.0  8153.0 -1109.0  -451.0 -1487.0  -967.0 -1371.0   \n",
       "3 -255.0   585.0  -936.0   327.0  8153.0 -1109.0  -451.0 -1487.0  -967.0   \n",
       "4 -154.0  -255.0   585.0  -936.0   327.0  8153.0 -1109.0  -451.0 -1487.0   \n",
       "\n",
       "    lag_9  lag_10  lag_11  lag_12  \n",
       "0   219.0    23.0   582.0  -729.0  \n",
       "1  -989.0   219.0    23.0   582.0  \n",
       "2  -953.0  -989.0   219.0    23.0  \n",
       "3 -1371.0  -953.0  -989.0   219.0  \n",
       "4  -967.0 -1371.0  -953.0  -989.0  "
      ]
     },
     "execution_count": 261,
     "metadata": {},
     "output_type": "execute_result"
    }
   ],
   "source": [
    " #import MinMaxScaler and create a new dataframe for LSTM model\n",
    "from sklearn.preprocessing import MinMaxScaler\n",
    "\n",
    "df_model = df_supervised.drop(['date','monthly_sales'],axis=1)\n",
    "print(\"total rows: \", df_model.shape[0])\n",
    "df_model.head()"
   ]
  },
  {
   "cell_type": "markdown",
   "metadata": {},
   "source": [
    "#### - Split Train and Test Set"
   ]
  },
  {
   "cell_type": "code",
   "execution_count": 262,
   "metadata": {},
   "outputs": [],
   "source": [
    "#split train and test set\n",
    "train_set, test_set = df_model[0:-6].values, df_model[-6:].values"
   ]
  },
  {
   "cell_type": "code",
   "execution_count": 263,
   "metadata": {},
   "outputs": [
    {
     "data": {
      "text/plain": [
       "(53, 13)"
      ]
     },
     "execution_count": 263,
     "metadata": {},
     "output_type": "execute_result"
    }
   ],
   "source": [
    "# apply MinMax Scaler\n",
    "scaler = MinMaxScaler(feature_range=(0, 1))\n",
    "scaler = scaler.fit(train_set)\n",
    "\n",
    "train_set.shape"
   ]
  },
  {
   "cell_type": "code",
   "execution_count": 264,
   "metadata": {},
   "outputs": [
    {
     "data": {
      "text/plain": [
       "(53, 13)"
      ]
     },
     "execution_count": 264,
     "metadata": {},
     "output_type": "execute_result"
    }
   ],
   "source": [
    "# transform train_set\n",
    "train_set_scaled = scaler.transform(train_set)\n",
    "train_set.shape"
   ]
  },
  {
   "cell_type": "code",
   "execution_count": 265,
   "metadata": {},
   "outputs": [
    {
     "data": {
      "text/plain": [
       "(53, 13)"
      ]
     },
     "execution_count": 265,
     "metadata": {},
     "output_type": "execute_result"
    }
   ],
   "source": [
    "# transform test set\n",
    "test_set_scaled = scaler.transform(test_set)\n",
    "train_set.shape"
   ]
  },
  {
   "cell_type": "code",
   "execution_count": 266,
   "metadata": {},
   "outputs": [
    {
     "name": "stdout",
     "output_type": "stream",
     "text": [
      "(53, 1, 12)\n"
     ]
    }
   ],
   "source": [
    "x_train, y_train = train_set_scaled[:, 1:], train_set_scaled[:, 0:1]\n",
    "x_train = x_train.reshape(x_train.shape[0], 1, x_train.shape[1])\n",
    "\n",
    "x_test, y_test = test_set_scaled[:, 1:], test_set_scaled[:, 0:1]\n",
    "x_test = x_test.reshape(x_test.shape[0], 1, x_test.shape[1])\n",
    "\n",
    "print(x_train.shape)"
   ]
  },
  {
   "cell_type": "markdown",
   "metadata": {},
   "source": [
    "### 4. LSTM MODEL"
   ]
  },
  {
   "cell_type": "code",
   "execution_count": 267,
   "metadata": {},
   "outputs": [
    {
     "name": "stdout",
     "output_type": "stream",
     "text": [
      "Epoch 1/100\n",
      "53/53 [==============================] - 1s 25ms/sample - loss: 0.0539\n",
      "Epoch 2/100\n",
      "53/53 [==============================] - 0s 3ms/sample - loss: 0.0426\n",
      "Epoch 3/100\n",
      "53/53 [==============================] - 0s 3ms/sample - loss: 0.0389\n",
      "Epoch 4/100\n",
      "53/53 [==============================] - 0s 3ms/sample - loss: 0.0366\n",
      "Epoch 5/100\n",
      "53/53 [==============================] - 0s 3ms/sample - loss: 0.0320\n",
      "Epoch 6/100\n",
      "53/53 [==============================] - 0s 3ms/sample - loss: 0.0247\n",
      "Epoch 7/100\n",
      "53/53 [==============================] - 0s 3ms/sample - loss: 0.0163\n",
      "Epoch 8/100\n",
      "53/53 [==============================] - 0s 3ms/sample - loss: 0.0108\n",
      "Epoch 9/100\n",
      "53/53 [==============================] - 0s 3ms/sample - loss: 0.0073\n",
      "Epoch 10/100\n",
      "53/53 [==============================] - 0s 3ms/sample - loss: 0.0077\n",
      "Epoch 11/100\n",
      "53/53 [==============================] - 0s 3ms/sample - loss: 0.0055\n",
      "Epoch 12/100\n",
      "53/53 [==============================] - 0s 3ms/sample - loss: 0.0045\n",
      "Epoch 13/100\n",
      "53/53 [==============================] - 0s 3ms/sample - loss: 0.0050\n",
      "Epoch 14/100\n",
      "53/53 [==============================] - 0s 3ms/sample - loss: 0.0043\n",
      "Epoch 15/100\n",
      "53/53 [==============================] - 0s 3ms/sample - loss: 0.0049\n",
      "Epoch 16/100\n",
      "53/53 [==============================] - 0s 3ms/sample - loss: 0.0046\n",
      "Epoch 17/100\n",
      "53/53 [==============================] - 0s 3ms/sample - loss: 0.0047\n",
      "Epoch 18/100\n",
      "53/53 [==============================] - 0s 3ms/sample - loss: 0.0049\n",
      "Epoch 19/100\n",
      "53/53 [==============================] - 0s 3ms/sample - loss: 0.0044\n",
      "Epoch 20/100\n",
      "53/53 [==============================] - 0s 3ms/sample - loss: 0.0040\n",
      "Epoch 21/100\n",
      "53/53 [==============================] - 0s 3ms/sample - loss: 0.0043\n",
      "Epoch 22/100\n",
      "53/53 [==============================] - 0s 3ms/sample - loss: 0.0042\n",
      "Epoch 23/100\n",
      "53/53 [==============================] - 0s 3ms/sample - loss: 0.0042\n",
      "Epoch 24/100\n",
      "53/53 [==============================] - 0s 3ms/sample - loss: 0.0043\n",
      "Epoch 25/100\n",
      "53/53 [==============================] - 0s 3ms/sample - loss: 0.0043\n",
      "Epoch 26/100\n",
      "53/53 [==============================] - 0s 3ms/sample - loss: 0.0045\n",
      "Epoch 27/100\n",
      "53/53 [==============================] - 0s 3ms/sample - loss: 0.0048\n",
      "Epoch 28/100\n",
      "53/53 [==============================] - 0s 3ms/sample - loss: 0.0035\n",
      "Epoch 29/100\n",
      "53/53 [==============================] - 0s 3ms/sample - loss: 0.0039\n",
      "Epoch 30/100\n",
      "53/53 [==============================] - 0s 3ms/sample - loss: 0.0037\n",
      "Epoch 31/100\n",
      "53/53 [==============================] - 0s 3ms/sample - loss: 0.0042\n",
      "Epoch 32/100\n",
      "53/53 [==============================] - 0s 3ms/sample - loss: 0.0040\n",
      "Epoch 33/100\n",
      "53/53 [==============================] - 0s 3ms/sample - loss: 0.0040\n",
      "Epoch 34/100\n",
      "53/53 [==============================] - 0s 3ms/sample - loss: 0.0035\n",
      "Epoch 35/100\n",
      "53/53 [==============================] - 0s 3ms/sample - loss: 0.0037\n",
      "Epoch 36/100\n",
      "53/53 [==============================] - 0s 3ms/sample - loss: 0.0036\n",
      "Epoch 37/100\n",
      "53/53 [==============================] - 0s 3ms/sample - loss: 0.0039\n",
      "Epoch 38/100\n",
      "53/53 [==============================] - 0s 3ms/sample - loss: 0.0034\n",
      "Epoch 39/100\n",
      "53/53 [==============================] - 0s 3ms/sample - loss: 0.0031\n",
      "Epoch 40/100\n",
      "53/53 [==============================] - 0s 3ms/sample - loss: 0.0037\n",
      "Epoch 41/100\n",
      "53/53 [==============================] - 0s 3ms/sample - loss: 0.0034\n",
      "Epoch 42/100\n",
      "53/53 [==============================] - 0s 3ms/sample - loss: 0.0031\n",
      "Epoch 43/100\n",
      "53/53 [==============================] - 0s 3ms/sample - loss: 0.0036\n",
      "Epoch 44/100\n",
      "53/53 [==============================] - 0s 7ms/sample - loss: 0.0033\n",
      "Epoch 45/100\n",
      "53/53 [==============================] - 1s 17ms/sample - loss: 0.0029\n",
      "Epoch 46/100\n",
      "53/53 [==============================] - 1s 16ms/sample - loss: 0.0036\n",
      "Epoch 47/100\n",
      "53/53 [==============================] - 1s 15ms/sample - loss: 0.0032\n",
      "Epoch 48/100\n",
      "53/53 [==============================] - 1s 15ms/sample - loss: 0.0028\n",
      "Epoch 49/100\n",
      "53/53 [==============================] - 1s 15ms/sample - loss: 0.0034\n",
      "Epoch 50/100\n",
      "53/53 [==============================] - 1s 14ms/sample - loss: 0.0030\n",
      "Epoch 51/100\n",
      "53/53 [==============================] - 1s 13ms/sample - loss: 0.0032\n",
      "Epoch 52/100\n",
      "53/53 [==============================] - 1s 13ms/sample - loss: 0.0027\n",
      "Epoch 53/100\n",
      "53/53 [==============================] - 1s 13ms/sample - loss: 0.0032\n",
      "Epoch 54/100\n",
      "53/53 [==============================] - 1s 14ms/sample - loss: 0.0028\n",
      "Epoch 55/100\n",
      "53/53 [==============================] - 1s 15ms/sample - loss: 0.0031\n",
      "Epoch 56/100\n",
      "53/53 [==============================] - 1s 14ms/sample - loss: 0.0030\n",
      "Epoch 57/100\n",
      "53/53 [==============================] - 1s 12ms/sample - loss: 0.0027\n",
      "Epoch 58/100\n",
      "53/53 [==============================] - 0s 8ms/sample - loss: 0.0029\n",
      "Epoch 59/100\n",
      "53/53 [==============================] - 0s 8ms/sample - loss: 0.0029\n",
      "Epoch 60/100\n",
      "53/53 [==============================] - 0s 8ms/sample - loss: 0.0036\n",
      "Epoch 61/100\n",
      "53/53 [==============================] - 0s 9ms/sample - loss: 0.0029\n",
      "Epoch 62/100\n",
      "53/53 [==============================] - 0s 9ms/sample - loss: 0.0030\n",
      "Epoch 63/100\n",
      "53/53 [==============================] - 1s 12ms/sample - loss: 0.0027\n",
      "Epoch 64/100\n",
      "53/53 [==============================] - 1s 12ms/sample - loss: 0.0024\n",
      "Epoch 65/100\n",
      "53/53 [==============================] - 1s 12ms/sample - loss: 0.0024\n",
      "Epoch 66/100\n",
      "53/53 [==============================] - 1s 11ms/sample - loss: 0.0024\n",
      "Epoch 67/100\n",
      "53/53 [==============================] - 1s 11ms/sample - loss: 0.0024\n",
      "Epoch 68/100\n",
      "53/53 [==============================] - 1s 11ms/sample - loss: 0.0030\n",
      "Epoch 69/100\n",
      "53/53 [==============================] - 1s 11ms/sample - loss: 0.0028\n",
      "Epoch 70/100\n",
      "53/53 [==============================] - 1s 11ms/sample - loss: 0.0025\n",
      "Epoch 71/100\n",
      "53/53 [==============================] - 1s 10ms/sample - loss: 0.0022\n",
      "Epoch 72/100\n",
      "53/53 [==============================] - 0s 9ms/sample - loss: 0.0022\n",
      "Epoch 73/100\n",
      "53/53 [==============================] - 0s 8ms/sample - loss: 0.0020\n",
      "Epoch 74/100\n",
      "53/53 [==============================] - 0s 8ms/sample - loss: 0.0021\n",
      "Epoch 75/100\n",
      "53/53 [==============================] - 0s 8ms/sample - loss: 0.0021\n",
      "Epoch 76/100\n",
      "53/53 [==============================] - 0s 8ms/sample - loss: 0.0025\n",
      "Epoch 77/100\n",
      "53/53 [==============================] - 0s 8ms/sample - loss: 0.0020\n",
      "Epoch 78/100\n",
      "53/53 [==============================] - 0s 8ms/sample - loss: 0.0024\n",
      "Epoch 79/100\n",
      "53/53 [==============================] - 0s 8ms/sample - loss: 0.0025\n",
      "Epoch 80/100\n",
      "53/53 [==============================] - 0s 8ms/sample - loss: 0.0022\n",
      "Epoch 81/100\n",
      "53/53 [==============================] - 0s 8ms/sample - loss: 0.0025\n",
      "Epoch 82/100\n",
      "53/53 [==============================] - 0s 8ms/sample - loss: 0.0021\n",
      "Epoch 83/100\n",
      "53/53 [==============================] - 0s 8ms/sample - loss: 0.0020\n",
      "Epoch 84/100\n",
      "53/53 [==============================] - 0s 8ms/sample - loss: 0.0020\n",
      "Epoch 85/100\n",
      "53/53 [==============================] - 0s 8ms/sample - loss: 0.0018\n",
      "Epoch 86/100\n",
      "53/53 [==============================] - 0s 8ms/sample - loss: 0.0019\n",
      "Epoch 87/100\n",
      "53/53 [==============================] - 0s 8ms/sample - loss: 0.0019\n",
      "Epoch 88/100\n",
      "53/53 [==============================] - 0s 8ms/sample - loss: 0.0026\n",
      "Epoch 89/100\n",
      "53/53 [==============================] - 0s 8ms/sample - loss: 0.0019\n",
      "Epoch 90/100\n",
      "53/53 [==============================] - 0s 8ms/sample - loss: 0.0019\n",
      "Epoch 91/100\n",
      "53/53 [==============================] - 0s 8ms/sample - loss: 0.0019\n",
      "Epoch 92/100\n",
      "53/53 [==============================] - 0s 8ms/sample - loss: 0.0019\n",
      "Epoch 93/100\n",
      "53/53 [==============================] - 0s 8ms/sample - loss: 0.0018\n",
      "Epoch 94/100\n",
      "53/53 [==============================] - 0s 8ms/sample - loss: 0.0018\n",
      "Epoch 95/100\n",
      "53/53 [==============================] - 0s 8ms/sample - loss: 0.0016\n",
      "Epoch 96/100\n",
      "53/53 [==============================] - 0s 8ms/sample - loss: 0.0015\n",
      "Epoch 97/100\n",
      "53/53 [==============================] - 0s 8ms/sample - loss: 0.0019\n",
      "Epoch 98/100\n",
      "53/53 [==============================] - 0s 8ms/sample - loss: 0.0016\n",
      "Epoch 99/100\n"
     ]
    },
    {
     "name": "stdout",
     "output_type": "stream",
     "text": [
      "53/53 [==============================] - 0s 8ms/sample - loss: 0.0017\n",
      "Epoch 100/100\n",
      "53/53 [==============================] - 0s 9ms/sample - loss: 0.0016\n"
     ]
    },
    {
     "data": {
      "text/plain": [
       "<tensorflow.python.keras.callbacks.History at 0x1f4b336b470>"
      ]
     },
     "execution_count": 267,
     "metadata": {},
     "output_type": "execute_result"
    }
   ],
   "source": [
    "import tensorflow as tf\n",
    "\n",
    "model = tf.keras.models.Sequential([\n",
    "            tf.keras.layers.LSTM(50, activation=\"relu\", return_sequences=True, batch_input_shape=(1, x_train.shape[1], x_train.shape[2])),\n",
    "            tf.keras.layers.LSTM(50, activation=\"relu\"),\n",
    "            tf.keras.layers.Dense(1)\n",
    "        ])\n",
    "\n",
    "model.compile(loss=\"mean_squared_error\", optimizer=\"adam\")\n",
    "model.fit(x_train, y_train, epochs=100, batch_size=1, verbose=1)"
   ]
  },
  {
   "cell_type": "code",
   "execution_count": 268,
   "metadata": {},
   "outputs": [],
   "source": [
    "y_pred = model.predict(x_test, batch_size=1)"
   ]
  },
  {
   "cell_type": "code",
   "execution_count": 269,
   "metadata": {},
   "outputs": [
    {
     "data": {
      "text/plain": [
       "array([[0.10623626],\n",
       "       [0.1538101 ],\n",
       "       [0.08141953],\n",
       "       [0.08684919],\n",
       "       [0.06914454],\n",
       "       [0.08809899]], dtype=float32)"
      ]
     },
     "execution_count": 269,
     "metadata": {},
     "output_type": "execute_result"
    }
   ],
   "source": [
    "y_pred"
   ]
  },
  {
   "cell_type": "code",
   "execution_count": 270,
   "metadata": {},
   "outputs": [
    {
     "data": {
      "text/plain": [
       "array([[0.02028567],\n",
       "       [0.14427898],\n",
       "       [0.06997417],\n",
       "       [0.08159854],\n",
       "       [0.08106671],\n",
       "       [0.06944233]])"
      ]
     },
     "execution_count": 270,
     "metadata": {},
     "output_type": "execute_result"
    }
   ],
   "source": [
    "y_test"
   ]
  },
  {
   "cell_type": "code",
   "execution_count": 271,
   "metadata": {},
   "outputs": [],
   "source": [
    "#reshape y_pred\n",
    "y_pred = y_pred.reshape(y_pred.shape[0], 1, y_pred.shape[1])\n",
    "\n",
    "len(y_pred)\n",
    "#rebuild test set for inverse transform\n",
    "pred_test_set = []\n",
    "\n",
    "for index in range(0,len(y_pred)):\n",
    "    pred_test_set.append(np.concatenate([y_pred[index],x_test[index]],axis=1))\n",
    "\n",
    "#reshape pred_test_set\n",
    "pred_test_set = np.array(pred_test_set)\n",
    "pred_test_set = pred_test_set.reshape(pred_test_set.shape[0], pred_test_set.shape[2])\n",
    "\n",
    "#inverse transform\n",
    "pred_test_set_inverted = scaler.inverse_transform(pred_test_set)"
   ]
  },
  {
   "cell_type": "code",
   "execution_count": 272,
   "metadata": {},
   "outputs": [
    {
     "data": {
      "text/html": [
       "<div>\n",
       "<style scoped>\n",
       "    .dataframe tbody tr th:only-of-type {\n",
       "        vertical-align: middle;\n",
       "    }\n",
       "\n",
       "    .dataframe tbody tr th {\n",
       "        vertical-align: top;\n",
       "    }\n",
       "\n",
       "    .dataframe thead th {\n",
       "        text-align: right;\n",
       "    }\n",
       "</style>\n",
       "<table border=\"1\" class=\"dataframe\">\n",
       "  <thead>\n",
       "    <tr style=\"text-align: right;\">\n",
       "      <th></th>\n",
       "      <th>date</th>\n",
       "      <th>pred_value</th>\n",
       "    </tr>\n",
       "  </thead>\n",
       "  <tbody>\n",
       "    <tr>\n",
       "      <th>0</th>\n",
       "      <td>2020-07-01</td>\n",
       "      <td>6950</td>\n",
       "    </tr>\n",
       "    <tr>\n",
       "      <th>1</th>\n",
       "      <td>2020-08-01</td>\n",
       "      <td>5681</td>\n",
       "    </tr>\n",
       "    <tr>\n",
       "      <th>2</th>\n",
       "      <td>2020-09-01</td>\n",
       "      <td>4465</td>\n",
       "    </tr>\n",
       "    <tr>\n",
       "      <th>3</th>\n",
       "      <td>2020-10-01</td>\n",
       "      <td>3296</td>\n",
       "    </tr>\n",
       "    <tr>\n",
       "      <th>4</th>\n",
       "      <td>2020-11-01</td>\n",
       "      <td>1975</td>\n",
       "    </tr>\n",
       "    <tr>\n",
       "      <th>5</th>\n",
       "      <td>2020-12-01</td>\n",
       "      <td>1129</td>\n",
       "    </tr>\n",
       "  </tbody>\n",
       "</table>\n",
       "</div>"
      ],
      "text/plain": [
       "        date  pred_value\n",
       "0 2020-07-01        6950\n",
       "1 2020-08-01        5681\n",
       "2 2020-09-01        4465\n",
       "3 2020-10-01        3296\n",
       "4 2020-11-01        1975\n",
       "5 2020-12-01        1129"
      ]
     },
     "execution_count": 272,
     "metadata": {},
     "output_type": "execute_result"
    }
   ],
   "source": [
    "#create dataframe that shows the predicted sales\n",
    "result_list = []\n",
    "sales_dates = list(df_monthly[-7:].date)\n",
    "act_sales = list(df_monthly[-7:].monthly_sales)\n",
    "\n",
    "for index in range(0,len(pred_test_set_inverted)):\n",
    "    result_dict = {}\n",
    "    result_dict['pred_value'] = int(pred_test_set_inverted[index][0] + act_sales[index])\n",
    "    result_dict['date'] = sales_dates[index+1]\n",
    "    result_list.append(result_dict)\n",
    "df_result = pd.DataFrame(result_list)\n",
    "df_result.head(6)"
   ]
  },
  {
   "cell_type": "code",
   "execution_count": 273,
   "metadata": {},
   "outputs": [
    {
     "data": {
      "text/html": [
       "<div>\n",
       "<style scoped>\n",
       "    .dataframe tbody tr th:only-of-type {\n",
       "        vertical-align: middle;\n",
       "    }\n",
       "\n",
       "    .dataframe tbody tr th {\n",
       "        vertical-align: top;\n",
       "    }\n",
       "\n",
       "    .dataframe thead th {\n",
       "        text-align: right;\n",
       "    }\n",
       "</style>\n",
       "<table border=\"1\" class=\"dataframe\">\n",
       "  <thead>\n",
       "    <tr style=\"text-align: right;\">\n",
       "      <th></th>\n",
       "      <th>date</th>\n",
       "      <th>monthly_sales</th>\n",
       "    </tr>\n",
       "  </thead>\n",
       "  <tbody>\n",
       "    <tr>\n",
       "      <th>66</th>\n",
       "      <td>2020-07-01</td>\n",
       "      <td>5819</td>\n",
       "    </tr>\n",
       "    <tr>\n",
       "      <th>67</th>\n",
       "      <td>2020-08-01</td>\n",
       "      <td>5556</td>\n",
       "    </tr>\n",
       "    <tr>\n",
       "      <th>68</th>\n",
       "      <td>2020-09-01</td>\n",
       "      <td>4315</td>\n",
       "    </tr>\n",
       "    <tr>\n",
       "      <th>69</th>\n",
       "      <td>2020-10-01</td>\n",
       "      <td>3227</td>\n",
       "    </tr>\n",
       "    <tr>\n",
       "      <th>70</th>\n",
       "      <td>2020-11-01</td>\n",
       "      <td>2132</td>\n",
       "    </tr>\n",
       "    <tr>\n",
       "      <th>71</th>\n",
       "      <td>2020-12-01</td>\n",
       "      <td>884</td>\n",
       "    </tr>\n",
       "  </tbody>\n",
       "</table>\n",
       "</div>"
      ],
      "text/plain": [
       "         date  monthly_sales\n",
       "66 2020-07-01           5819\n",
       "67 2020-08-01           5556\n",
       "68 2020-09-01           4315\n",
       "69 2020-10-01           3227\n",
       "70 2020-11-01           2132\n",
       "71 2020-12-01            884"
      ]
     },
     "execution_count": 273,
     "metadata": {},
     "output_type": "execute_result"
    }
   ],
   "source": [
    "df_monthly.tail(6)"
   ]
  },
  {
   "cell_type": "markdown",
   "metadata": {},
   "source": [
    "### 5. Plotting Predicted data\n",
    "\n",
    "Test set is the last 6 data in the monthly sales (2020-7-01 to 2020-12-01). We have passed the test set above in order to test how good our predict model is. The more similar the actual data to the predicted results, the better our model is.\n",
    "\n",
    "Here we will see how the predicted last 6 months drawn and compared with the actual 6 data in the monthly sales"
   ]
  },
  {
   "cell_type": "code",
   "execution_count": 274,
   "metadata": {},
   "outputs": [
    {
     "data": {
      "text/plain": [
       "<matplotlib.legend.Legend at 0x1f4b7c14a90>"
      ]
     },
     "execution_count": 274,
     "metadata": {},
     "output_type": "execute_result"
    },
    {
     "data": {
      "image/png": "[encoded data removed]",
      "text/plain": [
       "<Figure size 720x360 with 1 Axes>"
      ]
     },
     "metadata": {
      "needs_background": "light"
     },
     "output_type": "display_data"
    }
   ],
   "source": [
    "df_sales_pred = pd.merge(df_monthly, df_result, on=\"date\", how=\"left\")\n",
    "\n",
    "plt.rc(\"font\", size=12)\n",
    "fig, ax = plt.subplots(figsize=(10,5))\n",
    "\n",
    "# specify how our line should look like\n",
    "ax.plot(df_sales_pred['date'], df_sales_pred['monthly_sales'], label=\"actual\")\n",
    "ax.plot(df_sales_pred['date'], df_sales_pred['pred_value'], label=\"predicted\")\n",
    "\n",
    "# same as above\n",
    "ax.set_xlabel(\"date\")\n",
    "ax.set_ylabel(\"sales\")\n",
    "ax.set_title(\"Sales Prediction\")\n",
    "ax.grid(True)\n",
    "ax.legend(loc=\"upper left\")"
   ]
  },
  {
   "cell_type": "markdown",
   "metadata": {},
   "source": [
    "## Now let's check how our entire dataset fit the model"
   ]
  },
  {
   "cell_type": "code",
   "execution_count": 275,
   "metadata": {},
   "outputs": [
    {
     "name": "stdout",
     "output_type": "stream",
     "text": [
      "(58, 1, 12)\n"
     ]
    }
   ],
   "source": [
    "dataset_values = df_model[1:].values\n",
    "dataset_scaler = MinMaxScaler(feature_range=(0,1))\n",
    "dataset_scaler = dataset_scaler.fit(dataset_values)\n",
    "\n",
    "test_set_scaled = dataset_scaler.transform(dataset_values)\n",
    "dataset_test = test_set_scaled[:, 1:]\n",
    "dataset_test = dataset_test.reshape(dataset_test.shape[0], 1, dataset_test.shape[1])\n",
    "print(dataset_test.shape)"
   ]
  },
  {
   "cell_type": "code",
   "execution_count": 276,
   "metadata": {},
   "outputs": [],
   "source": [
    "y_pred = model.predict(dataset_test, batch_size=1)"
   ]
  },
  {
   "cell_type": "code",
   "execution_count": 277,
   "metadata": {},
   "outputs": [
    {
     "data": {
      "text/plain": [
       "array([[0.11760975],\n",
       "       [0.18903813],\n",
       "       [0.14660928],\n",
       "       [0.13640372],\n",
       "       [0.08174926],\n",
       "       [0.11786216],\n",
       "       [0.0673858 ],\n",
       "       [0.06267688],\n",
       "       [0.06596435],\n",
       "       [0.06100097],\n",
       "       [0.7682787 ],\n",
       "       [0.1724278 ],\n",
       "       [0.14949496],\n",
       "       [0.19402853],\n",
       "       [0.13106133],\n",
       "       [0.1392176 ],\n",
       "       [0.07209206],\n",
       "       [0.1202977 ],\n",
       "       [0.06303224],\n",
       "       [0.05595522],\n",
       "       [0.03163744],\n",
       "       [0.06782209],\n",
       "       [0.8136837 ],\n",
       "       [0.11039057],\n",
       "       [0.18493262],\n",
       "       [0.17272873],\n",
       "       [0.19210443],\n",
       "       [0.08184561],\n",
       "       [0.11794464],\n",
       "       [0.1017822 ],\n",
       "       [0.06672809],\n",
       "       [0.05297217],\n",
       "       [0.05244983],\n",
       "       [0.08572193],\n",
       "       [0.8449606 ],\n",
       "       [0.19870275],\n",
       "       [0.11217298],\n",
       "       [0.19314046],\n",
       "       [0.18566453],\n",
       "       [0.10158952],\n",
       "       [0.08643027],\n",
       "       [0.10026132],\n",
       "       [0.03702657],\n",
       "       [0.03320302],\n",
       "       [0.03927051],\n",
       "       [0.05601817],\n",
       "       [0.7664368 ],\n",
       "       [0.17641366],\n",
       "       [0.15239236],\n",
       "       [0.17460713],\n",
       "       [0.22285458],\n",
       "       [0.12641129],\n",
       "       [0.10623626],\n",
       "       [0.1538101 ],\n",
       "       [0.08141953],\n",
       "       [0.08684919],\n",
       "       [0.06914454],\n",
       "       [0.08809899]], dtype=float32)"
      ]
     },
     "execution_count": 277,
     "metadata": {},
     "output_type": "execute_result"
    }
   ],
   "source": [
    "y_pred"
   ]
  },
  {
   "cell_type": "code",
   "execution_count": 278,
   "metadata": {},
   "outputs": [
    {
     "data": {
      "text/plain": [
       "58"
      ]
     },
     "execution_count": 278,
     "metadata": {},
     "output_type": "execute_result"
    }
   ],
   "source": [
    "#reshape y_pred\n",
    "y_pred = y_pred.reshape(y_pred.shape[0], 1, y_pred.shape[1])\n",
    "\n",
    "len(y_pred)\n",
    "#rebuild test set for inverse transform\n",
    "pred_test_set = []\n",
    "\n",
    "for index in range(0,len(y_pred)):\n",
    "    pred_test_set.append(np.concatenate([y_pred[index],dataset_test[index]],axis=1))\n",
    "\n",
    "#reshape pred_test_set\n",
    "pred_test_set = np.array(pred_test_set)\n",
    "pred_test_set = pred_test_set.reshape(pred_test_set.shape[0], pred_test_set.shape[2])\n",
    "\n",
    "#inverse transform\n",
    "pred_test_set_inverted = scaler.inverse_transform(pred_test_set)\n",
    "len(pred_test_set_inverted)"
   ]
  },
  {
   "cell_type": "code",
   "execution_count": 279,
   "metadata": {},
   "outputs": [
    {
     "data": {
      "text/html": [
       "<div>\n",
       "<style scoped>\n",
       "    .dataframe tbody tr th:only-of-type {\n",
       "        vertical-align: middle;\n",
       "    }\n",
       "\n",
       "    .dataframe tbody tr th {\n",
       "        vertical-align: top;\n",
       "    }\n",
       "\n",
       "    .dataframe thead th {\n",
       "        text-align: right;\n",
       "    }\n",
       "</style>\n",
       "<table border=\"1\" class=\"dataframe\">\n",
       "  <thead>\n",
       "    <tr style=\"text-align: right;\">\n",
       "      <th></th>\n",
       "      <th>date</th>\n",
       "      <th>pred_value</th>\n",
       "    </tr>\n",
       "  </thead>\n",
       "  <tbody>\n",
       "    <tr>\n",
       "      <th>0</th>\n",
       "      <td>2015-02-01</td>\n",
       "      <td>7756</td>\n",
       "    </tr>\n",
       "    <tr>\n",
       "      <th>1</th>\n",
       "      <td>2015-03-01</td>\n",
       "      <td>7968</td>\n",
       "    </tr>\n",
       "    <tr>\n",
       "      <th>2</th>\n",
       "      <td>2015-04-01</td>\n",
       "      <td>7991</td>\n",
       "    </tr>\n",
       "    <tr>\n",
       "      <th>3</th>\n",
       "      <td>2015-05-01</td>\n",
       "      <td>7880</td>\n",
       "    </tr>\n",
       "    <tr>\n",
       "      <th>4</th>\n",
       "      <td>2015-06-01</td>\n",
       "      <td>7379</td>\n",
       "    </tr>\n",
       "    <tr>\n",
       "      <th>5</th>\n",
       "      <td>2015-07-01</td>\n",
       "      <td>6866</td>\n",
       "    </tr>\n",
       "  </tbody>\n",
       "</table>\n",
       "</div>"
      ],
      "text/plain": [
       "        date  pred_value\n",
       "0 2015-02-01        7756\n",
       "1 2015-03-01        7968\n",
       "2 2015-04-01        7991\n",
       "3 2015-05-01        7880\n",
       "4 2015-06-01        7379\n",
       "5 2015-07-01        6866"
      ]
     },
     "execution_count": 279,
     "metadata": {},
     "output_type": "execute_result"
    }
   ],
   "source": [
    "#create dataframe that shows the predicted sales\n",
    "result_list = []\n",
    "sales_dates = list(df_monthly.date)\n",
    "act_sales = list(df_monthly.monthly_sales)\n",
    "\n",
    "for index in range(0,len(pred_test_set_inverted)):\n",
    "    result_dict = {}\n",
    "    result_dict['pred_value'] = int(pred_test_set_inverted[index][0] + act_sales[index])\n",
    "    result_dict['date'] = sales_dates[index+1]\n",
    "    result_list.append(result_dict)\n",
    "df_result = pd.DataFrame(result_list)\n",
    "df_result.head(6)"
   ]
  },
  {
   "cell_type": "code",
   "execution_count": 280,
   "metadata": {},
   "outputs": [
    {
     "data": {
      "text/plain": [
       "<matplotlib.legend.Legend at 0x1f4b7c913c8>"
      ]
     },
     "execution_count": 280,
     "metadata": {},
     "output_type": "execute_result"
    },
    {
     "data": {
      "image/png": "[encoded data removed]",
      "text/plain": [
       "<Figure size 720x360 with 1 Axes>"
      ]
     },
     "metadata": {
      "needs_background": "light"
     },
     "output_type": "display_data"
    }
   ],
   "source": [
    "df_sales_pred = pd.merge(df_monthly, df_result, on=\"date\", how=\"left\")\n",
    "\n",
    "plt.rc(\"font\", size=12)\n",
    "fig, ax = plt.subplots(figsize=(10,5))\n",
    "\n",
    "# specify how our line should look like\n",
    "ax.plot(df_sales_pred['date'], df_sales_pred['monthly_sales'], label=\"actual\")\n",
    "ax.plot(df_sales_pred['date'], df_sales_pred['pred_value'], label=\"predicted\")\n",
    "\n",
    "# same as above\n",
    "ax.set_xlabel(\"date\")\n",
    "ax.set_ylabel(\"sales\")\n",
    "ax.set_title(\"Sales Prediction\")\n",
    "ax.grid(True)\n",
    "ax.legend(loc=\"upper left\")"
   ]
  },
  {
   "cell_type": "markdown",
   "metadata": {},
   "source": [
    "## Predict Next 6 Months"
   ]
  },
  {
   "cell_type": "code",
   "execution_count": null,
   "metadata": {},
   "outputs": [],
   "source": []
  }
 ],
 "metadata": {
  "kernelspec": {
   "display_name": "Python 3",
   "language": "python",
   "name": "python3"
  },
  "language_info": {
   "codemirror_mode": {
    "name": "ipython",
    "version": 3
   },
   "file_extension": ".py",
   "mimetype": "text/x-python",
   "name": "python",
   "nbconvert_exporter": "python",
   "pygments_lexer": "ipython3",
   "version": "3.7.1"
  }
 },
 "nbformat": 4,
 "nbformat_minor": 2
}
