{
 "cells": [
  {
   "cell_type": "markdown",
   "metadata": {},
   "source": [
    "### 1. Import Required Packages"
   ]
  },
  {
   "cell_type": "code",
   "execution_count": 1,
   "metadata": {},
   "outputs": [
    {
     "name": "stderr",
     "output_type": "stream",
     "text": [
      "C:\\Users\\ASUS\\Anaconda3\\lib\\site-packages\\tensorflow\\python\\framework\\dtypes.py:523: FutureWarning: Passing (type, 1) or '1type' as a synonym of type is deprecated; in a future version of numpy, it will be understood as (type, (1,)) / '(1,)type'.\n",
      "  _np_qint8 = np.dtype([(\"qint8\", np.int8, 1)])\n",
      "C:\\Users\\ASUS\\Anaconda3\\lib\\site-packages\\tensorflow\\python\\framework\\dtypes.py:524: FutureWarning: Passing (type, 1) or '1type' as a synonym of type is deprecated; in a future version of numpy, it will be understood as (type, (1,)) / '(1,)type'.\n",
      "  _np_quint8 = np.dtype([(\"quint8\", np.uint8, 1)])\n",
      "C:\\Users\\ASUS\\Anaconda3\\lib\\site-packages\\tensorflow\\python\\framework\\dtypes.py:525: FutureWarning: Passing (type, 1) or '1type' as a synonym of type is deprecated; in a future version of numpy, it will be understood as (type, (1,)) / '(1,)type'.\n",
      "  _np_qint16 = np.dtype([(\"qint16\", np.int16, 1)])\n",
      "C:\\Users\\ASUS\\Anaconda3\\lib\\site-packages\\tensorflow\\python\\framework\\dtypes.py:526: FutureWarning: Passing (type, 1) or '1type' as a synonym of type is deprecated; in a future version of numpy, it will be understood as (type, (1,)) / '(1,)type'.\n",
      "  _np_quint16 = np.dtype([(\"quint16\", np.uint16, 1)])\n",
      "C:\\Users\\ASUS\\Anaconda3\\lib\\site-packages\\tensorflow\\python\\framework\\dtypes.py:527: FutureWarning: Passing (type, 1) or '1type' as a synonym of type is deprecated; in a future version of numpy, it will be understood as (type, (1,)) / '(1,)type'.\n",
      "  _np_qint32 = np.dtype([(\"qint32\", np.int32, 1)])\n",
      "C:\\Users\\ASUS\\Anaconda3\\lib\\site-packages\\tensorflow\\python\\framework\\dtypes.py:532: FutureWarning: Passing (type, 1) or '1type' as a synonym of type is deprecated; in a future version of numpy, it will be understood as (type, (1,)) / '(1,)type'.\n",
      "  np_resource = np.dtype([(\"resource\", np.ubyte, 1)])\n",
      "C:\\Users\\ASUS\\Anaconda3\\lib\\site-packages\\tensorboard\\compat\\tensorflow_stub\\dtypes.py:541: FutureWarning: Passing (type, 1) or '1type' as a synonym of type is deprecated; in a future version of numpy, it will be understood as (type, (1,)) / '(1,)type'.\n",
      "  _np_qint8 = np.dtype([(\"qint8\", np.int8, 1)])\n",
      "C:\\Users\\ASUS\\Anaconda3\\lib\\site-packages\\tensorboard\\compat\\tensorflow_stub\\dtypes.py:542: FutureWarning: Passing (type, 1) or '1type' as a synonym of type is deprecated; in a future version of numpy, it will be understood as (type, (1,)) / '(1,)type'.\n",
      "  _np_quint8 = np.dtype([(\"quint8\", np.uint8, 1)])\n",
      "C:\\Users\\ASUS\\Anaconda3\\lib\\site-packages\\tensorboard\\compat\\tensorflow_stub\\dtypes.py:543: FutureWarning: Passing (type, 1) or '1type' as a synonym of type is deprecated; in a future version of numpy, it will be understood as (type, (1,)) / '(1,)type'.\n",
      "  _np_qint16 = np.dtype([(\"qint16\", np.int16, 1)])\n",
      "C:\\Users\\ASUS\\Anaconda3\\lib\\site-packages\\tensorboard\\compat\\tensorflow_stub\\dtypes.py:544: FutureWarning: Passing (type, 1) or '1type' as a synonym of type is deprecated; in a future version of numpy, it will be understood as (type, (1,)) / '(1,)type'.\n",
      "  _np_quint16 = np.dtype([(\"quint16\", np.uint16, 1)])\n",
      "C:\\Users\\ASUS\\Anaconda3\\lib\\site-packages\\tensorboard\\compat\\tensorflow_stub\\dtypes.py:545: FutureWarning: Passing (type, 1) or '1type' as a synonym of type is deprecated; in a future version of numpy, it will be understood as (type, (1,)) / '(1,)type'.\n",
      "  _np_qint32 = np.dtype([(\"qint32\", np.int32, 1)])\n",
      "C:\\Users\\ASUS\\Anaconda3\\lib\\site-packages\\tensorboard\\compat\\tensorflow_stub\\dtypes.py:550: FutureWarning: Passing (type, 1) or '1type' as a synonym of type is deprecated; in a future version of numpy, it will be understood as (type, (1,)) / '(1,)type'.\n",
      "  np_resource = np.dtype([(\"resource\", np.ubyte, 1)])\n"
     ]
    }
   ],
   "source": [
    "import math\n",
    "import json\n",
    "import pandas as pd\n",
    "import numpy as np\n",
    "import tensorflow as tf\n",
    "import matplotlib.pyplot as plt"
   ]
  },
  {
   "cell_type": "markdown",
   "metadata": {},
   "source": [
    "### 2. Read dataset from exported json file"
   ]
  },
  {
   "cell_type": "code",
   "execution_count": 2,
   "metadata": {},
   "outputs": [],
   "source": [
    "df = pd.read_json('C:/Users/ASUS/BANGKIT/TokoLitik/data.json')\n",
    "df[\"date\"] = df[\"date\"].dt.date"
   ]
  },
  {
   "cell_type": "markdown",
   "metadata": {},
   "source": [
    "### 3. Data Preprocessing\n",
    "\n",
    "#### - PREPARE DATA"
   ]
  },
  {
   "cell_type": "code",
   "execution_count": 3,
   "metadata": {},
   "outputs": [],
   "source": [
    "productFile = open(\"C:/Users/ASUS/BANGKIT/TokoLitik/product.json\")\n",
    "product = json.load(productFile)\n",
    "\n",
    "transactionFile = open(\"C:/Users/ASUS/BANGKIT/TokoLitik/transaction.json\")\n",
    "transaction = json.load(transactionFile)"
   ]
  },
  {
   "cell_type": "code",
   "execution_count": 4,
   "metadata": {},
   "outputs": [],
   "source": [
    "#change date field into datetime format\n",
    "\n",
    "df[\"date\"] = pd.to_datetime(df[\"date\"])"
   ]
  },
  {
   "cell_type": "code",
   "execution_count": 5,
   "metadata": {},
   "outputs": [
    {
     "name": "stdout",
     "output_type": "stream",
     "text": [
      "Total rows:  6568\n"
     ]
    }
   ],
   "source": [
    "# change every data in date field as the first date of each month for plotting the monthly sales\n",
    "df_temp = df.copy()\n",
    "df_temp[\"date\"] = df_temp[\"date\"].dt.year.astype(\"str\") + '-' + df[\"date\"].dt.month.astype(\"str\") + '-01'\n",
    "df_temp['date'] = pd.to_datetime(df_temp['date'])\n",
    "print(\"Total rows: \", df_temp.shape[0])"
   ]
  },
  {
   "cell_type": "markdown",
   "metadata": {},
   "source": [
    "#### - Change Daily Sales Data into Monthly Sales"
   ]
  },
  {
   "cell_type": "code",
   "execution_count": 6,
   "metadata": {},
   "outputs": [
    {
     "name": "stdout",
     "output_type": "stream",
     "text": [
      "Total rows:  72\n",
      "         date  monthly_sales\n",
      "0  2015-01-01           8371\n",
      "1  2015-02-01           7642\n",
      "2  2015-03-01           8224\n",
      "3  2015-04-01           8247\n",
      "4  2015-05-01           8466\n",
      "5  2015-06-01           7477\n",
      "6  2015-07-01           6524\n",
      "7  2015-08-01           5153\n",
      "8  2015-09-01           4186\n",
      "9  2015-10-01           2699\n",
      "10 2015-11-01           2248\n",
      "11 2015-12-01           1139\n",
      "12 2016-01-01           9292\n",
      "13 2016-02-01           9619\n",
      "14 2016-03-01           8683\n",
      "15 2016-04-01           9268\n",
      "16 2016-05-01           9013\n",
      "17 2016-06-01           8859\n",
      "18 2016-07-01           8184\n",
      "19 2016-08-01           7434\n",
      "20 2016-09-01           6427\n",
      "21 2016-10-01           4971\n",
      "22 2016-11-01           2953\n",
      "23 2016-12-01           1145\n",
      "24 2017-01-01           9521\n",
      "25 2017-02-01           9782\n",
      "26 2017-03-01          10069\n",
      "27 2017-04-01          10372\n",
      "28 2017-05-01           9297\n",
      "29 2017-06-01           9555\n",
      "30 2017-07-01           7393\n",
      "31 2017-08-01           6531\n",
      "32 2017-09-01           5009\n",
      "33 2017-10-01           3448\n",
      "34 2017-11-01           1704\n",
      "35 2017-12-01            953\n",
      "36 2018-01-01           9973\n",
      "37 2018-02-01           9102\n",
      "38 2018-03-01           9111\n",
      "39 2018-04-01           9196\n",
      "40 2018-05-01           9308\n",
      "41 2018-06-01           7853\n",
      "42 2018-07-01           7292\n",
      "43 2018-08-01           6301\n",
      "44 2018-09-01           5017\n",
      "45 2018-10-01           3538\n",
      "46 2018-11-01           2399\n",
      "47 2018-12-01           1189\n",
      "48 2019-01-01          12189\n",
      "49 2019-02-01          12566\n",
      "50 2019-03-01          11583\n",
      "51 2019-04-01          12029\n",
      "52 2019-05-01          12008\n",
      "53 2019-06-01          10502\n",
      "54 2019-07-01           9277\n",
      "55 2019-08-01           8533\n",
      "56 2019-09-01           6544\n",
      "57 2019-10-01           4837\n",
      "58 2019-11-01           3466\n",
      "59 2019-12-01           1968\n",
      "60 2020-01-01           8543\n",
      "61 2020-02-01           8156\n",
      "62 2020-03-01           7999\n",
      "63 2020-04-01           7650\n",
      "64 2020-05-01           8236\n",
      "65 2020-06-01           7714\n",
      "66 2020-07-01           5819\n",
      "67 2020-08-01           5556\n",
      "68 2020-09-01           4315\n",
      "69 2020-10-01           3227\n",
      "70 2020-11-01           2132\n",
      "71 2020-12-01            884\n"
     ]
    }
   ],
   "source": [
    "# groupby date and sum the sales item\n",
    "df_monthly = df_temp.copy()\n",
    "df_monthly = df_monthly.groupby('date').daily_sales.sum().reset_index()\n",
    "df_monthly.rename(columns={'daily_sales':'monthly_sales'}, inplace=True)\n",
    "print(\"Total rows: \", df_monthly.shape[0])\n",
    "\n",
    "# print all rows in dataframe\n",
    "pd.set_option(\"display.max_rows\", None, \"display.max_columns\", None)\n",
    "print(df_monthly)"
   ]
  },
  {
   "cell_type": "markdown",
   "metadata": {},
   "source": [
    "#### - Plot Monthly Sales Data"
   ]
  },
  {
   "cell_type": "code",
   "execution_count": 7,
   "metadata": {},
   "outputs": [
    {
     "data": {
      "text/plain": [
       "<matplotlib.legend.Legend at 0x2b808bea0b8>"
      ]
     },
     "execution_count": 7,
     "metadata": {},
     "output_type": "execute_result"
    },
    {
     "data": {
      "image/png": "[encoded data removed]",
      "text/plain": [
       "<Figure size 1440x360 with 1 Axes>"
      ]
     },
     "metadata": {
      "needs_background": "light"
     },
     "output_type": "display_data"
    }
   ],
   "source": [
    "plt.rc(\"font\", size=12)\n",
    "fig, ax = plt.subplots(figsize=(20,5))\n",
    "\n",
    "# specify how our line should look like\n",
    "ax.plot(df_monthly['date'], df_monthly['monthly_sales'], label=\"monthly_sales\")\n",
    "\n",
    "# same as above\n",
    "ax.set_xlabel(\"date\")\n",
    "ax.set_ylabel(\"monthly_sales\")\n",
    "ax.set_title(\"Monthly Sales of {}\".format(product[\"productName\"]))\n",
    "ax.grid(True)\n",
    "ax.legend(loc=\"upper left\")"
   ]
  },
  {
   "cell_type": "markdown",
   "metadata": {},
   "source": [
    "#### - Data Transformation\n",
    "\n",
    "As we can see, the data in the previous graph is not stationary yet and has a decreasing trend in the last few months. Here, we are using difference method to make the data stationary\n",
    "\n",
    "##### Ide dasar dari stasioneritas adalah hukum probabilitas mengharuskan proses tidak berubah sepanjang waktu, dengan kata lain proses dalam keadaan setimbang secara statistik (Cryer, 1986). Sekumpulan data dinyatakan stasioner jika nilai rata-rata dan varian dari data time series tersebut tidak mengalami perubahan secara sistematik sepanjang waktu, atau sebagian ahli menyatakan rata-rata dan variannya konstan (nachrowi dan haridus usman, 2006)."
   ]
  },
  {
   "cell_type": "code",
   "execution_count": 8,
   "metadata": {},
   "outputs": [],
   "source": [
    "# create a new dataframe to model the difference\n",
    "df_diff = df_monthly.copy()\n",
    "\n",
    "# implement the difference technique\n",
    "df_diff[\"prev_month_sales\"] = df_diff['monthly_sales'].shift(1)\n",
    "\n",
    "# drop the null values and calculate the difference \n",
    "df_diff = df_diff.dropna()\n",
    "df_diff['diff'] = (df_diff['monthly_sales'] - df_diff['prev_month_sales'])"
   ]
  },
  {
   "cell_type": "markdown",
   "metadata": {},
   "source": [
    "#### - Plot Stationary Data"
   ]
  },
  {
   "cell_type": "code",
   "execution_count": 9,
   "metadata": {},
   "outputs": [
    {
     "data": {
      "text/plain": [
       "<matplotlib.legend.Legend at 0x2b80b3ed748>"
      ]
     },
     "execution_count": 9,
     "metadata": {},
     "output_type": "execute_result"
    },
    {
     "data": {
      "image/png": "[encoded data removed]",
      "text/plain": [
       "<Figure size 720x360 with 1 Axes>"
      ]
     },
     "metadata": {
      "needs_background": "light"
     },
     "output_type": "display_data"
    }
   ],
   "source": [
    "plt.rc(\"font\", size=12)\n",
    "fig, ax = plt.subplots(figsize=(10,5))\n",
    "\n",
    "# specify how our line should look like\n",
    "ax.plot(df_diff['date'], df_diff['diff'], label=\"diff\")\n",
    "\n",
    "# same as above\n",
    "ax.set_xlabel(\"date\")\n",
    "ax.set_ylabel(\"diff\")\n",
    "ax.set_title(\"Monthly Sales Diff\")\n",
    "ax.grid(True)\n",
    "ax.legend(loc=\"upper left\")\n"
   ]
  },
  {
   "cell_type": "markdown",
   "metadata": {},
   "source": [
    "As we can see, the graph looks stationary after differentiating. Next we need to use our previous monthly sales data to predict the next ones. I'll use 12 look-back period for this sample"
   ]
  },
  {
   "cell_type": "code",
   "execution_count": 10,
   "metadata": {},
   "outputs": [],
   "source": [
    "#create dataframe for transformation from time series to supervised\n",
    "df_supervised = df_diff.drop(['prev_month_sales'],axis=1)\n",
    "\n",
    "#adding lags\n",
    "for i in range(1,13):\n",
    "    field_name = 'lag_' + str(i)\n",
    "    df_supervised[field_name] = df_supervised['diff'].shift(i)\n",
    "\n",
    "#drop null values\n",
    "df_supervised = df_supervised.dropna().reset_index(drop=True)"
   ]
  },
  {
   "cell_type": "code",
   "execution_count": 11,
   "metadata": {},
   "outputs": [],
   "source": [
    "# Import statsmodels.formula.api\n",
    "import statsmodels.formula.api as smf\n",
    "\n",
    "# Define the regression formula\n",
    "model = smf.ols(formula='diff ~ lag_1 + lag_2 + lag_3 + lag_4 + lag_5 + lag_6 + lag_7 + lag_8 + lag_9 + lag_10 + lag_11 + lag_12', data=df_supervised)\n",
    "\n",
    "# Fit the regression\n",
    "model_fit = model.fit()\n",
    "\n",
    "# Extract the adjusted r-squared\n",
    "regression_adj_rsq = model_fit.rsquared_adj\n",
    "# print(regression_adj_rsq)"
   ]
  },
  {
   "cell_type": "code",
   "execution_count": 12,
   "metadata": {},
   "outputs": [
    {
     "name": "stdout",
     "output_type": "stream",
     "text": [
      "features shape:  59\n"
     ]
    },
    {
     "data": {
      "text/html": [
       "<div>\n",
       "<style scoped>\n",
       "    .dataframe tbody tr th:only-of-type {\n",
       "        vertical-align: middle;\n",
       "    }\n",
       "\n",
       "    .dataframe tbody tr th {\n",
       "        vertical-align: top;\n",
       "    }\n",
       "\n",
       "    .dataframe thead th {\n",
       "        text-align: right;\n",
       "    }\n",
       "</style>\n",
       "<table border=\"1\" class=\"dataframe\">\n",
       "  <thead>\n",
       "    <tr style=\"text-align: right;\">\n",
       "      <th></th>\n",
       "      <th>diff</th>\n",
       "      <th>lag_1</th>\n",
       "      <th>lag_2</th>\n",
       "      <th>lag_3</th>\n",
       "      <th>lag_4</th>\n",
       "      <th>lag_5</th>\n",
       "      <th>lag_6</th>\n",
       "      <th>lag_7</th>\n",
       "      <th>lag_8</th>\n",
       "      <th>lag_9</th>\n",
       "      <th>lag_10</th>\n",
       "      <th>lag_11</th>\n",
       "      <th>lag_12</th>\n",
       "    </tr>\n",
       "  </thead>\n",
       "  <tbody>\n",
       "    <tr>\n",
       "      <th>0</th>\n",
       "      <td>327.0</td>\n",
       "      <td>8153.0</td>\n",
       "      <td>-1109.0</td>\n",
       "      <td>-451.0</td>\n",
       "      <td>-1487.0</td>\n",
       "      <td>-967.0</td>\n",
       "      <td>-1371.0</td>\n",
       "      <td>-953.0</td>\n",
       "      <td>-989.0</td>\n",
       "      <td>219.0</td>\n",
       "      <td>23.0</td>\n",
       "      <td>582.0</td>\n",
       "      <td>-729.0</td>\n",
       "    </tr>\n",
       "    <tr>\n",
       "      <th>1</th>\n",
       "      <td>-936.0</td>\n",
       "      <td>327.0</td>\n",
       "      <td>8153.0</td>\n",
       "      <td>-1109.0</td>\n",
       "      <td>-451.0</td>\n",
       "      <td>-1487.0</td>\n",
       "      <td>-967.0</td>\n",
       "      <td>-1371.0</td>\n",
       "      <td>-953.0</td>\n",
       "      <td>-989.0</td>\n",
       "      <td>219.0</td>\n",
       "      <td>23.0</td>\n",
       "      <td>582.0</td>\n",
       "    </tr>\n",
       "    <tr>\n",
       "      <th>2</th>\n",
       "      <td>585.0</td>\n",
       "      <td>-936.0</td>\n",
       "      <td>327.0</td>\n",
       "      <td>8153.0</td>\n",
       "      <td>-1109.0</td>\n",
       "      <td>-451.0</td>\n",
       "      <td>-1487.0</td>\n",
       "      <td>-967.0</td>\n",
       "      <td>-1371.0</td>\n",
       "      <td>-953.0</td>\n",
       "      <td>-989.0</td>\n",
       "      <td>219.0</td>\n",
       "      <td>23.0</td>\n",
       "    </tr>\n",
       "    <tr>\n",
       "      <th>3</th>\n",
       "      <td>-255.0</td>\n",
       "      <td>585.0</td>\n",
       "      <td>-936.0</td>\n",
       "      <td>327.0</td>\n",
       "      <td>8153.0</td>\n",
       "      <td>-1109.0</td>\n",
       "      <td>-451.0</td>\n",
       "      <td>-1487.0</td>\n",
       "      <td>-967.0</td>\n",
       "      <td>-1371.0</td>\n",
       "      <td>-953.0</td>\n",
       "      <td>-989.0</td>\n",
       "      <td>219.0</td>\n",
       "    </tr>\n",
       "    <tr>\n",
       "      <th>4</th>\n",
       "      <td>-154.0</td>\n",
       "      <td>-255.0</td>\n",
       "      <td>585.0</td>\n",
       "      <td>-936.0</td>\n",
       "      <td>327.0</td>\n",
       "      <td>8153.0</td>\n",
       "      <td>-1109.0</td>\n",
       "      <td>-451.0</td>\n",
       "      <td>-1487.0</td>\n",
       "      <td>-967.0</td>\n",
       "      <td>-1371.0</td>\n",
       "      <td>-953.0</td>\n",
       "      <td>-989.0</td>\n",
       "    </tr>\n",
       "  </tbody>\n",
       "</table>\n",
       "</div>"
      ],
      "text/plain": [
       "    diff   lag_1   lag_2   lag_3   lag_4   lag_5   lag_6   lag_7   lag_8  \\\n",
       "0  327.0  8153.0 -1109.0  -451.0 -1487.0  -967.0 -1371.0  -953.0  -989.0   \n",
       "1 -936.0   327.0  8153.0 -1109.0  -451.0 -1487.0  -967.0 -1371.0  -953.0   \n",
       "2  585.0  -936.0   327.0  8153.0 -1109.0  -451.0 -1487.0  -967.0 -1371.0   \n",
       "3 -255.0   585.0  -936.0   327.0  8153.0 -1109.0  -451.0 -1487.0  -967.0   \n",
       "4 -154.0  -255.0   585.0  -936.0   327.0  8153.0 -1109.0  -451.0 -1487.0   \n",
       "\n",
       "    lag_9  lag_10  lag_11  lag_12  \n",
       "0   219.0    23.0   582.0  -729.0  \n",
       "1  -989.0   219.0    23.0   582.0  \n",
       "2  -953.0  -989.0   219.0    23.0  \n",
       "3 -1371.0  -953.0  -989.0   219.0  \n",
       "4  -967.0 -1371.0  -953.0  -989.0  "
      ]
     },
     "execution_count": 12,
     "metadata": {},
     "output_type": "execute_result"
    }
   ],
   "source": [
    " #import MinMaxScaler and create a new dataframe for LSTM model\n",
    "from sklearn.preprocessing import MinMaxScaler\n",
    "\n",
    "df_model = df_supervised.drop(['date','monthly_sales'],axis=1)\n",
    "print(\"features shape: \", df_model.shape[0])\n",
    "df_model.head()"
   ]
  },
  {
   "cell_type": "code",
   "execution_count": 13,
   "metadata": {},
   "outputs": [
    {
     "data": {
      "text/html": [
       "<div>\n",
       "<style scoped>\n",
       "    .dataframe tbody tr th:only-of-type {\n",
       "        vertical-align: middle;\n",
       "    }\n",
       "\n",
       "    .dataframe tbody tr th {\n",
       "        vertical-align: top;\n",
       "    }\n",
       "\n",
       "    .dataframe thead th {\n",
       "        text-align: right;\n",
       "    }\n",
       "</style>\n",
       "<table border=\"1\" class=\"dataframe\">\n",
       "  <thead>\n",
       "    <tr style=\"text-align: right;\">\n",
       "      <th></th>\n",
       "      <th>diff</th>\n",
       "      <th>lag_1</th>\n",
       "      <th>lag_2</th>\n",
       "      <th>lag_3</th>\n",
       "      <th>lag_4</th>\n",
       "      <th>lag_5</th>\n",
       "      <th>lag_6</th>\n",
       "      <th>lag_7</th>\n",
       "      <th>lag_8</th>\n",
       "      <th>lag_9</th>\n",
       "      <th>lag_10</th>\n",
       "      <th>lag_11</th>\n",
       "      <th>lag_12</th>\n",
       "    </tr>\n",
       "  </thead>\n",
       "  <tbody>\n",
       "    <tr>\n",
       "      <th>53</th>\n",
       "      <td>-1895.0</td>\n",
       "      <td>-522.0</td>\n",
       "      <td>586.0</td>\n",
       "      <td>-349.0</td>\n",
       "      <td>-157.0</td>\n",
       "      <td>-387.0</td>\n",
       "      <td>6575.0</td>\n",
       "      <td>-1498.0</td>\n",
       "      <td>-1371.0</td>\n",
       "      <td>-1707.0</td>\n",
       "      <td>-1989.0</td>\n",
       "      <td>-744.0</td>\n",
       "      <td>-1225.0</td>\n",
       "    </tr>\n",
       "    <tr>\n",
       "      <th>54</th>\n",
       "      <td>-263.0</td>\n",
       "      <td>-1895.0</td>\n",
       "      <td>-522.0</td>\n",
       "      <td>586.0</td>\n",
       "      <td>-349.0</td>\n",
       "      <td>-157.0</td>\n",
       "      <td>-387.0</td>\n",
       "      <td>6575.0</td>\n",
       "      <td>-1498.0</td>\n",
       "      <td>-1371.0</td>\n",
       "      <td>-1707.0</td>\n",
       "      <td>-1989.0</td>\n",
       "      <td>-744.0</td>\n",
       "    </tr>\n",
       "    <tr>\n",
       "      <th>55</th>\n",
       "      <td>-1241.0</td>\n",
       "      <td>-263.0</td>\n",
       "      <td>-1895.0</td>\n",
       "      <td>-522.0</td>\n",
       "      <td>586.0</td>\n",
       "      <td>-349.0</td>\n",
       "      <td>-157.0</td>\n",
       "      <td>-387.0</td>\n",
       "      <td>6575.0</td>\n",
       "      <td>-1498.0</td>\n",
       "      <td>-1371.0</td>\n",
       "      <td>-1707.0</td>\n",
       "      <td>-1989.0</td>\n",
       "    </tr>\n",
       "    <tr>\n",
       "      <th>56</th>\n",
       "      <td>-1088.0</td>\n",
       "      <td>-1241.0</td>\n",
       "      <td>-263.0</td>\n",
       "      <td>-1895.0</td>\n",
       "      <td>-522.0</td>\n",
       "      <td>586.0</td>\n",
       "      <td>-349.0</td>\n",
       "      <td>-157.0</td>\n",
       "      <td>-387.0</td>\n",
       "      <td>6575.0</td>\n",
       "      <td>-1498.0</td>\n",
       "      <td>-1371.0</td>\n",
       "      <td>-1707.0</td>\n",
       "    </tr>\n",
       "    <tr>\n",
       "      <th>57</th>\n",
       "      <td>-1095.0</td>\n",
       "      <td>-1088.0</td>\n",
       "      <td>-1241.0</td>\n",
       "      <td>-263.0</td>\n",
       "      <td>-1895.0</td>\n",
       "      <td>-522.0</td>\n",
       "      <td>586.0</td>\n",
       "      <td>-349.0</td>\n",
       "      <td>-157.0</td>\n",
       "      <td>-387.0</td>\n",
       "      <td>6575.0</td>\n",
       "      <td>-1498.0</td>\n",
       "      <td>-1371.0</td>\n",
       "    </tr>\n",
       "    <tr>\n",
       "      <th>58</th>\n",
       "      <td>-1248.0</td>\n",
       "      <td>-1095.0</td>\n",
       "      <td>-1088.0</td>\n",
       "      <td>-1241.0</td>\n",
       "      <td>-263.0</td>\n",
       "      <td>-1895.0</td>\n",
       "      <td>-522.0</td>\n",
       "      <td>586.0</td>\n",
       "      <td>-349.0</td>\n",
       "      <td>-157.0</td>\n",
       "      <td>-387.0</td>\n",
       "      <td>6575.0</td>\n",
       "      <td>-1498.0</td>\n",
       "    </tr>\n",
       "  </tbody>\n",
       "</table>\n",
       "</div>"
      ],
      "text/plain": [
       "      diff   lag_1   lag_2   lag_3   lag_4   lag_5   lag_6   lag_7   lag_8  \\\n",
       "53 -1895.0  -522.0   586.0  -349.0  -157.0  -387.0  6575.0 -1498.0 -1371.0   \n",
       "54  -263.0 -1895.0  -522.0   586.0  -349.0  -157.0  -387.0  6575.0 -1498.0   \n",
       "55 -1241.0  -263.0 -1895.0  -522.0   586.0  -349.0  -157.0  -387.0  6575.0   \n",
       "56 -1088.0 -1241.0  -263.0 -1895.0  -522.0   586.0  -349.0  -157.0  -387.0   \n",
       "57 -1095.0 -1088.0 -1241.0  -263.0 -1895.0  -522.0   586.0  -349.0  -157.0   \n",
       "58 -1248.0 -1095.0 -1088.0 -1241.0  -263.0 -1895.0  -522.0   586.0  -349.0   \n",
       "\n",
       "     lag_9  lag_10  lag_11  lag_12  \n",
       "53 -1707.0 -1989.0  -744.0 -1225.0  \n",
       "54 -1371.0 -1707.0 -1989.0  -744.0  \n",
       "55 -1498.0 -1371.0 -1707.0 -1989.0  \n",
       "56  6575.0 -1498.0 -1371.0 -1707.0  \n",
       "57  -387.0  6575.0 -1498.0 -1371.0  \n",
       "58  -157.0  -387.0  6575.0 -1498.0  "
      ]
     },
     "execution_count": 13,
     "metadata": {},
     "output_type": "execute_result"
    }
   ],
   "source": [
    "df_model.tail(6)"
   ]
  },
  {
   "cell_type": "markdown",
   "metadata": {},
   "source": [
    "#### - Export features to csv file"
   ]
  },
  {
   "cell_type": "code",
   "execution_count": null,
   "metadata": {},
   "outputs": [],
   "source": [
    "df_model.to_csv(r\"C:/Users/ASUS/BANGKIT/TokoLitik/model_features.csv\", index = False, header=True)"
   ]
  },
  {
   "cell_type": "code",
   "execution_count": 14,
   "metadata": {},
   "outputs": [],
   "source": [
    "def data_preparation(data, steps):\n",
    "    x, y = [], []\n",
    "    for i in range(len(data)):\n",
    "        data_rng = i + steps\n",
    "        if data_rng > len(data)-1:\n",
    "            break\n",
    "        x_temp, y_temp = data[i:data_rng], data[data_rng]\n",
    "        x.append(x_temp)\n",
    "        y.append(y_temp)\n",
    "    return np.array(x), np.array(y)"
   ]
  },
  {
   "cell_type": "code",
   "execution_count": 17,
   "metadata": {},
   "outputs": [],
   "source": [
    "data = df_model.values\n",
    "steps = 6"
   ]
  },
  {
   "cell_type": "code",
   "execution_count": 18,
   "metadata": {},
   "outputs": [],
   "source": [
    "x_data, y_data = data_preparation(data, steps)"
   ]
  },
  {
   "cell_type": "markdown",
   "metadata": {},
   "source": [
    "#### - Split Train and Test Set"
   ]
  },
  {
   "cell_type": "code",
   "execution_count": null,
   "metadata": {
    "scrolled": true
   },
   "outputs": [],
   "source": [
    "#split train and test set\n",
    "train_set, test_set = df_model[0:-6].values, df_model[-6:].values\n",
    "print(test_set)"
   ]
  },
  {
   "cell_type": "code",
   "execution_count": null,
   "metadata": {},
   "outputs": [],
   "source": [
    "# apply MinMax Scaler\n",
    "scaler = MinMaxScaler(feature_range=(0, 1))\n",
    "scaler = scaler.fit(train_set)"
   ]
  },
  {
   "cell_type": "code",
   "execution_count": null,
   "metadata": {},
   "outputs": [],
   "source": [
    "# transform train_set\n",
    "train_set_scaled = scaler.transform(train_set)"
   ]
  },
  {
   "cell_type": "code",
   "execution_count": null,
   "metadata": {},
   "outputs": [],
   "source": [
    "# transform test set\n",
    "test_set_scaled = scaler.transform(test_set)"
   ]
  },
  {
   "cell_type": "code",
   "execution_count": null,
   "metadata": {},
   "outputs": [],
   "source": [
    "x_train, y_train = train_set_scaled[:, :-1], train_set_scaled[:, -1:]\n",
    "x_train = x_train.reshape(x_train.shape[0], 1, x_train.shape[1])\n",
    "\n",
    "\n",
    "x_test, y_test = test_set_scaled[:, :-1], test_set_scaled[:, -1:]\n",
    "x_test = x_test.reshape(x_test.shape[0], 1, x_test.shape[1])\n",
    "print(x_train.shape)\n",
    "print(y_train.shape)"
   ]
  },
  {
   "cell_type": "markdown",
   "metadata": {},
   "source": [
    "### 4. LSTM MODEL"
   ]
  },
  {
   "cell_type": "code",
   "execution_count": null,
   "metadata": {},
   "outputs": [],
   "source": [
    "import tensorflow as tf\n",
    "\n",
    "model = tf.keras.models.Sequential([\n",
    "            tf.keras.layers.LSTM(50, activation=\"relu\", return_sequences=True, input_shape=(1, 12)),\n",
    "            tf.keras.layers.LSTM(50, activation=\"relu\"),\n",
    "            tf.keras.layers.Dense(1)\n",
    "        ])\n",
    "\n",
    "model.compile(loss=\"mean_squared_error\", optimizer=\"adam\")\n",
    "model.fit(x_train, y_train, epochs=100, batch_size=1, verbose=1)"
   ]
  },
  {
   "cell_type": "code",
   "execution_count": null,
   "metadata": {},
   "outputs": [],
   "source": [
    "y_pred = model.predict(x_test, batch_size=1)"
   ]
  },
  {
   "cell_type": "code",
   "execution_count": null,
   "metadata": {},
   "outputs": [],
   "source": [
    "y_pred"
   ]
  },
  {
   "cell_type": "code",
   "execution_count": null,
   "metadata": {},
   "outputs": [],
   "source": [
    "y_test"
   ]
  },
  {
   "cell_type": "code",
   "execution_count": null,
   "metadata": {},
   "outputs": [],
   "source": [
    "#reshape y_pred\n",
    "y_pred = y_pred.reshape(y_pred.shape[0], 1, y_pred.shape[1])\n",
    "\n",
    "len(y_pred)\n",
    "#rebuild test set for inverse transform\n",
    "pred_test_set = []\n",
    "\n",
    "for index in range(0,len(y_pred)):\n",
    "    pred_test_set.append(np.concatenate([y_pred[index],x_test[index]],axis=1))\n",
    "\n",
    "#reshape pred_test_set\n",
    "pred_test_set = np.array(pred_test_set)\n",
    "pred_test_set = pred_test_set.reshape(pred_test_set.shape[0], pred_test_set.shape[2])\n",
    "\n",
    "#inverse transform\n",
    "pred_test_set_inverted = scaler.inverse_transform(pred_test_set)\n",
    "print(pred_test_set_inverted)"
   ]
  },
  {
   "cell_type": "code",
   "execution_count": null,
   "metadata": {},
   "outputs": [],
   "source": [
    "#create dataframe that shows the predicted sales\n",
    "result_list = []\n",
    "sales_dates = list(df_monthly[-7:].date)\n",
    "act_sales = list(df_monthly[-7:].monthly_sales)\n",
    "\n",
    "for index in range(0,len(pred_test_set_inverted)):\n",
    "    result_dict = {}\n",
    "    result_dict['pred_value'] = int(pred_test_set_inverted[index][0] + act_sales[index])\n",
    "    result_dict['date'] = sales_dates[index+1]\n",
    "    result_list.append(result_dict)\n",
    "df_result = pd.DataFrame(result_list)\n",
    "df_result.head(6)"
   ]
  },
  {
   "cell_type": "code",
   "execution_count": null,
   "metadata": {},
   "outputs": [],
   "source": [
    "df_monthly.tail(6)"
   ]
  },
  {
   "cell_type": "markdown",
   "metadata": {},
   "source": [
    "### 5. Plotting Predicted data\n",
    "\n",
    "Test set is the last 6 data in the monthly sales (2020-7-01 to 2020-12-01). We have passed the test set above in order to test how good our predict model is. The more similar the actual data to the predicted results, the better our model is.\n",
    "\n",
    "Here we will see how the predicted last 6 months drawn and compared with the actual 6 data in the monthly sales"
   ]
  },
  {
   "cell_type": "code",
   "execution_count": null,
   "metadata": {},
   "outputs": [],
   "source": [
    "df_sales_pred = pd.merge(df_monthly, df_result, on=\"date\", how=\"left\")\n",
    "\n",
    "plt.rc(\"font\", size=12)\n",
    "fig, ax = plt.subplots(figsize=(10,5))\n",
    "\n",
    "# specify how our line should look like\n",
    "ax.plot(df_sales_pred['date'], df_sales_pred['monthly_sales'], label=\"actual\")\n",
    "ax.plot(df_sales_pred['date'], df_sales_pred['pred_value'], label=\"predicted\")\n",
    "\n",
    "# same as above\n",
    "ax.set_xlabel(\"date\")\n",
    "ax.set_ylabel(\"sales\")\n",
    "ax.set_title(\"Sales Prediction\")\n",
    "ax.grid(True)\n",
    "ax.legend(loc=\"upper left\")"
   ]
  },
  {
   "cell_type": "markdown",
   "metadata": {},
   "source": [
    "## Now let's check how our entire dataset fit the model"
   ]
  },
  {
   "cell_type": "code",
   "execution_count": null,
   "metadata": {},
   "outputs": [],
   "source": [
    "dataset_values = df_model[1:].values\n",
    "dataset_scaler = MinMaxScaler(feature_range=(0,1))\n",
    "dataset_scaler = dataset_scaler.fit(dataset_values)\n",
    "\n",
    "test_set_scaled = dataset_scaler.transform(dataset_values)\n",
    "dataset_test = test_set_scaled[:, 1:]\n",
    "dataset_test = dataset_test.reshape(dataset_test.shape[0], 1, dataset_test.shape[1])\n",
    "print(dataset_test.shape)"
   ]
  },
  {
   "cell_type": "code",
   "execution_count": null,
   "metadata": {},
   "outputs": [],
   "source": [
    "y_pred = model.predict(dataset_test, batch_size=1)"
   ]
  },
  {
   "cell_type": "code",
   "execution_count": null,
   "metadata": {},
   "outputs": [],
   "source": [
    "y_pred"
   ]
  },
  {
   "cell_type": "code",
   "execution_count": null,
   "metadata": {},
   "outputs": [],
   "source": [
    "#reshape y_pred\n",
    "y_pred = y_pred.reshape(y_pred.shape[0], 1, y_pred.shape[1])\n",
    "\n",
    "len(y_pred)\n",
    "#rebuild test set for inverse transform\n",
    "pred_test_set = []\n",
    "\n",
    "for index in range(0,len(y_pred)):\n",
    "    pred_test_set.append(np.concatenate([y_pred[index],dataset_test[index]],axis=1))\n",
    "\n",
    "#reshape pred_test_set\n",
    "pred_test_set = np.array(pred_test_set)\n",
    "pred_test_set = pred_test_set.reshape(pred_test_set.shape[0], pred_test_set.shape[2])\n",
    "\n",
    "#inverse transform\n",
    "pred_test_set_inverted = scaler.inverse_transform(pred_test_set)\n",
    "len(pred_test_set_inverted)"
   ]
  },
  {
   "cell_type": "code",
   "execution_count": null,
   "metadata": {},
   "outputs": [],
   "source": [
    "#create dataframe that shows the predicted sales\n",
    "result_list = []\n",
    "sales_dates = list(df_monthly.date)\n",
    "act_sales = list(df_monthly.monthly_sales)\n",
    "\n",
    "for index in range(0,len(pred_test_set_inverted)):\n",
    "    result_dict = {}\n",
    "    result_dict['pred_value'] = int(pred_test_set_inverted[index][0] + act_sales[index])\n",
    "    result_dict['date'] = sales_dates[index+1]\n",
    "    result_list.append(result_dict)\n",
    "df_result = pd.DataFrame(result_list)\n",
    "df_result.head(6)"
   ]
  },
  {
   "cell_type": "code",
   "execution_count": null,
   "metadata": {},
   "outputs": [],
   "source": [
    "df_sales_pred = pd.merge(df_monthly, df_result, on=\"date\", how=\"left\")\n",
    "\n",
    "plt.rc(\"font\", size=12)\n",
    "fig, ax = plt.subplots(figsize=(10,5))\n",
    "\n",
    "# specify how our line should look like\n",
    "ax.plot(df_sales_pred['date'], df_sales_pred['monthly_sales'], label=\"actual\")\n",
    "ax.plot(df_sales_pred['date'], df_sales_pred['pred_value'], label=\"predicted\")\n",
    "\n",
    "# same as above\n",
    "ax.set_xlabel(\"date\")\n",
    "ax.set_ylabel(\"sales\")\n",
    "ax.set_title(\"Sales Prediction\")\n",
    "ax.grid(True)\n",
    "ax.legend(loc=\"upper left\")"
   ]
  },
  {
   "cell_type": "markdown",
   "metadata": {},
   "source": [
    "## Export Model"
   ]
  },
  {
   "cell_type": "code",
   "execution_count": null,
   "metadata": {},
   "outputs": [],
   "source": [
    "saved_model_path = \"C:/Users/ASUS/BANGKIT/TokoLitik/transaction_model.h5\"\n",
    "\n",
    "# save model\n",
    "model.save(saved_model_path)"
   ]
  },
  {
   "cell_type": "code",
   "execution_count": null,
   "metadata": {},
   "outputs": [],
   "source": []
  }
 ],
 "metadata": {
  "kernelspec": {
   "display_name": "Python 3",
   "language": "python",
   "name": "python3"
  },
  "language_info": {
   "codemirror_mode": {
    "name": "ipython",
    "version": 3
   },
   "file_extension": ".py",
   "mimetype": "text/x-python",
   "name": "python",
   "nbconvert_exporter": "python",
   "pygments_lexer": "ipython3",
   "version": "3.7.1"
  }
 },
 "nbformat": 4,
 "nbformat_minor": 2
}
